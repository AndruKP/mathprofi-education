{
 "cells": [
  {
   "cell_type": "code",
   "execution_count": 2,
   "metadata": {},
   "outputs": [],
   "source": [
    "import pandas as pd\n",
    "import numpy as np\n",
    "import matplotlib.pyplot as plt\n",
    "import seaborn as sns\n",
    "import random\n",
    "import scipy.stats\n",
    "import geopandas as gpd\n",
    "%matplotlib inline\n",
    "from IPython.display import Markdown\n",
    "from functools import reduce\n",
    "from dash import Dash, dcc, html, Input, Output\n",
    "import plotly.express as px\n",
    "import plotly.graph_objects as go"
   ]
  },
  {
   "cell_type": "code",
   "execution_count": 3,
   "metadata": {},
   "outputs": [
    {
     "data": {
      "text/html": [
       "<div>\n",
       "<style scoped>\n",
       "    .dataframe tbody tr th:only-of-type {\n",
       "        vertical-align: middle;\n",
       "    }\n",
       "\n",
       "    .dataframe tbody tr th {\n",
       "        vertical-align: top;\n",
       "    }\n",
       "\n",
       "    .dataframe thead th {\n",
       "        text-align: right;\n",
       "    }\n",
       "</style>\n",
       "<table border=\"1\" class=\"dataframe\">\n",
       "  <thead>\n",
       "    <tr style=\"text-align: right;\">\n",
       "      <th></th>\n",
       "      <th>Kód štátu</th>\n",
       "      <th>Názov štátu</th>\n",
       "      <th>Kód oblasti</th>\n",
       "      <th>Kód kraja</th>\n",
       "      <th>Názov oblasti</th>\n",
       "      <th>Názov kraja</th>\n",
       "      <th>Pohlavie</th>\n",
       "      <th>Vek</th>\n",
       "      <th>Vzdelanie</th>\n",
       "      <th>Súčasná ekonomická aktivita</th>\n",
       "      <th>abs.</th>\n",
       "    </tr>\n",
       "  </thead>\n",
       "  <tbody>\n",
       "    <tr>\n",
       "      <th>0</th>\n",
       "      <td>SK0</td>\n",
       "      <td>Slovenská republika</td>\n",
       "      <td>SK01</td>\n",
       "      <td>SK010</td>\n",
       "      <td>Bratislavský kraj</td>\n",
       "      <td>Bratislavský kraj</td>\n",
       "      <td>muž</td>\n",
       "      <td>0</td>\n",
       "      <td>bez ukončeného vzdelania – osoby vo veku 0-14 ...</td>\n",
       "      <td>dieťa do začatia povinnej školskej dochádzky</td>\n",
       "      <td>4261</td>\n",
       "    </tr>\n",
       "    <tr>\n",
       "      <th>1</th>\n",
       "      <td>SK0</td>\n",
       "      <td>Slovenská republika</td>\n",
       "      <td>SK01</td>\n",
       "      <td>SK010</td>\n",
       "      <td>Bratislavský kraj</td>\n",
       "      <td>Bratislavský kraj</td>\n",
       "      <td>muž</td>\n",
       "      <td>1</td>\n",
       "      <td>bez ukončeného vzdelania – osoby vo veku 0-14 ...</td>\n",
       "      <td>dieťa do začatia povinnej školskej dochádzky</td>\n",
       "      <td>4464</td>\n",
       "    </tr>\n",
       "    <tr>\n",
       "      <th>2</th>\n",
       "      <td>SK0</td>\n",
       "      <td>Slovenská republika</td>\n",
       "      <td>SK01</td>\n",
       "      <td>SK010</td>\n",
       "      <td>Bratislavský kraj</td>\n",
       "      <td>Bratislavský kraj</td>\n",
       "      <td>muž</td>\n",
       "      <td>2</td>\n",
       "      <td>bez ukončeného vzdelania – osoby vo veku 0-14 ...</td>\n",
       "      <td>dieťa do začatia povinnej školskej dochádzky</td>\n",
       "      <td>4834</td>\n",
       "    </tr>\n",
       "    <tr>\n",
       "      <th>3</th>\n",
       "      <td>SK0</td>\n",
       "      <td>Slovenská republika</td>\n",
       "      <td>SK01</td>\n",
       "      <td>SK010</td>\n",
       "      <td>Bratislavský kraj</td>\n",
       "      <td>Bratislavský kraj</td>\n",
       "      <td>muž</td>\n",
       "      <td>3</td>\n",
       "      <td>bez ukončeného vzdelania – osoby vo veku 0-14 ...</td>\n",
       "      <td>dieťa do začatia povinnej školskej dochádzky</td>\n",
       "      <td>4736</td>\n",
       "    </tr>\n",
       "    <tr>\n",
       "      <th>4</th>\n",
       "      <td>SK0</td>\n",
       "      <td>Slovenská republika</td>\n",
       "      <td>SK01</td>\n",
       "      <td>SK010</td>\n",
       "      <td>Bratislavský kraj</td>\n",
       "      <td>Bratislavský kraj</td>\n",
       "      <td>muž</td>\n",
       "      <td>4</td>\n",
       "      <td>bez ukončeného vzdelania – osoby vo veku 0-14 ...</td>\n",
       "      <td>dieťa do začatia povinnej školskej dochádzky</td>\n",
       "      <td>4650</td>\n",
       "    </tr>\n",
       "    <tr>\n",
       "      <th>...</th>\n",
       "      <td>...</td>\n",
       "      <td>...</td>\n",
       "      <td>...</td>\n",
       "      <td>...</td>\n",
       "      <td>...</td>\n",
       "      <td>...</td>\n",
       "      <td>...</td>\n",
       "      <td>...</td>\n",
       "      <td>...</td>\n",
       "      <td>...</td>\n",
       "      <td>...</td>\n",
       "    </tr>\n",
       "    <tr>\n",
       "      <th>91591</th>\n",
       "      <td>SK0</td>\n",
       "      <td>Slovenská republika</td>\n",
       "      <td>SK04</td>\n",
       "      <td>SK042</td>\n",
       "      <td>Východné Slovensko</td>\n",
       "      <td>Košický kraj</td>\n",
       "      <td>žena</td>\n",
       "      <td>90</td>\n",
       "      <td>vysokoškolské vzdelanie (bližšie neuvedené)</td>\n",
       "      <td>dôchodca</td>\n",
       "      <td>3</td>\n",
       "    </tr>\n",
       "    <tr>\n",
       "      <th>91592</th>\n",
       "      <td>SK0</td>\n",
       "      <td>Slovenská republika</td>\n",
       "      <td>SK04</td>\n",
       "      <td>SK042</td>\n",
       "      <td>Východné Slovensko</td>\n",
       "      <td>Košický kraj</td>\n",
       "      <td>žena</td>\n",
       "      <td>90</td>\n",
       "      <td>vysokoškolské vzdelanie - 1. stupeň (Bc.)</td>\n",
       "      <td>dôchodca</td>\n",
       "      <td>9</td>\n",
       "    </tr>\n",
       "    <tr>\n",
       "      <th>91593</th>\n",
       "      <td>SK0</td>\n",
       "      <td>Slovenská republika</td>\n",
       "      <td>SK04</td>\n",
       "      <td>SK042</td>\n",
       "      <td>Východné Slovensko</td>\n",
       "      <td>Košický kraj</td>\n",
       "      <td>žena</td>\n",
       "      <td>90</td>\n",
       "      <td>vysokoškolské vzdelanie - 2. stupeň (Ing.; Mgr...</td>\n",
       "      <td>dôchodca</td>\n",
       "      <td>37</td>\n",
       "    </tr>\n",
       "    <tr>\n",
       "      <th>91594</th>\n",
       "      <td>SK0</td>\n",
       "      <td>Slovenská republika</td>\n",
       "      <td>SK04</td>\n",
       "      <td>SK042</td>\n",
       "      <td>Východné Slovensko</td>\n",
       "      <td>Košický kraj</td>\n",
       "      <td>žena</td>\n",
       "      <td>90</td>\n",
       "      <td>vysokoškolské vzdelanie - 3. stupeň (PhD.; a i.)</td>\n",
       "      <td>dôchodca</td>\n",
       "      <td>8</td>\n",
       "    </tr>\n",
       "    <tr>\n",
       "      <th>91595</th>\n",
       "      <td>SK0</td>\n",
       "      <td>Slovenská republika</td>\n",
       "      <td>SK04</td>\n",
       "      <td>SK042</td>\n",
       "      <td>Východné Slovensko</td>\n",
       "      <td>Košický kraj</td>\n",
       "      <td>žena</td>\n",
       "      <td>90</td>\n",
       "      <td>bez školského vzdelania – osoby vo veku 15 rok...</td>\n",
       "      <td>dôchodca</td>\n",
       "      <td>8</td>\n",
       "    </tr>\n",
       "  </tbody>\n",
       "</table>\n",
       "<p>91596 rows × 11 columns</p>\n",
       "</div>"
      ],
      "text/plain": [
       "      Kód štátu          Názov štátu Kód oblasti Kód kraja  \\\n",
       "0           SK0  Slovenská republika        SK01     SK010   \n",
       "1           SK0  Slovenská republika        SK01     SK010   \n",
       "2           SK0  Slovenská republika        SK01     SK010   \n",
       "3           SK0  Slovenská republika        SK01     SK010   \n",
       "4           SK0  Slovenská republika        SK01     SK010   \n",
       "...         ...                  ...         ...       ...   \n",
       "91591       SK0  Slovenská republika        SK04     SK042   \n",
       "91592       SK0  Slovenská republika        SK04     SK042   \n",
       "91593       SK0  Slovenská republika        SK04     SK042   \n",
       "91594       SK0  Slovenská republika        SK04     SK042   \n",
       "91595       SK0  Slovenská republika        SK04     SK042   \n",
       "\n",
       "            Názov oblasti        Názov kraja Pohlavie  Vek  \\\n",
       "0       Bratislavský kraj  Bratislavský kraj      muž    0   \n",
       "1       Bratislavský kraj  Bratislavský kraj      muž    1   \n",
       "2       Bratislavský kraj  Bratislavský kraj      muž    2   \n",
       "3       Bratislavský kraj  Bratislavský kraj      muž    3   \n",
       "4       Bratislavský kraj  Bratislavský kraj      muž    4   \n",
       "...                   ...                ...      ...  ...   \n",
       "91591  Východné Slovensko       Košický kraj     žena   90   \n",
       "91592  Východné Slovensko       Košický kraj     žena   90   \n",
       "91593  Východné Slovensko       Košický kraj     žena   90   \n",
       "91594  Východné Slovensko       Košický kraj     žena   90   \n",
       "91595  Východné Slovensko       Košický kraj     žena   90   \n",
       "\n",
       "                                               Vzdelanie  \\\n",
       "0      bez ukončeného vzdelania – osoby vo veku 0-14 ...   \n",
       "1      bez ukončeného vzdelania – osoby vo veku 0-14 ...   \n",
       "2      bez ukončeného vzdelania – osoby vo veku 0-14 ...   \n",
       "3      bez ukončeného vzdelania – osoby vo veku 0-14 ...   \n",
       "4      bez ukončeného vzdelania – osoby vo veku 0-14 ...   \n",
       "...                                                  ...   \n",
       "91591        vysokoškolské vzdelanie (bližšie neuvedené)   \n",
       "91592          vysokoškolské vzdelanie - 1. stupeň (Bc.)   \n",
       "91593  vysokoškolské vzdelanie - 2. stupeň (Ing.; Mgr...   \n",
       "91594   vysokoškolské vzdelanie - 3. stupeň (PhD.; a i.)   \n",
       "91595  bez školského vzdelania – osoby vo veku 15 rok...   \n",
       "\n",
       "                        Súčasná ekonomická aktivita  abs.  \n",
       "0      dieťa do začatia povinnej školskej dochádzky  4261  \n",
       "1      dieťa do začatia povinnej školskej dochádzky  4464  \n",
       "2      dieťa do začatia povinnej školskej dochádzky  4834  \n",
       "3      dieťa do začatia povinnej školskej dochádzky  4736  \n",
       "4      dieťa do začatia povinnej školskej dochádzky  4650  \n",
       "...                                             ...   ...  \n",
       "91591                                      dôchodca     3  \n",
       "91592                                      dôchodca     9  \n",
       "91593                                      dôchodca    37  \n",
       "91594                                      dôchodca     8  \n",
       "91595                                      dôchodca     8  \n",
       "\n",
       "[91596 rows x 11 columns]"
      ]
     },
     "execution_count": 3,
     "metadata": {},
     "output_type": "execute_result"
    }
   ],
   "source": [
    "from preprocessing import rename_columns, replace_with_nan\n",
    "table_40 = pd.read_csv('data/RV_O_040_R_KR_SK.CSV', sep=';')\n",
    "table_40['Vek'] = pd.to_numeric(table_40['Vek'].replace('90 a viac rokov', '90'))\n",
    "table_40 = replace_with_nan(table_40)\n",
    "table_40"
   ]
  },
  {
   "cell_type": "code",
   "execution_count": 4,
   "metadata": {},
   "outputs": [
    {
     "data": {
      "application/vnd.plotly.v1+json": {
       "config": {
        "plotlyServerURL": "https://plot.ly"
       },
       "data": [
        {
         "hovertemplate": "Pohlavie=muž<br>Vek=%{x}<br>count=%{y}<extra></extra>",
         "legendgroup": "muž",
         "line": {
          "color": "#636efa",
          "dash": "solid"
         },
         "marker": {
          "symbol": "circle"
         },
         "mode": "lines",
         "name": "muž",
         "orientation": "v",
         "showlegend": true,
         "type": "scatter",
         "x": [
          18,
          19,
          20,
          21,
          22,
          23,
          24,
          25,
          26,
          27,
          28,
          29,
          30,
          31,
          32,
          33,
          34,
          35,
          36,
          37,
          38,
          39,
          40,
          41,
          42,
          43,
          44,
          45,
          46,
          47,
          48,
          49,
          50,
          51,
          52,
          53,
          54,
          55,
          56,
          57,
          58,
          59,
          60,
          61,
          62,
          63,
          64,
          65,
          66,
          67,
          68,
          69,
          70,
          71,
          72,
          73,
          74,
          75,
          76,
          77,
          78,
          79,
          80,
          81,
          82,
          83,
          84,
          85,
          86,
          87,
          88,
          89,
          90
         ],
         "xaxis": "x",
         "y": [
          7,
          43,
          99,
          192,
          2479,
          4790,
          4242,
          2833,
          2254,
          2097,
          2038,
          2140,
          2088,
          2010,
          1971,
          1868,
          1848,
          1739,
          1514,
          1350,
          1252,
          1168,
          1207,
          1136,
          1063,
          989,
          922,
          834,
          632,
          647,
          523,
          457,
          417,
          409,
          281,
          290,
          278,
          293,
          255,
          243,
          214,
          215,
          213,
          186,
          149,
          166,
          194,
          187,
          158,
          143,
          151,
          117,
          144,
          104,
          88,
          85,
          73,
          66,
          72,
          54,
          70,
          69,
          60,
          52,
          50,
          34,
          37,
          30,
          30,
          19,
          28,
          10,
          48
         ],
         "yaxis": "y"
        },
        {
         "hovertemplate": "Pohlavie=žena<br>Vek=%{x}<br>count=%{y}<extra></extra>",
         "legendgroup": "žena",
         "line": {
          "color": "#EF553B",
          "dash": "solid"
         },
         "marker": {
          "symbol": "circle"
         },
         "mode": "lines",
         "name": "žena",
         "orientation": "v",
         "showlegend": true,
         "type": "scatter",
         "x": [
          18,
          19,
          20,
          21,
          22,
          23,
          24,
          25,
          26,
          27,
          28,
          29,
          30,
          31,
          32,
          33,
          34,
          35,
          36,
          37,
          38,
          39,
          40,
          41,
          42,
          43,
          44,
          45,
          46,
          47,
          48,
          49,
          50,
          51,
          52,
          53,
          54,
          55,
          56,
          57,
          58,
          59,
          60,
          61,
          62,
          63,
          64,
          65,
          66,
          67,
          68,
          69,
          70,
          71,
          72,
          73,
          74,
          75,
          76,
          77,
          78,
          79,
          80,
          81,
          82,
          83,
          84,
          85,
          86,
          87,
          88,
          89,
          90
         ],
         "xaxis": "x",
         "y": [
          8,
          47,
          130,
          285,
          4426,
          7923,
          6316,
          4485,
          3511,
          3326,
          3170,
          3215,
          3128,
          2975,
          2927,
          2775,
          2677,
          2377,
          2049,
          2014,
          1867,
          1858,
          1807,
          1879,
          1830,
          1743,
          1678,
          1484,
          1369,
          1246,
          1172,
          967,
          871,
          752,
          661,
          719,
          668,
          682,
          619,
          595,
          501,
          494,
          449,
          400,
          368,
          360,
          336,
          254,
          239,
          252,
          163,
          139,
          110,
          96,
          93,
          58,
          70,
          83,
          102,
          76,
          73,
          54,
          69,
          74,
          47,
          58,
          47,
          32,
          27,
          17,
          23,
          18,
          53
         ],
         "yaxis": "y"
        }
       ],
       "layout": {
        "legend": {
         "title": {
          "text": "Pohlavie"
         },
         "tracegroupgap": 0
        },
        "margin": {
         "t": 60
        },
        "template": {
         "data": {
          "bar": [
           {
            "error_x": {
             "color": "#2a3f5f"
            },
            "error_y": {
             "color": "#2a3f5f"
            },
            "marker": {
             "line": {
              "color": "#E5ECF6",
              "width": 0.5
             },
             "pattern": {
              "fillmode": "overlay",
              "size": 10,
              "solidity": 0.2
             }
            },
            "type": "bar"
           }
          ],
          "barpolar": [
           {
            "marker": {
             "line": {
              "color": "#E5ECF6",
              "width": 0.5
             },
             "pattern": {
              "fillmode": "overlay",
              "size": 10,
              "solidity": 0.2
             }
            },
            "type": "barpolar"
           }
          ],
          "carpet": [
           {
            "aaxis": {
             "endlinecolor": "#2a3f5f",
             "gridcolor": "white",
             "linecolor": "white",
             "minorgridcolor": "white",
             "startlinecolor": "#2a3f5f"
            },
            "baxis": {
             "endlinecolor": "#2a3f5f",
             "gridcolor": "white",
             "linecolor": "white",
             "minorgridcolor": "white",
             "startlinecolor": "#2a3f5f"
            },
            "type": "carpet"
           }
          ],
          "choropleth": [
           {
            "colorbar": {
             "outlinewidth": 0,
             "ticks": ""
            },
            "type": "choropleth"
           }
          ],
          "contour": [
           {
            "colorbar": {
             "outlinewidth": 0,
             "ticks": ""
            },
            "colorscale": [
             [
              0,
              "#0d0887"
             ],
             [
              0.1111111111111111,
              "#46039f"
             ],
             [
              0.2222222222222222,
              "#7201a8"
             ],
             [
              0.3333333333333333,
              "#9c179e"
             ],
             [
              0.4444444444444444,
              "#bd3786"
             ],
             [
              0.5555555555555556,
              "#d8576b"
             ],
             [
              0.6666666666666666,
              "#ed7953"
             ],
             [
              0.7777777777777778,
              "#fb9f3a"
             ],
             [
              0.8888888888888888,
              "#fdca26"
             ],
             [
              1,
              "#f0f921"
             ]
            ],
            "type": "contour"
           }
          ],
          "contourcarpet": [
           {
            "colorbar": {
             "outlinewidth": 0,
             "ticks": ""
            },
            "type": "contourcarpet"
           }
          ],
          "heatmap": [
           {
            "colorbar": {
             "outlinewidth": 0,
             "ticks": ""
            },
            "colorscale": [
             [
              0,
              "#0d0887"
             ],
             [
              0.1111111111111111,
              "#46039f"
             ],
             [
              0.2222222222222222,
              "#7201a8"
             ],
             [
              0.3333333333333333,
              "#9c179e"
             ],
             [
              0.4444444444444444,
              "#bd3786"
             ],
             [
              0.5555555555555556,
              "#d8576b"
             ],
             [
              0.6666666666666666,
              "#ed7953"
             ],
             [
              0.7777777777777778,
              "#fb9f3a"
             ],
             [
              0.8888888888888888,
              "#fdca26"
             ],
             [
              1,
              "#f0f921"
             ]
            ],
            "type": "heatmap"
           }
          ],
          "heatmapgl": [
           {
            "colorbar": {
             "outlinewidth": 0,
             "ticks": ""
            },
            "colorscale": [
             [
              0,
              "#0d0887"
             ],
             [
              0.1111111111111111,
              "#46039f"
             ],
             [
              0.2222222222222222,
              "#7201a8"
             ],
             [
              0.3333333333333333,
              "#9c179e"
             ],
             [
              0.4444444444444444,
              "#bd3786"
             ],
             [
              0.5555555555555556,
              "#d8576b"
             ],
             [
              0.6666666666666666,
              "#ed7953"
             ],
             [
              0.7777777777777778,
              "#fb9f3a"
             ],
             [
              0.8888888888888888,
              "#fdca26"
             ],
             [
              1,
              "#f0f921"
             ]
            ],
            "type": "heatmapgl"
           }
          ],
          "histogram": [
           {
            "marker": {
             "pattern": {
              "fillmode": "overlay",
              "size": 10,
              "solidity": 0.2
             }
            },
            "type": "histogram"
           }
          ],
          "histogram2d": [
           {
            "colorbar": {
             "outlinewidth": 0,
             "ticks": ""
            },
            "colorscale": [
             [
              0,
              "#0d0887"
             ],
             [
              0.1111111111111111,
              "#46039f"
             ],
             [
              0.2222222222222222,
              "#7201a8"
             ],
             [
              0.3333333333333333,
              "#9c179e"
             ],
             [
              0.4444444444444444,
              "#bd3786"
             ],
             [
              0.5555555555555556,
              "#d8576b"
             ],
             [
              0.6666666666666666,
              "#ed7953"
             ],
             [
              0.7777777777777778,
              "#fb9f3a"
             ],
             [
              0.8888888888888888,
              "#fdca26"
             ],
             [
              1,
              "#f0f921"
             ]
            ],
            "type": "histogram2d"
           }
          ],
          "histogram2dcontour": [
           {
            "colorbar": {
             "outlinewidth": 0,
             "ticks": ""
            },
            "colorscale": [
             [
              0,
              "#0d0887"
             ],
             [
              0.1111111111111111,
              "#46039f"
             ],
             [
              0.2222222222222222,
              "#7201a8"
             ],
             [
              0.3333333333333333,
              "#9c179e"
             ],
             [
              0.4444444444444444,
              "#bd3786"
             ],
             [
              0.5555555555555556,
              "#d8576b"
             ],
             [
              0.6666666666666666,
              "#ed7953"
             ],
             [
              0.7777777777777778,
              "#fb9f3a"
             ],
             [
              0.8888888888888888,
              "#fdca26"
             ],
             [
              1,
              "#f0f921"
             ]
            ],
            "type": "histogram2dcontour"
           }
          ],
          "mesh3d": [
           {
            "colorbar": {
             "outlinewidth": 0,
             "ticks": ""
            },
            "type": "mesh3d"
           }
          ],
          "parcoords": [
           {
            "line": {
             "colorbar": {
              "outlinewidth": 0,
              "ticks": ""
             }
            },
            "type": "parcoords"
           }
          ],
          "pie": [
           {
            "automargin": true,
            "type": "pie"
           }
          ],
          "scatter": [
           {
            "fillpattern": {
             "fillmode": "overlay",
             "size": 10,
             "solidity": 0.2
            },
            "type": "scatter"
           }
          ],
          "scatter3d": [
           {
            "line": {
             "colorbar": {
              "outlinewidth": 0,
              "ticks": ""
             }
            },
            "marker": {
             "colorbar": {
              "outlinewidth": 0,
              "ticks": ""
             }
            },
            "type": "scatter3d"
           }
          ],
          "scattercarpet": [
           {
            "marker": {
             "colorbar": {
              "outlinewidth": 0,
              "ticks": ""
             }
            },
            "type": "scattercarpet"
           }
          ],
          "scattergeo": [
           {
            "marker": {
             "colorbar": {
              "outlinewidth": 0,
              "ticks": ""
             }
            },
            "type": "scattergeo"
           }
          ],
          "scattergl": [
           {
            "marker": {
             "colorbar": {
              "outlinewidth": 0,
              "ticks": ""
             }
            },
            "type": "scattergl"
           }
          ],
          "scattermapbox": [
           {
            "marker": {
             "colorbar": {
              "outlinewidth": 0,
              "ticks": ""
             }
            },
            "type": "scattermapbox"
           }
          ],
          "scatterpolar": [
           {
            "marker": {
             "colorbar": {
              "outlinewidth": 0,
              "ticks": ""
             }
            },
            "type": "scatterpolar"
           }
          ],
          "scatterpolargl": [
           {
            "marker": {
             "colorbar": {
              "outlinewidth": 0,
              "ticks": ""
             }
            },
            "type": "scatterpolargl"
           }
          ],
          "scatterternary": [
           {
            "marker": {
             "colorbar": {
              "outlinewidth": 0,
              "ticks": ""
             }
            },
            "type": "scatterternary"
           }
          ],
          "surface": [
           {
            "colorbar": {
             "outlinewidth": 0,
             "ticks": ""
            },
            "colorscale": [
             [
              0,
              "#0d0887"
             ],
             [
              0.1111111111111111,
              "#46039f"
             ],
             [
              0.2222222222222222,
              "#7201a8"
             ],
             [
              0.3333333333333333,
              "#9c179e"
             ],
             [
              0.4444444444444444,
              "#bd3786"
             ],
             [
              0.5555555555555556,
              "#d8576b"
             ],
             [
              0.6666666666666666,
              "#ed7953"
             ],
             [
              0.7777777777777778,
              "#fb9f3a"
             ],
             [
              0.8888888888888888,
              "#fdca26"
             ],
             [
              1,
              "#f0f921"
             ]
            ],
            "type": "surface"
           }
          ],
          "table": [
           {
            "cells": {
             "fill": {
              "color": "#EBF0F8"
             },
             "line": {
              "color": "white"
             }
            },
            "header": {
             "fill": {
              "color": "#C8D4E3"
             },
             "line": {
              "color": "white"
             }
            },
            "type": "table"
           }
          ]
         },
         "layout": {
          "annotationdefaults": {
           "arrowcolor": "#2a3f5f",
           "arrowhead": 0,
           "arrowwidth": 1
          },
          "autotypenumbers": "strict",
          "coloraxis": {
           "colorbar": {
            "outlinewidth": 0,
            "ticks": ""
           }
          },
          "colorscale": {
           "diverging": [
            [
             0,
             "#8e0152"
            ],
            [
             0.1,
             "#c51b7d"
            ],
            [
             0.2,
             "#de77ae"
            ],
            [
             0.3,
             "#f1b6da"
            ],
            [
             0.4,
             "#fde0ef"
            ],
            [
             0.5,
             "#f7f7f7"
            ],
            [
             0.6,
             "#e6f5d0"
            ],
            [
             0.7,
             "#b8e186"
            ],
            [
             0.8,
             "#7fbc41"
            ],
            [
             0.9,
             "#4d9221"
            ],
            [
             1,
             "#276419"
            ]
           ],
           "sequential": [
            [
             0,
             "#0d0887"
            ],
            [
             0.1111111111111111,
             "#46039f"
            ],
            [
             0.2222222222222222,
             "#7201a8"
            ],
            [
             0.3333333333333333,
             "#9c179e"
            ],
            [
             0.4444444444444444,
             "#bd3786"
            ],
            [
             0.5555555555555556,
             "#d8576b"
            ],
            [
             0.6666666666666666,
             "#ed7953"
            ],
            [
             0.7777777777777778,
             "#fb9f3a"
            ],
            [
             0.8888888888888888,
             "#fdca26"
            ],
            [
             1,
             "#f0f921"
            ]
           ],
           "sequentialminus": [
            [
             0,
             "#0d0887"
            ],
            [
             0.1111111111111111,
             "#46039f"
            ],
            [
             0.2222222222222222,
             "#7201a8"
            ],
            [
             0.3333333333333333,
             "#9c179e"
            ],
            [
             0.4444444444444444,
             "#bd3786"
            ],
            [
             0.5555555555555556,
             "#d8576b"
            ],
            [
             0.6666666666666666,
             "#ed7953"
            ],
            [
             0.7777777777777778,
             "#fb9f3a"
            ],
            [
             0.8888888888888888,
             "#fdca26"
            ],
            [
             1,
             "#f0f921"
            ]
           ]
          },
          "colorway": [
           "#636efa",
           "#EF553B",
           "#00cc96",
           "#ab63fa",
           "#FFA15A",
           "#19d3f3",
           "#FF6692",
           "#B6E880",
           "#FF97FF",
           "#FECB52"
          ],
          "font": {
           "color": "#2a3f5f"
          },
          "geo": {
           "bgcolor": "white",
           "lakecolor": "white",
           "landcolor": "#E5ECF6",
           "showlakes": true,
           "showland": true,
           "subunitcolor": "white"
          },
          "hoverlabel": {
           "align": "left"
          },
          "hovermode": "closest",
          "mapbox": {
           "style": "light"
          },
          "paper_bgcolor": "white",
          "plot_bgcolor": "#E5ECF6",
          "polar": {
           "angularaxis": {
            "gridcolor": "white",
            "linecolor": "white",
            "ticks": ""
           },
           "bgcolor": "#E5ECF6",
           "radialaxis": {
            "gridcolor": "white",
            "linecolor": "white",
            "ticks": ""
           }
          },
          "scene": {
           "xaxis": {
            "backgroundcolor": "#E5ECF6",
            "gridcolor": "white",
            "gridwidth": 2,
            "linecolor": "white",
            "showbackground": true,
            "ticks": "",
            "zerolinecolor": "white"
           },
           "yaxis": {
            "backgroundcolor": "#E5ECF6",
            "gridcolor": "white",
            "gridwidth": 2,
            "linecolor": "white",
            "showbackground": true,
            "ticks": "",
            "zerolinecolor": "white"
           },
           "zaxis": {
            "backgroundcolor": "#E5ECF6",
            "gridcolor": "white",
            "gridwidth": 2,
            "linecolor": "white",
            "showbackground": true,
            "ticks": "",
            "zerolinecolor": "white"
           }
          },
          "shapedefaults": {
           "line": {
            "color": "#2a3f5f"
           }
          },
          "ternary": {
           "aaxis": {
            "gridcolor": "white",
            "linecolor": "white",
            "ticks": ""
           },
           "baxis": {
            "gridcolor": "white",
            "linecolor": "white",
            "ticks": ""
           },
           "bgcolor": "#E5ECF6",
           "caxis": {
            "gridcolor": "white",
            "linecolor": "white",
            "ticks": ""
           }
          },
          "title": {
           "x": 0.05
          },
          "xaxis": {
           "automargin": true,
           "gridcolor": "white",
           "linecolor": "white",
           "ticks": "",
           "title": {
            "standoff": 15
           },
           "zerolinecolor": "white",
           "zerolinewidth": 2
          },
          "yaxis": {
           "automargin": true,
           "gridcolor": "white",
           "linecolor": "white",
           "ticks": "",
           "title": {
            "standoff": 15
           },
           "zerolinecolor": "white",
           "zerolinewidth": 2
          }
         }
        },
        "xaxis": {
         "anchor": "y",
         "domain": [
          0,
          1
         ],
         "title": {
          "text": "Vek"
         }
        },
        "yaxis": {
         "anchor": "x",
         "domain": [
          0,
          1
         ],
         "title": {
          "text": "count"
         }
        }
       }
      }
     },
     "metadata": {},
     "output_type": "display_data"
    }
   ],
   "source": [
    "def by_age(data, query, hue=None):\n",
    "    data = data.query(query)\n",
    "    if hue is None:\n",
    "        aggregated = data.groupby(['Vek'])['abs.'].sum().rename('count').reset_index()\n",
    "        return px.line(aggregated, x='Vek', y='count')\n",
    "    else:\n",
    "        aggregated = data.groupby(['Vek', hue])['abs.'].sum().rename('count').reset_index()\n",
    "        return px.line(aggregated, x='Vek', y='count', color=hue)\n",
    "\n",
    "#(\"Pohlavie\" == \"muž\" or \"Pohlavie\" == \"žena\")\n",
    "by_age(table_40, 'Vzdelanie == \"vysokoškolské vzdelanie - 1. stupeň (Bc.)\"', hue='Pohlavie')"
   ]
  },
  {
   "cell_type": "code",
   "execution_count": 5,
   "metadata": {},
   "outputs": [],
   "source": [
    "properties = [\n",
    "    'Vzdelanie',\n",
    "    # 'Názov oblasti',\n",
    "    'Názov kraja',\n",
    "    'Pohlavie',\n",
    "    'Súčasná ekonomická aktivita'\n",
    "]\n",
    "unique_data = [table_40[property].unique() for property in properties]\n",
    "selected_options = [list(range(len(unique_data[i]))) for i in range(len(properties))]"
   ]
  },
  {
   "cell_type": "code",
   "execution_count": 6,
   "metadata": {},
   "outputs": [],
   "source": [
    "selected_options_source = 'zeny_dovolenka.txt'"
   ]
  },
  {
   "cell_type": "code",
   "execution_count": 7,
   "metadata": {},
   "outputs": [],
   "source": [
    "%%script true\n",
    "print(*[' '.join(map(str, s)) for s in selected_options], sep='\\n', file=open(selected_options_source, 'w'))"
   ]
  },
  {
   "cell_type": "code",
   "execution_count": 15,
   "metadata": {},
   "outputs": [],
   "source": [
    "%%script true\n",
    "with open(selected_options_source, 'r') as file:\n",
    "    for i, line in enumerate(file.readlines()):\n",
    "        selected_options[i] = list(map(int, line.split()))\n",
    "display(selected_options)"
   ]
  },
  {
   "cell_type": "code",
   "execution_count": 10,
   "metadata": {},
   "outputs": [],
   "source": [
    "%%script true\n",
    "selected_options[0] = list(range(21))"
   ]
  },
  {
   "cell_type": "code",
   "execution_count": 16,
   "metadata": {},
   "outputs": [
    {
     "data": {
      "text/html": [
       "\n",
       "        <iframe\n",
       "            width=\"100%\"\n",
       "            height=\"650\"\n",
       "            src=\"http://127.0.0.1:8052/\"\n",
       "            frameborder=\"0\"\n",
       "            allowfullscreen\n",
       "            \n",
       "        ></iframe>\n",
       "        "
      ],
      "text/plain": [
       "<IPython.lib.display.IFrame at 0x7fc30201d990>"
      ]
     },
     "metadata": {},
     "output_type": "display_data"
    }
   ],
   "source": [
    "# %%script true # Skip\n",
    "app = Dash(__name__)\n",
    "\n",
    "app.layout = html.Div(\n",
    "    [\n",
    "        html.H4('Enter title'),\n",
    "        dcc.Input(id='title')\n",
    "    ] +\n",
    "    sum([[\n",
    "        html.H4(f\"Select {properties[i]}: \"),\n",
    "        dcc.Checklist(\n",
    "            id=f'selected_{i}',\n",
    "            options=[{'label': v, 'value': i} for i, v in enumerate(unique_data[i])],\n",
    "            value=selected_options[i]\n",
    "        )\n",
    "    ] for i in range(len(properties))], [])\n",
    "    + [\n",
    "        html.H4('Select hue'),\n",
    "        dcc.RadioItems(\n",
    "            id='hue',\n",
    "            options=[{ 'label': 'No', 'value': None }] + [{ 'label': v, 'value': i } for i, v, in enumerate(properties)],\n",
    "            value=None,\n",
    "        ),\n",
    "        dcc.Graph(id='line-plot')\n",
    "    ]\n",
    ")\n",
    "\n",
    "@app.callback(\n",
    "    Output('line-plot', 'figure'),\n",
    "    [Input('hue', 'value'), Input('title', 'value')] + [Input(f'selected_{i}', 'value') for i in range(len(properties))]\n",
    ")\n",
    "def update_figure(hue, title, *arg):\n",
    "    selected_options[:] = list(arg)\n",
    "    query = ' and '.join([\n",
    "        '(' + ' or '.join([f\"`{properties[i]}` == '{unique_data[i][s]}'\" for s in selected]) + ')'\n",
    "        for i, selected in enumerate(arg)\n",
    "        if len(selected) > 0\n",
    "    ])\n",
    "    figure = by_age(table_40, query, properties[hue] if hue is not None else None)\n",
    "    figure.update_layout(xaxis_title='Age', yaxis_title='Number of people', title=title)\n",
    "\n",
    "    return figure\n",
    "\n",
    "app.run_server(mode='inline', port=8052)"
   ]
  },
  {
   "cell_type": "code",
   "execution_count": null,
   "metadata": {},
   "outputs": [],
   "source": []
  }
 ],
 "metadata": {
  "kernelspec": {
   "display_name": ".venv",
   "language": "python",
   "name": "python3"
  },
  "language_info": {
   "codemirror_mode": {
    "name": "ipython",
    "version": 3
   },
   "file_extension": ".py",
   "mimetype": "text/x-python",
   "name": "python",
   "nbconvert_exporter": "python",
   "pygments_lexer": "ipython3",
   "version": "3.11.8"
  }
 },
 "nbformat": 4,
 "nbformat_minor": 2
}
