{
 "cells": [
  {
   "cell_type": "code",
   "execution_count": 83,
   "id": "94347bd5",
   "metadata": {},
   "outputs": [],
   "source": [
    "import pandas as pd\n",
    "import numpy as np\n",
    "import matplotlib.pyplot as plt\n",
    "import seaborn as sns\n",
    "import random\n",
    "import scipy.stats\n",
    "import plotly\n",
    "import geopandas as gpd\n",
    "from IPython.display import Markdown\n",
    "from dash import Dash, dcc, html, Input, Output\n",
    "import plotly.express as px\n",
    "import plotly.graph_objects as go\n",
    "%matplotlib inline"
   ]
  },
  {
   "cell_type": "code",
   "execution_count": 84,
   "id": "95793ba8",
   "metadata": {},
   "outputs": [],
   "source": [
    "#table1 = pd.read_csv(r'data\\RV_O_010_L_OK_SK.csv', sep=';')\n",
    "#table2 = pd.read_csv(r'data\\RV_O_040_L_OK_SK.csv', sep=';')\n",
    "#table3 = pd.read_csv(r'data\\RV_O_047_L_OK_SK.csv', sep=';')\n",
    "table4 = pd.read_csv(r'data\\RV_O_067_L_OK_SK.csv', sep=';')\n",
    "table4_pom = pd.read_csv(r'data\\RV_O_067_R_KR_SK.csv', sep=';')"
   ]
  },
  {
   "cell_type": "code",
   "execution_count": 85,
   "id": "c8000992",
   "metadata": {},
   "outputs": [
    {
     "data": {
      "text/html": [
       "<div>\n",
       "<style scoped>\n",
       "    .dataframe tbody tr th:only-of-type {\n",
       "        vertical-align: middle;\n",
       "    }\n",
       "\n",
       "    .dataframe tbody tr th {\n",
       "        vertical-align: top;\n",
       "    }\n",
       "\n",
       "    .dataframe thead th {\n",
       "        text-align: right;\n",
       "    }\n",
       "</style>\n",
       "<table border=\"1\" class=\"dataframe\">\n",
       "  <thead>\n",
       "    <tr style=\"text-align: right;\">\n",
       "      <th></th>\n",
       "      <th>Kód štátu</th>\n",
       "      <th>Názov štátu</th>\n",
       "      <th>Kód oblasti</th>\n",
       "      <th>Kód kraja</th>\n",
       "      <th>Názov oblasti</th>\n",
       "      <th>Názov kraja</th>\n",
       "      <th>Súčasná ekonomická aktivita</th>\n",
       "      <th>Odvetvie ekonomickej činnosti​ (NACE - sekcie)</th>\n",
       "      <th>Zamestnanie (ISCO - triedy)</th>\n",
       "      <th>Vzdelanie</th>\n",
       "      <th>abs.</th>\n",
       "    </tr>\n",
       "  </thead>\n",
       "  <tbody>\n",
       "    <tr>\n",
       "      <th>0</th>\n",
       "      <td>SK0</td>\n",
       "      <td>Slovenská republika</td>\n",
       "      <td>SK01</td>\n",
       "      <td>SK010</td>\n",
       "      <td>Bratislavský kraj</td>\n",
       "      <td>Bratislavský kraj</td>\n",
       "      <td>pracujúci (okrem dôchodcov)</td>\n",
       "      <td>nezistené</td>\n",
       "      <td>nezistené</td>\n",
       "      <td>nezistené</td>\n",
       "      <td>1120</td>\n",
       "    </tr>\n",
       "    <tr>\n",
       "      <th>1</th>\n",
       "      <td>SK0</td>\n",
       "      <td>Slovenská republika</td>\n",
       "      <td>SK01</td>\n",
       "      <td>SK010</td>\n",
       "      <td>Bratislavský kraj</td>\n",
       "      <td>Bratislavský kraj</td>\n",
       "      <td>pracujúci (okrem dôchodcov)</td>\n",
       "      <td>nezistené</td>\n",
       "      <td>nezistené</td>\n",
       "      <td>základné vzdelanie - 1. stupeň základnej školy</td>\n",
       "      <td>51</td>\n",
       "    </tr>\n",
       "    <tr>\n",
       "      <th>2</th>\n",
       "      <td>SK0</td>\n",
       "      <td>Slovenská republika</td>\n",
       "      <td>SK01</td>\n",
       "      <td>SK010</td>\n",
       "      <td>Bratislavský kraj</td>\n",
       "      <td>Bratislavský kraj</td>\n",
       "      <td>pracujúci (okrem dôchodcov)</td>\n",
       "      <td>nezistené</td>\n",
       "      <td>nezistené</td>\n",
       "      <td>základné vzdelanie - 2. stupeň základnej školy</td>\n",
       "      <td>257</td>\n",
       "    </tr>\n",
       "    <tr>\n",
       "      <th>3</th>\n",
       "      <td>SK0</td>\n",
       "      <td>Slovenská republika</td>\n",
       "      <td>SK01</td>\n",
       "      <td>SK010</td>\n",
       "      <td>Bratislavský kraj</td>\n",
       "      <td>Bratislavský kraj</td>\n",
       "      <td>pracujúci (okrem dôchodcov)</td>\n",
       "      <td>nezistené</td>\n",
       "      <td>nezistené</td>\n",
       "      <td>stredné odborné (učňovské) vzdelanie bez matur...</td>\n",
       "      <td>4</td>\n",
       "    </tr>\n",
       "    <tr>\n",
       "      <th>4</th>\n",
       "      <td>SK0</td>\n",
       "      <td>Slovenská republika</td>\n",
       "      <td>SK01</td>\n",
       "      <td>SK010</td>\n",
       "      <td>Bratislavský kraj</td>\n",
       "      <td>Bratislavský kraj</td>\n",
       "      <td>pracujúci (okrem dôchodcov)</td>\n",
       "      <td>nezistené</td>\n",
       "      <td>nezistené</td>\n",
       "      <td>stredné odborné (učňovské) vzdelanie bez matur...</td>\n",
       "      <td>76</td>\n",
       "    </tr>\n",
       "  </tbody>\n",
       "</table>\n",
       "</div>"
      ],
      "text/plain": [
       "  Kód štátu          Názov štátu Kód oblasti Kód kraja      Názov oblasti  \\\n",
       "0       SK0  Slovenská republika        SK01     SK010  Bratislavský kraj   \n",
       "1       SK0  Slovenská republika        SK01     SK010  Bratislavský kraj   \n",
       "2       SK0  Slovenská republika        SK01     SK010  Bratislavský kraj   \n",
       "3       SK0  Slovenská republika        SK01     SK010  Bratislavský kraj   \n",
       "4       SK0  Slovenská republika        SK01     SK010  Bratislavský kraj   \n",
       "\n",
       "         Názov kraja  Súčasná ekonomická aktivita  \\\n",
       "0  Bratislavský kraj  pracujúci (okrem dôchodcov)   \n",
       "1  Bratislavský kraj  pracujúci (okrem dôchodcov)   \n",
       "2  Bratislavský kraj  pracujúci (okrem dôchodcov)   \n",
       "3  Bratislavský kraj  pracujúci (okrem dôchodcov)   \n",
       "4  Bratislavský kraj  pracujúci (okrem dôchodcov)   \n",
       "\n",
       "  Odvetvie ekonomickej činnosti​ (NACE - sekcie) Zamestnanie (ISCO - triedy)  \\\n",
       "0                                      nezistené                   nezistené   \n",
       "1                                      nezistené                   nezistené   \n",
       "2                                      nezistené                   nezistené   \n",
       "3                                      nezistené                   nezistené   \n",
       "4                                      nezistené                   nezistené   \n",
       "\n",
       "                                           Vzdelanie  abs.  \n",
       "0                                          nezistené  1120  \n",
       "1     základné vzdelanie - 1. stupeň základnej školy    51  \n",
       "2     základné vzdelanie - 2. stupeň základnej školy   257  \n",
       "3  stredné odborné (učňovské) vzdelanie bez matur...     4  \n",
       "4  stredné odborné (učňovské) vzdelanie bez matur...    76  "
      ]
     },
     "execution_count": 85,
     "metadata": {},
     "output_type": "execute_result"
    }
   ],
   "source": [
    "table4_pom.head(5)"
   ]
  },
  {
   "cell_type": "code",
   "execution_count": 86,
   "id": "0f550c39",
   "metadata": {},
   "outputs": [
    {
     "data": {
      "text/plain": [
       "2553891"
      ]
     },
     "metadata": {},
     "output_type": "display_data"
    }
   ],
   "source": [
    "display(sum(table4_pom['abs.']))"
   ]
  },
  {
   "cell_type": "code",
   "execution_count": 87,
   "id": "1c682a8d",
   "metadata": {},
   "outputs": [],
   "source": [
    "education_types = table4.iloc[:, 5].unique()\n",
    "vyssie_zoznam = [x for x in education_types if 'vysokoškolské' in x or \"vyššie\" in x]\n",
    "stredne_zoznam = [x for x in education_types if \"stredné\" in x]\n",
    "zakladne_zoznam = [x for x in education_types if \"základné\" in x]\n",
    "neziskane_zoznam = ['bez školského vzdelania – osoby vo veku 15 rokov a viac'] \n",
    "ostatne_zoznam = [x for x in education_types if x not in vyssie_zoznam and x not in stredne_zoznam \n",
    "                  and x not in zakladne_zoznam and x not in neziskane_zoznam]"
   ]
  },
  {
   "cell_type": "code",
   "execution_count": 88,
   "id": "77ce2fe4",
   "metadata": {},
   "outputs": [],
   "source": [
    "education_dict = {'vyššie': vyssie_zoznam,\n",
    "                  'stredné': stredne_zoznam,\n",
    "                  'základné': zakladne_zoznam,\n",
    "                  'neziskané': neziskane_zoznam,\n",
    "                  'ostatné': ostatne_zoznam}\n",
    "\n",
    "main_education_dict = {value: key for key in education_dict.keys() for value in education_dict[key]}"
   ]
  },
  {
   "cell_type": "code",
   "execution_count": 89,
   "id": "dc6b24c0",
   "metadata": {},
   "outputs": [],
   "source": [
    "table4_pom['Druh vzdelania'] = table4_pom['Vzdelanie'].map(main_education_dict)"
   ]
  },
  {
   "cell_type": "code",
   "execution_count": 90,
   "id": "e997ed3f",
   "metadata": {},
   "outputs": [],
   "source": [
    "education_series = table4_pom.groupby('Druh vzdelania')['abs.'].sum()"
   ]
  },
  {
   "cell_type": "code",
   "execution_count": 91,
   "id": "f2fdeb14",
   "metadata": {},
   "outputs": [],
   "source": [
    "counts_df = pd.DataFrame({'Druh vzdelania': education_series.index,\n",
    "                          'Počet ľudí': education_series.values})"
   ]
  },
  {
   "cell_type": "code",
   "execution_count": 92,
   "id": "5df89df0",
   "metadata": {},
   "outputs": [
    {
     "data": {
      "text/html": [
       "<div>\n",
       "<style scoped>\n",
       "    .dataframe tbody tr th:only-of-type {\n",
       "        vertical-align: middle;\n",
       "    }\n",
       "\n",
       "    .dataframe tbody tr th {\n",
       "        vertical-align: top;\n",
       "    }\n",
       "\n",
       "    .dataframe thead th {\n",
       "        text-align: right;\n",
       "    }\n",
       "</style>\n",
       "<table border=\"1\" class=\"dataframe\">\n",
       "  <thead>\n",
       "    <tr style=\"text-align: right;\">\n",
       "      <th></th>\n",
       "      <th>Druh vzdelania</th>\n",
       "      <th>Počet ľudí</th>\n",
       "    </tr>\n",
       "  </thead>\n",
       "  <tbody>\n",
       "    <tr>\n",
       "      <th>0</th>\n",
       "      <td>neziskané</td>\n",
       "      <td>1818</td>\n",
       "    </tr>\n",
       "    <tr>\n",
       "      <th>1</th>\n",
       "      <td>ostatné</td>\n",
       "      <td>69647</td>\n",
       "    </tr>\n",
       "    <tr>\n",
       "      <th>2</th>\n",
       "      <td>stredné</td>\n",
       "      <td>1409016</td>\n",
       "    </tr>\n",
       "    <tr>\n",
       "      <th>3</th>\n",
       "      <td>vyššie</td>\n",
       "      <td>953531</td>\n",
       "    </tr>\n",
       "    <tr>\n",
       "      <th>4</th>\n",
       "      <td>základné</td>\n",
       "      <td>119879</td>\n",
       "    </tr>\n",
       "  </tbody>\n",
       "</table>\n",
       "</div>"
      ],
      "text/plain": [
       "  Druh vzdelania  Počet ľudí\n",
       "0      neziskané        1818\n",
       "1        ostatné       69647\n",
       "2        stredné     1409016\n",
       "3         vyššie      953531\n",
       "4       základné      119879"
      ]
     },
     "execution_count": 92,
     "metadata": {},
     "output_type": "execute_result"
    }
   ],
   "source": [
    "counts_df"
   ]
  },
  {
   "cell_type": "code",
   "execution_count": 93,
   "id": "3f719249",
   "metadata": {},
   "outputs": [
    {
     "data": {
      "image/png": "[encoded data removed]",
      "text/plain": [
       "<Figure size 1000x1000 with 1 Axes>"
      ]
     },
     "metadata": {},
     "output_type": "display_data"
    }
   ],
   "source": [
    "figure, axes = plt.subplots(figsize=(10, 10))\n",
    "plt.bar(counts_df['Druh vzdelania'], counts_df['Počet ľudí'])\n",
    "axes.semilogy()\n",
    "plt.title('The number of people by achieved education')\n",
    "plt.show()"
   ]
  },
  {
   "cell_type": "markdown",
   "id": "fc9b2bb6",
   "metadata": {},
   "source": [
    "Chcem preskúmať súvis medzi druhom zamestnania/pracovnou oblasťou (budú utriedené podľa ISCO klasifikácie, ktorá je zverejnená na ich webovej stránke (9 skupín)) a ziskaným vzdelaním. Sú to dve kategoriálne premenné, takže viem vyrobiť z toho \"Parallel categories\" graf.\n",
    "\n",
    "1) Roztriediť zamestnania a dostať deväť skupín\n",
    "2) Nakresliť graf"
   ]
  },
  {
   "cell_type": "code",
   "execution_count": 94,
   "id": "98f859a2",
   "metadata": {},
   "outputs": [],
   "source": [
    "groups = {'Managers': ['Riadiaci pracovníci (manažéri)  administratívnych, podporných a obchodných  činností',\n",
    "                'Riadiaci pracovníci (manažéri) vo výrobe a v špecializovaných službách',\n",
    "                'Riadiaci pracovníci (manažéri) v hotelových, reštauračných, obchodných a v ostatných službách',\n",
    "                'Zákonodarcovia, ústavní činitelia, vysokí štátni úradníci a najvyšší predstavitelia podnikov a organizácií'],\n",
    "         'Professionals': ['Špecialisti v zdravotníctve', 'Špecialisti v oblasti práva, sociálnych vecí a kultúry',\n",
    "                'Špecialisti administratívnych, podporných a obchodných činností', \n",
    "                'Špecialisti v oblasti vedy a techniky', 'Špecialisti v oblasti informačných a komunikačných technológií',\n",
    "                'Učitelia a odborní pedagogickí pracovníci'],\n",
    "         'Technicians and Associate Professionals': ['Technici a odborní pracovníci v oblasti vedy a techniky', \n",
    "                'Technici v oblasti informačných a komunikačných technológií', \n",
    "                'Odborní pracovníci administratívnych, podporných a obchodných činností', 'Odborní pracovníci v zdravotníctve',\n",
    "                'Odborní pracovníci v oblasti práva, sociálnych vecí a kultúry a podobní pracovníci'],\n",
    "         'Clerical Support Workers': ['Administratívni pracovníci na záznam číselných a skladových údajov',\n",
    "                'Všeobecní administratívni pracovníci a zapisovatelia', 'Administratívni pracovníci v zákazníckych službách',\n",
    "                'Ostatní pomocní administratívni pracovníci'],\n",
    "         'Service and Sales Workers': ['Pracovníci v osobných službách', 'Predavači', \n",
    "                'Pracovníci v oblasti osobnej starostlivosti', 'Pracovníci verejnej ochrany a bezpečnostných služieb'],\n",
    "         'Skilled Agricultural, Forestry and Fishery Workers': ['Kvalifikovaní pracovníci v poľnohospodárstve (trhovo orientovaní)',\n",
    "                'Kvalifikovaní pracovníci v lesníctve, rybárstve a poľovníctve (trhovo orientovaní)',\n",
    "                'Farmári, rybári, poľovníci a zberači úrody (samozásobovatelia)'],\n",
    "         'Craft and Related Trades Workers': ['Kvalifikovaní stavební robotníci a remeselníci okrem elektrikárov',\n",
    "                'Kvalifikovaní robotníci v hutníctve, strojárstve a podobní robotníci', 'Umeleckí a ruční remeselníci a tlačiari',\n",
    "                'Elektrikári a elektronici', 'Spracovatelia a výrobcovia potravinárskych výrobkov, výrobkov z dreva a odevov'],\n",
    "         'Plant and Machine Operators, and Assemblers': ['Operátori stacionárnych strojov a zariadení', 'Montážni robotníci',\n",
    "                'Vodiči a obsluha pojazdných strojných zariadení'],\n",
    "         'Elementary Occupations': ['Upratovači a pomocníci', 'Pomocní pracovníci v poľnohospodárstve, lesníctve a rybárstve',\n",
    "                'Pomocní pracovníci v ťažbe, stavebníctve, výrobe a doprave', 'Pomocní pracovníci pri príprave jedla',\n",
    "                'Pracovníci pri likvidácii odpadu a ostatní nekvalifikovaní pracovníci',\n",
    "                'Pouliční predavači a pomocní pracovníci v podobných službách'],\n",
    "         'Armed Forces Occupations': ['Dôstojníci ozbrojených síl', 'Poddôstojníci ozbrojených síl', 'Ostatné ozbrojené sily'],\n",
    "         'Undefined': ['nezistené'],\n",
    "         'Inapplicable': ['neaplikovateľné']}\n",
    "\n",
    "occupation_groups = {value: key for key in groups.keys() for value in groups[key]}"
   ]
  },
  {
   "cell_type": "code",
   "execution_count": 95,
   "id": "e580ac22",
   "metadata": {},
   "outputs": [],
   "source": [
    "economic_sectors_help = {'Undefined': ['nezistené'],\n",
    "                     'Other activities': ['Ostatné činnosti'],\n",
    "                     'Primary': ['Poľnohospodárstvo, lesníctvo a rybolov', 'Ťažba a dobývanie'],\n",
    "                     'Secondary': ['Stavebníctvo', 'Priemyselná výroba'],\n",
    "                     'Tertiary': ['Veľkoobchod a maloobchod; oprava motorových vozidiel a motocyklov',\n",
    "                            'Doprava a skladovanie', 'Ubytovacie a stravovacie služby', 'Informácie a komunikácia',\n",
    "                            'Činnosti v oblasti nehnuteľností', 'Odborné, vedecké a technické činnosti',\n",
    "                            'Administratívne a podporné služby', 'Vzdelávanie', 'Umenie, zábava a rekreácia',\n",
    "                            'Činnosti extrateritoriálnych organizácií a združení', 'Zdravotníctvo a sociálna pomoc',\n",
    "                            'Dodávka elektriny, plynu, pary a studeného vzduchu', 'Finančné a poisťovacie činnosti',\n",
    "                            'Dodávka vody; čistenie a odvod odpadových vôd, odpady a služby odstraňovania odpadov',\n",
    "                            'Verejná správa a obrana; povinné sociálne zabezpečenie',\n",
    "                            'Činnosti domácností ako zamestnávateľov; nediferencované činnosti v domácnostiach produkujúce tovary a služby na vlastné použitie']}\n",
    "\n",
    "economic_sectors = {value: key for key in economic_sectors_help.keys() for value in economic_sectors_help[key]}"
   ]
  },
  {
   "cell_type": "code",
   "execution_count": 96,
   "id": "5a6d7b9d",
   "metadata": {},
   "outputs": [],
   "source": [
    "table4_pom['Druh zamestnania (ISCO - triedy)'] = table4_pom['Zamestnanie (ISCO - triedy)'].map(occupation_groups)\n",
    "table4_pom['Ekonomický sektor (NACE - sekcie)'] = table4_pom['Odvetvie ekonomickej činnosti​ (NACE - sekcie)'].map(economic_sectors)"
   ]
  },
  {
   "cell_type": "code",
   "execution_count": 97,
   "id": "ab2757cf",
   "metadata": {},
   "outputs": [
    {
     "data": {
      "text/html": [
       "<div>\n",
       "<style scoped>\n",
       "    .dataframe tbody tr th:only-of-type {\n",
       "        vertical-align: middle;\n",
       "    }\n",
       "\n",
       "    .dataframe tbody tr th {\n",
       "        vertical-align: top;\n",
       "    }\n",
       "\n",
       "    .dataframe thead th {\n",
       "        text-align: right;\n",
       "    }\n",
       "</style>\n",
       "<table border=\"1\" class=\"dataframe\">\n",
       "  <thead>\n",
       "    <tr style=\"text-align: right;\">\n",
       "      <th></th>\n",
       "      <th>Kód štátu</th>\n",
       "      <th>Názov štátu</th>\n",
       "      <th>Kód oblasti</th>\n",
       "      <th>Kód kraja</th>\n",
       "      <th>Názov oblasti</th>\n",
       "      <th>Názov kraja</th>\n",
       "      <th>Súčasná ekonomická aktivita</th>\n",
       "      <th>Odvetvie ekonomickej činnosti​ (NACE - sekcie)</th>\n",
       "      <th>Zamestnanie (ISCO - triedy)</th>\n",
       "      <th>Vzdelanie</th>\n",
       "      <th>abs.</th>\n",
       "      <th>Druh vzdelania</th>\n",
       "      <th>Druh zamestnania (ISCO - triedy)</th>\n",
       "      <th>Ekonomický sektor (NACE - sekcie)</th>\n",
       "    </tr>\n",
       "  </thead>\n",
       "  <tbody>\n",
       "    <tr>\n",
       "      <th>0</th>\n",
       "      <td>SK0</td>\n",
       "      <td>Slovenská republika</td>\n",
       "      <td>SK01</td>\n",
       "      <td>SK010</td>\n",
       "      <td>Bratislavský kraj</td>\n",
       "      <td>Bratislavský kraj</td>\n",
       "      <td>pracujúci (okrem dôchodcov)</td>\n",
       "      <td>nezistené</td>\n",
       "      <td>nezistené</td>\n",
       "      <td>nezistené</td>\n",
       "      <td>1120</td>\n",
       "      <td>ostatné</td>\n",
       "      <td>Undefined</td>\n",
       "      <td>Undefined</td>\n",
       "    </tr>\n",
       "    <tr>\n",
       "      <th>1</th>\n",
       "      <td>SK0</td>\n",
       "      <td>Slovenská republika</td>\n",
       "      <td>SK01</td>\n",
       "      <td>SK010</td>\n",
       "      <td>Bratislavský kraj</td>\n",
       "      <td>Bratislavský kraj</td>\n",
       "      <td>pracujúci (okrem dôchodcov)</td>\n",
       "      <td>nezistené</td>\n",
       "      <td>nezistené</td>\n",
       "      <td>základné vzdelanie - 1. stupeň základnej školy</td>\n",
       "      <td>51</td>\n",
       "      <td>základné</td>\n",
       "      <td>Undefined</td>\n",
       "      <td>Undefined</td>\n",
       "    </tr>\n",
       "    <tr>\n",
       "      <th>2</th>\n",
       "      <td>SK0</td>\n",
       "      <td>Slovenská republika</td>\n",
       "      <td>SK01</td>\n",
       "      <td>SK010</td>\n",
       "      <td>Bratislavský kraj</td>\n",
       "      <td>Bratislavský kraj</td>\n",
       "      <td>pracujúci (okrem dôchodcov)</td>\n",
       "      <td>nezistené</td>\n",
       "      <td>nezistené</td>\n",
       "      <td>základné vzdelanie - 2. stupeň základnej školy</td>\n",
       "      <td>257</td>\n",
       "      <td>základné</td>\n",
       "      <td>Undefined</td>\n",
       "      <td>Undefined</td>\n",
       "    </tr>\n",
       "    <tr>\n",
       "      <th>3</th>\n",
       "      <td>SK0</td>\n",
       "      <td>Slovenská republika</td>\n",
       "      <td>SK01</td>\n",
       "      <td>SK010</td>\n",
       "      <td>Bratislavský kraj</td>\n",
       "      <td>Bratislavský kraj</td>\n",
       "      <td>pracujúci (okrem dôchodcov)</td>\n",
       "      <td>nezistené</td>\n",
       "      <td>nezistené</td>\n",
       "      <td>stredné odborné (učňovské) vzdelanie bez matur...</td>\n",
       "      <td>4</td>\n",
       "      <td>stredné</td>\n",
       "      <td>Undefined</td>\n",
       "      <td>Undefined</td>\n",
       "    </tr>\n",
       "    <tr>\n",
       "      <th>4</th>\n",
       "      <td>SK0</td>\n",
       "      <td>Slovenská republika</td>\n",
       "      <td>SK01</td>\n",
       "      <td>SK010</td>\n",
       "      <td>Bratislavský kraj</td>\n",
       "      <td>Bratislavský kraj</td>\n",
       "      <td>pracujúci (okrem dôchodcov)</td>\n",
       "      <td>nezistené</td>\n",
       "      <td>nezistené</td>\n",
       "      <td>stredné odborné (učňovské) vzdelanie bez matur...</td>\n",
       "      <td>76</td>\n",
       "      <td>stredné</td>\n",
       "      <td>Undefined</td>\n",
       "      <td>Undefined</td>\n",
       "    </tr>\n",
       "  </tbody>\n",
       "</table>\n",
       "</div>"
      ],
      "text/plain": [
       "  Kód štátu          Názov štátu Kód oblasti Kód kraja      Názov oblasti  \\\n",
       "0       SK0  Slovenská republika        SK01     SK010  Bratislavský kraj   \n",
       "1       SK0  Slovenská republika        SK01     SK010  Bratislavský kraj   \n",
       "2       SK0  Slovenská republika        SK01     SK010  Bratislavský kraj   \n",
       "3       SK0  Slovenská republika        SK01     SK010  Bratislavský kraj   \n",
       "4       SK0  Slovenská republika        SK01     SK010  Bratislavský kraj   \n",
       "\n",
       "         Názov kraja  Súčasná ekonomická aktivita  \\\n",
       "0  Bratislavský kraj  pracujúci (okrem dôchodcov)   \n",
       "1  Bratislavský kraj  pracujúci (okrem dôchodcov)   \n",
       "2  Bratislavský kraj  pracujúci (okrem dôchodcov)   \n",
       "3  Bratislavský kraj  pracujúci (okrem dôchodcov)   \n",
       "4  Bratislavský kraj  pracujúci (okrem dôchodcov)   \n",
       "\n",
       "  Odvetvie ekonomickej činnosti​ (NACE - sekcie) Zamestnanie (ISCO - triedy)  \\\n",
       "0                                      nezistené                   nezistené   \n",
       "1                                      nezistené                   nezistené   \n",
       "2                                      nezistené                   nezistené   \n",
       "3                                      nezistené                   nezistené   \n",
       "4                                      nezistené                   nezistené   \n",
       "\n",
       "                                           Vzdelanie  abs. Druh vzdelania  \\\n",
       "0                                          nezistené  1120        ostatné   \n",
       "1     základné vzdelanie - 1. stupeň základnej školy    51       základné   \n",
       "2     základné vzdelanie - 2. stupeň základnej školy   257       základné   \n",
       "3  stredné odborné (učňovské) vzdelanie bez matur...     4        stredné   \n",
       "4  stredné odborné (učňovské) vzdelanie bez matur...    76        stredné   \n",
       "\n",
       "  Druh zamestnania (ISCO - triedy) Ekonomický sektor (NACE - sekcie)  \n",
       "0                        Undefined                         Undefined  \n",
       "1                        Undefined                         Undefined  \n",
       "2                        Undefined                         Undefined  \n",
       "3                        Undefined                         Undefined  \n",
       "4                        Undefined                         Undefined  "
      ]
     },
     "execution_count": 97,
     "metadata": {},
     "output_type": "execute_result"
    }
   ],
   "source": [
    "table4_pom.head(5)"
   ]
  },
  {
   "cell_type": "code",
   "execution_count": 98,
   "id": "2dd198b1",
   "metadata": {},
   "outputs": [
    {
     "data": {
      "application/vnd.plotly.v1+json": {
       "config": {
        "plotlyServerURL": "https://plot.ly"
       },
       "data": [
        {
         "counts": [
          1,
          71,
          114,
          187,
          302,
          34,
          173,
          70,
          135,
          31,
          74,
          624,
          15,
          371,
          779,
          442,
          16628,
          88,
          962,
          610,
          1127,
          38,
          491,
          48094,
          7377,
          115495,
          174152,
          83979,
          213778,
          31994,
          197925,
          74995,
          204768,
          7701,
          146384,
          150352,
          6105,
          73493,
          23734,
          8408,
          112870,
          78904,
          23620,
          358164,
          61685,
          1288,
          138782,
          66462,
          29,
          4716,
          9851,
          19599,
          17479,
          640,
          18105,
          1051,
          10763,
          1743,
          2967,
          32914
         ],
         "dimensions": [
          {
           "label": "Vzdelanie",
           "values": [
            "neziskané",
            "neziskané",
            "neziskané",
            "neziskané",
            "neziskané",
            "neziskané",
            "neziskané",
            "neziskané",
            "neziskané",
            "neziskané",
            "neziskané",
            "neziskané",
            "ostatné",
            "ostatné",
            "ostatné",
            "ostatné",
            "ostatné",
            "ostatné",
            "ostatné",
            "ostatné",
            "ostatné",
            "ostatné",
            "ostatné",
            "ostatné",
            "stredné",
            "stredné",
            "stredné",
            "stredné",
            "stredné",
            "stredné",
            "stredné",
            "stredné",
            "stredné",
            "stredné",
            "stredné",
            "stredné",
            "vyššie",
            "vyššie",
            "vyššie",
            "vyššie",
            "vyššie",
            "vyššie",
            "vyššie",
            "vyššie",
            "vyššie",
            "vyššie",
            "vyššie",
            "vyššie",
            "základné",
            "základné",
            "základné",
            "základné",
            "základné",
            "základné",
            "základné",
            "základné",
            "základné",
            "základné",
            "základné",
            "základné"
           ]
          },
          {
           "label": "Zamestnanie",
           "values": [
            "Armed Forces Occupations",
            "Clerical Support Workers",
            "Craft and Related Trades Workers",
            "Elementary Occupations",
            "Inapplicable",
            "Managers",
            "Plant and Machine Operators, and Assemblers",
            "Professionals",
            "Service and Sales Workers",
            "Skilled Agricultural, Forestry and Fishery Workers",
            "Technicians and Associate Professionals",
            "Undefined",
            "Armed Forces Occupations",
            "Clerical Support Workers",
            "Craft and Related Trades Workers",
            "Elementary Occupations",
            "Inapplicable",
            "Managers",
            "Plant and Machine Operators, and Assemblers",
            "Professionals",
            "Service and Sales Workers",
            "Skilled Agricultural, Forestry and Fishery Workers",
            "Technicians and Associate Professionals",
            "Undefined",
            "Armed Forces Occupations",
            "Clerical Support Workers",
            "Craft and Related Trades Workers",
            "Elementary Occupations",
            "Inapplicable",
            "Managers",
            "Plant and Machine Operators, and Assemblers",
            "Professionals",
            "Service and Sales Workers",
            "Skilled Agricultural, Forestry and Fishery Workers",
            "Technicians and Associate Professionals",
            "Undefined",
            "Armed Forces Occupations",
            "Clerical Support Workers",
            "Craft and Related Trades Workers",
            "Elementary Occupations",
            "Inapplicable",
            "Managers",
            "Plant and Machine Operators, and Assemblers",
            "Professionals",
            "Service and Sales Workers",
            "Skilled Agricultural, Forestry and Fishery Workers",
            "Technicians and Associate Professionals",
            "Undefined",
            "Armed Forces Occupations",
            "Clerical Support Workers",
            "Craft and Related Trades Workers",
            "Elementary Occupations",
            "Inapplicable",
            "Managers",
            "Plant and Machine Operators, and Assemblers",
            "Professionals",
            "Service and Sales Workers",
            "Skilled Agricultural, Forestry and Fishery Workers",
            "Technicians and Associate Professionals",
            "Undefined"
           ]
          }
         ],
         "type": "parcats"
        }
       ],
       "layout": {
        "height": 600,
        "template": {
         "data": {
          "bar": [
           {
            "error_x": {
             "color": "#2a3f5f"
            },
            "error_y": {
             "color": "#2a3f5f"
            },
            "marker": {
             "line": {
              "color": "#E5ECF6",
              "width": 0.5
             },
             "pattern": {
              "fillmode": "overlay",
              "size": 10,
              "solidity": 0.2
             }
            },
            "type": "bar"
           }
          ],
          "barpolar": [
           {
            "marker": {
             "line": {
              "color": "#E5ECF6",
              "width": 0.5
             },
             "pattern": {
              "fillmode": "overlay",
              "size": 10,
              "solidity": 0.2
             }
            },
            "type": "barpolar"
           }
          ],
          "carpet": [
           {
            "aaxis": {
             "endlinecolor": "#2a3f5f",
             "gridcolor": "white",
             "linecolor": "white",
             "minorgridcolor": "white",
             "startlinecolor": "#2a3f5f"
            },
            "baxis": {
             "endlinecolor": "#2a3f5f",
             "gridcolor": "white",
             "linecolor": "white",
             "minorgridcolor": "white",
             "startlinecolor": "#2a3f5f"
            },
            "type": "carpet"
           }
          ],
          "choropleth": [
           {
            "colorbar": {
             "outlinewidth": 0,
             "ticks": ""
            },
            "type": "choropleth"
           }
          ],
          "contour": [
           {
            "colorbar": {
             "outlinewidth": 0,
             "ticks": ""
            },
            "colorscale": [
             [
              0,
              "#0d0887"
             ],
             [
              0.1111111111111111,
              "#46039f"
             ],
             [
              0.2222222222222222,
              "#7201a8"
             ],
             [
              0.3333333333333333,
              "#9c179e"
             ],
             [
              0.4444444444444444,
              "#bd3786"
             ],
             [
              0.5555555555555556,
              "#d8576b"
             ],
             [
              0.6666666666666666,
              "#ed7953"
             ],
             [
              0.7777777777777778,
              "#fb9f3a"
             ],
             [
              0.8888888888888888,
              "#fdca26"
             ],
             [
              1,
              "#f0f921"
             ]
            ],
            "type": "contour"
           }
          ],
          "contourcarpet": [
           {
            "colorbar": {
             "outlinewidth": 0,
             "ticks": ""
            },
            "type": "contourcarpet"
           }
          ],
          "heatmap": [
           {
            "colorbar": {
             "outlinewidth": 0,
             "ticks": ""
            },
            "colorscale": [
             [
              0,
              "#0d0887"
             ],
             [
              0.1111111111111111,
              "#46039f"
             ],
             [
              0.2222222222222222,
              "#7201a8"
             ],
             [
              0.3333333333333333,
              "#9c179e"
             ],
             [
              0.4444444444444444,
              "#bd3786"
             ],
             [
              0.5555555555555556,
              "#d8576b"
             ],
             [
              0.6666666666666666,
              "#ed7953"
             ],
             [
              0.7777777777777778,
              "#fb9f3a"
             ],
             [
              0.8888888888888888,
              "#fdca26"
             ],
             [
              1,
              "#f0f921"
             ]
            ],
            "type": "heatmap"
           }
          ],
          "heatmapgl": [
           {
            "colorbar": {
             "outlinewidth": 0,
             "ticks": ""
            },
            "colorscale": [
             [
              0,
              "#0d0887"
             ],
             [
              0.1111111111111111,
              "#46039f"
             ],
             [
              0.2222222222222222,
              "#7201a8"
             ],
             [
              0.3333333333333333,
              "#9c179e"
             ],
             [
              0.4444444444444444,
              "#bd3786"
             ],
             [
              0.5555555555555556,
              "#d8576b"
             ],
             [
              0.6666666666666666,
              "#ed7953"
             ],
             [
              0.7777777777777778,
              "#fb9f3a"
             ],
             [
              0.8888888888888888,
              "#fdca26"
             ],
             [
              1,
              "#f0f921"
             ]
            ],
            "type": "heatmapgl"
           }
          ],
          "histogram": [
           {
            "marker": {
             "pattern": {
              "fillmode": "overlay",
              "size": 10,
              "solidity": 0.2
             }
            },
            "type": "histogram"
           }
          ],
          "histogram2d": [
           {
            "colorbar": {
             "outlinewidth": 0,
             "ticks": ""
            },
            "colorscale": [
             [
              0,
              "#0d0887"
             ],
             [
              0.1111111111111111,
              "#46039f"
             ],
             [
              0.2222222222222222,
              "#7201a8"
             ],
             [
              0.3333333333333333,
              "#9c179e"
             ],
             [
              0.4444444444444444,
              "#bd3786"
             ],
             [
              0.5555555555555556,
              "#d8576b"
             ],
             [
              0.6666666666666666,
              "#ed7953"
             ],
             [
              0.7777777777777778,
              "#fb9f3a"
             ],
             [
              0.8888888888888888,
              "#fdca26"
             ],
             [
              1,
              "#f0f921"
             ]
            ],
            "type": "histogram2d"
           }
          ],
          "histogram2dcontour": [
           {
            "colorbar": {
             "outlinewidth": 0,
             "ticks": ""
            },
            "colorscale": [
             [
              0,
              "#0d0887"
             ],
             [
              0.1111111111111111,
              "#46039f"
             ],
             [
              0.2222222222222222,
              "#7201a8"
             ],
             [
              0.3333333333333333,
              "#9c179e"
             ],
             [
              0.4444444444444444,
              "#bd3786"
             ],
             [
              0.5555555555555556,
              "#d8576b"
             ],
             [
              0.6666666666666666,
              "#ed7953"
             ],
             [
              0.7777777777777778,
              "#fb9f3a"
             ],
             [
              0.8888888888888888,
              "#fdca26"
             ],
             [
              1,
              "#f0f921"
             ]
            ],
            "type": "histogram2dcontour"
           }
          ],
          "mesh3d": [
           {
            "colorbar": {
             "outlinewidth": 0,
             "ticks": ""
            },
            "type": "mesh3d"
           }
          ],
          "parcoords": [
           {
            "line": {
             "colorbar": {
              "outlinewidth": 0,
              "ticks": ""
             }
            },
            "type": "parcoords"
           }
          ],
          "pie": [
           {
            "automargin": true,
            "type": "pie"
           }
          ],
          "scatter": [
           {
            "fillpattern": {
             "fillmode": "overlay",
             "size": 10,
             "solidity": 0.2
            },
            "type": "scatter"
           }
          ],
          "scatter3d": [
           {
            "line": {
             "colorbar": {
              "outlinewidth": 0,
              "ticks": ""
             }
            },
            "marker": {
             "colorbar": {
              "outlinewidth": 0,
              "ticks": ""
             }
            },
            "type": "scatter3d"
           }
          ],
          "scattercarpet": [
           {
            "marker": {
             "colorbar": {
              "outlinewidth": 0,
              "ticks": ""
             }
            },
            "type": "scattercarpet"
           }
          ],
          "scattergeo": [
           {
            "marker": {
             "colorbar": {
              "outlinewidth": 0,
              "ticks": ""
             }
            },
            "type": "scattergeo"
           }
          ],
          "scattergl": [
           {
            "marker": {
             "colorbar": {
              "outlinewidth": 0,
              "ticks": ""
             }
            },
            "type": "scattergl"
           }
          ],
          "scattermapbox": [
           {
            "marker": {
             "colorbar": {
              "outlinewidth": 0,
              "ticks": ""
             }
            },
            "type": "scattermapbox"
           }
          ],
          "scatterpolar": [
           {
            "marker": {
             "colorbar": {
              "outlinewidth": 0,
              "ticks": ""
             }
            },
            "type": "scatterpolar"
           }
          ],
          "scatterpolargl": [
           {
            "marker": {
             "colorbar": {
              "outlinewidth": 0,
              "ticks": ""
             }
            },
            "type": "scatterpolargl"
           }
          ],
          "scatterternary": [
           {
            "marker": {
             "colorbar": {
              "outlinewidth": 0,
              "ticks": ""
             }
            },
            "type": "scatterternary"
           }
          ],
          "surface": [
           {
            "colorbar": {
             "outlinewidth": 0,
             "ticks": ""
            },
            "colorscale": [
             [
              0,
              "#0d0887"
             ],
             [
              0.1111111111111111,
              "#46039f"
             ],
             [
              0.2222222222222222,
              "#7201a8"
             ],
             [
              0.3333333333333333,
              "#9c179e"
             ],
             [
              0.4444444444444444,
              "#bd3786"
             ],
             [
              0.5555555555555556,
              "#d8576b"
             ],
             [
              0.6666666666666666,
              "#ed7953"
             ],
             [
              0.7777777777777778,
              "#fb9f3a"
             ],
             [
              0.8888888888888888,
              "#fdca26"
             ],
             [
              1,
              "#f0f921"
             ]
            ],
            "type": "surface"
           }
          ],
          "table": [
           {
            "cells": {
             "fill": {
              "color": "#EBF0F8"
             },
             "line": {
              "color": "white"
             }
            },
            "header": {
             "fill": {
              "color": "#C8D4E3"
             },
             "line": {
              "color": "white"
             }
            },
            "type": "table"
           }
          ]
         },
         "layout": {
          "annotationdefaults": {
           "arrowcolor": "#2a3f5f",
           "arrowhead": 0,
           "arrowwidth": 1
          },
          "autotypenumbers": "strict",
          "coloraxis": {
           "colorbar": {
            "outlinewidth": 0,
            "ticks": ""
           }
          },
          "colorscale": {
           "diverging": [
            [
             0,
             "#8e0152"
            ],
            [
             0.1,
             "#c51b7d"
            ],
            [
             0.2,
             "#de77ae"
            ],
            [
             0.3,
             "#f1b6da"
            ],
            [
             0.4,
             "#fde0ef"
            ],
            [
             0.5,
             "#f7f7f7"
            ],
            [
             0.6,
             "#e6f5d0"
            ],
            [
             0.7,
             "#b8e186"
            ],
            [
             0.8,
             "#7fbc41"
            ],
            [
             0.9,
             "#4d9221"
            ],
            [
             1,
             "#276419"
            ]
           ],
           "sequential": [
            [
             0,
             "#0d0887"
            ],
            [
             0.1111111111111111,
             "#46039f"
            ],
            [
             0.2222222222222222,
             "#7201a8"
            ],
            [
             0.3333333333333333,
             "#9c179e"
            ],
            [
             0.4444444444444444,
             "#bd3786"
            ],
            [
             0.5555555555555556,
             "#d8576b"
            ],
            [
             0.6666666666666666,
             "#ed7953"
            ],
            [
             0.7777777777777778,
             "#fb9f3a"
            ],
            [
             0.8888888888888888,
             "#fdca26"
            ],
            [
             1,
             "#f0f921"
            ]
           ],
           "sequentialminus": [
            [
             0,
             "#0d0887"
            ],
            [
             0.1111111111111111,
             "#46039f"
            ],
            [
             0.2222222222222222,
             "#7201a8"
            ],
            [
             0.3333333333333333,
             "#9c179e"
            ],
            [
             0.4444444444444444,
             "#bd3786"
            ],
            [
             0.5555555555555556,
             "#d8576b"
            ],
            [
             0.6666666666666666,
             "#ed7953"
            ],
            [
             0.7777777777777778,
             "#fb9f3a"
            ],
            [
             0.8888888888888888,
             "#fdca26"
            ],
            [
             1,
             "#f0f921"
            ]
           ]
          },
          "colorway": [
           "#636efa",
           "#EF553B",
           "#00cc96",
           "#ab63fa",
           "#FFA15A",
           "#19d3f3",
           "#FF6692",
           "#B6E880",
           "#FF97FF",
           "#FECB52"
          ],
          "font": {
           "color": "#2a3f5f"
          },
          "geo": {
           "bgcolor": "white",
           "lakecolor": "white",
           "landcolor": "#E5ECF6",
           "showlakes": true,
           "showland": true,
           "subunitcolor": "white"
          },
          "hoverlabel": {
           "align": "left"
          },
          "hovermode": "closest",
          "mapbox": {
           "style": "light"
          },
          "paper_bgcolor": "white",
          "plot_bgcolor": "#E5ECF6",
          "polar": {
           "angularaxis": {
            "gridcolor": "white",
            "linecolor": "white",
            "ticks": ""
           },
           "bgcolor": "#E5ECF6",
           "radialaxis": {
            "gridcolor": "white",
            "linecolor": "white",
            "ticks": ""
           }
          },
          "scene": {
           "xaxis": {
            "backgroundcolor": "#E5ECF6",
            "gridcolor": "white",
            "gridwidth": 2,
            "linecolor": "white",
            "showbackground": true,
            "ticks": "",
            "zerolinecolor": "white"
           },
           "yaxis": {
            "backgroundcolor": "#E5ECF6",
            "gridcolor": "white",
            "gridwidth": 2,
            "linecolor": "white",
            "showbackground": true,
            "ticks": "",
            "zerolinecolor": "white"
           },
           "zaxis": {
            "backgroundcolor": "#E5ECF6",
            "gridcolor": "white",
            "gridwidth": 2,
            "linecolor": "white",
            "showbackground": true,
            "ticks": "",
            "zerolinecolor": "white"
           }
          },
          "shapedefaults": {
           "line": {
            "color": "#2a3f5f"
           }
          },
          "ternary": {
           "aaxis": {
            "gridcolor": "white",
            "linecolor": "white",
            "ticks": ""
           },
           "baxis": {
            "gridcolor": "white",
            "linecolor": "white",
            "ticks": ""
           },
           "bgcolor": "#E5ECF6",
           "caxis": {
            "gridcolor": "white",
            "linecolor": "white",
            "ticks": ""
           }
          },
          "title": {
           "x": 0.05
          },
          "xaxis": {
           "automargin": true,
           "gridcolor": "white",
           "linecolor": "white",
           "ticks": "",
           "title": {
            "standoff": 15
           },
           "zerolinecolor": "white",
           "zerolinewidth": 2
          },
          "yaxis": {
           "automargin": true,
           "gridcolor": "white",
           "linecolor": "white",
           "ticks": "",
           "title": {
            "standoff": 15
           },
           "zerolinecolor": "white",
           "zerolinewidth": 2
          }
         }
        },
        "width": 800
       }
      },
      "text/html": [
       "<div>                            <div id=\"da807759-e081-443a-b19a-c126d8bdb37d\" class=\"plotly-graph-div\" style=\"height:600px; width:800px;\"></div>            <script type=\"text/javascript\">                require([\"plotly\"], function(Plotly) {                    window.PLOTLYENV=window.PLOTLYENV || {};                                    if (document.getElementById(\"da807759-e081-443a-b19a-c126d8bdb37d\")) {                    Plotly.newPlot(                        \"da807759-e081-443a-b19a-c126d8bdb37d\",                        [{\"counts\":[1,71,114,187,302,34,173,70,135,31,74,624,15,371,779,442,16628,88,962,610,1127,38,491,48094,7377,115495,174152,83979,213778,31994,197925,74995,204768,7701,146384,150352,6105,73493,23734,8408,112870,78904,23620,358164,61685,1288,138782,66462,29,4716,9851,19599,17479,640,18105,1051,10763,1743,2967,32914],\"dimensions\":[{\"label\":\"Vzdelanie\",\"values\":[\"neziskan\\u00e9\",\"neziskan\\u00e9\",\"neziskan\\u00e9\",\"neziskan\\u00e9\",\"neziskan\\u00e9\",\"neziskan\\u00e9\",\"neziskan\\u00e9\",\"neziskan\\u00e9\",\"neziskan\\u00e9\",\"neziskan\\u00e9\",\"neziskan\\u00e9\",\"neziskan\\u00e9\",\"ostatn\\u00e9\",\"ostatn\\u00e9\",\"ostatn\\u00e9\",\"ostatn\\u00e9\",\"ostatn\\u00e9\",\"ostatn\\u00e9\",\"ostatn\\u00e9\",\"ostatn\\u00e9\",\"ostatn\\u00e9\",\"ostatn\\u00e9\",\"ostatn\\u00e9\",\"ostatn\\u00e9\",\"stredn\\u00e9\",\"stredn\\u00e9\",\"stredn\\u00e9\",\"stredn\\u00e9\",\"stredn\\u00e9\",\"stredn\\u00e9\",\"stredn\\u00e9\",\"stredn\\u00e9\",\"stredn\\u00e9\",\"stredn\\u00e9\",\"stredn\\u00e9\",\"stredn\\u00e9\",\"vy\\u0161\\u0161ie\",\"vy\\u0161\\u0161ie\",\"vy\\u0161\\u0161ie\",\"vy\\u0161\\u0161ie\",\"vy\\u0161\\u0161ie\",\"vy\\u0161\\u0161ie\",\"vy\\u0161\\u0161ie\",\"vy\\u0161\\u0161ie\",\"vy\\u0161\\u0161ie\",\"vy\\u0161\\u0161ie\",\"vy\\u0161\\u0161ie\",\"vy\\u0161\\u0161ie\",\"z\\u00e1kladn\\u00e9\",\"z\\u00e1kladn\\u00e9\",\"z\\u00e1kladn\\u00e9\",\"z\\u00e1kladn\\u00e9\",\"z\\u00e1kladn\\u00e9\",\"z\\u00e1kladn\\u00e9\",\"z\\u00e1kladn\\u00e9\",\"z\\u00e1kladn\\u00e9\",\"z\\u00e1kladn\\u00e9\",\"z\\u00e1kladn\\u00e9\",\"z\\u00e1kladn\\u00e9\",\"z\\u00e1kladn\\u00e9\"]},{\"label\":\"Zamestnanie\",\"values\":[\"Armed Forces Occupations\",\"Clerical Support Workers\",\"Craft and Related Trades Workers\",\"Elementary Occupations\",\"Inapplicable\",\"Managers\",\"Plant and Machine Operators, and Assemblers\",\"Professionals\",\"Service and Sales Workers\",\"Skilled Agricultural, Forestry and Fishery Workers\",\"Technicians and Associate Professionals\",\"Undefined\",\"Armed Forces Occupations\",\"Clerical Support Workers\",\"Craft and Related Trades Workers\",\"Elementary Occupations\",\"Inapplicable\",\"Managers\",\"Plant and Machine Operators, and Assemblers\",\"Professionals\",\"Service and Sales Workers\",\"Skilled Agricultural, Forestry and Fishery Workers\",\"Technicians and Associate Professionals\",\"Undefined\",\"Armed Forces Occupations\",\"Clerical Support Workers\",\"Craft and Related Trades Workers\",\"Elementary Occupations\",\"Inapplicable\",\"Managers\",\"Plant and Machine Operators, and Assemblers\",\"Professionals\",\"Service and Sales Workers\",\"Skilled Agricultural, Forestry and Fishery Workers\",\"Technicians and Associate Professionals\",\"Undefined\",\"Armed Forces Occupations\",\"Clerical Support Workers\",\"Craft and Related Trades Workers\",\"Elementary Occupations\",\"Inapplicable\",\"Managers\",\"Plant and Machine Operators, and Assemblers\",\"Professionals\",\"Service and Sales Workers\",\"Skilled Agricultural, Forestry and Fishery Workers\",\"Technicians and Associate Professionals\",\"Undefined\",\"Armed Forces Occupations\",\"Clerical Support Workers\",\"Craft and Related Trades Workers\",\"Elementary Occupations\",\"Inapplicable\",\"Managers\",\"Plant and Machine Operators, and Assemblers\",\"Professionals\",\"Service and Sales Workers\",\"Skilled Agricultural, Forestry and Fishery Workers\",\"Technicians and Associate Professionals\",\"Undefined\"]}],\"type\":\"parcats\"}],                        {\"template\":{\"data\":{\"histogram2dcontour\":[{\"type\":\"histogram2dcontour\",\"colorbar\":{\"outlinewidth\":0,\"ticks\":\"\"},\"colorscale\":[[0.0,\"#0d0887\"],[0.1111111111111111,\"#46039f\"],[0.2222222222222222,\"#7201a8\"],[0.3333333333333333,\"#9c179e\"],[0.4444444444444444,\"#bd3786\"],[0.5555555555555556,\"#d8576b\"],[0.6666666666666666,\"#ed7953\"],[0.7777777777777778,\"#fb9f3a\"],[0.8888888888888888,\"#fdca26\"],[1.0,\"#f0f921\"]]}],\"choropleth\":[{\"type\":\"choropleth\",\"colorbar\":{\"outlinewidth\":0,\"ticks\":\"\"}}],\"histogram2d\":[{\"type\":\"histogram2d\",\"colorbar\":{\"outlinewidth\":0,\"ticks\":\"\"},\"colorscale\":[[0.0,\"#0d0887\"],[0.1111111111111111,\"#46039f\"],[0.2222222222222222,\"#7201a8\"],[0.3333333333333333,\"#9c179e\"],[0.4444444444444444,\"#bd3786\"],[0.5555555555555556,\"#d8576b\"],[0.6666666666666666,\"#ed7953\"],[0.7777777777777778,\"#fb9f3a\"],[0.8888888888888888,\"#fdca26\"],[1.0,\"#f0f921\"]]}],\"heatmap\":[{\"type\":\"heatmap\",\"colorbar\":{\"outlinewidth\":0,\"ticks\":\"\"},\"colorscale\":[[0.0,\"#0d0887\"],[0.1111111111111111,\"#46039f\"],[0.2222222222222222,\"#7201a8\"],[0.3333333333333333,\"#9c179e\"],[0.4444444444444444,\"#bd3786\"],[0.5555555555555556,\"#d8576b\"],[0.6666666666666666,\"#ed7953\"],[0.7777777777777778,\"#fb9f3a\"],[0.8888888888888888,\"#fdca26\"],[1.0,\"#f0f921\"]]}],\"heatmapgl\":[{\"type\":\"heatmapgl\",\"colorbar\":{\"outlinewidth\":0,\"ticks\":\"\"},\"colorscale\":[[0.0,\"#0d0887\"],[0.1111111111111111,\"#46039f\"],[0.2222222222222222,\"#7201a8\"],[0.3333333333333333,\"#9c179e\"],[0.4444444444444444,\"#bd3786\"],[0.5555555555555556,\"#d8576b\"],[0.6666666666666666,\"#ed7953\"],[0.7777777777777778,\"#fb9f3a\"],[0.8888888888888888,\"#fdca26\"],[1.0,\"#f0f921\"]]}],\"contourcarpet\":[{\"type\":\"contourcarpet\",\"colorbar\":{\"outlinewidth\":0,\"ticks\":\"\"}}],\"contour\":[{\"type\":\"contour\",\"colorbar\":{\"outlinewidth\":0,\"ticks\":\"\"},\"colorscale\":[[0.0,\"#0d0887\"],[0.1111111111111111,\"#46039f\"],[0.2222222222222222,\"#7201a8\"],[0.3333333333333333,\"#9c179e\"],[0.4444444444444444,\"#bd3786\"],[0.5555555555555556,\"#d8576b\"],[0.6666666666666666,\"#ed7953\"],[0.7777777777777778,\"#fb9f3a\"],[0.8888888888888888,\"#fdca26\"],[1.0,\"#f0f921\"]]}],\"surface\":[{\"type\":\"surface\",\"colorbar\":{\"outlinewidth\":0,\"ticks\":\"\"},\"colorscale\":[[0.0,\"#0d0887\"],[0.1111111111111111,\"#46039f\"],[0.2222222222222222,\"#7201a8\"],[0.3333333333333333,\"#9c179e\"],[0.4444444444444444,\"#bd3786\"],[0.5555555555555556,\"#d8576b\"],[0.6666666666666666,\"#ed7953\"],[0.7777777777777778,\"#fb9f3a\"],[0.8888888888888888,\"#fdca26\"],[1.0,\"#f0f921\"]]}],\"mesh3d\":[{\"type\":\"mesh3d\",\"colorbar\":{\"outlinewidth\":0,\"ticks\":\"\"}}],\"scatter\":[{\"fillpattern\":{\"fillmode\":\"overlay\",\"size\":10,\"solidity\":0.2},\"type\":\"scatter\"}],\"parcoords\":[{\"type\":\"parcoords\",\"line\":{\"colorbar\":{\"outlinewidth\":0,\"ticks\":\"\"}}}],\"scatterpolargl\":[{\"type\":\"scatterpolargl\",\"marker\":{\"colorbar\":{\"outlinewidth\":0,\"ticks\":\"\"}}}],\"bar\":[{\"error_x\":{\"color\":\"#2a3f5f\"},\"error_y\":{\"color\":\"#2a3f5f\"},\"marker\":{\"line\":{\"color\":\"#E5ECF6\",\"width\":0.5},\"pattern\":{\"fillmode\":\"overlay\",\"size\":10,\"solidity\":0.2}},\"type\":\"bar\"}],\"scattergeo\":[{\"type\":\"scattergeo\",\"marker\":{\"colorbar\":{\"outlinewidth\":0,\"ticks\":\"\"}}}],\"scatterpolar\":[{\"type\":\"scatterpolar\",\"marker\":{\"colorbar\":{\"outlinewidth\":0,\"ticks\":\"\"}}}],\"histogram\":[{\"marker\":{\"pattern\":{\"fillmode\":\"overlay\",\"size\":10,\"solidity\":0.2}},\"type\":\"histogram\"}],\"scattergl\":[{\"type\":\"scattergl\",\"marker\":{\"colorbar\":{\"outlinewidth\":0,\"ticks\":\"\"}}}],\"scatter3d\":[{\"type\":\"scatter3d\",\"line\":{\"colorbar\":{\"outlinewidth\":0,\"ticks\":\"\"}},\"marker\":{\"colorbar\":{\"outlinewidth\":0,\"ticks\":\"\"}}}],\"scattermapbox\":[{\"type\":\"scattermapbox\",\"marker\":{\"colorbar\":{\"outlinewidth\":0,\"ticks\":\"\"}}}],\"scatterternary\":[{\"type\":\"scatterternary\",\"marker\":{\"colorbar\":{\"outlinewidth\":0,\"ticks\":\"\"}}}],\"scattercarpet\":[{\"type\":\"scattercarpet\",\"marker\":{\"colorbar\":{\"outlinewidth\":0,\"ticks\":\"\"}}}],\"carpet\":[{\"aaxis\":{\"endlinecolor\":\"#2a3f5f\",\"gridcolor\":\"white\",\"linecolor\":\"white\",\"minorgridcolor\":\"white\",\"startlinecolor\":\"#2a3f5f\"},\"baxis\":{\"endlinecolor\":\"#2a3f5f\",\"gridcolor\":\"white\",\"linecolor\":\"white\",\"minorgridcolor\":\"white\",\"startlinecolor\":\"#2a3f5f\"},\"type\":\"carpet\"}],\"table\":[{\"cells\":{\"fill\":{\"color\":\"#EBF0F8\"},\"line\":{\"color\":\"white\"}},\"header\":{\"fill\":{\"color\":\"#C8D4E3\"},\"line\":{\"color\":\"white\"}},\"type\":\"table\"}],\"barpolar\":[{\"marker\":{\"line\":{\"color\":\"#E5ECF6\",\"width\":0.5},\"pattern\":{\"fillmode\":\"overlay\",\"size\":10,\"solidity\":0.2}},\"type\":\"barpolar\"}],\"pie\":[{\"automargin\":true,\"type\":\"pie\"}]},\"layout\":{\"autotypenumbers\":\"strict\",\"colorway\":[\"#636efa\",\"#EF553B\",\"#00cc96\",\"#ab63fa\",\"#FFA15A\",\"#19d3f3\",\"#FF6692\",\"#B6E880\",\"#FF97FF\",\"#FECB52\"],\"font\":{\"color\":\"#2a3f5f\"},\"hovermode\":\"closest\",\"hoverlabel\":{\"align\":\"left\"},\"paper_bgcolor\":\"white\",\"plot_bgcolor\":\"#E5ECF6\",\"polar\":{\"bgcolor\":\"#E5ECF6\",\"angularaxis\":{\"gridcolor\":\"white\",\"linecolor\":\"white\",\"ticks\":\"\"},\"radialaxis\":{\"gridcolor\":\"white\",\"linecolor\":\"white\",\"ticks\":\"\"}},\"ternary\":{\"bgcolor\":\"#E5ECF6\",\"aaxis\":{\"gridcolor\":\"white\",\"linecolor\":\"white\",\"ticks\":\"\"},\"baxis\":{\"gridcolor\":\"white\",\"linecolor\":\"white\",\"ticks\":\"\"},\"caxis\":{\"gridcolor\":\"white\",\"linecolor\":\"white\",\"ticks\":\"\"}},\"coloraxis\":{\"colorbar\":{\"outlinewidth\":0,\"ticks\":\"\"}},\"colorscale\":{\"sequential\":[[0.0,\"#0d0887\"],[0.1111111111111111,\"#46039f\"],[0.2222222222222222,\"#7201a8\"],[0.3333333333333333,\"#9c179e\"],[0.4444444444444444,\"#bd3786\"],[0.5555555555555556,\"#d8576b\"],[0.6666666666666666,\"#ed7953\"],[0.7777777777777778,\"#fb9f3a\"],[0.8888888888888888,\"#fdca26\"],[1.0,\"#f0f921\"]],\"sequentialminus\":[[0.0,\"#0d0887\"],[0.1111111111111111,\"#46039f\"],[0.2222222222222222,\"#7201a8\"],[0.3333333333333333,\"#9c179e\"],[0.4444444444444444,\"#bd3786\"],[0.5555555555555556,\"#d8576b\"],[0.6666666666666666,\"#ed7953\"],[0.7777777777777778,\"#fb9f3a\"],[0.8888888888888888,\"#fdca26\"],[1.0,\"#f0f921\"]],\"diverging\":[[0,\"#8e0152\"],[0.1,\"#c51b7d\"],[0.2,\"#de77ae\"],[0.3,\"#f1b6da\"],[0.4,\"#fde0ef\"],[0.5,\"#f7f7f7\"],[0.6,\"#e6f5d0\"],[0.7,\"#b8e186\"],[0.8,\"#7fbc41\"],[0.9,\"#4d9221\"],[1,\"#276419\"]]},\"xaxis\":{\"gridcolor\":\"white\",\"linecolor\":\"white\",\"ticks\":\"\",\"title\":{\"standoff\":15},\"zerolinecolor\":\"white\",\"automargin\":true,\"zerolinewidth\":2},\"yaxis\":{\"gridcolor\":\"white\",\"linecolor\":\"white\",\"ticks\":\"\",\"title\":{\"standoff\":15},\"zerolinecolor\":\"white\",\"automargin\":true,\"zerolinewidth\":2},\"scene\":{\"xaxis\":{\"backgroundcolor\":\"#E5ECF6\",\"gridcolor\":\"white\",\"linecolor\":\"white\",\"showbackground\":true,\"ticks\":\"\",\"zerolinecolor\":\"white\",\"gridwidth\":2},\"yaxis\":{\"backgroundcolor\":\"#E5ECF6\",\"gridcolor\":\"white\",\"linecolor\":\"white\",\"showbackground\":true,\"ticks\":\"\",\"zerolinecolor\":\"white\",\"gridwidth\":2},\"zaxis\":{\"backgroundcolor\":\"#E5ECF6\",\"gridcolor\":\"white\",\"linecolor\":\"white\",\"showbackground\":true,\"ticks\":\"\",\"zerolinecolor\":\"white\",\"gridwidth\":2}},\"shapedefaults\":{\"line\":{\"color\":\"#2a3f5f\"}},\"annotationdefaults\":{\"arrowcolor\":\"#2a3f5f\",\"arrowhead\":0,\"arrowwidth\":1},\"geo\":{\"bgcolor\":\"white\",\"landcolor\":\"#E5ECF6\",\"subunitcolor\":\"white\",\"showland\":true,\"showlakes\":true,\"lakecolor\":\"white\"},\"title\":{\"x\":0.05},\"mapbox\":{\"style\":\"light\"}}},\"height\":600,\"width\":800},                        {\"responsive\": true}                    ).then(function(){\n",
       "                            \n",
       "var gd = document.getElementById('da807759-e081-443a-b19a-c126d8bdb37d');\n",
       "var x = new MutationObserver(function (mutations, observer) {{\n",
       "        var display = window.getComputedStyle(gd).display;\n",
       "        if (!display || display === 'none') {{\n",
       "            console.log([gd, 'removed!']);\n",
       "            Plotly.purge(gd);\n",
       "            observer.disconnect();\n",
       "        }}\n",
       "}});\n",
       "\n",
       "// Listen for the removal of the full notebook cells\n",
       "var notebookContainer = gd.closest('#notebook-container');\n",
       "if (notebookContainer) {{\n",
       "    x.observe(notebookContainer, {childList: true});\n",
       "}}\n",
       "\n",
       "// Listen for the clearing of the current output cell\n",
       "var outputEl = gd.closest('.output');\n",
       "if (outputEl) {{\n",
       "    x.observe(outputEl, {childList: true});\n",
       "}}\n",
       "\n",
       "                        })                };                });            </script>        </div>"
      ]
     },
     "metadata": {},
     "output_type": "display_data"
    }
   ],
   "source": [
    "help_for_par1 = table4_pom.groupby(['Druh vzdelania', 'Druh zamestnania (ISCO - triedy)'])['abs.'].sum()\n",
    "\n",
    "fig = go.Figure(go.Parcats(\n",
    "    dimensions=[{'label': 'Vzdelanie',\n",
    "         'values': [i[0] for i in help_for_par1.index.values]},\n",
    "        {'label': 'Zamestnanie',\n",
    "         'values': [i[1] for i in help_for_par1.index.values]}],\n",
    "    \n",
    "    counts=help_for_par1.values\n",
    "))\n",
    "\n",
    "fig.update_layout(height=600, width=800)\n",
    "\n",
    "fig.show()"
   ]
  },
  {
   "cell_type": "code",
   "execution_count": 99,
   "id": "4342d475",
   "metadata": {},
   "outputs": [
    {
     "data": {
      "application/vnd.plotly.v1+json": {
       "config": {
        "plotlyServerURL": "https://plot.ly"
       },
       "data": [
        {
         "counts": [
          212,
          7236,
          161077,
          94452,
          15570,
          276,
          13976,
          149722,
          199477,
          11805,
          251,
          7330,
          171464,
          124204,
          16265,
          284,
          10278,
          190073,
          106726,
          18300,
          246,
          6558,
          196029,
          123658,
          18588,
          150,
          8480,
          174154,
          95120,
          10073,
          207,
          8589,
          165778,
          91398,
          16915,
          192,
          7200,
          200719,
          118496,
          12363
         ],
         "dimensions": [
          {
           "label": "Vzdelanie",
           "values": [
            "Banskobystrický kraj",
            "Banskobystrický kraj",
            "Banskobystrický kraj",
            "Banskobystrický kraj",
            "Banskobystrický kraj",
            "Bratislavský kraj",
            "Bratislavský kraj",
            "Bratislavský kraj",
            "Bratislavský kraj",
            "Bratislavský kraj",
            "Košický kraj",
            "Košický kraj",
            "Košický kraj",
            "Košický kraj",
            "Košický kraj",
            "Nitriansky kraj",
            "Nitriansky kraj",
            "Nitriansky kraj",
            "Nitriansky kraj",
            "Nitriansky kraj",
            "Prešovský kraj",
            "Prešovský kraj",
            "Prešovský kraj",
            "Prešovský kraj",
            "Prešovský kraj",
            "Trenčiansky kraj",
            "Trenčiansky kraj",
            "Trenčiansky kraj",
            "Trenčiansky kraj",
            "Trenčiansky kraj",
            "Trnavský kraj",
            "Trnavský kraj",
            "Trnavský kraj",
            "Trnavský kraj",
            "Trnavský kraj",
            "Žilinský kraj",
            "Žilinský kraj",
            "Žilinský kraj",
            "Žilinský kraj",
            "Žilinský kraj"
           ]
          },
          {
           "label": "Zamestnanie",
           "values": [
            "neziskané",
            "ostatné",
            "stredné",
            "vyššie",
            "základné",
            "neziskané",
            "ostatné",
            "stredné",
            "vyššie",
            "základné",
            "neziskané",
            "ostatné",
            "stredné",
            "vyššie",
            "základné",
            "neziskané",
            "ostatné",
            "stredné",
            "vyššie",
            "základné",
            "neziskané",
            "ostatné",
            "stredné",
            "vyššie",
            "základné",
            "neziskané",
            "ostatné",
            "stredné",
            "vyššie",
            "základné",
            "neziskané",
            "ostatné",
            "stredné",
            "vyššie",
            "základné",
            "neziskané",
            "ostatné",
            "stredné",
            "vyššie",
            "základné"
           ]
          }
         ],
         "type": "parcats"
        }
       ],
       "layout": {
        "height": 600,
        "template": {
         "data": {
          "bar": [
           {
            "error_x": {
             "color": "#2a3f5f"
            },
            "error_y": {
             "color": "#2a3f5f"
            },
            "marker": {
             "line": {
              "color": "#E5ECF6",
              "width": 0.5
             },
             "pattern": {
              "fillmode": "overlay",
              "size": 10,
              "solidity": 0.2
             }
            },
            "type": "bar"
           }
          ],
          "barpolar": [
           {
            "marker": {
             "line": {
              "color": "#E5ECF6",
              "width": 0.5
             },
             "pattern": {
              "fillmode": "overlay",
              "size": 10,
              "solidity": 0.2
             }
            },
            "type": "barpolar"
           }
          ],
          "carpet": [
           {
            "aaxis": {
             "endlinecolor": "#2a3f5f",
             "gridcolor": "white",
             "linecolor": "white",
             "minorgridcolor": "white",
             "startlinecolor": "#2a3f5f"
            },
            "baxis": {
             "endlinecolor": "#2a3f5f",
             "gridcolor": "white",
             "linecolor": "white",
             "minorgridcolor": "white",
             "startlinecolor": "#2a3f5f"
            },
            "type": "carpet"
           }
          ],
          "choropleth": [
           {
            "colorbar": {
             "outlinewidth": 0,
             "ticks": ""
            },
            "type": "choropleth"
           }
          ],
          "contour": [
           {
            "colorbar": {
             "outlinewidth": 0,
             "ticks": ""
            },
            "colorscale": [
             [
              0,
              "#0d0887"
             ],
             [
              0.1111111111111111,
              "#46039f"
             ],
             [
              0.2222222222222222,
              "#7201a8"
             ],
             [
              0.3333333333333333,
              "#9c179e"
             ],
             [
              0.4444444444444444,
              "#bd3786"
             ],
             [
              0.5555555555555556,
              "#d8576b"
             ],
             [
              0.6666666666666666,
              "#ed7953"
             ],
             [
              0.7777777777777778,
              "#fb9f3a"
             ],
             [
              0.8888888888888888,
              "#fdca26"
             ],
             [
              1,
              "#f0f921"
             ]
            ],
            "type": "contour"
           }
          ],
          "contourcarpet": [
           {
            "colorbar": {
             "outlinewidth": 0,
             "ticks": ""
            },
            "type": "contourcarpet"
           }
          ],
          "heatmap": [
           {
            "colorbar": {
             "outlinewidth": 0,
             "ticks": ""
            },
            "colorscale": [
             [
              0,
              "#0d0887"
             ],
             [
              0.1111111111111111,
              "#46039f"
             ],
             [
              0.2222222222222222,
              "#7201a8"
             ],
             [
              0.3333333333333333,
              "#9c179e"
             ],
             [
              0.4444444444444444,
              "#bd3786"
             ],
             [
              0.5555555555555556,
              "#d8576b"
             ],
             [
              0.6666666666666666,
              "#ed7953"
             ],
             [
              0.7777777777777778,
              "#fb9f3a"
             ],
             [
              0.8888888888888888,
              "#fdca26"
             ],
             [
              1,
              "#f0f921"
             ]
            ],
            "type": "heatmap"
           }
          ],
          "heatmapgl": [
           {
            "colorbar": {
             "outlinewidth": 0,
             "ticks": ""
            },
            "colorscale": [
             [
              0,
              "#0d0887"
             ],
             [
              0.1111111111111111,
              "#46039f"
             ],
             [
              0.2222222222222222,
              "#7201a8"
             ],
             [
              0.3333333333333333,
              "#9c179e"
             ],
             [
              0.4444444444444444,
              "#bd3786"
             ],
             [
              0.5555555555555556,
              "#d8576b"
             ],
             [
              0.6666666666666666,
              "#ed7953"
             ],
             [
              0.7777777777777778,
              "#fb9f3a"
             ],
             [
              0.8888888888888888,
              "#fdca26"
             ],
             [
              1,
              "#f0f921"
             ]
            ],
            "type": "heatmapgl"
           }
          ],
          "histogram": [
           {
            "marker": {
             "pattern": {
              "fillmode": "overlay",
              "size": 10,
              "solidity": 0.2
             }
            },
            "type": "histogram"
           }
          ],
          "histogram2d": [
           {
            "colorbar": {
             "outlinewidth": 0,
             "ticks": ""
            },
            "colorscale": [
             [
              0,
              "#0d0887"
             ],
             [
              0.1111111111111111,
              "#46039f"
             ],
             [
              0.2222222222222222,
              "#7201a8"
             ],
             [
              0.3333333333333333,
              "#9c179e"
             ],
             [
              0.4444444444444444,
              "#bd3786"
             ],
             [
              0.5555555555555556,
              "#d8576b"
             ],
             [
              0.6666666666666666,
              "#ed7953"
             ],
             [
              0.7777777777777778,
              "#fb9f3a"
             ],
             [
              0.8888888888888888,
              "#fdca26"
             ],
             [
              1,
              "#f0f921"
             ]
            ],
            "type": "histogram2d"
           }
          ],
          "histogram2dcontour": [
           {
            "colorbar": {
             "outlinewidth": 0,
             "ticks": ""
            },
            "colorscale": [
             [
              0,
              "#0d0887"
             ],
             [
              0.1111111111111111,
              "#46039f"
             ],
             [
              0.2222222222222222,
              "#7201a8"
             ],
             [
              0.3333333333333333,
              "#9c179e"
             ],
             [
              0.4444444444444444,
              "#bd3786"
             ],
             [
              0.5555555555555556,
              "#d8576b"
             ],
             [
              0.6666666666666666,
              "#ed7953"
             ],
             [
              0.7777777777777778,
              "#fb9f3a"
             ],
             [
              0.8888888888888888,
              "#fdca26"
             ],
             [
              1,
              "#f0f921"
             ]
            ],
            "type": "histogram2dcontour"
           }
          ],
          "mesh3d": [
           {
            "colorbar": {
             "outlinewidth": 0,
             "ticks": ""
            },
            "type": "mesh3d"
           }
          ],
          "parcoords": [
           {
            "line": {
             "colorbar": {
              "outlinewidth": 0,
              "ticks": ""
             }
            },
            "type": "parcoords"
           }
          ],
          "pie": [
           {
            "automargin": true,
            "type": "pie"
           }
          ],
          "scatter": [
           {
            "fillpattern": {
             "fillmode": "overlay",
             "size": 10,
             "solidity": 0.2
            },
            "type": "scatter"
           }
          ],
          "scatter3d": [
           {
            "line": {
             "colorbar": {
              "outlinewidth": 0,
              "ticks": ""
             }
            },
            "marker": {
             "colorbar": {
              "outlinewidth": 0,
              "ticks": ""
             }
            },
            "type": "scatter3d"
           }
          ],
          "scattercarpet": [
           {
            "marker": {
             "colorbar": {
              "outlinewidth": 0,
              "ticks": ""
             }
            },
            "type": "scattercarpet"
           }
          ],
          "scattergeo": [
           {
            "marker": {
             "colorbar": {
              "outlinewidth": 0,
              "ticks": ""
             }
            },
            "type": "scattergeo"
           }
          ],
          "scattergl": [
           {
            "marker": {
             "colorbar": {
              "outlinewidth": 0,
              "ticks": ""
             }
            },
            "type": "scattergl"
           }
          ],
          "scattermapbox": [
           {
            "marker": {
             "colorbar": {
              "outlinewidth": 0,
              "ticks": ""
             }
            },
            "type": "scattermapbox"
           }
          ],
          "scatterpolar": [
           {
            "marker": {
             "colorbar": {
              "outlinewidth": 0,
              "ticks": ""
             }
            },
            "type": "scatterpolar"
           }
          ],
          "scatterpolargl": [
           {
            "marker": {
             "colorbar": {
              "outlinewidth": 0,
              "ticks": ""
             }
            },
            "type": "scatterpolargl"
           }
          ],
          "scatterternary": [
           {
            "marker": {
             "colorbar": {
              "outlinewidth": 0,
              "ticks": ""
             }
            },
            "type": "scatterternary"
           }
          ],
          "surface": [
           {
            "colorbar": {
             "outlinewidth": 0,
             "ticks": ""
            },
            "colorscale": [
             [
              0,
              "#0d0887"
             ],
             [
              0.1111111111111111,
              "#46039f"
             ],
             [
              0.2222222222222222,
              "#7201a8"
             ],
             [
              0.3333333333333333,
              "#9c179e"
             ],
             [
              0.4444444444444444,
              "#bd3786"
             ],
             [
              0.5555555555555556,
              "#d8576b"
             ],
             [
              0.6666666666666666,
              "#ed7953"
             ],
             [
              0.7777777777777778,
              "#fb9f3a"
             ],
             [
              0.8888888888888888,
              "#fdca26"
             ],
             [
              1,
              "#f0f921"
             ]
            ],
            "type": "surface"
           }
          ],
          "table": [
           {
            "cells": {
             "fill": {
              "color": "#EBF0F8"
             },
             "line": {
              "color": "white"
             }
            },
            "header": {
             "fill": {
              "color": "#C8D4E3"
             },
             "line": {
              "color": "white"
             }
            },
            "type": "table"
           }
          ]
         },
         "layout": {
          "annotationdefaults": {
           "arrowcolor": "#2a3f5f",
           "arrowhead": 0,
           "arrowwidth": 1
          },
          "autotypenumbers": "strict",
          "coloraxis": {
           "colorbar": {
            "outlinewidth": 0,
            "ticks": ""
           }
          },
          "colorscale": {
           "diverging": [
            [
             0,
             "#8e0152"
            ],
            [
             0.1,
             "#c51b7d"
            ],
            [
             0.2,
             "#de77ae"
            ],
            [
             0.3,
             "#f1b6da"
            ],
            [
             0.4,
             "#fde0ef"
            ],
            [
             0.5,
             "#f7f7f7"
            ],
            [
             0.6,
             "#e6f5d0"
            ],
            [
             0.7,
             "#b8e186"
            ],
            [
             0.8,
             "#7fbc41"
            ],
            [
             0.9,
             "#4d9221"
            ],
            [
             1,
             "#276419"
            ]
           ],
           "sequential": [
            [
             0,
             "#0d0887"
            ],
            [
             0.1111111111111111,
             "#46039f"
            ],
            [
             0.2222222222222222,
             "#7201a8"
            ],
            [
             0.3333333333333333,
             "#9c179e"
            ],
            [
             0.4444444444444444,
             "#bd3786"
            ],
            [
             0.5555555555555556,
             "#d8576b"
            ],
            [
             0.6666666666666666,
             "#ed7953"
            ],
            [
             0.7777777777777778,
             "#fb9f3a"
            ],
            [
             0.8888888888888888,
             "#fdca26"
            ],
            [
             1,
             "#f0f921"
            ]
           ],
           "sequentialminus": [
            [
             0,
             "#0d0887"
            ],
            [
             0.1111111111111111,
             "#46039f"
            ],
            [
             0.2222222222222222,
             "#7201a8"
            ],
            [
             0.3333333333333333,
             "#9c179e"
            ],
            [
             0.4444444444444444,
             "#bd3786"
            ],
            [
             0.5555555555555556,
             "#d8576b"
            ],
            [
             0.6666666666666666,
             "#ed7953"
            ],
            [
             0.7777777777777778,
             "#fb9f3a"
            ],
            [
             0.8888888888888888,
             "#fdca26"
            ],
            [
             1,
             "#f0f921"
            ]
           ]
          },
          "colorway": [
           "#636efa",
           "#EF553B",
           "#00cc96",
           "#ab63fa",
           "#FFA15A",
           "#19d3f3",
           "#FF6692",
           "#B6E880",
           "#FF97FF",
           "#FECB52"
          ],
          "font": {
           "color": "#2a3f5f"
          },
          "geo": {
           "bgcolor": "white",
           "lakecolor": "white",
           "landcolor": "#E5ECF6",
           "showlakes": true,
           "showland": true,
           "subunitcolor": "white"
          },
          "hoverlabel": {
           "align": "left"
          },
          "hovermode": "closest",
          "mapbox": {
           "style": "light"
          },
          "paper_bgcolor": "white",
          "plot_bgcolor": "#E5ECF6",
          "polar": {
           "angularaxis": {
            "gridcolor": "white",
            "linecolor": "white",
            "ticks": ""
           },
           "bgcolor": "#E5ECF6",
           "radialaxis": {
            "gridcolor": "white",
            "linecolor": "white",
            "ticks": ""
           }
          },
          "scene": {
           "xaxis": {
            "backgroundcolor": "#E5ECF6",
            "gridcolor": "white",
            "gridwidth": 2,
            "linecolor": "white",
            "showbackground": true,
            "ticks": "",
            "zerolinecolor": "white"
           },
           "yaxis": {
            "backgroundcolor": "#E5ECF6",
            "gridcolor": "white",
            "gridwidth": 2,
            "linecolor": "white",
            "showbackground": true,
            "ticks": "",
            "zerolinecolor": "white"
           },
           "zaxis": {
            "backgroundcolor": "#E5ECF6",
            "gridcolor": "white",
            "gridwidth": 2,
            "linecolor": "white",
            "showbackground": true,
            "ticks": "",
            "zerolinecolor": "white"
           }
          },
          "shapedefaults": {
           "line": {
            "color": "#2a3f5f"
           }
          },
          "ternary": {
           "aaxis": {
            "gridcolor": "white",
            "linecolor": "white",
            "ticks": ""
           },
           "baxis": {
            "gridcolor": "white",
            "linecolor": "white",
            "ticks": ""
           },
           "bgcolor": "#E5ECF6",
           "caxis": {
            "gridcolor": "white",
            "linecolor": "white",
            "ticks": ""
           }
          },
          "title": {
           "x": 0.05
          },
          "xaxis": {
           "automargin": true,
           "gridcolor": "white",
           "linecolor": "white",
           "ticks": "",
           "title": {
            "standoff": 15
           },
           "zerolinecolor": "white",
           "zerolinewidth": 2
          },
          "yaxis": {
           "automargin": true,
           "gridcolor": "white",
           "linecolor": "white",
           "ticks": "",
           "title": {
            "standoff": 15
           },
           "zerolinecolor": "white",
           "zerolinewidth": 2
          }
         }
        },
        "width": 800
       }
      },
      "text/html": [
       "<div>                            <div id=\"314df49f-f52a-4ca6-8e1c-31520826cd12\" class=\"plotly-graph-div\" style=\"height:600px; width:800px;\"></div>            <script type=\"text/javascript\">                require([\"plotly\"], function(Plotly) {                    window.PLOTLYENV=window.PLOTLYENV || {};                                    if (document.getElementById(\"314df49f-f52a-4ca6-8e1c-31520826cd12\")) {                    Plotly.newPlot(                        \"314df49f-f52a-4ca6-8e1c-31520826cd12\",                        [{\"counts\":[212,7236,161077,94452,15570,276,13976,149722,199477,11805,251,7330,171464,124204,16265,284,10278,190073,106726,18300,246,6558,196029,123658,18588,150,8480,174154,95120,10073,207,8589,165778,91398,16915,192,7200,200719,118496,12363],\"dimensions\":[{\"label\":\"Vzdelanie\",\"values\":[\"Banskobystrick\\u00fd kraj\",\"Banskobystrick\\u00fd kraj\",\"Banskobystrick\\u00fd kraj\",\"Banskobystrick\\u00fd kraj\",\"Banskobystrick\\u00fd kraj\",\"Bratislavsk\\u00fd kraj\",\"Bratislavsk\\u00fd kraj\",\"Bratislavsk\\u00fd kraj\",\"Bratislavsk\\u00fd kraj\",\"Bratislavsk\\u00fd kraj\",\"Ko\\u0161ick\\u00fd kraj\",\"Ko\\u0161ick\\u00fd kraj\",\"Ko\\u0161ick\\u00fd kraj\",\"Ko\\u0161ick\\u00fd kraj\",\"Ko\\u0161ick\\u00fd kraj\",\"Nitriansky kraj\",\"Nitriansky kraj\",\"Nitriansky kraj\",\"Nitriansky kraj\",\"Nitriansky kraj\",\"Pre\\u0161ovsk\\u00fd kraj\",\"Pre\\u0161ovsk\\u00fd kraj\",\"Pre\\u0161ovsk\\u00fd kraj\",\"Pre\\u0161ovsk\\u00fd kraj\",\"Pre\\u0161ovsk\\u00fd kraj\",\"Tren\\u010diansky kraj\",\"Tren\\u010diansky kraj\",\"Tren\\u010diansky kraj\",\"Tren\\u010diansky kraj\",\"Tren\\u010diansky kraj\",\"Trnavsk\\u00fd kraj\",\"Trnavsk\\u00fd kraj\",\"Trnavsk\\u00fd kraj\",\"Trnavsk\\u00fd kraj\",\"Trnavsk\\u00fd kraj\",\"\\u017dilinsk\\u00fd kraj\",\"\\u017dilinsk\\u00fd kraj\",\"\\u017dilinsk\\u00fd kraj\",\"\\u017dilinsk\\u00fd kraj\",\"\\u017dilinsk\\u00fd kraj\"]},{\"label\":\"Zamestnanie\",\"values\":[\"neziskan\\u00e9\",\"ostatn\\u00e9\",\"stredn\\u00e9\",\"vy\\u0161\\u0161ie\",\"z\\u00e1kladn\\u00e9\",\"neziskan\\u00e9\",\"ostatn\\u00e9\",\"stredn\\u00e9\",\"vy\\u0161\\u0161ie\",\"z\\u00e1kladn\\u00e9\",\"neziskan\\u00e9\",\"ostatn\\u00e9\",\"stredn\\u00e9\",\"vy\\u0161\\u0161ie\",\"z\\u00e1kladn\\u00e9\",\"neziskan\\u00e9\",\"ostatn\\u00e9\",\"stredn\\u00e9\",\"vy\\u0161\\u0161ie\",\"z\\u00e1kladn\\u00e9\",\"neziskan\\u00e9\",\"ostatn\\u00e9\",\"stredn\\u00e9\",\"vy\\u0161\\u0161ie\",\"z\\u00e1kladn\\u00e9\",\"neziskan\\u00e9\",\"ostatn\\u00e9\",\"stredn\\u00e9\",\"vy\\u0161\\u0161ie\",\"z\\u00e1kladn\\u00e9\",\"neziskan\\u00e9\",\"ostatn\\u00e9\",\"stredn\\u00e9\",\"vy\\u0161\\u0161ie\",\"z\\u00e1kladn\\u00e9\",\"neziskan\\u00e9\",\"ostatn\\u00e9\",\"stredn\\u00e9\",\"vy\\u0161\\u0161ie\",\"z\\u00e1kladn\\u00e9\"]}],\"type\":\"parcats\"}],                        {\"template\":{\"data\":{\"histogram2dcontour\":[{\"type\":\"histogram2dcontour\",\"colorbar\":{\"outlinewidth\":0,\"ticks\":\"\"},\"colorscale\":[[0.0,\"#0d0887\"],[0.1111111111111111,\"#46039f\"],[0.2222222222222222,\"#7201a8\"],[0.3333333333333333,\"#9c179e\"],[0.4444444444444444,\"#bd3786\"],[0.5555555555555556,\"#d8576b\"],[0.6666666666666666,\"#ed7953\"],[0.7777777777777778,\"#fb9f3a\"],[0.8888888888888888,\"#fdca26\"],[1.0,\"#f0f921\"]]}],\"choropleth\":[{\"type\":\"choropleth\",\"colorbar\":{\"outlinewidth\":0,\"ticks\":\"\"}}],\"histogram2d\":[{\"type\":\"histogram2d\",\"colorbar\":{\"outlinewidth\":0,\"ticks\":\"\"},\"colorscale\":[[0.0,\"#0d0887\"],[0.1111111111111111,\"#46039f\"],[0.2222222222222222,\"#7201a8\"],[0.3333333333333333,\"#9c179e\"],[0.4444444444444444,\"#bd3786\"],[0.5555555555555556,\"#d8576b\"],[0.6666666666666666,\"#ed7953\"],[0.7777777777777778,\"#fb9f3a\"],[0.8888888888888888,\"#fdca26\"],[1.0,\"#f0f921\"]]}],\"heatmap\":[{\"type\":\"heatmap\",\"colorbar\":{\"outlinewidth\":0,\"ticks\":\"\"},\"colorscale\":[[0.0,\"#0d0887\"],[0.1111111111111111,\"#46039f\"],[0.2222222222222222,\"#7201a8\"],[0.3333333333333333,\"#9c179e\"],[0.4444444444444444,\"#bd3786\"],[0.5555555555555556,\"#d8576b\"],[0.6666666666666666,\"#ed7953\"],[0.7777777777777778,\"#fb9f3a\"],[0.8888888888888888,\"#fdca26\"],[1.0,\"#f0f921\"]]}],\"heatmapgl\":[{\"type\":\"heatmapgl\",\"colorbar\":{\"outlinewidth\":0,\"ticks\":\"\"},\"colorscale\":[[0.0,\"#0d0887\"],[0.1111111111111111,\"#46039f\"],[0.2222222222222222,\"#7201a8\"],[0.3333333333333333,\"#9c179e\"],[0.4444444444444444,\"#bd3786\"],[0.5555555555555556,\"#d8576b\"],[0.6666666666666666,\"#ed7953\"],[0.7777777777777778,\"#fb9f3a\"],[0.8888888888888888,\"#fdca26\"],[1.0,\"#f0f921\"]]}],\"contourcarpet\":[{\"type\":\"contourcarpet\",\"colorbar\":{\"outlinewidth\":0,\"ticks\":\"\"}}],\"contour\":[{\"type\":\"contour\",\"colorbar\":{\"outlinewidth\":0,\"ticks\":\"\"},\"colorscale\":[[0.0,\"#0d0887\"],[0.1111111111111111,\"#46039f\"],[0.2222222222222222,\"#7201a8\"],[0.3333333333333333,\"#9c179e\"],[0.4444444444444444,\"#bd3786\"],[0.5555555555555556,\"#d8576b\"],[0.6666666666666666,\"#ed7953\"],[0.7777777777777778,\"#fb9f3a\"],[0.8888888888888888,\"#fdca26\"],[1.0,\"#f0f921\"]]}],\"surface\":[{\"type\":\"surface\",\"colorbar\":{\"outlinewidth\":0,\"ticks\":\"\"},\"colorscale\":[[0.0,\"#0d0887\"],[0.1111111111111111,\"#46039f\"],[0.2222222222222222,\"#7201a8\"],[0.3333333333333333,\"#9c179e\"],[0.4444444444444444,\"#bd3786\"],[0.5555555555555556,\"#d8576b\"],[0.6666666666666666,\"#ed7953\"],[0.7777777777777778,\"#fb9f3a\"],[0.8888888888888888,\"#fdca26\"],[1.0,\"#f0f921\"]]}],\"mesh3d\":[{\"type\":\"mesh3d\",\"colorbar\":{\"outlinewidth\":0,\"ticks\":\"\"}}],\"scatter\":[{\"fillpattern\":{\"fillmode\":\"overlay\",\"size\":10,\"solidity\":0.2},\"type\":\"scatter\"}],\"parcoords\":[{\"type\":\"parcoords\",\"line\":{\"colorbar\":{\"outlinewidth\":0,\"ticks\":\"\"}}}],\"scatterpolargl\":[{\"type\":\"scatterpolargl\",\"marker\":{\"colorbar\":{\"outlinewidth\":0,\"ticks\":\"\"}}}],\"bar\":[{\"error_x\":{\"color\":\"#2a3f5f\"},\"error_y\":{\"color\":\"#2a3f5f\"},\"marker\":{\"line\":{\"color\":\"#E5ECF6\",\"width\":0.5},\"pattern\":{\"fillmode\":\"overlay\",\"size\":10,\"solidity\":0.2}},\"type\":\"bar\"}],\"scattergeo\":[{\"type\":\"scattergeo\",\"marker\":{\"colorbar\":{\"outlinewidth\":0,\"ticks\":\"\"}}}],\"scatterpolar\":[{\"type\":\"scatterpolar\",\"marker\":{\"colorbar\":{\"outlinewidth\":0,\"ticks\":\"\"}}}],\"histogram\":[{\"marker\":{\"pattern\":{\"fillmode\":\"overlay\",\"size\":10,\"solidity\":0.2}},\"type\":\"histogram\"}],\"scattergl\":[{\"type\":\"scattergl\",\"marker\":{\"colorbar\":{\"outlinewidth\":0,\"ticks\":\"\"}}}],\"scatter3d\":[{\"type\":\"scatter3d\",\"line\":{\"colorbar\":{\"outlinewidth\":0,\"ticks\":\"\"}},\"marker\":{\"colorbar\":{\"outlinewidth\":0,\"ticks\":\"\"}}}],\"scattermapbox\":[{\"type\":\"scattermapbox\",\"marker\":{\"colorbar\":{\"outlinewidth\":0,\"ticks\":\"\"}}}],\"scatterternary\":[{\"type\":\"scatterternary\",\"marker\":{\"colorbar\":{\"outlinewidth\":0,\"ticks\":\"\"}}}],\"scattercarpet\":[{\"type\":\"scattercarpet\",\"marker\":{\"colorbar\":{\"outlinewidth\":0,\"ticks\":\"\"}}}],\"carpet\":[{\"aaxis\":{\"endlinecolor\":\"#2a3f5f\",\"gridcolor\":\"white\",\"linecolor\":\"white\",\"minorgridcolor\":\"white\",\"startlinecolor\":\"#2a3f5f\"},\"baxis\":{\"endlinecolor\":\"#2a3f5f\",\"gridcolor\":\"white\",\"linecolor\":\"white\",\"minorgridcolor\":\"white\",\"startlinecolor\":\"#2a3f5f\"},\"type\":\"carpet\"}],\"table\":[{\"cells\":{\"fill\":{\"color\":\"#EBF0F8\"},\"line\":{\"color\":\"white\"}},\"header\":{\"fill\":{\"color\":\"#C8D4E3\"},\"line\":{\"color\":\"white\"}},\"type\":\"table\"}],\"barpolar\":[{\"marker\":{\"line\":{\"color\":\"#E5ECF6\",\"width\":0.5},\"pattern\":{\"fillmode\":\"overlay\",\"size\":10,\"solidity\":0.2}},\"type\":\"barpolar\"}],\"pie\":[{\"automargin\":true,\"type\":\"pie\"}]},\"layout\":{\"autotypenumbers\":\"strict\",\"colorway\":[\"#636efa\",\"#EF553B\",\"#00cc96\",\"#ab63fa\",\"#FFA15A\",\"#19d3f3\",\"#FF6692\",\"#B6E880\",\"#FF97FF\",\"#FECB52\"],\"font\":{\"color\":\"#2a3f5f\"},\"hovermode\":\"closest\",\"hoverlabel\":{\"align\":\"left\"},\"paper_bgcolor\":\"white\",\"plot_bgcolor\":\"#E5ECF6\",\"polar\":{\"bgcolor\":\"#E5ECF6\",\"angularaxis\":{\"gridcolor\":\"white\",\"linecolor\":\"white\",\"ticks\":\"\"},\"radialaxis\":{\"gridcolor\":\"white\",\"linecolor\":\"white\",\"ticks\":\"\"}},\"ternary\":{\"bgcolor\":\"#E5ECF6\",\"aaxis\":{\"gridcolor\":\"white\",\"linecolor\":\"white\",\"ticks\":\"\"},\"baxis\":{\"gridcolor\":\"white\",\"linecolor\":\"white\",\"ticks\":\"\"},\"caxis\":{\"gridcolor\":\"white\",\"linecolor\":\"white\",\"ticks\":\"\"}},\"coloraxis\":{\"colorbar\":{\"outlinewidth\":0,\"ticks\":\"\"}},\"colorscale\":{\"sequential\":[[0.0,\"#0d0887\"],[0.1111111111111111,\"#46039f\"],[0.2222222222222222,\"#7201a8\"],[0.3333333333333333,\"#9c179e\"],[0.4444444444444444,\"#bd3786\"],[0.5555555555555556,\"#d8576b\"],[0.6666666666666666,\"#ed7953\"],[0.7777777777777778,\"#fb9f3a\"],[0.8888888888888888,\"#fdca26\"],[1.0,\"#f0f921\"]],\"sequentialminus\":[[0.0,\"#0d0887\"],[0.1111111111111111,\"#46039f\"],[0.2222222222222222,\"#7201a8\"],[0.3333333333333333,\"#9c179e\"],[0.4444444444444444,\"#bd3786\"],[0.5555555555555556,\"#d8576b\"],[0.6666666666666666,\"#ed7953\"],[0.7777777777777778,\"#fb9f3a\"],[0.8888888888888888,\"#fdca26\"],[1.0,\"#f0f921\"]],\"diverging\":[[0,\"#8e0152\"],[0.1,\"#c51b7d\"],[0.2,\"#de77ae\"],[0.3,\"#f1b6da\"],[0.4,\"#fde0ef\"],[0.5,\"#f7f7f7\"],[0.6,\"#e6f5d0\"],[0.7,\"#b8e186\"],[0.8,\"#7fbc41\"],[0.9,\"#4d9221\"],[1,\"#276419\"]]},\"xaxis\":{\"gridcolor\":\"white\",\"linecolor\":\"white\",\"ticks\":\"\",\"title\":{\"standoff\":15},\"zerolinecolor\":\"white\",\"automargin\":true,\"zerolinewidth\":2},\"yaxis\":{\"gridcolor\":\"white\",\"linecolor\":\"white\",\"ticks\":\"\",\"title\":{\"standoff\":15},\"zerolinecolor\":\"white\",\"automargin\":true,\"zerolinewidth\":2},\"scene\":{\"xaxis\":{\"backgroundcolor\":\"#E5ECF6\",\"gridcolor\":\"white\",\"linecolor\":\"white\",\"showbackground\":true,\"ticks\":\"\",\"zerolinecolor\":\"white\",\"gridwidth\":2},\"yaxis\":{\"backgroundcolor\":\"#E5ECF6\",\"gridcolor\":\"white\",\"linecolor\":\"white\",\"showbackground\":true,\"ticks\":\"\",\"zerolinecolor\":\"white\",\"gridwidth\":2},\"zaxis\":{\"backgroundcolor\":\"#E5ECF6\",\"gridcolor\":\"white\",\"linecolor\":\"white\",\"showbackground\":true,\"ticks\":\"\",\"zerolinecolor\":\"white\",\"gridwidth\":2}},\"shapedefaults\":{\"line\":{\"color\":\"#2a3f5f\"}},\"annotationdefaults\":{\"arrowcolor\":\"#2a3f5f\",\"arrowhead\":0,\"arrowwidth\":1},\"geo\":{\"bgcolor\":\"white\",\"landcolor\":\"#E5ECF6\",\"subunitcolor\":\"white\",\"showland\":true,\"showlakes\":true,\"lakecolor\":\"white\"},\"title\":{\"x\":0.05},\"mapbox\":{\"style\":\"light\"}}},\"height\":600,\"width\":800},                        {\"responsive\": true}                    ).then(function(){\n",
       "                            \n",
       "var gd = document.getElementById('314df49f-f52a-4ca6-8e1c-31520826cd12');\n",
       "var x = new MutationObserver(function (mutations, observer) {{\n",
       "        var display = window.getComputedStyle(gd).display;\n",
       "        if (!display || display === 'none') {{\n",
       "            console.log([gd, 'removed!']);\n",
       "            Plotly.purge(gd);\n",
       "            observer.disconnect();\n",
       "        }}\n",
       "}});\n",
       "\n",
       "// Listen for the removal of the full notebook cells\n",
       "var notebookContainer = gd.closest('#notebook-container');\n",
       "if (notebookContainer) {{\n",
       "    x.observe(notebookContainer, {childList: true});\n",
       "}}\n",
       "\n",
       "// Listen for the clearing of the current output cell\n",
       "var outputEl = gd.closest('.output');\n",
       "if (outputEl) {{\n",
       "    x.observe(outputEl, {childList: true});\n",
       "}}\n",
       "\n",
       "                        })                };                });            </script>        </div>"
      ]
     },
     "metadata": {},
     "output_type": "display_data"
    }
   ],
   "source": [
    "help_for_par2 = table4_pom.groupby(['Názov kraja','Druh vzdelania'])['abs.'].sum()\n",
    "\n",
    "fig = go.Figure(go.Parcats(\n",
    "    dimensions=[{'label': 'Vzdelanie',\n",
    "         'values': [i[0] for i in help_for_par2.index.values]},\n",
    "        {'label': 'Zamestnanie',\n",
    "         'values': [i[1] for i in help_for_par2.index.values]}],\n",
    "    \n",
    "    counts=help_for_par2.values\n",
    "))\n",
    "\n",
    "fig.update_layout(height=600, width=800)\n",
    "\n",
    "fig.show()"
   ]
  },
  {
   "cell_type": "code",
   "execution_count": 100,
   "id": "a883e2b1",
   "metadata": {},
   "outputs": [
    {
     "data": {
      "text/plain": [
       "Ekonomický sektor (NACE - sekcie)\n",
       "Other activities      49446\n",
       "Primary               64378\n",
       "Secondary            620614\n",
       "Tertiary            1427411\n",
       "Undefined            392042\n",
       "Name: abs., dtype: int64"
      ]
     },
     "metadata": {},
     "output_type": "display_data"
    }
   ],
   "source": [
    "display(table4_pom.groupby('Ekonomický sektor (NACE - sekcie)')['abs.'].sum())"
   ]
  },
  {
   "cell_type": "code",
   "execution_count": 101,
   "id": "d0b2fd46",
   "metadata": {},
   "outputs": [],
   "source": [
    "d = table4_pom.groupby('Ekonomický sektor (NACE - sekcie)')['abs.'].sum()"
   ]
  },
  {
   "cell_type": "code",
   "execution_count": 102,
   "id": "73e304a9",
   "metadata": {},
   "outputs": [],
   "source": [
    "table4_pom['Súčet vnútri sektora'] = table4_pom['Ekonomický sektor (NACE - sekcie)'].map(d)"
   ]
  },
  {
   "cell_type": "code",
   "execution_count": 103,
   "id": "59e2fde1",
   "metadata": {},
   "outputs": [],
   "source": [
    "grouped_table = table4_pom.groupby(['Súčet vnútri sektora', 'Druh vzdelania'])['abs.'].sum()\n",
    "\n",
    "def map_func(index1, index2):\n",
    "    return grouped_table[(index1, index2)]"
   ]
  },
  {
   "cell_type": "code",
   "execution_count": 104,
   "id": "65c2c511",
   "metadata": {},
   "outputs": [
    {
     "data": {
      "text/html": [
       "<div>\n",
       "<style scoped>\n",
       "    .dataframe tbody tr th:only-of-type {\n",
       "        vertical-align: middle;\n",
       "    }\n",
       "\n",
       "    .dataframe tbody tr th {\n",
       "        vertical-align: top;\n",
       "    }\n",
       "\n",
       "    .dataframe thead th {\n",
       "        text-align: right;\n",
       "    }\n",
       "</style>\n",
       "<table border=\"1\" class=\"dataframe\">\n",
       "  <thead>\n",
       "    <tr style=\"text-align: right;\">\n",
       "      <th></th>\n",
       "      <th>Kód štátu</th>\n",
       "      <th>Názov štátu</th>\n",
       "      <th>Kód oblasti</th>\n",
       "      <th>Kód kraja</th>\n",
       "      <th>Názov oblasti</th>\n",
       "      <th>Názov kraja</th>\n",
       "      <th>Súčasná ekonomická aktivita</th>\n",
       "      <th>Odvetvie ekonomickej činnosti​ (NACE - sekcie)</th>\n",
       "      <th>Zamestnanie (ISCO - triedy)</th>\n",
       "      <th>Vzdelanie</th>\n",
       "      <th>abs.</th>\n",
       "      <th>Druh vzdelania</th>\n",
       "      <th>Druh zamestnania (ISCO - triedy)</th>\n",
       "      <th>Ekonomický sektor (NACE - sekcie)</th>\n",
       "      <th>Súčet vnútri sektora</th>\n",
       "      <th>Súčet pre vzdelanie</th>\n",
       "      <th>Percentage</th>\n",
       "    </tr>\n",
       "  </thead>\n",
       "  <tbody>\n",
       "    <tr>\n",
       "      <th>0</th>\n",
       "      <td>SK0</td>\n",
       "      <td>Slovenská republika</td>\n",
       "      <td>SK01</td>\n",
       "      <td>SK010</td>\n",
       "      <td>Bratislavský kraj</td>\n",
       "      <td>Bratislavský kraj</td>\n",
       "      <td>pracujúci (okrem dôchodcov)</td>\n",
       "      <td>nezistené</td>\n",
       "      <td>nezistené</td>\n",
       "      <td>nezistené</td>\n",
       "      <td>1120</td>\n",
       "      <td>ostatné</td>\n",
       "      <td>Undefined</td>\n",
       "      <td>Undefined</td>\n",
       "      <td>392042</td>\n",
       "      <td>11086</td>\n",
       "      <td>2.827758</td>\n",
       "    </tr>\n",
       "    <tr>\n",
       "      <th>1</th>\n",
       "      <td>SK0</td>\n",
       "      <td>Slovenská republika</td>\n",
       "      <td>SK01</td>\n",
       "      <td>SK010</td>\n",
       "      <td>Bratislavský kraj</td>\n",
       "      <td>Bratislavský kraj</td>\n",
       "      <td>pracujúci (okrem dôchodcov)</td>\n",
       "      <td>nezistené</td>\n",
       "      <td>nezistené</td>\n",
       "      <td>základné vzdelanie - 1. stupeň základnej školy</td>\n",
       "      <td>51</td>\n",
       "      <td>základné</td>\n",
       "      <td>Undefined</td>\n",
       "      <td>Undefined</td>\n",
       "      <td>392042</td>\n",
       "      <td>24661</td>\n",
       "      <td>6.290397</td>\n",
       "    </tr>\n",
       "    <tr>\n",
       "      <th>2</th>\n",
       "      <td>SK0</td>\n",
       "      <td>Slovenská republika</td>\n",
       "      <td>SK01</td>\n",
       "      <td>SK010</td>\n",
       "      <td>Bratislavský kraj</td>\n",
       "      <td>Bratislavský kraj</td>\n",
       "      <td>pracujúci (okrem dôchodcov)</td>\n",
       "      <td>nezistené</td>\n",
       "      <td>nezistené</td>\n",
       "      <td>základné vzdelanie - 2. stupeň základnej školy</td>\n",
       "      <td>257</td>\n",
       "      <td>základné</td>\n",
       "      <td>Undefined</td>\n",
       "      <td>Undefined</td>\n",
       "      <td>392042</td>\n",
       "      <td>24661</td>\n",
       "      <td>6.290397</td>\n",
       "    </tr>\n",
       "    <tr>\n",
       "      <th>3</th>\n",
       "      <td>SK0</td>\n",
       "      <td>Slovenská republika</td>\n",
       "      <td>SK01</td>\n",
       "      <td>SK010</td>\n",
       "      <td>Bratislavský kraj</td>\n",
       "      <td>Bratislavský kraj</td>\n",
       "      <td>pracujúci (okrem dôchodcov)</td>\n",
       "      <td>nezistené</td>\n",
       "      <td>nezistené</td>\n",
       "      <td>stredné odborné (učňovské) vzdelanie bez matur...</td>\n",
       "      <td>4</td>\n",
       "      <td>stredné</td>\n",
       "      <td>Undefined</td>\n",
       "      <td>Undefined</td>\n",
       "      <td>392042</td>\n",
       "      <td>202690</td>\n",
       "      <td>51.701093</td>\n",
       "    </tr>\n",
       "    <tr>\n",
       "      <th>4</th>\n",
       "      <td>SK0</td>\n",
       "      <td>Slovenská republika</td>\n",
       "      <td>SK01</td>\n",
       "      <td>SK010</td>\n",
       "      <td>Bratislavský kraj</td>\n",
       "      <td>Bratislavský kraj</td>\n",
       "      <td>pracujúci (okrem dôchodcov)</td>\n",
       "      <td>nezistené</td>\n",
       "      <td>nezistené</td>\n",
       "      <td>stredné odborné (učňovské) vzdelanie bez matur...</td>\n",
       "      <td>76</td>\n",
       "      <td>stredné</td>\n",
       "      <td>Undefined</td>\n",
       "      <td>Undefined</td>\n",
       "      <td>392042</td>\n",
       "      <td>202690</td>\n",
       "      <td>51.701093</td>\n",
       "    </tr>\n",
       "  </tbody>\n",
       "</table>\n",
       "</div>"
      ],
      "text/plain": [
       "  Kód štátu          Názov štátu Kód oblasti Kód kraja      Názov oblasti  \\\n",
       "0       SK0  Slovenská republika        SK01     SK010  Bratislavský kraj   \n",
       "1       SK0  Slovenská republika        SK01     SK010  Bratislavský kraj   \n",
       "2       SK0  Slovenská republika        SK01     SK010  Bratislavský kraj   \n",
       "3       SK0  Slovenská republika        SK01     SK010  Bratislavský kraj   \n",
       "4       SK0  Slovenská republika        SK01     SK010  Bratislavský kraj   \n",
       "\n",
       "         Názov kraja  Súčasná ekonomická aktivita  \\\n",
       "0  Bratislavský kraj  pracujúci (okrem dôchodcov)   \n",
       "1  Bratislavský kraj  pracujúci (okrem dôchodcov)   \n",
       "2  Bratislavský kraj  pracujúci (okrem dôchodcov)   \n",
       "3  Bratislavský kraj  pracujúci (okrem dôchodcov)   \n",
       "4  Bratislavský kraj  pracujúci (okrem dôchodcov)   \n",
       "\n",
       "  Odvetvie ekonomickej činnosti​ (NACE - sekcie) Zamestnanie (ISCO - triedy)  \\\n",
       "0                                      nezistené                   nezistené   \n",
       "1                                      nezistené                   nezistené   \n",
       "2                                      nezistené                   nezistené   \n",
       "3                                      nezistené                   nezistené   \n",
       "4                                      nezistené                   nezistené   \n",
       "\n",
       "                                           Vzdelanie  abs. Druh vzdelania  \\\n",
       "0                                          nezistené  1120        ostatné   \n",
       "1     základné vzdelanie - 1. stupeň základnej školy    51       základné   \n",
       "2     základné vzdelanie - 2. stupeň základnej školy   257       základné   \n",
       "3  stredné odborné (učňovské) vzdelanie bez matur...     4        stredné   \n",
       "4  stredné odborné (učňovské) vzdelanie bez matur...    76        stredné   \n",
       "\n",
       "  Druh zamestnania (ISCO - triedy) Ekonomický sektor (NACE - sekcie)  \\\n",
       "0                        Undefined                         Undefined   \n",
       "1                        Undefined                         Undefined   \n",
       "2                        Undefined                         Undefined   \n",
       "3                        Undefined                         Undefined   \n",
       "4                        Undefined                         Undefined   \n",
       "\n",
       "   Súčet vnútri sektora  Súčet pre vzdelanie  Percentage  \n",
       "0                392042                11086    2.827758  \n",
       "1                392042                24661    6.290397  \n",
       "2                392042                24661    6.290397  \n",
       "3                392042               202690   51.701093  \n",
       "4                392042               202690   51.701093  "
      ]
     },
     "execution_count": 104,
     "metadata": {},
     "output_type": "execute_result"
    }
   ],
   "source": [
    "table4_pom['Súčet pre vzdelanie'] = table4_pom.apply(lambda x: map_func(x['Súčet vnútri sektora'], x['Druh vzdelania']), axis=1)\n",
    "table4_pom['Percentage'] = table4_pom['Súčet pre vzdelanie'] * 100 / table4_pom['Súčet vnútri sektora']\n",
    "\n",
    "table4_pom.head(5)"
   ]
  },
  {
   "cell_type": "code",
   "execution_count": 105,
   "id": "594956bd",
   "metadata": {},
   "outputs": [
    {
     "data": {
      "image/png": "[encoded data removed]",
      "text/plain": [
       "<Figure size 640x480 with 1 Axes>"
      ]
     },
     "metadata": {},
     "output_type": "display_data"
    }
   ],
   "source": [
    "tmp_sectors = table4_pom['Ekonomický sektor (NACE - sekcie)'].unique()\n",
    "tmp_education = table4_pom['Druh vzdelania'].unique()\n",
    "\n",
    "starts = pd.Series([0] * tmp_sectors.shape[0])\n",
    "\n",
    "figure, axes = plt.subplots()\n",
    "\n",
    "# iterate through income groups\n",
    "for group in tmp_education:  \n",
    "    # select data for this income group from both regions\n",
    "    tmp_data = table4_pom.query(\"`Druh vzdelania` == @group\").drop_duplicates('Súčet pre vzdelanie')\n",
    "    # plot\n",
    "    rectangles = axes.barh(y=tmp_data['Ekonomický sektor (NACE - sekcie)'], width=tmp_data['Percentage'], left=starts, label=group)\n",
    "    # add labels\n",
    "    axes.bar_label(rectangles, label_type='center', fmt=\"%.0f%%\")\n",
    "    # move starts by the size of each rectangle\n",
    "    starts += tmp_data['Percentage'].reset_index(drop=True) \n",
    "\n",
    "axes.set_title('Economic sectors')\n",
    "axes.legend(bbox_to_anchor=(1, 1), loc=2)\n",
    "# hide plot frame and x-axis ticks\n",
    "axes.xaxis.set_visible(False)\n",
    "axes.set_frame_on(False)\n",
    "pass"
   ]
  },
  {
   "cell_type": "code",
   "execution_count": 106,
   "id": "526a8c66",
   "metadata": {},
   "outputs": [],
   "source": [
    "table_for_pie = table4_pom.drop_duplicates(['Druh vzdelania', 'Ekonomický sektor (NACE - sekcie)', 'Súčet vnútri sektora'])"
   ]
  },
  {
   "cell_type": "code",
   "execution_count": 107,
   "id": "79c765b3",
   "metadata": {},
   "outputs": [
    {
     "data": {
      "image/png": "[encoded data removed]",
      "text/plain": [
       "<Figure size 800x500 with 1 Axes>"
      ]
     },
     "metadata": {},
     "output_type": "display_data"
    }
   ],
   "source": [
    "figure, axes = plt.subplots(figsize=(8,5))\n",
    "axes.pie(x=table_for_pie.query('`Druh vzdelania` == \"neziskané\"')['Súčet pre vzdelanie'], labels=table_for_pie.query('`Druh vzdelania` == \"neziskané\"')['Ekonomický sektor (NACE - sekcie)'], autopct=\"%.1f%%\")\n",
    "axes.set_title('People without education by economic sectors')\n",
    "pass"
   ]
  },
  {
   "cell_type": "code",
   "execution_count": 108,
   "id": "6ecf4417",
   "metadata": {},
   "outputs": [
    {
     "data": {
      "text/plain": [
       "Text(0.5, 1.0, 'People with higher education by economic sectors')"
      ]
     },
     "execution_count": 108,
     "metadata": {},
     "output_type": "execute_result"
    },
    {
     "data": {
      "image/png": "[encoded data removed]",
      "text/plain": [
       "<Figure size 800x500 with 1 Axes>"
      ]
     },
     "metadata": {},
     "output_type": "display_data"
    }
   ],
   "source": [
    "figure, axes = plt.subplots(figsize=(8,5))\n",
    "axes.pie(x=table_for_pie.query('`Druh vzdelania` == \"vyššie\"')['Súčet pre vzdelanie'], labels=table_for_pie.query('`Druh vzdelania` == \"vyššie\"')['Ekonomický sektor (NACE - sekcie)'], autopct=\"%.1f%%\")\n",
    "axes.set_title('People with higher education by economic sectors')"
   ]
  },
  {
   "cell_type": "code",
   "execution_count": 109,
   "id": "646a45d7",
   "metadata": {},
   "outputs": [
    {
     "data": {
      "text/plain": [
       "Text(0.5, 1.0, 'People with elementary education by economic sectors')"
      ]
     },
     "execution_count": 109,
     "metadata": {},
     "output_type": "execute_result"
    },
    {
     "data": {
      "image/png": "[encoded data removed]",
      "text/plain": [
       "<Figure size 800x500 with 1 Axes>"
      ]
     },
     "metadata": {},
     "output_type": "display_data"
    }
   ],
   "source": [
    "figure, axes = plt.subplots(figsize=(8,5))\n",
    "axes.pie(x=table_for_pie.query('`Druh vzdelania` == \"základné\"')['Súčet pre vzdelanie'], labels=table_for_pie.query('`Druh vzdelania` == \"základné\"')['Ekonomický sektor (NACE - sekcie)'], autopct=\"%.1f%%\")\n",
    "axes.set_title('People with elementary education by economic sectors')"
   ]
  },
  {
   "cell_type": "code",
   "execution_count": 112,
   "id": "6affa363",
   "metadata": {},
   "outputs": [
    {
     "data": {
      "text/html": [
       "\n",
       "        <iframe\n",
       "            width=\"100%\"\n",
       "            height=\"650\"\n",
       "            src=\"http://127.0.0.1:8050/\"\n",
       "            frameborder=\"0\"\n",
       "            allowfullscreen\n",
       "            \n",
       "        ></iframe>\n",
       "        "
      ],
      "text/plain": [
       "<IPython.lib.display.IFrame at 0x23653591490>"
      ]
     },
     "metadata": {},
     "output_type": "display_data"
    }
   ],
   "source": [
    "# create a list of all functions\n",
    "#all_functions = list(functions['function'].unique())\n",
    "\n",
    "# create a new dash application app\n",
    "app = Dash(__name__)\n",
    "\n",
    "# Create layout of items in application\n",
    "#   one html <div> item containing text as small headwers (H4), \n",
    "#   items for individual inputs and a graph at the bottom\n",
    "# Currently we have two inputs:\n",
    "#   an input field for entering title text\n",
    "#   checkboxes for selecting functions \n",
    "# These elements have identifiers which will be used later in the code\n",
    "app.layout = html.Div([\n",
    "    html.Div(children=[\n",
    "        html.Label('Vzdelanie: '),\n",
    "        dcc.Dropdown(['Bez školského vzdelania', 'Základné vzdelanie', 'Stredné vzdelamie',\n",
    "                     'Vyššie vzdelanie', 'Ostatné vzdelanie'], 'Základné vzdelanie', id='education-type')]),\n",
    "    \n",
    "    html.Div(children=[\n",
    "        html.Label('Zafarbit podla ekonomického sektoru: '),\n",
    "        dcc.RadioItems(['áno', 'nie'], 'nie', id='color-choice')\n",
    "    ]),\n",
    "    \n",
    "    dcc.Graph(id='graph-content')\n",
    "])\n",
    "\n",
    "# @app.callback is a function decorator applied to function update_figure below.\n",
    "# It defines that this function will be called to update the graph when the user makes a change.\n",
    "#    Input will be the value entered to the input field with id graph-title and \n",
    "#      the list of functions selected in dcc.Checklist object with id 'selected-functions'.\n",
    "#    Output will be the graph created by the function update_figure below, which will be used\n",
    "#      to update dcc.Graph object with id 'graph-content'\n",
    "@app.callback(\n",
    "    Output('graph-content', 'figure'),\n",
    "    [\n",
    "        Input('education-type', 'value'),\n",
    "        Input('color-choice', 'value')\n",
    "    ]\n",
    ")\n",
    "def update_figure(selected_education, color_c):\n",
    "    \"\"\" Function for ploting functions listed in list selected_functions\n",
    "    with plot title given in title\"\"\"\n",
    "    education_dict = {'Bez školského vzdelania': 'neziskané',\n",
    "                      'Základné vzdelanie': 'základné',\n",
    "                      'Stredné vzdelamie': 'stredné',\n",
    "                      'Vyššie vzdelanie': 'vyššie',\n",
    "                      'Ostatné vzdelanie': 'ostatné'}\n",
    "    education = education_dict.get(selected_education)\n",
    "    \n",
    "    # select a subset of functions table with just those functions in input list\n",
    "    education_subset = table4_pom.query('`Druh vzdelania` == @education').groupby(['Druh zamestnania (ISCO - triedy)', 'Ekonomický sektor (NACE - sekcie)'])['abs.'].sum()\n",
    "    \n",
    "    if color_c == 'áno':\n",
    "        color_c = [i[1] for i in education_subset.index.values]\n",
    "    else:\n",
    "        color_c = None\n",
    "    \n",
    "    # create a plotly line plot using the smaller table in functions_subset\n",
    "    figure = px.histogram(education_subset, x=[i[0] for i in education_subset.index.values], y='abs.',\n",
    "                          width=900, height=600, color=color_c)\n",
    "\n",
    "    # add title to the plot\n",
    "    figure.update_layout(title_text='Zamestnanie podla vzdelania')    \n",
    "\n",
    "    return figure\n",
    "\n",
    "# run the whole application\n",
    "app.run_server(mode='inline')"
   ]
  }
 ],
 "metadata": {
  "kernelspec": {
   "display_name": "Python 3 (ipykernel)",
   "language": "python",
   "name": "python3"
  },
  "language_info": {
   "codemirror_mode": {
    "name": "ipython",
    "version": 3
   },
   "file_extension": ".py",
   "mimetype": "text/x-python",
   "name": "python",
   "nbconvert_exporter": "python",
   "pygments_lexer": "ipython3",
   "version": "3.9.13"
  }
 },
 "nbformat": 4,
 "nbformat_minor": 5
}
