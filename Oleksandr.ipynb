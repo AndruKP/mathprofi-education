{
 "cells": [
  {
   "cell_type": "code",
   "execution_count": null,
   "id": "94347bd5",
   "metadata": {},
   "outputs": [],
   "source": [
    "import pandas as pd\n",
    "import numpy as np\n",
    "import matplotlib.pyplot as plt\n",
    "import seaborn as sns\n",
    "import random\n",
    "import scipy.stats\n",
    "import plotly\n",
    "import geopandas as gpd\n",
    "from IPython.display import Markdown\n",
    "from dash import Dash, dcc, html, Input, Output\n",
    "import plotly.express as px\n",
    "%matplotlib inline"
   ]
  },
  {
   "cell_type": "code",
   "execution_count": null,
   "id": "95793ba8",
   "metadata": {},
   "outputs": [],
   "source": [
    "#table1 = pd.read_csv(r'C:\\Users\\aleks\\OneDrive\\Desktop\\DataVisualization\\RV_O_010_SK\\RV_O_010_L_OK_SK.csv', sep=';')\n",
    "#table2 = pd.read_csv(r'C:\\Users\\aleks\\OneDrive\\Desktop\\DataVisualization\\RV_O_040_SK\\RV_O_040_L_OK_SK.csv', sep=';')\n",
    "#table3 = pd.read_csv(r'C:\\Users\\aleks\\OneDrive\\Desktop\\DataVisualization\\RV_O_047_SK\\RV_O_047_L_OK_SK.csv', sep=';')\n",
    "table4 = pd.read_csv(r'C:\\Users\\aleks\\OneDrive\\Desktop\\DataVisualization\\RV_O_067_SK\\RV_O_067_L_OK_SK.csv', sep=';')\n",
    "table4_pom = pd.read_csv(r'C:\\Users\\aleks\\OneDrive\\Desktop\\DataVisualization\\RV_O_067_SK\\RV_O_067_R_KR_SK.csv', sep=';')"
   ]
  },
  {
   "cell_type": "code",
   "execution_count": null,
   "id": "c8000992",
   "metadata": {},
   "outputs": [],
   "source": [
    "table4_pom.head(5)"
   ]
  },
  {
   "cell_type": "code",
   "execution_count": null,
   "id": "0f550c39",
   "metadata": {},
   "outputs": [],
   "source": [
    "display(sum(table4_pom['abs.']))"
   ]
  },
  {
   "cell_type": "code",
   "execution_count": null,
   "id": "1c682a8d",
   "metadata": {},
   "outputs": [],
   "source": [
    "vyssie_zoznam = [x for x in table4.iloc[:, 5].unique() if 'vysokoškolské' in x or \"vyššie\" in x]\n",
    "stredne_zoznam = [x for x in table4.iloc[:, 5].unique() if \"stredné\" in x]\n",
    "zakladne_zoznam = [x for x in table4.iloc[:, 5].unique() if \"základné\" in x]\n",
    "neziskane_zoznam = ['bez školského vzdelania – osoby vo veku 15 rokov a viac'] \n",
    "ostatne_zoznam = [x for x in table4.iloc[:, 5].unique() if x not in vyssie_zoznam and x not in stredne_zoznam \n",
    "                  and x not in zakladne_zoznam and x not in neziskane_zoznam]"
   ]
  },
  {
   "cell_type": "code",
   "execution_count": null,
   "id": "77ce2fe4",
   "metadata": {},
   "outputs": [],
   "source": [
    "vzdelanie_dict = {'vyššie': vyssie_zoznam,\n",
    "                  'stredné': stredne_zoznam,\n",
    "                  'základné': zakladne_zoznam,\n",
    "                  'neziskané': neziskane_zoznam,\n",
    "                  'ostatné': ostatne_zoznam}\n",
    "\n",
    "def det_education(vz):\n",
    "    for ed_type in vzdelanie_dict.keys():\n",
    "        if vz in vzdelanie_dict.get(ed_type):\n",
    "            return ed_type"
   ]
  },
  {
   "cell_type": "code",
   "execution_count": null,
   "id": "dc6b24c0",
   "metadata": {},
   "outputs": [],
   "source": [
    "table4_pom['Druh vzdelania'] = table4_pom['Vzdelanie'].apply(det_education)"
   ]
  },
  {
   "cell_type": "code",
   "execution_count": null,
   "id": "e997ed3f",
   "metadata": {},
   "outputs": [],
   "source": [
    "education_series = table4_pom.groupby('Druh vzdelania')['abs.'].sum()"
   ]
  },
  {
   "cell_type": "code",
   "execution_count": null,
   "id": "f2fdeb14",
   "metadata": {},
   "outputs": [],
   "source": [
    "counts_df = pd.DataFrame({'Druh vzdelania': education_series.index,\n",
    "                          'Počet ľudí': education_series.values})"
   ]
  },
  {
   "cell_type": "code",
   "execution_count": null,
   "id": "5df89df0",
   "metadata": {},
   "outputs": [],
   "source": [
    "counts_df"
   ]
  },
  {
   "cell_type": "code",
   "execution_count": null,
   "id": "3f719249",
   "metadata": {},
   "outputs": [],
   "source": [
    "figure, axes = plt.subplots(figsize=(10, 10))\n",
    "plt.bar(counts_df['Druh vzdelania'], counts_df['Počet ľudí'])\n",
    "axes.semilogy()\n",
    "plt.title('The number of people by achieved education')\n",
    "plt.show()"
   ]
  },
  {
   "cell_type": "markdown",
   "id": "fc9b2bb6",
   "metadata": {},
   "source": [
    "Chcem preskúmať súvis medzi druhom zamestnania/pracovnou oblasťou (budú utriedené podľa ISCO klasifikácie, ktorá je zverejnená na ich webovej stránke (9 skupín)) a ziskaným vzdelaním. Sú to dve kategoriálne premenné, takže viem vyrobiť z toho \"Parallel categories\" graf.\n",
    "\n",
    "1) Roztriediť zamestnania a dostať deväť skupín\n",
    "2) Nakresliť graf"
   ]
  },
  {
   "cell_type": "code",
   "execution_count": null,
   "id": "98f859a2",
   "metadata": {},
   "outputs": [],
   "source": [
    "groups = {'Managers': ['Riadiaci pracovníci (manažéri)  administratívnych, podporných a obchodných  činností',\n",
    "                'Riadiaci pracovníci (manažéri) vo výrobe a v špecializovaných službách',\n",
    "                'Riadiaci pracovníci (manažéri) v hotelových, reštauračných, obchodných a v ostatných službách',\n",
    "                'Zákonodarcovia, ústavní činitelia, vysokí štátni úradníci a najvyšší predstavitelia podnikov a organizácií'],\n",
    "         'Professionals': ['Špecialisti v zdravotníctve', 'Špecialisti v oblasti práva, sociálnych vecí a kultúry',\n",
    "                'Špecialisti administratívnych, podporných a obchodných činností', \n",
    "                'Špecialisti v oblasti vedy a techniky', 'Špecialisti v oblasti informačných a komunikačných technológií',\n",
    "                'Učitelia a odborní pedagogickí pracovníci'],\n",
    "         'Technicians and Associate Professionals': ['Technici a odborní pracovníci v oblasti vedy a techniky', \n",
    "                'Technici v oblasti informačných a komunikačných technológií', \n",
    "                'Odborní pracovníci administratívnych, podporných a obchodných činností', 'Odborní pracovníci v zdravotníctve',\n",
    "                'Odborní pracovníci v oblasti práva, sociálnych vecí a kultúry a podobní pracovníci'],\n",
    "         'Clerical Support Workers': ['Administratívni pracovníci na záznam číselných a skladových údajov',\n",
    "                'Všeobecní administratívni pracovníci a zapisovatelia', 'Administratívni pracovníci v zákazníckych službách',\n",
    "                'Ostatní pomocní administratívni pracovníci'],\n",
    "         'Service and Sales Workers': ['Pracovníci v osobných službách', 'Predavači', \n",
    "                'Pracovníci v oblasti osobnej starostlivosti', 'Pracovníci verejnej ochrany a bezpečnostných služieb'],\n",
    "         'Skilled Agricultural, Forestry and Fishery Workers': ['Kvalifikovaní pracovníci v poľnohospodárstve (trhovo orientovaní)',\n",
    "                'Kvalifikovaní pracovníci v lesníctve, rybárstve a poľovníctve (trhovo orientovaní)',\n",
    "                'Farmári, rybári, poľovníci a zberači úrody (samozásobovatelia)'],\n",
    "         'Craft and Related Trades Workers': ['Kvalifikovaní stavební robotníci a remeselníci okrem elektrikárov',\n",
    "                'Kvalifikovaní robotníci v hutníctve, strojárstve a podobní robotníci', 'Umeleckí a ruční remeselníci a tlačiari',\n",
    "                'Elektrikári a elektronici', 'Spracovatelia a výrobcovia potravinárskych výrobkov, výrobkov z dreva a odevov'],\n",
    "         'Plant and Machine Operators, and Assemblers': ['Operátori stacionárnych strojov a zariadení', 'Montážni robotníci',\n",
    "                'Vodiči a obsluha pojazdných strojných zariadení'],\n",
    "         'Elementary Occupations': ['Upratovači a pomocníci', 'Pomocní pracovníci v poľnohospodárstve, lesníctve a rybárstve',\n",
    "                'Pomocní pracovníci v ťažbe, stavebníctve, výrobe a doprave', 'Pomocní pracovníci pri príprave jedla',\n",
    "                'Pracovníci pri likvidácii odpadu a ostatní nekvalifikovaní pracovníci',\n",
    "                'Pouliční predavači a pomocní pracovníci v podobných službách'],\n",
    "         'Armed Forces Occupations': ['Dôstojníci ozbrojených síl', 'Poddôstojníci ozbrojených síl', 'Ostatné ozbrojené sily']}"
   ]
  },
  {
   "cell_type": "code",
   "execution_count": null,
   "id": "e580ac22",
   "metadata": {},
   "outputs": [],
   "source": [
    "economic_sectors = {'Undefined': ['nezistené'],\n",
    "                     'Other activities': ['Ostatné činnosti'],\n",
    "                     'Primary': ['Poľnohospodárstvo, lesníctvo a rybolov', 'Ťažba a dobývanie'],\n",
    "                     'Secondary': ['Stavebníctvo', 'Priemyselná výroba'],\n",
    "                     'Tertiary': ['Veľkoobchod a maloobchod; oprava motorových vozidiel a motocyklov',\n",
    "                            'Doprava a skladovanie', 'Ubytovacie a stravovacie služby', 'Informácie a komunikácia',\n",
    "                            'Činnosti v oblasti nehnuteľností', 'Odborné, vedecké a technické činnosti',\n",
    "                            'Administratívne a podporné služby', 'Vzdelávanie', 'Umenie, zábava a rekreácia',\n",
    "                            'Činnosti extrateritoriálnych organizácií a združení', 'Zdravotníctvo a sociálna pomoc',\n",
    "                            'Dodávka elektriny, plynu, pary a studeného vzduchu', 'Finančné a poisťovacie činnosti',\n",
    "                            'Dodávka vody; čistenie a odvod odpadových vôd, odpady a služby odstraňovania odpadov',\n",
    "                            'Verejná správa a obrana; povinné sociálne zabezpečenie',\n",
    "                            'Činnosti domácností ako zamestnávateľov; nediferencované činnosti v domácnostiach produkujúce tovary a služby na vlastné použitie']}"
   ]
  },
  {
   "cell_type": "code",
   "execution_count": null,
   "id": "5a6d7b9d",
   "metadata": {},
   "outputs": [],
   "source": [
    "table_oc_groups = []\n",
    "group_names = ['Managers', 'Professionals', 'Technicians and Associate Professionals', 'Clerical Support Workers', \n",
    "              'Service and Sales Workers', 'Skilled Agricultural, Forestry and Fishery Workers', 'Armed Forces Occupations',\n",
    "              'Craft and Related Trades Workers', 'Plant and Machine Operators, and Assemblers', 'Elementary Occupations']\n",
    "\n",
    "def group_func(zamestnanie):\n",
    "    for name in group_names:\n",
    "        if zamestnanie in groups.get(name):\n",
    "            return name\n",
    "        \n",
    "    return 'Undefined'\n",
    "\n",
    "table4_pom['Druh zamestnania (ISCO - triedy)'] = table4_pom['Zamestnanie (ISCO - triedy)'].apply(group_func)"
   ]
  },
  {
   "cell_type": "code",
   "execution_count": null,
   "id": "80826ec0",
   "metadata": {},
   "outputs": [],
   "source": [
    "sector_names = ['Undefined', 'Other activities', 'Primary', 'Secondary', 'Tertiary']\n",
    "\n",
    "def sector_func(odvetie):\n",
    "    for sector in sector_names:\n",
    "        if odvetie in economic_sectors.get(sector):\n",
    "            return sector\n",
    "\n",
    "table4_pom['Ekonomický sektor (NACE - sekcie)'] = table4_pom['Odvetvie ekonomickej činnosti​ (NACE - sekcie)'].apply(sector_func)"
   ]
  },
  {
   "cell_type": "code",
   "execution_count": null,
   "id": "c8b0673c",
   "metadata": {},
   "outputs": [],
   "source": [
    "education_types = []\n",
    "occupation_groups = []\n",
    "regions = []\n",
    "sectors = []\n",
    "\n",
    "for index, row in table4_pom.iterrows():\n",
    "    for ed_type in vzdelanie_dict.keys():\n",
    "        if row['Vzdelanie'] in vzdelanie_dict.get(ed_type):\n",
    "            item = ed_type\n",
    "            break\n",
    "        \n",
    "    for i in range(row['abs.']):\n",
    "        education_types.append(item)\n",
    "        occupation_groups.append(row['Druh zamestnania (ISCO - triedy)'])\n",
    "        regions.append(row['Názov kraja'])\n",
    "        sectors.append(row['Ekonomický sektor (NACE - sekcie)'])"
   ]
  },
  {
   "cell_type": "code",
   "execution_count": null,
   "id": "cb5a9835",
   "metadata": {},
   "outputs": [],
   "source": [
    "table_for_parallel_cat = pd.DataFrame(data={'Druh vzdelania': education_types,\n",
    "                                           'Druh zamestnania': occupation_groups,\n",
    "                                           'Názov kraja': regions,\n",
    "                                           'Ekonomický sektor': sectors})"
   ]
  },
  {
   "cell_type": "code",
   "execution_count": null,
   "id": "ab2757cf",
   "metadata": {},
   "outputs": [],
   "source": [
    "display(table_for_parallel_cat)"
   ]
  },
  {
   "cell_type": "code",
   "execution_count": null,
   "id": "2dd198b1",
   "metadata": {},
   "outputs": [],
   "source": [
    "'''\n",
    "for_parallel_cat = (table_for_parallel_cat.loc[:,['Druh vzdelania','Druh zamestnania']])\n",
    "fig = px.parallel_categories(for_parallel_cat, width=800)\n",
    "fig.update_traces(dimensions=[{\"categoryorder\": \"array\"}, {}])\n",
    "fig.update_layout(font_size=10)\n",
    "fig.update_layout(margin={'l':100,'r':100})\n",
    "fig.show()\n",
    "'''"
   ]
  },
  {
   "cell_type": "code",
   "execution_count": null,
   "id": "4342d475",
   "metadata": {},
   "outputs": [],
   "source": [
    "'''\n",
    "for_parallel_cat = (table_for_parallel_cat.loc[:,['Názov kraja','Druh vzdelania']])\n",
    "fig = px.parallel_categories(for_parallel_cat, width=800)\n",
    "fig.update_traces(dimensions=[{\"categoryorder\": \"array\"}, {}])\n",
    "fig.update_layout(font_size=10)\n",
    "fig.update_layout(margin={'l':100,'r':100})\n",
    "fig.show()\n",
    "'''"
   ]
  },
  {
   "cell_type": "code",
   "execution_count": null,
   "id": "129730a4",
   "metadata": {},
   "outputs": [],
   "source": [
    "display(table_for_parallel_cat.groupby('Ekonomický sektor').count())"
   ]
  },
  {
   "cell_type": "code",
   "execution_count": null,
   "id": "d0b2fd46",
   "metadata": {},
   "outputs": [],
   "source": [
    "d = {'Other activities': 49446, 'Primary': 64378, 'Secondary': 620614, 'Tertiary': 1427411, 'Undefined': 392042}\n",
    "\n",
    "def f(se):\n",
    "    return d.get(se)"
   ]
  },
  {
   "cell_type": "code",
   "execution_count": null,
   "id": "73e304a9",
   "metadata": {},
   "outputs": [],
   "source": [
    "table_for_parallel_cat['Súčet vnútri sektora'] = table_for_parallel_cat['Ekonomický sektor'].apply(f)"
   ]
  },
  {
   "cell_type": "code",
   "execution_count": null,
   "id": "c4c067bf",
   "metadata": {},
   "outputs": [],
   "source": [
    "display(table_for_parallel_cat.groupby(['Súčet vnútri sektora', 'Druh vzdelania']).count())"
   ]
  },
  {
   "cell_type": "code",
   "execution_count": null,
   "id": "8ad2a401",
   "metadata": {},
   "outputs": [],
   "source": [
    "grouped_table = table_for_parallel_cat.groupby(['Súčet vnútri sektora', 'Druh vzdelania']).count()\n",
    "\n",
    "def groups_count(dv, svs):\n",
    "    return grouped_table.loc[(svs, dv), :].values[0]"
   ]
  },
  {
   "cell_type": "code",
   "execution_count": null,
   "id": "65c2c511",
   "metadata": {},
   "outputs": [],
   "source": [
    "table_for_parallel_cat['Súčet pre vzdelanie'] = table_for_parallel_cat.apply(lambda x: groups_count(x['Druh vzdelania'], x['Súčet vnútri sektora']), axis=1)"
   ]
  },
  {
   "cell_type": "code",
   "execution_count": null,
   "id": "d672d60e",
   "metadata": {},
   "outputs": [],
   "source": [
    "table_for_parallel_cat['Percentage'] = table_for_parallel_cat['Súčet pre vzdelanie'] * 100 / table_for_parallel_cat['Súčet vnútri sektora']"
   ]
  },
  {
   "cell_type": "code",
   "execution_count": null,
   "id": "067aa674",
   "metadata": {},
   "outputs": [],
   "source": [
    "table_for_parallel_cat"
   ]
  },
  {
   "cell_type": "code",
   "execution_count": null,
   "id": "594956bd",
   "metadata": {},
   "outputs": [],
   "source": [
    "tmp_sectors = table_for_parallel_cat['Ekonomický sektor'].unique()\n",
    "tmp_education = table_for_parallel_cat['Druh vzdelania'].unique()\n",
    "# the first rectangles start at 0\n",
    "starts = pd.Series([0] * tmp_sectors.shape[0])\n",
    "# create plot\n",
    "figure, axes = plt.subplots()\n",
    "\n",
    "# iterate through income groups\n",
    "for group in tmp_education:  \n",
    "    # select data for this income group from both regions\n",
    "    tmp_data = table_for_parallel_cat.query(\"`Druh vzdelania` == @group\").drop_duplicates('Súčet pre vzdelanie')\n",
    "    # plot\n",
    "    rectangles = axes.barh(y=tmp_data['Ekonomický sektor'], width=tmp_data['Percentage'], left=starts, label=group)\n",
    "    # add labels\n",
    "    axes.bar_label(rectangles, label_type='center', fmt=\"%.0f%%\")\n",
    "    # move starts by the size of each rectangle\n",
    "    starts += tmp_data['Percentage'].reset_index(drop=True) \n",
    "\n",
    "axes.set_title('The sixth graph')\n",
    "axes.legend(bbox_to_anchor=(1, 1), loc=2)\n",
    "# hide plot frame and x-axis ticks\n",
    "axes.xaxis.set_visible(False)\n",
    "axes.set_frame_on(False)\n",
    "pass"
   ]
  },
  {
   "cell_type": "code",
   "execution_count": null,
   "id": "526a8c66",
   "metadata": {},
   "outputs": [],
   "source": [
    "table_for_parallel_cat2 = table_for_parallel_cat.drop_duplicates(['Druh vzdelania', 'Ekonomický sektor', 'Súčet vnútri sektora'])\n",
    "#display(table_for_parallel_cat2)"
   ]
  },
  {
   "cell_type": "code",
   "execution_count": null,
   "id": "79c765b3",
   "metadata": {},
   "outputs": [],
   "source": [
    "figure, axes = plt.subplots(figsize=(8,5))\n",
    "axes.pie(x=table_for_parallel_cat2.query('`Druh vzdelania` == \"neziskané\"')['Súčet pre vzdelanie'], labels=table_for_parallel_cat2.query('`Druh vzdelania` == \"neziskané\"')['Ekonomický sektor'], autopct=\"%.1f%%\")\n",
    "axes.set_title('People without education by economic sectors')\n",
    "pass"
   ]
  },
  {
   "cell_type": "code",
   "execution_count": null,
   "id": "6ecf4417",
   "metadata": {},
   "outputs": [],
   "source": [
    "figure, axes = plt.subplots(figsize=(8,5))\n",
    "axes.pie(x=table_for_parallel_cat2.query('`Druh vzdelania` == \"vyššie\"')['Súčet pre vzdelanie'], labels=table_for_parallel_cat2.query('`Druh vzdelania` == \"vyššie\"')['Ekonomický sektor'], autopct=\"%.1f%%\")\n",
    "axes.set_title('People with higher education by economic sectors')"
   ]
  },
  {
   "cell_type": "code",
   "execution_count": null,
   "id": "646a45d7",
   "metadata": {},
   "outputs": [],
   "source": [
    "figure, axes = plt.subplots(figsize=(8,5))\n",
    "axes.pie(x=table_for_parallel_cat2.query('`Druh vzdelania` == \"základné\"')['Súčet pre vzdelanie'], labels=table_for_parallel_cat2.query('`Druh vzdelania` == \"základné\"')['Ekonomický sektor'], autopct=\"%.1f%%\")\n",
    "axes.set_title('People with elementary education by economic sectors')"
   ]
  },
  {
   "cell_type": "code",
   "execution_count": null,
   "id": "d4bcee4d",
   "metadata": {},
   "outputs": [],
   "source": [
    "table_for_parallel_cat"
   ]
  },
  {
   "cell_type": "code",
   "execution_count": null,
   "id": "6affa363",
   "metadata": {},
   "outputs": [],
   "source": [
    "# create a list of all functions\n",
    "#all_functions = list(functions['function'].unique())\n",
    "\n",
    "# create a new dash application app\n",
    "app = Dash(__name__)\n",
    "\n",
    "# Create layout of items in application\n",
    "#   one html <div> item containing text as small headwers (H4), \n",
    "#   items for individual inputs and a graph at the bottom\n",
    "# Currently we have two inputs:\n",
    "#   an input field for entering title text\n",
    "#   checkboxes for selecting functions \n",
    "# These elements have identifiers which will be used later in the code\n",
    "app.layout = html.Div([\n",
    "    html.Div(children=[\n",
    "        html.Label('Vzdelanie: '),\n",
    "        dcc.Dropdown(['Bez školského vzdelania', 'Základné vzdelanie', 'Stredné vzdelamie',\n",
    "                     'Vyššie vzdelanie', 'Ostatné'], 'Základné vzdelanie', id='education-type')]),\n",
    "    \n",
    "    html.Div(children=[\n",
    "        html.Label('Zafarbit podla ekonomického sektoru: '),\n",
    "        dcc.RadioItems(['áno', 'nie'], 'nie', id='color-choice')\n",
    "    ]),\n",
    "    \n",
    "    dcc.Graph(id='graph-content')\n",
    "])\n",
    "\n",
    "# @app.callback is a function decorator applied to function update_figure below.\n",
    "# It defines that this function will be called to update the graph when the user makes a change.\n",
    "#    Input will be the value entered to the input field with id graph-title and \n",
    "#      the list of functions selected in dcc.Checklist object with id 'selected-functions'.\n",
    "#    Output will be the graph created by the function update_figure below, which will be used\n",
    "#      to update dcc.Graph object with id 'graph-content'\n",
    "@app.callback(\n",
    "    Output('graph-content', 'figure'),\n",
    "    [\n",
    "        Input('education-type', 'value'),\n",
    "        Input('color-choice', 'value')\n",
    "    ]\n",
    ")\n",
    "def update_figure(selected_education, color_c):\n",
    "    \"\"\" Function for ploting functions listed in list selected_functions\n",
    "    with plot title given in title\"\"\"\n",
    "    education_dict = {'Bez školského vzdelania': 'neziskané',\n",
    "                      'Základné vzdelanie': 'základné',\n",
    "                      'Stredné vzdelamie': 'stredné',\n",
    "                      'Vyššie vzdelanie': 'vyššie',\n",
    "                      'Ostatné vzdelanie': 'ostatné'}\n",
    "    education = education_dict.get(selected_education)\n",
    "    \n",
    "    if color_c == 'áno':\n",
    "        color_c = 'Ekonomický sektor'\n",
    "    else:\n",
    "        color_c = None\n",
    "    \n",
    "    # select a subset of functions table with just those functions in input list\n",
    "    education_subset = table_for_parallel_cat.query('`Druh vzdelania` == @education')\n",
    "    \n",
    "    # create a plotly line plot using the smaller table in functions_subset\n",
    "    figure = px.histogram(education_subset, x=\"Druh zamestnania\", width=900, height=600, color=color_c)\n",
    "\n",
    "    # add title to the plot\n",
    "    figure.update_layout(title_text='Zamestnanie podla vzdelania')    \n",
    "\n",
    "    return figure\n",
    "\n",
    "# run the whole application\n",
    "app.run_server(mode='inline')"
   ]
  },
  {
   "cell_type": "code",
   "execution_count": null,
   "id": "af4d2b7b",
   "metadata": {},
   "outputs": [],
   "source": [
    "table_for_parallel_cat.memory_usage()"
   ]
  },
  {
   "cell_type": "code",
   "execution_count": null,
   "id": "0b9a9e80",
   "metadata": {},
   "outputs": [],
   "source": [
    "table4.memory_usage()"
   ]
  },
  {
   "cell_type": "code",
   "execution_count": null,
   "id": "4fd35d68",
   "metadata": {},
   "outputs": [],
   "source": []
  }
 ],
 "metadata": {
  "kernelspec": {
   "display_name": "Python 3 (ipykernel)",
   "language": "python",
   "name": "python3"
  },
  "language_info": {
   "codemirror_mode": {
    "name": "ipython",
    "version": 3
   },
   "file_extension": ".py",
   "mimetype": "text/x-python",
   "name": "python",
   "nbconvert_exporter": "python",
   "pygments_lexer": "ipython3",
   "version": "3.9.13"
  }
 },
 "nbformat": 4,
 "nbformat_minor": 5
}
