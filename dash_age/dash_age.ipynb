{
 "cells": [
  {
   "cell_type": "code",
   "execution_count": 9,
   "metadata": {},
   "outputs": [],
   "source": [
    "import pandas as pd\n",
    "import numpy as np\n",
    "import matplotlib.pyplot as plt\n",
    "import seaborn as sns\n",
    "import random\n",
    "import scipy.stats\n",
    "import geopandas as gpd\n",
    "%matplotlib inline\n",
    "from IPython.display import Markdown\n",
    "from functools import reduce\n",
    "from dash import Dash, dcc, html, Input, Output\n",
    "import plotly.express as px\n",
    "import plotly.graph_objects as go\n",
    "import plotly.io as pio"
   ]
  },
  {
   "cell_type": "markdown",
   "metadata": {},
   "source": [
    "### Theming"
   ]
  },
  {
   "cell_type": "code",
   "execution_count": 10,
   "metadata": {},
   "outputs": [],
   "source": [
    "if 1:\n",
    "    style = {\n",
    "        # 'background-color': '#1b1b1b', # rgb(27, 27, 27)\n",
    "        'color': 'white', # font\n",
    "    }\n",
    "    pio.templates.default = 'plotly_dark'\n",
    "else:\n",
    "    style = None\n",
    "    pio.templates.default = 'plotly'"
   ]
  },
  {
   "cell_type": "markdown",
   "metadata": {},
   "source": [
    "### Loading\n",
    "Table 40 by kraje/regions  \n",
    "Age of 90 will mean age of 90 or more"
   ]
  },
  {
   "cell_type": "code",
   "execution_count": 11,
   "metadata": {},
   "outputs": [],
   "source": [
    "import sys\n",
    "sys.path.append('../')\n",
    "\n",
    "from preprocessing import rename_columns, replace_with_nan\n",
    "table_40 = pd.read_csv('../data/RV_O_040_R_KR_SK.CSV', sep=';')\n",
    "table_40['Vek'] = pd.to_numeric(table_40['Vek'].replace('90 a viac rokov', '90'))"
   ]
  },
  {
   "cell_type": "markdown",
   "metadata": {},
   "source": [
    "## Grouping education\n",
    "\n",
    "Grouping to\n",
    "- unspecified\n",
    "- without education\n",
    "- primary education\n",
    "- secondary education\n",
    "- higher education"
   ]
  },
  {
   "cell_type": "code",
   "execution_count": 12,
   "metadata": {},
   "outputs": [
    {
     "data": {
      "text/plain": [
       "{'bez ukončeného vzdelania – osoby vo veku 0-14 rokov',\n",
       " 'bez školského vzdelania – osoby vo veku 15 rokov a viac',\n",
       " 'nezistené',\n",
       " 'stredné odborné (učňovské) vzdelanie bez maturity (bližšie neuvedené)',\n",
       " 'stredné odborné (učňovské) vzdelanie bez maturity a bez výučného listu (zaškolenie, zaučenie)',\n",
       " 'stredné odborné (učňovské) vzdelanie bez maturity s vysvedčením o záverečnej skúške',\n",
       " 'stredné odborné (učňovské) vzdelanie bez maturity s výučným listom',\n",
       " 'vysokoškolské vzdelanie (bližšie neuvedené)',\n",
       " 'vysokoškolské vzdelanie - 1. stupeň (Bc.)',\n",
       " 'vysokoškolské vzdelanie - 2. stupeň (Ing.; Mgr.; MUDr.; a i.)',\n",
       " 'vysokoškolské vzdelanie - 3. stupeň (PhD.; a i.)',\n",
       " 'vyššie odborné vzdelanie (bližšie neuvedené)',\n",
       " 'vyššie odborné vzdelanie nadstavbové (maturita absolventov učebných odborov stredných odborných škôl)',\n",
       " 'vyššie odborné vzdelanie pomaturitné (pomaturitné kvalifikačné)',\n",
       " 'vyššie odborné vzdelanie vyššie odborné (absolventská skúška, absolventský diplom)',\n",
       " 'základné vzdelanie (bližšie neuvedené)',\n",
       " 'základné vzdelanie - 1. stupeň základnej školy',\n",
       " 'základné vzdelanie - 2. stupeň základnej školy',\n",
       " 'úplné stredné vzdelanie s maturitou (bližšie neuvedené)',\n",
       " 'úplné stredné vzdelanie s maturitou odborné',\n",
       " 'úplné stredné vzdelanie s maturitou odborné (učňovské) s výučným listom',\n",
       " 'úplné stredné vzdelanie s maturitou všeobecné'}"
      ]
     },
     "metadata": {},
     "output_type": "display_data"
    },
    {
     "data": {
      "text/plain": [
       "set()"
      ]
     },
     "metadata": {},
     "output_type": "display_data"
    }
   ],
   "source": [
    "education_levels = set(table_40['Vzdelanie'].unique())\n",
    "display(education_levels)\n",
    "\n",
    "grouped_edu = 'Grouped edu'\n",
    "\n",
    "primary = [x for x in education_levels if \"základné\" in x]\n",
    "education_levels -= set(primary) # for quering purposes\n",
    "secondary = [x for x in education_levels if \"stredné\" in x]\n",
    "education_levels -= set(secondary)\n",
    "higher = [x for x in education_levels if 'vysokoškolské' in x or \"vyššie\" in x]\n",
    "education_levels -= set(higher)\n",
    "without = [x for x in education_levels if 'bez' in x]\n",
    "education_levels -= set(without)\n",
    "unspecified = ['nezistené']\n",
    "education_levels -= set(unspecified)\n",
    "display(education_levels)\n",
    "\n",
    "for label, level in zip(['primary', 'secondary', 'higher', 'without', 'unspecified'],\n",
    "                        [primary, secondary, higher, without, unspecified]):\n",
    "    level = table_40['Vzdelanie'].isin(level)\n",
    "    table_40.loc[level, grouped_edu] = label\n",
    "\n",
    "# table_40.sample(30)\n"
   ]
  },
  {
   "cell_type": "markdown",
   "metadata": {},
   "source": [
    "## Computed/Display values\n",
    "The following function returns a data frame with such properties\n",
    "- `number` - number of people that satisfy query filter\n",
    "- `category_percent` - total/denominator is category\n",
    "- `filtered_percent` - filtered / not filtered\n",
    "- `age_percent` - total/denominator is all at the same age"
   ]
  },
  {
   "cell_type": "code",
   "execution_count": 25,
   "metadata": {},
   "outputs": [
    {
     "data": {
      "application/vnd.plotly.v1+json": {
       "config": {
        "plotlyServerURL": "https://plot.ly"
       },
       "data": [
        {
         "hovertemplate": "Pohlavie=muž<br>Vek=%{x}<br>number=%{y}<extra></extra>",
         "legendgroup": "muž",
         "line": {
          "color": "#636efa",
          "dash": "solid"
         },
         "marker": {
          "symbol": "circle"
         },
         "mode": "lines",
         "name": "muž",
         "orientation": "v",
         "showlegend": true,
         "type": "scatter",
         "x": [
          18,
          19,
          20,
          21,
          22,
          23,
          24,
          25,
          26,
          27,
          28,
          29,
          30,
          31,
          32,
          33,
          34,
          35,
          36,
          37,
          38,
          39,
          40,
          41,
          42,
          43,
          44,
          45,
          46,
          47,
          48,
          49,
          50,
          51,
          52,
          53,
          54,
          55,
          56,
          57,
          58,
          59,
          60,
          61,
          62,
          63,
          64,
          65,
          66,
          67,
          68,
          69,
          70,
          71,
          72,
          73,
          74,
          75,
          76,
          77,
          78,
          79,
          80,
          81,
          82,
          83,
          84,
          85,
          86,
          87,
          88,
          89,
          90
         ],
         "xaxis": "x",
         "y": [
          7,
          43,
          99,
          192,
          2479,
          4790,
          4242,
          2833,
          2254,
          2097,
          2038,
          2140,
          2088,
          2010,
          1971,
          1868,
          1848,
          1739,
          1514,
          1350,
          1252,
          1168,
          1207,
          1136,
          1063,
          989,
          922,
          834,
          632,
          647,
          523,
          457,
          417,
          409,
          281,
          290,
          278,
          293,
          255,
          243,
          214,
          215,
          213,
          186,
          149,
          166,
          194,
          187,
          158,
          143,
          151,
          117,
          144,
          104,
          88,
          85,
          73,
          66,
          72,
          54,
          70,
          69,
          60,
          52,
          50,
          34,
          37,
          30,
          30,
          19,
          28,
          10,
          48
         ],
         "yaxis": "y"
        },
        {
         "hovertemplate": "Pohlavie=žena<br>Vek=%{x}<br>number=%{y}<extra></extra>",
         "legendgroup": "žena",
         "line": {
          "color": "#EF553B",
          "dash": "solid"
         },
         "marker": {
          "symbol": "circle"
         },
         "mode": "lines",
         "name": "žena",
         "orientation": "v",
         "showlegend": true,
         "type": "scatter",
         "x": [
          18,
          19,
          20,
          21,
          22,
          23,
          24,
          25,
          26,
          27,
          28,
          29,
          30,
          31,
          32,
          33,
          34,
          35,
          36,
          37,
          38,
          39,
          40,
          41,
          42,
          43,
          44,
          45,
          46,
          47,
          48,
          49,
          50,
          51,
          52,
          53,
          54,
          55,
          56,
          57,
          58,
          59,
          60,
          61,
          62,
          63,
          64,
          65,
          66,
          67,
          68,
          69,
          70,
          71,
          72,
          73,
          74,
          75,
          76,
          77,
          78,
          79,
          80,
          81,
          82,
          83,
          84,
          85,
          86,
          87,
          88,
          89,
          90
         ],
         "xaxis": "x",
         "y": [
          8,
          47,
          130,
          285,
          4426,
          7923,
          6316,
          4485,
          3511,
          3326,
          3170,
          3215,
          3128,
          2975,
          2927,
          2775,
          2677,
          2377,
          2049,
          2014,
          1867,
          1858,
          1807,
          1879,
          1830,
          1743,
          1678,
          1484,
          1369,
          1246,
          1172,
          967,
          871,
          752,
          661,
          719,
          668,
          682,
          619,
          595,
          501,
          494,
          449,
          400,
          368,
          360,
          336,
          254,
          239,
          252,
          163,
          139,
          110,
          96,
          93,
          58,
          70,
          83,
          102,
          76,
          73,
          54,
          69,
          74,
          47,
          58,
          47,
          32,
          27,
          17,
          23,
          18,
          53
         ],
         "yaxis": "y"
        }
       ],
       "layout": {
        "legend": {
         "title": {
          "text": "Pohlavie"
         },
         "tracegroupgap": 0
        },
        "margin": {
         "t": 60
        },
        "template": {
         "data": {
          "bar": [
           {
            "error_x": {
             "color": "#f2f5fa"
            },
            "error_y": {
             "color": "#f2f5fa"
            },
            "marker": {
             "line": {
              "color": "rgb(17,17,17)",
              "width": 0.5
             },
             "pattern": {
              "fillmode": "overlay",
              "size": 10,
              "solidity": 0.2
             }
            },
            "type": "bar"
           }
          ],
          "barpolar": [
           {
            "marker": {
             "line": {
              "color": "rgb(17,17,17)",
              "width": 0.5
             },
             "pattern": {
              "fillmode": "overlay",
              "size": 10,
              "solidity": 0.2
             }
            },
            "type": "barpolar"
           }
          ],
          "carpet": [
           {
            "aaxis": {
             "endlinecolor": "#A2B1C6",
             "gridcolor": "#506784",
             "linecolor": "#506784",
             "minorgridcolor": "#506784",
             "startlinecolor": "#A2B1C6"
            },
            "baxis": {
             "endlinecolor": "#A2B1C6",
             "gridcolor": "#506784",
             "linecolor": "#506784",
             "minorgridcolor": "#506784",
             "startlinecolor": "#A2B1C6"
            },
            "type": "carpet"
           }
          ],
          "choropleth": [
           {
            "colorbar": {
             "outlinewidth": 0,
             "ticks": ""
            },
            "type": "choropleth"
           }
          ],
          "contour": [
           {
            "colorbar": {
             "outlinewidth": 0,
             "ticks": ""
            },
            "colorscale": [
             [
              0,
              "#0d0887"
             ],
             [
              0.1111111111111111,
              "#46039f"
             ],
             [
              0.2222222222222222,
              "#7201a8"
             ],
             [
              0.3333333333333333,
              "#9c179e"
             ],
             [
              0.4444444444444444,
              "#bd3786"
             ],
             [
              0.5555555555555556,
              "#d8576b"
             ],
             [
              0.6666666666666666,
              "#ed7953"
             ],
             [
              0.7777777777777778,
              "#fb9f3a"
             ],
             [
              0.8888888888888888,
              "#fdca26"
             ],
             [
              1,
              "#f0f921"
             ]
            ],
            "type": "contour"
           }
          ],
          "contourcarpet": [
           {
            "colorbar": {
             "outlinewidth": 0,
             "ticks": ""
            },
            "type": "contourcarpet"
           }
          ],
          "heatmap": [
           {
            "colorbar": {
             "outlinewidth": 0,
             "ticks": ""
            },
            "colorscale": [
             [
              0,
              "#0d0887"
             ],
             [
              0.1111111111111111,
              "#46039f"
             ],
             [
              0.2222222222222222,
              "#7201a8"
             ],
             [
              0.3333333333333333,
              "#9c179e"
             ],
             [
              0.4444444444444444,
              "#bd3786"
             ],
             [
              0.5555555555555556,
              "#d8576b"
             ],
             [
              0.6666666666666666,
              "#ed7953"
             ],
             [
              0.7777777777777778,
              "#fb9f3a"
             ],
             [
              0.8888888888888888,
              "#fdca26"
             ],
             [
              1,
              "#f0f921"
             ]
            ],
            "type": "heatmap"
           }
          ],
          "heatmapgl": [
           {
            "colorbar": {
             "outlinewidth": 0,
             "ticks": ""
            },
            "colorscale": [
             [
              0,
              "#0d0887"
             ],
             [
              0.1111111111111111,
              "#46039f"
             ],
             [
              0.2222222222222222,
              "#7201a8"
             ],
             [
              0.3333333333333333,
              "#9c179e"
             ],
             [
              0.4444444444444444,
              "#bd3786"
             ],
             [
              0.5555555555555556,
              "#d8576b"
             ],
             [
              0.6666666666666666,
              "#ed7953"
             ],
             [
              0.7777777777777778,
              "#fb9f3a"
             ],
             [
              0.8888888888888888,
              "#fdca26"
             ],
             [
              1,
              "#f0f921"
             ]
            ],
            "type": "heatmapgl"
           }
          ],
          "histogram": [
           {
            "marker": {
             "pattern": {
              "fillmode": "overlay",
              "size": 10,
              "solidity": 0.2
             }
            },
            "type": "histogram"
           }
          ],
          "histogram2d": [
           {
            "colorbar": {
             "outlinewidth": 0,
             "ticks": ""
            },
            "colorscale": [
             [
              0,
              "#0d0887"
             ],
             [
              0.1111111111111111,
              "#46039f"
             ],
             [
              0.2222222222222222,
              "#7201a8"
             ],
             [
              0.3333333333333333,
              "#9c179e"
             ],
             [
              0.4444444444444444,
              "#bd3786"
             ],
             [
              0.5555555555555556,
              "#d8576b"
             ],
             [
              0.6666666666666666,
              "#ed7953"
             ],
             [
              0.7777777777777778,
              "#fb9f3a"
             ],
             [
              0.8888888888888888,
              "#fdca26"
             ],
             [
              1,
              "#f0f921"
             ]
            ],
            "type": "histogram2d"
           }
          ],
          "histogram2dcontour": [
           {
            "colorbar": {
             "outlinewidth": 0,
             "ticks": ""
            },
            "colorscale": [
             [
              0,
              "#0d0887"
             ],
             [
              0.1111111111111111,
              "#46039f"
             ],
             [
              0.2222222222222222,
              "#7201a8"
             ],
             [
              0.3333333333333333,
              "#9c179e"
             ],
             [
              0.4444444444444444,
              "#bd3786"
             ],
             [
              0.5555555555555556,
              "#d8576b"
             ],
             [
              0.6666666666666666,
              "#ed7953"
             ],
             [
              0.7777777777777778,
              "#fb9f3a"
             ],
             [
              0.8888888888888888,
              "#fdca26"
             ],
             [
              1,
              "#f0f921"
             ]
            ],
            "type": "histogram2dcontour"
           }
          ],
          "mesh3d": [
           {
            "colorbar": {
             "outlinewidth": 0,
             "ticks": ""
            },
            "type": "mesh3d"
           }
          ],
          "parcoords": [
           {
            "line": {
             "colorbar": {
              "outlinewidth": 0,
              "ticks": ""
             }
            },
            "type": "parcoords"
           }
          ],
          "pie": [
           {
            "automargin": true,
            "type": "pie"
           }
          ],
          "scatter": [
           {
            "marker": {
             "line": {
              "color": "#283442"
             }
            },
            "type": "scatter"
           }
          ],
          "scatter3d": [
           {
            "line": {
             "colorbar": {
              "outlinewidth": 0,
              "ticks": ""
             }
            },
            "marker": {
             "colorbar": {
              "outlinewidth": 0,
              "ticks": ""
             }
            },
            "type": "scatter3d"
           }
          ],
          "scattercarpet": [
           {
            "marker": {
             "colorbar": {
              "outlinewidth": 0,
              "ticks": ""
             }
            },
            "type": "scattercarpet"
           }
          ],
          "scattergeo": [
           {
            "marker": {
             "colorbar": {
              "outlinewidth": 0,
              "ticks": ""
             }
            },
            "type": "scattergeo"
           }
          ],
          "scattergl": [
           {
            "marker": {
             "line": {
              "color": "#283442"
             }
            },
            "type": "scattergl"
           }
          ],
          "scattermapbox": [
           {
            "marker": {
             "colorbar": {
              "outlinewidth": 0,
              "ticks": ""
             }
            },
            "type": "scattermapbox"
           }
          ],
          "scatterpolar": [
           {
            "marker": {
             "colorbar": {
              "outlinewidth": 0,
              "ticks": ""
             }
            },
            "type": "scatterpolar"
           }
          ],
          "scatterpolargl": [
           {
            "marker": {
             "colorbar": {
              "outlinewidth": 0,
              "ticks": ""
             }
            },
            "type": "scatterpolargl"
           }
          ],
          "scatterternary": [
           {
            "marker": {
             "colorbar": {
              "outlinewidth": 0,
              "ticks": ""
             }
            },
            "type": "scatterternary"
           }
          ],
          "surface": [
           {
            "colorbar": {
             "outlinewidth": 0,
             "ticks": ""
            },
            "colorscale": [
             [
              0,
              "#0d0887"
             ],
             [
              0.1111111111111111,
              "#46039f"
             ],
             [
              0.2222222222222222,
              "#7201a8"
             ],
             [
              0.3333333333333333,
              "#9c179e"
             ],
             [
              0.4444444444444444,
              "#bd3786"
             ],
             [
              0.5555555555555556,
              "#d8576b"
             ],
             [
              0.6666666666666666,
              "#ed7953"
             ],
             [
              0.7777777777777778,
              "#fb9f3a"
             ],
             [
              0.8888888888888888,
              "#fdca26"
             ],
             [
              1,
              "#f0f921"
             ]
            ],
            "type": "surface"
           }
          ],
          "table": [
           {
            "cells": {
             "fill": {
              "color": "#506784"
             },
             "line": {
              "color": "rgb(17,17,17)"
             }
            },
            "header": {
             "fill": {
              "color": "#2a3f5f"
             },
             "line": {
              "color": "rgb(17,17,17)"
             }
            },
            "type": "table"
           }
          ]
         },
         "layout": {
          "annotationdefaults": {
           "arrowcolor": "#f2f5fa",
           "arrowhead": 0,
           "arrowwidth": 1
          },
          "autotypenumbers": "strict",
          "coloraxis": {
           "colorbar": {
            "outlinewidth": 0,
            "ticks": ""
           }
          },
          "colorscale": {
           "diverging": [
            [
             0,
             "#8e0152"
            ],
            [
             0.1,
             "#c51b7d"
            ],
            [
             0.2,
             "#de77ae"
            ],
            [
             0.3,
             "#f1b6da"
            ],
            [
             0.4,
             "#fde0ef"
            ],
            [
             0.5,
             "#f7f7f7"
            ],
            [
             0.6,
             "#e6f5d0"
            ],
            [
             0.7,
             "#b8e186"
            ],
            [
             0.8,
             "#7fbc41"
            ],
            [
             0.9,
             "#4d9221"
            ],
            [
             1,
             "#276419"
            ]
           ],
           "sequential": [
            [
             0,
             "#0d0887"
            ],
            [
             0.1111111111111111,
             "#46039f"
            ],
            [
             0.2222222222222222,
             "#7201a8"
            ],
            [
             0.3333333333333333,
             "#9c179e"
            ],
            [
             0.4444444444444444,
             "#bd3786"
            ],
            [
             0.5555555555555556,
             "#d8576b"
            ],
            [
             0.6666666666666666,
             "#ed7953"
            ],
            [
             0.7777777777777778,
             "#fb9f3a"
            ],
            [
             0.8888888888888888,
             "#fdca26"
            ],
            [
             1,
             "#f0f921"
            ]
           ],
           "sequentialminus": [
            [
             0,
             "#0d0887"
            ],
            [
             0.1111111111111111,
             "#46039f"
            ],
            [
             0.2222222222222222,
             "#7201a8"
            ],
            [
             0.3333333333333333,
             "#9c179e"
            ],
            [
             0.4444444444444444,
             "#bd3786"
            ],
            [
             0.5555555555555556,
             "#d8576b"
            ],
            [
             0.6666666666666666,
             "#ed7953"
            ],
            [
             0.7777777777777778,
             "#fb9f3a"
            ],
            [
             0.8888888888888888,
             "#fdca26"
            ],
            [
             1,
             "#f0f921"
            ]
           ]
          },
          "colorway": [
           "#636efa",
           "#EF553B",
           "#00cc96",
           "#ab63fa",
           "#FFA15A",
           "#19d3f3",
           "#FF6692",
           "#B6E880",
           "#FF97FF",
           "#FECB52"
          ],
          "font": {
           "color": "#f2f5fa"
          },
          "geo": {
           "bgcolor": "rgb(17,17,17)",
           "lakecolor": "rgb(17,17,17)",
           "landcolor": "rgb(17,17,17)",
           "showlakes": true,
           "showland": true,
           "subunitcolor": "#506784"
          },
          "hoverlabel": {
           "align": "left"
          },
          "hovermode": "closest",
          "mapbox": {
           "style": "dark"
          },
          "paper_bgcolor": "rgb(17,17,17)",
          "plot_bgcolor": "rgb(17,17,17)",
          "polar": {
           "angularaxis": {
            "gridcolor": "#506784",
            "linecolor": "#506784",
            "ticks": ""
           },
           "bgcolor": "rgb(17,17,17)",
           "radialaxis": {
            "gridcolor": "#506784",
            "linecolor": "#506784",
            "ticks": ""
           }
          },
          "scene": {
           "xaxis": {
            "backgroundcolor": "rgb(17,17,17)",
            "gridcolor": "#506784",
            "gridwidth": 2,
            "linecolor": "#506784",
            "showbackground": true,
            "ticks": "",
            "zerolinecolor": "#C8D4E3"
           },
           "yaxis": {
            "backgroundcolor": "rgb(17,17,17)",
            "gridcolor": "#506784",
            "gridwidth": 2,
            "linecolor": "#506784",
            "showbackground": true,
            "ticks": "",
            "zerolinecolor": "#C8D4E3"
           },
           "zaxis": {
            "backgroundcolor": "rgb(17,17,17)",
            "gridcolor": "#506784",
            "gridwidth": 2,
            "linecolor": "#506784",
            "showbackground": true,
            "ticks": "",
            "zerolinecolor": "#C8D4E3"
           }
          },
          "shapedefaults": {
           "line": {
            "color": "#f2f5fa"
           }
          },
          "sliderdefaults": {
           "bgcolor": "#C8D4E3",
           "bordercolor": "rgb(17,17,17)",
           "borderwidth": 1,
           "tickwidth": 0
          },
          "ternary": {
           "aaxis": {
            "gridcolor": "#506784",
            "linecolor": "#506784",
            "ticks": ""
           },
           "baxis": {
            "gridcolor": "#506784",
            "linecolor": "#506784",
            "ticks": ""
           },
           "bgcolor": "rgb(17,17,17)",
           "caxis": {
            "gridcolor": "#506784",
            "linecolor": "#506784",
            "ticks": ""
           }
          },
          "title": {
           "x": 0.05
          },
          "updatemenudefaults": {
           "bgcolor": "#506784",
           "borderwidth": 0
          },
          "xaxis": {
           "automargin": true,
           "gridcolor": "#283442",
           "linecolor": "#506784",
           "ticks": "",
           "title": {
            "standoff": 15
           },
           "zerolinecolor": "#283442",
           "zerolinewidth": 2
          },
          "yaxis": {
           "automargin": true,
           "gridcolor": "#283442",
           "linecolor": "#506784",
           "ticks": "",
           "title": {
            "standoff": 15
           },
           "zerolinecolor": "#283442",
           "zerolinewidth": 2
          }
         }
        },
        "xaxis": {
         "anchor": "y",
         "domain": [
          0,
          1
         ],
         "title": {
          "text": "Vek"
         }
        },
        "yaxis": {
         "anchor": "x",
         "domain": [
          0,
          1
         ],
         "title": {
          "text": "number"
         }
        }
       }
      }
     },
     "metadata": {},
     "output_type": "display_data"
    },
    {
     "data": {
      "application/vnd.plotly.v1+json": {
       "config": {
        "plotlyServerURL": "https://plot.ly"
       },
       "data": [
        {
         "customdata": [
          [
           7
          ],
          [
           43
          ],
          [
           99
          ],
          [
           192
          ],
          [
           2479
          ],
          [
           4790
          ],
          [
           4242
          ],
          [
           2833
          ],
          [
           2254
          ],
          [
           2097
          ],
          [
           2038
          ],
          [
           2140
          ],
          [
           2088
          ],
          [
           2010
          ],
          [
           1971
          ],
          [
           1868
          ],
          [
           1848
          ],
          [
           1739
          ],
          [
           1514
          ],
          [
           1350
          ],
          [
           1252
          ],
          [
           1168
          ],
          [
           1207
          ],
          [
           1136
          ],
          [
           1063
          ],
          [
           989
          ],
          [
           922
          ],
          [
           834
          ],
          [
           632
          ],
          [
           647
          ],
          [
           523
          ],
          [
           457
          ],
          [
           417
          ],
          [
           409
          ],
          [
           281
          ],
          [
           290
          ],
          [
           278
          ],
          [
           293
          ],
          [
           255
          ],
          [
           243
          ],
          [
           214
          ],
          [
           215
          ],
          [
           213
          ],
          [
           186
          ],
          [
           149
          ],
          [
           166
          ],
          [
           194
          ],
          [
           187
          ],
          [
           158
          ],
          [
           143
          ],
          [
           151
          ],
          [
           117
          ],
          [
           144
          ],
          [
           104
          ],
          [
           88
          ],
          [
           85
          ],
          [
           73
          ],
          [
           66
          ],
          [
           72
          ],
          [
           54
          ],
          [
           70
          ],
          [
           69
          ],
          [
           60
          ],
          [
           52
          ],
          [
           50
          ],
          [
           34
          ],
          [
           37
          ],
          [
           30
          ],
          [
           30
          ],
          [
           19
          ],
          [
           28
          ],
          [
           10
          ],
          [
           48
          ]
         ],
         "hovertemplate": "Pohlavie=muž<br>Vek=%{x}<br>category_percent=%{y}<br>number=%{customdata[0]}<extra></extra>",
         "legendgroup": "muž",
         "line": {
          "color": "#636efa",
          "dash": "solid"
         },
         "marker": {
          "symbol": "circle"
         },
         "mode": "lines",
         "name": "muž",
         "orientation": "v",
         "showlegend": true,
         "type": "scatter",
         "x": [
          18,
          19,
          20,
          21,
          22,
          23,
          24,
          25,
          26,
          27,
          28,
          29,
          30,
          31,
          32,
          33,
          34,
          35,
          36,
          37,
          38,
          39,
          40,
          41,
          42,
          43,
          44,
          45,
          46,
          47,
          48,
          49,
          50,
          51,
          52,
          53,
          54,
          55,
          56,
          57,
          58,
          59,
          60,
          61,
          62,
          63,
          64,
          65,
          66,
          67,
          68,
          69,
          70,
          71,
          72,
          73,
          74,
          75,
          76,
          77,
          78,
          79,
          80,
          81,
          82,
          83,
          84,
          85,
          86,
          87,
          88,
          89,
          90
         ],
         "xaxis": "x",
         "y": [
          0.012911794001549414,
          0.07931530600951783,
          0.18260965802191315,
          0.3541520640424982,
          4.572619618548714,
          8.835356181060243,
          7.824547164938946,
          5.22558748662707,
          4.157597668498911,
          3.8680045744641607,
          3.759176596451101,
          3.9473198804736787,
          3.8514036964621683,
          3.7075294204449034,
          3.6355922824362708,
          3.4456044564134722,
          3.4087136164090452,
          3.207658538384919,
          2.7926365883351165,
          2.4901317002988157,
          2.3093665842771243,
          2.154425056258531,
          2.2263621942671636,
          2.095399712251448,
          1.9607481462352898,
          1.8242520382189102,
          1.7006677242040802,
          1.5383480281846018,
          1.16575054413989,
          1.1934186741432102,
          0.9646954661157635,
          0.8429556941011546,
          0.7691740140923009,
          0.7544176780905301,
          0.5183163020621979,
          0.5349171800641901,
          0.5127826760615339,
          0.5404508060648541,
          0.47035821005644296,
          0.4482237060537868,
          0.39473198804736787,
          0.3965765300475892,
          0.3928874460471464,
          0.34308481204117014,
          0.2748367580329804,
          0.3061939720367433,
          0.3578411480429409,
          0.3449293540413915,
          0.2914376360349725,
          0.26376950603165233,
          0.2785258420334231,
          0.21581141402589737,
          0.2656140480318737,
          0.19183236802301987,
          0.16231969601947838,
          0.15678607001881434,
          0.1346515660161582,
          0.12173977201460878,
          0.13280702401593686,
          0.09960526801195263,
          0.12911794001549415,
          0.12727339801527282,
          0.1106725200132807,
          0.09591618401150993,
          0.09222710001106725,
          0.06271442800752573,
          0.06824805400818977,
          0.05533626000664035,
          0.05533626000664035,
          0.035046298004205556,
          0.051647176006197656,
          0.018445420002213452,
          0.08853801601062455
         ],
         "yaxis": "y"
        },
        {
         "customdata": [
          [
           8
          ],
          [
           47
          ],
          [
           130
          ],
          [
           285
          ],
          [
           4426
          ],
          [
           7923
          ],
          [
           6316
          ],
          [
           4485
          ],
          [
           3511
          ],
          [
           3326
          ],
          [
           3170
          ],
          [
           3215
          ],
          [
           3128
          ],
          [
           2975
          ],
          [
           2927
          ],
          [
           2775
          ],
          [
           2677
          ],
          [
           2377
          ],
          [
           2049
          ],
          [
           2014
          ],
          [
           1867
          ],
          [
           1858
          ],
          [
           1807
          ],
          [
           1879
          ],
          [
           1830
          ],
          [
           1743
          ],
          [
           1678
          ],
          [
           1484
          ],
          [
           1369
          ],
          [
           1246
          ],
          [
           1172
          ],
          [
           967
          ],
          [
           871
          ],
          [
           752
          ],
          [
           661
          ],
          [
           719
          ],
          [
           668
          ],
          [
           682
          ],
          [
           619
          ],
          [
           595
          ],
          [
           501
          ],
          [
           494
          ],
          [
           449
          ],
          [
           400
          ],
          [
           368
          ],
          [
           360
          ],
          [
           336
          ],
          [
           254
          ],
          [
           239
          ],
          [
           252
          ],
          [
           163
          ],
          [
           139
          ],
          [
           110
          ],
          [
           96
          ],
          [
           93
          ],
          [
           58
          ],
          [
           70
          ],
          [
           83
          ],
          [
           102
          ],
          [
           76
          ],
          [
           73
          ],
          [
           54
          ],
          [
           69
          ],
          [
           74
          ],
          [
           47
          ],
          [
           58
          ],
          [
           47
          ],
          [
           32
          ],
          [
           27
          ],
          [
           17
          ],
          [
           23
          ],
          [
           18
          ],
          [
           53
          ]
         ],
         "hovertemplate": "Pohlavie=žena<br>Vek=%{x}<br>category_percent=%{y}<br>number=%{customdata[0]}<extra></extra>",
         "legendgroup": "žena",
         "line": {
          "color": "#EF553B",
          "dash": "solid"
         },
         "marker": {
          "symbol": "circle"
         },
         "mode": "lines",
         "name": "žena",
         "orientation": "v",
         "showlegend": true,
         "type": "scatter",
         "x": [
          18,
          19,
          20,
          21,
          22,
          23,
          24,
          25,
          26,
          27,
          28,
          29,
          30,
          31,
          32,
          33,
          34,
          35,
          36,
          37,
          38,
          39,
          40,
          41,
          42,
          43,
          44,
          45,
          46,
          47,
          48,
          49,
          50,
          51,
          52,
          53,
          54,
          55,
          56,
          57,
          58,
          59,
          60,
          61,
          62,
          63,
          64,
          65,
          66,
          67,
          68,
          69,
          70,
          71,
          72,
          73,
          74,
          75,
          76,
          77,
          78,
          79,
          80,
          81,
          82,
          83,
          84,
          85,
          86,
          87,
          88,
          89,
          90
         ],
         "xaxis": "x",
         "y": [
          0.009146411176914457,
          0.05373516566437245,
          0.14862918162485994,
          0.32584089817757755,
          5.060251983627924,
          9.058376969336656,
          7.221091624173964,
          5.127706766057668,
          4.014131205268333,
          3.802620446802186,
          3.624265428852354,
          3.675713991722498,
          3.576246770173553,
          3.4013216564150643,
          3.3464431893535775,
          3.172661376992203,
          3.060617840075001,
          2.7176274209407083,
          2.3426245626872158,
          2.302609013788215,
          2.1345437084124117,
          2.124253995838383,
          2.065945624585553,
          2.1482633251777834,
          2.0922415567191823,
          1.9927743351702376,
          1.9184597443578075,
          1.696659273317632,
          1.5651796126494866,
          1.424553540804427,
          1.339949237417968,
          1.105572451009535,
          0.9958155168865616,
          0.8597626506299592,
          0.7557222234925571,
          0.822033704525187,
          0.7637253332723573,
          0.7797315528319576,
          0.7077035648137562,
          0.6802643312830129,
          0.5727939999542679,
          0.5647908901744678,
          0.5133423273043239,
          0.4573205588457229,
          0.42073491413806513,
          0.4115885029611506,
          0.3841492694304072,
          0.29039855486703403,
          0.27324903391031946,
          0.28811195207280543,
          0.1863581277296321,
          0.15891889419888872,
          0.12576315368257382,
          0.1097569341229735,
          0.10632702993163057,
          0.06631148103262982,
          0.08003109779800151,
          0.0948940159604875,
          0.11661674250565936,
          0.08689090618068734,
          0.08346100198934443,
          0.0617382754441726,
          0.0788877964008872,
          0.08460430338645873,
          0.05373516566437245,
          0.06631148103262982,
          0.05373516566437245,
          0.03658564470765783,
          0.0308691377220863,
          0.019436123750943224,
          0.02629593213362907,
          0.02057942514805753,
          0.06059497404705829
         ],
         "yaxis": "y"
        }
       ],
       "layout": {
        "legend": {
         "title": {
          "text": "Pohlavie"
         },
         "tracegroupgap": 0
        },
        "margin": {
         "t": 60
        },
        "template": {
         "data": {
          "bar": [
           {
            "error_x": {
             "color": "#f2f5fa"
            },
            "error_y": {
             "color": "#f2f5fa"
            },
            "marker": {
             "line": {
              "color": "rgb(17,17,17)",
              "width": 0.5
             },
             "pattern": {
              "fillmode": "overlay",
              "size": 10,
              "solidity": 0.2
             }
            },
            "type": "bar"
           }
          ],
          "barpolar": [
           {
            "marker": {
             "line": {
              "color": "rgb(17,17,17)",
              "width": 0.5
             },
             "pattern": {
              "fillmode": "overlay",
              "size": 10,
              "solidity": 0.2
             }
            },
            "type": "barpolar"
           }
          ],
          "carpet": [
           {
            "aaxis": {
             "endlinecolor": "#A2B1C6",
             "gridcolor": "#506784",
             "linecolor": "#506784",
             "minorgridcolor": "#506784",
             "startlinecolor": "#A2B1C6"
            },
            "baxis": {
             "endlinecolor": "#A2B1C6",
             "gridcolor": "#506784",
             "linecolor": "#506784",
             "minorgridcolor": "#506784",
             "startlinecolor": "#A2B1C6"
            },
            "type": "carpet"
           }
          ],
          "choropleth": [
           {
            "colorbar": {
             "outlinewidth": 0,
             "ticks": ""
            },
            "type": "choropleth"
           }
          ],
          "contour": [
           {
            "colorbar": {
             "outlinewidth": 0,
             "ticks": ""
            },
            "colorscale": [
             [
              0,
              "#0d0887"
             ],
             [
              0.1111111111111111,
              "#46039f"
             ],
             [
              0.2222222222222222,
              "#7201a8"
             ],
             [
              0.3333333333333333,
              "#9c179e"
             ],
             [
              0.4444444444444444,
              "#bd3786"
             ],
             [
              0.5555555555555556,
              "#d8576b"
             ],
             [
              0.6666666666666666,
              "#ed7953"
             ],
             [
              0.7777777777777778,
              "#fb9f3a"
             ],
             [
              0.8888888888888888,
              "#fdca26"
             ],
             [
              1,
              "#f0f921"
             ]
            ],
            "type": "contour"
           }
          ],
          "contourcarpet": [
           {
            "colorbar": {
             "outlinewidth": 0,
             "ticks": ""
            },
            "type": "contourcarpet"
           }
          ],
          "heatmap": [
           {
            "colorbar": {
             "outlinewidth": 0,
             "ticks": ""
            },
            "colorscale": [
             [
              0,
              "#0d0887"
             ],
             [
              0.1111111111111111,
              "#46039f"
             ],
             [
              0.2222222222222222,
              "#7201a8"
             ],
             [
              0.3333333333333333,
              "#9c179e"
             ],
             [
              0.4444444444444444,
              "#bd3786"
             ],
             [
              0.5555555555555556,
              "#d8576b"
             ],
             [
              0.6666666666666666,
              "#ed7953"
             ],
             [
              0.7777777777777778,
              "#fb9f3a"
             ],
             [
              0.8888888888888888,
              "#fdca26"
             ],
             [
              1,
              "#f0f921"
             ]
            ],
            "type": "heatmap"
           }
          ],
          "heatmapgl": [
           {
            "colorbar": {
             "outlinewidth": 0,
             "ticks": ""
            },
            "colorscale": [
             [
              0,
              "#0d0887"
             ],
             [
              0.1111111111111111,
              "#46039f"
             ],
             [
              0.2222222222222222,
              "#7201a8"
             ],
             [
              0.3333333333333333,
              "#9c179e"
             ],
             [
              0.4444444444444444,
              "#bd3786"
             ],
             [
              0.5555555555555556,
              "#d8576b"
             ],
             [
              0.6666666666666666,
              "#ed7953"
             ],
             [
              0.7777777777777778,
              "#fb9f3a"
             ],
             [
              0.8888888888888888,
              "#fdca26"
             ],
             [
              1,
              "#f0f921"
             ]
            ],
            "type": "heatmapgl"
           }
          ],
          "histogram": [
           {
            "marker": {
             "pattern": {
              "fillmode": "overlay",
              "size": 10,
              "solidity": 0.2
             }
            },
            "type": "histogram"
           }
          ],
          "histogram2d": [
           {
            "colorbar": {
             "outlinewidth": 0,
             "ticks": ""
            },
            "colorscale": [
             [
              0,
              "#0d0887"
             ],
             [
              0.1111111111111111,
              "#46039f"
             ],
             [
              0.2222222222222222,
              "#7201a8"
             ],
             [
              0.3333333333333333,
              "#9c179e"
             ],
             [
              0.4444444444444444,
              "#bd3786"
             ],
             [
              0.5555555555555556,
              "#d8576b"
             ],
             [
              0.6666666666666666,
              "#ed7953"
             ],
             [
              0.7777777777777778,
              "#fb9f3a"
             ],
             [
              0.8888888888888888,
              "#fdca26"
             ],
             [
              1,
              "#f0f921"
             ]
            ],
            "type": "histogram2d"
           }
          ],
          "histogram2dcontour": [
           {
            "colorbar": {
             "outlinewidth": 0,
             "ticks": ""
            },
            "colorscale": [
             [
              0,
              "#0d0887"
             ],
             [
              0.1111111111111111,
              "#46039f"
             ],
             [
              0.2222222222222222,
              "#7201a8"
             ],
             [
              0.3333333333333333,
              "#9c179e"
             ],
             [
              0.4444444444444444,
              "#bd3786"
             ],
             [
              0.5555555555555556,
              "#d8576b"
             ],
             [
              0.6666666666666666,
              "#ed7953"
             ],
             [
              0.7777777777777778,
              "#fb9f3a"
             ],
             [
              0.8888888888888888,
              "#fdca26"
             ],
             [
              1,
              "#f0f921"
             ]
            ],
            "type": "histogram2dcontour"
           }
          ],
          "mesh3d": [
           {
            "colorbar": {
             "outlinewidth": 0,
             "ticks": ""
            },
            "type": "mesh3d"
           }
          ],
          "parcoords": [
           {
            "line": {
             "colorbar": {
              "outlinewidth": 0,
              "ticks": ""
             }
            },
            "type": "parcoords"
           }
          ],
          "pie": [
           {
            "automargin": true,
            "type": "pie"
           }
          ],
          "scatter": [
           {
            "marker": {
             "line": {
              "color": "#283442"
             }
            },
            "type": "scatter"
           }
          ],
          "scatter3d": [
           {
            "line": {
             "colorbar": {
              "outlinewidth": 0,
              "ticks": ""
             }
            },
            "marker": {
             "colorbar": {
              "outlinewidth": 0,
              "ticks": ""
             }
            },
            "type": "scatter3d"
           }
          ],
          "scattercarpet": [
           {
            "marker": {
             "colorbar": {
              "outlinewidth": 0,
              "ticks": ""
             }
            },
            "type": "scattercarpet"
           }
          ],
          "scattergeo": [
           {
            "marker": {
             "colorbar": {
              "outlinewidth": 0,
              "ticks": ""
             }
            },
            "type": "scattergeo"
           }
          ],
          "scattergl": [
           {
            "marker": {
             "line": {
              "color": "#283442"
             }
            },
            "type": "scattergl"
           }
          ],
          "scattermapbox": [
           {
            "marker": {
             "colorbar": {
              "outlinewidth": 0,
              "ticks": ""
             }
            },
            "type": "scattermapbox"
           }
          ],
          "scatterpolar": [
           {
            "marker": {
             "colorbar": {
              "outlinewidth": 0,
              "ticks": ""
             }
            },
            "type": "scatterpolar"
           }
          ],
          "scatterpolargl": [
           {
            "marker": {
             "colorbar": {
              "outlinewidth": 0,
              "ticks": ""
             }
            },
            "type": "scatterpolargl"
           }
          ],
          "scatterternary": [
           {
            "marker": {
             "colorbar": {
              "outlinewidth": 0,
              "ticks": ""
             }
            },
            "type": "scatterternary"
           }
          ],
          "surface": [
           {
            "colorbar": {
             "outlinewidth": 0,
             "ticks": ""
            },
            "colorscale": [
             [
              0,
              "#0d0887"
             ],
             [
              0.1111111111111111,
              "#46039f"
             ],
             [
              0.2222222222222222,
              "#7201a8"
             ],
             [
              0.3333333333333333,
              "#9c179e"
             ],
             [
              0.4444444444444444,
              "#bd3786"
             ],
             [
              0.5555555555555556,
              "#d8576b"
             ],
             [
              0.6666666666666666,
              "#ed7953"
             ],
             [
              0.7777777777777778,
              "#fb9f3a"
             ],
             [
              0.8888888888888888,
              "#fdca26"
             ],
             [
              1,
              "#f0f921"
             ]
            ],
            "type": "surface"
           }
          ],
          "table": [
           {
            "cells": {
             "fill": {
              "color": "#506784"
             },
             "line": {
              "color": "rgb(17,17,17)"
             }
            },
            "header": {
             "fill": {
              "color": "#2a3f5f"
             },
             "line": {
              "color": "rgb(17,17,17)"
             }
            },
            "type": "table"
           }
          ]
         },
         "layout": {
          "annotationdefaults": {
           "arrowcolor": "#f2f5fa",
           "arrowhead": 0,
           "arrowwidth": 1
          },
          "autotypenumbers": "strict",
          "coloraxis": {
           "colorbar": {
            "outlinewidth": 0,
            "ticks": ""
           }
          },
          "colorscale": {
           "diverging": [
            [
             0,
             "#8e0152"
            ],
            [
             0.1,
             "#c51b7d"
            ],
            [
             0.2,
             "#de77ae"
            ],
            [
             0.3,
             "#f1b6da"
            ],
            [
             0.4,
             "#fde0ef"
            ],
            [
             0.5,
             "#f7f7f7"
            ],
            [
             0.6,
             "#e6f5d0"
            ],
            [
             0.7,
             "#b8e186"
            ],
            [
             0.8,
             "#7fbc41"
            ],
            [
             0.9,
             "#4d9221"
            ],
            [
             1,
             "#276419"
            ]
           ],
           "sequential": [
            [
             0,
             "#0d0887"
            ],
            [
             0.1111111111111111,
             "#46039f"
            ],
            [
             0.2222222222222222,
             "#7201a8"
            ],
            [
             0.3333333333333333,
             "#9c179e"
            ],
            [
             0.4444444444444444,
             "#bd3786"
            ],
            [
             0.5555555555555556,
             "#d8576b"
            ],
            [
             0.6666666666666666,
             "#ed7953"
            ],
            [
             0.7777777777777778,
             "#fb9f3a"
            ],
            [
             0.8888888888888888,
             "#fdca26"
            ],
            [
             1,
             "#f0f921"
            ]
           ],
           "sequentialminus": [
            [
             0,
             "#0d0887"
            ],
            [
             0.1111111111111111,
             "#46039f"
            ],
            [
             0.2222222222222222,
             "#7201a8"
            ],
            [
             0.3333333333333333,
             "#9c179e"
            ],
            [
             0.4444444444444444,
             "#bd3786"
            ],
            [
             0.5555555555555556,
             "#d8576b"
            ],
            [
             0.6666666666666666,
             "#ed7953"
            ],
            [
             0.7777777777777778,
             "#fb9f3a"
            ],
            [
             0.8888888888888888,
             "#fdca26"
            ],
            [
             1,
             "#f0f921"
            ]
           ]
          },
          "colorway": [
           "#636efa",
           "#EF553B",
           "#00cc96",
           "#ab63fa",
           "#FFA15A",
           "#19d3f3",
           "#FF6692",
           "#B6E880",
           "#FF97FF",
           "#FECB52"
          ],
          "font": {
           "color": "#f2f5fa"
          },
          "geo": {
           "bgcolor": "rgb(17,17,17)",
           "lakecolor": "rgb(17,17,17)",
           "landcolor": "rgb(17,17,17)",
           "showlakes": true,
           "showland": true,
           "subunitcolor": "#506784"
          },
          "hoverlabel": {
           "align": "left"
          },
          "hovermode": "closest",
          "mapbox": {
           "style": "dark"
          },
          "paper_bgcolor": "rgb(17,17,17)",
          "plot_bgcolor": "rgb(17,17,17)",
          "polar": {
           "angularaxis": {
            "gridcolor": "#506784",
            "linecolor": "#506784",
            "ticks": ""
           },
           "bgcolor": "rgb(17,17,17)",
           "radialaxis": {
            "gridcolor": "#506784",
            "linecolor": "#506784",
            "ticks": ""
           }
          },
          "scene": {
           "xaxis": {
            "backgroundcolor": "rgb(17,17,17)",
            "gridcolor": "#506784",
            "gridwidth": 2,
            "linecolor": "#506784",
            "showbackground": true,
            "ticks": "",
            "zerolinecolor": "#C8D4E3"
           },
           "yaxis": {
            "backgroundcolor": "rgb(17,17,17)",
            "gridcolor": "#506784",
            "gridwidth": 2,
            "linecolor": "#506784",
            "showbackground": true,
            "ticks": "",
            "zerolinecolor": "#C8D4E3"
           },
           "zaxis": {
            "backgroundcolor": "rgb(17,17,17)",
            "gridcolor": "#506784",
            "gridwidth": 2,
            "linecolor": "#506784",
            "showbackground": true,
            "ticks": "",
            "zerolinecolor": "#C8D4E3"
           }
          },
          "shapedefaults": {
           "line": {
            "color": "#f2f5fa"
           }
          },
          "sliderdefaults": {
           "bgcolor": "#C8D4E3",
           "bordercolor": "rgb(17,17,17)",
           "borderwidth": 1,
           "tickwidth": 0
          },
          "ternary": {
           "aaxis": {
            "gridcolor": "#506784",
            "linecolor": "#506784",
            "ticks": ""
           },
           "baxis": {
            "gridcolor": "#506784",
            "linecolor": "#506784",
            "ticks": ""
           },
           "bgcolor": "rgb(17,17,17)",
           "caxis": {
            "gridcolor": "#506784",
            "linecolor": "#506784",
            "ticks": ""
           }
          },
          "title": {
           "x": 0.05
          },
          "updatemenudefaults": {
           "bgcolor": "#506784",
           "borderwidth": 0
          },
          "xaxis": {
           "automargin": true,
           "gridcolor": "#283442",
           "linecolor": "#506784",
           "ticks": "",
           "title": {
            "standoff": 15
           },
           "zerolinecolor": "#283442",
           "zerolinewidth": 2
          },
          "yaxis": {
           "automargin": true,
           "gridcolor": "#283442",
           "linecolor": "#506784",
           "ticks": "",
           "title": {
            "standoff": 15
           },
           "zerolinecolor": "#283442",
           "zerolinewidth": 2
          }
         }
        },
        "xaxis": {
         "anchor": "y",
         "domain": [
          0,
          1
         ],
         "title": {
          "text": "Vek"
         }
        },
        "yaxis": {
         "anchor": "x",
         "domain": [
          0,
          1
         ],
         "title": {
          "text": "category_percent"
         }
        }
       }
      }
     },
     "metadata": {},
     "output_type": "display_data"
    },
    {
     "data": {
      "application/vnd.plotly.v1+json": {
       "config": {
        "plotlyServerURL": "https://plot.ly"
       },
       "data": [
        {
         "customdata": [
          [
           7
          ],
          [
           43
          ],
          [
           99
          ],
          [
           192
          ],
          [
           2479
          ],
          [
           4790
          ],
          [
           4242
          ],
          [
           2833
          ],
          [
           2254
          ],
          [
           2097
          ],
          [
           2038
          ],
          [
           2140
          ],
          [
           2088
          ],
          [
           2010
          ],
          [
           1971
          ],
          [
           1868
          ],
          [
           1848
          ],
          [
           1739
          ],
          [
           1514
          ],
          [
           1350
          ],
          [
           1252
          ],
          [
           1168
          ],
          [
           1207
          ],
          [
           1136
          ],
          [
           1063
          ],
          [
           989
          ],
          [
           922
          ],
          [
           834
          ],
          [
           632
          ],
          [
           647
          ],
          [
           523
          ],
          [
           457
          ],
          [
           417
          ],
          [
           409
          ],
          [
           281
          ],
          [
           290
          ],
          [
           278
          ],
          [
           293
          ],
          [
           255
          ],
          [
           243
          ],
          [
           214
          ],
          [
           215
          ],
          [
           213
          ],
          [
           186
          ],
          [
           149
          ],
          [
           166
          ],
          [
           194
          ],
          [
           187
          ],
          [
           158
          ],
          [
           143
          ],
          [
           151
          ],
          [
           117
          ],
          [
           144
          ],
          [
           104
          ],
          [
           88
          ],
          [
           85
          ],
          [
           73
          ],
          [
           66
          ],
          [
           72
          ],
          [
           54
          ],
          [
           70
          ],
          [
           69
          ],
          [
           60
          ],
          [
           52
          ],
          [
           50
          ],
          [
           34
          ],
          [
           37
          ],
          [
           30
          ],
          [
           30
          ],
          [
           19
          ],
          [
           28
          ],
          [
           10
          ],
          [
           48
          ]
         ],
         "hovertemplate": "Pohlavie=muž<br>Vek=%{x}<br>filtered_percent=%{y}<br>number=%{customdata[0]}<extra></extra>",
         "legendgroup": "muž",
         "line": {
          "color": "#636efa",
          "dash": "solid"
         },
         "marker": {
          "symbol": "circle"
         },
         "mode": "lines",
         "name": "muž",
         "orientation": "v",
         "showlegend": true,
         "type": "scatter",
         "x": [
          18,
          19,
          20,
          21,
          22,
          23,
          24,
          25,
          26,
          27,
          28,
          29,
          30,
          31,
          32,
          33,
          34,
          35,
          36,
          37,
          38,
          39,
          40,
          41,
          42,
          43,
          44,
          45,
          46,
          47,
          48,
          49,
          50,
          51,
          52,
          53,
          54,
          55,
          56,
          57,
          58,
          59,
          60,
          61,
          62,
          63,
          64,
          65,
          66,
          67,
          68,
          69,
          70,
          71,
          72,
          73,
          74,
          75,
          76,
          77,
          78,
          79,
          80,
          81,
          82,
          83,
          84,
          85,
          86,
          87,
          88,
          89,
          90
         ],
         "xaxis": "x",
         "y": [
          0.027306417007996877,
          0.1638220054861323,
          0.3562047997697262,
          0.6814793781500674,
          8.567182748133813,
          16.070050659241115,
          13.923261233465716,
          9.164429204541777,
          6.755784678096151,
          5.673701298701299,
          5.444393983917934,
          5.4426613087820135,
          5.207761759864319,
          5.041890332614258,
          4.760409622258719,
          4.5165502067264685,
          4.301075268817205,
          3.9255079006772013,
          3.4167588183521023,
          3.0163553490034856,
          2.787797817857938,
          2.6208320244132297,
          2.6487304966095375,
          2.398091659454096,
          2.2584825886502222,
          2.087643010934268,
          1.9577449835439007,
          1.8402065267756669,
          1.3937896965419903,
          1.5143358689291984,
          1.3050204611238645,
          1.2095386814175688,
          1.148254213019055,
          1.15292459478506,
          0.8363842009703246,
          0.8610706968734225,
          0.8035843329960978,
          0.8331911505431383,
          0.6998572840048304,
          0.6798153587914394,
          0.6343748147269817,
          0.6255637347609765,
          0.6266548984995587,
          0.5594826289667619,
          0.4395280235988201,
          0.4852807904814804,
          0.5742363248875207,
          0.5671994904304044,
          0.49765346940061106,
          0.47135605511240025,
          0.5159570833048589,
          0.41973094170403585,
          0.5616443699052226,
          0.4634994206257242,
          0.4136893569010906,
          0.43959453868431936,
          0.46872993450622835,
          0.48831015093222846,
          0.5482372649052006,
          0.4593399115345355,
          0.6468903058867018,
          0.6895862482510493,
          0.6630566913471102,
          0.6796497189909816,
          0.759301442672741,
          0.6040149227216202,
          0.746419205164414,
          0.6887052341597797,
          0.7826767545003913,
          0.5748865355521936,
          0.9939652112176074,
          0.44702726866338843,
          0.7313728477830261
         ],
         "yaxis": "y"
        },
        {
         "customdata": [
          [
           8
          ],
          [
           47
          ],
          [
           130
          ],
          [
           285
          ],
          [
           4426
          ],
          [
           7923
          ],
          [
           6316
          ],
          [
           4485
          ],
          [
           3511
          ],
          [
           3326
          ],
          [
           3170
          ],
          [
           3215
          ],
          [
           3128
          ],
          [
           2975
          ],
          [
           2927
          ],
          [
           2775
          ],
          [
           2677
          ],
          [
           2377
          ],
          [
           2049
          ],
          [
           2014
          ],
          [
           1867
          ],
          [
           1858
          ],
          [
           1807
          ],
          [
           1879
          ],
          [
           1830
          ],
          [
           1743
          ],
          [
           1678
          ],
          [
           1484
          ],
          [
           1369
          ],
          [
           1246
          ],
          [
           1172
          ],
          [
           967
          ],
          [
           871
          ],
          [
           752
          ],
          [
           661
          ],
          [
           719
          ],
          [
           668
          ],
          [
           682
          ],
          [
           619
          ],
          [
           595
          ],
          [
           501
          ],
          [
           494
          ],
          [
           449
          ],
          [
           400
          ],
          [
           368
          ],
          [
           360
          ],
          [
           336
          ],
          [
           254
          ],
          [
           239
          ],
          [
           252
          ],
          [
           163
          ],
          [
           139
          ],
          [
           110
          ],
          [
           96
          ],
          [
           93
          ],
          [
           58
          ],
          [
           70
          ],
          [
           83
          ],
          [
           102
          ],
          [
           76
          ],
          [
           73
          ],
          [
           54
          ],
          [
           69
          ],
          [
           74
          ],
          [
           47
          ],
          [
           58
          ],
          [
           47
          ],
          [
           32
          ],
          [
           27
          ],
          [
           17
          ],
          [
           23
          ],
          [
           18
          ],
          [
           53
          ]
         ],
         "hovertemplate": "Pohlavie=žena<br>Vek=%{x}<br>filtered_percent=%{y}<br>number=%{customdata[0]}<extra></extra>",
         "legendgroup": "žena",
         "line": {
          "color": "#EF553B",
          "dash": "solid"
         },
         "marker": {
          "symbol": "circle"
         },
         "mode": "lines",
         "name": "žena",
         "orientation": "v",
         "showlegend": true,
         "type": "scatter",
         "x": [
          18,
          19,
          20,
          21,
          22,
          23,
          24,
          25,
          26,
          27,
          28,
          29,
          30,
          31,
          32,
          33,
          34,
          35,
          36,
          37,
          38,
          39,
          40,
          41,
          42,
          43,
          44,
          45,
          46,
          47,
          48,
          49,
          50,
          51,
          52,
          53,
          54,
          55,
          56,
          57,
          58,
          59,
          60,
          61,
          62,
          63,
          64,
          65,
          66,
          67,
          68,
          69,
          70,
          71,
          72,
          73,
          74,
          75,
          76,
          77,
          78,
          79,
          80,
          81,
          82,
          83,
          84,
          85,
          86,
          87,
          88,
          89,
          90
         ],
         "xaxis": "x",
         "y": [
          0.03275198558912634,
          0.19085519369771786,
          0.48927361686112153,
          1.0496464348850914,
          16.036812928004636,
          27.96089779785432,
          21.970988277037602,
          15.103044181034484,
          10.92374226066395,
          9.47497364897587,
          8.848569434752267,
          8.55872644020871,
          8.230062883153105,
          7.815373299006987,
          7.414068238810508,
          6.968859869412356,
          6.590836349311864,
          5.686058750358818,
          4.895121601605428,
          4.828231007120083,
          4.477862522185446,
          4.43712088646893,
          4.293997433582055,
          4.198225975825011,
          4.118467839942387,
          3.9780896953098255,
          3.8379725989798956,
          3.4215622982569402,
          3.1750817542964493,
          3.007264740665653,
          3.004588919937447,
          2.6308629883556427,
          2.454281608385697,
          2.1550365381859864,
          1.9757293161166904,
          2.1325186854905684,
          1.890744409849986,
          1.8824178857300577,
          1.658850328286212,
          1.6091518823020339,
          1.4165747730935618,
          1.3470033266074057,
          1.2367783164389599,
          1.1221770234254453,
          0.9831423151932891,
          0.9417427472728699,
          0.8551359055278427,
          0.6541165563596096,
          0.6376223888162634,
          0.687004171096753,
          0.4470652770159078,
          0.39000028057574143,
          0.3290457672749028,
          0.31671670350697767,
          0.31781833094115236,
          0.2084156814833447,
          0.2981260647359455,
          0.3902209685002351,
          0.46831955922865015,
          0.385943530367662,
          0.38155969057077144,
          0.29691537911695165,
          0.4044548651817116,
          0.48378661087866104,
          0.3395217799609911,
          0.4720052083333333,
          0.4248779605857892,
          0.315955766192733,
          0.3076572470373746,
          0.22017873332469887,
          0.32518026297186486,
          0.31419095828242277,
          0.29336875899479686
         ],
         "yaxis": "y"
        }
       ],
       "layout": {
        "legend": {
         "title": {
          "text": "Pohlavie"
         },
         "tracegroupgap": 0
        },
        "margin": {
         "t": 60
        },
        "template": {
         "data": {
          "bar": [
           {
            "error_x": {
             "color": "#f2f5fa"
            },
            "error_y": {
             "color": "#f2f5fa"
            },
            "marker": {
             "line": {
              "color": "rgb(17,17,17)",
              "width": 0.5
             },
             "pattern": {
              "fillmode": "overlay",
              "size": 10,
              "solidity": 0.2
             }
            },
            "type": "bar"
           }
          ],
          "barpolar": [
           {
            "marker": {
             "line": {
              "color": "rgb(17,17,17)",
              "width": 0.5
             },
             "pattern": {
              "fillmode": "overlay",
              "size": 10,
              "solidity": 0.2
             }
            },
            "type": "barpolar"
           }
          ],
          "carpet": [
           {
            "aaxis": {
             "endlinecolor": "#A2B1C6",
             "gridcolor": "#506784",
             "linecolor": "#506784",
             "minorgridcolor": "#506784",
             "startlinecolor": "#A2B1C6"
            },
            "baxis": {
             "endlinecolor": "#A2B1C6",
             "gridcolor": "#506784",
             "linecolor": "#506784",
             "minorgridcolor": "#506784",
             "startlinecolor": "#A2B1C6"
            },
            "type": "carpet"
           }
          ],
          "choropleth": [
           {
            "colorbar": {
             "outlinewidth": 0,
             "ticks": ""
            },
            "type": "choropleth"
           }
          ],
          "contour": [
           {
            "colorbar": {
             "outlinewidth": 0,
             "ticks": ""
            },
            "colorscale": [
             [
              0,
              "#0d0887"
             ],
             [
              0.1111111111111111,
              "#46039f"
             ],
             [
              0.2222222222222222,
              "#7201a8"
             ],
             [
              0.3333333333333333,
              "#9c179e"
             ],
             [
              0.4444444444444444,
              "#bd3786"
             ],
             [
              0.5555555555555556,
              "#d8576b"
             ],
             [
              0.6666666666666666,
              "#ed7953"
             ],
             [
              0.7777777777777778,
              "#fb9f3a"
             ],
             [
              0.8888888888888888,
              "#fdca26"
             ],
             [
              1,
              "#f0f921"
             ]
            ],
            "type": "contour"
           }
          ],
          "contourcarpet": [
           {
            "colorbar": {
             "outlinewidth": 0,
             "ticks": ""
            },
            "type": "contourcarpet"
           }
          ],
          "heatmap": [
           {
            "colorbar": {
             "outlinewidth": 0,
             "ticks": ""
            },
            "colorscale": [
             [
              0,
              "#0d0887"
             ],
             [
              0.1111111111111111,
              "#46039f"
             ],
             [
              0.2222222222222222,
              "#7201a8"
             ],
             [
              0.3333333333333333,
              "#9c179e"
             ],
             [
              0.4444444444444444,
              "#bd3786"
             ],
             [
              0.5555555555555556,
              "#d8576b"
             ],
             [
              0.6666666666666666,
              "#ed7953"
             ],
             [
              0.7777777777777778,
              "#fb9f3a"
             ],
             [
              0.8888888888888888,
              "#fdca26"
             ],
             [
              1,
              "#f0f921"
             ]
            ],
            "type": "heatmap"
           }
          ],
          "heatmapgl": [
           {
            "colorbar": {
             "outlinewidth": 0,
             "ticks": ""
            },
            "colorscale": [
             [
              0,
              "#0d0887"
             ],
             [
              0.1111111111111111,
              "#46039f"
             ],
             [
              0.2222222222222222,
              "#7201a8"
             ],
             [
              0.3333333333333333,
              "#9c179e"
             ],
             [
              0.4444444444444444,
              "#bd3786"
             ],
             [
              0.5555555555555556,
              "#d8576b"
             ],
             [
              0.6666666666666666,
              "#ed7953"
             ],
             [
              0.7777777777777778,
              "#fb9f3a"
             ],
             [
              0.8888888888888888,
              "#fdca26"
             ],
             [
              1,
              "#f0f921"
             ]
            ],
            "type": "heatmapgl"
           }
          ],
          "histogram": [
           {
            "marker": {
             "pattern": {
              "fillmode": "overlay",
              "size": 10,
              "solidity": 0.2
             }
            },
            "type": "histogram"
           }
          ],
          "histogram2d": [
           {
            "colorbar": {
             "outlinewidth": 0,
             "ticks": ""
            },
            "colorscale": [
             [
              0,
              "#0d0887"
             ],
             [
              0.1111111111111111,
              "#46039f"
             ],
             [
              0.2222222222222222,
              "#7201a8"
             ],
             [
              0.3333333333333333,
              "#9c179e"
             ],
             [
              0.4444444444444444,
              "#bd3786"
             ],
             [
              0.5555555555555556,
              "#d8576b"
             ],
             [
              0.6666666666666666,
              "#ed7953"
             ],
             [
              0.7777777777777778,
              "#fb9f3a"
             ],
             [
              0.8888888888888888,
              "#fdca26"
             ],
             [
              1,
              "#f0f921"
             ]
            ],
            "type": "histogram2d"
           }
          ],
          "histogram2dcontour": [
           {
            "colorbar": {
             "outlinewidth": 0,
             "ticks": ""
            },
            "colorscale": [
             [
              0,
              "#0d0887"
             ],
             [
              0.1111111111111111,
              "#46039f"
             ],
             [
              0.2222222222222222,
              "#7201a8"
             ],
             [
              0.3333333333333333,
              "#9c179e"
             ],
             [
              0.4444444444444444,
              "#bd3786"
             ],
             [
              0.5555555555555556,
              "#d8576b"
             ],
             [
              0.6666666666666666,
              "#ed7953"
             ],
             [
              0.7777777777777778,
              "#fb9f3a"
             ],
             [
              0.8888888888888888,
              "#fdca26"
             ],
             [
              1,
              "#f0f921"
             ]
            ],
            "type": "histogram2dcontour"
           }
          ],
          "mesh3d": [
           {
            "colorbar": {
             "outlinewidth": 0,
             "ticks": ""
            },
            "type": "mesh3d"
           }
          ],
          "parcoords": [
           {
            "line": {
             "colorbar": {
              "outlinewidth": 0,
              "ticks": ""
             }
            },
            "type": "parcoords"
           }
          ],
          "pie": [
           {
            "automargin": true,
            "type": "pie"
           }
          ],
          "scatter": [
           {
            "marker": {
             "line": {
              "color": "#283442"
             }
            },
            "type": "scatter"
           }
          ],
          "scatter3d": [
           {
            "line": {
             "colorbar": {
              "outlinewidth": 0,
              "ticks": ""
             }
            },
            "marker": {
             "colorbar": {
              "outlinewidth": 0,
              "ticks": ""
             }
            },
            "type": "scatter3d"
           }
          ],
          "scattercarpet": [
           {
            "marker": {
             "colorbar": {
              "outlinewidth": 0,
              "ticks": ""
             }
            },
            "type": "scattercarpet"
           }
          ],
          "scattergeo": [
           {
            "marker": {
             "colorbar": {
              "outlinewidth": 0,
              "ticks": ""
             }
            },
            "type": "scattergeo"
           }
          ],
          "scattergl": [
           {
            "marker": {
             "line": {
              "color": "#283442"
             }
            },
            "type": "scattergl"
           }
          ],
          "scattermapbox": [
           {
            "marker": {
             "colorbar": {
              "outlinewidth": 0,
              "ticks": ""
             }
            },
            "type": "scattermapbox"
           }
          ],
          "scatterpolar": [
           {
            "marker": {
             "colorbar": {
              "outlinewidth": 0,
              "ticks": ""
             }
            },
            "type": "scatterpolar"
           }
          ],
          "scatterpolargl": [
           {
            "marker": {
             "colorbar": {
              "outlinewidth": 0,
              "ticks": ""
             }
            },
            "type": "scatterpolargl"
           }
          ],
          "scatterternary": [
           {
            "marker": {
             "colorbar": {
              "outlinewidth": 0,
              "ticks": ""
             }
            },
            "type": "scatterternary"
           }
          ],
          "surface": [
           {
            "colorbar": {
             "outlinewidth": 0,
             "ticks": ""
            },
            "colorscale": [
             [
              0,
              "#0d0887"
             ],
             [
              0.1111111111111111,
              "#46039f"
             ],
             [
              0.2222222222222222,
              "#7201a8"
             ],
             [
              0.3333333333333333,
              "#9c179e"
             ],
             [
              0.4444444444444444,
              "#bd3786"
             ],
             [
              0.5555555555555556,
              "#d8576b"
             ],
             [
              0.6666666666666666,
              "#ed7953"
             ],
             [
              0.7777777777777778,
              "#fb9f3a"
             ],
             [
              0.8888888888888888,
              "#fdca26"
             ],
             [
              1,
              "#f0f921"
             ]
            ],
            "type": "surface"
           }
          ],
          "table": [
           {
            "cells": {
             "fill": {
              "color": "#506784"
             },
             "line": {
              "color": "rgb(17,17,17)"
             }
            },
            "header": {
             "fill": {
              "color": "#2a3f5f"
             },
             "line": {
              "color": "rgb(17,17,17)"
             }
            },
            "type": "table"
           }
          ]
         },
         "layout": {
          "annotationdefaults": {
           "arrowcolor": "#f2f5fa",
           "arrowhead": 0,
           "arrowwidth": 1
          },
          "autotypenumbers": "strict",
          "coloraxis": {
           "colorbar": {
            "outlinewidth": 0,
            "ticks": ""
           }
          },
          "colorscale": {
           "diverging": [
            [
             0,
             "#8e0152"
            ],
            [
             0.1,
             "#c51b7d"
            ],
            [
             0.2,
             "#de77ae"
            ],
            [
             0.3,
             "#f1b6da"
            ],
            [
             0.4,
             "#fde0ef"
            ],
            [
             0.5,
             "#f7f7f7"
            ],
            [
             0.6,
             "#e6f5d0"
            ],
            [
             0.7,
             "#b8e186"
            ],
            [
             0.8,
             "#7fbc41"
            ],
            [
             0.9,
             "#4d9221"
            ],
            [
             1,
             "#276419"
            ]
           ],
           "sequential": [
            [
             0,
             "#0d0887"
            ],
            [
             0.1111111111111111,
             "#46039f"
            ],
            [
             0.2222222222222222,
             "#7201a8"
            ],
            [
             0.3333333333333333,
             "#9c179e"
            ],
            [
             0.4444444444444444,
             "#bd3786"
            ],
            [
             0.5555555555555556,
             "#d8576b"
            ],
            [
             0.6666666666666666,
             "#ed7953"
            ],
            [
             0.7777777777777778,
             "#fb9f3a"
            ],
            [
             0.8888888888888888,
             "#fdca26"
            ],
            [
             1,
             "#f0f921"
            ]
           ],
           "sequentialminus": [
            [
             0,
             "#0d0887"
            ],
            [
             0.1111111111111111,
             "#46039f"
            ],
            [
             0.2222222222222222,
             "#7201a8"
            ],
            [
             0.3333333333333333,
             "#9c179e"
            ],
            [
             0.4444444444444444,
             "#bd3786"
            ],
            [
             0.5555555555555556,
             "#d8576b"
            ],
            [
             0.6666666666666666,
             "#ed7953"
            ],
            [
             0.7777777777777778,
             "#fb9f3a"
            ],
            [
             0.8888888888888888,
             "#fdca26"
            ],
            [
             1,
             "#f0f921"
            ]
           ]
          },
          "colorway": [
           "#636efa",
           "#EF553B",
           "#00cc96",
           "#ab63fa",
           "#FFA15A",
           "#19d3f3",
           "#FF6692",
           "#B6E880",
           "#FF97FF",
           "#FECB52"
          ],
          "font": {
           "color": "#f2f5fa"
          },
          "geo": {
           "bgcolor": "rgb(17,17,17)",
           "lakecolor": "rgb(17,17,17)",
           "landcolor": "rgb(17,17,17)",
           "showlakes": true,
           "showland": true,
           "subunitcolor": "#506784"
          },
          "hoverlabel": {
           "align": "left"
          },
          "hovermode": "closest",
          "mapbox": {
           "style": "dark"
          },
          "paper_bgcolor": "rgb(17,17,17)",
          "plot_bgcolor": "rgb(17,17,17)",
          "polar": {
           "angularaxis": {
            "gridcolor": "#506784",
            "linecolor": "#506784",
            "ticks": ""
           },
           "bgcolor": "rgb(17,17,17)",
           "radialaxis": {
            "gridcolor": "#506784",
            "linecolor": "#506784",
            "ticks": ""
           }
          },
          "scene": {
           "xaxis": {
            "backgroundcolor": "rgb(17,17,17)",
            "gridcolor": "#506784",
            "gridwidth": 2,
            "linecolor": "#506784",
            "showbackground": true,
            "ticks": "",
            "zerolinecolor": "#C8D4E3"
           },
           "yaxis": {
            "backgroundcolor": "rgb(17,17,17)",
            "gridcolor": "#506784",
            "gridwidth": 2,
            "linecolor": "#506784",
            "showbackground": true,
            "ticks": "",
            "zerolinecolor": "#C8D4E3"
           },
           "zaxis": {
            "backgroundcolor": "rgb(17,17,17)",
            "gridcolor": "#506784",
            "gridwidth": 2,
            "linecolor": "#506784",
            "showbackground": true,
            "ticks": "",
            "zerolinecolor": "#C8D4E3"
           }
          },
          "shapedefaults": {
           "line": {
            "color": "#f2f5fa"
           }
          },
          "sliderdefaults": {
           "bgcolor": "#C8D4E3",
           "bordercolor": "rgb(17,17,17)",
           "borderwidth": 1,
           "tickwidth": 0
          },
          "ternary": {
           "aaxis": {
            "gridcolor": "#506784",
            "linecolor": "#506784",
            "ticks": ""
           },
           "baxis": {
            "gridcolor": "#506784",
            "linecolor": "#506784",
            "ticks": ""
           },
           "bgcolor": "rgb(17,17,17)",
           "caxis": {
            "gridcolor": "#506784",
            "linecolor": "#506784",
            "ticks": ""
           }
          },
          "title": {
           "x": 0.05
          },
          "updatemenudefaults": {
           "bgcolor": "#506784",
           "borderwidth": 0
          },
          "xaxis": {
           "automargin": true,
           "gridcolor": "#283442",
           "linecolor": "#506784",
           "ticks": "",
           "title": {
            "standoff": 15
           },
           "zerolinecolor": "#283442",
           "zerolinewidth": 2
          },
          "yaxis": {
           "automargin": true,
           "gridcolor": "#283442",
           "linecolor": "#506784",
           "ticks": "",
           "title": {
            "standoff": 15
           },
           "zerolinecolor": "#283442",
           "zerolinewidth": 2
          }
         }
        },
        "xaxis": {
         "anchor": "y",
         "domain": [
          0,
          1
         ],
         "title": {
          "text": "Vek"
         }
        },
        "yaxis": {
         "anchor": "x",
         "domain": [
          0,
          1
         ],
         "title": {
          "text": "filtered_percent"
         }
        }
       }
      }
     },
     "metadata": {},
     "output_type": "display_data"
    },
    {
     "data": {
      "application/vnd.plotly.v1+json": {
       "config": {
        "plotlyServerURL": "https://plot.ly"
       },
       "data": [
        {
         "customdata": [
          [
           7
          ],
          [
           43
          ],
          [
           99
          ],
          [
           192
          ],
          [
           2479
          ],
          [
           4790
          ],
          [
           4242
          ],
          [
           2833
          ],
          [
           2254
          ],
          [
           2097
          ],
          [
           2038
          ],
          [
           2140
          ],
          [
           2088
          ],
          [
           2010
          ],
          [
           1971
          ],
          [
           1868
          ],
          [
           1848
          ],
          [
           1739
          ],
          [
           1514
          ],
          [
           1350
          ],
          [
           1252
          ],
          [
           1168
          ],
          [
           1207
          ],
          [
           1136
          ],
          [
           1063
          ],
          [
           989
          ],
          [
           922
          ],
          [
           834
          ],
          [
           632
          ],
          [
           647
          ],
          [
           523
          ],
          [
           457
          ],
          [
           417
          ],
          [
           409
          ],
          [
           281
          ],
          [
           290
          ],
          [
           278
          ],
          [
           293
          ],
          [
           255
          ],
          [
           243
          ],
          [
           214
          ],
          [
           215
          ],
          [
           213
          ],
          [
           186
          ],
          [
           149
          ],
          [
           166
          ],
          [
           194
          ],
          [
           187
          ],
          [
           158
          ],
          [
           143
          ],
          [
           151
          ],
          [
           117
          ],
          [
           144
          ],
          [
           104
          ],
          [
           88
          ],
          [
           85
          ],
          [
           73
          ],
          [
           66
          ],
          [
           72
          ],
          [
           54
          ],
          [
           70
          ],
          [
           69
          ],
          [
           60
          ],
          [
           52
          ],
          [
           50
          ],
          [
           34
          ],
          [
           37
          ],
          [
           30
          ],
          [
           30
          ],
          [
           19
          ],
          [
           28
          ],
          [
           10
          ],
          [
           48
          ]
         ],
         "hovertemplate": "Pohlavie=muž<br>Vek=%{x}<br>age_percent=%{y}<br>number=%{customdata[0]}<extra></extra>",
         "legendgroup": "muž",
         "line": {
          "color": "#636efa",
          "dash": "solid"
         },
         "marker": {
          "symbol": "circle"
         },
         "mode": "lines",
         "name": "muž",
         "orientation": "v",
         "showlegend": true,
         "type": "scatter",
         "x": [
          18,
          19,
          20,
          21,
          22,
          23,
          24,
          25,
          26,
          27,
          28,
          29,
          30,
          31,
          32,
          33,
          34,
          35,
          36,
          37,
          38,
          39,
          40,
          41,
          42,
          43,
          44,
          45,
          46,
          47,
          48,
          49,
          50,
          51,
          52,
          53,
          54,
          55,
          56,
          57,
          58,
          59,
          60,
          61,
          62,
          63,
          64,
          65,
          66,
          67,
          68,
          69,
          70,
          71,
          72,
          73,
          74,
          75,
          76,
          77,
          78,
          79,
          80,
          81,
          82,
          83,
          84,
          85,
          86,
          87,
          88,
          89,
          90
         ],
         "xaxis": "x",
         "y": [
          46.666666666666664,
          47.77777777777778,
          43.23144104803494,
          40.25157232704403,
          35.901520637219406,
          37.67796743490915,
          40.17806402727789,
          38.71276305001366,
          39.098005203816136,
          38.66863359763968,
          39.1321044546851,
          39.96265172735761,
          40.03067484662577,
          40.320962888665996,
          40.240914659044506,
          40.23260822743915,
          40.83977900552486,
          42.24975704567541,
          42.49228178501263,
          40.130796670630204,
          40.141070856043605,
          38.59881031064111,
          40.046449900464495,
          37.67827529021559,
          36.74386450051849,
          36.20058565153734,
          35.46153846153846,
          35.9792924935289,
          31.584207896051975,
          34.178552562070784,
          30.855457227138643,
          32.092696629213485,
          32.37577639751553,
          35.228251507321275,
          29.830148619957537,
          28.74132804757185,
          29.38689217758985,
          30.05128205128205,
          29.176201372997713,
          28.997613365155132,
          29.93006993006993,
          30.32440056417489,
          32.17522658610272,
          31.74061433447099,
          28.820116054158607,
          31.55893536121673,
          36.60377358490566,
          42.40362811791383,
          39.79848866498741,
          36.20253164556962,
          48.089171974522294,
          45.703125,
          56.69291338582677,
          52,
          48.61878453038674,
          59.44055944055944,
          51.048951048951054,
          44.29530201342282,
          41.37931034482759,
          41.53846153846154,
          48.95104895104895,
          56.09756097560976,
          46.51162790697674,
          41.269841269841265,
          51.546391752577314,
          36.95652173913043,
          44.047619047619044,
          48.38709677419355,
          52.63157894736842,
          52.77777777777778,
          54.90196078431373,
          35.714285714285715,
          47.524752475247524
         ],
         "yaxis": "y"
        },
        {
         "customdata": [
          [
           8
          ],
          [
           47
          ],
          [
           130
          ],
          [
           285
          ],
          [
           4426
          ],
          [
           7923
          ],
          [
           6316
          ],
          [
           4485
          ],
          [
           3511
          ],
          [
           3326
          ],
          [
           3170
          ],
          [
           3215
          ],
          [
           3128
          ],
          [
           2975
          ],
          [
           2927
          ],
          [
           2775
          ],
          [
           2677
          ],
          [
           2377
          ],
          [
           2049
          ],
          [
           2014
          ],
          [
           1867
          ],
          [
           1858
          ],
          [
           1807
          ],
          [
           1879
          ],
          [
           1830
          ],
          [
           1743
          ],
          [
           1678
          ],
          [
           1484
          ],
          [
           1369
          ],
          [
           1246
          ],
          [
           1172
          ],
          [
           967
          ],
          [
           871
          ],
          [
           752
          ],
          [
           661
          ],
          [
           719
          ],
          [
           668
          ],
          [
           682
          ],
          [
           619
          ],
          [
           595
          ],
          [
           501
          ],
          [
           494
          ],
          [
           449
          ],
          [
           400
          ],
          [
           368
          ],
          [
           360
          ],
          [
           336
          ],
          [
           254
          ],
          [
           239
          ],
          [
           252
          ],
          [
           163
          ],
          [
           139
          ],
          [
           110
          ],
          [
           96
          ],
          [
           93
          ],
          [
           58
          ],
          [
           70
          ],
          [
           83
          ],
          [
           102
          ],
          [
           76
          ],
          [
           73
          ],
          [
           54
          ],
          [
           69
          ],
          [
           74
          ],
          [
           47
          ],
          [
           58
          ],
          [
           47
          ],
          [
           32
          ],
          [
           27
          ],
          [
           17
          ],
          [
           23
          ],
          [
           18
          ],
          [
           53
          ]
         ],
         "hovertemplate": "Pohlavie=žena<br>Vek=%{x}<br>age_percent=%{y}<br>number=%{customdata[0]}<extra></extra>",
         "legendgroup": "žena",
         "line": {
          "color": "#EF553B",
          "dash": "solid"
         },
         "marker": {
          "symbol": "circle"
         },
         "mode": "lines",
         "name": "žena",
         "orientation": "v",
         "showlegend": true,
         "type": "scatter",
         "x": [
          18,
          19,
          20,
          21,
          22,
          23,
          24,
          25,
          26,
          27,
          28,
          29,
          30,
          31,
          32,
          33,
          34,
          35,
          36,
          37,
          38,
          39,
          40,
          41,
          42,
          43,
          44,
          45,
          46,
          47,
          48,
          49,
          50,
          51,
          52,
          53,
          54,
          55,
          56,
          57,
          58,
          59,
          60,
          61,
          62,
          63,
          64,
          65,
          66,
          67,
          68,
          69,
          70,
          71,
          72,
          73,
          74,
          75,
          76,
          77,
          78,
          79,
          80,
          81,
          82,
          83,
          84,
          85,
          86,
          87,
          88,
          89,
          90
         ],
         "xaxis": "x",
         "y": [
          53.333333333333336,
          52.22222222222223,
          56.76855895196506,
          59.74842767295597,
          64.0984793627806,
          62.32203256509086,
          59.82193597272211,
          61.28723694998634,
          60.901994796183864,
          61.331366402360324,
          60.8678955453149,
          60.03734827264239,
          59.96932515337423,
          59.679037111334,
          59.75908534095549,
          59.76739177256084,
          59.16022099447515,
          57.750242954324584,
          57.50771821498737,
          59.8692033293698,
          59.858929143956395,
          61.401189689358894,
          59.953550099535505,
          62.32172470978441,
          63.2561354994815,
          63.79941434846267,
          64.53846153846153,
          64.0207075064711,
          68.41579210394802,
          65.82144743792921,
          69.14454277286136,
          67.90730337078652,
          67.62422360248446,
          64.77174849267873,
          70.16985138004246,
          71.25867195242814,
          70.61310782241014,
          69.94871794871796,
          70.82379862700229,
          71.00238663484487,
          70.06993006993008,
          69.6755994358251,
          67.82477341389728,
          68.25938566552901,
          71.1798839458414,
          68.44106463878326,
          63.39622641509434,
          57.596371882086174,
          60.20151133501259,
          63.79746835443038,
          51.910828025477706,
          54.296875,
          43.30708661417323,
          48,
          51.38121546961326,
          40.55944055944056,
          48.95104895104895,
          55.70469798657718,
          58.620689655172406,
          58.46153846153847,
          51.048951048951054,
          43.90243902439025,
          53.48837209302325,
          58.730158730158735,
          48.45360824742268,
          63.04347826086957,
          55.952380952380956,
          51.61290322580645,
          47.368421052631575,
          47.22222222222222,
          45.09803921568628,
          64.28571428571429,
          52.475247524752476
         ],
         "yaxis": "y"
        }
       ],
       "layout": {
        "legend": {
         "title": {
          "text": "Pohlavie"
         },
         "tracegroupgap": 0
        },
        "margin": {
         "t": 60
        },
        "template": {
         "data": {
          "bar": [
           {
            "error_x": {
             "color": "#f2f5fa"
            },
            "error_y": {
             "color": "#f2f5fa"
            },
            "marker": {
             "line": {
              "color": "rgb(17,17,17)",
              "width": 0.5
             },
             "pattern": {
              "fillmode": "overlay",
              "size": 10,
              "solidity": 0.2
             }
            },
            "type": "bar"
           }
          ],
          "barpolar": [
           {
            "marker": {
             "line": {
              "color": "rgb(17,17,17)",
              "width": 0.5
             },
             "pattern": {
              "fillmode": "overlay",
              "size": 10,
              "solidity": 0.2
             }
            },
            "type": "barpolar"
           }
          ],
          "carpet": [
           {
            "aaxis": {
             "endlinecolor": "#A2B1C6",
             "gridcolor": "#506784",
             "linecolor": "#506784",
             "minorgridcolor": "#506784",
             "startlinecolor": "#A2B1C6"
            },
            "baxis": {
             "endlinecolor": "#A2B1C6",
             "gridcolor": "#506784",
             "linecolor": "#506784",
             "minorgridcolor": "#506784",
             "startlinecolor": "#A2B1C6"
            },
            "type": "carpet"
           }
          ],
          "choropleth": [
           {
            "colorbar": {
             "outlinewidth": 0,
             "ticks": ""
            },
            "type": "choropleth"
           }
          ],
          "contour": [
           {
            "colorbar": {
             "outlinewidth": 0,
             "ticks": ""
            },
            "colorscale": [
             [
              0,
              "#0d0887"
             ],
             [
              0.1111111111111111,
              "#46039f"
             ],
             [
              0.2222222222222222,
              "#7201a8"
             ],
             [
              0.3333333333333333,
              "#9c179e"
             ],
             [
              0.4444444444444444,
              "#bd3786"
             ],
             [
              0.5555555555555556,
              "#d8576b"
             ],
             [
              0.6666666666666666,
              "#ed7953"
             ],
             [
              0.7777777777777778,
              "#fb9f3a"
             ],
             [
              0.8888888888888888,
              "#fdca26"
             ],
             [
              1,
              "#f0f921"
             ]
            ],
            "type": "contour"
           }
          ],
          "contourcarpet": [
           {
            "colorbar": {
             "outlinewidth": 0,
             "ticks": ""
            },
            "type": "contourcarpet"
           }
          ],
          "heatmap": [
           {
            "colorbar": {
             "outlinewidth": 0,
             "ticks": ""
            },
            "colorscale": [
             [
              0,
              "#0d0887"
             ],
             [
              0.1111111111111111,
              "#46039f"
             ],
             [
              0.2222222222222222,
              "#7201a8"
             ],
             [
              0.3333333333333333,
              "#9c179e"
             ],
             [
              0.4444444444444444,
              "#bd3786"
             ],
             [
              0.5555555555555556,
              "#d8576b"
             ],
             [
              0.6666666666666666,
              "#ed7953"
             ],
             [
              0.7777777777777778,
              "#fb9f3a"
             ],
             [
              0.8888888888888888,
              "#fdca26"
             ],
             [
              1,
              "#f0f921"
             ]
            ],
            "type": "heatmap"
           }
          ],
          "heatmapgl": [
           {
            "colorbar": {
             "outlinewidth": 0,
             "ticks": ""
            },
            "colorscale": [
             [
              0,
              "#0d0887"
             ],
             [
              0.1111111111111111,
              "#46039f"
             ],
             [
              0.2222222222222222,
              "#7201a8"
             ],
             [
              0.3333333333333333,
              "#9c179e"
             ],
             [
              0.4444444444444444,
              "#bd3786"
             ],
             [
              0.5555555555555556,
              "#d8576b"
             ],
             [
              0.6666666666666666,
              "#ed7953"
             ],
             [
              0.7777777777777778,
              "#fb9f3a"
             ],
             [
              0.8888888888888888,
              "#fdca26"
             ],
             [
              1,
              "#f0f921"
             ]
            ],
            "type": "heatmapgl"
           }
          ],
          "histogram": [
           {
            "marker": {
             "pattern": {
              "fillmode": "overlay",
              "size": 10,
              "solidity": 0.2
             }
            },
            "type": "histogram"
           }
          ],
          "histogram2d": [
           {
            "colorbar": {
             "outlinewidth": 0,
             "ticks": ""
            },
            "colorscale": [
             [
              0,
              "#0d0887"
             ],
             [
              0.1111111111111111,
              "#46039f"
             ],
             [
              0.2222222222222222,
              "#7201a8"
             ],
             [
              0.3333333333333333,
              "#9c179e"
             ],
             [
              0.4444444444444444,
              "#bd3786"
             ],
             [
              0.5555555555555556,
              "#d8576b"
             ],
             [
              0.6666666666666666,
              "#ed7953"
             ],
             [
              0.7777777777777778,
              "#fb9f3a"
             ],
             [
              0.8888888888888888,
              "#fdca26"
             ],
             [
              1,
              "#f0f921"
             ]
            ],
            "type": "histogram2d"
           }
          ],
          "histogram2dcontour": [
           {
            "colorbar": {
             "outlinewidth": 0,
             "ticks": ""
            },
            "colorscale": [
             [
              0,
              "#0d0887"
             ],
             [
              0.1111111111111111,
              "#46039f"
             ],
             [
              0.2222222222222222,
              "#7201a8"
             ],
             [
              0.3333333333333333,
              "#9c179e"
             ],
             [
              0.4444444444444444,
              "#bd3786"
             ],
             [
              0.5555555555555556,
              "#d8576b"
             ],
             [
              0.6666666666666666,
              "#ed7953"
             ],
             [
              0.7777777777777778,
              "#fb9f3a"
             ],
             [
              0.8888888888888888,
              "#fdca26"
             ],
             [
              1,
              "#f0f921"
             ]
            ],
            "type": "histogram2dcontour"
           }
          ],
          "mesh3d": [
           {
            "colorbar": {
             "outlinewidth": 0,
             "ticks": ""
            },
            "type": "mesh3d"
           }
          ],
          "parcoords": [
           {
            "line": {
             "colorbar": {
              "outlinewidth": 0,
              "ticks": ""
             }
            },
            "type": "parcoords"
           }
          ],
          "pie": [
           {
            "automargin": true,
            "type": "pie"
           }
          ],
          "scatter": [
           {
            "marker": {
             "line": {
              "color": "#283442"
             }
            },
            "type": "scatter"
           }
          ],
          "scatter3d": [
           {
            "line": {
             "colorbar": {
              "outlinewidth": 0,
              "ticks": ""
             }
            },
            "marker": {
             "colorbar": {
              "outlinewidth": 0,
              "ticks": ""
             }
            },
            "type": "scatter3d"
           }
          ],
          "scattercarpet": [
           {
            "marker": {
             "colorbar": {
              "outlinewidth": 0,
              "ticks": ""
             }
            },
            "type": "scattercarpet"
           }
          ],
          "scattergeo": [
           {
            "marker": {
             "colorbar": {
              "outlinewidth": 0,
              "ticks": ""
             }
            },
            "type": "scattergeo"
           }
          ],
          "scattergl": [
           {
            "marker": {
             "line": {
              "color": "#283442"
             }
            },
            "type": "scattergl"
           }
          ],
          "scattermapbox": [
           {
            "marker": {
             "colorbar": {
              "outlinewidth": 0,
              "ticks": ""
             }
            },
            "type": "scattermapbox"
           }
          ],
          "scatterpolar": [
           {
            "marker": {
             "colorbar": {
              "outlinewidth": 0,
              "ticks": ""
             }
            },
            "type": "scatterpolar"
           }
          ],
          "scatterpolargl": [
           {
            "marker": {
             "colorbar": {
              "outlinewidth": 0,
              "ticks": ""
             }
            },
            "type": "scatterpolargl"
           }
          ],
          "scatterternary": [
           {
            "marker": {
             "colorbar": {
              "outlinewidth": 0,
              "ticks": ""
             }
            },
            "type": "scatterternary"
           }
          ],
          "surface": [
           {
            "colorbar": {
             "outlinewidth": 0,
             "ticks": ""
            },
            "colorscale": [
             [
              0,
              "#0d0887"
             ],
             [
              0.1111111111111111,
              "#46039f"
             ],
             [
              0.2222222222222222,
              "#7201a8"
             ],
             [
              0.3333333333333333,
              "#9c179e"
             ],
             [
              0.4444444444444444,
              "#bd3786"
             ],
             [
              0.5555555555555556,
              "#d8576b"
             ],
             [
              0.6666666666666666,
              "#ed7953"
             ],
             [
              0.7777777777777778,
              "#fb9f3a"
             ],
             [
              0.8888888888888888,
              "#fdca26"
             ],
             [
              1,
              "#f0f921"
             ]
            ],
            "type": "surface"
           }
          ],
          "table": [
           {
            "cells": {
             "fill": {
              "color": "#506784"
             },
             "line": {
              "color": "rgb(17,17,17)"
             }
            },
            "header": {
             "fill": {
              "color": "#2a3f5f"
             },
             "line": {
              "color": "rgb(17,17,17)"
             }
            },
            "type": "table"
           }
          ]
         },
         "layout": {
          "annotationdefaults": {
           "arrowcolor": "#f2f5fa",
           "arrowhead": 0,
           "arrowwidth": 1
          },
          "autotypenumbers": "strict",
          "coloraxis": {
           "colorbar": {
            "outlinewidth": 0,
            "ticks": ""
           }
          },
          "colorscale": {
           "diverging": [
            [
             0,
             "#8e0152"
            ],
            [
             0.1,
             "#c51b7d"
            ],
            [
             0.2,
             "#de77ae"
            ],
            [
             0.3,
             "#f1b6da"
            ],
            [
             0.4,
             "#fde0ef"
            ],
            [
             0.5,
             "#f7f7f7"
            ],
            [
             0.6,
             "#e6f5d0"
            ],
            [
             0.7,
             "#b8e186"
            ],
            [
             0.8,
             "#7fbc41"
            ],
            [
             0.9,
             "#4d9221"
            ],
            [
             1,
             "#276419"
            ]
           ],
           "sequential": [
            [
             0,
             "#0d0887"
            ],
            [
             0.1111111111111111,
             "#46039f"
            ],
            [
             0.2222222222222222,
             "#7201a8"
            ],
            [
             0.3333333333333333,
             "#9c179e"
            ],
            [
             0.4444444444444444,
             "#bd3786"
            ],
            [
             0.5555555555555556,
             "#d8576b"
            ],
            [
             0.6666666666666666,
             "#ed7953"
            ],
            [
             0.7777777777777778,
             "#fb9f3a"
            ],
            [
             0.8888888888888888,
             "#fdca26"
            ],
            [
             1,
             "#f0f921"
            ]
           ],
           "sequentialminus": [
            [
             0,
             "#0d0887"
            ],
            [
             0.1111111111111111,
             "#46039f"
            ],
            [
             0.2222222222222222,
             "#7201a8"
            ],
            [
             0.3333333333333333,
             "#9c179e"
            ],
            [
             0.4444444444444444,
             "#bd3786"
            ],
            [
             0.5555555555555556,
             "#d8576b"
            ],
            [
             0.6666666666666666,
             "#ed7953"
            ],
            [
             0.7777777777777778,
             "#fb9f3a"
            ],
            [
             0.8888888888888888,
             "#fdca26"
            ],
            [
             1,
             "#f0f921"
            ]
           ]
          },
          "colorway": [
           "#636efa",
           "#EF553B",
           "#00cc96",
           "#ab63fa",
           "#FFA15A",
           "#19d3f3",
           "#FF6692",
           "#B6E880",
           "#FF97FF",
           "#FECB52"
          ],
          "font": {
           "color": "#f2f5fa"
          },
          "geo": {
           "bgcolor": "rgb(17,17,17)",
           "lakecolor": "rgb(17,17,17)",
           "landcolor": "rgb(17,17,17)",
           "showlakes": true,
           "showland": true,
           "subunitcolor": "#506784"
          },
          "hoverlabel": {
           "align": "left"
          },
          "hovermode": "closest",
          "mapbox": {
           "style": "dark"
          },
          "paper_bgcolor": "rgb(17,17,17)",
          "plot_bgcolor": "rgb(17,17,17)",
          "polar": {
           "angularaxis": {
            "gridcolor": "#506784",
            "linecolor": "#506784",
            "ticks": ""
           },
           "bgcolor": "rgb(17,17,17)",
           "radialaxis": {
            "gridcolor": "#506784",
            "linecolor": "#506784",
            "ticks": ""
           }
          },
          "scene": {
           "xaxis": {
            "backgroundcolor": "rgb(17,17,17)",
            "gridcolor": "#506784",
            "gridwidth": 2,
            "linecolor": "#506784",
            "showbackground": true,
            "ticks": "",
            "zerolinecolor": "#C8D4E3"
           },
           "yaxis": {
            "backgroundcolor": "rgb(17,17,17)",
            "gridcolor": "#506784",
            "gridwidth": 2,
            "linecolor": "#506784",
            "showbackground": true,
            "ticks": "",
            "zerolinecolor": "#C8D4E3"
           },
           "zaxis": {
            "backgroundcolor": "rgb(17,17,17)",
            "gridcolor": "#506784",
            "gridwidth": 2,
            "linecolor": "#506784",
            "showbackground": true,
            "ticks": "",
            "zerolinecolor": "#C8D4E3"
           }
          },
          "shapedefaults": {
           "line": {
            "color": "#f2f5fa"
           }
          },
          "sliderdefaults": {
           "bgcolor": "#C8D4E3",
           "bordercolor": "rgb(17,17,17)",
           "borderwidth": 1,
           "tickwidth": 0
          },
          "ternary": {
           "aaxis": {
            "gridcolor": "#506784",
            "linecolor": "#506784",
            "ticks": ""
           },
           "baxis": {
            "gridcolor": "#506784",
            "linecolor": "#506784",
            "ticks": ""
           },
           "bgcolor": "rgb(17,17,17)",
           "caxis": {
            "gridcolor": "#506784",
            "linecolor": "#506784",
            "ticks": ""
           }
          },
          "title": {
           "x": 0.05
          },
          "updatemenudefaults": {
           "bgcolor": "#506784",
           "borderwidth": 0
          },
          "xaxis": {
           "automargin": true,
           "gridcolor": "#283442",
           "linecolor": "#506784",
           "ticks": "",
           "title": {
            "standoff": 15
           },
           "zerolinecolor": "#283442",
           "zerolinewidth": 2
          },
          "yaxis": {
           "automargin": true,
           "gridcolor": "#283442",
           "linecolor": "#506784",
           "ticks": "",
           "title": {
            "standoff": 15
           },
           "zerolinecolor": "#283442",
           "zerolinewidth": 2
          }
         }
        },
        "xaxis": {
         "anchor": "y",
         "domain": [
          0,
          1
         ],
         "title": {
          "text": "Vek"
         }
        },
        "yaxis": {
         "anchor": "x",
         "domain": [
          0,
          1
         ],
         "title": {
          "text": "age_percent"
         }
        }
       }
      }
     },
     "metadata": {},
     "output_type": "display_data"
    }
   ],
   "source": [
    "def compute_age_based(data, query, filter_result=None, feature=None):\n",
    "    \"\"\"\n",
    "    Parameters:\n",
    "        data (DataFrame): The input DataFrame containing the data to count.\n",
    "        query (str): The query string to filter the data.\n",
    "        filter_result (number, optional): The lower bound of the number of people to be\n",
    "            displayed on the plot. 0 does nothing\n",
    "        feature (str, optional): The column name to group by,\n",
    "            determines categories (optional).\n",
    "    \"\"\"\n",
    "    filtered = data.query(query)\n",
    "    if feature is None:\n",
    "        aggregated =     filtered.groupby(['Vek'])['abs.'].sum().reset_index(name='number')\n",
    "        total_category = filtered                 ['abs.'].sum()\n",
    "        total_unfiltered =   data.groupby(['Vek'])['abs.'].sum().rename('total_unfiltered')\n",
    "        total_age =      filtered.groupby(['Vek'])['abs.'].sum().rename('total_age') # Makes no sense, always 100%\n",
    "        aggregated = pd.merge(aggregated, total_unfiltered, on=['Vek'], how='left')\n",
    "        aggregated = pd.merge(aggregated, total_age,        on=['Vek'], how='left')\n",
    "        aggregated['category_percent'] = aggregated['number'] / total_category * 100\n",
    "        aggregated['filtered_percent'] = aggregated['number'] / aggregated['total_unfiltered'] * 100\n",
    "        aggregated['age_percent'] =      aggregated['number'] / aggregated['total_age'] * 100\n",
    "    else:\n",
    "        aggregated =     filtered.groupby(['Vek', feature])['abs.'].sum().reset_index(name='number')\n",
    "        total_category = filtered.groupby([       feature])['abs.'].sum().rename('total_category')\n",
    "        total_unfiltered =   data.groupby(['Vek', feature])['abs.'].sum().rename('total_unfiltered')\n",
    "        total_age =      filtered.groupby(['Vek'         ])['abs.'].sum().rename('total_age')\n",
    "        aggregated = pd.merge(aggregated, total_category,   on=[       feature], how='left')\n",
    "        aggregated = pd.merge(aggregated, total_unfiltered, on=['Vek', feature], how='left')\n",
    "        aggregated = pd.merge(aggregated, total_age,        on=['Vek',        ], how='left')\n",
    "        aggregated['category_percent'] = aggregated['number'] / aggregated['total_category'] * 100\n",
    "        aggregated['filtered_percent'] = aggregated['number'] / aggregated['total_unfiltered'] * 100\n",
    "        aggregated['age_percent'] =      aggregated['number'] / aggregated['total_age'] * 100\n",
    "    if filter_result is not None and filter_result > 0:\n",
    "        aggregated = aggregated[aggregated['number'] >= filter_result]\n",
    "    return aggregated\n",
    "\n",
    "feature = 'Pohlavie'\n",
    "data = compute_age_based(table_40, 'Vzdelanie == \"vysokoškolské vzdelanie - 1. stupeň (Bc.)\"', feature=feature)\n",
    "px.line(data, x='Vek', y='number', color=feature, hover_data=['number']).show()\n",
    "px.line(data, x='Vek', y='category_percent', color=feature, hover_data=['number']).show()\n",
    "px.line(data, x='Vek', y='filtered_percent', color=feature, hover_data=['number']).show()\n",
    "px.line(data, x='Vek', y='age_percent', color=feature, hover_data=['number']).show()"
   ]
  },
  {
   "cell_type": "markdown",
   "metadata": {},
   "source": [
    "## Interactive `dash` plot by age\n",
    "\n",
    "Data is filtered and than optionally grouped by feature  \n",
    "Display value can be choosed from\n",
    "- Number\n",
    "- Category percent - total is category\n",
    "- Filtered percent - filtered / not filtered\n",
    "- Age percent - total is all at the same age\n",
    "\n",
    "Filtering can be done by and features can be\n",
    "- Vzdelanie\n",
    "- Grouped edu\n",
    "- Názov kraja\n",
    "- Pohlavie\n",
    "- Súčasná ekonomická aktivita"
   ]
  },
  {
   "cell_type": "code",
   "execution_count": 14,
   "metadata": {},
   "outputs": [],
   "source": [
    "properties = [\n",
    "    'Súčasná ekonomická aktivita',\n",
    "    'Vzdelanie',\n",
    "    # 'Názov oblasti',\n",
    "    'Názov kraja',\n",
    "    'Pohlavie',\n",
    "    grouped_edu,\n",
    "]\n",
    "unique_data = [table_40[property].unique() for property in properties]\n",
    "# selected_options = [list(range(len(unique_data[i]))) for i in range(len(properties))]\n",
    "selected_options = [[0] for i in range(len(properties))]"
   ]
  },
  {
   "cell_type": "markdown",
   "metadata": {},
   "source": [
    "### Configuring\n",
    "  \n",
    "As filling data each time from scratch by hand can be frustrating it is possible to import and export filtering options. Only filtering options are ready to be im/exported. **Remember** to change the file name in the next cell.\n",
    "\n",
    "`%%script true` at the top of the code block means I do not want to accidentally run it. To run the cell just comment this line. **Do not forget** to uncomment it after.\n",
    "\n",
    "As for now `properties` structure has changed, so old configs won't work, but with new everything ones will work"
   ]
  },
  {
   "cell_type": "code",
   "execution_count": 15,
   "metadata": {},
   "outputs": [],
   "source": [
    "# selected_options_source = 'vyssie_vzdelanie.txt'\n",
    "selected_options_source = 'vyssie_vzdelanie.txt'"
   ]
  },
  {
   "cell_type": "code",
   "execution_count": 16,
   "metadata": {},
   "outputs": [],
   "source": [
    "%%script true\n",
    "# Export\n",
    "print(*[' '.join(map(str, s)) for s in selected_options], sep='\\n', file=open(selected_options_source, 'w'))"
   ]
  },
  {
   "cell_type": "code",
   "execution_count": 17,
   "metadata": {},
   "outputs": [],
   "source": [
    "%%script true\n",
    "# Import\n",
    "with open(selected_options_source, 'r') as file:\n",
    "    for i, line in enumerate(file.readlines()):\n",
    "        selected_options[i] = list(map(int, line.split()))\n",
    "display(selected_options)"
   ]
  },
  {
   "cell_type": "code",
   "execution_count": 18,
   "metadata": {},
   "outputs": [],
   "source": [
    "%%script true\n",
    "# quickly setting up options\n",
    "selected_options[0] = list(range(0))\n",
    "selected_options[3] = []\n",
    "selected_options[1] = list(range(8))\n",
    "selected_options[2] = [0, 1]"
   ]
  },
  {
   "cell_type": "code",
   "execution_count": 26,
   "metadata": {},
   "outputs": [
    {
     "data": {
      "text/html": [
       "\n",
       "        <iframe\n",
       "            width=\"100%\"\n",
       "            height=\"650\"\n",
       "            src=\"http://127.0.0.1:8053/\"\n",
       "            frameborder=\"0\"\n",
       "            allowfullscreen\n",
       "            \n",
       "        ></iframe>\n",
       "        "
      ],
      "text/plain": [
       "<IPython.lib.display.IFrame at 0x7fb9eb03f050>"
      ]
     },
     "metadata": {},
     "output_type": "display_data"
    }
   ],
   "source": [
    "# %%script true # Skip\n",
    "app = Dash(__name__)\n",
    "\n",
    "checklists = [\n",
    "    html.Div([\n",
    "        html.H4(f\"Select {properties[i]}\"),\n",
    "        dcc.Checklist(\n",
    "            id=f'selected_{i}',\n",
    "            options=[{'label': v, 'value': i} for i, v in enumerate(unique_data[i])],\n",
    "            value=selected_options[i]\n",
    "        )\n",
    "    ])\n",
    "    for i in range(len(properties))\n",
    "]\n",
    "\n",
    "app.layout = html.Div(\n",
    "    style=style,\n",
    "    children=[\n",
    "        html.Div(checklists[::2], style={'width': '50%', 'display': 'inline-block'}),\n",
    "        html.Div(checklists[1::2], style={'width': '50%', 'display': 'inline-block'}),\n",
    "        html.Br(),\n",
    "        html.Br(),\n",
    "        dcc.Graph(id='line-plot'),\n",
    "        html.Div([\n",
    "            html.Div([\n",
    "                html.H4('Enter title'),\n",
    "                dcc.Input(id='title', type='text'),\n",
    "                html.H4('Enter lower bound'),\n",
    "                dcc.Input(id='lower-bound', type='number'),\n",
    "                html.Br(),\n",
    "                dcc.Checklist(\n",
    "                    id='checkbox',\n",
    "                    options=[\n",
    "                        { 'label': 'Add markers', 'value': True }\n",
    "                    ],\n",
    "                    value=[]\n",
    "                )\n",
    "            ], style={'flex': 1, 'padding': 10}),\n",
    "            html.Div([\n",
    "                html.H4('Select feature'),\n",
    "                dcc.RadioItems(\n",
    "                    id='feature',\n",
    "                    options=[{ 'label': 'No', 'value': None }] + [{ 'label': v, 'value': i } for i, v, in enumerate(properties)],\n",
    "                    value=None,\n",
    "                ),\n",
    "            ], style={'flex': 1, 'padding': 10}),\n",
    "            html.Div([\n",
    "                html.H4('Select display value'),\n",
    "                dcc.RadioItems([\n",
    "                    { 'value': i, 'label': l }\n",
    "                    for i, l in enumerate(['Number', 'Category percent', 'Filtered percent', 'Age percent'])\n",
    "                ], 0, id='display-value'),\n",
    "            ], style={'flex': 1, 'padding': 10}),\n",
    "        ], style={'display': 'flex', 'flexDirection': 'row'})\n",
    "    ]\n",
    ")\n",
    "\n",
    "@app.callback(\n",
    "    Output('line-plot', 'figure'),\n",
    "    [\n",
    "        Input('feature', 'value'),\n",
    "        Input('lower-bound', 'value'),\n",
    "        Input('title', 'value'),\n",
    "        Input('display-value', 'value'),\n",
    "        Input('checkbox', 'value'),\n",
    "    ]\n",
    "     + [Input(f'selected_{i}', 'value') for i in range(len(properties))]\n",
    ")\n",
    "def update_figure(feature, lower_bound, title, display_value, checkbox, *arg):\n",
    "    selected_options[:] = list(arg)\n",
    "    query = ' and '.join([\n",
    "        '(' + ' or '.join([f\"`{properties[i]}` == '{unique_data[i][s]}'\" for s in selected]) + ')'\n",
    "        for i, selected in enumerate(arg)\n",
    "        if len(selected) > 0\n",
    "    ])\n",
    "    compute_values = ['number', 'category_percent', \n",
    "                      'filtered_percent', 'age_percent']\n",
    "    feature = properties[feature] if feature is not None else None\n",
    "    data = compute_age_based(table_40, query, filter_result=lower_bound, feature=feature)\n",
    "    y = compute_values[display_value]\n",
    "    figure = px.line(data, x='Vek', y=y, color=feature, hover_data=['number'])\n",
    "    if display_value == 0:\n",
    "        figure.update_layout(xaxis_title='Age', yaxis_title='Number of people', title=title)\n",
    "    else:\n",
    "        figure.update_layout(xaxis_title='Age', yaxis_title='Percent of people', title=title)\n",
    "    figure.update_traces(mode='lines' + ('+markers' if len(checkbox) > 0 else ''))\n",
    "\n",
    "    return figure\n",
    "\n",
    "app.run_server(mode='inline', port=8053)"
   ]
  }
 ],
 "metadata": {
  "kernelspec": {
   "display_name": ".venv",
   "language": "python",
   "name": "python3"
  },
  "language_info": {
   "codemirror_mode": {
    "name": "ipython",
    "version": 3
   },
   "file_extension": ".py",
   "mimetype": "text/x-python",
   "name": "python",
   "nbconvert_exporter": "python",
   "pygments_lexer": "ipython3",
   "version": "3.11.8"
  }
 },
 "nbformat": 4,
 "nbformat_minor": 2
}
