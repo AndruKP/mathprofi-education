{
 "cells": [
  {
   "cell_type": "markdown",
   "metadata": {},
   "source": [
    "## Percent count method artefacts\n",
    "### Ambiguity\n",
    "\n",
    "Let us make a plot of the *filter percent* of people with a degree grouped by\n",
    "*current economic activity*. And then we're facing this chatioc plot... \n",
    "  \n",
    "![ambiguity](../plot_png/ambiguity.png)  \n",
    "  \n",
    "As we can above below lines are 1. bouncing 2. ambigiuity - sometimes have the\n",
    "percent of 100 without a clear reasoning. To solve the first problem i would suggest **sliding window** as we basically working with time series, but there is also something else. If we'd look on the actual number\n",
    "that we are taking percent of (we can do that) we would see that most of them\n",
    "are about 1 - 3, which does impact both bouncing and getting unpredicted values. \n",
    "We don't really need to know that 1/1 of people that are\n",
    "a **recipient of capital gains** in the age of 76 do in fact have a degree. Then\n",
    "if we'd get rid of percents based on number of people less than 10, we'd see\n",
    "the following picture, which seems less cluttered and more obvious and if we will show less options of *current economic activity* the plot will be even more *visually pleasing*.  \n",
    "  \n",
    "![Fixed ambiguity](../plot_png/ambiguity_fixed.png)  \n",
    "\n",
    "**Random observation**: working retired people are up to 4 times likely to have a degree than retired people that don't work\n",
    "\n",
    "### Strange percent\n",
    "Let us make a plot of the *category percent* of people on parent or mother vacation (parental or maternity leave I guess). We will see some strange values that are seems to came out of nowhere, but I will again rid of percent with small amount of people  \n",
    "  \n",
    "![Strange percent](../plot_png/strange_percent.png)\n",
    "![Strange percent fixed](../plot_png/strange_percent_fixed.png)  \n",
    "  \n",
    "**Random observation**: People with 3rd degree education are most likely to take parental/maternity leave in the age of 35"
   ]
  }
 ],
 "metadata": {
  "language_info": {
   "name": "python"
  }
 },
 "nbformat": 4,
 "nbformat_minor": 2
}
