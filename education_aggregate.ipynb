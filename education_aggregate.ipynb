{
 "cells": [
  {
   "cell_type": "markdown",
   "id": "5dac3013379a3fda",
   "metadata": {
    "id": "5dac3013379a3fda"
   },
   "source": [
    "# Education in Slovakia"
   ]
  },
  {
   "cell_type": "markdown",
   "id": "db5d41b1b5317160",
   "metadata": {
    "id": "db5d41b1b5317160"
   },
   "source": [
    "## Import packages"
   ]
  },
  {
   "cell_type": "code",
   "id": "VEJ-NiPnlMyN",
   "metadata": {
    "id": "VEJ-NiPnlMyN"
   },
   "source": "#%cd mathprofi-education",
   "outputs": [],
   "execution_count": null
  },
  {
   "cell_type": "code",
   "id": "fad372db806002f2",
   "metadata": {
    "id": "fad372db806002f2"
   },
   "source": [
    "import numpy as np\n",
    "\n",
    "import pandas as pd\n",
    "import geopandas as gpd\n",
    "\n",
    "import matplotlib.pyplot as plt\n",
    "import matplotlib.patches as mpatches\n",
    "import seaborn as sns\n",
    "from dash import Dash, dcc, html, Input, Output, State, ALL\n",
    "from dash.exceptions import PreventUpdate\n",
    "import plotly.express as px\n",
    "import plotly.graph_objects as go\n",
    "import plotly.io as pio\n",
    "\n",
    "from IPython.display import display\n",
    "\n",
    "import preprocessing\n",
    "\n",
    "import warnings\n",
    "# TODO: uncomment before publishing\n",
    "#warnings.filterwarnings('ignore')"
   ],
   "outputs": [],
   "execution_count": null
  },
  {
   "cell_type": "markdown",
   "metadata": {},
   "source": "## Styling",
   "id": "b96652191ce2f83a"
  },
  {
   "metadata": {},
   "cell_type": "markdown",
   "source": "To change plotly theme to dark, just change the `PLOTLY_DARK_THEME` constant to `True`.",
   "id": "84853f6c0d093223"
  },
  {
   "cell_type": "code",
   "metadata": {},
   "source": [
    "PLOTLY_DARK_THEME = False\n",
    "\n",
    "if PLOTLY_DARK_THEME:\n",
    "    style = {\n",
    "        \"background-color\": \"#1b1b1b\",  # rgb(27, 27, 27)\n",
    "        \"color\": \"white\",  # font\n",
    "    }\n",
    "    pio.templates.default = \"plotly_dark\"\n",
    "else:\n",
    "    style = {}\n",
    "    pio.templates.default = \"plotly\""
   ],
   "id": "a9fd8ea9fb9638a0",
   "outputs": [],
   "execution_count": null
  },
  {
   "cell_type": "markdown",
   "id": "26225773d40d854",
   "metadata": {
    "id": "26225773d40d854"
   },
   "source": [
    "## Import data"
   ]
  },
  {
   "cell_type": "code",
   "id": "3ac1ae88bd93be4",
   "metadata": {
    "id": "3ac1ae88bd93be4"
   },
   "source": [
    "#TODO: change links before publishing\n",
    "#data_root = 'https://raw.githubusercontent.com/AndruKP/mathprofi-education/dev/data'\n",
    "data_root = './data'\n",
    "url_010_SR = data_root + '/RV_O_010_R_SR_SK.CSV'\n",
    "url_040_SR = data_root + '/RV_O_040_R_SR_SK.CSV'\n",
    "url_040_OK = data_root + '/RV_O_040_L_OK_SK.CSV'\n",
    "url_047_SR = data_root + '/RV_O_047_R_SR_SK.CSV'\n",
    "url_047_OK = data_root + '/RV_O_047_L_OK_SK.CSV'\n",
    "url_067_SR = data_root + '/RV_O_067_R_SR_SK.CSV'\n",
    "url_067_KR = data_root + '/RV_O_067_R_KR_SK.CSV'\n",
    "url_067_OK = data_root + '/RV_O_067_L_OK_SK.CSV'\n",
    "\n",
    "districts_url = data_root + '/districts.json'\n",
    "districts_geojson_url = data_root + '/districts.geojson'"
   ],
   "outputs": [],
   "execution_count": null
  },
  {
   "cell_type": "code",
   "id": "f9bdace03ee78452",
   "metadata": {
    "id": "f9bdace03ee78452"
   },
   "source": [
    "table_010_SR = pd.read_csv(url_010_SR, sep=';')\n",
    "table_040_SR = pd.read_csv(url_040_SR, sep=';')\n",
    "table_040_OK = pd.read_csv(url_040_OK, sep=';')\n",
    "table_047_SR = pd.read_csv(url_047_SR, sep=';')\n",
    "table_047_OK = pd.read_csv(url_047_OK, sep=';')\n",
    "table_067_SR = pd.read_csv(url_067_SR, sep=';')\n",
    "table_067_KR = pd.read_csv(url_067_KR, sep=';')\n",
    "table_067_OK = pd.read_csv(url_067_OK, sep=';')\n",
    "\n",
    "districts_table = gpd.read_file(districts_url)\n",
    "districts_geojson = gpd.read_file(districts_geojson_url, crs=\"EPSG:4326\")\n",
    "\n",
    "display(table_010_SR.head())\n",
    "display(table_040_SR.head())\n",
    "display(table_040_OK.head())\n",
    "display(table_047_SR.head())\n",
    "display(table_047_OK.head())\n",
    "display(table_067_SR.head())\n",
    "display(table_067_KR.head())\n",
    "display(table_067_OK.head())\n",
    "\n",
    "display(districts_table.head())\n",
    "display(districts_geojson.head())"
   ],
   "outputs": [],
   "execution_count": null
  },
  {
   "cell_type": "markdown",
   "id": "93b2a78cc418976c",
   "metadata": {
    "id": "93b2a78cc418976c"
   },
   "source": [
    "## Preprocess data"
   ]
  },
  {
   "metadata": {},
   "cell_type": "markdown",
   "source": "To prepare geographic data, let's set the index, merge, and rename columns:",
   "id": "a0fdcb877cb5ab6c"
  },
  {
   "metadata": {},
   "cell_type": "code",
   "source": [
    "districts_geojson_indexed = districts_geojson.set_index(\"IDN3\")\n",
    "districts_indexed = districts_table.set_index(\"IDN3\")\n",
    "districts_indexed[[\"geometry\", \"Area\", \"AreaHA\"]] = districts_geojson_indexed[\n",
    "    [\"geometry\", \"Shape_Area\", \"VYMERA_ha\"]\n",
    "]\n",
    "geo_frame = districts_indexed\n",
    "geo_frame['NUTS1_CODE'] = 'SK0'\n",
    "geo_frame['NUTS1'] = 'Slovenská republika'"
   ],
   "id": "b860ce49a12178aa",
   "outputs": [],
   "execution_count": null
  },
  {
   "metadata": {},
   "cell_type": "markdown",
   "source": "To preprocess data (rename columns, group education by level, etc.), let's use the defined ```preprocessing``` function ```preprocess``` (do not confuse it with the existing module ```preprocessing``` for text preprocessing):",
   "id": "a7fb87400665f197"
  },
  {
   "cell_type": "code",
   "id": "937be134363e0443",
   "metadata": {
    "id": "937be134363e0443"
   },
   "source": [
    "preprocess_tables = [table_010_SR, table_040_OK, table_040_SR, table_047_OK,\n",
    "                     table_047_SR, table_067_OK, table_067_KR, table_067_SR]\n",
    "\n",
    "for table in preprocess_tables:\n",
    "    preprocessing.preprocess(table)\n",
    "\n",
    "display('table_010_SR:')\n",
    "display(table_010_SR.head())\n",
    "display('table_040_SR:')\n",
    "display(table_040_SR.head())\n",
    "display('table_040_OK:')\n",
    "display(table_040_OK.head())\n",
    "display('table_047_SR:')\n",
    "display(table_047_SR.head())\n",
    "display('table_047_OK:')\n",
    "display(table_047_OK.head())\n",
    "display('table_067_SR:')\n",
    "display(table_067_SR.head())\n",
    "display('table_067_KR:')\n",
    "display(table_067_KR.head())"
   ],
   "outputs": [],
   "execution_count": null
  },
  {
   "cell_type": "markdown",
   "id": "78089101c1d9fc60",
   "metadata": {
    "id": "78089101c1d9fc60"
   },
   "source": [
    "## Basic demographic analysis"
   ]
  },
  {
   "cell_type": "markdown",
   "id": "a0b8a55b6a9c8129",
   "metadata": {
    "id": "a0b8a55b6a9c8129"
   },
   "source": [
    "### Population pyramid"
   ]
  },
  {
   "metadata": {},
   "cell_type": "markdown",
   "source": "To create population pyramid, data should be grouped by age and sex:",
   "id": "3a70febb4fb8a616"
  },
  {
   "cell_type": "code",
   "id": "66b1b582ee54c5f1",
   "metadata": {
    "id": "66b1b582ee54c5f1"
   },
   "source": [
    "grouped_by_sex_age = table_040_SR.groupby(['sex', 'age'])['count'].sum()\n",
    "women_counts = grouped_by_sex_age.loc['female']\n",
    "men_counts = grouped_by_sex_age.loc['male']\n",
    "\n",
    "min_counts = np.minimum(men_counts, women_counts)"
   ],
   "outputs": [],
   "execution_count": null
  },
  {
   "metadata": {},
   "cell_type": "markdown",
   "source": "To create a graph, where male and female bars are in opposite directions, negative values for men are used. Also, using  ```matplotlib.mpatches``` helps to create the legend.",
   "id": "4eec48d62c3b75f6"
  },
  {
   "cell_type": "code",
   "id": "87a9235f281f28c",
   "metadata": {
    "id": "87a9235f281f28c"
   },
   "source": [
    "figure, axes = plt.subplots(figsize=(10, 10))\n",
    "colors_ = sns.color_palette(\"Paired\")\n",
    "\n",
    "# Surplus\n",
    "women_surplus_graph = sns.histplot(y=women_counts.index,\n",
    "                                   weights=women_counts,\n",
    "                                   binwidth=1,\n",
    "                                   color=colors_[5],\n",
    "                                   ax=axes,\n",
    "                                   label='women_s')\n",
    "\n",
    "men_surplus_graph = sns.histplot(y=men_counts.index,\n",
    "                                 weights=-1 * men_counts,\n",
    "                                 binwidth=1,\n",
    "                                 color=colors_[1],\n",
    "                                 ax=axes,\n",
    "                                 label='men_s')\n",
    "\n",
    "# Population\n",
    "women_pop_graph = sns.histplot(y=min_counts.index,\n",
    "                               weights=min_counts,\n",
    "                               binwidth=1,\n",
    "                               color=colors_[4],\n",
    "                               ax=axes,\n",
    "                               label='women')\n",
    "\n",
    "men_pop_graph = sns.histplot(y=min_counts.index,\n",
    "                             weights=-1 * min_counts,\n",
    "                             binwidth=1,\n",
    "                             color=colors_[0],\n",
    "                             ax=axes,\n",
    "                             label='men')\n",
    "\n",
    "plt.title('Population pyramid')\n",
    "plt.ylabel('Age')\n",
    "plt.xticks([-40000, -20000, 0, 20000, 40000],\n",
    "           labels=['40000', '20000', '0', '20000', '40000'])\n",
    "\n",
    "men_pop_patch = mpatches.Patch(color=colors_[0], label='Men population')\n",
    "men_surplus_patch = mpatches.Patch(color=colors_[1], label='Men surplus')\n",
    "women_pop_patch = mpatches.Patch(color=colors_[4], label='Women population')\n",
    "women_surplus_patch = mpatches.Patch(color=colors_[5], label='Women surplus')\n",
    "\n",
    "axes.legend(handles=[women_surplus_patch, women_pop_patch, men_surplus_patch, men_pop_patch])\n",
    "\n",
    "pass"
   ],
   "outputs": [],
   "execution_count": null
  },
  {
   "cell_type": "markdown",
   "id": "b544505deb0d7f63",
   "metadata": {
    "id": "b544505deb0d7f63"
   },
   "source": [
    "## Education analysis"
   ]
  },
  {
   "cell_type": "markdown",
   "id": "7eae0addc100a7d1",
   "metadata": {
    "id": "7eae0addc100a7d1"
   },
   "source": [
    "### Education specialization"
   ]
  },
  {
   "metadata": {},
   "cell_type": "markdown",
   "source": "To see how many people have some level of education, the data should be grouped by education category:",
   "id": "1b5430dedb4e6d45"
  },
  {
   "cell_type": "code",
   "id": "da4d6da4",
   "metadata": {
    "id": "da4d6da4"
   },
   "source": [
    "education_series = (table_010_SR\n",
    "                    .query('`education_category` != \"unspecified\"')\n",
    "                    .groupby('education_category')['count']\n",
    "                    .sum())\n",
    "\n",
    "counts_df = pd.DataFrame({'education_category': education_series.index,\n",
    "                          'count': education_series.values})"
   ],
   "outputs": [],
   "execution_count": null
  },
  {
   "cell_type": "code",
   "id": "ff52561d474b8ac7",
   "metadata": {
    "id": "ff52561d474b8ac7"
   },
   "source": [
    "figure, axes = plt.subplots(figsize=(10, 10))\n",
    "sns.barplot(data=counts_df,\n",
    "            x='education_category',\n",
    "            y='count',\n",
    "            color=sns.color_palette(as_cmap=True)[0],\n",
    "            order=['primary', 'secondary', 'vocational', 'higher', 'without'],\n",
    "            ax=axes)\n",
    "\n",
    "axes.set_xlabel('Achieved education')\n",
    "axes.set_ylabel('Count')\n",
    "plt.ylim(0)\n",
    "\n",
    "plt.title('The number of people by achieved education')\n",
    "plt.show()"
   ],
   "outputs": [],
   "execution_count": null
  },
  {
   "cell_type": "markdown",
   "id": "fdba788c2dc6f1f5",
   "metadata": {
    "id": "fdba788c2dc6f1f5"
   },
   "source": [
    "### Geographic specialization of education"
   ]
  },
  {
   "metadata": {},
   "cell_type": "markdown",
   "source": [
    "To create graphs below, data should be specifically grouped. The first function computes groups in the next way:\n",
    "\n",
    "1. Queries the dataset and filters out some data (`filter_query`)\n",
    "2. Queries the dataset and chooses data for the next calculation (`chosen_query`)\n",
    "3. Groups dataset by `groupby` column\n",
    "4. Calculates number of people and 2 types of percent:\n",
    "    * `percent` means $\\frac{\\text{number of selected people with specific entry in `groupby` column}}{\\text{number of all people with specific entry in `groupby` column}} \\cdot 100\\%$\n",
    "    * `number_percent` means $\\frac{\\text{number of  selected people with specific entry in `groupby` column}}{\\text{number of all selected people}} \\cdot 100\\%$\n",
    "\n",
    "Let's note, that `number_percent` is used only in treemap graph in the last part of notebook.\n",
    "\n",
    "To better understand the difference between these methods, let's ilustrate with one example. Let `groupby=\"LAU1_CODE\"`, `chosen_query=\"education_category.isin(['higher'])\"`. Then values for `LAU1_CODE = \"SK01\"` equal:\n",
    "$$\\text{percent} = \\frac{\\text{number of people with higher education in SK01}}{\\text{number of all people in SK01}} \\cdot 100\\%$$\n",
    "and\n",
    "$$\\text{number_percent} = \\frac{\\text{number of people with higher education in SK01}}{\\text{number of all people with higher education}} \\cdot 100\\%$$"
   ],
   "id": "9147d1b26a721c0"
  },
  {
   "metadata": {},
   "cell_type": "markdown",
   "source": "Also, we can define function, that can draw all graphs with respect to given `groupby` and queries. For geographic columns like district, it creates choropleth map. In other cases, it draws a bar graph when the value is percent, and treemap otherwise.",
   "id": "d231819e9c840bb4"
  },
  {
   "cell_type": "code",
   "id": "2d161d5611dcd793",
   "metadata": {
    "id": "2d161d5611dcd793"
   },
   "source": [
    "# dash_geo functions\n",
    "def compute_groups(data, groupby, chosen_query=\"\", filter_query=\"\"):\n",
    "    if filter_query != \"\":\n",
    "        data = data.query(filter_query)\n",
    "    if chosen_query != \"\":\n",
    "        selected = data.query(chosen_query)\n",
    "    else:\n",
    "        selected = data\n",
    "    aggregated = (selected\n",
    "                  .groupby(groupby, observed=True)\n",
    "                  [\"count\"]\n",
    "                  .sum()\n",
    "                  .rename(\"number\")\n",
    "                  .to_frame()\n",
    "                  )\n",
    "\n",
    "    aggregated[\"total\"] = data.groupby(groupby, observed=True)[\"count\"].sum()\n",
    "\n",
    "    aggregated[\"number_percent\"] = aggregated[\"number\"] / selected[\"count\"].sum() * 100\n",
    "    aggregated[\"percent\"] = aggregated[\"number\"] / aggregated[\"total\"] * 100\n",
    "    aggregated = aggregated.reset_index()\n",
    "    return aggregated\n",
    "\n",
    "\n",
    "def plot_groups(data, groupby, value, title=\"\"):\n",
    "    figure = None\n",
    "    if groupby not in [\"NUTS1_CODE\", \"NUTS2_CODE\", \"NUTS3_CODE\", \"LAU1_CODE\", \"LAU2_CODE\"]:\n",
    "        data = data.sort_values(by=value, ascending=False)\n",
    "        if value == \"percent\":\n",
    "            figure = px.bar(\n",
    "                data,\n",
    "                y=groupby,\n",
    "                color=groupby,\n",
    "                x=\"percent\",\n",
    "                orientation=\"h\",\n",
    "                hover_data=[\"number\", \"percent\"],\n",
    "            )\n",
    "        elif value == \"number\":\n",
    "            figure = px.treemap(\n",
    "                data,\n",
    "                path=[px.Constant(\"all\"), groupby],\n",
    "                values=\"number\",\n",
    "                hover_data=[\"number\", \"number_percent\"],\n",
    "            )\n",
    "    else:\n",
    "        merged = geo_frame.merge(data, on=groupby)\n",
    "        figure = px.choropleth_mapbox(\n",
    "            data_frame=merged,\n",
    "            geojson=merged.geometry,\n",
    "            locations=merged.index,\n",
    "            color=value,\n",
    "            mapbox_style=\"carto-positron\",\n",
    "            center={\"lat\": 48.6737532, \"lon\": 19.696058},\n",
    "            zoom=6,\n",
    "            opacity=0.5,\n",
    "            hover_name=\"LAU1\",\n",
    "            hover_data={\"number\":True, \"percent\":':.2f', \"AreaHA\":True}\n",
    "        )\n",
    "        \n",
    "    figure.update_layout(title=title)\n",
    "    return figure"
   ],
   "outputs": [],
   "execution_count": null
  },
  {
   "cell_type": "markdown",
   "id": "4946f1d890380044",
   "metadata": {
    "id": "4946f1d890380044"
   },
   "source": [
    "#### Where are people in Slovakia?'"
   ]
  },
  {
   "cell_type": "code",
   "id": "91af11b48b1f2619",
   "metadata": {
    "id": "91af11b48b1f2619"
   },
   "source": [
    "data = compute_groups(table_040_OK, groupby=\"LAU1_CODE\")\n",
    "figure = plot_groups(data, groupby=\"LAU1_CODE\", value=\"number\")\n",
    "figure.update_layout(coloraxis_colorbar=dict(title='Number of people'))\n",
    "figure.show()"
   ],
   "outputs": [],
   "execution_count": null
  },
  {
   "cell_type": "markdown",
   "id": "e671f560df993c26",
   "metadata": {
    "id": "e671f560df993c26"
   },
   "source": [
    "That will help us to understand the following data\n",
    "#### Where is the largest number of people with a degree?"
   ]
  },
  {
   "metadata": {},
   "cell_type": "code",
   "source": [
    "data = compute_groups(table_040_OK,\n",
    "                      groupby=\"LAU1_CODE\",\n",
    "                      chosen_query=\"`education_category`.isin(['higher'])\")"
   ],
   "id": "ae67550f2f7037c2",
   "outputs": [],
   "execution_count": null
  },
  {
   "cell_type": "code",
   "id": "bc2fd1f1fb570e84",
   "metadata": {
    "id": "bc2fd1f1fb570e84"
   },
   "source": [
    "figure = plot_groups(data,\n",
    "                     groupby=\"LAU1_CODE\",\n",
    "                     value=\"number\",\n",
    "                     title=\"Number of people achieved higher education\")\n",
    "figure.show()"
   ],
   "outputs": [],
   "execution_count": null
  },
  {
   "cell_type": "markdown",
   "id": "6266cd209605290b",
   "metadata": {
    "id": "6266cd209605290b"
   },
   "source": [
    "So after all it is just about the big cities  \n",
    "#### Where is the largest *percent* of people with a degree?"
   ]
  },
  {
   "cell_type": "code",
   "id": "5b6f5250b3d16f1a",
   "metadata": {
    "id": "5b6f5250b3d16f1a"
   },
   "source": [
    "figure = plot_groups(data,\n",
    "                     groupby=\"LAU1_CODE\",\n",
    "                     value=\"percent\",\n",
    "                     title=\"Percent of people achieved higher education\")\n",
    "figure.show()"
   ],
   "outputs": [],
   "execution_count": null
  },
  {
   "cell_type": "markdown",
   "id": "d0c4f26ba8cac882",
   "metadata": {
    "id": "d0c4f26ba8cac882"
   },
   "source": [
    "Now if we were to be aliens we would be assured it is more to Bratislava and Košice than we thought before\n",
    "#### Where is the largest number of students?"
   ]
  },
  {
   "metadata": {},
   "cell_type": "code",
   "source": [
    "data = compute_groups(table_040_OK,\n",
    "                      groupby='LAU1_CODE',\n",
    "                      chosen_query=\"`current_economic_activity`.isin(['študent vysokej školy'])\")"
   ],
   "id": "15a67238f52a83a2",
   "outputs": [],
   "execution_count": null
  },
  {
   "cell_type": "code",
   "id": "a5c61810bf1cc24a",
   "metadata": {
    "id": "a5c61810bf1cc24a"
   },
   "source": [
    "figure = plot_groups(data, groupby='LAU1_CODE', value='number')\n",
    "figure.show()"
   ],
   "outputs": [],
   "execution_count": null
  },
  {
   "cell_type": "markdown",
   "id": "ffb1964c71ac129a",
   "metadata": {
    "id": "ffb1964c71ac129a"
   },
   "source": [
    "Same story here\n",
    "#### Percent?"
   ]
  },
  {
   "cell_type": "code",
   "id": "4e058eb0a45ac4fe",
   "metadata": {
    "id": "4e058eb0a45ac4fe"
   },
   "source": [
    "figure = plot_groups(data, groupby='LAU1_CODE', value='percent')\n",
    "figure.show()"
   ],
   "outputs": [],
   "execution_count": null
  },
  {
   "cell_type": "markdown",
   "id": "5a42c694c2522023",
   "metadata": {
    "id": "5a42c694c2522023"
   },
   "source": [
    "Interesting\n",
    "#### Where is the largest percent of people continuing their education among people after 22"
   ]
  },
  {
   "metadata": {},
   "cell_type": "code",
   "source": [
    "data = compute_groups(table_040_OK,\n",
    "                      groupby='LAU1_CODE',\n",
    "                      chosen_query=\"`education_category`.isin(['higher']) and `current_economic_activity`.isin(['študent vysokej školy'])\",\n",
    "                      filter_query='22 <= `age` < 91')"
   ],
   "id": "cd1a3046f0f37217",
   "outputs": [],
   "execution_count": null
  },
  {
   "cell_type": "code",
   "id": "1bbdcf904e58826f",
   "metadata": {
    "id": "1bbdcf904e58826f"
   },
   "source": [
    "figure = plot_groups(data, groupby='LAU1_CODE', value='percent')\n",
    "figure.show()"
   ],
   "outputs": [],
   "execution_count": null
  },
  {
   "metadata": {},
   "cell_type": "markdown",
   "source": "So, where does young (from 18 years to 25 years) people live?",
   "id": "2f78c582fa748dda"
  },
  {
   "metadata": {},
   "cell_type": "code",
   "source": [
    "data = compute_groups(table_040_OK,\n",
    "                      groupby='LAU1_CODE',\n",
    "                      chosen_query=\"18<=age<=25\"\n",
    "                      )"
   ],
   "id": "d93e98d045521af8",
   "outputs": [],
   "execution_count": null
  },
  {
   "metadata": {},
   "cell_type": "code",
   "source": [
    "figure = plot_groups(data, groupby='LAU1_CODE', value='percent')\n",
    "figure.show()"
   ],
   "id": "fad465c15ab2ec18",
   "outputs": [],
   "execution_count": null
  },
  {
   "cell_type": "markdown",
   "id": "ad84983fa8b48ab2",
   "metadata": {
    "id": "ad84983fa8b48ab2"
   },
   "source": [
    "#### Where degree means less?  \n",
    "Where your diploma with some chance won't give you a desired *type* of job?  \n",
    "It depends on what you want. If you thinking first three ISCO major groups then here you are"
   ]
  },
  {
   "metadata": {},
   "cell_type": "code",
   "source": [
    "data = compute_groups(table_047_OK,\n",
    "                      groupby='LAU1_CODE',\n",
    "                      chosen_query=\"`education_category`.isin(['higher']) and `ISCO_group`.isin(['Craft and related trades workers', 'Elementary occupations', 'Plant and machine operators and assemblers', 'Skilled agricultural and fishery workers', 'Armed forces', 'Service workers and shop and market sales workers', 'Clerks'])\",\n",
    "                      filter_query='')"
   ],
   "id": "aa1d030068e550d9",
   "outputs": [],
   "execution_count": null
  },
  {
   "cell_type": "code",
   "id": "42e2a6c444a627c3",
   "metadata": {
    "id": "42e2a6c444a627c3"
   },
   "source": [
    "figure = plot_groups(data,\n",
    "                     groupby='LAU1_CODE',\n",
    "                     value='percent',\n",
    "                     title='Percent of people with higher education working on a simple job')\n",
    "figure.show()"
   ],
   "outputs": [],
   "execution_count": null
  },
  {
   "cell_type": "markdown",
   "id": "84ca479e89edfa58",
   "metadata": {
    "id": "84ca479e89edfa58"
   },
   "source": [
    "If working as a clerk suits you"
   ]
  },
  {
   "metadata": {},
   "cell_type": "code",
   "source": [
    "data = compute_groups(table_047_OK,\n",
    "                      groupby='LAU1_CODE',\n",
    "                      chosen_query=\"`education_category`.isin(['higher']) and `ISCO_group`.isin(['Craft and related trades workers', 'Elementary occupations', 'Plant and machine operators and assemblers', 'Skilled agricultural and fishery workers', 'Armed forces', 'Service workers and shop and market sales workers'])\",\n",
    "                      filter_query='')"
   ],
   "id": "218d6bd6dc7cae11",
   "outputs": [],
   "execution_count": null
  },
  {
   "cell_type": "code",
   "id": "7880c6d693da6038",
   "metadata": {
    "id": "7880c6d693da6038"
   },
   "source": [
    "figure = plot_groups(data,\n",
    "                     groupby='LAU1_CODE',\n",
    "                     value='percent',\n",
    "                     title='Percent of people with higher education working on a simple job')\n",
    "figure.show()"
   ],
   "outputs": [],
   "execution_count": null
  },
  {
   "cell_type": "markdown",
   "id": "44f731b34cb2bd9f",
   "metadata": {
    "id": "44f731b34cb2bd9f"
   },
   "source": [
    "If job as a service worker or shop and market sales worker works for you as well"
   ]
  },
  {
   "metadata": {},
   "cell_type": "code",
   "source": [
    "data = compute_groups(table_047_OK,\n",
    "                      groupby='LAU1_CODE',\n",
    "                      chosen_query=\"`education_category`.isin(['higher']) and `ISCO_group`.isin(['Craft and related trades workers', 'Elementary occupations', 'Plant and machine operators and assemblers', 'Skilled agricultural and fishery workers', 'Armed forces'])\",\n",
    "                      filter_query='')"
   ],
   "id": "ddf571cff790c604",
   "outputs": [],
   "execution_count": null
  },
  {
   "cell_type": "code",
   "id": "413fc5bc08cb50f5",
   "metadata": {
    "id": "413fc5bc08cb50f5"
   },
   "source": [
    "figure = plot_groups(data,\n",
    "                     groupby='LAU1_CODE',\n",
    "                     value='percent',\n",
    "                     title='Percent of people with higher education working on a simple job')\n",
    "figure.show()"
   ],
   "outputs": [],
   "execution_count": null
  },
  {
   "cell_type": "markdown",
   "id": "f31081dfd360c889",
   "metadata": {
    "id": "f31081dfd360c889"
   },
   "source": [
    "At this point it is not so bad. Let's look at something different.  \n",
    "#### What percent of people with higher education works in occupation group, in which 60% of workers do not have higher education?"
   ]
  },
  {
   "metadata": {},
   "cell_type": "code",
   "source": [
    "grouped = (table_047_SR\n",
    "           .groupby([\"ISCO_group\", \"education_category\"])[\"count\"]\n",
    "           .sum()\n",
    "           .reset_index()\n",
    "           )\n",
    "\n",
    "grouped[\"percent\"] = (grouped\n",
    "                      .groupby(\"ISCO_group\")[\"count\"]\n",
    "                      .transform(lambda x: x / x.sum())\n",
    "                      )"
   ],
   "id": "67f37126c1896e26",
   "outputs": [],
   "execution_count": null
  },
  {
   "cell_type": "code",
   "id": "52d8c5c7",
   "metadata": {},
   "source": [
    "figure = px.bar(\n",
    "    grouped,\n",
    "    x=\"percent\",\n",
    "    y=\"ISCO_group\",\n",
    "    color=\"education_category\",\n",
    "    orientation=\"h\",\n",
    "    barmode=\"relative\",\n",
    "    title=\"Distrubution of ISCO groups by education\",\n",
    "    labels={\"education_category\": \"Education\", \"ISCO_group\": \"\"},\n",
    "    category_orders={\n",
    "        \"ISCO_group\": [\n",
    "            \"Legislators, senior officials and managers\",\n",
    "            \"Professionals\",\n",
    "            \"Technicians and associate professionals\",\n",
    "            \"Clerks\",\n",
    "            \"Service workers and shop and market sales workers\",\n",
    "            \"Skilled agricultural and fishery workers\",\n",
    "            \"Craft and related trades workers\",\n",
    "            \"Plant and machine operators and assemblers\",\n",
    "            \"Elementary occupations\",\n",
    "            \"Armed forces\",\n",
    "            \"unspecified\"\n",
    "        ],\n",
    "        \"education_category\": [\n",
    "            \"higher\",\n",
    "            \"vocational\",\n",
    "            \"secondary\",\n",
    "            \"primary\",\n",
    "            \"without\",\n",
    "            \"unspecified\",\n",
    "        ],\n",
    "    },\n",
    ")\n",
    "figure.update_layout(\n",
    "    autosize=False,\n",
    "    width=1400,  # Adjust the width as needed\n",
    "    height=600,  # Adjust the height as needed\n",
    "    font=dict(size=18),  # Adjust the font size of the text\n",
    ")\n",
    "figure.update_xaxes(range=[0, 1])\n",
    "# figure.update_traces(marker=dict(line=dict(width=4)))\n",
    "figure.update_xaxes(tickformat=',.1%')\n",
    "figure"
   ],
   "outputs": [],
   "execution_count": null
  },
  {
   "metadata": {},
   "cell_type": "code",
   "source": [
    "data = compute_groups(table_047_OK,\n",
    "                      groupby='LAU1_CODE',\n",
    "                      chosen_query=\"`ISCO_group`.isin(['Armed forces', 'Clerks', 'Craft and related trades workers', 'Elementary occupations', 'Plant and machine operators and assemblers', 'Service workers and shop and market sales workers', 'Skilled agricultural and fishery workers', 'Technicians and associate professionals'])\",\n",
    "                      filter_query=\"`education_category`.isin(['higher'])\")"
   ],
   "id": "ec8ebf941e3e1d57",
   "outputs": [],
   "execution_count": null
  },
  {
   "cell_type": "code",
   "id": "70ba3459b8b1e5be",
   "metadata": {
    "id": "70ba3459b8b1e5be"
   },
   "source": [
    "figure = plot_groups(data,\n",
    "                     groupby='LAU1_CODE',\n",
    "                     value='percent',\n",
    "                     title='Percent of people working on simple job among people with a degree'\n",
    "                     )\n",
    "figure.show()"
   ],
   "outputs": [],
   "execution_count": null
  },
  {
   "cell_type": "markdown",
   "id": "519ef3027dcac0c5",
   "metadata": {
    "id": "519ef3027dcac0c5"
   },
   "source": [
    "### Gender specialization of education"
   ]
  },
  {
   "cell_type": "markdown",
   "id": "1722de847089b0e9",
   "metadata": {
    "id": "1722de847089b0e9"
   },
   "source": [
    "#### Gender distribution of education by gender"
   ]
  },
  {
   "metadata": {},
   "cell_type": "markdown",
   "source": "To see, how education is distributed over sex, let's group data by sex and education, and then create a barplot.",
   "id": "c171d6ce49fde4a0"
  },
  {
   "cell_type": "code",
   "id": "ce2e342016e5dd49",
   "metadata": {
    "id": "ce2e342016e5dd49"
   },
   "source": [
    "education_by_sex = (table_040_SR\n",
    "                    .groupby(['sex', 'education_category'])['count']\n",
    "                    .sum()\n",
    "                    .reset_index()\n",
    "                    )\n",
    "\n",
    "education_by_sex.sort_values(by='count', ascending=False, inplace=True)"
   ],
   "outputs": [],
   "execution_count": null
  },
  {
   "cell_type": "code",
   "id": "43ff4099093c9a24",
   "metadata": {
    "id": "43ff4099093c9a24"
   },
   "source": [
    "figure, axes = plt.subplots(figsize=(10, 10))\n",
    "\n",
    "sns.barplot(data=education_by_sex,\n",
    "            y=\"education_category\",\n",
    "            x=\"count\",\n",
    "            hue=\"sex\",\n",
    "            ax=axes)\n",
    "\n",
    "axes.set_xlabel('Count')\n",
    "axes.set_ylabel('Education')\n",
    "axes.set_title('Distribution of education')\n",
    "pass"
   ],
   "outputs": [],
   "execution_count": null
  },
  {
   "cell_type": "markdown",
   "id": "f431fac6c68d2f05",
   "metadata": {
    "id": "f431fac6c68d2f05"
   },
   "source": [
    "#### When the higher education began to open to women in Slovakia"
   ]
  },
  {
   "metadata": {},
   "cell_type": "markdown",
   "source": "To see age differences while dividing dataset by some other property, we can define  next functions. They work similar to the previous functions, but there are some differences, so let's describe, how they work.",
   "id": "8ea5ca295af96d94"
  },
  {
   "metadata": {},
   "cell_type": "markdown",
   "source": [
    "`compute_age_based` computes a dataset grouped by age and some optional parameter, and performs the next steps:\n",
    "1. Queries dataset by query (if query isn't trivial).\n",
    "2. If `groupby` is `None` (which means that we're only grouping by age), then:\n",
    "    1. Groups the filtered dataset by `'age'` columns and calculates the sum.\n",
    "    2. Calculates the percent in one of 3 ways:\n",
    "        * `category_percent` is the ratio of the number of people chosen by the query with a specific value of age to all people, chosen by the query.\n",
    "        * `filtered_percent` is the ratio of the number of people chosen by query with a specific value of age to *all* people with this age.\n",
    "        * `age_percent` is the ratio of the number of people chosen by query with a specific value of age to all people *chosen by query* with this age.\n",
    "3. If `groupby` isn't `None`, then so do the same actions, but all `pd.DataFrame.groupby` functions are applied with `'age'` and `groupby` as parameters.\n",
    "\n",
    "\n"
   ],
   "id": "39bcc153a2cb43f5"
  },
  {
   "metadata": {},
   "cell_type": "markdown",
   "source": "`plot_age_based` is just plotting a linegraph with specific parameters. ",
   "id": "9e428295b7e745db"
  },
  {
   "cell_type": "code",
   "id": "386fb507930c69e4",
   "metadata": {
    "id": "386fb507930c69e4"
   },
   "source": [
    "# dash_age functions\n",
    "def compute_age_based(data, query, groupby=None, filter_result=None):\n",
    "    if query != \"\":\n",
    "        chosen = data.query(query)\n",
    "    else:\n",
    "        chosen = data\n",
    "        \n",
    "    if groupby is None:\n",
    "        aggregated = chosen.groupby(['age'])['count'].sum().reset_index(name='number')\n",
    "        \n",
    "        total_category = chosen['count'].sum()\n",
    "        total_unfiltered = data.groupby(['age'])['count'].sum().rename('total_unfiltered')\n",
    "        total_age = chosen.groupby(['age'])['count'].sum().rename('total_age')\n",
    "        \n",
    "        aggregated = pd.merge(aggregated, total_unfiltered, on=['age'], how='left')\n",
    "        aggregated = pd.merge(aggregated, total_age, on=['age'], how='left')\n",
    "        \n",
    "        aggregated['category_percent'] = aggregated['number'] / total_category * 100\n",
    "        aggregated['filtered_percent'] = aggregated['number'] / aggregated['total_unfiltered'] * 100\n",
    "        aggregated['age_percent'] = aggregated['number'] / aggregated['total_age'] * 100\n",
    "        \n",
    "    else:\n",
    "        aggregated = chosen.groupby(['age', groupby])['count'].sum().reset_index(name='number')\n",
    "        \n",
    "        total_category = chosen.groupby([groupby])['count'].sum().rename('total_category')\n",
    "        total_unfiltered = data.groupby(['age', groupby])['count'].sum().rename('total_unfiltered')\n",
    "        total_age = chosen.groupby(['age'])['count'].sum().rename('total_age')\n",
    "        \n",
    "        aggregated = pd.merge(aggregated, total_category, on=[groupby], how='left')\n",
    "        aggregated = pd.merge(aggregated, total_unfiltered, on=['age', groupby], how='left')\n",
    "        aggregated = pd.merge(aggregated, total_age, on=['age', ], how='left')\n",
    "        \n",
    "        aggregated['category_percent'] = aggregated['number'] / aggregated['total_category'] * 100\n",
    "        aggregated['filtered_percent'] = aggregated['number'] / aggregated['total_unfiltered'] * 100\n",
    "        aggregated['age_percent'] = aggregated['number'] / aggregated['total_age'] * 100\n",
    "        \n",
    "    if filter_result is not None and filter_result > 0:\n",
    "        aggregated = aggregated[aggregated['number'] >= filter_result]\n",
    "        \n",
    "    return aggregated\n",
    "\n",
    "\n",
    "def plot_age_based(\n",
    "        data,\n",
    "        groupby=None,\n",
    "        title=\"\",\n",
    "        display_value=\"number\",\n",
    "        markers=False,\n",
    "):\n",
    "    figure = px.line(\n",
    "        data, x=\"age\", y=display_value, color=groupby, hover_data=[\"number\"]\n",
    "    )\n",
    "    \n",
    "    figure.update_layout(xaxis_title=\"Age\", title=title)\n",
    "    if display_value == 0:\n",
    "        figure.update_layout(yaxis_title=\"Number of people\")\n",
    "    else:\n",
    "        figure.update_layout(yaxis_title=\"Percent of people\")\n",
    "    figure.update_traces(\n",
    "        mode=\"lines\" + (\"+markers\" if markers else \"\"),\n",
    "        connectgaps=True,\n",
    "    )\n",
    "    return figure"
   ],
   "outputs": [],
   "execution_count": null
  },
  {
   "metadata": {},
   "cell_type": "code",
   "source": [
    "data = compute_age_based(table_040_SR,\n",
    "                         query=\"`education_category`.isin(['higher']) and 0 <= `age` < 91\",\n",
    "                         groupby='sex',\n",
    "                         filter_result=1)"
   ],
   "id": "5796706babc83023",
   "outputs": [],
   "execution_count": null
  },
  {
   "cell_type": "code",
   "id": "5de9f96c2891a08",
   "metadata": {
    "id": "5de9f96c2891a08"
   },
   "source": [
    "figure = plot_age_based(data,\n",
    "                        groupby='sex',\n",
    "                        title='Percent of people with a degree',\n",
    "                        display_value='filtered_percent',\n",
    "                        markers=False)\n",
    "figure.show()"
   ],
   "outputs": [],
   "execution_count": null
  },
  {
   "cell_type": "markdown",
   "id": "1ca79c6c8571ef77",
   "metadata": {
    "id": "1ca79c6c8571ef77"
   },
   "source": [
    "Women started to getting higher education on the same level as man only about (60 - 18) = 42 years ago, so in year around 1970"
   ]
  },
  {
   "metadata": {},
   "cell_type": "code",
   "source": [
    "data = compute_age_based(table_040_OK,\n",
    "                         query=\"18 <= `age` < 90 and `education_category`.isin(['primary', 'without'])\",\n",
    "                         groupby='sex',\n",
    "                         filter_result=1)"
   ],
   "id": "1b770a901663e520",
   "outputs": [],
   "execution_count": null
  },
  {
   "cell_type": "code",
   "id": "e733670955cdf74e",
   "metadata": {
    "id": "e733670955cdf74e"
   },
   "source": [
    "figure = plot_age_based(data,\n",
    "                        groupby='sex',\n",
    "                        title='Percent of people with primary education or without',\n",
    "                        display_value='filtered_percent',\n",
    "                        markers=False)\n",
    "figure.show()"
   ],
   "outputs": [],
   "execution_count": null
  },
  {
   "cell_type": "markdown",
   "id": "324345cc36b8b918",
   "metadata": {
    "id": "324345cc36b8b918"
   },
   "source": [
    "### Adult illiteracy"
   ]
  },
  {
   "cell_type": "markdown",
   "id": "266fafb5568d9e9d",
   "metadata": {
    "id": "266fafb5568d9e9d"
   },
   "source": [
    "#### Geographic aspect of illiteracy"
   ]
  },
  {
   "metadata": {},
   "cell_type": "markdown",
   "source": "Here is some trivial calculations to select all people that are older 14, haven't any education and not studying.",
   "id": "f5f58ad6e3dc9c13"
  },
  {
   "cell_type": "code",
   "id": "5e8ea3e27ce92541",
   "metadata": {
    "id": "5e8ea3e27ce92541"
   },
   "source": [
    "districts_illiteracy = districts_table.set_index('LAU1_CODE')\n",
    "\n",
    "table_OK_population = table_040_OK.groupby('LAU1_CODE')['count'].sum()\n",
    "\n",
    "table_OK_uneducated = (table_040_OK\n",
    "                       .query(\n",
    "    'education == \"bez školského vzdelania – osoby vo veku 15 rokov a viac\" & current_economic_activity != \"žiak základnej školy\"')\n",
    "                       .groupby(['LAU1_CODE'])['count']\n",
    "                       .sum())\n",
    "\n",
    "table_uneducated_percent = 100 * (table_OK_uneducated / table_OK_population)\n",
    "\n",
    "geotable_uneducated = gpd.GeoDataFrame(table_OK_uneducated, geometry=districts_illiteracy['geometry'])\n",
    "geotable_uneducated_percent = gpd.GeoDataFrame(table_uneducated_percent, geometry=districts_illiteracy['geometry'])\n",
    "\n",
    "display(table_OK_population.head(2))\n",
    "display(geotable_uneducated.head(2))\n",
    "display(geotable_uneducated_percent.head(2))"
   ],
   "outputs": [],
   "execution_count": null
  },
  {
   "metadata": {},
   "cell_type": "markdown",
   "source": "Let's do some simple maps, one with absolute values, and the second one with percents:",
   "id": "e2bd311db0a2011a"
  },
  {
   "cell_type": "code",
   "id": "428bf94ff8e062dd",
   "metadata": {
    "id": "428bf94ff8e062dd"
   },
   "source": [
    "plot = geotable_uneducated.plot(column='count',\n",
    "                                legend=True,\n",
    "                                legend_kwds={\"orientation\": \"horizontal\"},\n",
    "                                cmap=sns.color_palette(\"flare\", as_cmap=True))\n",
    "\n",
    "plot.set_title(\"Number of people without education\")\n",
    "plot.set_axis_off()\n",
    "\n",
    "plot = geotable_uneducated_percent.plot(column='count',\n",
    "                                        legend=True,\n",
    "                                        legend_kwds={\"orientation\": \"horizontal\"},\n",
    "                                        cmap=sns.color_palette(\"flare\", as_cmap=True))\n",
    "\n",
    "plot.set_title(\"Percent of people without education\")\n",
    "plot.set_axis_off()"
   ],
   "outputs": [],
   "execution_count": null
  },
  {
   "cell_type": "markdown",
   "id": "f3e385a52ae55c3f",
   "metadata": {
    "id": "f3e385a52ae55c3f"
   },
   "source": [
    "#### Employment of uneducated people"
   ]
  },
  {
   "metadata": {},
   "cell_type": "markdown",
   "source": "Let's select info about employment, divide into 3 parts and analyze it:",
   "id": "50a1c984cf12dd00"
  },
  {
   "cell_type": "code",
   "id": "8eb393723849758f",
   "metadata": {
    "id": "8eb393723849758f"
   },
   "source": [
    "table_uneducated_by_isco = (table_067_SR\n",
    "                            .query(\"education == 'bez školského vzdelania – osoby vo veku 15 rokov a viac'\")\n",
    "                            .groupby('ISCO_occupation')['count']\n",
    "                            .sum()\n",
    "                            .sort_values(ascending=False)\n",
    "                            .reset_index())\n",
    "\n",
    "undefined_occupation_count = table_uneducated_by_isco.query('ISCO_occupation == \"nezistené\"')['count'].sum()\n",
    "\n",
    "inapplicable_occupation_count = table_uneducated_by_isco.query('ISCO_occupation == \"neaplikovateľné\"')['count'].sum()\n",
    "\n",
    "applicable_occupation = (table_uneducated_by_isco\n",
    "                         .query('ISCO_occupation != \"nezistené\" & ISCO_occupation != \"neaplikovateľné\"'))\n",
    "\n",
    "applicable_occupation_count = applicable_occupation['count'].sum()\n",
    "display(applicable_occupation.head())"
   ],
   "outputs": [],
   "execution_count": null
  },
  {
   "cell_type": "code",
   "id": "20ec73e4611a4d1a",
   "metadata": {
    "id": "20ec73e4611a4d1a"
   },
   "source": [
    "plt.pie([undefined_occupation_count, inapplicable_occupation_count, applicable_occupation_count],\n",
    "        labels=['unknown', 'inapplicable', 'applicable'],\n",
    "        autopct='%1.1f%%')\n",
    "\n",
    "plt.show()"
   ],
   "outputs": [],
   "execution_count": null
  },
  {
   "cell_type": "code",
   "id": "c2aeb20764b01e8a",
   "metadata": {
    "id": "c2aeb20764b01e8a"
   },
   "source": [
    "plot = sns.barplot(data=applicable_occupation.head(10),\n",
    "                   x='count',\n",
    "                   y='ISCO_occupation',\n",
    "                   color=sns.color_palette(as_cmap=True)[0])\n",
    "\n",
    "plot.bar_label(plot.containers[0], fontsize=8, padding=3)\n",
    "plot.set_xlabel('Number of people')\n",
    "plot.set_ylabel('')\n",
    "plt.subplots_adjust(left=0.5, right=1.6)"
   ],
   "outputs": [],
   "execution_count": null
  },
  {
   "cell_type": "markdown",
   "id": "c2c2daf7fffd32e1",
   "metadata": {
    "id": "c2c2daf7fffd32e1"
   },
   "source": [
    "#### Age distribution of illiteracy"
   ]
  },
  {
   "metadata": {},
   "cell_type": "markdown",
   "source": "Similar, we can do age histogram:",
   "id": "83436512e30f5476"
  },
  {
   "cell_type": "code",
   "id": "82813be5ea3ecb57",
   "metadata": {
    "id": "82813be5ea3ecb57"
   },
   "source": [
    "table_SR_uneducated = (table_040_SR\n",
    "                       .query('education == \"bez školského vzdelania – osoby vo veku 15 rokov a viac\" & current_economic_activity != \"žiak základnej školy\"'))\n",
    "\n",
    "table_SR_uneducated"
   ],
   "outputs": [],
   "execution_count": null
  },
  {
   "cell_type": "code",
   "id": "f79986abdc46297a",
   "metadata": {
    "id": "f79986abdc46297a"
   },
   "source": [
    "plot = sns.histplot(data=table_SR_uneducated, x=\"age\", weights=\"count\", binwidth=1)\n",
    "\n",
    "plot.set_xlabel('Age')\n",
    "plot.set_ylabel('Number of people')\n",
    "plot.set_title('Number of people without education')\n",
    "\n",
    "plt.xticks(rotation=45)\n",
    "plt.show()"
   ],
   "outputs": [],
   "execution_count": null
  },
  {
   "cell_type": "markdown",
   "id": "529f7f2a41b2b18f",
   "metadata": {
    "id": "529f7f2a41b2b18f"
   },
   "source": [
    "## Employment analysis"
   ]
  },
  {
   "cell_type": "markdown",
   "id": "25e95a9723a5d39d",
   "metadata": {
    "id": "25e95a9723a5d39d"
   },
   "source": [
    "### Employment specialization"
   ]
  },
  {
   "metadata": {},
   "cell_type": "markdown",
   "source": "Let's copy the dataframe to do manipulations: ",
   "id": "e25501de2dc7a976"
  },
  {
   "cell_type": "code",
   "id": "e6471b7182a3720e",
   "metadata": {
    "id": "e6471b7182a3720e"
   },
   "source": "table_067_KR_copy = table_067_KR.copy()",
   "outputs": [],
   "execution_count": null
  },
  {
   "metadata": {},
   "cell_type": "code",
   "source": "occupation_bar = table_067_KR_copy.dropna().groupby('ISCO_group')['count'].sum()",
   "id": "63aba663e8ac3a55",
   "outputs": [],
   "execution_count": null
  },
  {
   "metadata": {},
   "cell_type": "markdown",
   "source": "Occupation groups (barplot):",
   "id": "66d22f5f0a83211a"
  },
  {
   "cell_type": "code",
   "id": "6ca04beb2845cc78",
   "metadata": {
    "id": "6ca04beb2845cc78"
   },
   "source": [
    "px.bar(y=occupation_bar.index,\n",
    "       x=occupation_bar.values,\n",
    "       labels={'x': 'count', 'y': 'occupation'},\n",
    "       title='The number of people by type of occupation',\n",
    "       orientation='h')"
   ],
   "outputs": [],
   "execution_count": null
  },
  {
   "metadata": {},
   "cell_type": "markdown",
   "source": "For Parcats graph we need group dataframe by education groups and ISCO groups:",
   "id": "9e0bdadcd0ad4fa1"
  },
  {
   "cell_type": "code",
   "id": "7c3ade69",
   "metadata": {
    "id": "7c3ade69"
   },
   "source": [
    "help_for_par1 = (table_067_KR_copy\n",
    "                 .query('`education_category` != \"undefined\"')\n",
    "                 .groupby(['education_category', 'ISCO_group'])['count']\n",
    "                 .sum())\n",
    "\n",
    "fig = go.Figure(go.Parcats(\n",
    "    dimensions=[{'label': 'education',\n",
    "                 'values': [i[0] for i in help_for_par1.index.values]},\n",
    "                {'label': 'occupation',\n",
    "                 'values': [i[1] for i in help_for_par1.index.values]}],\n",
    "    counts=help_for_par1.values\n",
    "))\n",
    "\n",
    "fig.update_layout(height=600, width=800)\n",
    "fig.show()"
   ],
   "outputs": [],
   "execution_count": null
  },
  {
   "cell_type": "markdown",
   "id": "a964bd90358f369e",
   "metadata": {
    "id": "a964bd90358f369e"
   },
   "source": [
    "### Sectoral structure of the economy"
   ]
  },
  {
   "metadata": {},
   "cell_type": "markdown",
   "source": "At first, filter out `undefined`:",
   "id": "ef99f50d0e5e583e"
  },
  {
   "cell_type": "code",
   "id": "edc87cc2f7807555",
   "metadata": {
    "id": "edc87cc2f7807555"
   },
   "source": [
    "table_067_KR_copy = table_067_KR_copy.query('`education_category` != \"undefined\"')\n",
    "table_067_KR_copy = table_067_KR_copy.query('`NACE_group` != \"undefined\"')"
   ],
   "outputs": [],
   "execution_count": null
  },
  {
   "metadata": {},
   "cell_type": "markdown",
   "source": "After that, calculate the number of people in one economic sector and in one economic sector with specific education category.",
   "id": "101e39f8381bf11"
  },
  {
   "cell_type": "code",
   "id": "08ad1dab",
   "metadata": {
    "id": "08ad1dab"
   },
   "source": [
    "sector_sum = table_067_KR_copy.groupby('NACE_group')['count'].sum()\n",
    "sector_sum_edu = table_067_KR_copy.groupby(['NACE_group', 'education_category'])['count'].sum()"
   ],
   "outputs": [],
   "execution_count": null
  },
  {
   "metadata": {},
   "cell_type": "markdown",
   "source": "After we can map the following numbers in the dataframe and calculate percents: ",
   "id": "7de5549933295f4a"
  },
  {
   "cell_type": "code",
   "id": "2825704b",
   "metadata": {
    "id": "2825704b"
   },
   "source": [
    "table_067_KR_copy['count_for_sector'] = (table_067_KR_copy['NACE_group']\n",
    "                                         .map(sector_sum)\n",
    "                                         .astype('int64'))\n",
    "\n",
    "table_067_KR_copy['count_edu_sector'] = table_067_KR_copy.apply(\n",
    "    lambda x: sector_sum_edu[x['NACE_group'], x['education_category']],\n",
    "    axis=1)\n",
    "\n",
    "table_067_KR_copy['percentage'] = (table_067_KR_copy['count_edu_sector']\n",
    "                                   / table_067_KR_copy['count_for_sector']\n",
    "                                   * 100)"
   ],
   "outputs": [],
   "execution_count": null
  },
  {
   "metadata": {},
   "cell_type": "markdown",
   "source": "For every economic sector let's create graph, which tells education distribution in this sector:",
   "id": "1b526da8bf62c5fb"
  },
  {
   "cell_type": "code",
   "id": "a4df10c0688c1cd2",
   "metadata": {
    "id": "a4df10c0688c1cd2"
   },
   "source": [
    "tmp_sectors = table_067_KR_copy['NACE_group'].unique()\n",
    "# takes != 'without' because it looks like 0 percent on graph\n",
    "tmp_education = (table_067_KR_copy\n",
    "                 [table_067_KR_copy['education_category'] != 'without']\n",
    "                 ['education_category']\n",
    "                 .unique())\n",
    "\n",
    "starts = pd.Series([0] * tmp_sectors.shape[0])\n",
    "\n",
    "figure, axes = plt.subplots(figsize=(10, 6))\n",
    "\n",
    "for group in tmp_education:\n",
    "    tmp_data = (table_067_KR_copy\n",
    "                .query(\"`education_category` == @group\")\n",
    "                .drop_duplicates('count_edu_sector'))\n",
    "\n",
    "    rectangles = axes.barh(y=tmp_data['NACE_group'],\n",
    "                           width=tmp_data['percentage'],\n",
    "                           left=starts,\n",
    "                           label=group)\n",
    "\n",
    "    axes.bar_label(rectangles, label_type='center', fmt=\"%.0f%%\")\n",
    "    starts += tmp_data['percentage'].reset_index(drop=True)\n",
    "\n",
    "axes.set_title('Economic sectors + Level of education')\n",
    "axes.legend(bbox_to_anchor=(1, 1), loc=2)\n",
    "axes.xaxis.set_visible(False)\n",
    "axes.set_frame_on(False)\n",
    "pass"
   ],
   "outputs": [],
   "execution_count": null
  },
  {
   "metadata": {},
   "cell_type": "markdown",
   "source": "Now let's change our perspective - for each education group create a graph with distribution of this education over all economic sectors:",
   "id": "6dffbc1ae72fc8db"
  },
  {
   "cell_type": "code",
   "id": "473db70f",
   "metadata": {
    "id": "473db70f"
   },
   "source": "table_for_pie = table_067_KR_copy.drop_duplicates(['education_category', 'NACE_group', 'count_for_sector'])",
   "outputs": [],
   "execution_count": null
  },
  {
   "cell_type": "code",
   "id": "0a8d2bef",
   "metadata": {
    "id": "0a8d2bef"
   },
   "source": [
    "figure, axes = plt.subplots(figsize=(8, 5))\n",
    "axes.pie(x=table_for_pie.query('`education_category` == \"without\"')['count_edu_sector'],\n",
    "         labels=table_for_pie.query('`education_category` == \"without\"')['NACE_group'],\n",
    "         autopct=\"%.1f%%\")\n",
    "\n",
    "axes.set_title('People without education by economic sectors')\n",
    "pass"
   ],
   "outputs": [],
   "execution_count": null
  },
  {
   "cell_type": "code",
   "id": "67ef904c",
   "metadata": {
    "id": "67ef904c"
   },
   "source": [
    "figure, axes = plt.subplots(figsize=(8, 5))\n",
    "axes.pie(x=table_for_pie.query('`education_category` == \"higher\"')['count_edu_sector'],\n",
    "         labels=table_for_pie.query('`education_category` == \"higher\"')['NACE_group'],\n",
    "         autopct=\"%.1f%%\")\n",
    "\n",
    "axes.set_title('People with higher education by economic sectors')\n",
    "pass"
   ],
   "outputs": [],
   "execution_count": null
  },
  {
   "cell_type": "code",
   "id": "3aa3882c",
   "metadata": {
    "id": "3aa3882c"
   },
   "source": [
    "figure, axes = plt.subplots(figsize=(8, 5))\n",
    "axes.pie(x=table_for_pie.query('`education_category` == \"primary\"')['count_edu_sector'],\n",
    "         labels=table_for_pie.query('`education_category` == \"primary\"')['NACE_group'],\n",
    "         autopct=\"%.1f%%\")\n",
    "\n",
    "axes.set_title('People with primary education by economic sectors')\n",
    "pass"
   ],
   "outputs": [],
   "execution_count": null
  },
  {
   "cell_type": "markdown",
   "id": "13f3c23003d806b4",
   "metadata": {
    "id": "13f3c23003d806b4"
   },
   "source": [
    "### Geographic specialization of economy"
   ]
  },
  {
   "metadata": {},
   "cell_type": "markdown",
   "source": "As in previous graphs, let's create choropleth graphs:",
   "id": "8df27d801f06c580"
  },
  {
   "cell_type": "code",
   "id": "9e54593cd6793101",
   "metadata": {
    "id": "9e54593cd6793101"
   },
   "source": [
    "data = compute_groups(table_067_OK,\n",
    "                      groupby='LAU1_CODE',\n",
    "                      chosen_query=\"`NACE_group`.isin(['primary'])\",\n",
    "                      filter_query='')"
   ],
   "outputs": [],
   "execution_count": null
  },
  {
   "cell_type": "code",
   "id": "dbf196b039e5d309",
   "metadata": {
    "id": "dbf196b039e5d309"
   },
   "source": [
    "figure = plot_groups(data,\n",
    "                     groupby='LAU1_CODE',\n",
    "                     value='number',\n",
    "                     title='Number of people working in primary economic sector')\n",
    "figure.show()"
   ],
   "outputs": [],
   "execution_count": null
  },
  {
   "metadata": {},
   "cell_type": "markdown",
   "source": "Why there is so many people in Prievidza?",
   "id": "5de0b0a58941acf9"
  },
  {
   "metadata": {},
   "cell_type": "code",
   "source": [
    "prievidza_primary_sector = table_067_OK[(table_067_OK['district_name'] == 'Okres Prievidza') & (table_067_OK['NACE_group'] == 'primary')]\n",
    "\n",
    "prievidza_primary_sector = (prievidza_primary_sector\n",
    "                            .groupby('NACE_section')\n",
    "                            ['count']\n",
    "                            .sum()\n",
    "                            .reset_index())"
   ],
   "id": "76a6e8d5b7cda35a",
   "outputs": [],
   "execution_count": null
  },
  {
   "metadata": {},
   "cell_type": "code",
   "source": [
    "plt.pie(prievidza_primary_sector['count'],\n",
    "        labels = prievidza_primary_sector['NACE_section'],\n",
    "        autopct=\"%.1f%%\")\n",
    "pass"
   ],
   "id": "a5d8e005fa2baf06",
   "outputs": [],
   "execution_count": null
  },
  {
   "metadata": {},
   "cell_type": "markdown",
   "source": "Our assumption - combination of 2 factors: \"Nestle\" (agronomy) and \"Hornonitrianske bane Prievidza\" (mining and quarrying)",
   "id": "73d8d7eac6a07516"
  },
  {
   "cell_type": "markdown",
   "id": "e05062e2",
   "metadata": {},
   "source": "The primary sector of economics is small in comparison to secondary and tertiary, that's why number data is more valuable here. Let's look on percents:"
  },
  {
   "metadata": {},
   "cell_type": "code",
   "source": [
    "figure = plot_groups(data,\n",
    "                     groupby='LAU1_CODE',\n",
    "                     value='percent',\n",
    "                     title='Percent of people working in primary economic sector')\n",
    "figure.show()"
   ],
   "id": "9826ca73b0d9819d",
   "outputs": [],
   "execution_count": null
  },
  {
   "metadata": {},
   "cell_type": "markdown",
   "source": "Now let's do the same for secondary and tertiary sectors:",
   "id": "7faf934596c6ab2f"
  },
  {
   "metadata": {},
   "cell_type": "code",
   "source": [
    "data = compute_groups(table_067_OK,\n",
    "                      groupby='LAU1_CODE',\n",
    "                      chosen_query=\"`NACE_group`.isin(['secondary'])\",\n",
    "                      filter_query='')"
   ],
   "id": "2d51bee5423a5896",
   "outputs": [],
   "execution_count": null
  },
  {
   "metadata": {},
   "cell_type": "code",
   "source": [
    "figure = plot_groups(data,\n",
    "                     groupby='LAU1_CODE',\n",
    "                     value='number',\n",
    "                     title='Number of people working in secondary economic sector')\n",
    "figure.show()"
   ],
   "id": "ca6f2c1701aa53e9",
   "outputs": [],
   "execution_count": null
  },
  {
   "cell_type": "code",
   "id": "7b905d62",
   "metadata": {},
   "source": [
    "figure = plot_groups(data,\n",
    "                     groupby='LAU1_CODE',\n",
    "                     value='percent',\n",
    "                     title='Percent of people working in secondary economic sector')\n",
    "figure.show()"
   ],
   "outputs": [],
   "execution_count": null
  },
  {
   "metadata": {},
   "cell_type": "code",
   "source": [
    "data = compute_groups(table_067_OK,\n",
    "                      groupby='LAU1_CODE',\n",
    "                      chosen_query=\"`NACE_group`.isin(['tertiary'])\",\n",
    "                      filter_query='')"
   ],
   "id": "59387f90d3854e61",
   "outputs": [],
   "execution_count": null
  },
  {
   "metadata": {},
   "cell_type": "code",
   "source": [
    "figure = plot_groups(data,\n",
    "                     groupby='LAU1_CODE',\n",
    "                     value='number',\n",
    "                     title='Number of people working in tertiary economic sector')\n",
    "figure.show()"
   ],
   "id": "89b30a1343307e25",
   "outputs": [],
   "execution_count": null
  },
  {
   "cell_type": "code",
   "id": "bd693fe9",
   "metadata": {},
   "source": [
    "figure = plot_groups(data,\n",
    "                     groupby='LAU1_CODE',\n",
    "                     value='percent',\n",
    "                     title='Percent of people working in tertiary economic sector')\n",
    "figure.show()"
   ],
   "outputs": [],
   "execution_count": null
  },
  {
   "cell_type": "markdown",
   "id": "f166b8c17f07b8db",
   "metadata": {
    "id": "f166b8c17f07b8db"
   },
   "source": [
    "### Analysis of unemployment"
   ]
  },
  {
   "metadata": {},
   "cell_type": "markdown",
   "source": "Let's take a look on current economic activity:",
   "id": "3cebd7e7e7e73fd4"
  },
  {
   "metadata": {},
   "cell_type": "code",
   "source": "table_040_SR['current_economic_activity'].unique()",
   "id": "486328c69136cc56",
   "outputs": [],
   "execution_count": null
  },
  {
   "metadata": {},
   "cell_type": "markdown",
   "source": "We will use the classic definition of unemployment: $u = \\frac{U}{U+E} \\cdot 100\\%$, where $E$ is the number of employed people and $U$ is the number of unemployed. Note, that unemployed workers, by the ILO definition, are those not working but willing, available, and actively searching for work.",
   "id": "97474f6486f63dc6"
  },
  {
   "metadata": {},
   "cell_type": "markdown",
   "source": "So, we will be interested in workers (excluding retiree) (`pracujúci (okrem dôchodcov)`), a working retiree  (`pracujúci dôchodca`) and the unemployed (`nezamestnaný`).",
   "id": "81acd1729764ff04"
  },
  {
   "metadata": {},
   "cell_type": "markdown",
   "source": "Let's define function to calculate the number of people with the same age:",
   "id": "81daf4119cfef537"
  },
  {
   "cell_type": "code",
   "id": "oE3mXZEizcTg",
   "metadata": {
    "id": "oE3mXZEizcTg"
   },
   "source": [
    "def calculate_counts(data):\n",
    "    return (data\n",
    "            .groupby('age')\n",
    "            .agg({'count': 'sum'})\n",
    "            .rename(columns={'count': 'total_count'})\n",
    "            .reset_index())"
   ],
   "outputs": [],
   "execution_count": null
  },
  {
   "metadata": {},
   "cell_type": "markdown",
   "source": "Now we can create dataframe, in which entries in 1 row are corresponding to the number of employed or unemployed people with one specific age:",
   "id": "1f661aa160f455a1"
  },
  {
   "cell_type": "code",
   "id": "ebe6894d1112c87",
   "metadata": {
    "id": "ebe6894d1112c87"
   },
   "source": [
    "working_idx = table_040_SR['current_economic_activity'].isin(['pracujúci (okrem dôchodcov)', 'pracujúci dôchodca'])\n",
    "unemployed_idx = table_040_SR['current_economic_activity'].isin(['nezamestnaný'])\n",
    "\n",
    "not_working_groups = table_040_SR[unemployed_idx]\n",
    "working_age_groups = table_040_SR[working_idx]\n",
    "\n",
    "unemployed_table = calculate_counts(not_working_groups)\n",
    "employed_table = calculate_counts(working_age_groups)\n",
    "\n",
    "employed_table['Economic status'] = 'employed'\n",
    "unemployed_table['Economic status'] = 'unemployed'\n",
    "\n",
    "labor_forces = pd.concat([unemployed_table, employed_table])\n",
    "labor_forces.sample(5)"
   ],
   "outputs": [],
   "execution_count": null
  },
  {
   "cell_type": "code",
   "id": "QOVOWaCUzPbC",
   "metadata": {
    "id": "QOVOWaCUzPbC"
   },
   "source": [
    "plt.figure(figsize=(10, 6))\n",
    "\n",
    "sns.histplot(data=labor_forces, \n",
    "             x='age', \n",
    "             weights='total_count', \n",
    "             hue='Economic status', \n",
    "             multiple=\"stack\", \n",
    "             binwidth=5, \n",
    "             hue_order=['unemployed', 'employed'],\n",
    "             palette=sns.color_palette()[:2][::-1]) # [:2][::-1] fixes yellow-blue order (hue_order otherwise messes with stack order, which is ugly) :(\n",
    "\n",
    "plt.xlabel('Age')\n",
    "plt.ylabel('Total Count')\n",
    "plt.title('Employed and Unemployed Counts by Age')\n",
    "plt.legend(labels=['Employed', 'Unemployed'])\n",
    "pass"
   ],
   "outputs": [],
   "execution_count": null
  },
  {
   "metadata": {},
   "cell_type": "markdown",
   "source": "Now let's see, how many are unemployed men and women:",
   "id": "a7997be6400970e1"
  },
  {
   "metadata": {},
   "cell_type": "code",
   "source": [
    "colors = sns.color_palette('pastel')\n",
    "not_working_groups_gender = (not_working_groups[(not_working_groups['age'] <= 70)\n",
    "                                                & (not_working_groups['age'] >= 20)])\n",
    "\n",
    "not_working_groups_gender = (not_working_groups_gender\n",
    "                             .groupby('sex')['count']\n",
    "                             .sum()\n",
    "                             .reset_index())\n",
    "\n",
    "plt.figure(figsize=(6, 6))\n",
    "plt.pie(x=not_working_groups_gender['count'],\n",
    "        labels=not_working_groups_gender['sex'],\n",
    "        autopct='%1.1f%%',\n",
    "        colors=colors)\n",
    "\n",
    "plt.title('Sex Distribution over Unemployment from 20 to 70', fontweight='bold')\n",
    "plt.show()\n",
    "pass"
   ],
   "id": "f090ac9e58ee34e1",
   "outputs": [],
   "execution_count": null
  },
  {
   "metadata": {},
   "cell_type": "markdown",
   "source": "Let's add age categorization by introducing 5-year-groups:",
   "id": "1f47d5dcc85739c0"
  },
  {
   "metadata": {},
   "cell_type": "code",
   "source": [
    "def categorize_age(age):\n",
    "    age_int = int(age)\n",
    "    if age_int >= 90:\n",
    "        return '90 and greater'\n",
    "    else:\n",
    "        group_start = (age_int // 5) * 5\n",
    "        return f'{group_start} to {group_start + 4}'"
   ],
   "id": "e4e8724662f14085",
   "outputs": [],
   "execution_count": null
  },
  {
   "metadata": {},
   "cell_type": "code",
   "source": "not_working_groups['5_year_groups'] = not_working_groups['age'].apply(categorize_age)",
   "id": "ce1aa3f40ae3a607",
   "outputs": [],
   "execution_count": null
  },
  {
   "metadata": {},
   "cell_type": "markdown",
   "source": [
    "Now we can add interactive graph to see, how employment depends on age and education.\n",
    "\n",
    "`update_plot` is a function, which aggregates data in appropriate way: filters out data to restrict dataframe with only specific age groups, after groups by age and education level, sorts and draws: "
   ],
   "id": "23d2649ec24011a1"
  },
  {
   "cell_type": "code",
   "id": "CAkSLxBm028n",
   "metadata": {
    "collapsed": true,
    "id": "CAkSLxBm028n"
   },
   "source": [
    "app = Dash(__name__)\n",
    "\n",
    "age_group_options = [{'label': age_group, 'value': age_group} for age_group in\n",
    "                     not_working_groups['5_year_groups'].unique()]\n",
    "\n",
    "app.layout = html.Div([\n",
    "    html.H1(\"Education vs. Unemployment by Age Group\"),\n",
    "    html.Label(\"Select Age Group(s)\"),\n",
    "    dcc.Dropdown(\n",
    "        id='age-group-dropdown',\n",
    "        options=age_group_options,\n",
    "        value=[age_group_options[0]['value']],\n",
    "        multi=True\n",
    "    ),\n",
    "    dcc.Graph(id='education-vs-unemployment-plot', style={'height': '500px'})\n",
    "])\n",
    "\n",
    "\n",
    "@app.callback(\n",
    "    Output('education-vs-unemployment-plot', 'figure'),\n",
    "    [Input('age-group-dropdown', 'value')]\n",
    ")\n",
    "def update_plot(selected_age_groups):\n",
    "    filtered_data = not_working_groups[not_working_groups['5_year_groups'].isin(selected_age_groups)]\n",
    "\n",
    "    aggregated_data = (filtered_data\n",
    "                       .groupby(['education_category', '5_year_groups'])['count']\n",
    "                       .sum()\n",
    "                       .reset_index())\n",
    "\n",
    "    sorted_education = (aggregated_data\n",
    "                        .groupby('education_category')['count']\n",
    "                        .sum()\n",
    "                        .sort_values(ascending=False)\n",
    "                        .index)\n",
    "\n",
    "    fig = px.bar(aggregated_data,\n",
    "                 x='education_category', y='count',\n",
    "                 color='5_year_groups',\n",
    "                 barmode='group',\n",
    "                 title='Education vs. Unemployment by Age Group',\n",
    "                 labels={'count': 'Total Count'},\n",
    "                 category_orders={'education_category': sorted_education})\n",
    "    return fig\n",
    "\n",
    "\n",
    "if __name__ == '__main__':\n",
    "    app.run_server(debug=True, port=8045)"
   ],
   "outputs": [],
   "execution_count": null
  },
  {
   "cell_type": "markdown",
   "id": "5bd0e1bb555f87b8",
   "metadata": {
    "id": "5bd0e1bb555f87b8"
   },
   "source": [
    "## Interactive section"
   ]
  },
  {
   "metadata": {},
   "cell_type": "markdown",
   "source": [
    "While analysing data, our team produced interactive graphs.\n",
    "\n",
    "Let's start with graph that shows occupations by education level with economic sectors division.\n",
    "\n",
    "Implementation is not so hard, data is just grouped by ISCO and NACE groups and filtered out by some education level."
   ],
   "id": "fce3cf024fbeba97"
  },
  {
   "cell_type": "code",
   "id": "ea804c7a717959bb",
   "metadata": {
    "id": "ea804c7a717959bb"
   },
   "source": [
    "app = Dash(__name__)\n",
    "COLORS_DICTIONARY = {'other activities': 'orange',\n",
    "                     'primary': 'royalblue',\n",
    "                     'secondary': 'green',\n",
    "                     'tertiary': 'red'}\n",
    "\n",
    "app.layout = html.Div([\n",
    "    html.Div(children=[\n",
    "        html.Label('Education: '),\n",
    "        dcc.Dropdown(['Without education', 'Primary education', 'Secondary education','Vocational education', 'Higher education'],\n",
    "                     'Primary education', id='education-type')]),\n",
    "\n",
    "    html.Div(children=[\n",
    "        html.Label('Color by economic sector: '),\n",
    "        dcc.RadioItems(['yes', 'no'], 'no', id='color-choice')\n",
    "    ]),\n",
    "\n",
    "    dcc.Graph(id='graph-content')\n",
    "])\n",
    "\n",
    "\n",
    "@app.callback(\n",
    "    Output('graph-content', 'figure'),\n",
    "    [\n",
    "        Input('education-type', 'value'),\n",
    "        Input('color-choice', 'value')\n",
    "    ]\n",
    ")\n",
    "def update_figure(selected_education, color_c):\n",
    "    education_dict = {\n",
    "        'Without education': 'without',\n",
    "        'Primary education': 'primary',\n",
    "        'Secondary education': 'secondary',\n",
    "        'Higher education': 'higher',\n",
    "        'Vocational education': 'vocational'\n",
    "    }\n",
    "\n",
    "    education = education_dict.get(selected_education)\n",
    "\n",
    "    education_subset = (table_067_KR_copy\n",
    "                        .query('`education_category` == @education')\n",
    "                        .groupby(['ISCO_group', 'NACE_group'])\n",
    "                        ['count']\n",
    "                        .sum())\n",
    "\n",
    "    if color_c == 'yes':\n",
    "        color_c = 'NACE_group'\n",
    "        categories = {'NACE_group': ['primary', 'secondary', 'tertiary', 'other activities']}\n",
    "    else:\n",
    "        color_c = None\n",
    "        categories = None\n",
    "\n",
    "    education_subset = education_subset.reset_index()\n",
    "    figure = px.histogram(education_subset,\n",
    "                          x='count', y='ISCO_group',\n",
    "                          width=900, height=600,\n",
    "                          color=color_c,\n",
    "                          orientation='h',\n",
    "                          labels={'y': 'occupation', 'sum of count': 'count', 'color': 'economic sector'},\n",
    "                          category_orders=categories)\n",
    "\n",
    "    figure.update_layout(title_text='Occupations by level of education')\n",
    "    #figure.update_layout(legend_traceorder=\"reversed\")\n",
    "\n",
    "    return figure\n",
    "\n",
    "\n",
    "if __name__ == '__main__':\n",
    "    app.run_server(debug=True, port=8051)"
   ],
   "outputs": [],
   "execution_count": null
  },
  {
   "cell_type": "code",
   "id": "62bef444",
   "metadata": {
    "id": "62bef444"
   },
   "source": [
    "ATTR_SELECTOR_MAP = {\n",
    "    # lambda for lazyness\n",
    "    \"category\": lambda data, attr, type: dcc.Dropdown(\n",
    "        # Mark selector element with type and attr to find then\n",
    "        id={\"type\": type, \"attr\": attr},\n",
    "        # attr must be of type `category`\n",
    "        options=data[attr].cat.categories,\n",
    "        persistence=True,\n",
    "        multi=True,\n",
    "    ),\n",
    "    \"int64\": lambda data, attr, type: dcc.RangeSlider(\n",
    "        id={\"type\": type, \"attr\": attr},\n",
    "        min=data[attr].min(),\n",
    "        max=data[attr].max() + 1,\n",
    "        step=1,\n",
    "        marks={\n",
    "            i: str(i)\n",
    "            for i in range(\n",
    "                data[attr].min(),\n",
    "                data[attr].max() + 1,\n",
    "                (data[attr].max() - data[attr].min()) // 10,\n",
    "            )\n",
    "        },\n",
    "        value=[data[attr].min(), data[attr].max() + 1],\n",
    "        persistence=True,\n",
    "    ),\n",
    "}\n",
    "\n",
    "ATTR_QUERY_EXPR_MAP = {\n",
    "    # value of a Dropdown is an array of option values\n",
    "    \"category\": lambda attr, entry: (f\"`{attr}`.isin({entry})\"),\n",
    "    # value of a Range Slider is an array of two boundaries\n",
    "    \"int64\": lambda attr, entry: f\"{entry[0]} <= `{attr}` < {entry[1]}\",\n",
    "}\n",
    "\n",
    "TEST_ATTR_FILTER_MAP = {\n",
    "    \"category\": lambda entry: len(entry) > 0,\n",
    "    \"int64\": lambda entry: len(entry) == 2,\n",
    "}\n",
    "\n",
    "\n",
    "def get_selectivity(data, attributes, type):\n",
    "    return [\n",
    "        html.Div(\n",
    "            [\n",
    "                html.H4(f\"Select {data[attr].name}\"),\n",
    "                # Choose appropriate 'selector' according to attr type\n",
    "                # Cause error by calling None in case of unmatched type\n",
    "                ATTR_SELECTOR_MAP.get(str(data[attr].dtype).lower(), None)(\n",
    "                    data, attr, type\n",
    "                ),\n",
    "            ]\n",
    "        )\n",
    "        for attr in attributes\n",
    "    ]\n",
    "\n",
    "\n",
    "def form_query(data, selectors, attrs):\n",
    "    return \" and \".join(\n",
    "        [\n",
    "            ATTR_QUERY_EXPR_MAP.get(str(data[attr].dtype).lower(), None)(attr, entry)\n",
    "            for attr, entry in zip(attrs, selectors)\n",
    "            if entry is not None\n",
    "               and TEST_ATTR_FILTER_MAP.get(str(data[attr].dtype).lower(), None)(entry)\n",
    "        ]\n",
    "    )\n",
    "\n",
    "\n",
    "def big_annotation(text: str, color: str):\n",
    "    return dict(\n",
    "        name=\"draft watermark\",\n",
    "        text=text.upper(),\n",
    "        textangle=-30,\n",
    "        opacity=0.1,\n",
    "        font=dict(color=color, size=100),\n",
    "        xref=\"paper\",\n",
    "        yref=\"paper\",\n",
    "        x=0.5,\n",
    "        y=0.5,\n",
    "        showarrow=False,\n",
    "    )"
   ],
   "outputs": [],
   "execution_count": null
  },
  {
   "cell_type": "code",
   "metadata": {},
   "source": [
    "table_names = [\n",
    "    \"RV_O_010_L_OK_SK.CSV\",\n",
    "    \"RV_O_040_L_OK_SK.CSV\",\n",
    "    \"RV_O_047_L_OK_SK.CSV\",\n",
    "    \"RV_O_067_L_OK_SK.CSV\",\n",
    "]\n",
    "interactive_tables = [pd.read_csv(data_root + '/' + table, sep=\";\") for table in table_names]\n",
    "\n",
    "age_table = interactive_tables[1]\n",
    "\n",
    "districts_indexed = geo_frame.set_index('LAU1_CODE')\n",
    "for table in interactive_tables:\n",
    "    preprocessing.preprocess(table)\n",
    "\n",
    "    object_columns = [column for column in table.columns if table[column].dtype in ['object', 'string']]\n",
    "    table[object_columns] = table[object_columns].astype('string')\n",
    "    table[object_columns] = table[object_columns].astype('category')\n",
    "\n",
    "    if \"LAU1_CODE\" in table:\n",
    "        table.set_index(\"LAU1_CODE\", inplace=True)\n",
    "        table[[\"region_name\", \"NUTS3_CODE\", \"ecoregion_name\", \"NUTS2_CODE\", \"state_name\", \"NUTS1_CODE\"]] = (\n",
    "            districts_indexed[[\"NUTS3\", \"NUTS3_CODE\", \"NUTS2\", \"NUTS2_CODE\", \"NUTS1\", \"NUTS1_CODE\"]]\n",
    "        )\n",
    "        table.reset_index(inplace=True)"
   ],
   "id": "b1a0c66a7de2e74a",
   "outputs": [],
   "execution_count": null
  },
  {
   "cell_type": "markdown",
   "metadata": {},
   "source": [
    "### Age based plots"
   ],
   "id": "6a2e5b6f15775e3b"
  },
  {
   "cell_type": "code",
   "id": "3d626dfd65b0a729",
   "metadata": {
    "id": "3d626dfd65b0a729"
   },
   "source": [
    "# %%script true # Skip\n",
    "\n",
    "app = Dash(__name__)\n",
    "\n",
    "figure = go.Figure()\n",
    "figure.add_annotation(big_annotation(\"START\", \"black\"))\n",
    "\n",
    "app.layout = html.Div(\n",
    "    [\n",
    "        html.Div(\n",
    "            [\n",
    "                html.H4(\"Enter title\"),\n",
    "                dcc.Input(\n",
    "                    id=\"title\", type=\"text\", persistence=True, style={\"width\": \"100%\"}\n",
    "                ),\n",
    "                html.H4(\"Select groupby\"),\n",
    "                dcc.Dropdown(\n",
    "                    id=\"groupby\",\n",
    "                    options=[\"None\"] + list(age_table.columns),\n",
    "                    persistence=True,\n",
    "                ),\n",
    "                html.H4(\"Select display value\"),\n",
    "                dcc.Dropdown(\n",
    "                    [\n",
    "                        {\"value\": i, \"label\": l}\n",
    "                        for i, l in enumerate(\n",
    "                        [\n",
    "                            \"Number\",\n",
    "                            \"Category percent\",\n",
    "                            \"Filtered percent\",\n",
    "                            \"Age percent\",\n",
    "                        ]\n",
    "                    )\n",
    "                    ],\n",
    "                    0,\n",
    "                    id=\"display-value\",\n",
    "                    persistence=True,\n",
    "                ),\n",
    "                html.H4(\"Enter lower bound\"),\n",
    "                dcc.Input(id=\"lower-bound\", type=\"number\", persistence=True),\n",
    "                dcc.Checklist(\n",
    "                    id=\"markers-checkbox\",\n",
    "                    options=[{\"label\": \"Add markers\", \"value\": True}],\n",
    "                    value=[],\n",
    "                    persistence=True,\n",
    "                ),\n",
    "                html.H4(\"Select chosen/percented attributes\"),\n",
    "                dcc.Dropdown(\n",
    "                    id=\"chosen-attributes\",\n",
    "                    multi=True,\n",
    "                    persistence=True,\n",
    "                    options=age_table.columns,\n",
    "                ),\n",
    "                html.Div(id=\"choose-zone\"),\n",
    "            ],\n",
    "            style={\"flex\": 1, \"minWidth\": 400, \"padding\": 10},\n",
    "        ),\n",
    "        html.Div(\n",
    "            [\n",
    "                dcc.Graph(\n",
    "                    id=\"line-plot\",\n",
    "                    style={\"aspect-ratio\": \"1.6\"},\n",
    "                    figure=figure,\n",
    "                ),\n",
    "                dcc.Textarea(id=\"function-call\", style={\"width\": \"100%\"}),\n",
    "            ],\n",
    "            style={\"flex\": 2, \"padding\": 10},\n",
    "        ),\n",
    "    ],\n",
    "    style=style | {\"padding\": 10, \"display\": \"flex\", \"flexDirection\": \"row\"},\n",
    ")\n",
    "\n",
    "\n",
    "@app.callback(\n",
    "    Output(\"choose-zone\", \"children\"),\n",
    "    Input(\"chosen-attributes\", \"value\"),\n",
    ")\n",
    "def update_chosen(chosen_attributes):\n",
    "    if chosen_attributes is None:\n",
    "        raise PreventUpdate\n",
    "    return get_selectivity(age_table, chosen_attributes, type=\"chosen\")\n",
    "\n",
    "\n",
    "@app.callback(\n",
    "    Output(\"line-plot\", \"figure\"),\n",
    "    Output(\"function-call\", \"value\"),\n",
    "    Input(\"groupby\", \"value\"),\n",
    "    Input(\"lower-bound\", \"value\"),\n",
    "    Input(\"title\", \"value\"),\n",
    "    Input(\"display-value\", \"value\"),\n",
    "    Input(\"markers-checkbox\", \"value\"),\n",
    "    Input({\"type\": \"chosen\", \"attr\": ALL}, \"value\"),\n",
    "    State({\"type\": \"chosen\", \"attr\": ALL}, \"id\"),\n",
    ")\n",
    "def update_figure(groupby, lower_bound,\n",
    "                  title,\n",
    "                  display_value, checkbox, chosen, chosen_id):\n",
    "\n",
    "    query = form_query(age_table, chosen, [a[\"attr\"] for a in chosen_id])\n",
    "    groupby = groupby if groupby != \"None\" else None\n",
    "    compute_values = [\"number\", \"category_percent\", \"filtered_percent\", \"age_percent\"]\n",
    "    display_value = compute_values[display_value]\n",
    "    figure = go.Figure()\n",
    "    try:\n",
    "        data = compute_age_based(age_table, query, groupby, filter_result=lower_bound)\n",
    "        figure = plot_age_based(data, groupby, title, display_value, len(checkbox) > 0)\n",
    "    except Exception as e:\n",
    "        figure.add_annotation(big_annotation(\"ERROR\", \"red\"))\n",
    "        print(e)\n",
    "\n",
    "    return [\n",
    "        figure,\n",
    "        f\"data = compute_age_based(age_table, {query=!r}, {groupby=!r}, filter_result={lower_bound!r})\\nfigure = plot_age_based(data, {groupby=!r}, {title=!r}, {display_value=!r}, markers={len(checkbox) > 0!r})\",\n",
    "    ]\n",
    "\n",
    "\n",
    "app.run_server(port=8053, use_reloader=True, debug=True)"
   ],
   "outputs": [],
   "execution_count": null
  },
  {
   "cell_type": "markdown",
   "metadata": {},
   "source": [
    "### Grouped plots"
   ],
   "id": "6f125fe061e74b59"
  },
  {
   "cell_type": "code",
   "id": "625cf91520ec628d",
   "metadata": {
    "id": "625cf91520ec628d"
   },
   "source": [
    "# %%script true # Skip\n",
    "\n",
    "app = Dash(__name__)\n",
    "\n",
    "figure = go.Figure()\n",
    "figure.add_annotation(big_annotation(\"START\", \"black\"))\n",
    "\n",
    "app.layout = html.Div(\n",
    "    [\n",
    "        html.Div(\n",
    "            [\n",
    "                html.H4(\"Enter title\"),\n",
    "                dcc.Input(\n",
    "                    id=\"title\", type=\"text\", persistence=True, style={\"width\": \"100%\"}\n",
    "                ),\n",
    "                html.H4(\"Select table\"),\n",
    "                dcc.Dropdown(\n",
    "                    id=\"table-index\",\n",
    "                    options=[\n",
    "                        {\"value\": v, \"label\": l} for v, l in enumerate(table_names)\n",
    "                    ],\n",
    "                    persistence=True,\n",
    "                ),\n",
    "                html.H4(\"Select groupby\"),\n",
    "                dcc.Dropdown(\n",
    "                    id=\"groupby\",\n",
    "                    persistence=True,\n",
    "                ),\n",
    "                html.H4(\"Select display value\"),\n",
    "                dcc.Dropdown(\n",
    "                    [\"number\", \"percent\"],\n",
    "                    \"number\",\n",
    "                    id=\"display-value\",\n",
    "                    persistence=True,\n",
    "                ),\n",
    "                html.H4(\"Select chosen/percented attributes\"),\n",
    "                dcc.Dropdown(\n",
    "                    id=\"chosen-attributes\",\n",
    "                    multi=True,\n",
    "                    persistence=True,\n",
    "                ),\n",
    "                html.H4(\"Select filter attributes\"),\n",
    "                dcc.Dropdown(\n",
    "                    id=\"filter-attributes\",\n",
    "                    multi=True,\n",
    "                    persistence=True,\n",
    "                ),\n",
    "                html.H4(\"Choose zone\"),\n",
    "                html.Div(id=\"choose-zone\"),\n",
    "                html.H4(\"Filter zone\"),\n",
    "                html.Div(id=\"filter-zone\"),\n",
    "            ],\n",
    "            style={\"flex\": 1, \"minWidth\": 400, \"padding\": 10},\n",
    "        ),\n",
    "        # html.Br(),\n",
    "        html.Div(\n",
    "            [\n",
    "                dcc.Graph(\n",
    "                    id=\"line-plot\",\n",
    "                    style={\"aspect-ratio\": \"1.6\"},\n",
    "                    figure=figure,\n",
    "                ),\n",
    "                dcc.Textarea(id=\"function-call\", style={\"width\": \"100%\"}),\n",
    "            ],\n",
    "            style={\"flex\": 2, \"padding\": 10},\n",
    "        ),\n",
    "    ],\n",
    "    style=style | {\"padding\": 10, \"display\": \"flex\", \"flexDirection\": \"row\"},\n",
    ")\n",
    "\n",
    "\n",
    "@app.callback(\n",
    "    Output(\"chosen-attributes\", \"options\"),\n",
    "    Output(\"filter-attributes\", \"options\"),\n",
    "    Output(\"groupby\", \"options\"),\n",
    "    Input(\"table-index\", \"value\"),\n",
    ")\n",
    "def update_attributes(table_index):\n",
    "    if table_index is None:\n",
    "        raise PreventUpdate\n",
    "    return [\n",
    "        {\n",
    "            column: f\"{interactive_tables[table_index][column].dtype}: {column}\"\n",
    "            for column in interactive_tables[table_index].columns\n",
    "        }\n",
    "    ] * 3\n",
    "\n",
    "\n",
    "# update filters and groupby\n",
    "@app.callback(\n",
    "    Output(\"choose-zone\", \"children\"),\n",
    "    Output(\"filter-zone\", \"children\"),\n",
    "    Input(\"chosen-attributes\", \"value\"),\n",
    "    Input(\"filter-attributes\", \"value\"),\n",
    "    State(\"table-index\", \"value\"),\n",
    ")\n",
    "def update_fg(chosen_attributes, filter_attributes, table_index):\n",
    "    if chosen_attributes is None or filter_attributes is None or table_index is None:\n",
    "        raise PreventUpdate\n",
    "    return [\n",
    "        get_selectivity(interactive_tables[table_index], chosen_attributes, type=\"chosen\"),\n",
    "        get_selectivity(interactive_tables[table_index], filter_attributes, type=\"filter\"),\n",
    "    ]\n",
    "\n",
    "\n",
    "@app.callback(\n",
    "    Output(\"line-plot\", \"figure\"),\n",
    "    Output(\"function-call\", \"value\"),\n",
    "    Input(\"title\", \"value\"),\n",
    "    Input(\"display-value\", \"value\"),\n",
    "    Input(\"groupby\", \"value\"),\n",
    "    Input({\"type\": \"chosen\", \"attr\": ALL}, \"value\"),\n",
    "    State({\"type\": \"chosen\", \"attr\": ALL}, \"id\"),\n",
    "    Input({\"type\": \"filter\", \"attr\": ALL}, \"value\"),\n",
    "    State({\"type\": \"filter\", \"attr\": ALL}, \"id\"),\n",
    "    State(\"table-index\", \"value\"),\n",
    ")\n",
    "def update_figure(\n",
    "        title,\n",
    "        display_value,\n",
    "        groupby,\n",
    "        chosen,\n",
    "        chosen_id,\n",
    "        filter,\n",
    "        filter_id,\n",
    "        table_index,\n",
    "):\n",
    "    if display_value is None or groupby is None or table_index is None:\n",
    "        raise PreventUpdate\n",
    "\n",
    "    data = interactive_tables[table_index]\n",
    "    chosen_query = form_query(data, chosen, [a[\"attr\"] for a in chosen_id])\n",
    "    filter_query = form_query(data, filter, [a[\"attr\"] for a in filter_id])\n",
    "    figure = go.Figure()\n",
    "    try:\n",
    "        data = compute_groups(data, groupby, chosen_query, filter_query)\n",
    "        figure: go.Figure = plot_groups(data, groupby, display_value, title)\n",
    "    except Exception as e:\n",
    "        figure.add_annotation(big_annotation(\"ERROR\", \"red\"))\n",
    "        print(e)\n",
    "    return [\n",
    "        figure,\n",
    "        f\"data = compute_groups({table_names[table_index]!r}, {groupby=!r}, {chosen_query=!r}, {filter_query=!r})\\nfigure = plot_groups(data, {groupby=!r}, value={display_value!r}, {title=!r})\",\n",
    "    ]\n",
    "\n",
    "\n",
    "app.run_server(port=8054, debug=True, use_reloader=True)"
   ],
   "outputs": [],
   "execution_count": null
  }
 ],
 "metadata": {
  "colab": {
   "provenance": []
  },
  "kernelspec": {
   "display_name": "Python 3 (ipykernel)",
   "language": "python",
   "name": "python3"
  },
  "language_info": {
   "codemirror_mode": {
    "name": "ipython",
    "version": 3
   },
   "file_extension": ".py",
   "mimetype": "text/x-python",
   "name": "python",
   "nbconvert_exporter": "python",
   "pygments_lexer": "ipython3",
   "version": "3.11.8"
  }
 },
 "nbformat": 4,
 "nbformat_minor": 5
}
