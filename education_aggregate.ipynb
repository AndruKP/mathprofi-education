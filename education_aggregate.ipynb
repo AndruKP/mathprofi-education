{
  "cells": [
    {
      "cell_type": "markdown",
      "id": "5dac3013379a3fda",
      "metadata": {
        "id": "5dac3013379a3fda"
      },
      "source": [
        "# Education in Slovakia"
      ]
    },
    {
      "cell_type": "markdown",
      "id": "db5d41b1b5317160",
      "metadata": {
        "id": "db5d41b1b5317160"
      },
      "source": [
        "## Import packages"
      ]
    },
    {
      "cell_type": "code",
      "source": [
        "%cd mathprofi-education"
      ],
      "metadata": {
        "id": "VEJ-NiPnlMyN"
      },
      "id": "VEJ-NiPnlMyN",
      "execution_count": null,
      "outputs": []
    },
    {
      "cell_type": "code",
      "execution_count": null,
      "id": "fad372db806002f2",
      "metadata": {
        "id": "fad372db806002f2"
      },
      "outputs": [],
      "source": [
        "import numpy as np\n",
        "\n",
        "import pandas as pd\n",
        "import geopandas as gpd\n",
        "\n",
        "import matplotlib.pyplot as plt\n",
        "import matplotlib.patches as mpatches\n",
        "import seaborn as sns\n",
        "from dash import Dash, dcc, html, Input, Output\n",
        "import plotly.express as px\n",
        "import plotly.graph_objects as go\n",
        "\n",
        "from IPython.display import display, Markdown\n",
        "\n",
        "import preprocessing\n",
        "from isco_occupation import OCCUPATION_ISCO_MAP\n",
        "from categorize_education import EDUCATION_CATEGORY_MAP\n",
        "from economic_sectors import ECONOMIC_SECTORS_MAP\n",
        "\n",
        "import os\n",
        "import warnings\n",
        "# TODO: uncomment before publishing\n",
        "#warnings.filterwarnings('ignore')"
      ]
    },
    {
      "cell_type": "markdown",
      "id": "26225773d40d854",
      "metadata": {
        "id": "26225773d40d854"
      },
      "source": [
        "## Import data"
      ]
    },
    {
      "cell_type": "code",
      "execution_count": null,
      "id": "3ac1ae88bd93be4",
      "metadata": {
        "id": "3ac1ae88bd93be4"
      },
      "outputs": [],
      "source": [
        "#TODO: change links before publishing\n",
        "#data_root = 'https://raw.githubusercontent.com/AndruKP/mathprofi-education/dev/data'\n",
        "data_root = './data'\n",
        "url_010_SR = data_root + '/RV_O_010_R_SR_SK.CSV'\n",
        "url_040_SR = data_root + '/RV_O_040_R_SR_SK.CSV'\n",
        "url_040_OK = data_root + '/RV_O_040_L_OK_SK.CSV'\n",
        "url_047_SR = data_root + '/RV_O_047_R_SR_SK.CSV'\n",
        "url_047_OK = data_root + '/RV_O_047_L_OK_SK.CSV'\n",
        "url_067_SR = data_root + '/RV_O_067_R_SR_SK.CSV'\n",
        "url_067_KR = data_root + '/RV_O_067_R_KR_SK.CSV'\n",
        "\n",
        "districts_url = 'https://bbrejova.github.io/viz/data/districts.json'"
      ]
    },
    {
      "cell_type": "code",
      "execution_count": null,
      "id": "f9bdace03ee78452",
      "metadata": {
        "id": "f9bdace03ee78452"
      },
      "outputs": [],
      "source": [
        "table_010_SR = pd.read_csv(url_010_SR, sep=';')\n",
        "table_040_SR = pd.read_csv(url_040_SR, sep=';')\n",
        "table_040_OK = pd.read_csv(url_040_OK, sep=';')\n",
        "table_047_SR = pd.read_csv(url_047_SR, sep=';')\n",
        "table_047_OK = pd.read_csv(url_047_OK, sep=';')\n",
        "table_067_SR = pd.read_csv(url_067_SR, sep=';')\n",
        "table_067_KR = pd.read_csv(url_067_KR, sep=';')\n",
        "\n",
        "districts_table = gpd.read_file(districts_url)\n",
        "\n",
        "display(table_010_SR.head())\n",
        "display(table_040_SR.head())\n",
        "display(table_040_OK.head())\n",
        "display(table_047_SR.head())\n",
        "display(table_047_OK.head())\n",
        "display(table_067_SR.head())\n",
        "display(table_067_KR.head())\n",
        "\n",
        "display(districts_table.head())"
      ]
    },
    {
      "cell_type": "markdown",
      "id": "93b2a78cc418976c",
      "metadata": {
        "id": "93b2a78cc418976c"
      },
      "source": [
        "## Preprocess data"
      ]
    },
    {
      "cell_type": "code",
      "execution_count": null,
      "id": "937be134363e0443",
      "metadata": {
        "id": "937be134363e0443"
      },
      "outputs": [],
      "source": [
        "# TODO: aggregate all preprocessing functions into one\n",
        "\n",
        "table_010_SR = preprocessing.rename_columns(preprocessing.translate_sex(table_010_SR))\n",
        "table_040_OK = preprocessing.rename_columns(preprocessing.translate_sex(table_040_OK))\n",
        "table_040_SR = preprocessing.rename_columns(preprocessing.translate_sex(table_040_SR))\n",
        "table_047_OK = preprocessing.rename_columns(preprocessing.translate_sex(table_047_OK))\n",
        "table_047_SR = preprocessing.rename_columns(preprocessing.translate_sex(table_047_SR))\n",
        "table_067_SR = preprocessing.rename_columns(preprocessing.translate_sex(table_067_SR))\n",
        "table_067_KR = preprocessing.rename_columns(preprocessing.translate_sex(table_067_KR))\n",
        "tables = [table_010_SR, table_040_OK, table_040_SR, table_047_OK, table_047_SR, table_047_SR,table_067_SR]\n",
        "for table in tables:\n",
        "    if 'age' in table.columns:\n",
        "        table[\"age\"] = pd.to_numeric(table[\"age\"].replace({\"90 a viac rokov\": \"90\"}))\n",
        "    if 'education' in table.columns:\n",
        "        table['education_category'] = table['education'].map(EDUCATION_CATEGORY_MAP)\n",
        "    if 'ISCO_occupation' in table.columns:\n",
        "        table['ISCO_group'] = table['ISCO_occupation'].map(OCCUPATION_ISCO_MAP)\n",
        "\n",
        "display('table_010_SR:')\n",
        "display(table_010_SR.head())\n",
        "display('table_040_SR:')\n",
        "display(table_040_SR.head())\n",
        "display('table_040_OK:')\n",
        "display(table_040_OK.head())\n",
        "display('table_047_SR:')\n",
        "display(table_047_SR.head())\n",
        "display('table_047_OK:')\n",
        "display(table_047_OK.head())\n",
        "display('table_067_SR:')\n",
        "display(table_067_SR.head())\n",
        "display('table_067_KR:')\n",
        "display(table_067_KR.head())"
      ]
    },
    {
      "cell_type": "markdown",
      "id": "78089101c1d9fc60",
      "metadata": {
        "id": "78089101c1d9fc60"
      },
      "source": [
        "## Basic demographic analysis"
      ]
    },
    {
      "cell_type": "markdown",
      "id": "a0b8a55b6a9c8129",
      "metadata": {
        "id": "a0b8a55b6a9c8129"
      },
      "source": [
        "### Population pyramid"
      ]
    },
    {
      "cell_type": "code",
      "execution_count": null,
      "id": "66b1b582ee54c5f1",
      "metadata": {
        "id": "66b1b582ee54c5f1"
      },
      "outputs": [],
      "source": [
        "grouped_by_sex_age = table_040_SR.groupby(['sex', 'age'])['count'].sum()\n",
        "women_counts = grouped_by_sex_age.loc['female']\n",
        "men_counts = grouped_by_sex_age.loc['male']\n",
        "\n",
        "min_counts = np.minimum(men_counts, women_counts)"
      ]
    },
    {
      "cell_type": "code",
      "execution_count": null,
      "id": "87a9235f281f28c",
      "metadata": {
        "id": "87a9235f281f28c"
      },
      "outputs": [],
      "source": [
        "# TODO: legend and beauty\n",
        "figure, axes = plt.subplots(figsize=(10, 10))\n",
        "colors_ = sns.color_palette(\"Paired\")\n",
        "\n",
        "# Surplus\n",
        "women_surplus_graph = sns.histplot(y=women_counts.index, weights=women_counts, binwidth=1, color=colors_[5], ax=axes,\n",
        "                                   label='women_s')\n",
        "men_surplus_graph = sns.histplot(y=men_counts.index, weights=-1 * men_counts, binwidth=1, color=colors_[1], ax=axes,\n",
        "                                 label='men_s')\n",
        "\n",
        "# Population\n",
        "women_pop_graph = sns.histplot(y=min_counts.index, weights=min_counts, binwidth=1, color=colors_[4], ax=axes,\n",
        "                               label='women')\n",
        "men_pop_graph = sns.histplot(y=min_counts.index, weights=-1 * min_counts, binwidth=1, color=colors_[0], ax=axes,\n",
        "                             label='men')\n",
        "\n",
        "plt.title('Population pyramid')\n",
        "plt.ylabel('Age')\n",
        "plt.xticks([-40000, -20000, 0, 20000, 40000], labels=['40000', '20000', '0', '20000', '40000'])\n",
        "\n",
        "men_pop_patch = mpatches.Patch(color=colors_[0], label='Men population')\n",
        "men_surplus_patch = mpatches.Patch(color=colors_[1], label='Men surplus')\n",
        "women_pop_patch = mpatches.Patch(color=colors_[4], label='Women population')\n",
        "women_surplus_patch = mpatches.Patch(color=colors_[5], label='Women surplus')\n",
        "\n",
        "axes.legend(handles=[women_surplus_patch, women_pop_patch, men_surplus_patch, men_pop_patch])\n",
        "pass"
      ]
    },
    {
      "cell_type": "markdown",
      "id": "b544505deb0d7f63",
      "metadata": {
        "id": "b544505deb0d7f63"
      },
      "source": [
        "## Education analysis"
      ]
    },
    {
      "cell_type": "markdown",
      "id": "7eae0addc100a7d1",
      "metadata": {
        "id": "7eae0addc100a7d1"
      },
      "source": [
        "### Education specialization"
      ]
    },
    {
      "cell_type": "code",
      "execution_count": null,
      "id": "da4d6da4",
      "metadata": {
        "id": "da4d6da4"
      },
      "outputs": [],
      "source": [
        "education_series = table_010_SR.query('`education_category` != \"unspecified\"').groupby('education_category')['count'].sum()\n",
        "\n",
        "counts_df = pd.DataFrame({'education_category': education_series.index,\n",
        "                          'count': education_series.values})"
      ]
    },
    {
      "cell_type": "code",
      "execution_count": null,
      "id": "ff52561d474b8ac7",
      "metadata": {
        "id": "ff52561d474b8ac7"
      },
      "outputs": [],
      "source": [
        "# TODO: beauty\n",
        "figure, axes = plt.subplots(figsize=(10, 10))\n",
        "sns.barplot(data=counts_df, x='education_category', y='count', color=sns.color_palette(as_cmap=True)[0], order=['primary', 'secondary', 'higher', 'without'], ax=axes)\n",
        "\n",
        "axes.semilogy()\n",
        "axes.set_xlabel('Achieved education')\n",
        "axes.set_ylabel('Count')\n",
        "\n",
        "plt.title('The number of people by achieved education (y-axis is logarithmic)')\n",
        "plt.show()"
      ]
    },
    {
      "cell_type": "markdown",
      "id": "fdba788c2dc6f1f5",
      "metadata": {
        "id": "fdba788c2dc6f1f5"
      },
      "source": [
        "### Geographic specialization of education"
      ]
    },
    {
      "cell_type": "code",
      "execution_count": null,
      "id": "dfc80ba9c86e49d4",
      "metadata": {
        "ExecuteTime": {
          "end_time": "2024-05-04T22:24:02.435719Z",
          "start_time": "2024-05-04T22:24:02.431382Z"
        },
        "id": "dfc80ba9c86e49d4"
      },
      "outputs": [],
      "source": [
        "# TODO: Kolya's graphs\n",
        "from os.path import join\n",
        "\n",
        "data_path = \"data\"\n",
        "\n",
        "districts_url = join(data_path, \"districts.json\")\n",
        "districts = gpd.read_file(districts_url)\n",
        "districts_geojson_url = join(data_path, \"districts.geojson\")\n",
        "districts_geojson = gpd.read_file(districts_geojson_url, crs=\"EPSG:4326\")\n",
        "\n",
        "districts_geojson_indexed = districts_geojson.set_index(\"IDN3\")\n",
        "districts_indexed = districts.set_index(\"IDN3\")\n",
        "districts_indexed[[\"geometry\", \"Area\", \"AreaHA\"]] = districts_geojson_indexed[\n",
        "    [\"geometry\", \"Shape_Area\", \"VYMERA_ha\"]\n",
        "]\n",
        "geo_frame = districts_indexed"
      ]
    },
    {
      "cell_type": "code",
      "execution_count": null,
      "id": "2d161d5611dcd793",
      "metadata": {
        "id": "2d161d5611dcd793"
      },
      "outputs": [],
      "source": [
        "# dash_geo functions\n",
        "def compute_groups(data, groupby, chosen_query=\"\", filter_query=\"\"):\n",
        "    if filter_query != \"\":\n",
        "        data = data.query(filter_query)\n",
        "    if chosen_query != \"\":\n",
        "        selected = data.query(chosen_query)\n",
        "    else:\n",
        "        selected = data\n",
        "    aggregated = (\n",
        "        selected.groupby(groupby, observed=True)[\"count\"]\n",
        "        .sum()\n",
        "        .rename(\"number\")\n",
        "        .to_frame()\n",
        "    )\n",
        "    aggregated[\"number_percent\"] = aggregated[\"number\"] / selected[\"count\"].sum() * 100\n",
        "    aggregated[\"total\"] = data.groupby(groupby, observed=True)[\"count\"].sum()\n",
        "    aggregated[\"percent\"] = aggregated[\"number\"] / aggregated[\"total\"] * 100\n",
        "    aggregated = aggregated.reset_index()\n",
        "    return aggregated\n",
        "\n",
        "\n",
        "def plot_groups(data, groupby, value, title=\"\"):\n",
        "    figure = None\n",
        "    if groupby not in [\"NUTS2_CODE\", \"NUTS3_CODE\", \"LAU1_CODE\"]:\n",
        "        data = data.sort_values(by=value, ascending=False)\n",
        "        if value == \"percent\":\n",
        "            figure = px.bar(\n",
        "                data,\n",
        "                y=groupby,\n",
        "                color=groupby,\n",
        "                x=\"percent\",\n",
        "                orientation=\"h\",\n",
        "                hover_data=[\"number\", \"percent\"],\n",
        "            )\n",
        "        elif value == \"number\":\n",
        "            figure = px.treemap(\n",
        "                data,\n",
        "                path=[px.Constant(\"all\"), groupby],\n",
        "                values=\"number\",\n",
        "                hover_data=[\"number\", \"number_percent\"],\n",
        "            )\n",
        "    else:\n",
        "        merged = geo_frame.merge(data, on=groupby)\n",
        "        figure = px.choropleth_mapbox(\n",
        "            data_frame=merged,\n",
        "            geojson=merged.geometry,\n",
        "            locations=merged.index,\n",
        "            color=value,\n",
        "            mapbox_style=\"carto-positron\",\n",
        "            center={\"lat\": 48.6737532, \"lon\": 19.696058},\n",
        "            zoom=6,\n",
        "            opacity=0.5,\n",
        "            hover_data=[\"LAU1\", \"number\", \"percent\", \"AreaHA\"],\n",
        "        )\n",
        "    figure.update_layout(title=title)\n",
        "    return figure"
      ]
    },
    {
      "cell_type": "markdown",
      "id": "4946f1d890380044",
      "metadata": {
        "id": "4946f1d890380044"
      },
      "source": [
        "#### Where are people in Slovakia?'"
      ]
    },
    {
      "cell_type": "code",
      "execution_count": null,
      "id": "91af11b48b1f2619",
      "metadata": {
        "id": "91af11b48b1f2619"
      },
      "outputs": [],
      "source": [
        "data = compute_groups(table_040_OK, groupby=\"LAU1_CODE\")\n",
        "figure = plot_groups(data, groupby=\"LAU1_CODE\", value=\"number\")\n",
        "figure.update_layout(\n",
        "    coloraxis_colorbar=dict(title='Number of people'),\n",
        ")\n",
        "figure.show()"
      ]
    },
    {
      "cell_type": "markdown",
      "id": "e671f560df993c26",
      "metadata": {
        "id": "e671f560df993c26"
      },
      "source": [
        "That will help us to understand the following data\n",
        "#### Where is the largest number of people with a degree?"
      ]
    },
    {
      "cell_type": "code",
      "execution_count": null,
      "id": "bc2fd1f1fb570e84",
      "metadata": {
        "id": "bc2fd1f1fb570e84"
      },
      "outputs": [],
      "source": [
        "data = compute_groups(table_040_OK, groupby=\"LAU1_CODE\", chosen_query=\"`education_category`.isin(['higher'])\")\n",
        "figure = plot_groups(data, groupby=\"LAU1_CODE\", value=\"number\", title=\"Number of people achieved higher education\")\n",
        "figure.show()"
      ]
    },
    {
      "cell_type": "markdown",
      "id": "6266cd209605290b",
      "metadata": {
        "id": "6266cd209605290b"
      },
      "source": [
        "So after all it is just about the big cities  \n",
        "#### Where is the largest *percent* of people with a degree?"
      ]
    },
    {
      "cell_type": "code",
      "execution_count": null,
      "id": "5b6f5250b3d16f1a",
      "metadata": {
        "id": "5b6f5250b3d16f1a"
      },
      "outputs": [],
      "source": [
        "figure = plot_groups(data, groupby=\"LAU1_CODE\", value=\"percent\", title=\"Percent of people achieved higher education\")\n",
        "figure.show()"
      ]
    },
    {
      "cell_type": "markdown",
      "id": "d0c4f26ba8cac882",
      "metadata": {
        "id": "d0c4f26ba8cac882"
      },
      "source": [
        "Now if we were to be aliens we would be assured it is more to Bratislava and Košice than we thought before\n",
        "#### Where is the largest number of students?"
      ]
    },
    {
      "cell_type": "code",
      "execution_count": null,
      "id": "a5c61810bf1cc24a",
      "metadata": {
        "id": "a5c61810bf1cc24a"
      },
      "outputs": [],
      "source": [
        "data = compute_groups(table_040_OK, groupby='LAU1_CODE', chosen_query=\"`current_economic_activity`.isin(['študent vysokej školy'])\")\n",
        "figure = plot_groups(data, groupby='LAU1_CODE', value='number')\n",
        "figure.show()"
      ]
    },
    {
      "cell_type": "markdown",
      "id": "ffb1964c71ac129a",
      "metadata": {
        "id": "ffb1964c71ac129a"
      },
      "source": [
        "Same story here\n",
        "#### Percent?"
      ]
    },
    {
      "cell_type": "code",
      "execution_count": null,
      "id": "4e058eb0a45ac4fe",
      "metadata": {
        "id": "4e058eb0a45ac4fe"
      },
      "outputs": [],
      "source": [
        "figure = plot_groups(data, groupby='LAU1_CODE', value='percent')\n",
        "figure.show()"
      ]
    },
    {
      "cell_type": "markdown",
      "id": "5a42c694c2522023",
      "metadata": {
        "id": "5a42c694c2522023"
      },
      "source": [
        "Interesting\n",
        "#### Where is the largest percent of people continuing their education among people after 22"
      ]
    },
    {
      "cell_type": "code",
      "execution_count": null,
      "id": "1bbdcf904e58826f",
      "metadata": {
        "id": "1bbdcf904e58826f"
      },
      "outputs": [],
      "source": [
        "data = compute_groups(table_040_OK, groupby='LAU1_CODE', chosen_query=\"`education_category`.isin(['higher']) and `current_economic_activity`.isin(['študent vysokej školy'])\", filter_query='22 <= `age` < 91')\n",
        "figure = plot_groups(data, groupby='LAU1_CODE', value='percent')\n",
        "figure.show()"
      ]
    },
    {
      "cell_type": "markdown",
      "id": "ad84983fa8b48ab2",
      "metadata": {
        "id": "ad84983fa8b48ab2"
      },
      "source": [
        "#### Where degree means less?  \n",
        "Where your diploma with some chance won't give you a desired *type* of job?  \n",
        "It depends on what you want. If you thinking first three ISCO major groups then here you are"
      ]
    },
    {
      "cell_type": "code",
      "execution_count": null,
      "id": "42e2a6c444a627c3",
      "metadata": {
        "id": "42e2a6c444a627c3"
      },
      "outputs": [],
      "source": [
        "data = compute_groups(table_047_OK, groupby='LAU1_CODE', chosen_query=\"`education_category`.isin(['higher']) and `ISCO_group`.isin(['Craft and related trades workers', 'Elementary occupations', 'Plant and machine operators and assemblers', 'Skilled agricultural and fishery workers', 'Armed forces', 'Service workers and shop and market sales workers', 'Clerks'])\", filter_query='')\n",
        "figure = plot_groups(data, groupby='LAU1_CODE', value='percent', title='Percent of people with higher education working on a simple job')\n",
        "figure.show()"
      ]
    },
    {
      "cell_type": "markdown",
      "id": "84ca479e89edfa58",
      "metadata": {
        "id": "84ca479e89edfa58"
      },
      "source": [
        "If working as a clerk suits you"
      ]
    },
    {
      "cell_type": "code",
      "execution_count": null,
      "id": "7880c6d693da6038",
      "metadata": {
        "id": "7880c6d693da6038"
      },
      "outputs": [],
      "source": [
        "data = compute_groups(table_047_OK, groupby='LAU1_CODE', chosen_query=\"`education_category`.isin(['higher']) and `ISCO_group`.isin(['Craft and related trades workers', 'Elementary occupations', 'Plant and machine operators and assemblers', 'Skilled agricultural and fishery workers', 'Armed forces', 'Service workers and shop and market sales workers'])\", filter_query='')\n",
        "figure = plot_groups(data, groupby='LAU1_CODE', value='percent', title='Percent of people with higher education working on a simple job')\n",
        "figure.show()"
      ]
    },
    {
      "cell_type": "markdown",
      "id": "44f731b34cb2bd9f",
      "metadata": {
        "id": "44f731b34cb2bd9f"
      },
      "source": [
        "If job as a service worker or shop and market sales worker works for you as well"
      ]
    },
    {
      "cell_type": "code",
      "execution_count": null,
      "id": "413fc5bc08cb50f5",
      "metadata": {
        "id": "413fc5bc08cb50f5"
      },
      "outputs": [],
      "source": [
        "data = compute_groups(table_047_OK, groupby='LAU1_CODE', chosen_query=\"`education_category`.isin(['higher']) and `ISCO_group`.isin(['Craft and related trades workers', 'Elementary occupations', 'Plant and machine operators and assemblers', 'Skilled agricultural and fishery workers', 'Armed forces'])\", filter_query='')\n",
        "figure = plot_groups(data, groupby='LAU1_CODE', value='percent', title='Percent of people with higher education working on a simple job')\n",
        "figure.show()"
      ]
    },
    {
      "cell_type": "markdown",
      "id": "f31081dfd360c889",
      "metadata": {
        "id": "f31081dfd360c889"
      },
      "source": [
        "At this point it is not so bad. Let's look at something different.  \n",
        "#### What percent of people with higher education works in occupation group, in which 60% of workers do not have higher education?"
      ]
    },
    {
      "cell_type": "code",
      "execution_count": null,
      "id": "70ba3459b8b1e5be",
      "metadata": {
        "id": "70ba3459b8b1e5be"
      },
      "outputs": [],
      "source": [
        "data = compute_groups(table_047_OK, groupby='LAU1_CODE', chosen_query=\"`ISCO_group`.isin(['Armed forces', 'Clerks', 'Craft and related trades workers', 'Elementary occupations', 'Plant and machine operators and assemblers', 'Service workers and shop and market sales workers', 'Skilled agricultural and fishery workers', 'Technicians and associate professionals'])\", filter_query=\"`education_category`.isin(['higher'])\")\n",
        "figure = plot_groups(data, groupby='LAU1_CODE', value='percent', title='Percent of people working on simple job among people with a degree')\n",
        "figure.show()"
      ]
    },
    {
      "cell_type": "markdown",
      "id": "519ef3027dcac0c5",
      "metadata": {
        "id": "519ef3027dcac0c5"
      },
      "source": [
        "### Gender specialization of education"
      ]
    },
    {
      "cell_type": "markdown",
      "id": "1722de847089b0e9",
      "metadata": {
        "id": "1722de847089b0e9"
      },
      "source": [
        "#### Gender distribution of education by gender"
      ]
    },
    {
      "cell_type": "code",
      "source": [
        "table_047_SR"
      ],
      "metadata": {
        "id": "vvp51iXbDfKZ"
      },
      "id": "vvp51iXbDfKZ",
      "execution_count": null,
      "outputs": []
    },
    {
      "cell_type": "code",
      "execution_count": null,
      "id": "ce2e342016e5dd49",
      "metadata": {
        "id": "ce2e342016e5dd49"
      },
      "outputs": [],
      "source": [
        "education_by_sex = table_047_SR.groupby(['sex', 'education'])['count'].sum()\n",
        "education_by_sex = education_by_sex.reset_index()\n",
        "education_by_sex.sort_values(by='count', ascending=False, inplace=True)"
      ]
    },
    {
      "cell_type": "code",
      "execution_count": null,
      "id": "43ff4099093c9a24",
      "metadata": {
        "id": "43ff4099093c9a24"
      },
      "outputs": [],
      "source": [
        "# TODO: beauty\n",
        "figure, axes = plt.subplots(figsize=(10, 10))\n",
        "\n",
        "sns.barplot(data=education_by_sex, y=\"education\", x=\"count\", hue=\"sex\", ax=axes)\n",
        "\n",
        "axes.set_xlabel('Count')\n",
        "axes.set_ylabel('Education')\n",
        "axes.set_title('Distribution of education')\n",
        "pass"
      ]
    },
    {
      "cell_type": "markdown",
      "id": "f431fac6c68d2f05",
      "metadata": {
        "id": "f431fac6c68d2f05"
      },
      "source": [
        "#### When the higher education began to open to women in Slovakia"
      ]
    },
    {
      "cell_type": "code",
      "execution_count": null,
      "id": "386fb507930c69e4",
      "metadata": {
        "id": "386fb507930c69e4"
      },
      "outputs": [],
      "source": [
        "# dash_age functions\n",
        "def compute_age_based(data, query, groupby=None, filter_result=None):\n",
        "    if query != \"\":\n",
        "        chosen = data.query(query)\n",
        "    else:\n",
        "        chosen = data\n",
        "    if groupby is None:\n",
        "        aggregated =     chosen.groupby(['age'])['count'].sum().reset_index(name='number')\n",
        "        total_category = chosen                 ['count'].sum()\n",
        "        total_unfiltered = data.groupby(['age'])['count'].sum().rename('total_unfiltered')\n",
        "        total_age =      chosen.groupby(['age'])['count'].sum().rename('total_age') # Makes no sense, always 100%\n",
        "        aggregated = pd.merge(aggregated, total_unfiltered, on=['age'], how='left')\n",
        "        aggregated = pd.merge(aggregated, total_age,        on=['age'], how='left')\n",
        "        aggregated['category_percent'] = aggregated['number'] / total_category * 100\n",
        "        aggregated['filtered_percent'] = aggregated['number'] / aggregated['total_unfiltered'] * 100\n",
        "        aggregated['age_percent'] =      aggregated['number'] / aggregated['total_age'] * 100\n",
        "    else:\n",
        "        aggregated =     chosen.groupby(['age', groupby])['count'].sum().reset_index(name='number')\n",
        "        total_category = chosen.groupby([       groupby])['count'].sum().rename('total_category')\n",
        "        total_unfiltered = data.groupby(['age', groupby])['count'].sum().rename('total_unfiltered')\n",
        "        total_age =      chosen.groupby(['age'         ])['count'].sum().rename('total_age')\n",
        "        aggregated = pd.merge(aggregated, total_category,   on=[       groupby], how='left')\n",
        "        aggregated = pd.merge(aggregated, total_unfiltered, on=['age', groupby], how='left')\n",
        "        aggregated = pd.merge(aggregated, total_age,        on=['age',        ], how='left')\n",
        "        aggregated['category_percent'] = aggregated['number'] / aggregated['total_category'] * 100\n",
        "        aggregated['filtered_percent'] = aggregated['number'] / aggregated['total_unfiltered'] * 100\n",
        "        aggregated['age_percent'] =      aggregated['number'] / aggregated['total_age'] * 100\n",
        "    if filter_result is not None and filter_result > 0:\n",
        "        aggregated = aggregated[aggregated['number'] >= filter_result]\n",
        "    return aggregated\n",
        "\n",
        "\n",
        "def plot_age_based(\n",
        "    data,\n",
        "    groupby=None,\n",
        "    title=\"\",\n",
        "    display_value=\"number\",\n",
        "    markers=False,\n",
        "):\n",
        "    figure = px.line(\n",
        "        data, x=\"age\", y=display_value, color=groupby, hover_data=[\"number\"]\n",
        "    )\n",
        "    figure.update_layout(xaxis_title=\"Age\", title=title)\n",
        "    if display_value == 0:\n",
        "        figure.update_layout(yaxis_title=\"Number of people\")\n",
        "    else:\n",
        "        figure.update_layout(yaxis_title=\"Percent of people\")\n",
        "    figure.update_traces(\n",
        "        mode=\"lines\" + (\"+markers\" if markers else \"\"),\n",
        "        connectgaps=True,\n",
        "    )\n",
        "    return figure"
      ]
    },
    {
      "cell_type": "code",
      "execution_count": null,
      "id": "5de9f96c2891a08",
      "metadata": {
        "id": "5de9f96c2891a08"
      },
      "outputs": [],
      "source": [
        "# TODO: fix colors\n",
        "data = compute_age_based(table_040_SR, query=\"`education_category`.isin(['higher']) and 0 <= `age` < 91\", groupby='sex', filter_result=1)\n",
        "figure = plot_age_based(data, groupby='sex', title='Percent of people with a degree', display_value='filtered_percent', markers=False)\n",
        "figure.show()"
      ]
    },
    {
      "cell_type": "markdown",
      "id": "1ca79c6c8571ef77",
      "metadata": {
        "id": "1ca79c6c8571ef77"
      },
      "source": [
        "Women started to getting higher education on the same level as man only about (60 - 18) = 42 years ago, so in year around 1970"
      ]
    },
    {
      "cell_type": "code",
      "execution_count": null,
      "id": "e733670955cdf74e",
      "metadata": {
        "id": "e733670955cdf74e"
      },
      "outputs": [],
      "source": [
        "data = compute_age_based(table_040_OK, query=\"18 <= `age` < 90 and `education_category`.isin(['primary', 'without'])\", groupby='sex', filter_result=1)\n",
        "figure = plot_age_based(data, groupby='sex', title='Percent of people with primary education or without', display_value='filtered_percent', markers=False)\n",
        "figure.show()"
      ]
    },
    {
      "cell_type": "markdown",
      "id": "324345cc36b8b918",
      "metadata": {
        "id": "324345cc36b8b918"
      },
      "source": [
        "### Adult illiteracy"
      ]
    },
    {
      "cell_type": "markdown",
      "id": "266fafb5568d9e9d",
      "metadata": {
        "id": "266fafb5568d9e9d"
      },
      "source": [
        "#### Geographic aspect of illiteracy"
      ]
    },
    {
      "cell_type": "code",
      "execution_count": null,
      "id": "9f06ff36067d8b17",
      "metadata": {
        "id": "9f06ff36067d8b17"
      },
      "outputs": [],
      "source": [
        "#TODO: maybe we should add primary (age > threshold = 18) as well?"
      ]
    },
    {
      "cell_type": "code",
      "execution_count": null,
      "id": "5e8ea3e27ce92541",
      "metadata": {
        "id": "5e8ea3e27ce92541"
      },
      "outputs": [],
      "source": [
        "districts_illiteracy = districts_table.set_index('LAU1_CODE')\n",
        "\n",
        "table_OK_population = table_040_OK.groupby('LAU1_CODE')['count'].sum()\n",
        "\n",
        "# TODO: uneducated filter applies twice -- introduce func\n",
        "table_OK_uneducated = (table_040_OK\n",
        "                       .query(\n",
        "    'education == \"bez školského vzdelania – osoby vo veku 15 rokov a viac\" & current_economic_activity != \"žiak základnej školy\"')\n",
        "                       .groupby(['LAU1_CODE'])['count']\n",
        "                       .sum())\n",
        "\n",
        "table_uneducated_percent = 100 * (table_OK_uneducated / table_OK_population)\n",
        "\n",
        "geotable_uneducated = gpd.GeoDataFrame(table_OK_uneducated, geometry=districts_illiteracy['geometry'])\n",
        "geotable_uneducated_percent = gpd.GeoDataFrame(table_uneducated_percent, geometry=districts_illiteracy['geometry'])\n",
        "\n",
        "display(table_OK_population.head(2))\n",
        "display(geotable_uneducated.head(2))\n",
        "display(geotable_uneducated_percent.head(2))"
      ]
    },
    {
      "cell_type": "code",
      "execution_count": null,
      "id": "428bf94ff8e062dd",
      "metadata": {
        "id": "428bf94ff8e062dd"
      },
      "outputs": [],
      "source": [
        "# TODO: beauty\n",
        "plot = geotable_uneducated.plot(column='count', legend=True, legend_kwds={\"orientation\": \"horizontal\"},\n",
        "                                cmap=sns.color_palette(\"flare\", as_cmap=True))\n",
        "plot.set_title(\"Number of people without education\")\n",
        "plot.set_axis_off()\n",
        "\n",
        "plot = geotable_uneducated_percent.plot(column='count', legend=True, legend_kwds={\"orientation\": \"horizontal\"},\n",
        "                                        cmap=sns.color_palette(\"flare\", as_cmap=True))\n",
        "plot.set_title(\"Percent of people without education\")\n",
        "plot.set_axis_off()"
      ]
    },
    {
      "cell_type": "code",
      "execution_count": null,
      "id": "48f52cef09bc7664",
      "metadata": {
        "id": "48f52cef09bc7664"
      },
      "outputs": [],
      "source": [
        "#TODO: add description and map about Romani people"
      ]
    },
    {
      "cell_type": "markdown",
      "id": "f3e385a52ae55c3f",
      "metadata": {
        "id": "f3e385a52ae55c3f"
      },
      "source": [
        "#### Employment of uneducated people"
      ]
    },
    {
      "cell_type": "code",
      "execution_count": null,
      "id": "8eb393723849758f",
      "metadata": {
        "id": "8eb393723849758f"
      },
      "outputs": [],
      "source": [
        "table_uneducated_by_isco = (table_067_SR\n",
        "                            .query(\"education == 'bez školského vzdelania – osoby vo veku 15 rokov a viac'\")\n",
        "                            .groupby('ISCO_occupation')['count']\n",
        "                            .sum()\n",
        "                            .sort_values(ascending=False)\n",
        "                            .reset_index())\n",
        "\n",
        "unknown_occupation_count = table_uneducated_by_isco.query('ISCO_occupation == \"nezistené\"')['count'].sum()\n",
        "inapplicable_occupation_count = table_uneducated_by_isco.query('ISCO_occupation == \"neaplikovateľné\"')['count'].sum()\n",
        "applicable_occupation = table_uneducated_by_isco.query(\n",
        "    'ISCO_occupation != \"nezistené\" & ISCO_occupation != \"neaplikovateľné\"')\n",
        "applicable_occupation_count = applicable_occupation['count'].sum()\n",
        "\n",
        "display(applicable_occupation.head())"
      ]
    },
    {
      "cell_type": "code",
      "execution_count": null,
      "id": "20ec73e4611a4d1a",
      "metadata": {
        "id": "20ec73e4611a4d1a"
      },
      "outputs": [],
      "source": [
        "# TODO: beauty\n",
        "\n",
        "plt.pie([unknown_occupation_count, inapplicable_occupation_count, applicable_occupation_count],\n",
        "        labels=['unknown', 'inapplicable', 'applicable'], autopct='%1.1f%%')\n",
        "\n",
        "plt.show()"
      ]
    },
    {
      "cell_type": "code",
      "execution_count": null,
      "id": "c2aeb20764b01e8a",
      "metadata": {
        "id": "c2aeb20764b01e8a"
      },
      "outputs": [],
      "source": [
        "plot = sns.barplot(data=applicable_occupation.head(10), x='count', y='ISCO_occupation', color=sns.color_palette(as_cmap=True)[0])\n",
        "plot.bar_label(plot.containers[0], fontsize=8, padding=3)\n",
        "plot.set_xlabel('počet ľudí')\n",
        "plot.set_ylabel('')\n",
        "plt.subplots_adjust(left=0.5, right=1.6)"
      ]
    },
    {
      "cell_type": "markdown",
      "id": "c2c2daf7fffd32e1",
      "metadata": {
        "id": "c2c2daf7fffd32e1"
      },
      "source": [
        "#### Age distribution of illiteracy"
      ]
    },
    {
      "cell_type": "code",
      "execution_count": null,
      "id": "82813be5ea3ecb57",
      "metadata": {
        "id": "82813be5ea3ecb57"
      },
      "outputs": [],
      "source": [
        "table_SR_uneducated = (table_040_SR\n",
        ".query(\n",
        "    'education == \"bez školského vzdelania – osoby vo veku 15 rokov a viac\" & current_economic_activity != \"žiak základnej školy\"'))\n",
        "\n",
        "#table = table[table['Vek'] != '90 a viac rokov']\n",
        "#table['5-rocne skupiny'] = table['Vek'].apply(int).apply(f)\n",
        "\n",
        "#table = pd.DataFrame(table.groupby('5-rocne skupiny')['abs.'].sum()).reset_index()\n",
        "table_SR_uneducated"
      ]
    },
    {
      "cell_type": "code",
      "execution_count": null,
      "id": "f79986abdc46297a",
      "metadata": {
        "id": "f79986abdc46297a"
      },
      "outputs": [],
      "source": [
        "# TODO: beauty\n",
        "plot = sns.histplot(data=table_SR_uneducated, x=\"age\", weights=\"count\", binwidth=1)\n",
        "\n",
        "plot.set_xlabel('Age')\n",
        "plot.set_ylabel('Number of people')\n",
        "plot.set_title('Number of people without education')\n",
        "\n",
        "plt.xticks(rotation=45)\n",
        "plt.show()"
      ]
    },
    {
      "cell_type": "markdown",
      "id": "529f7f2a41b2b18f",
      "metadata": {
        "id": "529f7f2a41b2b18f"
      },
      "source": [
        "## Employment analysis"
      ]
    },
    {
      "cell_type": "markdown",
      "id": "25e95a9723a5d39d",
      "metadata": {
        "id": "25e95a9723a5d39d"
      },
      "source": [
        "### Employment specialization"
      ]
    },
    {
      "cell_type": "code",
      "execution_count": null,
      "id": "e6471b7182a3720e",
      "metadata": {
        "id": "e6471b7182a3720e"
      },
      "outputs": [],
      "source": [
        "table_067_KR_copy = table_067_KR.copy()"
      ]
    },
    {
      "cell_type": "code",
      "execution_count": null,
      "id": "8e1952fa",
      "metadata": {
        "id": "8e1952fa"
      },
      "outputs": [],
      "source": [
        "education_levels = table_067_KR_copy.loc[:, 'education'].unique()\n",
        "higher_edu = [x for x in education_levels if 'vysokoškolské' in x or \"vyššie\" in x]\n",
        "secondary_edu = [x for x in education_levels if \"stredné\" in x]\n",
        "primary_edu = [x for x in education_levels if \"základné\" in x]\n",
        "without_edu = ['bez školského vzdelania – osoby vo veku 15 rokov a viac']\n",
        "undefined_edu = [x for x in education_levels if x not in higher_edu + secondary_edu + primary_edu + without_edu]"
      ]
    },
    {
      "cell_type": "code",
      "execution_count": null,
      "id": "7e931391",
      "metadata": {
        "id": "7e931391"
      },
      "outputs": [],
      "source": [
        "education_dict = {'higher': higher_edu,\n",
        "                  'secondary': secondary_edu,\n",
        "                  'primary': primary_edu,\n",
        "                  'without education': without_edu,\n",
        "                  'undefined': undefined_edu}\n",
        "\n",
        "main_education_dict = {value: key for key in education_dict.keys() for value in education_dict[key]}"
      ]
    },
    {
      "cell_type": "code",
      "execution_count": null,
      "id": "a48e09f8",
      "metadata": {
        "id": "a48e09f8"
      },
      "outputs": [],
      "source": [
        "table_067_KR_copy['education_level'] = table_067_KR_copy['education'].map(main_education_dict)"
      ]
    },
    {
      "cell_type": "code",
      "execution_count": null,
      "id": "700a578d",
      "metadata": {
        "id": "700a578d"
      },
      "outputs": [],
      "source": [
        "table_067_KR_copy['occupation_type'] = table_067_KR_copy['ISCO_occupation'].map(OCCUPATION_ISCO_MAP)"
      ]
    },
    {
      "cell_type": "code",
      "execution_count": null,
      "id": "6ca04beb2845cc78",
      "metadata": {
        "id": "6ca04beb2845cc78"
      },
      "outputs": [],
      "source": [
        "occupation_bar = table_067_KR_copy.dropna().groupby('occupation_type')['count'].sum()\n",
        "px.bar(y=occupation_bar.index, x=occupation_bar.values, labels={'x': 'count', 'y': 'occupation'},\n",
        "       title='The number of people by type of occupation', orientation='h')"
      ]
    },
    {
      "cell_type": "code",
      "execution_count": null,
      "id": "7c3ade69",
      "metadata": {
        "id": "7c3ade69"
      },
      "outputs": [],
      "source": [
        "help_for_par1 = \\\n",
        "table_067_KR_copy.query('`education_level` != \"undefined\"').groupby(['education_level', 'occupation_type'])[\n",
        "    'count'].sum()\n",
        "\n",
        "fig = go.Figure(go.Parcats(\n",
        "    dimensions=[{'label': 'education',\n",
        "                 'values': [i[0] for i in help_for_par1.index.values]},\n",
        "                {'label': 'occupation',\n",
        "                 'values': [i[1] for i in help_for_par1.index.values]}],\n",
        "\n",
        "    counts=help_for_par1.values\n",
        "))\n",
        "\n",
        "fig.update_layout(height=600, width=800)\n",
        "\n",
        "fig.show()"
      ]
    },
    {
      "cell_type": "code",
      "execution_count": null,
      "id": "7aaa728e",
      "metadata": {
        "id": "7aaa728e"
      },
      "outputs": [],
      "source": [
        "# help_for_par2 = table_067_KR_copy.groupby(['region_name', 'education_level'])['count'].sum()\n",
        "\n",
        "# fig = go.Figure(go.Parcats(\n",
        "#     dimensions=[{'label': 'region',\n",
        "#          'values': [i[0] for i in help_for_par2.index.values]},\n",
        "#         {'label': 'education',\n",
        "#          'values': [i[1] for i in help_for_par2.index.values]}],\n",
        "\n",
        "#     counts=help_for_par2.values\n",
        "# ))\n",
        "\n",
        "# fig.update_layout(height=600, width=800)\n",
        "\n",
        "# fig.show()"
      ]
    },
    {
      "cell_type": "markdown",
      "id": "a964bd90358f369e",
      "metadata": {
        "id": "a964bd90358f369e"
      },
      "source": [
        "### Sectoral structure of the economy"
      ]
    },
    {
      "cell_type": "code",
      "execution_count": null,
      "id": "edc87cc2f7807555",
      "metadata": {
        "id": "edc87cc2f7807555"
      },
      "outputs": [],
      "source": [
        "table_067_KR_copy['economic_sector'] = table_067_KR_copy['NACE_section'].map(ECONOMIC_SECTORS_MAP)\n",
        "table_067_KR_copy = table_067_KR_copy.query('`education_level` != \"undefined\"')\n",
        "table_067_KR_copy = table_067_KR_copy.query('`economic_sector` != \"undefined\"')"
      ]
    },
    {
      "cell_type": "code",
      "execution_count": null,
      "id": "08ad1dab",
      "metadata": {
        "id": "08ad1dab"
      },
      "outputs": [],
      "source": [
        "sector_sum = table_067_KR_copy.groupby('economic_sector')['count'].sum()\n",
        "sector_sum_edu = table_067_KR_copy.groupby(['economic_sector', 'education_level'])['count'].sum()\n",
        "\n",
        "\n",
        "def map_func(index1, index2):\n",
        "    return sector_sum_edu[(index1, index2)]"
      ]
    },
    {
      "cell_type": "code",
      "execution_count": null,
      "id": "2825704b",
      "metadata": {
        "id": "2825704b"
      },
      "outputs": [],
      "source": [
        "table_067_KR_copy['count_for_sector'] = table_067_KR_copy['economic_sector'].map(sector_sum)\n",
        "table_067_KR_copy['count_edu_sector'] = table_067_KR_copy.apply(\n",
        "    lambda x: map_func(x['economic_sector'], x['education_level']), axis=1)\n",
        "\n",
        "table_067_KR_copy['percentage'] = table_067_KR_copy['count_edu_sector'] * 100 / table_067_KR_copy['count_for_sector']"
      ]
    },
    {
      "cell_type": "code",
      "execution_count": null,
      "id": "a4df10c0688c1cd2",
      "metadata": {
        "id": "a4df10c0688c1cd2"
      },
      "outputs": [],
      "source": [
        "# TODO: beauty\n",
        "tmp_sectors = table_067_KR_copy['economic_sector'].unique()\n",
        "tmp_education = table_067_KR_copy[table_067_KR_copy['education_level']!='without education']['education_level'].unique()\n",
        "\n",
        "starts = pd.Series([0] * tmp_sectors.shape[0])\n",
        "\n",
        "figure, axes = plt.subplots(figsize=(10, 6))\n",
        "\n",
        "for group in tmp_education:\n",
        "    tmp_data = table_067_KR_copy.query(\"`education_level` == @group\").drop_duplicates('count_edu_sector')\n",
        "    rectangles = axes.barh(y=tmp_data['economic_sector'], width=tmp_data['percentage'], left=starts, label=group)\n",
        "    axes.bar_label(rectangles, label_type='center', fmt=\"%.0f%%\")\n",
        "    starts += tmp_data['percentage'].reset_index(drop=True)\n",
        "\n",
        "axes.set_title('Economic sectors + Level of education')\n",
        "axes.legend(bbox_to_anchor=(1, 1), loc=2)\n",
        "axes.xaxis.set_visible(False)\n",
        "axes.set_frame_on(False)\n",
        "pass"
      ]
    },
    {
      "cell_type": "code",
      "execution_count": null,
      "id": "473db70f",
      "metadata": {
        "id": "473db70f"
      },
      "outputs": [],
      "source": [
        "table_for_pie = table_067_KR_copy.drop_duplicates(['education_level', 'economic_sector', 'count_for_sector'])"
      ]
    },
    {
      "cell_type": "code",
      "execution_count": null,
      "id": "0a8d2bef",
      "metadata": {
        "id": "0a8d2bef"
      },
      "outputs": [],
      "source": [
        "figure, axes = plt.subplots(figsize=(8, 5))\n",
        "axes.pie(x=table_for_pie.query('`education_level` == \"without education\"')['count_edu_sector'],\n",
        "         labels=table_for_pie.query('`education_level` == \"without education\"')['economic_sector'], autopct=\"%.1f%%\")\n",
        "axes.set_title('People without education by economic sectors')\n",
        "pass"
      ]
    },
    {
      "cell_type": "code",
      "execution_count": null,
      "id": "67ef904c",
      "metadata": {
        "id": "67ef904c"
      },
      "outputs": [],
      "source": [
        "figure, axes = plt.subplots(figsize=(8, 5))\n",
        "axes.pie(x=table_for_pie.query('`education_level` == \"higher\"')['count_edu_sector'],\n",
        "         labels=table_for_pie.query('`education_level` == \"higher\"')['economic_sector'], autopct=\"%.1f%%\")\n",
        "axes.set_title('People with higher education by economic sectors')\n",
        "pass"
      ]
    },
    {
      "cell_type": "code",
      "execution_count": null,
      "id": "3aa3882c",
      "metadata": {
        "id": "3aa3882c"
      },
      "outputs": [],
      "source": [
        "figure, axes = plt.subplots(figsize=(8, 5))\n",
        "axes.pie(x=table_for_pie.query('`education_level` == \"primary\"')['count_edu_sector'],\n",
        "         labels=table_for_pie.query('`education_level` == \"primary\"')['economic_sector'], autopct=\"%.1f%%\")\n",
        "axes.set_title('People with primary education by economic sectors')\n",
        "pass"
      ]
    },
    {
      "cell_type": "markdown",
      "id": "13f3c23003d806b4",
      "metadata": {
        "id": "13f3c23003d806b4"
      },
      "source": [
        "### Geographic specialization of economy"
      ]
    },
    {
      "cell_type": "code",
      "execution_count": null,
      "id": "9e54593cd6793101",
      "metadata": {
        "id": "9e54593cd6793101"
      },
      "outputs": [],
      "source": [
        "# TODO: data"
      ]
    },
    {
      "cell_type": "code",
      "execution_count": null,
      "id": "dbf196b039e5d309",
      "metadata": {
        "id": "dbf196b039e5d309"
      },
      "outputs": [],
      "source": [
        "# TODO: graph (asi Kolia)"
      ]
    },
    {
      "cell_type": "markdown",
      "id": "f166b8c17f07b8db",
      "metadata": {
        "id": "f166b8c17f07b8db"
      },
      "source": [
        "### Analysis of unemployment"
      ]
    },
    {
      "cell_type": "code",
      "execution_count": null,
      "id": "oE3mXZEizcTg",
      "metadata": {
        "id": "oE3mXZEizcTg"
      },
      "outputs": [],
      "source": [
        "def calculate_counts(data):\n",
        "    return data.groupby('age').agg({\n",
        "        'count': 'sum'\n",
        "    }).rename(columns={'count': 'total_count'}).reset_index()"
      ]
    },
    {
      "cell_type": "code",
      "source": [],
      "metadata": {
        "id": "qmxXCbzy12OQ"
      },
      "id": "qmxXCbzy12OQ",
      "execution_count": null,
      "outputs": []
    },
    {
      "cell_type": "code",
      "execution_count": null,
      "id": "ebe6894d1112c87",
      "metadata": {
        "id": "ebe6894d1112c87"
      },
      "outputs": [],
      "source": [
        "not_working_groups = table_040_SR[~table_040_SR['current_economic_activity'].isin(['pracujúci (okrem dôchodcov)', 'pracujúci dôchodca'])]\n",
        "working_age_groups = table_040_SR[table_040_SR['current_economic_activity'].isin(['pracujúci (okrem dôchodcov)', 'pracujúci dôchodca'])]\n",
        "\n",
        "unemployed_table = calculate_counts(not_working_groups)\n",
        "employed_table = calculate_counts(working_age_groups)\n",
        "\n",
        "merged_table = pd.merge(employed_table, unemployed_table, on='age', how='outer', suffixes=('_employed', '_unemployed')).fillna(0)"
      ]
    },
    {
      "cell_type": "code",
      "source": [
        "def categorize_age(age):\n",
        "    age_int = int(age)\n",
        "    if age_int >= 90:\n",
        "        return '90 and greater'\n",
        "    else:\n",
        "        for group_start in range(0, 90, 5):\n",
        "            group_end = group_start + 4\n",
        "            if age_int >= group_start and age_int <= group_end:\n",
        "                return f'{group_start} to {group_end}'\n",
        "\n",
        "merged_table['5_year_groups'] = merged_table['age'].apply(categorize_age)"
      ],
      "metadata": {
        "id": "IolWfKfO4td1"
      },
      "id": "IolWfKfO4td1",
      "execution_count": null,
      "outputs": []
    },
    {
      "cell_type": "code",
      "source": [
        "merged_table"
      ],
      "metadata": {
        "id": "1PfZj91c4nnZ"
      },
      "id": "1PfZj91c4nnZ",
      "execution_count": null,
      "outputs": []
    },
    {
      "cell_type": "code",
      "execution_count": null,
      "id": "QOVOWaCUzPbC",
      "metadata": {
        "id": "QOVOWaCUzPbC"
      },
      "outputs": [],
      "source": [
        "working_population = merged_table[merged_table['age'] >= 15]\n",
        "grouped_df = working_population.groupby('5_year_groups').sum()\n",
        "\n",
        "plt.figure(figsize=(10, 6))\n",
        "\n",
        "grouped_df[['total_count_employed', 'total_count_unemployed']].plot(kind='bar', stacked=True)\n",
        "\n",
        "plt.xlabel('Age Groups')\n",
        "plt.ylabel('Total Count')\n",
        "plt.title('Employed and Unemployed Counts by Age Groups')\n",
        "plt.xticks(rotation='vertical')\n",
        "plt.legend(labels=['Employed', 'Unemployed'])\n",
        "pass"
      ]
    },
    {
      "cell_type": "code",
      "execution_count": null,
      "id": "l22Gy5YM0jI6",
      "metadata": {
        "id": "l22Gy5YM0jI6"
      },
      "outputs": [],
      "source": [
        "not_working_groups['5_year_groups'] = not_working_groups['age'].apply(categorize_age)\n",
        "\n",
        "colors = sns.color_palette('pastel')[:2]\n",
        "not_working_groups_gender = not_working_groups[(not_working_groups['age'] <= 70) & (not_working_groups['age'] >= 20)]\n",
        "not_working_groups_gender = not_working_groups_gender.groupby('sex')['count'].sum().reset_index()\n",
        "\n",
        "\n",
        "plt.figure(figsize=(6, 6))\n",
        "plt.pie(x=not_working_groups_gender['count'], labels=not_working_groups_gender['sex'], autopct='%1.1f%%', colors=colors)\n",
        "plt.title('Sex Distribution over Unemployment from 20 to 70', fontweight='bold')\n",
        "plt.show()\n",
        "pass"
      ]
    },
    {
      "cell_type": "code",
      "source": [
        "not_working_groups['education_group'] = not_working_groups['education'].map(lambda x: EDUCATION_CATEGORY_MAP[x])"
      ],
      "metadata": {
        "id": "9fNKM-rj9qHw"
      },
      "id": "9fNKM-rj9qHw",
      "execution_count": null,
      "outputs": []
    },
    {
      "cell_type": "code",
      "execution_count": null,
      "id": "CAkSLxBm028n",
      "metadata": {
        "id": "CAkSLxBm028n",
        "collapsed": true
      },
      "outputs": [],
      "source": [
        "app = Dash(__name__)\n",
        "\n",
        "age_group_options = [{'label': age_group, 'value': age_group} for age_group in\n",
        "                     not_working_groups['5_year_groups'].unique()]\n",
        "\n",
        "app.layout = html.Div([\n",
        "    html.H1(\"Education vs. Unemployment by Age Group\"),\n",
        "    html.Label(\"Select Age Group(s)\"),\n",
        "    dcc.Dropdown(\n",
        "        id='age-group-dropdown',\n",
        "        options=age_group_options,\n",
        "        value=[age_group_options[0]['value']],\n",
        "        multi=True\n",
        "    ),\n",
        "    dcc.Graph(id='education-vs-unemployment-plot', style={'height': '500px'})\n",
        "])\n",
        "\n",
        "\n",
        "@app.callback(\n",
        "    Output('education-vs-unemployment-plot', 'figure'),\n",
        "    [Input('age-group-dropdown', 'value')]\n",
        ")\n",
        "def update_plot(selected_age_groups):\n",
        "    filtered_data = not_working_groups[not_working_groups['5_year_groups'].isin(selected_age_groups)]\n",
        "\n",
        "    aggregated_data = filtered_data.groupby(['education_group', '5_year_groups'])['count'].sum().reset_index()\n",
        "\n",
        "    sorted_education = aggregated_data.groupby('education_group')['count'].sum().sort_values(ascending=False).index\n",
        "\n",
        "    fig = px.bar(aggregated_data, x='education_group', y='count', color='5_year_groups', barmode='group',\n",
        "                 title='Education vs. Unemployment by Age Group', labels={'count': 'Total Count'},\n",
        "                 category_orders={'education_group': sorted_education})\n",
        "    return fig\n",
        "\n",
        "\n",
        "if __name__ == '__main__':\n",
        "    app.run_server(debug=True, port=8045)"
      ]
    },
    {
      "cell_type": "markdown",
      "id": "5bd0e1bb555f87b8",
      "metadata": {
        "id": "5bd0e1bb555f87b8"
      },
      "source": [
        "## Interactive section"
      ]
    },
    {
      "cell_type": "code",
      "execution_count": null,
      "id": "ea804c7a717959bb",
      "metadata": {
        "id": "ea804c7a717959bb"
      },
      "outputs": [],
      "source": [
        "app = Dash(__name__)\n",
        "\n",
        "app.layout = html.Div([\n",
        "    html.Div(children=[\n",
        "        html.Label('Education: '),\n",
        "        dcc.Dropdown(['Without education', 'Primary education', 'Secondary education', 'Higher education'],\n",
        "                     'Primary education', id='education-type')]),\n",
        "\n",
        "    html.Div(children=[\n",
        "        html.Label('Color by economic sector: '),\n",
        "        dcc.RadioItems(['yes', 'no'], 'no', id='color-choice')\n",
        "    ]),\n",
        "\n",
        "    dcc.Graph(id='graph-content')\n",
        "])\n",
        "\n",
        "\n",
        "@app.callback(\n",
        "    Output('graph-content', 'figure'),\n",
        "    [\n",
        "        Input('education-type', 'value'),\n",
        "        Input('color-choice', 'value')\n",
        "    ]\n",
        ")\n",
        "def update_figure(selected_education, color_c):\n",
        "    education_dict = {\n",
        "        'Without education': 'without education',\n",
        "        'Primary education': 'primary',\n",
        "        'Secondary education': 'secondary',\n",
        "        'Higher education': 'higher',\n",
        "    }\n",
        "\n",
        "    education = education_dict.get(selected_education)\n",
        "\n",
        "    education_subset = \\\n",
        "    table_067_KR_copy.query('`education_level` == @education').groupby(['occupation_type', 'economic_sector'])[\n",
        "        'count'].sum()\n",
        "\n",
        "    if color_c == 'yes':\n",
        "        color_c = [i[1] for i in education_subset.index.values]\n",
        "    else:\n",
        "        color_c = None\n",
        "\n",
        "    figure = px.histogram(education_subset, x='count', y=[i[0] for i in education_subset.index.values],\n",
        "                          width=900, height=600, color=color_c, orientation='h',\n",
        "                          labels={'y': 'occupation', 'sum of count': 'count', 'color': 'economic sector'})\n",
        "\n",
        "    figure.update_layout(title_text='Occupations by level of education')\n",
        "\n",
        "    return figure\n",
        "\n",
        "\n",
        "if __name__ == '__main__':\n",
        "    app.run_server(debug=True, port=8051)"
      ]
    },
    {
      "cell_type": "code",
      "execution_count": null,
      "id": "62bef444",
      "metadata": {
        "id": "62bef444"
      },
      "outputs": [],
      "source": [
        "# TODO: powerful graph Nikolai i <3 u"
      ]
    },
    {
      "cell_type": "code",
      "execution_count": null,
      "id": "3d626dfd65b0a729",
      "metadata": {
        "id": "3d626dfd65b0a729"
      },
      "outputs": [],
      "source": [
        "# TODO: powerful graph Nikolai i <2 u"
      ]
    },
    {
      "cell_type": "code",
      "execution_count": null,
      "id": "625cf91520ec628d",
      "metadata": {
        "id": "625cf91520ec628d"
      },
      "outputs": [],
      "source": [
        "# TODO: powerful graph Nikolai i <1 u"
      ]
    }
  ],
  "metadata": {
    "colab": {
      "provenance": []
    },
    "kernelspec": {
      "display_name": "Python 3 (ipykernel)",
      "language": "python",
      "name": "python3"
    },
    "language_info": {
      "codemirror_mode": {
        "name": "ipython",
        "version": 3
      },
      "file_extension": ".py",
      "mimetype": "text/x-python",
      "name": "python",
      "nbconvert_exporter": "python",
      "pygments_lexer": "ipython3",
      "version": "3.9.13"
    }
  },
  "nbformat": 4,
  "nbformat_minor": 5
}