{
 "cells": [
  {
   "metadata": {},
   "cell_type": "markdown",
   "source": "# Education in Slovakia",
   "id": "5dac3013379a3fda"
  },
  {
   "metadata": {},
   "cell_type": "markdown",
   "source": "## Import packages",
   "id": "db5d41b1b5317160"
  },
  {
   "metadata": {
    "ExecuteTime": {
     "end_time": "2024-05-02T06:16:05.578124Z",
     "start_time": "2024-05-02T06:16:04.515122Z"
    }
   },
   "cell_type": "code",
   "source": [
    "import numpy as np\n",
    "import pandas as pd\n",
    "\n",
    "import matplotlib.pyplot as plt\n",
    "import seaborn as sns\n",
    "import geopandas as gpd\n",
    "from dash import Dash, dcc, html, Input, Output\n",
    "import plotly.express as px\n",
    "import plotly.graph_objects as go\n",
    "\n",
    "from IPython.display import display\n",
    "import preprocessing\n",
    "\n",
    "import os\n",
    "import warnings\n",
    "# TODO: uncomment before publishing\n",
    "#warnings.filterwarnings('ignore')"
   ],
   "id": "fad372db806002f2",
   "outputs": [],
   "execution_count": 1
  },
  {
   "metadata": {},
   "cell_type": "markdown",
   "source": "## Import data",
   "id": "26225773d40d854"
  },
  {
   "metadata": {
    "ExecuteTime": {
     "end_time": "2024-05-02T06:16:06.362665Z",
     "start_time": "2024-05-02T06:16:05.579137Z"
    }
   },
   "cell_type": "code",
   "source": [
    "table_010_SK = pd.read_csv(\n",
    "    'https://raw.githubusercontent.com/AndruKP/mathprofi-education/dev/data/RV_O_010_R_SR_SK.CSV', sep=';')\n",
    "table_040_SK = pd.read_csv(\n",
    "    'https://raw.githubusercontent.com/AndruKP/mathprofi-education/dev/data/RV_O_040_R_SR_SK.CSV', sep=';')\n",
    "\n",
    "display(table_010_SK.head())\n",
    "display(table_040_SK.head())"
   ],
   "id": "f9bdace03ee78452",
   "outputs": [
    {
     "data": {
      "text/plain": [
       "  Kód štátu          Názov štátu Pohlavie         Ekonomické vekové skupiny  \\\n",
       "0       SK0  Slovenská republika      muž  predproduktívny vek (0-14 rokov)   \n",
       "1       SK0  Slovenská republika      muž  predproduktívny vek (0-14 rokov)   \n",
       "2       SK0  Slovenská republika      muž  predproduktívny vek (0-14 rokov)   \n",
       "3       SK0  Slovenská republika      muž  predproduktívny vek (0-14 rokov)   \n",
       "4       SK0  Slovenská republika      muž  predproduktívny vek (0-14 rokov)   \n",
       "\n",
       "                                           Vzdelanie    abs.  \n",
       "0                                          nezistené    6301  \n",
       "1             základné vzdelanie (bližšie neuvedené)       1  \n",
       "2     základné vzdelanie - 1. stupeň základnej školy  117157  \n",
       "3     základné vzdelanie - 2. stupeň základnej školy      66  \n",
       "4  bez ukončeného vzdelania – osoby vo veku 0-14 ...  320751  "
      ],
      "text/html": [
       "<div>\n",
       "<style scoped>\n",
       "    .dataframe tbody tr th:only-of-type {\n",
       "        vertical-align: middle;\n",
       "    }\n",
       "\n",
       "    .dataframe tbody tr th {\n",
       "        vertical-align: top;\n",
       "    }\n",
       "\n",
       "    .dataframe thead th {\n",
       "        text-align: right;\n",
       "    }\n",
       "</style>\n",
       "<table border=\"1\" class=\"dataframe\">\n",
       "  <thead>\n",
       "    <tr style=\"text-align: right;\">\n",
       "      <th></th>\n",
       "      <th>Kód štátu</th>\n",
       "      <th>Názov štátu</th>\n",
       "      <th>Pohlavie</th>\n",
       "      <th>Ekonomické vekové skupiny</th>\n",
       "      <th>Vzdelanie</th>\n",
       "      <th>abs.</th>\n",
       "    </tr>\n",
       "  </thead>\n",
       "  <tbody>\n",
       "    <tr>\n",
       "      <th>0</th>\n",
       "      <td>SK0</td>\n",
       "      <td>Slovenská republika</td>\n",
       "      <td>muž</td>\n",
       "      <td>predproduktívny vek (0-14 rokov)</td>\n",
       "      <td>nezistené</td>\n",
       "      <td>6301</td>\n",
       "    </tr>\n",
       "    <tr>\n",
       "      <th>1</th>\n",
       "      <td>SK0</td>\n",
       "      <td>Slovenská republika</td>\n",
       "      <td>muž</td>\n",
       "      <td>predproduktívny vek (0-14 rokov)</td>\n",
       "      <td>základné vzdelanie (bližšie neuvedené)</td>\n",
       "      <td>1</td>\n",
       "    </tr>\n",
       "    <tr>\n",
       "      <th>2</th>\n",
       "      <td>SK0</td>\n",
       "      <td>Slovenská republika</td>\n",
       "      <td>muž</td>\n",
       "      <td>predproduktívny vek (0-14 rokov)</td>\n",
       "      <td>základné vzdelanie - 1. stupeň základnej školy</td>\n",
       "      <td>117157</td>\n",
       "    </tr>\n",
       "    <tr>\n",
       "      <th>3</th>\n",
       "      <td>SK0</td>\n",
       "      <td>Slovenská republika</td>\n",
       "      <td>muž</td>\n",
       "      <td>predproduktívny vek (0-14 rokov)</td>\n",
       "      <td>základné vzdelanie - 2. stupeň základnej školy</td>\n",
       "      <td>66</td>\n",
       "    </tr>\n",
       "    <tr>\n",
       "      <th>4</th>\n",
       "      <td>SK0</td>\n",
       "      <td>Slovenská republika</td>\n",
       "      <td>muž</td>\n",
       "      <td>predproduktívny vek (0-14 rokov)</td>\n",
       "      <td>bez ukončeného vzdelania – osoby vo veku 0-14 ...</td>\n",
       "      <td>320751</td>\n",
       "    </tr>\n",
       "  </tbody>\n",
       "</table>\n",
       "</div>"
      ]
     },
     "metadata": {},
     "output_type": "display_data"
    },
    {
     "data": {
      "text/plain": [
       "  Kód štátu          Názov štátu Pohlavie Vek  \\\n",
       "0       SK0  Slovenská republika      muž   0   \n",
       "1       SK0  Slovenská republika      muž   1   \n",
       "2       SK0  Slovenská republika      muž   2   \n",
       "3       SK0  Slovenská republika      muž   3   \n",
       "4       SK0  Slovenská republika      muž   4   \n",
       "\n",
       "                                           Vzdelanie  \\\n",
       "0  bez ukončeného vzdelania – osoby vo veku 0-14 ...   \n",
       "1  bez ukončeného vzdelania – osoby vo veku 0-14 ...   \n",
       "2  bez ukončeného vzdelania – osoby vo veku 0-14 ...   \n",
       "3  bez ukončeného vzdelania – osoby vo veku 0-14 ...   \n",
       "4  bez ukončeného vzdelania – osoby vo veku 0-14 ...   \n",
       "\n",
       "                    Súčasná ekonomická aktivita   abs.  \n",
       "0  dieťa do začatia povinnej školskej dochádzky  29036  \n",
       "1  dieťa do začatia povinnej školskej dochádzky  30033  \n",
       "2  dieťa do začatia povinnej školskej dochádzky  30808  \n",
       "3  dieťa do začatia povinnej školskej dochádzky  31100  \n",
       "4  dieťa do začatia povinnej školskej dochádzky  30873  "
      ],
      "text/html": [
       "<div>\n",
       "<style scoped>\n",
       "    .dataframe tbody tr th:only-of-type {\n",
       "        vertical-align: middle;\n",
       "    }\n",
       "\n",
       "    .dataframe tbody tr th {\n",
       "        vertical-align: top;\n",
       "    }\n",
       "\n",
       "    .dataframe thead th {\n",
       "        text-align: right;\n",
       "    }\n",
       "</style>\n",
       "<table border=\"1\" class=\"dataframe\">\n",
       "  <thead>\n",
       "    <tr style=\"text-align: right;\">\n",
       "      <th></th>\n",
       "      <th>Kód štátu</th>\n",
       "      <th>Názov štátu</th>\n",
       "      <th>Pohlavie</th>\n",
       "      <th>Vek</th>\n",
       "      <th>Vzdelanie</th>\n",
       "      <th>Súčasná ekonomická aktivita</th>\n",
       "      <th>abs.</th>\n",
       "    </tr>\n",
       "  </thead>\n",
       "  <tbody>\n",
       "    <tr>\n",
       "      <th>0</th>\n",
       "      <td>SK0</td>\n",
       "      <td>Slovenská republika</td>\n",
       "      <td>muž</td>\n",
       "      <td>0</td>\n",
       "      <td>bez ukončeného vzdelania – osoby vo veku 0-14 ...</td>\n",
       "      <td>dieťa do začatia povinnej školskej dochádzky</td>\n",
       "      <td>29036</td>\n",
       "    </tr>\n",
       "    <tr>\n",
       "      <th>1</th>\n",
       "      <td>SK0</td>\n",
       "      <td>Slovenská republika</td>\n",
       "      <td>muž</td>\n",
       "      <td>1</td>\n",
       "      <td>bez ukončeného vzdelania – osoby vo veku 0-14 ...</td>\n",
       "      <td>dieťa do začatia povinnej školskej dochádzky</td>\n",
       "      <td>30033</td>\n",
       "    </tr>\n",
       "    <tr>\n",
       "      <th>2</th>\n",
       "      <td>SK0</td>\n",
       "      <td>Slovenská republika</td>\n",
       "      <td>muž</td>\n",
       "      <td>2</td>\n",
       "      <td>bez ukončeného vzdelania – osoby vo veku 0-14 ...</td>\n",
       "      <td>dieťa do začatia povinnej školskej dochádzky</td>\n",
       "      <td>30808</td>\n",
       "    </tr>\n",
       "    <tr>\n",
       "      <th>3</th>\n",
       "      <td>SK0</td>\n",
       "      <td>Slovenská republika</td>\n",
       "      <td>muž</td>\n",
       "      <td>3</td>\n",
       "      <td>bez ukončeného vzdelania – osoby vo veku 0-14 ...</td>\n",
       "      <td>dieťa do začatia povinnej školskej dochádzky</td>\n",
       "      <td>31100</td>\n",
       "    </tr>\n",
       "    <tr>\n",
       "      <th>4</th>\n",
       "      <td>SK0</td>\n",
       "      <td>Slovenská republika</td>\n",
       "      <td>muž</td>\n",
       "      <td>4</td>\n",
       "      <td>bez ukončeného vzdelania – osoby vo veku 0-14 ...</td>\n",
       "      <td>dieťa do začatia povinnej školskej dochádzky</td>\n",
       "      <td>30873</td>\n",
       "    </tr>\n",
       "  </tbody>\n",
       "</table>\n",
       "</div>"
      ]
     },
     "metadata": {},
     "output_type": "display_data"
    }
   ],
   "execution_count": 2
  },
  {
   "metadata": {},
   "cell_type": "markdown",
   "source": "## Preprocess data",
   "id": "93b2a78cc418976c"
  },
  {
   "metadata": {
    "ExecuteTime": {
     "end_time": "2024-05-02T06:16:06.406821Z",
     "start_time": "2024-05-02T06:16:06.364702Z"
    }
   },
   "cell_type": "code",
   "source": [
    "# TODO: aggregate all preprocessing functions into one\n",
    "\n",
    "table_010_SK = preprocessing.rename_columns(table_010_SK)\n",
    "table_040_SK = preprocessing.rename_columns(table_040_SK)\n",
    "\n",
    "table_010_SK = preprocessing.translate_sex(table_010_SK)\n",
    "table_040_SK = preprocessing.translate_sex(table_040_SK)\n",
    "\n",
    "table_040_SK.age = table_040_SK.age.apply(preprocessing.age_preprocess)\n",
    "\n",
    "display(table_010_SK.head())\n",
    "display(table_040_SK.head())"
   ],
   "id": "937be134363e0443",
   "outputs": [
    {
     "data": {
      "text/plain": [
       "  NUTS1_CODE           state_name   sex             economical_age_groups  \\\n",
       "0        SK0  Slovenská republika  male  predproduktívny vek (0-14 rokov)   \n",
       "1        SK0  Slovenská republika  male  predproduktívny vek (0-14 rokov)   \n",
       "2        SK0  Slovenská republika  male  predproduktívny vek (0-14 rokov)   \n",
       "3        SK0  Slovenská republika  male  predproduktívny vek (0-14 rokov)   \n",
       "4        SK0  Slovenská republika  male  predproduktívny vek (0-14 rokov)   \n",
       "\n",
       "                                           education   count  \n",
       "0                                          nezistené    6301  \n",
       "1             základné vzdelanie (bližšie neuvedené)       1  \n",
       "2     základné vzdelanie - 1. stupeň základnej školy  117157  \n",
       "3     základné vzdelanie - 2. stupeň základnej školy      66  \n",
       "4  bez ukončeného vzdelania – osoby vo veku 0-14 ...  320751  "
      ],
      "text/html": [
       "<div>\n",
       "<style scoped>\n",
       "    .dataframe tbody tr th:only-of-type {\n",
       "        vertical-align: middle;\n",
       "    }\n",
       "\n",
       "    .dataframe tbody tr th {\n",
       "        vertical-align: top;\n",
       "    }\n",
       "\n",
       "    .dataframe thead th {\n",
       "        text-align: right;\n",
       "    }\n",
       "</style>\n",
       "<table border=\"1\" class=\"dataframe\">\n",
       "  <thead>\n",
       "    <tr style=\"text-align: right;\">\n",
       "      <th></th>\n",
       "      <th>NUTS1_CODE</th>\n",
       "      <th>state_name</th>\n",
       "      <th>sex</th>\n",
       "      <th>economical_age_groups</th>\n",
       "      <th>education</th>\n",
       "      <th>count</th>\n",
       "    </tr>\n",
       "  </thead>\n",
       "  <tbody>\n",
       "    <tr>\n",
       "      <th>0</th>\n",
       "      <td>SK0</td>\n",
       "      <td>Slovenská republika</td>\n",
       "      <td>male</td>\n",
       "      <td>predproduktívny vek (0-14 rokov)</td>\n",
       "      <td>nezistené</td>\n",
       "      <td>6301</td>\n",
       "    </tr>\n",
       "    <tr>\n",
       "      <th>1</th>\n",
       "      <td>SK0</td>\n",
       "      <td>Slovenská republika</td>\n",
       "      <td>male</td>\n",
       "      <td>predproduktívny vek (0-14 rokov)</td>\n",
       "      <td>základné vzdelanie (bližšie neuvedené)</td>\n",
       "      <td>1</td>\n",
       "    </tr>\n",
       "    <tr>\n",
       "      <th>2</th>\n",
       "      <td>SK0</td>\n",
       "      <td>Slovenská republika</td>\n",
       "      <td>male</td>\n",
       "      <td>predproduktívny vek (0-14 rokov)</td>\n",
       "      <td>základné vzdelanie - 1. stupeň základnej školy</td>\n",
       "      <td>117157</td>\n",
       "    </tr>\n",
       "    <tr>\n",
       "      <th>3</th>\n",
       "      <td>SK0</td>\n",
       "      <td>Slovenská republika</td>\n",
       "      <td>male</td>\n",
       "      <td>predproduktívny vek (0-14 rokov)</td>\n",
       "      <td>základné vzdelanie - 2. stupeň základnej školy</td>\n",
       "      <td>66</td>\n",
       "    </tr>\n",
       "    <tr>\n",
       "      <th>4</th>\n",
       "      <td>SK0</td>\n",
       "      <td>Slovenská republika</td>\n",
       "      <td>male</td>\n",
       "      <td>predproduktívny vek (0-14 rokov)</td>\n",
       "      <td>bez ukončeného vzdelania – osoby vo veku 0-14 ...</td>\n",
       "      <td>320751</td>\n",
       "    </tr>\n",
       "  </tbody>\n",
       "</table>\n",
       "</div>"
      ]
     },
     "metadata": {},
     "output_type": "display_data"
    },
    {
     "data": {
      "text/plain": [
       "  NUTS1_CODE           state_name   sex  age  \\\n",
       "0        SK0  Slovenská republika  male    0   \n",
       "1        SK0  Slovenská republika  male    1   \n",
       "2        SK0  Slovenská republika  male    2   \n",
       "3        SK0  Slovenská republika  male    3   \n",
       "4        SK0  Slovenská republika  male    4   \n",
       "\n",
       "                                           education  \\\n",
       "0  bez ukončeného vzdelania – osoby vo veku 0-14 ...   \n",
       "1  bez ukončeného vzdelania – osoby vo veku 0-14 ...   \n",
       "2  bez ukončeného vzdelania – osoby vo veku 0-14 ...   \n",
       "3  bez ukončeného vzdelania – osoby vo veku 0-14 ...   \n",
       "4  bez ukončeného vzdelania – osoby vo veku 0-14 ...   \n",
       "\n",
       "                      current_economic_activity  count  \n",
       "0  dieťa do začatia povinnej školskej dochádzky  29036  \n",
       "1  dieťa do začatia povinnej školskej dochádzky  30033  \n",
       "2  dieťa do začatia povinnej školskej dochádzky  30808  \n",
       "3  dieťa do začatia povinnej školskej dochádzky  31100  \n",
       "4  dieťa do začatia povinnej školskej dochádzky  30873  "
      ],
      "text/html": [
       "<div>\n",
       "<style scoped>\n",
       "    .dataframe tbody tr th:only-of-type {\n",
       "        vertical-align: middle;\n",
       "    }\n",
       "\n",
       "    .dataframe tbody tr th {\n",
       "        vertical-align: top;\n",
       "    }\n",
       "\n",
       "    .dataframe thead th {\n",
       "        text-align: right;\n",
       "    }\n",
       "</style>\n",
       "<table border=\"1\" class=\"dataframe\">\n",
       "  <thead>\n",
       "    <tr style=\"text-align: right;\">\n",
       "      <th></th>\n",
       "      <th>NUTS1_CODE</th>\n",
       "      <th>state_name</th>\n",
       "      <th>sex</th>\n",
       "      <th>age</th>\n",
       "      <th>education</th>\n",
       "      <th>current_economic_activity</th>\n",
       "      <th>count</th>\n",
       "    </tr>\n",
       "  </thead>\n",
       "  <tbody>\n",
       "    <tr>\n",
       "      <th>0</th>\n",
       "      <td>SK0</td>\n",
       "      <td>Slovenská republika</td>\n",
       "      <td>male</td>\n",
       "      <td>0</td>\n",
       "      <td>bez ukončeného vzdelania – osoby vo veku 0-14 ...</td>\n",
       "      <td>dieťa do začatia povinnej školskej dochádzky</td>\n",
       "      <td>29036</td>\n",
       "    </tr>\n",
       "    <tr>\n",
       "      <th>1</th>\n",
       "      <td>SK0</td>\n",
       "      <td>Slovenská republika</td>\n",
       "      <td>male</td>\n",
       "      <td>1</td>\n",
       "      <td>bez ukončeného vzdelania – osoby vo veku 0-14 ...</td>\n",
       "      <td>dieťa do začatia povinnej školskej dochádzky</td>\n",
       "      <td>30033</td>\n",
       "    </tr>\n",
       "    <tr>\n",
       "      <th>2</th>\n",
       "      <td>SK0</td>\n",
       "      <td>Slovenská republika</td>\n",
       "      <td>male</td>\n",
       "      <td>2</td>\n",
       "      <td>bez ukončeného vzdelania – osoby vo veku 0-14 ...</td>\n",
       "      <td>dieťa do začatia povinnej školskej dochádzky</td>\n",
       "      <td>30808</td>\n",
       "    </tr>\n",
       "    <tr>\n",
       "      <th>3</th>\n",
       "      <td>SK0</td>\n",
       "      <td>Slovenská republika</td>\n",
       "      <td>male</td>\n",
       "      <td>3</td>\n",
       "      <td>bez ukončeného vzdelania – osoby vo veku 0-14 ...</td>\n",
       "      <td>dieťa do začatia povinnej školskej dochádzky</td>\n",
       "      <td>31100</td>\n",
       "    </tr>\n",
       "    <tr>\n",
       "      <th>4</th>\n",
       "      <td>SK0</td>\n",
       "      <td>Slovenská republika</td>\n",
       "      <td>male</td>\n",
       "      <td>4</td>\n",
       "      <td>bez ukončeného vzdelania – osoby vo veku 0-14 ...</td>\n",
       "      <td>dieťa do začatia povinnej školskej dochádzky</td>\n",
       "      <td>30873</td>\n",
       "    </tr>\n",
       "  </tbody>\n",
       "</table>\n",
       "</div>"
      ]
     },
     "metadata": {},
     "output_type": "display_data"
    }
   ],
   "execution_count": 3
  },
  {
   "metadata": {},
   "cell_type": "markdown",
   "source": "## Basic demographic analysis",
   "id": "78089101c1d9fc60"
  },
  {
   "metadata": {},
   "cell_type": "markdown",
   "source": "### Population pyramid",
   "id": "a0b8a55b6a9c8129"
  },
  {
   "metadata": {
    "ExecuteTime": {
     "end_time": "2024-05-02T06:16:06.422510Z",
     "start_time": "2024-05-02T06:16:06.407842Z"
    }
   },
   "cell_type": "code",
   "source": [
    "grouped_by_sex_age = table_040_SK.groupby(['sex', 'age'])['count'].sum()\n",
    "women_counts = grouped_by_sex_age.loc['female']\n",
    "men_counts = -1 * grouped_by_sex_age.loc['male']"
   ],
   "id": "66b1b582ee54c5f1",
   "outputs": [],
   "execution_count": 4
  },
  {
   "metadata": {
    "ExecuteTime": {
     "end_time": "2024-05-02T06:16:07.006503Z",
     "start_time": "2024-05-02T06:16:06.424545Z"
    }
   },
   "cell_type": "code",
   "source": [
    "# TODO: legend and beauty\n",
    "figure, axes = plt.subplots(figsize=(10, 10))\n",
    "\n",
    "sns.histplot(y=women_counts.index, weights=women_counts, binwidth=1, color='red')\n",
    "sns.histplot(y=men_counts.index, weights=men_counts, binwidth=1, color='blue')\n",
    "pass"
   ],
   "id": "87a9235f281f28c",
   "outputs": [
    {
     "name": "stderr",
     "output_type": "stream",
     "text": [
      "C:\\Users\\andru_kfgnofp\\anaconda3\\envs\\mathprofi-education\\Lib\\site-packages\\seaborn\\_oldcore.py:1119: FutureWarning: use_inf_as_na option is deprecated and will be removed in a future version. Convert inf values to NaN before operating instead.\n",
      "  with pd.option_context('mode.use_inf_as_na', True):\n",
      "C:\\Users\\andru_kfgnofp\\anaconda3\\envs\\mathprofi-education\\Lib\\site-packages\\seaborn\\_oldcore.py:1119: FutureWarning: use_inf_as_na option is deprecated and will be removed in a future version. Convert inf values to NaN before operating instead.\n",
      "  with pd.option_context('mode.use_inf_as_na', True):\n"
     ]
    },
    {
     "data": {
      "text/plain": [
       "<Figure size 1000x1000 with 1 Axes>"
      ],
      "image/png": "[encoded data removed]"
     },
     "metadata": {},
     "output_type": "display_data"
    }
   ],
   "execution_count": 5
  },
  {
   "metadata": {},
   "cell_type": "markdown",
   "source": "### Education specialization",
   "id": "7eae0addc100a7d1"
  },
  {
   "metadata": {
    "ExecuteTime": {
     "end_time": "2024-05-02T06:16:07.012373Z",
     "start_time": "2024-05-02T06:16:07.007505Z"
    }
   },
   "cell_type": "code",
   "source": "# TODO: someone's data (Sasha's idk)",
   "id": "df7a91f508711fed",
   "outputs": [],
   "execution_count": 6
  },
  {
   "metadata": {
    "ExecuteTime": {
     "end_time": "2024-05-02T06:16:07.017924Z",
     "start_time": "2024-05-02T06:16:07.014378Z"
    }
   },
   "cell_type": "code",
   "source": "# TODO: someone's graph (barplot idk)",
   "id": "ff52561d474b8ac7",
   "outputs": [],
   "execution_count": 7
  },
  {
   "metadata": {},
   "cell_type": "markdown",
   "source": "### Employment specialization",
   "id": "2d0d09cb680fb906"
  },
  {
   "metadata": {
    "ExecuteTime": {
     "end_time": "2024-05-02T06:16:07.023103Z",
     "start_time": "2024-05-02T06:16:07.020229Z"
    }
   },
   "cell_type": "code",
   "source": "# TODO: someone's data (Sasha's idk)",
   "id": "d3a81e1e2003e9d3",
   "outputs": [],
   "execution_count": 8
  },
  {
   "metadata": {
    "ExecuteTime": {
     "end_time": "2024-05-02T06:16:07.028659Z",
     "start_time": "2024-05-02T06:16:07.024110Z"
    }
   },
   "cell_type": "code",
   "source": "# TODO: someone's graph (barplot idk)",
   "id": "a921783c7264f8a6",
   "outputs": [],
   "execution_count": 9
  },
  {
   "metadata": {},
   "cell_type": "markdown",
   "source": "### Geographic specialization of education",
   "id": "fdba788c2dc6f1f5"
  },
  {
   "metadata": {
    "ExecuteTime": {
     "end_time": "2024-05-02T06:16:07.034755Z",
     "start_time": "2024-05-02T06:16:07.029700Z"
    }
   },
   "cell_type": "code",
   "source": "# TODO: Kolya's data",
   "id": "2d161d5611dcd793",
   "outputs": [],
   "execution_count": 10
  },
  {
   "metadata": {
    "ExecuteTime": {
     "end_time": "2024-05-02T06:16:07.039121Z",
     "start_time": "2024-05-02T06:16:07.035765Z"
    }
   },
   "cell_type": "code",
   "source": "# TODO: Kolya's graphs",
   "id": "dfc80ba9c86e49d4",
   "outputs": [],
   "execution_count": 11
  },
  {
   "metadata": {},
   "cell_type": "markdown",
   "source": "### Gender specialization of education with respect to age",
   "id": "519ef3027dcac0c5"
  },
  {
   "metadata": {
    "ExecuteTime": {
     "end_time": "2024-05-02T06:16:07.043391Z",
     "start_time": "2024-05-02T06:16:07.040147Z"
    }
   },
   "cell_type": "code",
   "source": "# TODO: first hypothesis by Filip Kerak",
   "id": "386fb507930c69e4",
   "outputs": [],
   "execution_count": 12
  },
  {
   "metadata": {},
   "cell_type": "markdown",
   "source": "### Uneducated population",
   "id": "324345cc36b8b918"
  },
  {
   "metadata": {
    "ExecuteTime": {
     "end_time": "2024-05-02T06:16:07.048229Z",
     "start_time": "2024-05-02T06:16:07.044399Z"
    }
   },
   "cell_type": "code",
   "source": "# TODO: Romani people hypothesis",
   "id": "428bf94ff8e062dd",
   "outputs": [],
   "execution_count": 13
  }
 ],
 "metadata": {
  "kernelspec": {
   "display_name": "Python 3",
   "language": "python",
   "name": "python3"
  },
  "language_info": {
   "codemirror_mode": {
    "name": "ipython",
    "version": 2
   },
   "file_extension": ".py",
   "mimetype": "text/x-python",
   "name": "python",
   "nbconvert_exporter": "python",
   "pygments_lexer": "ipython2",
   "version": "2.7.6"
  }
 },
 "nbformat": 4,
 "nbformat_minor": 5
}
