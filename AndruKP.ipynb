{
 "cells": [
  {
   "cell_type": "markdown",
   "source": [
    "# Education in Slovakia"
   ],
   "metadata": {
    "collapsed": false
   },
   "id": "559ced0250015a0b"
  },
  {
   "cell_type": "markdown",
   "source": [
    "## Import packages"
   ],
   "metadata": {
    "collapsed": false
   },
   "id": "336ca3dba4f33aa7"
  },
  {
   "cell_type": "code",
   "execution_count": 38,
   "id": "initial_id",
   "metadata": {
    "collapsed": true,
    "ExecuteTime": {
     "end_time": "2024-04-16T11:41:06.490560500Z",
     "start_time": "2024-04-16T11:41:06.481365500Z"
    }
   },
   "outputs": [],
   "source": [
    "import numpy as np\n",
    "import pandas as pd\n",
    "\n",
    "import matplotlib.pyplot as plt\n",
    "import seaborn as sns\n",
    "\n",
    "from IPython.display import display\n",
    "import os"
   ]
  },
  {
   "cell_type": "markdown",
   "source": [
    "## How does the data look like?"
   ],
   "metadata": {
    "collapsed": false
   },
   "id": "154c95ef66e98e15"
  },
  {
   "cell_type": "code",
   "execution_count": 2,
   "outputs": [
    {
     "data": {
      "text/plain": "'RV_O_010_L_OB_SK.CSV'"
     },
     "metadata": {},
     "output_type": "display_data"
    },
    {
     "data": {
      "text/plain": "  Kód okresu      Kód obce        Názov okresu  \\\n0     SK0101  SK0101528595  Okres Bratislava I   \n1     SK0101  SK0101528595  Okres Bratislava I   \n2     SK0101  SK0101528595  Okres Bratislava I   \n3     SK0101  SK0101528595  Okres Bratislava I   \n4     SK0101  SK0101528595  Okres Bratislava I   \n\n                              Názov obce Pohlavie  \\\n0  Bratislava - mestská časť Staré Mesto      muž   \n1  Bratislava - mestská časť Staré Mesto      muž   \n2  Bratislava - mestská časť Staré Mesto      muž   \n3  Bratislava - mestská časť Staré Mesto      muž   \n4  Bratislava - mestská časť Staré Mesto      muž   \n\n          Ekonomické vekové skupiny  \\\n0  predproduktívny vek (0-14 rokov)   \n1  predproduktívny vek (0-14 rokov)   \n2  predproduktívny vek (0-14 rokov)   \n3  predproduktívny vek (0-14 rokov)   \n4  predproduktívny vek (0-14 rokov)   \n\n                                           Vzdelanie  abs.  \n0                                            dôverné     1  \n1                                          nezistené    56  \n2     základné vzdelanie - 1. stupeň základnej školy   835  \n3     základné vzdelanie - 2. stupeň základnej školy     2  \n4  bez ukončeného vzdelania – osoby vo veku 0-14 ...  2671  ",
      "text/html": "<div>\n<style scoped>\n    .dataframe tbody tr th:only-of-type {\n        vertical-align: middle;\n    }\n\n    .dataframe tbody tr th {\n        vertical-align: top;\n    }\n\n    .dataframe thead th {\n        text-align: right;\n    }\n</style>\n<table border=\"1\" class=\"dataframe\">\n  <thead>\n    <tr style=\"text-align: right;\">\n      <th></th>\n      <th>Kód okresu</th>\n      <th>Kód obce</th>\n      <th>Názov okresu</th>\n      <th>Názov obce</th>\n      <th>Pohlavie</th>\n      <th>Ekonomické vekové skupiny</th>\n      <th>Vzdelanie</th>\n      <th>abs.</th>\n    </tr>\n  </thead>\n  <tbody>\n    <tr>\n      <th>0</th>\n      <td>SK0101</td>\n      <td>SK0101528595</td>\n      <td>Okres Bratislava I</td>\n      <td>Bratislava - mestská časť Staré Mesto</td>\n      <td>muž</td>\n      <td>predproduktívny vek (0-14 rokov)</td>\n      <td>dôverné</td>\n      <td>1</td>\n    </tr>\n    <tr>\n      <th>1</th>\n      <td>SK0101</td>\n      <td>SK0101528595</td>\n      <td>Okres Bratislava I</td>\n      <td>Bratislava - mestská časť Staré Mesto</td>\n      <td>muž</td>\n      <td>predproduktívny vek (0-14 rokov)</td>\n      <td>nezistené</td>\n      <td>56</td>\n    </tr>\n    <tr>\n      <th>2</th>\n      <td>SK0101</td>\n      <td>SK0101528595</td>\n      <td>Okres Bratislava I</td>\n      <td>Bratislava - mestská časť Staré Mesto</td>\n      <td>muž</td>\n      <td>predproduktívny vek (0-14 rokov)</td>\n      <td>základné vzdelanie - 1. stupeň základnej školy</td>\n      <td>835</td>\n    </tr>\n    <tr>\n      <th>3</th>\n      <td>SK0101</td>\n      <td>SK0101528595</td>\n      <td>Okres Bratislava I</td>\n      <td>Bratislava - mestská časť Staré Mesto</td>\n      <td>muž</td>\n      <td>predproduktívny vek (0-14 rokov)</td>\n      <td>základné vzdelanie - 2. stupeň základnej školy</td>\n      <td>2</td>\n    </tr>\n    <tr>\n      <th>4</th>\n      <td>SK0101</td>\n      <td>SK0101528595</td>\n      <td>Okres Bratislava I</td>\n      <td>Bratislava - mestská časť Staré Mesto</td>\n      <td>muž</td>\n      <td>predproduktívny vek (0-14 rokov)</td>\n      <td>bez ukončeného vzdelania – osoby vo veku 0-14 ...</td>\n      <td>2671</td>\n    </tr>\n  </tbody>\n</table>\n</div>"
     },
     "metadata": {},
     "output_type": "display_data"
    },
    {
     "data": {
      "text/plain": "'RV_O_010_L_OK_SK.CSV'"
     },
     "metadata": {},
     "output_type": "display_data"
    },
    {
     "data": {
      "text/plain": "  Kód okresu        Názov okresu Pohlavie         Ekonomické vekové skupiny  \\\n0     SK0101  Okres Bratislava I      muž  predproduktívny vek (0-14 rokov)   \n1     SK0101  Okres Bratislava I      muž  predproduktívny vek (0-14 rokov)   \n2     SK0101  Okres Bratislava I      muž  predproduktívny vek (0-14 rokov)   \n3     SK0101  Okres Bratislava I      muž  predproduktívny vek (0-14 rokov)   \n4     SK0101  Okres Bratislava I      muž  predproduktívny vek (0-14 rokov)   \n\n                                           Vzdelanie  abs.  \n0                                            dôverné     1  \n1                                          nezistené    56  \n2     základné vzdelanie - 1. stupeň základnej školy   835  \n3     základné vzdelanie - 2. stupeň základnej školy     2  \n4  bez ukončeného vzdelania – osoby vo veku 0-14 ...  2671  ",
      "text/html": "<div>\n<style scoped>\n    .dataframe tbody tr th:only-of-type {\n        vertical-align: middle;\n    }\n\n    .dataframe tbody tr th {\n        vertical-align: top;\n    }\n\n    .dataframe thead th {\n        text-align: right;\n    }\n</style>\n<table border=\"1\" class=\"dataframe\">\n  <thead>\n    <tr style=\"text-align: right;\">\n      <th></th>\n      <th>Kód okresu</th>\n      <th>Názov okresu</th>\n      <th>Pohlavie</th>\n      <th>Ekonomické vekové skupiny</th>\n      <th>Vzdelanie</th>\n      <th>abs.</th>\n    </tr>\n  </thead>\n  <tbody>\n    <tr>\n      <th>0</th>\n      <td>SK0101</td>\n      <td>Okres Bratislava I</td>\n      <td>muž</td>\n      <td>predproduktívny vek (0-14 rokov)</td>\n      <td>dôverné</td>\n      <td>1</td>\n    </tr>\n    <tr>\n      <th>1</th>\n      <td>SK0101</td>\n      <td>Okres Bratislava I</td>\n      <td>muž</td>\n      <td>predproduktívny vek (0-14 rokov)</td>\n      <td>nezistené</td>\n      <td>56</td>\n    </tr>\n    <tr>\n      <th>2</th>\n      <td>SK0101</td>\n      <td>Okres Bratislava I</td>\n      <td>muž</td>\n      <td>predproduktívny vek (0-14 rokov)</td>\n      <td>základné vzdelanie - 1. stupeň základnej školy</td>\n      <td>835</td>\n    </tr>\n    <tr>\n      <th>3</th>\n      <td>SK0101</td>\n      <td>Okres Bratislava I</td>\n      <td>muž</td>\n      <td>predproduktívny vek (0-14 rokov)</td>\n      <td>základné vzdelanie - 2. stupeň základnej školy</td>\n      <td>2</td>\n    </tr>\n    <tr>\n      <th>4</th>\n      <td>SK0101</td>\n      <td>Okres Bratislava I</td>\n      <td>muž</td>\n      <td>predproduktívny vek (0-14 rokov)</td>\n      <td>bez ukončeného vzdelania – osoby vo veku 0-14 ...</td>\n      <td>2671</td>\n    </tr>\n  </tbody>\n</table>\n</div>"
     },
     "metadata": {},
     "output_type": "display_data"
    },
    {
     "data": {
      "text/plain": "'RV_O_010_R_KR_SK.CSV'"
     },
     "metadata": {},
     "output_type": "display_data"
    },
    {
     "data": {
      "text/plain": "  Kód štátu          Názov štátu Kód oblasti Kód kraja      Názov oblasti  \\\n0       SK0  Slovenská republika        SK01     SK010  Bratislavský kraj   \n1       SK0  Slovenská republika        SK01     SK010  Bratislavský kraj   \n2       SK0  Slovenská republika        SK01     SK010  Bratislavský kraj   \n3       SK0  Slovenská republika        SK01     SK010  Bratislavský kraj   \n4       SK0  Slovenská republika        SK01     SK010  Bratislavský kraj   \n\n         Názov kraja Pohlavie         Ekonomické vekové skupiny  \\\n0  Bratislavský kraj      muž  predproduktívny vek (0-14 rokov)   \n1  Bratislavský kraj      muž  predproduktívny vek (0-14 rokov)   \n2  Bratislavský kraj      muž  predproduktívny vek (0-14 rokov)   \n3  Bratislavský kraj      muž  predproduktívny vek (0-14 rokov)   \n4  Bratislavský kraj      muž     produktívny vek (15-64 rokov)   \n\n                                           Vzdelanie   abs.  \n0                                          nezistené    585  \n1     základné vzdelanie - 1. stupeň základnej školy  15080  \n2     základné vzdelanie - 2. stupeň základnej školy     27  \n3  bez ukončeného vzdelania – osoby vo veku 0-14 ...  46375  \n4                                          nezistené  17471  ",
      "text/html": "<div>\n<style scoped>\n    .dataframe tbody tr th:only-of-type {\n        vertical-align: middle;\n    }\n\n    .dataframe tbody tr th {\n        vertical-align: top;\n    }\n\n    .dataframe thead th {\n        text-align: right;\n    }\n</style>\n<table border=\"1\" class=\"dataframe\">\n  <thead>\n    <tr style=\"text-align: right;\">\n      <th></th>\n      <th>Kód štátu</th>\n      <th>Názov štátu</th>\n      <th>Kód oblasti</th>\n      <th>Kód kraja</th>\n      <th>Názov oblasti</th>\n      <th>Názov kraja</th>\n      <th>Pohlavie</th>\n      <th>Ekonomické vekové skupiny</th>\n      <th>Vzdelanie</th>\n      <th>abs.</th>\n    </tr>\n  </thead>\n  <tbody>\n    <tr>\n      <th>0</th>\n      <td>SK0</td>\n      <td>Slovenská republika</td>\n      <td>SK01</td>\n      <td>SK010</td>\n      <td>Bratislavský kraj</td>\n      <td>Bratislavský kraj</td>\n      <td>muž</td>\n      <td>predproduktívny vek (0-14 rokov)</td>\n      <td>nezistené</td>\n      <td>585</td>\n    </tr>\n    <tr>\n      <th>1</th>\n      <td>SK0</td>\n      <td>Slovenská republika</td>\n      <td>SK01</td>\n      <td>SK010</td>\n      <td>Bratislavský kraj</td>\n      <td>Bratislavský kraj</td>\n      <td>muž</td>\n      <td>predproduktívny vek (0-14 rokov)</td>\n      <td>základné vzdelanie - 1. stupeň základnej školy</td>\n      <td>15080</td>\n    </tr>\n    <tr>\n      <th>2</th>\n      <td>SK0</td>\n      <td>Slovenská republika</td>\n      <td>SK01</td>\n      <td>SK010</td>\n      <td>Bratislavský kraj</td>\n      <td>Bratislavský kraj</td>\n      <td>muž</td>\n      <td>predproduktívny vek (0-14 rokov)</td>\n      <td>základné vzdelanie - 2. stupeň základnej školy</td>\n      <td>27</td>\n    </tr>\n    <tr>\n      <th>3</th>\n      <td>SK0</td>\n      <td>Slovenská republika</td>\n      <td>SK01</td>\n      <td>SK010</td>\n      <td>Bratislavský kraj</td>\n      <td>Bratislavský kraj</td>\n      <td>muž</td>\n      <td>predproduktívny vek (0-14 rokov)</td>\n      <td>bez ukončeného vzdelania – osoby vo veku 0-14 ...</td>\n      <td>46375</td>\n    </tr>\n    <tr>\n      <th>4</th>\n      <td>SK0</td>\n      <td>Slovenská republika</td>\n      <td>SK01</td>\n      <td>SK010</td>\n      <td>Bratislavský kraj</td>\n      <td>Bratislavský kraj</td>\n      <td>muž</td>\n      <td>produktívny vek (15-64 rokov)</td>\n      <td>nezistené</td>\n      <td>17471</td>\n    </tr>\n  </tbody>\n</table>\n</div>"
     },
     "metadata": {},
     "output_type": "display_data"
    },
    {
     "data": {
      "text/plain": "'RV_O_010_R_OL_SK.CSV'"
     },
     "metadata": {},
     "output_type": "display_data"
    },
    {
     "data": {
      "text/plain": "  Kód štátu Kód oblasti          Názov štátu      Názov oblasti Pohlavie  \\\n0       SK0        SK01  Slovenská republika  Bratislavský kraj      muž   \n1       SK0        SK01  Slovenská republika  Bratislavský kraj      muž   \n2       SK0        SK01  Slovenská republika  Bratislavský kraj      muž   \n3       SK0        SK01  Slovenská republika  Bratislavský kraj      muž   \n4       SK0        SK01  Slovenská republika  Bratislavský kraj      muž   \n\n          Ekonomické vekové skupiny  \\\n0  predproduktívny vek (0-14 rokov)   \n1  predproduktívny vek (0-14 rokov)   \n2  predproduktívny vek (0-14 rokov)   \n3  predproduktívny vek (0-14 rokov)   \n4     produktívny vek (15-64 rokov)   \n\n                                           Vzdelanie   abs.  \n0                                          nezistené    585  \n1     základné vzdelanie - 1. stupeň základnej školy  15080  \n2     základné vzdelanie - 2. stupeň základnej školy     27  \n3  bez ukončeného vzdelania – osoby vo veku 0-14 ...  46375  \n4                                          nezistené  17471  ",
      "text/html": "<div>\n<style scoped>\n    .dataframe tbody tr th:only-of-type {\n        vertical-align: middle;\n    }\n\n    .dataframe tbody tr th {\n        vertical-align: top;\n    }\n\n    .dataframe thead th {\n        text-align: right;\n    }\n</style>\n<table border=\"1\" class=\"dataframe\">\n  <thead>\n    <tr style=\"text-align: right;\">\n      <th></th>\n      <th>Kód štátu</th>\n      <th>Kód oblasti</th>\n      <th>Názov štátu</th>\n      <th>Názov oblasti</th>\n      <th>Pohlavie</th>\n      <th>Ekonomické vekové skupiny</th>\n      <th>Vzdelanie</th>\n      <th>abs.</th>\n    </tr>\n  </thead>\n  <tbody>\n    <tr>\n      <th>0</th>\n      <td>SK0</td>\n      <td>SK01</td>\n      <td>Slovenská republika</td>\n      <td>Bratislavský kraj</td>\n      <td>muž</td>\n      <td>predproduktívny vek (0-14 rokov)</td>\n      <td>nezistené</td>\n      <td>585</td>\n    </tr>\n    <tr>\n      <th>1</th>\n      <td>SK0</td>\n      <td>SK01</td>\n      <td>Slovenská republika</td>\n      <td>Bratislavský kraj</td>\n      <td>muž</td>\n      <td>predproduktívny vek (0-14 rokov)</td>\n      <td>základné vzdelanie - 1. stupeň základnej školy</td>\n      <td>15080</td>\n    </tr>\n    <tr>\n      <th>2</th>\n      <td>SK0</td>\n      <td>SK01</td>\n      <td>Slovenská republika</td>\n      <td>Bratislavský kraj</td>\n      <td>muž</td>\n      <td>predproduktívny vek (0-14 rokov)</td>\n      <td>základné vzdelanie - 2. stupeň základnej školy</td>\n      <td>27</td>\n    </tr>\n    <tr>\n      <th>3</th>\n      <td>SK0</td>\n      <td>SK01</td>\n      <td>Slovenská republika</td>\n      <td>Bratislavský kraj</td>\n      <td>muž</td>\n      <td>predproduktívny vek (0-14 rokov)</td>\n      <td>bez ukončeného vzdelania – osoby vo veku 0-14 ...</td>\n      <td>46375</td>\n    </tr>\n    <tr>\n      <th>4</th>\n      <td>SK0</td>\n      <td>SK01</td>\n      <td>Slovenská republika</td>\n      <td>Bratislavský kraj</td>\n      <td>muž</td>\n      <td>produktívny vek (15-64 rokov)</td>\n      <td>nezistené</td>\n      <td>17471</td>\n    </tr>\n  </tbody>\n</table>\n</div>"
     },
     "metadata": {},
     "output_type": "display_data"
    },
    {
     "data": {
      "text/plain": "'RV_O_010_R_SR_SK.CSV'"
     },
     "metadata": {},
     "output_type": "display_data"
    },
    {
     "data": {
      "text/plain": "  Kód štátu          Názov štátu Pohlavie         Ekonomické vekové skupiny  \\\n0       SK0  Slovenská republika      muž  predproduktívny vek (0-14 rokov)   \n1       SK0  Slovenská republika      muž  predproduktívny vek (0-14 rokov)   \n2       SK0  Slovenská republika      muž  predproduktívny vek (0-14 rokov)   \n3       SK0  Slovenská republika      muž  predproduktívny vek (0-14 rokov)   \n4       SK0  Slovenská republika      muž  predproduktívny vek (0-14 rokov)   \n\n                                           Vzdelanie    abs.  \n0                                          nezistené    6301  \n1             základné vzdelanie (bližšie neuvedené)       1  \n2     základné vzdelanie - 1. stupeň základnej školy  117157  \n3     základné vzdelanie - 2. stupeň základnej školy      66  \n4  bez ukončeného vzdelania – osoby vo veku 0-14 ...  320751  ",
      "text/html": "<div>\n<style scoped>\n    .dataframe tbody tr th:only-of-type {\n        vertical-align: middle;\n    }\n\n    .dataframe tbody tr th {\n        vertical-align: top;\n    }\n\n    .dataframe thead th {\n        text-align: right;\n    }\n</style>\n<table border=\"1\" class=\"dataframe\">\n  <thead>\n    <tr style=\"text-align: right;\">\n      <th></th>\n      <th>Kód štátu</th>\n      <th>Názov štátu</th>\n      <th>Pohlavie</th>\n      <th>Ekonomické vekové skupiny</th>\n      <th>Vzdelanie</th>\n      <th>abs.</th>\n    </tr>\n  </thead>\n  <tbody>\n    <tr>\n      <th>0</th>\n      <td>SK0</td>\n      <td>Slovenská republika</td>\n      <td>muž</td>\n      <td>predproduktívny vek (0-14 rokov)</td>\n      <td>nezistené</td>\n      <td>6301</td>\n    </tr>\n    <tr>\n      <th>1</th>\n      <td>SK0</td>\n      <td>Slovenská republika</td>\n      <td>muž</td>\n      <td>predproduktívny vek (0-14 rokov)</td>\n      <td>základné vzdelanie (bližšie neuvedené)</td>\n      <td>1</td>\n    </tr>\n    <tr>\n      <th>2</th>\n      <td>SK0</td>\n      <td>Slovenská republika</td>\n      <td>muž</td>\n      <td>predproduktívny vek (0-14 rokov)</td>\n      <td>základné vzdelanie - 1. stupeň základnej školy</td>\n      <td>117157</td>\n    </tr>\n    <tr>\n      <th>3</th>\n      <td>SK0</td>\n      <td>Slovenská republika</td>\n      <td>muž</td>\n      <td>predproduktívny vek (0-14 rokov)</td>\n      <td>základné vzdelanie - 2. stupeň základnej školy</td>\n      <td>66</td>\n    </tr>\n    <tr>\n      <th>4</th>\n      <td>SK0</td>\n      <td>Slovenská republika</td>\n      <td>muž</td>\n      <td>predproduktívny vek (0-14 rokov)</td>\n      <td>bez ukončeného vzdelania – osoby vo veku 0-14 ...</td>\n      <td>320751</td>\n    </tr>\n  </tbody>\n</table>\n</div>"
     },
     "metadata": {},
     "output_type": "display_data"
    },
    {
     "data": {
      "text/plain": "'RV_O_040_L_OK_SK.CSV'"
     },
     "metadata": {},
     "output_type": "display_data"
    },
    {
     "data": {
      "text/plain": "  Kód okresu        Názov okresu Pohlavie Vek  \\\n0     SK0101  Okres Bratislava I      muž   0   \n1     SK0101  Okres Bratislava I      muž   1   \n2     SK0101  Okres Bratislava I      muž   2   \n3     SK0101  Okres Bratislava I      muž   3   \n4     SK0101  Okres Bratislava I      muž   4   \n\n                                           Vzdelanie  \\\n0  bez ukončeného vzdelania – osoby vo veku 0-14 ...   \n1  bez ukončeného vzdelania – osoby vo veku 0-14 ...   \n2  bez ukončeného vzdelania – osoby vo veku 0-14 ...   \n3  bez ukončeného vzdelania – osoby vo veku 0-14 ...   \n4  bez ukončeného vzdelania – osoby vo veku 0-14 ...   \n\n                    Súčasná ekonomická aktivita  abs.  \n0  dieťa do začatia povinnej školskej dochádzky   229  \n1  dieťa do začatia povinnej školskej dochádzky   263  \n2  dieťa do začatia povinnej školskej dochádzky   281  \n3  dieťa do začatia povinnej školskej dochádzky   270  \n4  dieťa do začatia povinnej školskej dochádzky   246  ",
      "text/html": "<div>\n<style scoped>\n    .dataframe tbody tr th:only-of-type {\n        vertical-align: middle;\n    }\n\n    .dataframe tbody tr th {\n        vertical-align: top;\n    }\n\n    .dataframe thead th {\n        text-align: right;\n    }\n</style>\n<table border=\"1\" class=\"dataframe\">\n  <thead>\n    <tr style=\"text-align: right;\">\n      <th></th>\n      <th>Kód okresu</th>\n      <th>Názov okresu</th>\n      <th>Pohlavie</th>\n      <th>Vek</th>\n      <th>Vzdelanie</th>\n      <th>Súčasná ekonomická aktivita</th>\n      <th>abs.</th>\n    </tr>\n  </thead>\n  <tbody>\n    <tr>\n      <th>0</th>\n      <td>SK0101</td>\n      <td>Okres Bratislava I</td>\n      <td>muž</td>\n      <td>0</td>\n      <td>bez ukončeného vzdelania – osoby vo veku 0-14 ...</td>\n      <td>dieťa do začatia povinnej školskej dochádzky</td>\n      <td>229</td>\n    </tr>\n    <tr>\n      <th>1</th>\n      <td>SK0101</td>\n      <td>Okres Bratislava I</td>\n      <td>muž</td>\n      <td>1</td>\n      <td>bez ukončeného vzdelania – osoby vo veku 0-14 ...</td>\n      <td>dieťa do začatia povinnej školskej dochádzky</td>\n      <td>263</td>\n    </tr>\n    <tr>\n      <th>2</th>\n      <td>SK0101</td>\n      <td>Okres Bratislava I</td>\n      <td>muž</td>\n      <td>2</td>\n      <td>bez ukončeného vzdelania – osoby vo veku 0-14 ...</td>\n      <td>dieťa do začatia povinnej školskej dochádzky</td>\n      <td>281</td>\n    </tr>\n    <tr>\n      <th>3</th>\n      <td>SK0101</td>\n      <td>Okres Bratislava I</td>\n      <td>muž</td>\n      <td>3</td>\n      <td>bez ukončeného vzdelania – osoby vo veku 0-14 ...</td>\n      <td>dieťa do začatia povinnej školskej dochádzky</td>\n      <td>270</td>\n    </tr>\n    <tr>\n      <th>4</th>\n      <td>SK0101</td>\n      <td>Okres Bratislava I</td>\n      <td>muž</td>\n      <td>4</td>\n      <td>bez ukončeného vzdelania – osoby vo veku 0-14 ...</td>\n      <td>dieťa do začatia povinnej školskej dochádzky</td>\n      <td>246</td>\n    </tr>\n  </tbody>\n</table>\n</div>"
     },
     "metadata": {},
     "output_type": "display_data"
    },
    {
     "data": {
      "text/plain": "'RV_O_040_R_KR_SK.CSV'"
     },
     "metadata": {},
     "output_type": "display_data"
    },
    {
     "data": {
      "text/plain": "  Kód štátu          Názov štátu Kód oblasti Kód kraja      Názov oblasti  \\\n0       SK0  Slovenská republika        SK01     SK010  Bratislavský kraj   \n1       SK0  Slovenská republika        SK01     SK010  Bratislavský kraj   \n2       SK0  Slovenská republika        SK01     SK010  Bratislavský kraj   \n3       SK0  Slovenská republika        SK01     SK010  Bratislavský kraj   \n4       SK0  Slovenská republika        SK01     SK010  Bratislavský kraj   \n\n         Názov kraja Pohlavie Vek  \\\n0  Bratislavský kraj      muž   0   \n1  Bratislavský kraj      muž   1   \n2  Bratislavský kraj      muž   2   \n3  Bratislavský kraj      muž   3   \n4  Bratislavský kraj      muž   4   \n\n                                           Vzdelanie  \\\n0  bez ukončeného vzdelania – osoby vo veku 0-14 ...   \n1  bez ukončeného vzdelania – osoby vo veku 0-14 ...   \n2  bez ukončeného vzdelania – osoby vo veku 0-14 ...   \n3  bez ukončeného vzdelania – osoby vo veku 0-14 ...   \n4  bez ukončeného vzdelania – osoby vo veku 0-14 ...   \n\n                    Súčasná ekonomická aktivita  abs.  \n0  dieťa do začatia povinnej školskej dochádzky  4261  \n1  dieťa do začatia povinnej školskej dochádzky  4464  \n2  dieťa do začatia povinnej školskej dochádzky  4834  \n3  dieťa do začatia povinnej školskej dochádzky  4736  \n4  dieťa do začatia povinnej školskej dochádzky  4650  ",
      "text/html": "<div>\n<style scoped>\n    .dataframe tbody tr th:only-of-type {\n        vertical-align: middle;\n    }\n\n    .dataframe tbody tr th {\n        vertical-align: top;\n    }\n\n    .dataframe thead th {\n        text-align: right;\n    }\n</style>\n<table border=\"1\" class=\"dataframe\">\n  <thead>\n    <tr style=\"text-align: right;\">\n      <th></th>\n      <th>Kód štátu</th>\n      <th>Názov štátu</th>\n      <th>Kód oblasti</th>\n      <th>Kód kraja</th>\n      <th>Názov oblasti</th>\n      <th>Názov kraja</th>\n      <th>Pohlavie</th>\n      <th>Vek</th>\n      <th>Vzdelanie</th>\n      <th>Súčasná ekonomická aktivita</th>\n      <th>abs.</th>\n    </tr>\n  </thead>\n  <tbody>\n    <tr>\n      <th>0</th>\n      <td>SK0</td>\n      <td>Slovenská republika</td>\n      <td>SK01</td>\n      <td>SK010</td>\n      <td>Bratislavský kraj</td>\n      <td>Bratislavský kraj</td>\n      <td>muž</td>\n      <td>0</td>\n      <td>bez ukončeného vzdelania – osoby vo veku 0-14 ...</td>\n      <td>dieťa do začatia povinnej školskej dochádzky</td>\n      <td>4261</td>\n    </tr>\n    <tr>\n      <th>1</th>\n      <td>SK0</td>\n      <td>Slovenská republika</td>\n      <td>SK01</td>\n      <td>SK010</td>\n      <td>Bratislavský kraj</td>\n      <td>Bratislavský kraj</td>\n      <td>muž</td>\n      <td>1</td>\n      <td>bez ukončeného vzdelania – osoby vo veku 0-14 ...</td>\n      <td>dieťa do začatia povinnej školskej dochádzky</td>\n      <td>4464</td>\n    </tr>\n    <tr>\n      <th>2</th>\n      <td>SK0</td>\n      <td>Slovenská republika</td>\n      <td>SK01</td>\n      <td>SK010</td>\n      <td>Bratislavský kraj</td>\n      <td>Bratislavský kraj</td>\n      <td>muž</td>\n      <td>2</td>\n      <td>bez ukončeného vzdelania – osoby vo veku 0-14 ...</td>\n      <td>dieťa do začatia povinnej školskej dochádzky</td>\n      <td>4834</td>\n    </tr>\n    <tr>\n      <th>3</th>\n      <td>SK0</td>\n      <td>Slovenská republika</td>\n      <td>SK01</td>\n      <td>SK010</td>\n      <td>Bratislavský kraj</td>\n      <td>Bratislavský kraj</td>\n      <td>muž</td>\n      <td>3</td>\n      <td>bez ukončeného vzdelania – osoby vo veku 0-14 ...</td>\n      <td>dieťa do začatia povinnej školskej dochádzky</td>\n      <td>4736</td>\n    </tr>\n    <tr>\n      <th>4</th>\n      <td>SK0</td>\n      <td>Slovenská republika</td>\n      <td>SK01</td>\n      <td>SK010</td>\n      <td>Bratislavský kraj</td>\n      <td>Bratislavský kraj</td>\n      <td>muž</td>\n      <td>4</td>\n      <td>bez ukončeného vzdelania – osoby vo veku 0-14 ...</td>\n      <td>dieťa do začatia povinnej školskej dochádzky</td>\n      <td>4650</td>\n    </tr>\n  </tbody>\n</table>\n</div>"
     },
     "metadata": {},
     "output_type": "display_data"
    },
    {
     "data": {
      "text/plain": "'RV_O_040_R_OL_SK.CSV'"
     },
     "metadata": {},
     "output_type": "display_data"
    },
    {
     "data": {
      "text/plain": "  Kód štátu Kód oblasti          Názov štátu      Názov oblasti Pohlavie Vek  \\\n0       SK0        SK01  Slovenská republika  Bratislavský kraj      muž   0   \n1       SK0        SK01  Slovenská republika  Bratislavský kraj      muž   1   \n2       SK0        SK01  Slovenská republika  Bratislavský kraj      muž   2   \n3       SK0        SK01  Slovenská republika  Bratislavský kraj      muž   3   \n4       SK0        SK01  Slovenská republika  Bratislavský kraj      muž   4   \n\n                                           Vzdelanie  \\\n0  bez ukončeného vzdelania – osoby vo veku 0-14 ...   \n1  bez ukončeného vzdelania – osoby vo veku 0-14 ...   \n2  bez ukončeného vzdelania – osoby vo veku 0-14 ...   \n3  bez ukončeného vzdelania – osoby vo veku 0-14 ...   \n4  bez ukončeného vzdelania – osoby vo veku 0-14 ...   \n\n                    Súčasná ekonomická aktivita  abs.  \n0  dieťa do začatia povinnej školskej dochádzky  4261  \n1  dieťa do začatia povinnej školskej dochádzky  4464  \n2  dieťa do začatia povinnej školskej dochádzky  4834  \n3  dieťa do začatia povinnej školskej dochádzky  4736  \n4  dieťa do začatia povinnej školskej dochádzky  4650  ",
      "text/html": "<div>\n<style scoped>\n    .dataframe tbody tr th:only-of-type {\n        vertical-align: middle;\n    }\n\n    .dataframe tbody tr th {\n        vertical-align: top;\n    }\n\n    .dataframe thead th {\n        text-align: right;\n    }\n</style>\n<table border=\"1\" class=\"dataframe\">\n  <thead>\n    <tr style=\"text-align: right;\">\n      <th></th>\n      <th>Kód štátu</th>\n      <th>Kód oblasti</th>\n      <th>Názov štátu</th>\n      <th>Názov oblasti</th>\n      <th>Pohlavie</th>\n      <th>Vek</th>\n      <th>Vzdelanie</th>\n      <th>Súčasná ekonomická aktivita</th>\n      <th>abs.</th>\n    </tr>\n  </thead>\n  <tbody>\n    <tr>\n      <th>0</th>\n      <td>SK0</td>\n      <td>SK01</td>\n      <td>Slovenská republika</td>\n      <td>Bratislavský kraj</td>\n      <td>muž</td>\n      <td>0</td>\n      <td>bez ukončeného vzdelania – osoby vo veku 0-14 ...</td>\n      <td>dieťa do začatia povinnej školskej dochádzky</td>\n      <td>4261</td>\n    </tr>\n    <tr>\n      <th>1</th>\n      <td>SK0</td>\n      <td>SK01</td>\n      <td>Slovenská republika</td>\n      <td>Bratislavský kraj</td>\n      <td>muž</td>\n      <td>1</td>\n      <td>bez ukončeného vzdelania – osoby vo veku 0-14 ...</td>\n      <td>dieťa do začatia povinnej školskej dochádzky</td>\n      <td>4464</td>\n    </tr>\n    <tr>\n      <th>2</th>\n      <td>SK0</td>\n      <td>SK01</td>\n      <td>Slovenská republika</td>\n      <td>Bratislavský kraj</td>\n      <td>muž</td>\n      <td>2</td>\n      <td>bez ukončeného vzdelania – osoby vo veku 0-14 ...</td>\n      <td>dieťa do začatia povinnej školskej dochádzky</td>\n      <td>4834</td>\n    </tr>\n    <tr>\n      <th>3</th>\n      <td>SK0</td>\n      <td>SK01</td>\n      <td>Slovenská republika</td>\n      <td>Bratislavský kraj</td>\n      <td>muž</td>\n      <td>3</td>\n      <td>bez ukončeného vzdelania – osoby vo veku 0-14 ...</td>\n      <td>dieťa do začatia povinnej školskej dochádzky</td>\n      <td>4736</td>\n    </tr>\n    <tr>\n      <th>4</th>\n      <td>SK0</td>\n      <td>SK01</td>\n      <td>Slovenská republika</td>\n      <td>Bratislavský kraj</td>\n      <td>muž</td>\n      <td>4</td>\n      <td>bez ukončeného vzdelania – osoby vo veku 0-14 ...</td>\n      <td>dieťa do začatia povinnej školskej dochádzky</td>\n      <td>4650</td>\n    </tr>\n  </tbody>\n</table>\n</div>"
     },
     "metadata": {},
     "output_type": "display_data"
    },
    {
     "data": {
      "text/plain": "'RV_O_040_R_SR_SK.CSV'"
     },
     "metadata": {},
     "output_type": "display_data"
    },
    {
     "data": {
      "text/plain": "  Kód štátu          Názov štátu Pohlavie Vek  \\\n0       SK0  Slovenská republika      muž   0   \n1       SK0  Slovenská republika      muž   1   \n2       SK0  Slovenská republika      muž   2   \n3       SK0  Slovenská republika      muž   3   \n4       SK0  Slovenská republika      muž   4   \n\n                                           Vzdelanie  \\\n0  bez ukončeného vzdelania – osoby vo veku 0-14 ...   \n1  bez ukončeného vzdelania – osoby vo veku 0-14 ...   \n2  bez ukončeného vzdelania – osoby vo veku 0-14 ...   \n3  bez ukončeného vzdelania – osoby vo veku 0-14 ...   \n4  bez ukončeného vzdelania – osoby vo veku 0-14 ...   \n\n                    Súčasná ekonomická aktivita   abs.  \n0  dieťa do začatia povinnej školskej dochádzky  29036  \n1  dieťa do začatia povinnej školskej dochádzky  30033  \n2  dieťa do začatia povinnej školskej dochádzky  30808  \n3  dieťa do začatia povinnej školskej dochádzky  31100  \n4  dieťa do začatia povinnej školskej dochádzky  30873  ",
      "text/html": "<div>\n<style scoped>\n    .dataframe tbody tr th:only-of-type {\n        vertical-align: middle;\n    }\n\n    .dataframe tbody tr th {\n        vertical-align: top;\n    }\n\n    .dataframe thead th {\n        text-align: right;\n    }\n</style>\n<table border=\"1\" class=\"dataframe\">\n  <thead>\n    <tr style=\"text-align: right;\">\n      <th></th>\n      <th>Kód štátu</th>\n      <th>Názov štátu</th>\n      <th>Pohlavie</th>\n      <th>Vek</th>\n      <th>Vzdelanie</th>\n      <th>Súčasná ekonomická aktivita</th>\n      <th>abs.</th>\n    </tr>\n  </thead>\n  <tbody>\n    <tr>\n      <th>0</th>\n      <td>SK0</td>\n      <td>Slovenská republika</td>\n      <td>muž</td>\n      <td>0</td>\n      <td>bez ukončeného vzdelania – osoby vo veku 0-14 ...</td>\n      <td>dieťa do začatia povinnej školskej dochádzky</td>\n      <td>29036</td>\n    </tr>\n    <tr>\n      <th>1</th>\n      <td>SK0</td>\n      <td>Slovenská republika</td>\n      <td>muž</td>\n      <td>1</td>\n      <td>bez ukončeného vzdelania – osoby vo veku 0-14 ...</td>\n      <td>dieťa do začatia povinnej školskej dochádzky</td>\n      <td>30033</td>\n    </tr>\n    <tr>\n      <th>2</th>\n      <td>SK0</td>\n      <td>Slovenská republika</td>\n      <td>muž</td>\n      <td>2</td>\n      <td>bez ukončeného vzdelania – osoby vo veku 0-14 ...</td>\n      <td>dieťa do začatia povinnej školskej dochádzky</td>\n      <td>30808</td>\n    </tr>\n    <tr>\n      <th>3</th>\n      <td>SK0</td>\n      <td>Slovenská republika</td>\n      <td>muž</td>\n      <td>3</td>\n      <td>bez ukončeného vzdelania – osoby vo veku 0-14 ...</td>\n      <td>dieťa do začatia povinnej školskej dochádzky</td>\n      <td>31100</td>\n    </tr>\n    <tr>\n      <th>4</th>\n      <td>SK0</td>\n      <td>Slovenská republika</td>\n      <td>muž</td>\n      <td>4</td>\n      <td>bez ukončeného vzdelania – osoby vo veku 0-14 ...</td>\n      <td>dieťa do začatia povinnej školskej dochádzky</td>\n      <td>30873</td>\n    </tr>\n  </tbody>\n</table>\n</div>"
     },
     "metadata": {},
     "output_type": "display_data"
    },
    {
     "data": {
      "text/plain": "'RV_O_047_L_OK_SK.CSV'"
     },
     "metadata": {},
     "output_type": "display_data"
    },
    {
     "data": {
      "text/plain": "  Kód okresu        Názov okresu Pohlavie 5-ročné vekové skupiny  \\\n0     SK0101  Okres Bratislava I      muž          15 - 19 rokov   \n1     SK0101  Okres Bratislava I      muž          15 - 19 rokov   \n2     SK0101  Okres Bratislava I      muž          15 - 19 rokov   \n3     SK0101  Okres Bratislava I      muž          15 - 19 rokov   \n4     SK0101  Okres Bratislava I      muž          15 - 19 rokov   \n\n                                        Vzdelanie  \\\n0                                       nezistené   \n1          základné vzdelanie (bližšie neuvedené)   \n2  základné vzdelanie - 1. stupeň základnej školy   \n3  základné vzdelanie - 2. stupeň základnej školy   \n4  základné vzdelanie - 2. stupeň základnej školy   \n\n                         Zamestnanie (ISCO - triedy)  abs.  \n0                                          nezistené     1  \n1                                          nezistené     1  \n2                     Pracovníci v osobných službách     1  \n3  Odborní pracovníci v oblasti práva, sociálnych...     1  \n4  Administratívni pracovníci v zákazníckych služ...     1  ",
      "text/html": "<div>\n<style scoped>\n    .dataframe tbody tr th:only-of-type {\n        vertical-align: middle;\n    }\n\n    .dataframe tbody tr th {\n        vertical-align: top;\n    }\n\n    .dataframe thead th {\n        text-align: right;\n    }\n</style>\n<table border=\"1\" class=\"dataframe\">\n  <thead>\n    <tr style=\"text-align: right;\">\n      <th></th>\n      <th>Kód okresu</th>\n      <th>Názov okresu</th>\n      <th>Pohlavie</th>\n      <th>5-ročné vekové skupiny</th>\n      <th>Vzdelanie</th>\n      <th>Zamestnanie (ISCO - triedy)</th>\n      <th>abs.</th>\n    </tr>\n  </thead>\n  <tbody>\n    <tr>\n      <th>0</th>\n      <td>SK0101</td>\n      <td>Okres Bratislava I</td>\n      <td>muž</td>\n      <td>15 - 19 rokov</td>\n      <td>nezistené</td>\n      <td>nezistené</td>\n      <td>1</td>\n    </tr>\n    <tr>\n      <th>1</th>\n      <td>SK0101</td>\n      <td>Okres Bratislava I</td>\n      <td>muž</td>\n      <td>15 - 19 rokov</td>\n      <td>základné vzdelanie (bližšie neuvedené)</td>\n      <td>nezistené</td>\n      <td>1</td>\n    </tr>\n    <tr>\n      <th>2</th>\n      <td>SK0101</td>\n      <td>Okres Bratislava I</td>\n      <td>muž</td>\n      <td>15 - 19 rokov</td>\n      <td>základné vzdelanie - 1. stupeň základnej školy</td>\n      <td>Pracovníci v osobných službách</td>\n      <td>1</td>\n    </tr>\n    <tr>\n      <th>3</th>\n      <td>SK0101</td>\n      <td>Okres Bratislava I</td>\n      <td>muž</td>\n      <td>15 - 19 rokov</td>\n      <td>základné vzdelanie - 2. stupeň základnej školy</td>\n      <td>Odborní pracovníci v oblasti práva, sociálnych...</td>\n      <td>1</td>\n    </tr>\n    <tr>\n      <th>4</th>\n      <td>SK0101</td>\n      <td>Okres Bratislava I</td>\n      <td>muž</td>\n      <td>15 - 19 rokov</td>\n      <td>základné vzdelanie - 2. stupeň základnej školy</td>\n      <td>Administratívni pracovníci v zákazníckych služ...</td>\n      <td>1</td>\n    </tr>\n  </tbody>\n</table>\n</div>"
     },
     "metadata": {},
     "output_type": "display_data"
    },
    {
     "data": {
      "text/plain": "'RV_O_047_R_KR_SK.CSV'"
     },
     "metadata": {},
     "output_type": "display_data"
    },
    {
     "data": {
      "text/plain": "  Kód štátu          Názov štátu Kód oblasti Kód kraja      Názov oblasti  \\\n0       SK0  Slovenská republika        SK01     SK010  Bratislavský kraj   \n1       SK0  Slovenská republika        SK01     SK010  Bratislavský kraj   \n2       SK0  Slovenská republika        SK01     SK010  Bratislavský kraj   \n3       SK0  Slovenská republika        SK01     SK010  Bratislavský kraj   \n4       SK0  Slovenská republika        SK01     SK010  Bratislavský kraj   \n\n         Názov kraja Pohlavie 5-ročné vekové skupiny  \\\n0  Bratislavský kraj      muž          15 - 19 rokov   \n1  Bratislavský kraj      muž          15 - 19 rokov   \n2  Bratislavský kraj      muž          15 - 19 rokov   \n3  Bratislavský kraj      muž          15 - 19 rokov   \n4  Bratislavský kraj      muž          15 - 19 rokov   \n\n                                        Vzdelanie  \\\n0                                       nezistené   \n1                                       nezistené   \n2          základné vzdelanie (bližšie neuvedené)   \n3  základné vzdelanie - 1. stupeň základnej školy   \n4  základné vzdelanie - 1. stupeň základnej školy   \n\n                       Zamestnanie (ISCO - triedy)  abs.  \n0                                        nezistené    45  \n1  Vodiči a obsluha pojazdných strojných zariadení     1  \n2                                        nezistené     2  \n3                                        nezistené     4  \n4                   Pracovníci v osobných službách     2  ",
      "text/html": "<div>\n<style scoped>\n    .dataframe tbody tr th:only-of-type {\n        vertical-align: middle;\n    }\n\n    .dataframe tbody tr th {\n        vertical-align: top;\n    }\n\n    .dataframe thead th {\n        text-align: right;\n    }\n</style>\n<table border=\"1\" class=\"dataframe\">\n  <thead>\n    <tr style=\"text-align: right;\">\n      <th></th>\n      <th>Kód štátu</th>\n      <th>Názov štátu</th>\n      <th>Kód oblasti</th>\n      <th>Kód kraja</th>\n      <th>Názov oblasti</th>\n      <th>Názov kraja</th>\n      <th>Pohlavie</th>\n      <th>5-ročné vekové skupiny</th>\n      <th>Vzdelanie</th>\n      <th>Zamestnanie (ISCO - triedy)</th>\n      <th>abs.</th>\n    </tr>\n  </thead>\n  <tbody>\n    <tr>\n      <th>0</th>\n      <td>SK0</td>\n      <td>Slovenská republika</td>\n      <td>SK01</td>\n      <td>SK010</td>\n      <td>Bratislavský kraj</td>\n      <td>Bratislavský kraj</td>\n      <td>muž</td>\n      <td>15 - 19 rokov</td>\n      <td>nezistené</td>\n      <td>nezistené</td>\n      <td>45</td>\n    </tr>\n    <tr>\n      <th>1</th>\n      <td>SK0</td>\n      <td>Slovenská republika</td>\n      <td>SK01</td>\n      <td>SK010</td>\n      <td>Bratislavský kraj</td>\n      <td>Bratislavský kraj</td>\n      <td>muž</td>\n      <td>15 - 19 rokov</td>\n      <td>nezistené</td>\n      <td>Vodiči a obsluha pojazdných strojných zariadení</td>\n      <td>1</td>\n    </tr>\n    <tr>\n      <th>2</th>\n      <td>SK0</td>\n      <td>Slovenská republika</td>\n      <td>SK01</td>\n      <td>SK010</td>\n      <td>Bratislavský kraj</td>\n      <td>Bratislavský kraj</td>\n      <td>muž</td>\n      <td>15 - 19 rokov</td>\n      <td>základné vzdelanie (bližšie neuvedené)</td>\n      <td>nezistené</td>\n      <td>2</td>\n    </tr>\n    <tr>\n      <th>3</th>\n      <td>SK0</td>\n      <td>Slovenská republika</td>\n      <td>SK01</td>\n      <td>SK010</td>\n      <td>Bratislavský kraj</td>\n      <td>Bratislavský kraj</td>\n      <td>muž</td>\n      <td>15 - 19 rokov</td>\n      <td>základné vzdelanie - 1. stupeň základnej školy</td>\n      <td>nezistené</td>\n      <td>4</td>\n    </tr>\n    <tr>\n      <th>4</th>\n      <td>SK0</td>\n      <td>Slovenská republika</td>\n      <td>SK01</td>\n      <td>SK010</td>\n      <td>Bratislavský kraj</td>\n      <td>Bratislavský kraj</td>\n      <td>muž</td>\n      <td>15 - 19 rokov</td>\n      <td>základné vzdelanie - 1. stupeň základnej školy</td>\n      <td>Pracovníci v osobných službách</td>\n      <td>2</td>\n    </tr>\n  </tbody>\n</table>\n</div>"
     },
     "metadata": {},
     "output_type": "display_data"
    },
    {
     "data": {
      "text/plain": "'RV_O_047_R_OL_SK.CSV'"
     },
     "metadata": {},
     "output_type": "display_data"
    },
    {
     "data": {
      "text/plain": "  Kód štátu Kód oblasti          Názov štátu      Názov oblasti Pohlavie  \\\n0       SK0        SK01  Slovenská republika  Bratislavský kraj      muž   \n1       SK0        SK01  Slovenská republika  Bratislavský kraj      muž   \n2       SK0        SK01  Slovenská republika  Bratislavský kraj      muž   \n3       SK0        SK01  Slovenská republika  Bratislavský kraj      muž   \n4       SK0        SK01  Slovenská republika  Bratislavský kraj      muž   \n\n  5-ročné vekové skupiny                                       Vzdelanie  \\\n0          15 - 19 rokov                                       nezistené   \n1          15 - 19 rokov                                       nezistené   \n2          15 - 19 rokov          základné vzdelanie (bližšie neuvedené)   \n3          15 - 19 rokov  základné vzdelanie - 1. stupeň základnej školy   \n4          15 - 19 rokov  základné vzdelanie - 1. stupeň základnej školy   \n\n                       Zamestnanie (ISCO - triedy)  abs.  \n0                                        nezistené    45  \n1  Vodiči a obsluha pojazdných strojných zariadení     1  \n2                                        nezistené     2  \n3                                        nezistené     4  \n4                   Pracovníci v osobných službách     2  ",
      "text/html": "<div>\n<style scoped>\n    .dataframe tbody tr th:only-of-type {\n        vertical-align: middle;\n    }\n\n    .dataframe tbody tr th {\n        vertical-align: top;\n    }\n\n    .dataframe thead th {\n        text-align: right;\n    }\n</style>\n<table border=\"1\" class=\"dataframe\">\n  <thead>\n    <tr style=\"text-align: right;\">\n      <th></th>\n      <th>Kód štátu</th>\n      <th>Kód oblasti</th>\n      <th>Názov štátu</th>\n      <th>Názov oblasti</th>\n      <th>Pohlavie</th>\n      <th>5-ročné vekové skupiny</th>\n      <th>Vzdelanie</th>\n      <th>Zamestnanie (ISCO - triedy)</th>\n      <th>abs.</th>\n    </tr>\n  </thead>\n  <tbody>\n    <tr>\n      <th>0</th>\n      <td>SK0</td>\n      <td>SK01</td>\n      <td>Slovenská republika</td>\n      <td>Bratislavský kraj</td>\n      <td>muž</td>\n      <td>15 - 19 rokov</td>\n      <td>nezistené</td>\n      <td>nezistené</td>\n      <td>45</td>\n    </tr>\n    <tr>\n      <th>1</th>\n      <td>SK0</td>\n      <td>SK01</td>\n      <td>Slovenská republika</td>\n      <td>Bratislavský kraj</td>\n      <td>muž</td>\n      <td>15 - 19 rokov</td>\n      <td>nezistené</td>\n      <td>Vodiči a obsluha pojazdných strojných zariadení</td>\n      <td>1</td>\n    </tr>\n    <tr>\n      <th>2</th>\n      <td>SK0</td>\n      <td>SK01</td>\n      <td>Slovenská republika</td>\n      <td>Bratislavský kraj</td>\n      <td>muž</td>\n      <td>15 - 19 rokov</td>\n      <td>základné vzdelanie (bližšie neuvedené)</td>\n      <td>nezistené</td>\n      <td>2</td>\n    </tr>\n    <tr>\n      <th>3</th>\n      <td>SK0</td>\n      <td>SK01</td>\n      <td>Slovenská republika</td>\n      <td>Bratislavský kraj</td>\n      <td>muž</td>\n      <td>15 - 19 rokov</td>\n      <td>základné vzdelanie - 1. stupeň základnej školy</td>\n      <td>nezistené</td>\n      <td>4</td>\n    </tr>\n    <tr>\n      <th>4</th>\n      <td>SK0</td>\n      <td>SK01</td>\n      <td>Slovenská republika</td>\n      <td>Bratislavský kraj</td>\n      <td>muž</td>\n      <td>15 - 19 rokov</td>\n      <td>základné vzdelanie - 1. stupeň základnej školy</td>\n      <td>Pracovníci v osobných službách</td>\n      <td>2</td>\n    </tr>\n  </tbody>\n</table>\n</div>"
     },
     "metadata": {},
     "output_type": "display_data"
    },
    {
     "data": {
      "text/plain": "'RV_O_047_R_SR_SK.CSV'"
     },
     "metadata": {},
     "output_type": "display_data"
    },
    {
     "data": {
      "text/plain": "  Kód štátu          Názov štátu Pohlavie 5-ročné vekové skupiny  Vzdelanie  \\\n0       SK0  Slovenská republika      muž          15 - 19 rokov  nezistené   \n1       SK0  Slovenská republika      muž          15 - 19 rokov  nezistené   \n2       SK0  Slovenská republika      muž          15 - 19 rokov  nezistené   \n3       SK0  Slovenská republika      muž          15 - 19 rokov  nezistené   \n4       SK0  Slovenská republika      muž          15 - 19 rokov  nezistené   \n\n                         Zamestnanie (ISCO - triedy)  abs.  \n0                                          nezistené   354  \n1                 Odborní pracovníci v zdravotníctve     1  \n2  Administratívni pracovníci na záznam číselných...     1  \n3                     Pracovníci v osobných službách     1  \n4                                          Predavači     1  ",
      "text/html": "<div>\n<style scoped>\n    .dataframe tbody tr th:only-of-type {\n        vertical-align: middle;\n    }\n\n    .dataframe tbody tr th {\n        vertical-align: top;\n    }\n\n    .dataframe thead th {\n        text-align: right;\n    }\n</style>\n<table border=\"1\" class=\"dataframe\">\n  <thead>\n    <tr style=\"text-align: right;\">\n      <th></th>\n      <th>Kód štátu</th>\n      <th>Názov štátu</th>\n      <th>Pohlavie</th>\n      <th>5-ročné vekové skupiny</th>\n      <th>Vzdelanie</th>\n      <th>Zamestnanie (ISCO - triedy)</th>\n      <th>abs.</th>\n    </tr>\n  </thead>\n  <tbody>\n    <tr>\n      <th>0</th>\n      <td>SK0</td>\n      <td>Slovenská republika</td>\n      <td>muž</td>\n      <td>15 - 19 rokov</td>\n      <td>nezistené</td>\n      <td>nezistené</td>\n      <td>354</td>\n    </tr>\n    <tr>\n      <th>1</th>\n      <td>SK0</td>\n      <td>Slovenská republika</td>\n      <td>muž</td>\n      <td>15 - 19 rokov</td>\n      <td>nezistené</td>\n      <td>Odborní pracovníci v zdravotníctve</td>\n      <td>1</td>\n    </tr>\n    <tr>\n      <th>2</th>\n      <td>SK0</td>\n      <td>Slovenská republika</td>\n      <td>muž</td>\n      <td>15 - 19 rokov</td>\n      <td>nezistené</td>\n      <td>Administratívni pracovníci na záznam číselných...</td>\n      <td>1</td>\n    </tr>\n    <tr>\n      <th>3</th>\n      <td>SK0</td>\n      <td>Slovenská republika</td>\n      <td>muž</td>\n      <td>15 - 19 rokov</td>\n      <td>nezistené</td>\n      <td>Pracovníci v osobných službách</td>\n      <td>1</td>\n    </tr>\n    <tr>\n      <th>4</th>\n      <td>SK0</td>\n      <td>Slovenská republika</td>\n      <td>muž</td>\n      <td>15 - 19 rokov</td>\n      <td>nezistené</td>\n      <td>Predavači</td>\n      <td>1</td>\n    </tr>\n  </tbody>\n</table>\n</div>"
     },
     "metadata": {},
     "output_type": "display_data"
    },
    {
     "data": {
      "text/plain": "'RV_O_067_L_OK_SK.CSV'"
     },
     "metadata": {},
     "output_type": "display_data"
    },
    {
     "data": {
      "text/plain": "  Kód okresu        Názov okresu Súčasná ekonomická aktivita  \\\n0     SK0101  Okres Bratislava I                     dôverné   \n1     SK0101  Okres Bratislava I                     dôverné   \n2     SK0101  Okres Bratislava I                     dôverné   \n3     SK0101  Okres Bratislava I                     dôverné   \n4     SK0101  Okres Bratislava I                     dôverné   \n\n  Odvetvie ekonomickej činnosti​ (NACE - sekcie)  \\\n0                                      nezistené   \n1                                      nezistené   \n2                                      nezistené   \n3                                      nezistené   \n4                                      nezistené   \n\n                         Zamestnanie (ISCO - triedy)  \\\n0                                          nezistené   \n1  Riadiaci pracovníci (manažéri)  administratívn...   \n2                        Špecialisti v zdravotníctve   \n3  Špecialisti v oblasti práva, sociálnych vecí a...   \n4  Technici a odborní pracovníci v oblasti vedy a...   \n\n                                          Vzdelanie  abs.  \n0                                           dôverné     2  \n1         vysokoškolské vzdelanie - 1. stupeň (Bc.)     1  \n2  vysokoškolské vzdelanie - 3. stupeň (PhD.; a i.)     1  \n3  vysokoškolské vzdelanie - 3. stupeň (PhD.; a i.)     1  \n4                                           dôverné     1  ",
      "text/html": "<div>\n<style scoped>\n    .dataframe tbody tr th:only-of-type {\n        vertical-align: middle;\n    }\n\n    .dataframe tbody tr th {\n        vertical-align: top;\n    }\n\n    .dataframe thead th {\n        text-align: right;\n    }\n</style>\n<table border=\"1\" class=\"dataframe\">\n  <thead>\n    <tr style=\"text-align: right;\">\n      <th></th>\n      <th>Kód okresu</th>\n      <th>Názov okresu</th>\n      <th>Súčasná ekonomická aktivita</th>\n      <th>Odvetvie ekonomickej činnosti​ (NACE - sekcie)</th>\n      <th>Zamestnanie (ISCO - triedy)</th>\n      <th>Vzdelanie</th>\n      <th>abs.</th>\n    </tr>\n  </thead>\n  <tbody>\n    <tr>\n      <th>0</th>\n      <td>SK0101</td>\n      <td>Okres Bratislava I</td>\n      <td>dôverné</td>\n      <td>nezistené</td>\n      <td>nezistené</td>\n      <td>dôverné</td>\n      <td>2</td>\n    </tr>\n    <tr>\n      <th>1</th>\n      <td>SK0101</td>\n      <td>Okres Bratislava I</td>\n      <td>dôverné</td>\n      <td>nezistené</td>\n      <td>Riadiaci pracovníci (manažéri)  administratívn...</td>\n      <td>vysokoškolské vzdelanie - 1. stupeň (Bc.)</td>\n      <td>1</td>\n    </tr>\n    <tr>\n      <th>2</th>\n      <td>SK0101</td>\n      <td>Okres Bratislava I</td>\n      <td>dôverné</td>\n      <td>nezistené</td>\n      <td>Špecialisti v zdravotníctve</td>\n      <td>vysokoškolské vzdelanie - 3. stupeň (PhD.; a i.)</td>\n      <td>1</td>\n    </tr>\n    <tr>\n      <th>3</th>\n      <td>SK0101</td>\n      <td>Okres Bratislava I</td>\n      <td>dôverné</td>\n      <td>nezistené</td>\n      <td>Špecialisti v oblasti práva, sociálnych vecí a...</td>\n      <td>vysokoškolské vzdelanie - 3. stupeň (PhD.; a i.)</td>\n      <td>1</td>\n    </tr>\n    <tr>\n      <th>4</th>\n      <td>SK0101</td>\n      <td>Okres Bratislava I</td>\n      <td>dôverné</td>\n      <td>nezistené</td>\n      <td>Technici a odborní pracovníci v oblasti vedy a...</td>\n      <td>dôverné</td>\n      <td>1</td>\n    </tr>\n  </tbody>\n</table>\n</div>"
     },
     "metadata": {},
     "output_type": "display_data"
    },
    {
     "data": {
      "text/plain": "'RV_O_067_R_KR_SK.CSV'"
     },
     "metadata": {},
     "output_type": "display_data"
    },
    {
     "data": {
      "text/plain": "  Kód štátu          Názov štátu Kód oblasti Kód kraja      Názov oblasti  \\\n0       SK0  Slovenská republika        SK01     SK010  Bratislavský kraj   \n1       SK0  Slovenská republika        SK01     SK010  Bratislavský kraj   \n2       SK0  Slovenská republika        SK01     SK010  Bratislavský kraj   \n3       SK0  Slovenská republika        SK01     SK010  Bratislavský kraj   \n4       SK0  Slovenská republika        SK01     SK010  Bratislavský kraj   \n\n         Názov kraja  Súčasná ekonomická aktivita  \\\n0  Bratislavský kraj  pracujúci (okrem dôchodcov)   \n1  Bratislavský kraj  pracujúci (okrem dôchodcov)   \n2  Bratislavský kraj  pracujúci (okrem dôchodcov)   \n3  Bratislavský kraj  pracujúci (okrem dôchodcov)   \n4  Bratislavský kraj  pracujúci (okrem dôchodcov)   \n\n  Odvetvie ekonomickej činnosti​ (NACE - sekcie) Zamestnanie (ISCO - triedy)  \\\n0                                      nezistené                   nezistené   \n1                                      nezistené                   nezistené   \n2                                      nezistené                   nezistené   \n3                                      nezistené                   nezistené   \n4                                      nezistené                   nezistené   \n\n                                           Vzdelanie  abs.  \n0                                          nezistené  1120  \n1     základné vzdelanie - 1. stupeň základnej školy    51  \n2     základné vzdelanie - 2. stupeň základnej školy   257  \n3  stredné odborné (učňovské) vzdelanie bez matur...     4  \n4  stredné odborné (učňovské) vzdelanie bez matur...    76  ",
      "text/html": "<div>\n<style scoped>\n    .dataframe tbody tr th:only-of-type {\n        vertical-align: middle;\n    }\n\n    .dataframe tbody tr th {\n        vertical-align: top;\n    }\n\n    .dataframe thead th {\n        text-align: right;\n    }\n</style>\n<table border=\"1\" class=\"dataframe\">\n  <thead>\n    <tr style=\"text-align: right;\">\n      <th></th>\n      <th>Kód štátu</th>\n      <th>Názov štátu</th>\n      <th>Kód oblasti</th>\n      <th>Kód kraja</th>\n      <th>Názov oblasti</th>\n      <th>Názov kraja</th>\n      <th>Súčasná ekonomická aktivita</th>\n      <th>Odvetvie ekonomickej činnosti​ (NACE - sekcie)</th>\n      <th>Zamestnanie (ISCO - triedy)</th>\n      <th>Vzdelanie</th>\n      <th>abs.</th>\n    </tr>\n  </thead>\n  <tbody>\n    <tr>\n      <th>0</th>\n      <td>SK0</td>\n      <td>Slovenská republika</td>\n      <td>SK01</td>\n      <td>SK010</td>\n      <td>Bratislavský kraj</td>\n      <td>Bratislavský kraj</td>\n      <td>pracujúci (okrem dôchodcov)</td>\n      <td>nezistené</td>\n      <td>nezistené</td>\n      <td>nezistené</td>\n      <td>1120</td>\n    </tr>\n    <tr>\n      <th>1</th>\n      <td>SK0</td>\n      <td>Slovenská republika</td>\n      <td>SK01</td>\n      <td>SK010</td>\n      <td>Bratislavský kraj</td>\n      <td>Bratislavský kraj</td>\n      <td>pracujúci (okrem dôchodcov)</td>\n      <td>nezistené</td>\n      <td>nezistené</td>\n      <td>základné vzdelanie - 1. stupeň základnej školy</td>\n      <td>51</td>\n    </tr>\n    <tr>\n      <th>2</th>\n      <td>SK0</td>\n      <td>Slovenská republika</td>\n      <td>SK01</td>\n      <td>SK010</td>\n      <td>Bratislavský kraj</td>\n      <td>Bratislavský kraj</td>\n      <td>pracujúci (okrem dôchodcov)</td>\n      <td>nezistené</td>\n      <td>nezistené</td>\n      <td>základné vzdelanie - 2. stupeň základnej školy</td>\n      <td>257</td>\n    </tr>\n    <tr>\n      <th>3</th>\n      <td>SK0</td>\n      <td>Slovenská republika</td>\n      <td>SK01</td>\n      <td>SK010</td>\n      <td>Bratislavský kraj</td>\n      <td>Bratislavský kraj</td>\n      <td>pracujúci (okrem dôchodcov)</td>\n      <td>nezistené</td>\n      <td>nezistené</td>\n      <td>stredné odborné (učňovské) vzdelanie bez matur...</td>\n      <td>4</td>\n    </tr>\n    <tr>\n      <th>4</th>\n      <td>SK0</td>\n      <td>Slovenská republika</td>\n      <td>SK01</td>\n      <td>SK010</td>\n      <td>Bratislavský kraj</td>\n      <td>Bratislavský kraj</td>\n      <td>pracujúci (okrem dôchodcov)</td>\n      <td>nezistené</td>\n      <td>nezistené</td>\n      <td>stredné odborné (učňovské) vzdelanie bez matur...</td>\n      <td>76</td>\n    </tr>\n  </tbody>\n</table>\n</div>"
     },
     "metadata": {},
     "output_type": "display_data"
    },
    {
     "data": {
      "text/plain": "'RV_O_067_R_OL_SK.CSV'"
     },
     "metadata": {},
     "output_type": "display_data"
    },
    {
     "data": {
      "text/plain": "  Kód štátu Kód oblasti          Názov štátu      Názov oblasti  \\\n0       SK0        SK01  Slovenská republika  Bratislavský kraj   \n1       SK0        SK01  Slovenská republika  Bratislavský kraj   \n2       SK0        SK01  Slovenská republika  Bratislavský kraj   \n3       SK0        SK01  Slovenská republika  Bratislavský kraj   \n4       SK0        SK01  Slovenská republika  Bratislavský kraj   \n\n   Súčasná ekonomická aktivita Odvetvie ekonomickej činnosti​ (NACE - sekcie)  \\\n0  pracujúci (okrem dôchodcov)                                      nezistené   \n1  pracujúci (okrem dôchodcov)                                      nezistené   \n2  pracujúci (okrem dôchodcov)                                      nezistené   \n3  pracujúci (okrem dôchodcov)                                      nezistené   \n4  pracujúci (okrem dôchodcov)                                      nezistené   \n\n  Zamestnanie (ISCO - triedy)  \\\n0                   nezistené   \n1                   nezistené   \n2                   nezistené   \n3                   nezistené   \n4                   nezistené   \n\n                                           Vzdelanie  abs.  \n0                                          nezistené  1120  \n1     základné vzdelanie - 1. stupeň základnej školy    51  \n2     základné vzdelanie - 2. stupeň základnej školy   257  \n3  stredné odborné (učňovské) vzdelanie bez matur...     4  \n4  stredné odborné (učňovské) vzdelanie bez matur...    76  ",
      "text/html": "<div>\n<style scoped>\n    .dataframe tbody tr th:only-of-type {\n        vertical-align: middle;\n    }\n\n    .dataframe tbody tr th {\n        vertical-align: top;\n    }\n\n    .dataframe thead th {\n        text-align: right;\n    }\n</style>\n<table border=\"1\" class=\"dataframe\">\n  <thead>\n    <tr style=\"text-align: right;\">\n      <th></th>\n      <th>Kód štátu</th>\n      <th>Kód oblasti</th>\n      <th>Názov štátu</th>\n      <th>Názov oblasti</th>\n      <th>Súčasná ekonomická aktivita</th>\n      <th>Odvetvie ekonomickej činnosti​ (NACE - sekcie)</th>\n      <th>Zamestnanie (ISCO - triedy)</th>\n      <th>Vzdelanie</th>\n      <th>abs.</th>\n    </tr>\n  </thead>\n  <tbody>\n    <tr>\n      <th>0</th>\n      <td>SK0</td>\n      <td>SK01</td>\n      <td>Slovenská republika</td>\n      <td>Bratislavský kraj</td>\n      <td>pracujúci (okrem dôchodcov)</td>\n      <td>nezistené</td>\n      <td>nezistené</td>\n      <td>nezistené</td>\n      <td>1120</td>\n    </tr>\n    <tr>\n      <th>1</th>\n      <td>SK0</td>\n      <td>SK01</td>\n      <td>Slovenská republika</td>\n      <td>Bratislavský kraj</td>\n      <td>pracujúci (okrem dôchodcov)</td>\n      <td>nezistené</td>\n      <td>nezistené</td>\n      <td>základné vzdelanie - 1. stupeň základnej školy</td>\n      <td>51</td>\n    </tr>\n    <tr>\n      <th>2</th>\n      <td>SK0</td>\n      <td>SK01</td>\n      <td>Slovenská republika</td>\n      <td>Bratislavský kraj</td>\n      <td>pracujúci (okrem dôchodcov)</td>\n      <td>nezistené</td>\n      <td>nezistené</td>\n      <td>základné vzdelanie - 2. stupeň základnej školy</td>\n      <td>257</td>\n    </tr>\n    <tr>\n      <th>3</th>\n      <td>SK0</td>\n      <td>SK01</td>\n      <td>Slovenská republika</td>\n      <td>Bratislavský kraj</td>\n      <td>pracujúci (okrem dôchodcov)</td>\n      <td>nezistené</td>\n      <td>nezistené</td>\n      <td>stredné odborné (učňovské) vzdelanie bez matur...</td>\n      <td>4</td>\n    </tr>\n    <tr>\n      <th>4</th>\n      <td>SK0</td>\n      <td>SK01</td>\n      <td>Slovenská republika</td>\n      <td>Bratislavský kraj</td>\n      <td>pracujúci (okrem dôchodcov)</td>\n      <td>nezistené</td>\n      <td>nezistené</td>\n      <td>stredné odborné (učňovské) vzdelanie bez matur...</td>\n      <td>76</td>\n    </tr>\n  </tbody>\n</table>\n</div>"
     },
     "metadata": {},
     "output_type": "display_data"
    },
    {
     "data": {
      "text/plain": "'RV_O_067_R_SR_SK.CSV'"
     },
     "metadata": {},
     "output_type": "display_data"
    },
    {
     "data": {
      "text/plain": "  Kód štátu          Názov štátu  Súčasná ekonomická aktivita  \\\n0       SK0  Slovenská republika  pracujúci (okrem dôchodcov)   \n1       SK0  Slovenská republika  pracujúci (okrem dôchodcov)   \n2       SK0  Slovenská republika  pracujúci (okrem dôchodcov)   \n3       SK0  Slovenská republika  pracujúci (okrem dôchodcov)   \n4       SK0  Slovenská republika  pracujúci (okrem dôchodcov)   \n\n  Odvetvie ekonomickej činnosti​ (NACE - sekcie) Zamestnanie (ISCO - triedy)  \\\n0                                      nezistené                   nezistené   \n1                                      nezistené                   nezistené   \n2                                      nezistené                   nezistené   \n3                                      nezistené                   nezistené   \n4                                      nezistené                   nezistené   \n\n                                           Vzdelanie  abs.  \n0                                          nezistené  5642  \n1             základné vzdelanie (bližšie neuvedené)     7  \n2     základné vzdelanie - 1. stupeň základnej školy   702  \n3     základné vzdelanie - 2. stupeň základnej školy  3233  \n4  stredné odborné (učňovské) vzdelanie bez matur...    35  ",
      "text/html": "<div>\n<style scoped>\n    .dataframe tbody tr th:only-of-type {\n        vertical-align: middle;\n    }\n\n    .dataframe tbody tr th {\n        vertical-align: top;\n    }\n\n    .dataframe thead th {\n        text-align: right;\n    }\n</style>\n<table border=\"1\" class=\"dataframe\">\n  <thead>\n    <tr style=\"text-align: right;\">\n      <th></th>\n      <th>Kód štátu</th>\n      <th>Názov štátu</th>\n      <th>Súčasná ekonomická aktivita</th>\n      <th>Odvetvie ekonomickej činnosti​ (NACE - sekcie)</th>\n      <th>Zamestnanie (ISCO - triedy)</th>\n      <th>Vzdelanie</th>\n      <th>abs.</th>\n    </tr>\n  </thead>\n  <tbody>\n    <tr>\n      <th>0</th>\n      <td>SK0</td>\n      <td>Slovenská republika</td>\n      <td>pracujúci (okrem dôchodcov)</td>\n      <td>nezistené</td>\n      <td>nezistené</td>\n      <td>nezistené</td>\n      <td>5642</td>\n    </tr>\n    <tr>\n      <th>1</th>\n      <td>SK0</td>\n      <td>Slovenská republika</td>\n      <td>pracujúci (okrem dôchodcov)</td>\n      <td>nezistené</td>\n      <td>nezistené</td>\n      <td>základné vzdelanie (bližšie neuvedené)</td>\n      <td>7</td>\n    </tr>\n    <tr>\n      <th>2</th>\n      <td>SK0</td>\n      <td>Slovenská republika</td>\n      <td>pracujúci (okrem dôchodcov)</td>\n      <td>nezistené</td>\n      <td>nezistené</td>\n      <td>základné vzdelanie - 1. stupeň základnej školy</td>\n      <td>702</td>\n    </tr>\n    <tr>\n      <th>3</th>\n      <td>SK0</td>\n      <td>Slovenská republika</td>\n      <td>pracujúci (okrem dôchodcov)</td>\n      <td>nezistené</td>\n      <td>nezistené</td>\n      <td>základné vzdelanie - 2. stupeň základnej školy</td>\n      <td>3233</td>\n    </tr>\n    <tr>\n      <th>4</th>\n      <td>SK0</td>\n      <td>Slovenská republika</td>\n      <td>pracujúci (okrem dôchodcov)</td>\n      <td>nezistené</td>\n      <td>nezistené</td>\n      <td>stredné odborné (učňovské) vzdelanie bez matur...</td>\n      <td>35</td>\n    </tr>\n  </tbody>\n</table>\n</div>"
     },
     "metadata": {},
     "output_type": "display_data"
    }
   ],
   "source": [
    "path = 'data'\n",
    "for filepath in os.listdir(path):\n",
    "    df = pd.read_csv(f'data/{filepath}', sep=';')\n",
    "    display(filepath)\n",
    "    display(df.head(5))"
   ],
   "metadata": {
    "collapsed": false,
    "ExecuteTime": {
     "end_time": "2024-04-16T11:22:43.889526300Z",
     "start_time": "2024-04-16T11:22:37.571310500Z"
    }
   },
   "id": "a7acc079c0dd3f4e"
  },
  {
   "cell_type": "code",
   "execution_count": 3,
   "outputs": [],
   "source": [
    "Slovak_040 = pd.read_csv('data/RV_O_040_R_SR_SK.CSV', sep=';')"
   ],
   "metadata": {
    "collapsed": false,
    "ExecuteTime": {
     "end_time": "2024-04-16T11:22:46.414091Z",
     "start_time": "2024-04-16T11:22:46.358231100Z"
    }
   },
   "id": "2382acd033294e49"
  },
  {
   "cell_type": "code",
   "execution_count": 4,
   "outputs": [
    {
     "data": {
      "text/plain": "  Kód štátu          Názov štátu Pohlavie Vek  \\\n0       SK0  Slovenská republika      muž   0   \n1       SK0  Slovenská republika      muž   1   \n2       SK0  Slovenská republika      muž   2   \n3       SK0  Slovenská republika      muž   3   \n4       SK0  Slovenská republika      muž   4   \n\n                                           Vzdelanie  \\\n0  bez ukončeného vzdelania – osoby vo veku 0-14 ...   \n1  bez ukončeného vzdelania – osoby vo veku 0-14 ...   \n2  bez ukončeného vzdelania – osoby vo veku 0-14 ...   \n3  bez ukončeného vzdelania – osoby vo veku 0-14 ...   \n4  bez ukončeného vzdelania – osoby vo veku 0-14 ...   \n\n                    Súčasná ekonomická aktivita   abs.  \n0  dieťa do začatia povinnej školskej dochádzky  29036  \n1  dieťa do začatia povinnej školskej dochádzky  30033  \n2  dieťa do začatia povinnej školskej dochádzky  30808  \n3  dieťa do začatia povinnej školskej dochádzky  31100  \n4  dieťa do začatia povinnej školskej dochádzky  30873  ",
      "text/html": "<div>\n<style scoped>\n    .dataframe tbody tr th:only-of-type {\n        vertical-align: middle;\n    }\n\n    .dataframe tbody tr th {\n        vertical-align: top;\n    }\n\n    .dataframe thead th {\n        text-align: right;\n    }\n</style>\n<table border=\"1\" class=\"dataframe\">\n  <thead>\n    <tr style=\"text-align: right;\">\n      <th></th>\n      <th>Kód štátu</th>\n      <th>Názov štátu</th>\n      <th>Pohlavie</th>\n      <th>Vek</th>\n      <th>Vzdelanie</th>\n      <th>Súčasná ekonomická aktivita</th>\n      <th>abs.</th>\n    </tr>\n  </thead>\n  <tbody>\n    <tr>\n      <th>0</th>\n      <td>SK0</td>\n      <td>Slovenská republika</td>\n      <td>muž</td>\n      <td>0</td>\n      <td>bez ukončeného vzdelania – osoby vo veku 0-14 ...</td>\n      <td>dieťa do začatia povinnej školskej dochádzky</td>\n      <td>29036</td>\n    </tr>\n    <tr>\n      <th>1</th>\n      <td>SK0</td>\n      <td>Slovenská republika</td>\n      <td>muž</td>\n      <td>1</td>\n      <td>bez ukončeného vzdelania – osoby vo veku 0-14 ...</td>\n      <td>dieťa do začatia povinnej školskej dochádzky</td>\n      <td>30033</td>\n    </tr>\n    <tr>\n      <th>2</th>\n      <td>SK0</td>\n      <td>Slovenská republika</td>\n      <td>muž</td>\n      <td>2</td>\n      <td>bez ukončeného vzdelania – osoby vo veku 0-14 ...</td>\n      <td>dieťa do začatia povinnej školskej dochádzky</td>\n      <td>30808</td>\n    </tr>\n    <tr>\n      <th>3</th>\n      <td>SK0</td>\n      <td>Slovenská republika</td>\n      <td>muž</td>\n      <td>3</td>\n      <td>bez ukončeného vzdelania – osoby vo veku 0-14 ...</td>\n      <td>dieťa do začatia povinnej školskej dochádzky</td>\n      <td>31100</td>\n    </tr>\n    <tr>\n      <th>4</th>\n      <td>SK0</td>\n      <td>Slovenská republika</td>\n      <td>muž</td>\n      <td>4</td>\n      <td>bez ukončeného vzdelania – osoby vo veku 0-14 ...</td>\n      <td>dieťa do začatia povinnej školskej dochádzky</td>\n      <td>30873</td>\n    </tr>\n  </tbody>\n</table>\n</div>"
     },
     "execution_count": 4,
     "metadata": {},
     "output_type": "execute_result"
    }
   ],
   "source": [
    "Slovak_040.head()"
   ],
   "metadata": {
    "collapsed": false,
    "ExecuteTime": {
     "end_time": "2024-04-16T11:22:47.175330600Z",
     "start_time": "2024-04-16T11:22:47.154269900Z"
    }
   },
   "id": "5ccd3a113e39c9f1"
  },
  {
   "cell_type": "markdown",
   "source": [
    "## Basics of preprocessing"
   ],
   "metadata": {
    "collapsed": false
   },
   "id": "edec24e8b7b0c0ca"
  },
  {
   "cell_type": "code",
   "execution_count": 5,
   "outputs": [],
   "source": [
    "def age_preprocess(age_string):\n",
    "    if age_string == '90 a viac rokov':\n",
    "        return 90\n",
    "    return int(age_string)"
   ],
   "metadata": {
    "collapsed": false,
    "ExecuteTime": {
     "end_time": "2024-04-16T11:22:49.485758600Z",
     "start_time": "2024-04-16T11:22:49.469154400Z"
    }
   },
   "id": "f02c9698cd0f61f1"
  },
  {
   "cell_type": "markdown",
   "source": [
    "## Basics of EDA"
   ],
   "metadata": {
    "collapsed": false
   },
   "id": "73f131ba8024f0d0"
  },
  {
   "cell_type": "markdown",
   "source": [
    "### Age"
   ],
   "metadata": {
    "collapsed": false
   },
   "id": "35c4347b610b8907"
  },
  {
   "cell_type": "code",
   "execution_count": 6,
   "outputs": [
    {
     "data": {
      "text/plain": "24629"
     },
     "execution_count": 6,
     "metadata": {},
     "output_type": "execute_result"
    }
   ],
   "source": [
    "Slovak_040[Slovak_040['Vek'] == '90 a viac rokov']['abs.'].sum()"
   ],
   "metadata": {
    "collapsed": false,
    "ExecuteTime": {
     "end_time": "2024-04-16T11:22:51.067335900Z",
     "start_time": "2024-04-16T11:22:51.049460700Z"
    }
   },
   "id": "2a5551d213f64221"
  },
  {
   "cell_type": "code",
   "execution_count": 7,
   "outputs": [
    {
     "data": {
      "text/plain": "50989"
     },
     "execution_count": 7,
     "metadata": {},
     "output_type": "execute_result"
    }
   ],
   "source": [
    "Slovak_040[Slovak_040['Vek'] == '17']['abs.'].sum()"
   ],
   "metadata": {
    "collapsed": false,
    "ExecuteTime": {
     "end_time": "2024-04-16T11:22:52.509735600Z",
     "start_time": "2024-04-16T11:22:52.497717600Z"
    }
   },
   "id": "9da48ed193fdd5be"
  },
  {
   "cell_type": "code",
   "execution_count": 8,
   "outputs": [],
   "source": [
    "Slovak_040['Vek'] = Slovak_040['Vek'].apply(age_preprocess)"
   ],
   "metadata": {
    "collapsed": false,
    "ExecuteTime": {
     "end_time": "2024-04-16T11:22:54.368746600Z",
     "start_time": "2024-04-16T11:22:54.351239300Z"
    }
   },
   "id": "9c931289a1e9aaf7"
  },
  {
   "cell_type": "code",
   "execution_count": 40,
   "outputs": [
    {
     "data": {
      "text/plain": "    Vek   abs.\n0     0  56849\n1     1  58763\n2     2  59910\n3     3  60604\n4     4  60368\n..  ...    ...\n86   86  12609\n87   87  11026\n88   88   9890\n89   89   7966\n90   90  24629\n\n[91 rows x 2 columns]",
      "text/html": "<div>\n<style scoped>\n    .dataframe tbody tr th:only-of-type {\n        vertical-align: middle;\n    }\n\n    .dataframe tbody tr th {\n        vertical-align: top;\n    }\n\n    .dataframe thead th {\n        text-align: right;\n    }\n</style>\n<table border=\"1\" class=\"dataframe\">\n  <thead>\n    <tr style=\"text-align: right;\">\n      <th></th>\n      <th>Vek</th>\n      <th>abs.</th>\n    </tr>\n  </thead>\n  <tbody>\n    <tr>\n      <th>0</th>\n      <td>0</td>\n      <td>56849</td>\n    </tr>\n    <tr>\n      <th>1</th>\n      <td>1</td>\n      <td>58763</td>\n    </tr>\n    <tr>\n      <th>2</th>\n      <td>2</td>\n      <td>59910</td>\n    </tr>\n    <tr>\n      <th>3</th>\n      <td>3</td>\n      <td>60604</td>\n    </tr>\n    <tr>\n      <th>4</th>\n      <td>4</td>\n      <td>60368</td>\n    </tr>\n    <tr>\n      <th>...</th>\n      <td>...</td>\n      <td>...</td>\n    </tr>\n    <tr>\n      <th>86</th>\n      <td>86</td>\n      <td>12609</td>\n    </tr>\n    <tr>\n      <th>87</th>\n      <td>87</td>\n      <td>11026</td>\n    </tr>\n    <tr>\n      <th>88</th>\n      <td>88</td>\n      <td>9890</td>\n    </tr>\n    <tr>\n      <th>89</th>\n      <td>89</td>\n      <td>7966</td>\n    </tr>\n    <tr>\n      <th>90</th>\n      <td>90</td>\n      <td>24629</td>\n    </tr>\n  </tbody>\n</table>\n<p>91 rows × 2 columns</p>\n</div>"
     },
     "execution_count": 40,
     "metadata": {},
     "output_type": "execute_result"
    }
   ],
   "source": [
    "age_view = Slovak_040.groupby('Vek')['abs.'].sum()\n",
    "age_view = age_view.reset_index()\n",
    "\n",
    "age_view"
   ],
   "metadata": {
    "collapsed": false,
    "ExecuteTime": {
     "end_time": "2024-04-16T11:42:09.704353700Z",
     "start_time": "2024-04-16T11:42:09.679068Z"
    }
   },
   "id": "171020bd1fcf7417"
  },
  {
   "cell_type": "code",
   "execution_count": 57,
   "outputs": [
    {
     "name": "stderr",
     "output_type": "stream",
     "text": [
      "C:\\Users\\andru_kfgnofp\\anaconda3\\envs\\mathprofi-education\\Lib\\site-packages\\seaborn\\_oldcore.py:1119: FutureWarning: use_inf_as_na option is deprecated and will be removed in a future version. Convert inf values to NaN before operating instead.\n",
      "  with pd.option_context('mode.use_inf_as_na', True):\n"
     ]
    },
    {
     "data": {
      "text/plain": "<Figure size 640x480 with 1 Axes>",
      "image/png": "[encoded data removed]"
     },
     "metadata": {},
     "output_type": "display_data"
    }
   ],
   "source": [
    "axes = sns.histplot(data=age_view,\n",
    "                    x='Vek', weights='abs.',\n",
    "                    stat='count', binwidth=3, kde=True)\n",
    "axes.set_title(\"Distribution by age\")\n",
    "axes.set_ylabel(\"Counts\")\n",
    "axes.set_xlabel(None)\n",
    "pass"
   ],
   "metadata": {
    "collapsed": false,
    "ExecuteTime": {
     "end_time": "2024-04-16T12:03:43.744770200Z",
     "start_time": "2024-04-16T12:03:43.352113300Z"
    }
   },
   "id": "87e85c01567da2fd"
  },
  {
   "cell_type": "markdown",
   "source": [
    "### Sex"
   ],
   "metadata": {
    "collapsed": false
   },
   "id": "59898a4c03ceaa12"
  },
  {
   "cell_type": "code",
   "execution_count": 27,
   "outputs": [],
   "source": [
    "sex_view = Slovak_040.groupby('Pohlavie')['abs.'].sum()\n",
    "sex_view = sex_view.reset_index()"
   ],
   "metadata": {
    "collapsed": false,
    "ExecuteTime": {
     "end_time": "2024-04-16T11:35:51.391346600Z",
     "start_time": "2024-04-16T11:35:51.355821400Z"
    }
   },
   "id": "a52392bd1ab08e84"
  },
  {
   "cell_type": "code",
   "execution_count": 36,
   "outputs": [
    {
     "data": {
      "text/plain": "<Figure size 640x480 with 1 Axes>",
      "image/png": "[encoded data removed]"
     },
     "metadata": {},
     "output_type": "display_data"
    }
   ],
   "source": [
    "axes = sns.barplot(data=sex_view,\n",
    "                   x='Pohlavie', y='abs.', color=\"C0\")\n",
    "axes.set_title(\"Distribution by sex\")\n",
    "axes.set_ylabel(\"Counts\")\n",
    "axes.set_xlabel(None)\n",
    "pass"
   ],
   "metadata": {
    "collapsed": false,
    "ExecuteTime": {
     "end_time": "2024-04-16T11:39:52.442475300Z",
     "start_time": "2024-04-16T11:39:52.262705Z"
    }
   },
   "id": "3ba3f47fd67e5331"
  }
 ],
 "metadata": {
  "kernelspec": {
   "display_name": "Python 3",
   "language": "python",
   "name": "python3"
  },
  "language_info": {
   "codemirror_mode": {
    "name": "ipython",
    "version": 2
   },
   "file_extension": ".py",
   "mimetype": "text/x-python",
   "name": "python",
   "nbconvert_exporter": "python",
   "pygments_lexer": "ipython2",
   "version": "2.7.6"
  }
 },
 "nbformat": 4,
 "nbformat_minor": 5
}
