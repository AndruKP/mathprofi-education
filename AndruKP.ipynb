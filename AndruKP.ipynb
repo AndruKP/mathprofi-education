{
 "cells": [
  {
   "cell_type": "markdown",
   "source": [
    "# Education in Slovakia"
   ],
   "metadata": {
    "collapsed": false
   },
   "id": "559ced0250015a0b"
  },
  {
   "cell_type": "markdown",
   "source": [
    "## Import packages"
   ],
   "metadata": {
    "collapsed": false
   },
   "id": "336ca3dba4f33aa7"
  },
  {
   "cell_type": "code",
   "execution_count": 1,
   "id": "initial_id",
   "metadata": {
    "collapsed": true,
    "ExecuteTime": {
     "end_time": "2024-04-17T12:40:15.218359900Z",
     "start_time": "2024-04-17T12:40:15.214806100Z"
    }
   },
   "outputs": [],
   "source": [
    "import numpy as np\n",
    "import pandas as pd\n",
    "\n",
    "import preprocessing\n",
    "\n",
    "import matplotlib.pyplot as plt\n",
    "import seaborn as sns\n",
    "\n",
    "from IPython.display import display\n",
    "import os"
   ]
  },
  {
   "cell_type": "markdown",
   "source": [
    "## How does the data look like?"
   ],
   "metadata": {
    "collapsed": false
   },
   "id": "154c95ef66e98e15"
  },
  {
   "cell_type": "code",
   "execution_count": 2,
   "outputs": [
    {
     "data": {
      "text/plain": "'RV_O_010_L_OB_SK.CSV'"
     },
     "metadata": {},
     "output_type": "display_data"
    },
    {
     "data": {
      "text/plain": "  Kód okresu      Kód obce        Názov okresu  \\\n0     SK0101  SK0101528595  Okres Bratislava I   \n1     SK0101  SK0101528595  Okres Bratislava I   \n2     SK0101  SK0101528595  Okres Bratislava I   \n3     SK0101  SK0101528595  Okres Bratislava I   \n4     SK0101  SK0101528595  Okres Bratislava I   \n\n                              Názov obce Pohlavie  \\\n0  Bratislava - mestská časť Staré Mesto      muž   \n1  Bratislava - mestská časť Staré Mesto      muž   \n2  Bratislava - mestská časť Staré Mesto      muž   \n3  Bratislava - mestská časť Staré Mesto      muž   \n4  Bratislava - mestská časť Staré Mesto      muž   \n\n          Ekonomické vekové skupiny  \\\n0  predproduktívny vek (0-14 rokov)   \n1  predproduktívny vek (0-14 rokov)   \n2  predproduktívny vek (0-14 rokov)   \n3  predproduktívny vek (0-14 rokov)   \n4  predproduktívny vek (0-14 rokov)   \n\n                                           Vzdelanie  abs.  \n0                                            dôverné     1  \n1                                          nezistené    56  \n2     základné vzdelanie - 1. stupeň základnej školy   835  \n3     základné vzdelanie - 2. stupeň základnej školy     2  \n4  bez ukončeného vzdelania – osoby vo veku 0-14 ...  2671  ",
      "text/html": "<div>\n<style scoped>\n    .dataframe tbody tr th:only-of-type {\n        vertical-align: middle;\n    }\n\n    .dataframe tbody tr th {\n        vertical-align: top;\n    }\n\n    .dataframe thead th {\n        text-align: right;\n    }\n</style>\n<table border=\"1\" class=\"dataframe\">\n  <thead>\n    <tr style=\"text-align: right;\">\n      <th></th>\n      <th>Kód okresu</th>\n      <th>Kód obce</th>\n      <th>Názov okresu</th>\n      <th>Názov obce</th>\n      <th>Pohlavie</th>\n      <th>Ekonomické vekové skupiny</th>\n      <th>Vzdelanie</th>\n      <th>abs.</th>\n    </tr>\n  </thead>\n  <tbody>\n    <tr>\n      <th>0</th>\n      <td>SK0101</td>\n      <td>SK0101528595</td>\n      <td>Okres Bratislava I</td>\n      <td>Bratislava - mestská časť Staré Mesto</td>\n      <td>muž</td>\n      <td>predproduktívny vek (0-14 rokov)</td>\n      <td>dôverné</td>\n      <td>1</td>\n    </tr>\n    <tr>\n      <th>1</th>\n      <td>SK0101</td>\n      <td>SK0101528595</td>\n      <td>Okres Bratislava I</td>\n      <td>Bratislava - mestská časť Staré Mesto</td>\n      <td>muž</td>\n      <td>predproduktívny vek (0-14 rokov)</td>\n      <td>nezistené</td>\n      <td>56</td>\n    </tr>\n    <tr>\n      <th>2</th>\n      <td>SK0101</td>\n      <td>SK0101528595</td>\n      <td>Okres Bratislava I</td>\n      <td>Bratislava - mestská časť Staré Mesto</td>\n      <td>muž</td>\n      <td>predproduktívny vek (0-14 rokov)</td>\n      <td>základné vzdelanie - 1. stupeň základnej školy</td>\n      <td>835</td>\n    </tr>\n    <tr>\n      <th>3</th>\n      <td>SK0101</td>\n      <td>SK0101528595</td>\n      <td>Okres Bratislava I</td>\n      <td>Bratislava - mestská časť Staré Mesto</td>\n      <td>muž</td>\n      <td>predproduktívny vek (0-14 rokov)</td>\n      <td>základné vzdelanie - 2. stupeň základnej školy</td>\n      <td>2</td>\n    </tr>\n    <tr>\n      <th>4</th>\n      <td>SK0101</td>\n      <td>SK0101528595</td>\n      <td>Okres Bratislava I</td>\n      <td>Bratislava - mestská časť Staré Mesto</td>\n      <td>muž</td>\n      <td>predproduktívny vek (0-14 rokov)</td>\n      <td>bez ukončeného vzdelania – osoby vo veku 0-14 ...</td>\n      <td>2671</td>\n    </tr>\n  </tbody>\n</table>\n</div>"
     },
     "metadata": {},
     "output_type": "display_data"
    },
    {
     "data": {
      "text/plain": "'Kód okresu'"
     },
     "metadata": {},
     "output_type": "display_data"
    },
    {
     "data": {
      "text/plain": "array(['SK0101', 'SK0102', 'SK0103', 'SK0104', 'SK0105', 'SK0106',\n       'SK0107', 'SK0108', 'SK0211', 'SK0212', 'SK0213', 'SK0214',\n       'SK0215', 'SK0216', 'SK0217', 'SK0221', 'SK0222', 'SK0223',\n       'SK0224', 'SK0225', 'SK0226', 'SK0227', 'SK0228', 'SK0229',\n       'SK0231', 'SK0232', 'SK0233', 'SK0234', 'SK0235', 'SK0236',\n       'SK0237', 'SK0311', 'SK0312', 'SK0313', 'SK0314', 'SK0315',\n       'SK0316', 'SK0317', 'SK0318', 'SK0319', 'SK031A', 'SK031B',\n       'SK0321', 'SK0322', 'SK0323', 'SK0324', 'SK0325', 'SK0326',\n       'SK0327', 'SK0328', 'SK0329', 'SK032A', 'SK032B', 'SK032C',\n       'SK032D', 'SK0411', 'SK0412', 'SK0413', 'SK0414', 'SK0415',\n       'SK0416', 'SK0417', 'SK0418', 'SK0419', 'SK041A', 'SK041B',\n       'SK041C', 'SK041D', 'SK0421', 'SK0422', 'SK0423', 'SK0424',\n       'SK0425', 'SK0426', 'SK0427', 'SK0428', 'SK0429', 'SK042A',\n       'SK042B'], dtype=object)"
     },
     "metadata": {},
     "output_type": "display_data"
    },
    {
     "data": {
      "text/plain": "'Kód obce'"
     },
     "metadata": {},
     "output_type": "display_data"
    },
    {
     "data": {
      "text/plain": "array(['SK0101528595', 'SK0102529311', 'SK0102529320', ...,\n       'SK042B544027', 'SK042B544035', 'SK042B544043'], dtype=object)"
     },
     "metadata": {},
     "output_type": "display_data"
    },
    {
     "data": {
      "text/plain": "'Názov okresu'"
     },
     "metadata": {},
     "output_type": "display_data"
    },
    {
     "data": {
      "text/plain": "array(['Okres Bratislava I', 'Okres Bratislava II',\n       'Okres Bratislava III', 'Okres Bratislava IV',\n       'Okres Bratislava V', 'Okres Malacky', 'Okres Pezinok',\n       'Okres Senec', 'Okres Dunajská Streda', 'Okres Galanta',\n       'Okres Hlohovec', 'Okres Piešťany', 'Okres Senica',\n       'Okres Skalica', 'Okres Trnava', 'Okres Bánovce nad Bebravou',\n       'Okres Ilava', 'Okres Myjava', 'Okres Nové Mesto nad Váhom',\n       'Okres Partizánske', 'Okres Považská Bystrica', 'Okres Prievidza',\n       'Okres Púchov', 'Okres Trenčín', 'Okres Komárno', 'Okres Levice',\n       'Okres Nitra', 'Okres Nové Zámky', 'Okres Šaľa', 'Okres Topoľčany',\n       'Okres Zlaté Moravce', 'Okres Bytča', 'Okres Čadca',\n       'Okres Dolný Kubín', 'Okres Kysucké Nové Mesto',\n       'Okres Liptovský Mikuláš', 'Okres Martin', 'Okres Námestovo',\n       'Okres Ružomberok', 'Okres Turčianske Teplice', 'Okres Tvrdošín',\n       'Okres Žilina', 'Okres Banská Bystrica', 'Okres Banská Štiavnica',\n       'Okres Brezno', 'Okres Detva', 'Okres Krupina', 'Okres Lučenec',\n       'Okres Poltár', 'Okres Revúca', 'Okres Rimavská Sobota',\n       'Okres Veľký Krtíš', 'Okres Zvolen', 'Okres Žarnovica',\n       'Okres Žiar nad Hronom', 'Okres Bardejov', 'Okres Humenné',\n       'Okres Kežmarok', 'Okres Levoča', 'Okres Medzilaborce',\n       'Okres Poprad', 'Okres Prešov', 'Okres Sabinov', 'Okres Snina',\n       'Okres Stará Ľubovňa', 'Okres Stropkov', 'Okres Svidník',\n       'Okres Vranov nad Topľou', 'Okres Gelnica', 'Okres Košice I',\n       'Okres Košice II', 'Okres Košice III', 'Okres Košice IV',\n       'Okres Košice - okolie', 'Okres Michalovce', 'Okres Rožňava',\n       'Okres Sobrance', 'Okres Spišská Nová Ves', 'Okres Trebišov'],\n      dtype=object)"
     },
     "metadata": {},
     "output_type": "display_data"
    },
    {
     "data": {
      "text/plain": "'Názov obce'"
     },
     "metadata": {},
     "output_type": "display_data"
    },
    {
     "data": {
      "text/plain": "array(['Bratislava - mestská časť Staré Mesto',\n       'Bratislava - mestská časť Podunajské Biskupice',\n       'Bratislava - mestská časť Ružinov', ..., 'Zemplínske Hradište',\n       'Zemplínske Jastrabie', 'Zemplínsky Branč'], dtype=object)"
     },
     "metadata": {},
     "output_type": "display_data"
    },
    {
     "data": {
      "text/plain": "'Pohlavie'"
     },
     "metadata": {},
     "output_type": "display_data"
    },
    {
     "data": {
      "text/plain": "array(['muž', 'žena'], dtype=object)"
     },
     "metadata": {},
     "output_type": "display_data"
    },
    {
     "data": {
      "text/plain": "'Ekonomické vekové skupiny'"
     },
     "metadata": {},
     "output_type": "display_data"
    },
    {
     "data": {
      "text/plain": "array(['predproduktívny vek (0-14 rokov)',\n       'produktívny vek (15-64 rokov)',\n       'poproduktívny vek (65 a viac rokov)'], dtype=object)"
     },
     "metadata": {},
     "output_type": "display_data"
    },
    {
     "data": {
      "text/plain": "'Vzdelanie'"
     },
     "metadata": {},
     "output_type": "display_data"
    },
    {
     "data": {
      "text/plain": "array(['dôverné', 'nezistené',\n       'základné vzdelanie - 1. stupeň základnej školy',\n       'základné vzdelanie - 2. stupeň základnej školy',\n       'bez ukončeného vzdelania – osoby vo veku 0-14 rokov',\n       'základné vzdelanie (bližšie neuvedené)',\n       'stredné odborné (učňovské) vzdelanie bez maturity (bližšie neuvedené)',\n       'stredné odborné (učňovské) vzdelanie bez maturity a bez výučného listu (zaškolenie, zaučenie)',\n       'stredné odborné (učňovské) vzdelanie bez maturity s výučným listom',\n       'stredné odborné (učňovské) vzdelanie bez maturity s vysvedčením o záverečnej skúške',\n       'úplné stredné vzdelanie s maturitou (bližšie neuvedené)',\n       'úplné stredné vzdelanie s maturitou odborné (učňovské) s výučným listom',\n       'úplné stredné vzdelanie s maturitou odborné',\n       'úplné stredné vzdelanie s maturitou všeobecné',\n       'vyššie odborné vzdelanie (bližšie neuvedené)',\n       'vyššie odborné vzdelanie nadstavbové (maturita absolventov učebných odborov stredných odborných škôl)',\n       'vyššie odborné vzdelanie pomaturitné (pomaturitné kvalifikačné)',\n       'vyššie odborné vzdelanie vyššie odborné (absolventská skúška, absolventský diplom)',\n       'vysokoškolské vzdelanie (bližšie neuvedené)',\n       'vysokoškolské vzdelanie - 1. stupeň (Bc.)',\n       'vysokoškolské vzdelanie - 2. stupeň (Ing.; Mgr.; MUDr.; a i.)',\n       'vysokoškolské vzdelanie - 3. stupeň (PhD.; a i.)',\n       'bez školského vzdelania – osoby vo veku 15 rokov a viac'],\n      dtype=object)"
     },
     "metadata": {},
     "output_type": "display_data"
    },
    {
     "data": {
      "text/plain": "'abs.'"
     },
     "metadata": {},
     "output_type": "display_data"
    },
    {
     "data": {
      "text/plain": "array([   1,   56,  835, ...,  787, 1293, 1452], dtype=int64)"
     },
     "metadata": {},
     "output_type": "display_data"
    },
    {
     "data": {
      "text/plain": "'RV_O_010_L_OK_SK.CSV'"
     },
     "metadata": {},
     "output_type": "display_data"
    },
    {
     "data": {
      "text/plain": "  Kód okresu        Názov okresu Pohlavie         Ekonomické vekové skupiny  \\\n0     SK0101  Okres Bratislava I      muž  predproduktívny vek (0-14 rokov)   \n1     SK0101  Okres Bratislava I      muž  predproduktívny vek (0-14 rokov)   \n2     SK0101  Okres Bratislava I      muž  predproduktívny vek (0-14 rokov)   \n3     SK0101  Okres Bratislava I      muž  predproduktívny vek (0-14 rokov)   \n4     SK0101  Okres Bratislava I      muž  predproduktívny vek (0-14 rokov)   \n\n                                           Vzdelanie  abs.  \n0                                            dôverné     1  \n1                                          nezistené    56  \n2     základné vzdelanie - 1. stupeň základnej školy   835  \n3     základné vzdelanie - 2. stupeň základnej školy     2  \n4  bez ukončeného vzdelania – osoby vo veku 0-14 ...  2671  ",
      "text/html": "<div>\n<style scoped>\n    .dataframe tbody tr th:only-of-type {\n        vertical-align: middle;\n    }\n\n    .dataframe tbody tr th {\n        vertical-align: top;\n    }\n\n    .dataframe thead th {\n        text-align: right;\n    }\n</style>\n<table border=\"1\" class=\"dataframe\">\n  <thead>\n    <tr style=\"text-align: right;\">\n      <th></th>\n      <th>Kód okresu</th>\n      <th>Názov okresu</th>\n      <th>Pohlavie</th>\n      <th>Ekonomické vekové skupiny</th>\n      <th>Vzdelanie</th>\n      <th>abs.</th>\n    </tr>\n  </thead>\n  <tbody>\n    <tr>\n      <th>0</th>\n      <td>SK0101</td>\n      <td>Okres Bratislava I</td>\n      <td>muž</td>\n      <td>predproduktívny vek (0-14 rokov)</td>\n      <td>dôverné</td>\n      <td>1</td>\n    </tr>\n    <tr>\n      <th>1</th>\n      <td>SK0101</td>\n      <td>Okres Bratislava I</td>\n      <td>muž</td>\n      <td>predproduktívny vek (0-14 rokov)</td>\n      <td>nezistené</td>\n      <td>56</td>\n    </tr>\n    <tr>\n      <th>2</th>\n      <td>SK0101</td>\n      <td>Okres Bratislava I</td>\n      <td>muž</td>\n      <td>predproduktívny vek (0-14 rokov)</td>\n      <td>základné vzdelanie - 1. stupeň základnej školy</td>\n      <td>835</td>\n    </tr>\n    <tr>\n      <th>3</th>\n      <td>SK0101</td>\n      <td>Okres Bratislava I</td>\n      <td>muž</td>\n      <td>predproduktívny vek (0-14 rokov)</td>\n      <td>základné vzdelanie - 2. stupeň základnej školy</td>\n      <td>2</td>\n    </tr>\n    <tr>\n      <th>4</th>\n      <td>SK0101</td>\n      <td>Okres Bratislava I</td>\n      <td>muž</td>\n      <td>predproduktívny vek (0-14 rokov)</td>\n      <td>bez ukončeného vzdelania – osoby vo veku 0-14 ...</td>\n      <td>2671</td>\n    </tr>\n  </tbody>\n</table>\n</div>"
     },
     "metadata": {},
     "output_type": "display_data"
    },
    {
     "data": {
      "text/plain": "'Kód okresu'"
     },
     "metadata": {},
     "output_type": "display_data"
    },
    {
     "data": {
      "text/plain": "array(['SK0101', 'SK0102', 'SK0103', 'SK0104', 'SK0105', 'SK0106',\n       'SK0107', 'SK0108', 'SK0211', 'SK0212', 'SK0213', 'SK0214',\n       'SK0215', 'SK0216', 'SK0217', 'SK0221', 'SK0222', 'SK0223',\n       'SK0224', 'SK0225', 'SK0226', 'SK0227', 'SK0228', 'SK0229',\n       'SK0231', 'SK0232', 'SK0233', 'SK0234', 'SK0235', 'SK0236',\n       'SK0237', 'SK0311', 'SK0312', 'SK0313', 'SK0314', 'SK0315',\n       'SK0316', 'SK0317', 'SK0318', 'SK0319', 'SK031A', 'SK031B',\n       'SK0321', 'SK0322', 'SK0323', 'SK0324', 'SK0325', 'SK0326',\n       'SK0327', 'SK0328', 'SK0329', 'SK032A', 'SK032B', 'SK032C',\n       'SK032D', 'SK0411', 'SK0412', 'SK0413', 'SK0414', 'SK0415',\n       'SK0416', 'SK0417', 'SK0418', 'SK0419', 'SK041A', 'SK041B',\n       'SK041C', 'SK041D', 'SK0421', 'SK0422', 'SK0423', 'SK0424',\n       'SK0425', 'SK0426', 'SK0427', 'SK0428', 'SK0429', 'SK042A',\n       'SK042B'], dtype=object)"
     },
     "metadata": {},
     "output_type": "display_data"
    },
    {
     "data": {
      "text/plain": "'Názov okresu'"
     },
     "metadata": {},
     "output_type": "display_data"
    },
    {
     "data": {
      "text/plain": "array(['Okres Bratislava I', 'Okres Bratislava II',\n       'Okres Bratislava III', 'Okres Bratislava IV',\n       'Okres Bratislava V', 'Okres Malacky', 'Okres Pezinok',\n       'Okres Senec', 'Okres Dunajská Streda', 'Okres Galanta',\n       'Okres Hlohovec', 'Okres Piešťany', 'Okres Senica',\n       'Okres Skalica', 'Okres Trnava', 'Okres Bánovce nad Bebravou',\n       'Okres Ilava', 'Okres Myjava', 'Okres Nové Mesto nad Váhom',\n       'Okres Partizánske', 'Okres Považská Bystrica', 'Okres Prievidza',\n       'Okres Púchov', 'Okres Trenčín', 'Okres Komárno', 'Okres Levice',\n       'Okres Nitra', 'Okres Nové Zámky', 'Okres Šaľa', 'Okres Topoľčany',\n       'Okres Zlaté Moravce', 'Okres Bytča', 'Okres Čadca',\n       'Okres Dolný Kubín', 'Okres Kysucké Nové Mesto',\n       'Okres Liptovský Mikuláš', 'Okres Martin', 'Okres Námestovo',\n       'Okres Ružomberok', 'Okres Turčianske Teplice', 'Okres Tvrdošín',\n       'Okres Žilina', 'Okres Banská Bystrica', 'Okres Banská Štiavnica',\n       'Okres Brezno', 'Okres Detva', 'Okres Krupina', 'Okres Lučenec',\n       'Okres Poltár', 'Okres Revúca', 'Okres Rimavská Sobota',\n       'Okres Veľký Krtíš', 'Okres Zvolen', 'Okres Žarnovica',\n       'Okres Žiar nad Hronom', 'Okres Bardejov', 'Okres Humenné',\n       'Okres Kežmarok', 'Okres Levoča', 'Okres Medzilaborce',\n       'Okres Poprad', 'Okres Prešov', 'Okres Sabinov', 'Okres Snina',\n       'Okres Stará Ľubovňa', 'Okres Stropkov', 'Okres Svidník',\n       'Okres Vranov nad Topľou', 'Okres Gelnica', 'Okres Košice I',\n       'Okres Košice II', 'Okres Košice III', 'Okres Košice IV',\n       'Okres Košice - okolie', 'Okres Michalovce', 'Okres Rožňava',\n       'Okres Sobrance', 'Okres Spišská Nová Ves', 'Okres Trebišov'],\n      dtype=object)"
     },
     "metadata": {},
     "output_type": "display_data"
    },
    {
     "data": {
      "text/plain": "'Pohlavie'"
     },
     "metadata": {},
     "output_type": "display_data"
    },
    {
     "data": {
      "text/plain": "array(['muž', 'žena'], dtype=object)"
     },
     "metadata": {},
     "output_type": "display_data"
    },
    {
     "data": {
      "text/plain": "'Ekonomické vekové skupiny'"
     },
     "metadata": {},
     "output_type": "display_data"
    },
    {
     "data": {
      "text/plain": "array(['predproduktívny vek (0-14 rokov)',\n       'produktívny vek (15-64 rokov)',\n       'poproduktívny vek (65 a viac rokov)'], dtype=object)"
     },
     "metadata": {},
     "output_type": "display_data"
    },
    {
     "data": {
      "text/plain": "'Vzdelanie'"
     },
     "metadata": {},
     "output_type": "display_data"
    },
    {
     "data": {
      "text/plain": "array(['dôverné', 'nezistené',\n       'základné vzdelanie - 1. stupeň základnej školy',\n       'základné vzdelanie - 2. stupeň základnej školy',\n       'bez ukončeného vzdelania – osoby vo veku 0-14 rokov',\n       'základné vzdelanie (bližšie neuvedené)',\n       'stredné odborné (učňovské) vzdelanie bez maturity (bližšie neuvedené)',\n       'stredné odborné (učňovské) vzdelanie bez maturity a bez výučného listu (zaškolenie, zaučenie)',\n       'stredné odborné (učňovské) vzdelanie bez maturity s výučným listom',\n       'stredné odborné (učňovské) vzdelanie bez maturity s vysvedčením o záverečnej skúške',\n       'úplné stredné vzdelanie s maturitou (bližšie neuvedené)',\n       'úplné stredné vzdelanie s maturitou odborné (učňovské) s výučným listom',\n       'úplné stredné vzdelanie s maturitou odborné',\n       'úplné stredné vzdelanie s maturitou všeobecné',\n       'vyššie odborné vzdelanie (bližšie neuvedené)',\n       'vyššie odborné vzdelanie nadstavbové (maturita absolventov učebných odborov stredných odborných škôl)',\n       'vyššie odborné vzdelanie pomaturitné (pomaturitné kvalifikačné)',\n       'vyššie odborné vzdelanie vyššie odborné (absolventská skúška, absolventský diplom)',\n       'vysokoškolské vzdelanie (bližšie neuvedené)',\n       'vysokoškolské vzdelanie - 1. stupeň (Bc.)',\n       'vysokoškolské vzdelanie - 2. stupeň (Ing.; Mgr.; MUDr.; a i.)',\n       'vysokoškolské vzdelanie - 3. stupeň (PhD.; a i.)',\n       'bez školského vzdelania – osoby vo veku 15 rokov a viac'],\n      dtype=object)"
     },
     "metadata": {},
     "output_type": "display_data"
    },
    {
     "data": {
      "text/plain": "'abs.'"
     },
     "metadata": {},
     "output_type": "display_data"
    },
    {
     "data": {
      "text/plain": "array([   1,   56,  835, ..., 2624, 4631, 2732], dtype=int64)"
     },
     "metadata": {},
     "output_type": "display_data"
    },
    {
     "data": {
      "text/plain": "'RV_O_010_R_KR_SK.CSV'"
     },
     "metadata": {},
     "output_type": "display_data"
    },
    {
     "data": {
      "text/plain": "  Kód štátu          Názov štátu Kód oblasti Kód kraja      Názov oblasti  \\\n0       SK0  Slovenská republika        SK01     SK010  Bratislavský kraj   \n1       SK0  Slovenská republika        SK01     SK010  Bratislavský kraj   \n2       SK0  Slovenská republika        SK01     SK010  Bratislavský kraj   \n3       SK0  Slovenská republika        SK01     SK010  Bratislavský kraj   \n4       SK0  Slovenská republika        SK01     SK010  Bratislavský kraj   \n\n         Názov kraja Pohlavie         Ekonomické vekové skupiny  \\\n0  Bratislavský kraj      muž  predproduktívny vek (0-14 rokov)   \n1  Bratislavský kraj      muž  predproduktívny vek (0-14 rokov)   \n2  Bratislavský kraj      muž  predproduktívny vek (0-14 rokov)   \n3  Bratislavský kraj      muž  predproduktívny vek (0-14 rokov)   \n4  Bratislavský kraj      muž     produktívny vek (15-64 rokov)   \n\n                                           Vzdelanie   abs.  \n0                                          nezistené    585  \n1     základné vzdelanie - 1. stupeň základnej školy  15080  \n2     základné vzdelanie - 2. stupeň základnej školy     27  \n3  bez ukončeného vzdelania – osoby vo veku 0-14 ...  46375  \n4                                          nezistené  17471  ",
      "text/html": "<div>\n<style scoped>\n    .dataframe tbody tr th:only-of-type {\n        vertical-align: middle;\n    }\n\n    .dataframe tbody tr th {\n        vertical-align: top;\n    }\n\n    .dataframe thead th {\n        text-align: right;\n    }\n</style>\n<table border=\"1\" class=\"dataframe\">\n  <thead>\n    <tr style=\"text-align: right;\">\n      <th></th>\n      <th>Kód štátu</th>\n      <th>Názov štátu</th>\n      <th>Kód oblasti</th>\n      <th>Kód kraja</th>\n      <th>Názov oblasti</th>\n      <th>Názov kraja</th>\n      <th>Pohlavie</th>\n      <th>Ekonomické vekové skupiny</th>\n      <th>Vzdelanie</th>\n      <th>abs.</th>\n    </tr>\n  </thead>\n  <tbody>\n    <tr>\n      <th>0</th>\n      <td>SK0</td>\n      <td>Slovenská republika</td>\n      <td>SK01</td>\n      <td>SK010</td>\n      <td>Bratislavský kraj</td>\n      <td>Bratislavský kraj</td>\n      <td>muž</td>\n      <td>predproduktívny vek (0-14 rokov)</td>\n      <td>nezistené</td>\n      <td>585</td>\n    </tr>\n    <tr>\n      <th>1</th>\n      <td>SK0</td>\n      <td>Slovenská republika</td>\n      <td>SK01</td>\n      <td>SK010</td>\n      <td>Bratislavský kraj</td>\n      <td>Bratislavský kraj</td>\n      <td>muž</td>\n      <td>predproduktívny vek (0-14 rokov)</td>\n      <td>základné vzdelanie - 1. stupeň základnej školy</td>\n      <td>15080</td>\n    </tr>\n    <tr>\n      <th>2</th>\n      <td>SK0</td>\n      <td>Slovenská republika</td>\n      <td>SK01</td>\n      <td>SK010</td>\n      <td>Bratislavský kraj</td>\n      <td>Bratislavský kraj</td>\n      <td>muž</td>\n      <td>predproduktívny vek (0-14 rokov)</td>\n      <td>základné vzdelanie - 2. stupeň základnej školy</td>\n      <td>27</td>\n    </tr>\n    <tr>\n      <th>3</th>\n      <td>SK0</td>\n      <td>Slovenská republika</td>\n      <td>SK01</td>\n      <td>SK010</td>\n      <td>Bratislavský kraj</td>\n      <td>Bratislavský kraj</td>\n      <td>muž</td>\n      <td>predproduktívny vek (0-14 rokov)</td>\n      <td>bez ukončeného vzdelania – osoby vo veku 0-14 ...</td>\n      <td>46375</td>\n    </tr>\n    <tr>\n      <th>4</th>\n      <td>SK0</td>\n      <td>Slovenská republika</td>\n      <td>SK01</td>\n      <td>SK010</td>\n      <td>Bratislavský kraj</td>\n      <td>Bratislavský kraj</td>\n      <td>muž</td>\n      <td>produktívny vek (15-64 rokov)</td>\n      <td>nezistené</td>\n      <td>17471</td>\n    </tr>\n  </tbody>\n</table>\n</div>"
     },
     "metadata": {},
     "output_type": "display_data"
    },
    {
     "data": {
      "text/plain": "'Kód štátu'"
     },
     "metadata": {},
     "output_type": "display_data"
    },
    {
     "data": {
      "text/plain": "array(['SK0'], dtype=object)"
     },
     "metadata": {},
     "output_type": "display_data"
    },
    {
     "data": {
      "text/plain": "'Názov štátu'"
     },
     "metadata": {},
     "output_type": "display_data"
    },
    {
     "data": {
      "text/plain": "array(['Slovenská republika'], dtype=object)"
     },
     "metadata": {},
     "output_type": "display_data"
    },
    {
     "data": {
      "text/plain": "'Kód oblasti'"
     },
     "metadata": {},
     "output_type": "display_data"
    },
    {
     "data": {
      "text/plain": "array(['SK01', 'SK02', 'SK03', 'SK04'], dtype=object)"
     },
     "metadata": {},
     "output_type": "display_data"
    },
    {
     "data": {
      "text/plain": "'Kód kraja'"
     },
     "metadata": {},
     "output_type": "display_data"
    },
    {
     "data": {
      "text/plain": "array(['SK010', 'SK021', 'SK022', 'SK023', 'SK031', 'SK032', 'SK041',\n       'SK042'], dtype=object)"
     },
     "metadata": {},
     "output_type": "display_data"
    },
    {
     "data": {
      "text/plain": "'Názov oblasti'"
     },
     "metadata": {},
     "output_type": "display_data"
    },
    {
     "data": {
      "text/plain": "array(['Bratislavský kraj', 'Západné Slovensko', 'Stredné Slovensko',\n       'Východné Slovensko'], dtype=object)"
     },
     "metadata": {},
     "output_type": "display_data"
    },
    {
     "data": {
      "text/plain": "'Názov kraja'"
     },
     "metadata": {},
     "output_type": "display_data"
    },
    {
     "data": {
      "text/plain": "array(['Bratislavský kraj', 'Trnavský kraj', 'Trenčiansky kraj',\n       'Nitriansky kraj', 'Žilinský kraj', 'Banskobystrický kraj',\n       'Prešovský kraj', 'Košický kraj'], dtype=object)"
     },
     "metadata": {},
     "output_type": "display_data"
    },
    {
     "data": {
      "text/plain": "'Pohlavie'"
     },
     "metadata": {},
     "output_type": "display_data"
    },
    {
     "data": {
      "text/plain": "array(['muž', 'žena'], dtype=object)"
     },
     "metadata": {},
     "output_type": "display_data"
    },
    {
     "data": {
      "text/plain": "'Ekonomické vekové skupiny'"
     },
     "metadata": {},
     "output_type": "display_data"
    },
    {
     "data": {
      "text/plain": "array(['predproduktívny vek (0-14 rokov)',\n       'produktívny vek (15-64 rokov)',\n       'poproduktívny vek (65 a viac rokov)'], dtype=object)"
     },
     "metadata": {},
     "output_type": "display_data"
    },
    {
     "data": {
      "text/plain": "'Vzdelanie'"
     },
     "metadata": {},
     "output_type": "display_data"
    },
    {
     "data": {
      "text/plain": "array(['nezistené', 'základné vzdelanie - 1. stupeň základnej školy',\n       'základné vzdelanie - 2. stupeň základnej školy',\n       'bez ukončeného vzdelania – osoby vo veku 0-14 rokov',\n       'základné vzdelanie (bližšie neuvedené)',\n       'stredné odborné (učňovské) vzdelanie bez maturity (bližšie neuvedené)',\n       'stredné odborné (učňovské) vzdelanie bez maturity a bez výučného listu (zaškolenie, zaučenie)',\n       'stredné odborné (učňovské) vzdelanie bez maturity s výučným listom',\n       'stredné odborné (učňovské) vzdelanie bez maturity s vysvedčením o záverečnej skúške',\n       'úplné stredné vzdelanie s maturitou (bližšie neuvedené)',\n       'úplné stredné vzdelanie s maturitou odborné (učňovské) s výučným listom',\n       'úplné stredné vzdelanie s maturitou odborné',\n       'úplné stredné vzdelanie s maturitou všeobecné',\n       'vyššie odborné vzdelanie (bližšie neuvedené)',\n       'vyššie odborné vzdelanie nadstavbové (maturita absolventov učebných odborov stredných odborných škôl)',\n       'vyššie odborné vzdelanie pomaturitné (pomaturitné kvalifikačné)',\n       'vyššie odborné vzdelanie vyššie odborné (absolventská skúška, absolventský diplom)',\n       'vysokoškolské vzdelanie (bližšie neuvedené)',\n       'vysokoškolské vzdelanie - 1. stupeň (Bc.)',\n       'vysokoškolské vzdelanie - 2. stupeň (Ing.; Mgr.; MUDr.; a i.)',\n       'vysokoškolské vzdelanie - 3. stupeň (PhD.; a i.)',\n       'bez školského vzdelania – osoby vo veku 15 rokov a viac'],\n      dtype=object)"
     },
     "metadata": {},
     "output_type": "display_data"
    },
    {
     "data": {
      "text/plain": "'abs.'"
     },
     "metadata": {},
     "output_type": "display_data"
    },
    {
     "data": {
      "text/plain": "array([  585, 15080,    27, 46375, 17471,   215,  2598, 17567,   684,\n        3068, 27613,  4428,   154, 14697, 32808, 15049,     3,  9807,\n        1159,  1872,    34,  9197, 67837,  6636,   536,  2687,    37,\n         345,  2390,     6,   815, 10983,  1071,   132,  2509,  6527,\n        1586,     1,  1827,   423,   745,    33,   395, 14772,  3486,\n         550, 14757,    80, 43537, 11648,   151,  2167, 17011,   153,\n        2477, 16350,  3209,   140,  7984, 36784, 18490,  8448,  2682,\n        3037,    35, 11458, 89770,  6982,   358,  3329,   115,   947,\n        9788,  2036,  9382,  2717,   177,  2271, 14061,  7171,  2713,\n        1389,  1088,    15,   511, 14747,  2454,    61,   365, 11522,\n           5, 30984, 11327,   241,  4068, 19356,   598,  3849, 46359,\n        6769,    66, 16931, 30495,  8973,     2,  9626,  1138,  1161,\n          17,  5239, 25480,  1764,   755,  1320,    64,   707,  4524,\n        1017, 15557,  1452,    52,  2434,  5043,  1011,  1198,   306,\n         403,   180,  4620,   456,    84,   418, 11313, 28796,  7184,\n         233,  3705, 20948,  3115, 27858,  4639,    67, 10352, 35803,\n       13662,  8501,  2753,  2257,    11,  8416, 36786,  1891,   556,\n        1669,   144,  1936, 17513,  2242, 10760,  1917,    43,  1812,\n        8760,  4315,  1642,   914,   545,     4,   221,  4181,   253,\n         108,   426, 11530,     8, 29750, 10650,   213,  2817, 15308,\n         642,  3186, 47737,  5488,    81, 22011, 32761,  8535, 10467,\n         981,   912,  5769, 27522,  1489,   569,  1384,    98,   445,\n        3557,     7,  1061, 17072,  1262,  3236,  6367,   926,  1581,\n         346,   406,   244,  6301,   366,    41,   334, 11326,    14,\n       28109,  6708,   172,  2303, 15929,   170,  2648, 30820,  4102,\n       12523, 37999, 13384,  9091,  2278,  1886,    13,  9809, 38034,\n        1427,   475,  1756,   164,  1336, 15296,  3020, 14049,  1987,\n          74,  2436, 11396,  3873,  1885,   910,   283,  4844,   167,\n          94,   514, 13611, 33937, 15307,   331,  5726, 22935,   603,\n        4593, 54745,  7637,   119, 20595, 35927, 10640, 10699,  1407,\n        6298, 31202,  2084,   858,  1898,   161,   962,  5630,  1278,\n       18204,  1531,   122,  2971,  6339,  1366,  1346,   333,   225,\n        6277,   625,    69,   457, 13164,    30, 31736, 10163,   351,\n        5307, 24805,   227,  3731, 34102,  5393,    91, 11816, 41756,\n       16124,  9925,  2938,  1994, 10091, 43412,  2437,   739,  2339,\n         382,  3228, 23188,  2783, 12684,  2158,   157,  2235, 11728,\n        5471,  2124,  1105,   607,    12,   275,   178,   483, 15900,\n           9, 39960,  9897,   204,  3628, 21493,   614,  3792, 58166,\n        6716, 26006, 39183, 10972, 12300,  1051,   993,    18,  6548,\n       34166,  2563,   877,  1136,    63,   559,  4607,  1080, 16085,\n        1192,    90,  3032,  5988,   376,   446,  6884,   731,   435,\n       15508,    44, 37484,  6065,   163,  2837, 21816,  2963, 34963,\n        4697, 13875, 44913, 16952, 10662,  2414, 12498, 49237,  2475,\n         575,  1553,  1670, 17675,  2921, 13123,  2151,  2360, 11666,\n        4116,  1876,  1116,   640,   264,  5503,   121,   638, 12979,\n       34044, 11835,  6592, 27248,   672,  4493, 42572,  5379,    60,\n       18726, 37154,  9918,  8820,  1038,  1006,  5238, 28083,  1928,\n         955,  1469,    87,   758,  4415,  1126, 14835,  1203,    93,\n        2640,  7091,  1274,   356,   428,   250,  6502,   548, 12825,\n          10, 32440,  8391,   513,  6333, 28749,   239,  3591, 26816,\n        4086,    73, 10811, 40744, 14245,  8070,  2410,  1946,  8497,\n       39150,  2071,   850,  1960,   226,  2331, 17271,  2654, 12122,\n        2214,   118,  2287, 12651,  4270,  1842,  1002,   249,  5662,\n         329,   156,  1253, 19515, 54638, 12719,   507,  8608, 39497,\n         610,  5011, 57098,  6553,    76, 25741, 44155, 11859, 12968,\n        1269,    19,  7272, 37921,  2085,  1442,  1431,  5604,  1307,\n       16953,  3016,  7363,  1305,  1379,   349,   421,   231,  6165,\n         492,    85,  1143, 18960, 52007,  9082,   496,  8146, 39695,\n         260,  3971, 34875,  5076,    83, 14511, 47481, 16599, 10570,\n        2828,  2087, 13813, 52071,  2218,  1196,  1739,   150,  2445,\n       19660,  3019, 13774,  2114,    62,  2389, 12662,  4456,  1875,\n        1083,   539,   248,  4818,  2037, 17020, 51063, 19200,   770,\n       10421, 35971,   723,  5142, 44626,  5788, 22176, 41237, 12670,\n       10836,  1385,  1326,  6674, 39417,  2962,  1460,  2237,   857,\n        3592,  1087, 15507,  1310,  3180,  8273,  1343,  1635,   397,\n         525,  7628,  1009,  1912, 16721, 48339, 15470, 10459, 37652,\n         242,  4391, 28969,    95, 11540, 44105, 17751,  9403,  3151,\n        2599,    16, 10557, 52027,  3147,  1117,  2823,  2394, 16356,\n        2843, 13156,   176,  2493, 14636,  6160,  2209,  1261,   719,\n         276,  6286,   526,   206], dtype=int64)"
     },
     "metadata": {},
     "output_type": "display_data"
    },
    {
     "data": {
      "text/plain": "'RV_O_010_R_OL_SK.CSV'"
     },
     "metadata": {},
     "output_type": "display_data"
    },
    {
     "data": {
      "text/plain": "  Kód štátu Kód oblasti          Názov štátu      Názov oblasti Pohlavie  \\\n0       SK0        SK01  Slovenská republika  Bratislavský kraj      muž   \n1       SK0        SK01  Slovenská republika  Bratislavský kraj      muž   \n2       SK0        SK01  Slovenská republika  Bratislavský kraj      muž   \n3       SK0        SK01  Slovenská republika  Bratislavský kraj      muž   \n4       SK0        SK01  Slovenská republika  Bratislavský kraj      muž   \n\n          Ekonomické vekové skupiny  \\\n0  predproduktívny vek (0-14 rokov)   \n1  predproduktívny vek (0-14 rokov)   \n2  predproduktívny vek (0-14 rokov)   \n3  predproduktívny vek (0-14 rokov)   \n4     produktívny vek (15-64 rokov)   \n\n                                           Vzdelanie   abs.  \n0                                          nezistené    585  \n1     základné vzdelanie - 1. stupeň základnej školy  15080  \n2     základné vzdelanie - 2. stupeň základnej školy     27  \n3  bez ukončeného vzdelania – osoby vo veku 0-14 ...  46375  \n4                                          nezistené  17471  ",
      "text/html": "<div>\n<style scoped>\n    .dataframe tbody tr th:only-of-type {\n        vertical-align: middle;\n    }\n\n    .dataframe tbody tr th {\n        vertical-align: top;\n    }\n\n    .dataframe thead th {\n        text-align: right;\n    }\n</style>\n<table border=\"1\" class=\"dataframe\">\n  <thead>\n    <tr style=\"text-align: right;\">\n      <th></th>\n      <th>Kód štátu</th>\n      <th>Kód oblasti</th>\n      <th>Názov štátu</th>\n      <th>Názov oblasti</th>\n      <th>Pohlavie</th>\n      <th>Ekonomické vekové skupiny</th>\n      <th>Vzdelanie</th>\n      <th>abs.</th>\n    </tr>\n  </thead>\n  <tbody>\n    <tr>\n      <th>0</th>\n      <td>SK0</td>\n      <td>SK01</td>\n      <td>Slovenská republika</td>\n      <td>Bratislavský kraj</td>\n      <td>muž</td>\n      <td>predproduktívny vek (0-14 rokov)</td>\n      <td>nezistené</td>\n      <td>585</td>\n    </tr>\n    <tr>\n      <th>1</th>\n      <td>SK0</td>\n      <td>SK01</td>\n      <td>Slovenská republika</td>\n      <td>Bratislavský kraj</td>\n      <td>muž</td>\n      <td>predproduktívny vek (0-14 rokov)</td>\n      <td>základné vzdelanie - 1. stupeň základnej školy</td>\n      <td>15080</td>\n    </tr>\n    <tr>\n      <th>2</th>\n      <td>SK0</td>\n      <td>SK01</td>\n      <td>Slovenská republika</td>\n      <td>Bratislavský kraj</td>\n      <td>muž</td>\n      <td>predproduktívny vek (0-14 rokov)</td>\n      <td>základné vzdelanie - 2. stupeň základnej školy</td>\n      <td>27</td>\n    </tr>\n    <tr>\n      <th>3</th>\n      <td>SK0</td>\n      <td>SK01</td>\n      <td>Slovenská republika</td>\n      <td>Bratislavský kraj</td>\n      <td>muž</td>\n      <td>predproduktívny vek (0-14 rokov)</td>\n      <td>bez ukončeného vzdelania – osoby vo veku 0-14 ...</td>\n      <td>46375</td>\n    </tr>\n    <tr>\n      <th>4</th>\n      <td>SK0</td>\n      <td>SK01</td>\n      <td>Slovenská republika</td>\n      <td>Bratislavský kraj</td>\n      <td>muž</td>\n      <td>produktívny vek (15-64 rokov)</td>\n      <td>nezistené</td>\n      <td>17471</td>\n    </tr>\n  </tbody>\n</table>\n</div>"
     },
     "metadata": {},
     "output_type": "display_data"
    },
    {
     "data": {
      "text/plain": "'Kód štátu'"
     },
     "metadata": {},
     "output_type": "display_data"
    },
    {
     "data": {
      "text/plain": "array(['SK0'], dtype=object)"
     },
     "metadata": {},
     "output_type": "display_data"
    },
    {
     "data": {
      "text/plain": "'Kód oblasti'"
     },
     "metadata": {},
     "output_type": "display_data"
    },
    {
     "data": {
      "text/plain": "array(['SK01', 'SK02', 'SK03', 'SK04'], dtype=object)"
     },
     "metadata": {},
     "output_type": "display_data"
    },
    {
     "data": {
      "text/plain": "'Názov štátu'"
     },
     "metadata": {},
     "output_type": "display_data"
    },
    {
     "data": {
      "text/plain": "array(['Slovenská republika'], dtype=object)"
     },
     "metadata": {},
     "output_type": "display_data"
    },
    {
     "data": {
      "text/plain": "'Názov oblasti'"
     },
     "metadata": {},
     "output_type": "display_data"
    },
    {
     "data": {
      "text/plain": "array(['Bratislavský kraj', 'Západné Slovensko', 'Stredné Slovensko',\n       'Východné Slovensko'], dtype=object)"
     },
     "metadata": {},
     "output_type": "display_data"
    },
    {
     "data": {
      "text/plain": "'Pohlavie'"
     },
     "metadata": {},
     "output_type": "display_data"
    },
    {
     "data": {
      "text/plain": "array(['muž', 'žena'], dtype=object)"
     },
     "metadata": {},
     "output_type": "display_data"
    },
    {
     "data": {
      "text/plain": "'Ekonomické vekové skupiny'"
     },
     "metadata": {},
     "output_type": "display_data"
    },
    {
     "data": {
      "text/plain": "array(['predproduktívny vek (0-14 rokov)',\n       'produktívny vek (15-64 rokov)',\n       'poproduktívny vek (65 a viac rokov)'], dtype=object)"
     },
     "metadata": {},
     "output_type": "display_data"
    },
    {
     "data": {
      "text/plain": "'Vzdelanie'"
     },
     "metadata": {},
     "output_type": "display_data"
    },
    {
     "data": {
      "text/plain": "array(['nezistené', 'základné vzdelanie - 1. stupeň základnej školy',\n       'základné vzdelanie - 2. stupeň základnej školy',\n       'bez ukončeného vzdelania – osoby vo veku 0-14 rokov',\n       'základné vzdelanie (bližšie neuvedené)',\n       'stredné odborné (učňovské) vzdelanie bez maturity (bližšie neuvedené)',\n       'stredné odborné (učňovské) vzdelanie bez maturity a bez výučného listu (zaškolenie, zaučenie)',\n       'stredné odborné (učňovské) vzdelanie bez maturity s výučným listom',\n       'stredné odborné (učňovské) vzdelanie bez maturity s vysvedčením o záverečnej skúške',\n       'úplné stredné vzdelanie s maturitou (bližšie neuvedené)',\n       'úplné stredné vzdelanie s maturitou odborné (učňovské) s výučným listom',\n       'úplné stredné vzdelanie s maturitou odborné',\n       'úplné stredné vzdelanie s maturitou všeobecné',\n       'vyššie odborné vzdelanie (bližšie neuvedené)',\n       'vyššie odborné vzdelanie nadstavbové (maturita absolventov učebných odborov stredných odborných škôl)',\n       'vyššie odborné vzdelanie pomaturitné (pomaturitné kvalifikačné)',\n       'vyššie odborné vzdelanie vyššie odborné (absolventská skúška, absolventský diplom)',\n       'vysokoškolské vzdelanie (bližšie neuvedené)',\n       'vysokoškolské vzdelanie - 1. stupeň (Bc.)',\n       'vysokoškolské vzdelanie - 2. stupeň (Ing.; Mgr.; MUDr.; a i.)',\n       'vysokoškolské vzdelanie - 3. stupeň (PhD.; a i.)',\n       'bez školského vzdelania – osoby vo veku 15 rokov a viac'],\n      dtype=object)"
     },
     "metadata": {},
     "output_type": "display_data"
    },
    {
     "data": {
      "text/plain": "'abs.'"
     },
     "metadata": {},
     "output_type": "display_data"
    },
    {
     "data": {
      "text/plain": "array([   585,  15080,     27,  46375,  17471,    215,   2598,  17567,\n          684,   3068,  27613,   4428,    154,  14697,  32808,  15049,\n            3,   9807,   1159,   1872,     34,   9197,  67837,   6636,\n          536,   2687,     37,    345,   2390,      6,    815,  10983,\n         1071,    132,   2509,   6527,   1586,      1,   1827,    423,\n          745,     33,    395,  14772,   3486,    550,  14757,     80,\n        43537,  11648,    151,   2167,  17011,    153,   2477,  16350,\n         3209,    140,   7984,  36784,  18490,   8448,   2682,   3037,\n           35,  11458,  89770,   6982,    358,   3329,    115,    947,\n         9788,   2036,   9382,   2717,    177,   2271,  14061,   7171,\n         2713,   1389,   1088,     15,    511,  14747,   2454,     61,\n         1305,  36663,     20,  94671,  37284,    785,  12611,  57599,\n         1843,  11628, 148841,  19894,    266,  59537,  99183,  28148,\n            8,  30792,   3526,   3090,     51,  17306,  84204,   5337,\n         2182,   4602,    323,   2114,  13711,     16,   3356,  50833,\n         4245,    258,   8641,  17749,   3303,   4125,    985,   1235,\n           24,    649,  17198,   1447,    194,   1209,  35803,    105,\n        88641,  24055,    756,  11315,  61682,    577,   9494,  92780,\n        14134,    242,  34691, 115558,  43170,      7,  27517,   7969,\n         6137,     41,  28316, 118232,   5755,   1770,   5764,    690,\n         6500,  55997,      2,   8045,  37493,   6062,    274,   6483,\n        31884,  13659,   5651,   2929,   1737,     23,    779,  14496,\n          786,    380,   1121,  28879,     14,  74004,  21732,    660,\n        10220,  48741,   1286,   8285, 100738,  12095,    129,  44732,\n        76337,  20890,  21120,   2089,   1999,     31,  11786,  62249,\n         4491,   1832,   2605,    150,   1317,   9022,   2206,  30920,\n         2395,    183,   5672,  13079,   2189,   2763,    732,    874,\n           17,    477,  13386,   1279,    124,   1042,  28333,     54,\n        69924,  14456,    676,   9170,  50565,    400,   6554,  61779,\n         8783,  24686,  85657,  31197,  18732,   5097,   4360,  20995,\n        88387,   4546,   1425,   3513,    404,   4001,  34946,   5575,\n        25245,   4365,    226,   4647,  24317,   8386,   3718,   2118,\n         1254,    513,  11165,    277,   3290,  36535,      5, 105701,\n        31919,   1277,  19029,  75468,   1333,  10153, 101724,  12341,\n          191,  47917,  85392,  24529,  23804,   2654,   2431,     36,\n        13946,  77338,   5047,   2902,   3668,    155,   1734,   9196,\n         2394,  32460,   2502,    211,   6196,  15636,   2648,   3014,\n          746,    946,     13,    458,  13793,   1501,    166,   3055,\n        35681, 100346,  24552,   1203,  18605,  77347,    502,   8362,\n        63844,   9683,    178,  26051,  91586,  34350,  19973,   5979,\n         4686,  24370, 104098,   5365,   2313,   4562,    399,   4839,\n        36016,   5862,  26930,   4371,    238,   4882,  27298,  10616,\n         4084,   2344,   1258,     25,    524,  11104,    774,    433],\n      dtype=int64)"
     },
     "metadata": {},
     "output_type": "display_data"
    },
    {
     "data": {
      "text/plain": "'RV_O_010_R_SR_SK.CSV'"
     },
     "metadata": {},
     "output_type": "display_data"
    },
    {
     "data": {
      "text/plain": "  Kód štátu          Názov štátu Pohlavie         Ekonomické vekové skupiny  \\\n0       SK0  Slovenská republika      muž  predproduktívny vek (0-14 rokov)   \n1       SK0  Slovenská republika      muž  predproduktívny vek (0-14 rokov)   \n2       SK0  Slovenská republika      muž  predproduktívny vek (0-14 rokov)   \n3       SK0  Slovenská republika      muž  predproduktívny vek (0-14 rokov)   \n4       SK0  Slovenská republika      muž  predproduktívny vek (0-14 rokov)   \n\n                                           Vzdelanie    abs.  \n0                                          nezistené    6301  \n1             základné vzdelanie (bližšie neuvedené)       1  \n2     základné vzdelanie - 1. stupeň základnej školy  117157  \n3     základné vzdelanie - 2. stupeň základnej školy      66  \n4  bez ukončeného vzdelania – osoby vo veku 0-14 ...  320751  ",
      "text/html": "<div>\n<style scoped>\n    .dataframe tbody tr th:only-of-type {\n        vertical-align: middle;\n    }\n\n    .dataframe tbody tr th {\n        vertical-align: top;\n    }\n\n    .dataframe thead th {\n        text-align: right;\n    }\n</style>\n<table border=\"1\" class=\"dataframe\">\n  <thead>\n    <tr style=\"text-align: right;\">\n      <th></th>\n      <th>Kód štátu</th>\n      <th>Názov štátu</th>\n      <th>Pohlavie</th>\n      <th>Ekonomické vekové skupiny</th>\n      <th>Vzdelanie</th>\n      <th>abs.</th>\n    </tr>\n  </thead>\n  <tbody>\n    <tr>\n      <th>0</th>\n      <td>SK0</td>\n      <td>Slovenská republika</td>\n      <td>muž</td>\n      <td>predproduktívny vek (0-14 rokov)</td>\n      <td>nezistené</td>\n      <td>6301</td>\n    </tr>\n    <tr>\n      <th>1</th>\n      <td>SK0</td>\n      <td>Slovenská republika</td>\n      <td>muž</td>\n      <td>predproduktívny vek (0-14 rokov)</td>\n      <td>základné vzdelanie (bližšie neuvedené)</td>\n      <td>1</td>\n    </tr>\n    <tr>\n      <th>2</th>\n      <td>SK0</td>\n      <td>Slovenská republika</td>\n      <td>muž</td>\n      <td>predproduktívny vek (0-14 rokov)</td>\n      <td>základné vzdelanie - 1. stupeň základnej školy</td>\n      <td>117157</td>\n    </tr>\n    <tr>\n      <th>3</th>\n      <td>SK0</td>\n      <td>Slovenská republika</td>\n      <td>muž</td>\n      <td>predproduktívny vek (0-14 rokov)</td>\n      <td>základné vzdelanie - 2. stupeň základnej školy</td>\n      <td>66</td>\n    </tr>\n    <tr>\n      <th>4</th>\n      <td>SK0</td>\n      <td>Slovenská republika</td>\n      <td>muž</td>\n      <td>predproduktívny vek (0-14 rokov)</td>\n      <td>bez ukončeného vzdelania – osoby vo veku 0-14 ...</td>\n      <td>320751</td>\n    </tr>\n  </tbody>\n</table>\n</div>"
     },
     "metadata": {},
     "output_type": "display_data"
    },
    {
     "data": {
      "text/plain": "'Kód štátu'"
     },
     "metadata": {},
     "output_type": "display_data"
    },
    {
     "data": {
      "text/plain": "array(['SK0'], dtype=object)"
     },
     "metadata": {},
     "output_type": "display_data"
    },
    {
     "data": {
      "text/plain": "'Názov štátu'"
     },
     "metadata": {},
     "output_type": "display_data"
    },
    {
     "data": {
      "text/plain": "array(['Slovenská republika'], dtype=object)"
     },
     "metadata": {},
     "output_type": "display_data"
    },
    {
     "data": {
      "text/plain": "'Pohlavie'"
     },
     "metadata": {},
     "output_type": "display_data"
    },
    {
     "data": {
      "text/plain": "array(['muž', 'žena'], dtype=object)"
     },
     "metadata": {},
     "output_type": "display_data"
    },
    {
     "data": {
      "text/plain": "'Ekonomické vekové skupiny'"
     },
     "metadata": {},
     "output_type": "display_data"
    },
    {
     "data": {
      "text/plain": "array(['predproduktívny vek (0-14 rokov)',\n       'produktívny vek (15-64 rokov)',\n       'poproduktívny vek (65 a viac rokov)'], dtype=object)"
     },
     "metadata": {},
     "output_type": "display_data"
    },
    {
     "data": {
      "text/plain": "'Vzdelanie'"
     },
     "metadata": {},
     "output_type": "display_data"
    },
    {
     "data": {
      "text/plain": "array(['nezistené', 'základné vzdelanie (bližšie neuvedené)',\n       'základné vzdelanie - 1. stupeň základnej školy',\n       'základné vzdelanie - 2. stupeň základnej školy',\n       'bez ukončeného vzdelania – osoby vo veku 0-14 rokov',\n       'stredné odborné (učňovské) vzdelanie bez maturity (bližšie neuvedené)',\n       'stredné odborné (učňovské) vzdelanie bez maturity a bez výučného listu (zaškolenie, zaučenie)',\n       'stredné odborné (učňovské) vzdelanie bez maturity s výučným listom',\n       'stredné odborné (učňovské) vzdelanie bez maturity s vysvedčením o záverečnej skúške',\n       'úplné stredné vzdelanie s maturitou (bližšie neuvedené)',\n       'úplné stredné vzdelanie s maturitou odborné (učňovské) s výučným listom',\n       'úplné stredné vzdelanie s maturitou odborné',\n       'úplné stredné vzdelanie s maturitou všeobecné',\n       'vyššie odborné vzdelanie (bližšie neuvedené)',\n       'vyššie odborné vzdelanie nadstavbové (maturita absolventov učebných odborov stredných odborných škôl)',\n       'vyššie odborné vzdelanie pomaturitné (pomaturitné kvalifikačné)',\n       'vyššie odborné vzdelanie vyššie odborné (absolventská skúška, absolventský diplom)',\n       'vysokoškolské vzdelanie (bližšie neuvedené)',\n       'vysokoškolské vzdelanie - 1. stupeň (Bc.)',\n       'vysokoškolské vzdelanie - 2. stupeň (Ing.; Mgr.; MUDr.; a i.)',\n       'vysokoškolské vzdelanie - 3. stupeň (PhD.; a i.)',\n       'bez školského vzdelania – osoby vo veku 15 rokov a viac'],\n      dtype=object)"
     },
     "metadata": {},
     "output_type": "display_data"
    },
    {
     "data": {
      "text/plain": "'abs.'"
     },
     "metadata": {},
     "output_type": "display_data"
    },
    {
     "data": {
      "text/plain": "array([  6301,      1, 117157,     66, 320751, 108406,   2937,  44458,\n       199375,   5146,  33134, 378916,  48758,    740, 166883, 293720,\n        88616,     20,  85523,   9428,   9392,    152,  52235, 291628,\n        21511,   7452,  13562,    665,   5510,  34319,     53,   8771,\n       125196,  10213,    784,  23018,  52991,   9726,  11729,   2886,\n         3800,     87,   1979,  59149,   7713,    518,   5856, 114574,\n          256, 302448,  74711,   2786,  41257, 206605,   1632,  26887,\n       234753,  35809,    700,  93412, 329585, 127207,     22,  74670,\n        21727,  18220,    126,  85139, 400487,  22648,   5866,  17168,\n         1608,  16287, 136747,      2,  21518,  99050,  17515,    915,\n        18283,  97560,  39832,  16166,   8780,   5337,     79,   2327,\n        51512,   4674,   1151], dtype=int64)"
     },
     "metadata": {},
     "output_type": "display_data"
    },
    {
     "data": {
      "text/plain": "'RV_O_040_L_OK_SK.CSV'"
     },
     "metadata": {},
     "output_type": "display_data"
    },
    {
     "data": {
      "text/plain": "  Kód okresu        Názov okresu Pohlavie Vek  \\\n0     SK0101  Okres Bratislava I      muž   0   \n1     SK0101  Okres Bratislava I      muž   1   \n2     SK0101  Okres Bratislava I      muž   2   \n3     SK0101  Okres Bratislava I      muž   3   \n4     SK0101  Okres Bratislava I      muž   4   \n\n                                           Vzdelanie  \\\n0  bez ukončeného vzdelania – osoby vo veku 0-14 ...   \n1  bez ukončeného vzdelania – osoby vo veku 0-14 ...   \n2  bez ukončeného vzdelania – osoby vo veku 0-14 ...   \n3  bez ukončeného vzdelania – osoby vo veku 0-14 ...   \n4  bez ukončeného vzdelania – osoby vo veku 0-14 ...   \n\n                    Súčasná ekonomická aktivita  abs.  \n0  dieťa do začatia povinnej školskej dochádzky   229  \n1  dieťa do začatia povinnej školskej dochádzky   263  \n2  dieťa do začatia povinnej školskej dochádzky   281  \n3  dieťa do začatia povinnej školskej dochádzky   270  \n4  dieťa do začatia povinnej školskej dochádzky   246  ",
      "text/html": "<div>\n<style scoped>\n    .dataframe tbody tr th:only-of-type {\n        vertical-align: middle;\n    }\n\n    .dataframe tbody tr th {\n        vertical-align: top;\n    }\n\n    .dataframe thead th {\n        text-align: right;\n    }\n</style>\n<table border=\"1\" class=\"dataframe\">\n  <thead>\n    <tr style=\"text-align: right;\">\n      <th></th>\n      <th>Kód okresu</th>\n      <th>Názov okresu</th>\n      <th>Pohlavie</th>\n      <th>Vek</th>\n      <th>Vzdelanie</th>\n      <th>Súčasná ekonomická aktivita</th>\n      <th>abs.</th>\n    </tr>\n  </thead>\n  <tbody>\n    <tr>\n      <th>0</th>\n      <td>SK0101</td>\n      <td>Okres Bratislava I</td>\n      <td>muž</td>\n      <td>0</td>\n      <td>bez ukončeného vzdelania – osoby vo veku 0-14 ...</td>\n      <td>dieťa do začatia povinnej školskej dochádzky</td>\n      <td>229</td>\n    </tr>\n    <tr>\n      <th>1</th>\n      <td>SK0101</td>\n      <td>Okres Bratislava I</td>\n      <td>muž</td>\n      <td>1</td>\n      <td>bez ukončeného vzdelania – osoby vo veku 0-14 ...</td>\n      <td>dieťa do začatia povinnej školskej dochádzky</td>\n      <td>263</td>\n    </tr>\n    <tr>\n      <th>2</th>\n      <td>SK0101</td>\n      <td>Okres Bratislava I</td>\n      <td>muž</td>\n      <td>2</td>\n      <td>bez ukončeného vzdelania – osoby vo veku 0-14 ...</td>\n      <td>dieťa do začatia povinnej školskej dochádzky</td>\n      <td>281</td>\n    </tr>\n    <tr>\n      <th>3</th>\n      <td>SK0101</td>\n      <td>Okres Bratislava I</td>\n      <td>muž</td>\n      <td>3</td>\n      <td>bez ukončeného vzdelania – osoby vo veku 0-14 ...</td>\n      <td>dieťa do začatia povinnej školskej dochádzky</td>\n      <td>270</td>\n    </tr>\n    <tr>\n      <th>4</th>\n      <td>SK0101</td>\n      <td>Okres Bratislava I</td>\n      <td>muž</td>\n      <td>4</td>\n      <td>bez ukončeného vzdelania – osoby vo veku 0-14 ...</td>\n      <td>dieťa do začatia povinnej školskej dochádzky</td>\n      <td>246</td>\n    </tr>\n  </tbody>\n</table>\n</div>"
     },
     "metadata": {},
     "output_type": "display_data"
    },
    {
     "data": {
      "text/plain": "'Kód okresu'"
     },
     "metadata": {},
     "output_type": "display_data"
    },
    {
     "data": {
      "text/plain": "array(['SK0101', 'SK0102', 'SK0103', 'SK0104', 'SK0105', 'SK0106',\n       'SK0107', 'SK0108', 'SK0211', 'SK0212', 'SK0213', 'SK0214',\n       'SK0215', 'SK0216', 'SK0217', 'SK0221', 'SK0222', 'SK0223',\n       'SK0224', 'SK0225', 'SK0226', 'SK0227', 'SK0228', 'SK0229',\n       'SK0231', 'SK0232', 'SK0233', 'SK0234', 'SK0235', 'SK0236',\n       'SK0237', 'SK0311', 'SK0312', 'SK0313', 'SK0314', 'SK0315',\n       'SK0316', 'SK0317', 'SK0318', 'SK0319', 'SK031A', 'SK031B',\n       'SK0321', 'SK0322', 'SK0323', 'SK0324', 'SK0325', 'SK0326',\n       'SK0327', 'SK0328', 'SK0329', 'SK032A', 'SK032B', 'SK032C',\n       'SK032D', 'SK0411', 'SK0412', 'SK0413', 'SK0414', 'SK0415',\n       'SK0416', 'SK0417', 'SK0418', 'SK0419', 'SK041A', 'SK041B',\n       'SK041C', 'SK041D', 'SK0421', 'SK0422', 'SK0423', 'SK0424',\n       'SK0425', 'SK0426', 'SK0427', 'SK0428', 'SK0429', 'SK042A',\n       'SK042B'], dtype=object)"
     },
     "metadata": {},
     "output_type": "display_data"
    },
    {
     "data": {
      "text/plain": "'Názov okresu'"
     },
     "metadata": {},
     "output_type": "display_data"
    },
    {
     "data": {
      "text/plain": "array(['Okres Bratislava I', 'Okres Bratislava II',\n       'Okres Bratislava III', 'Okres Bratislava IV',\n       'Okres Bratislava V', 'Okres Malacky', 'Okres Pezinok',\n       'Okres Senec', 'Okres Dunajská Streda', 'Okres Galanta',\n       'Okres Hlohovec', 'Okres Piešťany', 'Okres Senica',\n       'Okres Skalica', 'Okres Trnava', 'Okres Bánovce nad Bebravou',\n       'Okres Ilava', 'Okres Myjava', 'Okres Nové Mesto nad Váhom',\n       'Okres Partizánske', 'Okres Považská Bystrica', 'Okres Prievidza',\n       'Okres Púchov', 'Okres Trenčín', 'Okres Komárno', 'Okres Levice',\n       'Okres Nitra', 'Okres Nové Zámky', 'Okres Šaľa', 'Okres Topoľčany',\n       'Okres Zlaté Moravce', 'Okres Bytča', 'Okres Čadca',\n       'Okres Dolný Kubín', 'Okres Kysucké Nové Mesto',\n       'Okres Liptovský Mikuláš', 'Okres Martin', 'Okres Námestovo',\n       'Okres Ružomberok', 'Okres Turčianske Teplice', 'Okres Tvrdošín',\n       'Okres Žilina', 'Okres Banská Bystrica', 'Okres Banská Štiavnica',\n       'Okres Brezno', 'Okres Detva', 'Okres Krupina', 'Okres Lučenec',\n       'Okres Poltár', 'Okres Revúca', 'Okres Rimavská Sobota',\n       'Okres Veľký Krtíš', 'Okres Zvolen', 'Okres Žarnovica',\n       'Okres Žiar nad Hronom', 'Okres Bardejov', 'Okres Humenné',\n       'Okres Kežmarok', 'Okres Levoča', 'Okres Medzilaborce',\n       'Okres Poprad', 'Okres Prešov', 'Okres Sabinov', 'Okres Snina',\n       'Okres Stará Ľubovňa', 'Okres Stropkov', 'Okres Svidník',\n       'Okres Vranov nad Topľou', 'Okres Gelnica', 'Okres Košice I',\n       'Okres Košice II', 'Okres Košice III', 'Okres Košice IV',\n       'Okres Košice - okolie', 'Okres Michalovce', 'Okres Rožňava',\n       'Okres Sobrance', 'Okres Spišská Nová Ves', 'Okres Trebišov'],\n      dtype=object)"
     },
     "metadata": {},
     "output_type": "display_data"
    },
    {
     "data": {
      "text/plain": "'Pohlavie'"
     },
     "metadata": {},
     "output_type": "display_data"
    },
    {
     "data": {
      "text/plain": "array(['muž', 'žena'], dtype=object)"
     },
     "metadata": {},
     "output_type": "display_data"
    },
    {
     "data": {
      "text/plain": "'Vek'"
     },
     "metadata": {},
     "output_type": "display_data"
    },
    {
     "data": {
      "text/plain": "array(['0', '1', '2', '3', '4', '5', '6', '7', '8', '9', '10', '11', '12',\n       '13', '14', '15', '16', '17', '18', '19', '20', '21', '22', '23',\n       '24', '25', '26', '27', '28', '29', '30', '31', '32', '33', '34',\n       '35', '36', '37', '38', '39', '40', '41', '42', '43', '44', '45',\n       '46', '47', '48', '49', '50', '51', '52', '53', '54', '55', '56',\n       '57', '58', '59', '60', '61', '62', '63', '64', '65', '66', '67',\n       '68', '69', '70', '71', '72', '73', '74', '75', '76', '77', '78',\n       '79', '80', '81', '82', '83', '84', '85', '86', '87', '88', '89',\n       '90 a viac rokov'], dtype=object)"
     },
     "metadata": {},
     "output_type": "display_data"
    },
    {
     "data": {
      "text/plain": "'Vzdelanie'"
     },
     "metadata": {},
     "output_type": "display_data"
    },
    {
     "data": {
      "text/plain": "array(['bez ukončeného vzdelania – osoby vo veku 0-14 rokov',\n       'základné vzdelanie - 1. stupeň základnej školy', 'nezistené',\n       'dôverné', 'základné vzdelanie - 2. stupeň základnej školy',\n       'vyššie odborné vzdelanie pomaturitné (pomaturitné kvalifikačné)',\n       'bez školského vzdelania – osoby vo veku 15 rokov a viac',\n       'základné vzdelanie (bližšie neuvedené)',\n       'stredné odborné (učňovské) vzdelanie bez maturity a bez výučného listu (zaškolenie, zaučenie)',\n       'úplné stredné vzdelanie s maturitou všeobecné',\n       'stredné odborné (učňovské) vzdelanie bez maturity s vysvedčením o záverečnej skúške',\n       'úplné stredné vzdelanie s maturitou odborné',\n       'vyššie odborné vzdelanie vyššie odborné (absolventská skúška, absolventský diplom)',\n       'stredné odborné (učňovské) vzdelanie bez maturity s výučným listom',\n       'úplné stredné vzdelanie s maturitou odborné (učňovské) s výučným listom',\n       'úplné stredné vzdelanie s maturitou (bližšie neuvedené)',\n       'stredné odborné (učňovské) vzdelanie bez maturity (bližšie neuvedené)',\n       'vyššie odborné vzdelanie nadstavbové (maturita absolventov učebných odborov stredných odborných škôl)',\n       'vysokoškolské vzdelanie - 1. stupeň (Bc.)',\n       'vysokoškolské vzdelanie - 2. stupeň (Ing.; Mgr.; MUDr.; a i.)',\n       'vysokoškolské vzdelanie - 3. stupeň (PhD.; a i.)',\n       'vyššie odborné vzdelanie (bližšie neuvedené)',\n       'vysokoškolské vzdelanie (bližšie neuvedené)'], dtype=object)"
     },
     "metadata": {},
     "output_type": "display_data"
    },
    {
     "data": {
      "text/plain": "'Súčasná ekonomická aktivita'"
     },
     "metadata": {},
     "output_type": "display_data"
    },
    {
     "data": {
      "text/plain": "array(['dieťa do začatia povinnej školskej dochádzky',\n       'žiak základnej školy', 'žiak strednej školy', 'nezistené',\n       'nezamestnaný', 'osoba v domácnosti',\n       'pracujúci (okrem dôchodcov)', 'dôchodca', 'dôverné',\n       'študent vysokej školy', 'pracujúci dôchodca',\n       'príjemca kapitálových príjmov', 'iná',\n       'osoba na materskej dovolenke', 'osoba na rodičovskej dovolenke'],\n      dtype=object)"
     },
     "metadata": {},
     "output_type": "display_data"
    },
    {
     "data": {
      "text/plain": "'abs.'"
     },
     "metadata": {},
     "output_type": "display_data"
    },
    {
     "data": {
      "text/plain": "array([ 229,  263,  281,  270,  246,  250,  114,  152,  239,   17,  257,\n          1,  222,    8,  110,  116,    9,  188,   18,  184,   13,  179,\n          2,  173,    3,    5,   41,    6,   98,   10,  119,   14,   94,\n          4,    7,   54,   12,   23,   38,   11,   19,   25,   28,   29,\n         16,   15,   22,   26,   24,   21,   32,   20,   66,   27,   96,\n         99,  127,   30,   34,  153,   37,  155,   31,  166,  183,  170,\n        168,   33,  202,   36,  208,  206,  195,  219,  223,  189,  178,\n        165,  140,  144,  125,  109,  112,  111,  101,   93,  126,   95,\n        123,   89,   84,   75,   90,   45,   57,   85,   83,   50,   65,\n         51,   78,   63,   71,   52,   55,   48,   49,   70,   35,   44,\n         62,  199,  265,  236,  267,  261,  231,  150,  220,  252,  226,\n        121,   73,  198,  177,  176,  151,  118,   82,   39,   64,  134,\n        132,  146,  133,  148,   42,  158,   46,  180,  172,  213,  215,\n        181,  167,  171,  131,  120,  105,  102,  106,   43,   61,   88,\n         92,   40,   79,   77,  103,   58,   53,   76,  714,  729,  810,\n        769,  739,  742,  273,  389,  623,  622,  637,  266,  324,  526,\n        538,  511,  458,  161,  312,  402,  381,  285,   72,   67,   68,\n         80,   81,   47,  108,   59,  289,  333,  355,  124,  385,  430,\n         69,  421,  138,   60,  414,   56,  117,  400,  415,  107,  419,\n         87,  154,  417,  113,  422,  136,  411,  408,  325,  358,  282,\n        122,  276,   86,  234,   97,  203,  193,  200,  104,  217,  115,\n        209,  182,  185,  186,  149,   74,  754,  693,  730,  725,  702,\n        645,  337,  299,  596,  584,  604,  315,  541,  508,  465,  470,\n        129,  310,  391,  294,  139,  318,  323,  377,   91,  335,  128,\n        371,  130,  424,  392,  404,  464,  100,  463,  471,  477,  483,\n        451,  164,  439,  329,  137,  363,  301,  268,  214,  135,  143,\n        235,  259,  194,  255,  187,  501,  493,  566,  486,  503,  485,\n        243,  410,  409,  403,  201,  345,  348,  313,  304,  175,  288,\n        287,  330,  290,  280,  291,  292,  242,  192,  141,  449,  500,\n        445,  454,  362,  338,  296,  274,  238,  191,  159,  247,  241,\n        271,  262,  278,  286,  284,  311,  225,  629,  654,  646,  590,\n        603,  340,  586,  473,  533,  460,  450,  343,  369,  162,  244,\n        327,  142,  342,  351,  432,  316,  277,  211,  230,  595,  567,\n        579,  580,  561,  297,  224,  496,  527,  295,  218,  420,  399,\n        305,  347,  346,  298,  309,  319,  384,  373,  341,  303,  269,\n        221,  745,  761,  728,  758,  706,  418,  601,  636,  396,  169,\n        145,  554,  207,  537,  540,  548,  505,  367,  210,  147,  160,\n        204,  174,  157,  643,  641,  741,  763,  697,  691,  334,  344,\n        583,  212,  502,  428,  434,  356,  227,  293,  339,  376,  455,\n        497,  444,  475,  258,  163,  253,  196,  197,  216,  156,  437,\n        499,  512,  447,  490,  468,  359,  405,  446,  524,  443,  205,\n        386,  435,  482,  436,  466,  382,  394,  190,  395,  425,  393,\n        383,  321,  663,  789,  849,  830,  368,  708,  752,  699,  364,\n        634,  631,  570,  491,  442,  307,  328,  232,  692,  684,  743,\n        822,  774,  737,  682,  722,  674,  260,  599,  546,  350,  272,\n        256,  630,  655,  661,  650,  632,  626,  624,  365,  559,  556,\n        233,  476,  361,  254,  264,  565,  605,  617,  665,  528,  589,\n        308,  545,  521,  228,  480,  481,  479,  472,  448,  398,  433,\n        453,  441,  429,  245,  275,  306,  326,  279,  283,  251,  248,\n        240,  766,  755,  767,  775,  732,  320,  613,  710,  379,  607,\n        609,  576,  314,  489,  680,  707,  719,  671,  677,  372,  649,\n        577,  452,  302,  237,  300,  249,  370,  555,  557,  573,  588,\n        578,  569,  520,  568,  592,  539,  515,  582,  574,  560,  562,\n        514,  507,  352,  543,  585,  563,  469,  416,  457,  357,  375,\n        431,  426,  462,  317,  492,  509,  506,  519,  467,  495,  461,\n        851,  829,  897,  902,  869,  896,  407,  427,  819,  827,  820,\n        412,  778,  673,  332,  787,  867,  866,  815,  354,  747,  802,\n        771,  726,  717,  688,  438,  587,  353,  553,  648,  640,  581,\n        612,  610,  600,  535,  531,  549,  593,  536,  551,  547,  378,\n        322,  459,  478,  440,  456,  387,  423,  406,  331,  336,  401,\n        494,  390,  397,  474,  487,  893,  941,  919,  934,  943,  944,\n        860,  954,  901,  825,  790,  773,  780,  618,  821,  865,  875,\n        882,  834,  504,  850,  826,  764,  709,  679,  639,  687,  366,\n        530,  523,  518,  388,  488,  516,  484,  413,  374,  611,  628,\n        597,  380,  510,  620,  558,  591,  564,  616,  517,  529, 1086,\n       1125, 1149, 1107, 1134, 1133,  961, 1102, 1019,  873,  883,  903,\n        881, 1001, 1092, 1023, 1159, 1014,  993,  837,  844,  846,  619,\n        498,  534,  550,  522,  877,  924,  951,  940,  880,  724,  915,\n        670,  859,  884,  839,  656,  667,  750,  594,  625,  542,  608,\n        544,  525,  349,  669,  746,  695,  683,  660,  701,  716,  651,\n        659,  672,  615,  666,  598], dtype=int64)"
     },
     "metadata": {},
     "output_type": "display_data"
    },
    {
     "data": {
      "text/plain": "'RV_O_040_R_KR_SK.CSV'"
     },
     "metadata": {},
     "output_type": "display_data"
    },
    {
     "data": {
      "text/plain": "  Kód štátu          Názov štátu Kód oblasti Kód kraja      Názov oblasti  \\\n0       SK0  Slovenská republika        SK01     SK010  Bratislavský kraj   \n1       SK0  Slovenská republika        SK01     SK010  Bratislavský kraj   \n2       SK0  Slovenská republika        SK01     SK010  Bratislavský kraj   \n3       SK0  Slovenská republika        SK01     SK010  Bratislavský kraj   \n4       SK0  Slovenská republika        SK01     SK010  Bratislavský kraj   \n\n         Názov kraja Pohlavie Vek  \\\n0  Bratislavský kraj      muž   0   \n1  Bratislavský kraj      muž   1   \n2  Bratislavský kraj      muž   2   \n3  Bratislavský kraj      muž   3   \n4  Bratislavský kraj      muž   4   \n\n                                           Vzdelanie  \\\n0  bez ukončeného vzdelania – osoby vo veku 0-14 ...   \n1  bez ukončeného vzdelania – osoby vo veku 0-14 ...   \n2  bez ukončeného vzdelania – osoby vo veku 0-14 ...   \n3  bez ukončeného vzdelania – osoby vo veku 0-14 ...   \n4  bez ukončeného vzdelania – osoby vo veku 0-14 ...   \n\n                    Súčasná ekonomická aktivita  abs.  \n0  dieťa do začatia povinnej školskej dochádzky  4261  \n1  dieťa do začatia povinnej školskej dochádzky  4464  \n2  dieťa do začatia povinnej školskej dochádzky  4834  \n3  dieťa do začatia povinnej školskej dochádzky  4736  \n4  dieťa do začatia povinnej školskej dochádzky  4650  ",
      "text/html": "<div>\n<style scoped>\n    .dataframe tbody tr th:only-of-type {\n        vertical-align: middle;\n    }\n\n    .dataframe tbody tr th {\n        vertical-align: top;\n    }\n\n    .dataframe thead th {\n        text-align: right;\n    }\n</style>\n<table border=\"1\" class=\"dataframe\">\n  <thead>\n    <tr style=\"text-align: right;\">\n      <th></th>\n      <th>Kód štátu</th>\n      <th>Názov štátu</th>\n      <th>Kód oblasti</th>\n      <th>Kód kraja</th>\n      <th>Názov oblasti</th>\n      <th>Názov kraja</th>\n      <th>Pohlavie</th>\n      <th>Vek</th>\n      <th>Vzdelanie</th>\n      <th>Súčasná ekonomická aktivita</th>\n      <th>abs.</th>\n    </tr>\n  </thead>\n  <tbody>\n    <tr>\n      <th>0</th>\n      <td>SK0</td>\n      <td>Slovenská republika</td>\n      <td>SK01</td>\n      <td>SK010</td>\n      <td>Bratislavský kraj</td>\n      <td>Bratislavský kraj</td>\n      <td>muž</td>\n      <td>0</td>\n      <td>bez ukončeného vzdelania – osoby vo veku 0-14 ...</td>\n      <td>dieťa do začatia povinnej školskej dochádzky</td>\n      <td>4261</td>\n    </tr>\n    <tr>\n      <th>1</th>\n      <td>SK0</td>\n      <td>Slovenská republika</td>\n      <td>SK01</td>\n      <td>SK010</td>\n      <td>Bratislavský kraj</td>\n      <td>Bratislavský kraj</td>\n      <td>muž</td>\n      <td>1</td>\n      <td>bez ukončeného vzdelania – osoby vo veku 0-14 ...</td>\n      <td>dieťa do začatia povinnej školskej dochádzky</td>\n      <td>4464</td>\n    </tr>\n    <tr>\n      <th>2</th>\n      <td>SK0</td>\n      <td>Slovenská republika</td>\n      <td>SK01</td>\n      <td>SK010</td>\n      <td>Bratislavský kraj</td>\n      <td>Bratislavský kraj</td>\n      <td>muž</td>\n      <td>2</td>\n      <td>bez ukončeného vzdelania – osoby vo veku 0-14 ...</td>\n      <td>dieťa do začatia povinnej školskej dochádzky</td>\n      <td>4834</td>\n    </tr>\n    <tr>\n      <th>3</th>\n      <td>SK0</td>\n      <td>Slovenská republika</td>\n      <td>SK01</td>\n      <td>SK010</td>\n      <td>Bratislavský kraj</td>\n      <td>Bratislavský kraj</td>\n      <td>muž</td>\n      <td>3</td>\n      <td>bez ukončeného vzdelania – osoby vo veku 0-14 ...</td>\n      <td>dieťa do začatia povinnej školskej dochádzky</td>\n      <td>4736</td>\n    </tr>\n    <tr>\n      <th>4</th>\n      <td>SK0</td>\n      <td>Slovenská republika</td>\n      <td>SK01</td>\n      <td>SK010</td>\n      <td>Bratislavský kraj</td>\n      <td>Bratislavský kraj</td>\n      <td>muž</td>\n      <td>4</td>\n      <td>bez ukončeného vzdelania – osoby vo veku 0-14 ...</td>\n      <td>dieťa do začatia povinnej školskej dochádzky</td>\n      <td>4650</td>\n    </tr>\n  </tbody>\n</table>\n</div>"
     },
     "metadata": {},
     "output_type": "display_data"
    },
    {
     "data": {
      "text/plain": "'Kód štátu'"
     },
     "metadata": {},
     "output_type": "display_data"
    },
    {
     "data": {
      "text/plain": "array(['SK0'], dtype=object)"
     },
     "metadata": {},
     "output_type": "display_data"
    },
    {
     "data": {
      "text/plain": "'Názov štátu'"
     },
     "metadata": {},
     "output_type": "display_data"
    },
    {
     "data": {
      "text/plain": "array(['Slovenská republika'], dtype=object)"
     },
     "metadata": {},
     "output_type": "display_data"
    },
    {
     "data": {
      "text/plain": "'Kód oblasti'"
     },
     "metadata": {},
     "output_type": "display_data"
    },
    {
     "data": {
      "text/plain": "array(['SK01', 'SK02', 'SK03', 'SK04'], dtype=object)"
     },
     "metadata": {},
     "output_type": "display_data"
    },
    {
     "data": {
      "text/plain": "'Kód kraja'"
     },
     "metadata": {},
     "output_type": "display_data"
    },
    {
     "data": {
      "text/plain": "array(['SK010', 'SK021', 'SK022', 'SK023', 'SK031', 'SK032', 'SK041',\n       'SK042'], dtype=object)"
     },
     "metadata": {},
     "output_type": "display_data"
    },
    {
     "data": {
      "text/plain": "'Názov oblasti'"
     },
     "metadata": {},
     "output_type": "display_data"
    },
    {
     "data": {
      "text/plain": "array(['Bratislavský kraj', 'Západné Slovensko', 'Stredné Slovensko',\n       'Východné Slovensko'], dtype=object)"
     },
     "metadata": {},
     "output_type": "display_data"
    },
    {
     "data": {
      "text/plain": "'Názov kraja'"
     },
     "metadata": {},
     "output_type": "display_data"
    },
    {
     "data": {
      "text/plain": "array(['Bratislavský kraj', 'Trnavský kraj', 'Trenčiansky kraj',\n       'Nitriansky kraj', 'Žilinský kraj', 'Banskobystrický kraj',\n       'Prešovský kraj', 'Košický kraj'], dtype=object)"
     },
     "metadata": {},
     "output_type": "display_data"
    },
    {
     "data": {
      "text/plain": "'Pohlavie'"
     },
     "metadata": {},
     "output_type": "display_data"
    },
    {
     "data": {
      "text/plain": "array(['muž', 'žena'], dtype=object)"
     },
     "metadata": {},
     "output_type": "display_data"
    },
    {
     "data": {
      "text/plain": "'Vek'"
     },
     "metadata": {},
     "output_type": "display_data"
    },
    {
     "data": {
      "text/plain": "array(['0', '1', '2', '3', '4', '5', '6', '7', '8', '9', '10', '11', '12',\n       '13', '14', '15', '16', '17', '18', '19', '20', '21', '22', '23',\n       '24', '25', '26', '27', '28', '29', '30', '31', '32', '33', '34',\n       '35', '36', '37', '38', '39', '40', '41', '42', '43', '44', '45',\n       '46', '47', '48', '49', '50', '51', '52', '53', '54', '55', '56',\n       '57', '58', '59', '60', '61', '62', '63', '64', '65', '66', '67',\n       '68', '69', '70', '71', '72', '73', '74', '75', '76', '77', '78',\n       '79', '80', '81', '82', '83', '84', '85', '86', '87', '88', '89',\n       '90 a viac rokov'], dtype=object)"
     },
     "metadata": {},
     "output_type": "display_data"
    },
    {
     "data": {
      "text/plain": "'Vzdelanie'"
     },
     "metadata": {},
     "output_type": "display_data"
    },
    {
     "data": {
      "text/plain": "array(['bez ukončeného vzdelania – osoby vo veku 0-14 rokov',\n       'základné vzdelanie - 1. stupeň základnej školy', 'nezistené',\n       'základné vzdelanie - 2. stupeň základnej školy',\n       'stredné odborné (učňovské) vzdelanie bez maturity a bez výučného listu (zaškolenie, zaučenie)',\n       'stredné odborné (učňovské) vzdelanie bez maturity s výučným listom',\n       'stredné odborné (učňovské) vzdelanie bez maturity s vysvedčením o záverečnej skúške',\n       'úplné stredné vzdelanie s maturitou odborné (učňovské) s výučným listom',\n       'úplné stredné vzdelanie s maturitou odborné',\n       'úplné stredné vzdelanie s maturitou všeobecné',\n       'vyššie odborné vzdelanie nadstavbové (maturita absolventov učebných odborov stredných odborných škôl)',\n       'vyššie odborné vzdelanie pomaturitné (pomaturitné kvalifikačné)',\n       'bez školského vzdelania – osoby vo veku 15 rokov a viac',\n       'základné vzdelanie (bližšie neuvedené)',\n       'úplné stredné vzdelanie s maturitou (bližšie neuvedené)',\n       'vyššie odborné vzdelanie vyššie odborné (absolventská skúška, absolventský diplom)',\n       'vysokoškolské vzdelanie - 1. stupeň (Bc.)',\n       'stredné odborné (učňovské) vzdelanie bez maturity (bližšie neuvedené)',\n       'vysokoškolské vzdelanie (bližšie neuvedené)',\n       'vysokoškolské vzdelanie - 2. stupeň (Ing.; Mgr.; MUDr.; a i.)',\n       'vysokoškolské vzdelanie - 3. stupeň (PhD.; a i.)',\n       'vyššie odborné vzdelanie (bližšie neuvedené)'], dtype=object)"
     },
     "metadata": {},
     "output_type": "display_data"
    },
    {
     "data": {
      "text/plain": "'Súčasná ekonomická aktivita'"
     },
     "metadata": {},
     "output_type": "display_data"
    },
    {
     "data": {
      "text/plain": "array(['dieťa do začatia povinnej školskej dochádzky',\n       'žiak základnej školy', 'nezistené', 'žiak strednej školy',\n       'pracujúci (okrem dôchodcov)', 'osoba v domácnosti',\n       'nezamestnaný', 'dôchodca', 'študent vysokej školy',\n       'pracujúci dôchodca', 'osoba na rodičovskej dovolenke',\n       'príjemca kapitálových príjmov', 'iná',\n       'osoba na materskej dovolenke'], dtype=object)"
     },
     "metadata": {},
     "output_type": "display_data"
    },
    {
     "data": {
      "text/plain": "'abs.'"
     },
     "metadata": {},
     "output_type": "display_data"
    },
    {
     "data": {
      "text/plain": "array([4261, 4464, 4834, ...,  566,  884,  957], dtype=int64)"
     },
     "metadata": {},
     "output_type": "display_data"
    },
    {
     "data": {
      "text/plain": "'RV_O_040_R_OL_SK.CSV'"
     },
     "metadata": {},
     "output_type": "display_data"
    },
    {
     "data": {
      "text/plain": "  Kód štátu Kód oblasti          Názov štátu      Názov oblasti Pohlavie Vek  \\\n0       SK0        SK01  Slovenská republika  Bratislavský kraj      muž   0   \n1       SK0        SK01  Slovenská republika  Bratislavský kraj      muž   1   \n2       SK0        SK01  Slovenská republika  Bratislavský kraj      muž   2   \n3       SK0        SK01  Slovenská republika  Bratislavský kraj      muž   3   \n4       SK0        SK01  Slovenská republika  Bratislavský kraj      muž   4   \n\n                                           Vzdelanie  \\\n0  bez ukončeného vzdelania – osoby vo veku 0-14 ...   \n1  bez ukončeného vzdelania – osoby vo veku 0-14 ...   \n2  bez ukončeného vzdelania – osoby vo veku 0-14 ...   \n3  bez ukončeného vzdelania – osoby vo veku 0-14 ...   \n4  bez ukončeného vzdelania – osoby vo veku 0-14 ...   \n\n                    Súčasná ekonomická aktivita  abs.  \n0  dieťa do začatia povinnej školskej dochádzky  4261  \n1  dieťa do začatia povinnej školskej dochádzky  4464  \n2  dieťa do začatia povinnej školskej dochádzky  4834  \n3  dieťa do začatia povinnej školskej dochádzky  4736  \n4  dieťa do začatia povinnej školskej dochádzky  4650  ",
      "text/html": "<div>\n<style scoped>\n    .dataframe tbody tr th:only-of-type {\n        vertical-align: middle;\n    }\n\n    .dataframe tbody tr th {\n        vertical-align: top;\n    }\n\n    .dataframe thead th {\n        text-align: right;\n    }\n</style>\n<table border=\"1\" class=\"dataframe\">\n  <thead>\n    <tr style=\"text-align: right;\">\n      <th></th>\n      <th>Kód štátu</th>\n      <th>Kód oblasti</th>\n      <th>Názov štátu</th>\n      <th>Názov oblasti</th>\n      <th>Pohlavie</th>\n      <th>Vek</th>\n      <th>Vzdelanie</th>\n      <th>Súčasná ekonomická aktivita</th>\n      <th>abs.</th>\n    </tr>\n  </thead>\n  <tbody>\n    <tr>\n      <th>0</th>\n      <td>SK0</td>\n      <td>SK01</td>\n      <td>Slovenská republika</td>\n      <td>Bratislavský kraj</td>\n      <td>muž</td>\n      <td>0</td>\n      <td>bez ukončeného vzdelania – osoby vo veku 0-14 ...</td>\n      <td>dieťa do začatia povinnej školskej dochádzky</td>\n      <td>4261</td>\n    </tr>\n    <tr>\n      <th>1</th>\n      <td>SK0</td>\n      <td>SK01</td>\n      <td>Slovenská republika</td>\n      <td>Bratislavský kraj</td>\n      <td>muž</td>\n      <td>1</td>\n      <td>bez ukončeného vzdelania – osoby vo veku 0-14 ...</td>\n      <td>dieťa do začatia povinnej školskej dochádzky</td>\n      <td>4464</td>\n    </tr>\n    <tr>\n      <th>2</th>\n      <td>SK0</td>\n      <td>SK01</td>\n      <td>Slovenská republika</td>\n      <td>Bratislavský kraj</td>\n      <td>muž</td>\n      <td>2</td>\n      <td>bez ukončeného vzdelania – osoby vo veku 0-14 ...</td>\n      <td>dieťa do začatia povinnej školskej dochádzky</td>\n      <td>4834</td>\n    </tr>\n    <tr>\n      <th>3</th>\n      <td>SK0</td>\n      <td>SK01</td>\n      <td>Slovenská republika</td>\n      <td>Bratislavský kraj</td>\n      <td>muž</td>\n      <td>3</td>\n      <td>bez ukončeného vzdelania – osoby vo veku 0-14 ...</td>\n      <td>dieťa do začatia povinnej školskej dochádzky</td>\n      <td>4736</td>\n    </tr>\n    <tr>\n      <th>4</th>\n      <td>SK0</td>\n      <td>SK01</td>\n      <td>Slovenská republika</td>\n      <td>Bratislavský kraj</td>\n      <td>muž</td>\n      <td>4</td>\n      <td>bez ukončeného vzdelania – osoby vo veku 0-14 ...</td>\n      <td>dieťa do začatia povinnej školskej dochádzky</td>\n      <td>4650</td>\n    </tr>\n  </tbody>\n</table>\n</div>"
     },
     "metadata": {},
     "output_type": "display_data"
    },
    {
     "data": {
      "text/plain": "'Kód štátu'"
     },
     "metadata": {},
     "output_type": "display_data"
    },
    {
     "data": {
      "text/plain": "array(['SK0'], dtype=object)"
     },
     "metadata": {},
     "output_type": "display_data"
    },
    {
     "data": {
      "text/plain": "'Kód oblasti'"
     },
     "metadata": {},
     "output_type": "display_data"
    },
    {
     "data": {
      "text/plain": "array(['SK01', 'SK02', 'SK03', 'SK04'], dtype=object)"
     },
     "metadata": {},
     "output_type": "display_data"
    },
    {
     "data": {
      "text/plain": "'Názov štátu'"
     },
     "metadata": {},
     "output_type": "display_data"
    },
    {
     "data": {
      "text/plain": "array(['Slovenská republika'], dtype=object)"
     },
     "metadata": {},
     "output_type": "display_data"
    },
    {
     "data": {
      "text/plain": "'Názov oblasti'"
     },
     "metadata": {},
     "output_type": "display_data"
    },
    {
     "data": {
      "text/plain": "array(['Bratislavský kraj', 'Západné Slovensko', 'Stredné Slovensko',\n       'Východné Slovensko'], dtype=object)"
     },
     "metadata": {},
     "output_type": "display_data"
    },
    {
     "data": {
      "text/plain": "'Pohlavie'"
     },
     "metadata": {},
     "output_type": "display_data"
    },
    {
     "data": {
      "text/plain": "array(['muž', 'žena'], dtype=object)"
     },
     "metadata": {},
     "output_type": "display_data"
    },
    {
     "data": {
      "text/plain": "'Vek'"
     },
     "metadata": {},
     "output_type": "display_data"
    },
    {
     "data": {
      "text/plain": "array(['0', '1', '2', '3', '4', '5', '6', '7', '8', '9', '10', '11', '12',\n       '13', '14', '15', '16', '17', '18', '19', '20', '21', '22', '23',\n       '24', '25', '26', '27', '28', '29', '30', '31', '32', '33', '34',\n       '35', '36', '37', '38', '39', '40', '41', '42', '43', '44', '45',\n       '46', '47', '48', '49', '50', '51', '52', '53', '54', '55', '56',\n       '57', '58', '59', '60', '61', '62', '63', '64', '65', '66', '67',\n       '68', '69', '70', '71', '72', '73', '74', '75', '76', '77', '78',\n       '79', '80', '81', '82', '83', '84', '85', '86', '87', '88', '89',\n       '90 a viac rokov'], dtype=object)"
     },
     "metadata": {},
     "output_type": "display_data"
    },
    {
     "data": {
      "text/plain": "'Vzdelanie'"
     },
     "metadata": {},
     "output_type": "display_data"
    },
    {
     "data": {
      "text/plain": "array(['bez ukončeného vzdelania – osoby vo veku 0-14 rokov',\n       'základné vzdelanie - 1. stupeň základnej školy', 'nezistené',\n       'základné vzdelanie - 2. stupeň základnej školy',\n       'stredné odborné (učňovské) vzdelanie bez maturity a bez výučného listu (zaškolenie, zaučenie)',\n       'stredné odborné (učňovské) vzdelanie bez maturity s výučným listom',\n       'stredné odborné (učňovské) vzdelanie bez maturity s vysvedčením o záverečnej skúške',\n       'úplné stredné vzdelanie s maturitou odborné (učňovské) s výučným listom',\n       'úplné stredné vzdelanie s maturitou odborné',\n       'úplné stredné vzdelanie s maturitou všeobecné',\n       'vyššie odborné vzdelanie nadstavbové (maturita absolventov učebných odborov stredných odborných škôl)',\n       'vyššie odborné vzdelanie pomaturitné (pomaturitné kvalifikačné)',\n       'bez školského vzdelania – osoby vo veku 15 rokov a viac',\n       'základné vzdelanie (bližšie neuvedené)',\n       'úplné stredné vzdelanie s maturitou (bližšie neuvedené)',\n       'vyššie odborné vzdelanie vyššie odborné (absolventská skúška, absolventský diplom)',\n       'vysokoškolské vzdelanie - 1. stupeň (Bc.)',\n       'stredné odborné (učňovské) vzdelanie bez maturity (bližšie neuvedené)',\n       'vysokoškolské vzdelanie (bližšie neuvedené)',\n       'vysokoškolské vzdelanie - 2. stupeň (Ing.; Mgr.; MUDr.; a i.)',\n       'vysokoškolské vzdelanie - 3. stupeň (PhD.; a i.)',\n       'vyššie odborné vzdelanie (bližšie neuvedené)'], dtype=object)"
     },
     "metadata": {},
     "output_type": "display_data"
    },
    {
     "data": {
      "text/plain": "'Súčasná ekonomická aktivita'"
     },
     "metadata": {},
     "output_type": "display_data"
    },
    {
     "data": {
      "text/plain": "array(['dieťa do začatia povinnej školskej dochádzky',\n       'žiak základnej školy', 'nezistené', 'žiak strednej školy',\n       'pracujúci (okrem dôchodcov)', 'osoba v domácnosti',\n       'nezamestnaný', 'dôchodca', 'študent vysokej školy',\n       'pracujúci dôchodca', 'osoba na rodičovskej dovolenke',\n       'príjemca kapitálových príjmov', 'iná',\n       'osoba na materskej dovolenke'], dtype=object)"
     },
     "metadata": {},
     "output_type": "display_data"
    },
    {
     "data": {
      "text/plain": "'abs.'"
     },
     "metadata": {},
     "output_type": "display_data"
    },
    {
     "data": {
      "text/plain": "array([4261, 4464, 4834, ...,  928,  590, 2165], dtype=int64)"
     },
     "metadata": {},
     "output_type": "display_data"
    },
    {
     "data": {
      "text/plain": "'RV_O_040_R_SR_SK.CSV'"
     },
     "metadata": {},
     "output_type": "display_data"
    },
    {
     "data": {
      "text/plain": "  Kód štátu          Názov štátu Pohlavie Vek  \\\n0       SK0  Slovenská republika      muž   0   \n1       SK0  Slovenská republika      muž   1   \n2       SK0  Slovenská republika      muž   2   \n3       SK0  Slovenská republika      muž   3   \n4       SK0  Slovenská republika      muž   4   \n\n                                           Vzdelanie  \\\n0  bez ukončeného vzdelania – osoby vo veku 0-14 ...   \n1  bez ukončeného vzdelania – osoby vo veku 0-14 ...   \n2  bez ukončeného vzdelania – osoby vo veku 0-14 ...   \n3  bez ukončeného vzdelania – osoby vo veku 0-14 ...   \n4  bez ukončeného vzdelania – osoby vo veku 0-14 ...   \n\n                    Súčasná ekonomická aktivita   abs.  \n0  dieťa do začatia povinnej školskej dochádzky  29036  \n1  dieťa do začatia povinnej školskej dochádzky  30033  \n2  dieťa do začatia povinnej školskej dochádzky  30808  \n3  dieťa do začatia povinnej školskej dochádzky  31100  \n4  dieťa do začatia povinnej školskej dochádzky  30873  ",
      "text/html": "<div>\n<style scoped>\n    .dataframe tbody tr th:only-of-type {\n        vertical-align: middle;\n    }\n\n    .dataframe tbody tr th {\n        vertical-align: top;\n    }\n\n    .dataframe thead th {\n        text-align: right;\n    }\n</style>\n<table border=\"1\" class=\"dataframe\">\n  <thead>\n    <tr style=\"text-align: right;\">\n      <th></th>\n      <th>Kód štátu</th>\n      <th>Názov štátu</th>\n      <th>Pohlavie</th>\n      <th>Vek</th>\n      <th>Vzdelanie</th>\n      <th>Súčasná ekonomická aktivita</th>\n      <th>abs.</th>\n    </tr>\n  </thead>\n  <tbody>\n    <tr>\n      <th>0</th>\n      <td>SK0</td>\n      <td>Slovenská republika</td>\n      <td>muž</td>\n      <td>0</td>\n      <td>bez ukončeného vzdelania – osoby vo veku 0-14 ...</td>\n      <td>dieťa do začatia povinnej školskej dochádzky</td>\n      <td>29036</td>\n    </tr>\n    <tr>\n      <th>1</th>\n      <td>SK0</td>\n      <td>Slovenská republika</td>\n      <td>muž</td>\n      <td>1</td>\n      <td>bez ukončeného vzdelania – osoby vo veku 0-14 ...</td>\n      <td>dieťa do začatia povinnej školskej dochádzky</td>\n      <td>30033</td>\n    </tr>\n    <tr>\n      <th>2</th>\n      <td>SK0</td>\n      <td>Slovenská republika</td>\n      <td>muž</td>\n      <td>2</td>\n      <td>bez ukončeného vzdelania – osoby vo veku 0-14 ...</td>\n      <td>dieťa do začatia povinnej školskej dochádzky</td>\n      <td>30808</td>\n    </tr>\n    <tr>\n      <th>3</th>\n      <td>SK0</td>\n      <td>Slovenská republika</td>\n      <td>muž</td>\n      <td>3</td>\n      <td>bez ukončeného vzdelania – osoby vo veku 0-14 ...</td>\n      <td>dieťa do začatia povinnej školskej dochádzky</td>\n      <td>31100</td>\n    </tr>\n    <tr>\n      <th>4</th>\n      <td>SK0</td>\n      <td>Slovenská republika</td>\n      <td>muž</td>\n      <td>4</td>\n      <td>bez ukončeného vzdelania – osoby vo veku 0-14 ...</td>\n      <td>dieťa do začatia povinnej školskej dochádzky</td>\n      <td>30873</td>\n    </tr>\n  </tbody>\n</table>\n</div>"
     },
     "metadata": {},
     "output_type": "display_data"
    },
    {
     "data": {
      "text/plain": "'Kód štátu'"
     },
     "metadata": {},
     "output_type": "display_data"
    },
    {
     "data": {
      "text/plain": "array(['SK0'], dtype=object)"
     },
     "metadata": {},
     "output_type": "display_data"
    },
    {
     "data": {
      "text/plain": "'Názov štátu'"
     },
     "metadata": {},
     "output_type": "display_data"
    },
    {
     "data": {
      "text/plain": "array(['Slovenská republika'], dtype=object)"
     },
     "metadata": {},
     "output_type": "display_data"
    },
    {
     "data": {
      "text/plain": "'Pohlavie'"
     },
     "metadata": {},
     "output_type": "display_data"
    },
    {
     "data": {
      "text/plain": "array(['muž', 'žena'], dtype=object)"
     },
     "metadata": {},
     "output_type": "display_data"
    },
    {
     "data": {
      "text/plain": "'Vek'"
     },
     "metadata": {},
     "output_type": "display_data"
    },
    {
     "data": {
      "text/plain": "array(['0', '1', '2', '3', '4', '5', '6', '7', '8', '9', '10', '11', '12',\n       '13', '14', '15', '16', '17', '18', '19', '20', '21', '22', '23',\n       '24', '25', '26', '27', '28', '29', '30', '31', '32', '33', '34',\n       '35', '36', '37', '38', '39', '40', '41', '42', '43', '44', '45',\n       '46', '47', '48', '49', '50', '51', '52', '53', '54', '55', '56',\n       '57', '58', '59', '60', '61', '62', '63', '64', '65', '66', '67',\n       '68', '69', '70', '71', '72', '73', '74', '75', '76', '77', '78',\n       '79', '80', '81', '82', '83', '84', '85', '86', '87', '88', '89',\n       '90 a viac rokov'], dtype=object)"
     },
     "metadata": {},
     "output_type": "display_data"
    },
    {
     "data": {
      "text/plain": "'Vzdelanie'"
     },
     "metadata": {},
     "output_type": "display_data"
    },
    {
     "data": {
      "text/plain": "array(['bez ukončeného vzdelania – osoby vo veku 0-14 rokov',\n       'základné vzdelanie - 1. stupeň základnej školy', 'nezistené',\n       'základné vzdelanie - 2. stupeň základnej školy',\n       'základné vzdelanie (bližšie neuvedené)',\n       'stredné odborné (učňovské) vzdelanie bez maturity a bez výučného listu (zaškolenie, zaučenie)',\n       'stredné odborné (učňovské) vzdelanie bez maturity s výučným listom',\n       'stredné odborné (učňovské) vzdelanie bez maturity s vysvedčením o záverečnej skúške',\n       'úplné stredné vzdelanie s maturitou odborné (učňovské) s výučným listom',\n       'úplné stredné vzdelanie s maturitou odborné',\n       'úplné stredné vzdelanie s maturitou všeobecné',\n       'vyššie odborné vzdelanie nadstavbové (maturita absolventov učebných odborov stredných odborných škôl)',\n       'vyššie odborné vzdelanie pomaturitné (pomaturitné kvalifikačné)',\n       'bez školského vzdelania – osoby vo veku 15 rokov a viac',\n       'stredné odborné (učňovské) vzdelanie bez maturity (bližšie neuvedené)',\n       'úplné stredné vzdelanie s maturitou (bližšie neuvedené)',\n       'vyššie odborné vzdelanie vyššie odborné (absolventská skúška, absolventský diplom)',\n       'vysokoškolské vzdelanie - 1. stupeň (Bc.)',\n       'vysokoškolské vzdelanie (bližšie neuvedené)',\n       'vysokoškolské vzdelanie - 2. stupeň (Ing.; Mgr.; MUDr.; a i.)',\n       'vysokoškolské vzdelanie - 3. stupeň (PhD.; a i.)',\n       'vyššie odborné vzdelanie (bližšie neuvedené)'], dtype=object)"
     },
     "metadata": {},
     "output_type": "display_data"
    },
    {
     "data": {
      "text/plain": "'Súčasná ekonomická aktivita'"
     },
     "metadata": {},
     "output_type": "display_data"
    },
    {
     "data": {
      "text/plain": "array(['dieťa do začatia povinnej školskej dochádzky',\n       'žiak základnej školy', 'nezistené', 'žiak strednej školy',\n       'pracujúci (okrem dôchodcov)', 'osoba v domácnosti',\n       'nezamestnaný', 'iná', 'študent vysokej školy', 'dôchodca',\n       'osoba na rodičovskej dovolenke', 'pracujúci dôchodca',\n       'príjemca kapitálových príjmov', 'osoba na materskej dovolenke'],\n      dtype=object)"
     },
     "metadata": {},
     "output_type": "display_data"
    },
    {
     "data": {
      "text/plain": "'abs.'"
     },
     "metadata": {},
     "output_type": "display_data"
    },
    {
     "data": {
      "text/plain": "array([29036, 30033, 30808, ...,  7906,  1464,   704], dtype=int64)"
     },
     "metadata": {},
     "output_type": "display_data"
    },
    {
     "data": {
      "text/plain": "'RV_O_047_L_OK_SK.CSV'"
     },
     "metadata": {},
     "output_type": "display_data"
    },
    {
     "data": {
      "text/plain": "  Kód okresu        Názov okresu Pohlavie 5-ročné vekové skupiny  \\\n0     SK0101  Okres Bratislava I      muž          15 - 19 rokov   \n1     SK0101  Okres Bratislava I      muž          15 - 19 rokov   \n2     SK0101  Okres Bratislava I      muž          15 - 19 rokov   \n3     SK0101  Okres Bratislava I      muž          15 - 19 rokov   \n4     SK0101  Okres Bratislava I      muž          15 - 19 rokov   \n\n                                        Vzdelanie  \\\n0                                       nezistené   \n1          základné vzdelanie (bližšie neuvedené)   \n2  základné vzdelanie - 1. stupeň základnej školy   \n3  základné vzdelanie - 2. stupeň základnej školy   \n4  základné vzdelanie - 2. stupeň základnej školy   \n\n                         Zamestnanie (ISCO - triedy)  abs.  \n0                                          nezistené     1  \n1                                          nezistené     1  \n2                     Pracovníci v osobných službách     1  \n3  Odborní pracovníci v oblasti práva, sociálnych...     1  \n4  Administratívni pracovníci v zákazníckych služ...     1  ",
      "text/html": "<div>\n<style scoped>\n    .dataframe tbody tr th:only-of-type {\n        vertical-align: middle;\n    }\n\n    .dataframe tbody tr th {\n        vertical-align: top;\n    }\n\n    .dataframe thead th {\n        text-align: right;\n    }\n</style>\n<table border=\"1\" class=\"dataframe\">\n  <thead>\n    <tr style=\"text-align: right;\">\n      <th></th>\n      <th>Kód okresu</th>\n      <th>Názov okresu</th>\n      <th>Pohlavie</th>\n      <th>5-ročné vekové skupiny</th>\n      <th>Vzdelanie</th>\n      <th>Zamestnanie (ISCO - triedy)</th>\n      <th>abs.</th>\n    </tr>\n  </thead>\n  <tbody>\n    <tr>\n      <th>0</th>\n      <td>SK0101</td>\n      <td>Okres Bratislava I</td>\n      <td>muž</td>\n      <td>15 - 19 rokov</td>\n      <td>nezistené</td>\n      <td>nezistené</td>\n      <td>1</td>\n    </tr>\n    <tr>\n      <th>1</th>\n      <td>SK0101</td>\n      <td>Okres Bratislava I</td>\n      <td>muž</td>\n      <td>15 - 19 rokov</td>\n      <td>základné vzdelanie (bližšie neuvedené)</td>\n      <td>nezistené</td>\n      <td>1</td>\n    </tr>\n    <tr>\n      <th>2</th>\n      <td>SK0101</td>\n      <td>Okres Bratislava I</td>\n      <td>muž</td>\n      <td>15 - 19 rokov</td>\n      <td>základné vzdelanie - 1. stupeň základnej školy</td>\n      <td>Pracovníci v osobných službách</td>\n      <td>1</td>\n    </tr>\n    <tr>\n      <th>3</th>\n      <td>SK0101</td>\n      <td>Okres Bratislava I</td>\n      <td>muž</td>\n      <td>15 - 19 rokov</td>\n      <td>základné vzdelanie - 2. stupeň základnej školy</td>\n      <td>Odborní pracovníci v oblasti práva, sociálnych...</td>\n      <td>1</td>\n    </tr>\n    <tr>\n      <th>4</th>\n      <td>SK0101</td>\n      <td>Okres Bratislava I</td>\n      <td>muž</td>\n      <td>15 - 19 rokov</td>\n      <td>základné vzdelanie - 2. stupeň základnej školy</td>\n      <td>Administratívni pracovníci v zákazníckych služ...</td>\n      <td>1</td>\n    </tr>\n  </tbody>\n</table>\n</div>"
     },
     "metadata": {},
     "output_type": "display_data"
    },
    {
     "data": {
      "text/plain": "'Kód okresu'"
     },
     "metadata": {},
     "output_type": "display_data"
    },
    {
     "data": {
      "text/plain": "array(['SK0101', 'SK0102', 'SK0103', 'SK0104', 'SK0105', 'SK0106',\n       'SK0107', 'SK0108', 'SK0211', 'SK0212', 'SK0213', 'SK0214',\n       'SK0215', 'SK0216', 'SK0217', 'SK0221', 'SK0222', 'SK0223',\n       'SK0224', 'SK0225', 'SK0226', 'SK0227', 'SK0228', 'SK0229',\n       'SK0231', 'SK0232', 'SK0233', 'SK0234', 'SK0235', 'SK0236',\n       'SK0237', 'SK0311', 'SK0312', 'SK0313', 'SK0314', 'SK0315',\n       'SK0316', 'SK0317', 'SK0318', 'SK0319', 'SK031A', 'SK031B',\n       'SK0321', 'SK0322', 'SK0323', 'SK0324', 'SK0325', 'SK0326',\n       'SK0327', 'SK0328', 'SK0329', 'SK032A', 'SK032B', 'SK032C',\n       'SK032D', 'SK0411', 'SK0412', 'SK0413', 'SK0414', 'SK0415',\n       'SK0416', 'SK0417', 'SK0418', 'SK0419', 'SK041A', 'SK041B',\n       'SK041C', 'SK041D', 'SK0421', 'SK0422', 'SK0423', 'SK0424',\n       'SK0425', 'SK0426', 'SK0427', 'SK0428', 'SK0429', 'SK042A',\n       'SK042B'], dtype=object)"
     },
     "metadata": {},
     "output_type": "display_data"
    },
    {
     "data": {
      "text/plain": "'Názov okresu'"
     },
     "metadata": {},
     "output_type": "display_data"
    },
    {
     "data": {
      "text/plain": "array(['Okres Bratislava I', 'Okres Bratislava II',\n       'Okres Bratislava III', 'Okres Bratislava IV',\n       'Okres Bratislava V', 'Okres Malacky', 'Okres Pezinok',\n       'Okres Senec', 'Okres Dunajská Streda', 'Okres Galanta',\n       'Okres Hlohovec', 'Okres Piešťany', 'Okres Senica',\n       'Okres Skalica', 'Okres Trnava', 'Okres Bánovce nad Bebravou',\n       'Okres Ilava', 'Okres Myjava', 'Okres Nové Mesto nad Váhom',\n       'Okres Partizánske', 'Okres Považská Bystrica', 'Okres Prievidza',\n       'Okres Púchov', 'Okres Trenčín', 'Okres Komárno', 'Okres Levice',\n       'Okres Nitra', 'Okres Nové Zámky', 'Okres Šaľa', 'Okres Topoľčany',\n       'Okres Zlaté Moravce', 'Okres Bytča', 'Okres Čadca',\n       'Okres Dolný Kubín', 'Okres Kysucké Nové Mesto',\n       'Okres Liptovský Mikuláš', 'Okres Martin', 'Okres Námestovo',\n       'Okres Ružomberok', 'Okres Turčianske Teplice', 'Okres Tvrdošín',\n       'Okres Žilina', 'Okres Banská Bystrica', 'Okres Banská Štiavnica',\n       'Okres Brezno', 'Okres Detva', 'Okres Krupina', 'Okres Lučenec',\n       'Okres Poltár', 'Okres Revúca', 'Okres Rimavská Sobota',\n       'Okres Veľký Krtíš', 'Okres Zvolen', 'Okres Žarnovica',\n       'Okres Žiar nad Hronom', 'Okres Bardejov', 'Okres Humenné',\n       'Okres Kežmarok', 'Okres Levoča', 'Okres Medzilaborce',\n       'Okres Poprad', 'Okres Prešov', 'Okres Sabinov', 'Okres Snina',\n       'Okres Stará Ľubovňa', 'Okres Stropkov', 'Okres Svidník',\n       'Okres Vranov nad Topľou', 'Okres Gelnica', 'Okres Košice I',\n       'Okres Košice II', 'Okres Košice III', 'Okres Košice IV',\n       'Okres Košice - okolie', 'Okres Michalovce', 'Okres Rožňava',\n       'Okres Sobrance', 'Okres Spišská Nová Ves', 'Okres Trebišov'],\n      dtype=object)"
     },
     "metadata": {},
     "output_type": "display_data"
    },
    {
     "data": {
      "text/plain": "'Pohlavie'"
     },
     "metadata": {},
     "output_type": "display_data"
    },
    {
     "data": {
      "text/plain": "array(['muž', 'žena'], dtype=object)"
     },
     "metadata": {},
     "output_type": "display_data"
    },
    {
     "data": {
      "text/plain": "'5-ročné vekové skupiny'"
     },
     "metadata": {},
     "output_type": "display_data"
    },
    {
     "data": {
      "text/plain": "array(['15 - 19 rokov', '20 - 24 rokov', '25 - 29 rokov', '30 - 34 rokov',\n       '35 - 39 rokov', '40 - 44 rokov', '45 - 49 rokov', '50 - 54 rokov',\n       '55 - 59 rokov', '60 - 64 rokov', '65 - 69 rokov', '70 - 74 rokov',\n       '75 - 79 rokov', '80 - 84 rokov', '85 - 89 rokov',\n       '90 a viac rokov'], dtype=object)"
     },
     "metadata": {},
     "output_type": "display_data"
    },
    {
     "data": {
      "text/plain": "'Vzdelanie'"
     },
     "metadata": {},
     "output_type": "display_data"
    },
    {
     "data": {
      "text/plain": "array(['nezistené', 'základné vzdelanie (bližšie neuvedené)',\n       'základné vzdelanie - 1. stupeň základnej školy',\n       'základné vzdelanie - 2. stupeň základnej školy',\n       'stredné odborné (učňovské) vzdelanie bez maturity s výučným listom',\n       'úplné stredné vzdelanie s maturitou odborné',\n       'úplné stredné vzdelanie s maturitou všeobecné', 'dôverné',\n       'stredné odborné (učňovské) vzdelanie bez maturity (bližšie neuvedené)',\n       'stredné odborné (učňovské) vzdelanie bez maturity a bez výučného listu (zaškolenie, zaučenie)',\n       'úplné stredné vzdelanie s maturitou odborné (učňovské) s výučným listom',\n       'vyššie odborné vzdelanie nadstavbové (maturita absolventov učebných odborov stredných odborných škôl)',\n       'vyššie odborné vzdelanie vyššie odborné (absolventská skúška, absolventský diplom)',\n       'vysokoškolské vzdelanie - 1. stupeň (Bc.)',\n       'vysokoškolské vzdelanie - 2. stupeň (Ing.; Mgr.; MUDr.; a i.)',\n       'stredné odborné (učňovské) vzdelanie bez maturity s vysvedčením o záverečnej skúške',\n       'úplné stredné vzdelanie s maturitou (bližšie neuvedené)',\n       'vyššie odborné vzdelanie pomaturitné (pomaturitné kvalifikačné)',\n       'vysokoškolské vzdelanie - 3. stupeň (PhD.; a i.)',\n       'vysokoškolské vzdelanie (bližšie neuvedené)',\n       'bez školského vzdelania – osoby vo veku 15 rokov a viac',\n       'vyššie odborné vzdelanie (bližšie neuvedené)'], dtype=object)"
     },
     "metadata": {},
     "output_type": "display_data"
    },
    {
     "data": {
      "text/plain": "'Zamestnanie (ISCO - triedy)'"
     },
     "metadata": {},
     "output_type": "display_data"
    },
    {
     "data": {
      "text/plain": "array(['nezistené', 'Pracovníci v osobných službách',\n       'Odborní pracovníci v oblasti práva, sociálnych vecí a kultúry a podobní pracovníci',\n       'Administratívni pracovníci v zákazníckych službách', 'dôverné',\n       'Riadiaci pracovníci (manažéri) vo výrobe a v špecializovaných službách',\n       'Špecialisti v oblasti práva, sociálnych vecí a kultúry',\n       'Administratívni pracovníci na záznam číselných a skladových údajov',\n       'Predavači',\n       'Pracovníci pri likvidácii odpadu a ostatní nekvalifikovaní pracovníci',\n       'Riadiaci pracovníci (manažéri) v hotelových, reštauračných, obchodných a v ostatných službách',\n       'Špecialisti v oblasti vedy a techniky',\n       'Špecialisti v oblasti informačných a komunikačných technológií',\n       'Kvalifikovaní robotníci v hutníctve, strojárstve a podobní robotníci',\n       'Montážni robotníci',\n       'Vodiči a obsluha pojazdných strojných zariadení',\n       'Technici v oblasti informačných a komunikačných technológií',\n       'Elektrikári a elektronici',\n       'Riadiaci pracovníci (manažéri)  administratívnych, podporných a obchodných  činností',\n       'Špecialisti administratívnych, podporných a obchodných činností',\n       'Technici a odborní pracovníci v oblasti vedy a techniky',\n       'Odborní pracovníci v zdravotníctve',\n       'Odborní pracovníci administratívnych, podporných a obchodných činností',\n       'Pracovníci v oblasti osobnej starostlivosti',\n       'Spracovatelia a výrobcovia potravinárskych výrobkov, výrobkov z dreva a odevov',\n       'Operátori stacionárnych strojov a zariadení',\n       'Všeobecní administratívni pracovníci a zapisovatelia',\n       'Pracovníci verejnej ochrany a bezpečnostných služieb',\n       'Učitelia a odborní pedagogickí pracovníci',\n       'Ostatní pomocní administratívni pracovníci',\n       'Špecialisti v zdravotníctve',\n       'Pomocní pracovníci v ťažbe, stavebníctve, výrobe a doprave',\n       'Pomocní pracovníci pri príprave jedla',\n       'Kvalifikovaní pracovníci v poľnohospodárstve (trhovo orientovaní)',\n       'Zákonodarcovia, ústavní činitelia, vysokí štátni úradníci a najvyšší predstavitelia podnikov a organizácií',\n       'Umeleckí a ruční remeselníci a tlačiari',\n       'Ostatné ozbrojené sily', 'Dôstojníci ozbrojených síl',\n       'Upratovači a pomocníci',\n       'Kvalifikovaní stavební robotníci a remeselníci okrem elektrikárov',\n       'Pomocní pracovníci v poľnohospodárstve, lesníctve a rybárstve',\n       'Poddôstojníci ozbrojených síl',\n       'Pouliční predavači a pomocní pracovníci v podobných  službách',\n       'Kvalifikovaní pracovníci v lesníctve, rybárstve a poľovníctve (trhovo orientovaní)',\n       'Farmári, rybári, poľovníci a zberači úrody (samozásobovatelia)'],\n      dtype=object)"
     },
     "metadata": {},
     "output_type": "display_data"
    },
    {
     "data": {
      "text/plain": "'abs.'"
     },
     "metadata": {},
     "output_type": "display_data"
    },
    {
     "data": {
      "text/plain": "array([  1,   2,   9,  24,   3,   4,  21,   7,   5,  85,   6,  11,   8,\n        16,  13,  43,  19,  10,  69,  64,  38, 103,  14,  29,  20,  31,\n        42,  55,  26, 159, 110,  79,  41,  15,  87,  18,  44,  91,  54,\n       153, 104,  80,  12,  40,  25,  74,  59,  89,  61,  49,  17, 157,\n        76,  47,  30,  28,  67,  39,  83,  32,  36,  84,  48,  34,  68,\n        37,  63,  33,  62,  27,  81,  23,  22,  58,  51, 109,  57,  35,\n       224, 118,  94,  46, 209, 122, 100,  56,  66,  50, 218, 120,  72,\n        53, 119,  73,  60, 121, 171, 152,  82, 144,  97, 145, 354, 340,\n       106, 124, 193,  52,  90, 384, 382, 113, 114, 158, 125, 189, 132,\n       322, 290,  93, 116,  75, 175, 188,  98, 102,  86,  77,  71,  95,\n        65, 279, 111, 163,  70,  88, 147, 108, 623, 186, 280, 142, 143,\n       184, 666, 107, 203, 252, 176, 164, 615, 169, 266, 136, 177, 381,\n       219, 101,  45, 141, 202, 135, 131, 155, 137, 247, 206,  78, 265,\n       243, 105, 191, 180,  92, 130, 194, 112, 422, 150, 162,  96, 456,\n       403, 149, 200, 134, 156, 127, 278, 286, 293, 301,  99, 117, 255,\n       148, 208, 115, 444, 160, 447, 190, 204, 123, 316, 185, 181, 231,\n       173, 416, 232, 198, 475, 467, 212, 140, 339, 320, 273, 636, 305,\n       151, 166, 129, 183, 708, 165, 483, 211, 179, 139, 154, 221, 138,\n       225, 244, 128, 223, 174, 283, 199, 195, 398, 205, 216, 256, 230,\n       251, 167, 257, 126, 187, 236, 238, 207, 282, 259, 271, 253, 133,\n       161, 214, 242, 192, 213, 172, 178, 196, 234, 168, 233, 228, 201,\n       249, 222, 274, 237, 226, 270, 146, 383, 333, 261, 308, 318, 210,\n       317, 267, 281, 215, 170, 332, 387, 235, 197, 220, 229, 241, 246,\n       295, 435, 469, 385, 300, 217, 182, 272], dtype=int64)"
     },
     "metadata": {},
     "output_type": "display_data"
    },
    {
     "data": {
      "text/plain": "'RV_O_047_R_KR_SK.CSV'"
     },
     "metadata": {},
     "output_type": "display_data"
    },
    {
     "data": {
      "text/plain": "  Kód štátu          Názov štátu Kód oblasti Kód kraja      Názov oblasti  \\\n0       SK0  Slovenská republika        SK01     SK010  Bratislavský kraj   \n1       SK0  Slovenská republika        SK01     SK010  Bratislavský kraj   \n2       SK0  Slovenská republika        SK01     SK010  Bratislavský kraj   \n3       SK0  Slovenská republika        SK01     SK010  Bratislavský kraj   \n4       SK0  Slovenská republika        SK01     SK010  Bratislavský kraj   \n\n         Názov kraja Pohlavie 5-ročné vekové skupiny  \\\n0  Bratislavský kraj      muž          15 - 19 rokov   \n1  Bratislavský kraj      muž          15 - 19 rokov   \n2  Bratislavský kraj      muž          15 - 19 rokov   \n3  Bratislavský kraj      muž          15 - 19 rokov   \n4  Bratislavský kraj      muž          15 - 19 rokov   \n\n                                        Vzdelanie  \\\n0                                       nezistené   \n1                                       nezistené   \n2          základné vzdelanie (bližšie neuvedené)   \n3  základné vzdelanie - 1. stupeň základnej školy   \n4  základné vzdelanie - 1. stupeň základnej školy   \n\n                       Zamestnanie (ISCO - triedy)  abs.  \n0                                        nezistené    45  \n1  Vodiči a obsluha pojazdných strojných zariadení     1  \n2                                        nezistené     2  \n3                                        nezistené     4  \n4                   Pracovníci v osobných službách     2  ",
      "text/html": "<div>\n<style scoped>\n    .dataframe tbody tr th:only-of-type {\n        vertical-align: middle;\n    }\n\n    .dataframe tbody tr th {\n        vertical-align: top;\n    }\n\n    .dataframe thead th {\n        text-align: right;\n    }\n</style>\n<table border=\"1\" class=\"dataframe\">\n  <thead>\n    <tr style=\"text-align: right;\">\n      <th></th>\n      <th>Kód štátu</th>\n      <th>Názov štátu</th>\n      <th>Kód oblasti</th>\n      <th>Kód kraja</th>\n      <th>Názov oblasti</th>\n      <th>Názov kraja</th>\n      <th>Pohlavie</th>\n      <th>5-ročné vekové skupiny</th>\n      <th>Vzdelanie</th>\n      <th>Zamestnanie (ISCO - triedy)</th>\n      <th>abs.</th>\n    </tr>\n  </thead>\n  <tbody>\n    <tr>\n      <th>0</th>\n      <td>SK0</td>\n      <td>Slovenská republika</td>\n      <td>SK01</td>\n      <td>SK010</td>\n      <td>Bratislavský kraj</td>\n      <td>Bratislavský kraj</td>\n      <td>muž</td>\n      <td>15 - 19 rokov</td>\n      <td>nezistené</td>\n      <td>nezistené</td>\n      <td>45</td>\n    </tr>\n    <tr>\n      <th>1</th>\n      <td>SK0</td>\n      <td>Slovenská republika</td>\n      <td>SK01</td>\n      <td>SK010</td>\n      <td>Bratislavský kraj</td>\n      <td>Bratislavský kraj</td>\n      <td>muž</td>\n      <td>15 - 19 rokov</td>\n      <td>nezistené</td>\n      <td>Vodiči a obsluha pojazdných strojných zariadení</td>\n      <td>1</td>\n    </tr>\n    <tr>\n      <th>2</th>\n      <td>SK0</td>\n      <td>Slovenská republika</td>\n      <td>SK01</td>\n      <td>SK010</td>\n      <td>Bratislavský kraj</td>\n      <td>Bratislavský kraj</td>\n      <td>muž</td>\n      <td>15 - 19 rokov</td>\n      <td>základné vzdelanie (bližšie neuvedené)</td>\n      <td>nezistené</td>\n      <td>2</td>\n    </tr>\n    <tr>\n      <th>3</th>\n      <td>SK0</td>\n      <td>Slovenská republika</td>\n      <td>SK01</td>\n      <td>SK010</td>\n      <td>Bratislavský kraj</td>\n      <td>Bratislavský kraj</td>\n      <td>muž</td>\n      <td>15 - 19 rokov</td>\n      <td>základné vzdelanie - 1. stupeň základnej školy</td>\n      <td>nezistené</td>\n      <td>4</td>\n    </tr>\n    <tr>\n      <th>4</th>\n      <td>SK0</td>\n      <td>Slovenská republika</td>\n      <td>SK01</td>\n      <td>SK010</td>\n      <td>Bratislavský kraj</td>\n      <td>Bratislavský kraj</td>\n      <td>muž</td>\n      <td>15 - 19 rokov</td>\n      <td>základné vzdelanie - 1. stupeň základnej školy</td>\n      <td>Pracovníci v osobných službách</td>\n      <td>2</td>\n    </tr>\n  </tbody>\n</table>\n</div>"
     },
     "metadata": {},
     "output_type": "display_data"
    },
    {
     "data": {
      "text/plain": "'Kód štátu'"
     },
     "metadata": {},
     "output_type": "display_data"
    },
    {
     "data": {
      "text/plain": "array(['SK0'], dtype=object)"
     },
     "metadata": {},
     "output_type": "display_data"
    },
    {
     "data": {
      "text/plain": "'Názov štátu'"
     },
     "metadata": {},
     "output_type": "display_data"
    },
    {
     "data": {
      "text/plain": "array(['Slovenská republika'], dtype=object)"
     },
     "metadata": {},
     "output_type": "display_data"
    },
    {
     "data": {
      "text/plain": "'Kód oblasti'"
     },
     "metadata": {},
     "output_type": "display_data"
    },
    {
     "data": {
      "text/plain": "array(['SK01', 'SK02', 'SK03', 'SK04'], dtype=object)"
     },
     "metadata": {},
     "output_type": "display_data"
    },
    {
     "data": {
      "text/plain": "'Kód kraja'"
     },
     "metadata": {},
     "output_type": "display_data"
    },
    {
     "data": {
      "text/plain": "array(['SK010', 'SK021', 'SK022', 'SK023', 'SK031', 'SK032', 'SK041',\n       'SK042'], dtype=object)"
     },
     "metadata": {},
     "output_type": "display_data"
    },
    {
     "data": {
      "text/plain": "'Názov oblasti'"
     },
     "metadata": {},
     "output_type": "display_data"
    },
    {
     "data": {
      "text/plain": "array(['Bratislavský kraj', 'Západné Slovensko', 'Stredné Slovensko',\n       'Východné Slovensko'], dtype=object)"
     },
     "metadata": {},
     "output_type": "display_data"
    },
    {
     "data": {
      "text/plain": "'Názov kraja'"
     },
     "metadata": {},
     "output_type": "display_data"
    },
    {
     "data": {
      "text/plain": "array(['Bratislavský kraj', 'Trnavský kraj', 'Trenčiansky kraj',\n       'Nitriansky kraj', 'Žilinský kraj', 'Banskobystrický kraj',\n       'Prešovský kraj', 'Košický kraj'], dtype=object)"
     },
     "metadata": {},
     "output_type": "display_data"
    },
    {
     "data": {
      "text/plain": "'Pohlavie'"
     },
     "metadata": {},
     "output_type": "display_data"
    },
    {
     "data": {
      "text/plain": "array(['muž', 'žena'], dtype=object)"
     },
     "metadata": {},
     "output_type": "display_data"
    },
    {
     "data": {
      "text/plain": "'5-ročné vekové skupiny'"
     },
     "metadata": {},
     "output_type": "display_data"
    },
    {
     "data": {
      "text/plain": "array(['15 - 19 rokov', '20 - 24 rokov', '25 - 29 rokov', '30 - 34 rokov',\n       '35 - 39 rokov', '40 - 44 rokov', '45 - 49 rokov', '50 - 54 rokov',\n       '55 - 59 rokov', '60 - 64 rokov', '65 - 69 rokov', '70 - 74 rokov',\n       '75 - 79 rokov', '80 - 84 rokov', '85 - 89 rokov', '90 - 94 rokov',\n       '95 - 99 rokov'], dtype=object)"
     },
     "metadata": {},
     "output_type": "display_data"
    },
    {
     "data": {
      "text/plain": "'Vzdelanie'"
     },
     "metadata": {},
     "output_type": "display_data"
    },
    {
     "data": {
      "text/plain": "array(['nezistené', 'základné vzdelanie (bližšie neuvedené)',\n       'základné vzdelanie - 1. stupeň základnej školy',\n       'základné vzdelanie - 2. stupeň základnej školy',\n       'stredné odborné (učňovské) vzdelanie bez maturity (bližšie neuvedené)',\n       'stredné odborné (učňovské) vzdelanie bez maturity a bez výučného listu (zaškolenie, zaučenie)',\n       'stredné odborné (učňovské) vzdelanie bez maturity s výučným listom',\n       'stredné odborné (učňovské) vzdelanie bez maturity s vysvedčením o záverečnej skúške',\n       'úplné stredné vzdelanie s maturitou odborné (učňovské) s výučným listom',\n       'úplné stredné vzdelanie s maturitou odborné',\n       'úplné stredné vzdelanie s maturitou všeobecné',\n       'vyššie odborné vzdelanie nadstavbové (maturita absolventov učebných odborov stredných odborných škôl)',\n       'vyššie odborné vzdelanie pomaturitné (pomaturitné kvalifikačné)',\n       'vyššie odborné vzdelanie vyššie odborné (absolventská skúška, absolventský diplom)',\n       'vysokoškolské vzdelanie (bližšie neuvedené)',\n       'vysokoškolské vzdelanie - 1. stupeň (Bc.)',\n       'úplné stredné vzdelanie s maturitou (bližšie neuvedené)',\n       'vysokoškolské vzdelanie - 2. stupeň (Ing.; Mgr.; MUDr.; a i.)',\n       'bez školského vzdelania – osoby vo veku 15 rokov a viac',\n       'vysokoškolské vzdelanie - 3. stupeň (PhD.; a i.)',\n       'vyššie odborné vzdelanie (bližšie neuvedené)'], dtype=object)"
     },
     "metadata": {},
     "output_type": "display_data"
    },
    {
     "data": {
      "text/plain": "'Zamestnanie (ISCO - triedy)'"
     },
     "metadata": {},
     "output_type": "display_data"
    },
    {
     "data": {
      "text/plain": "array(['nezistené', 'Vodiči a obsluha pojazdných strojných zariadení',\n       'Pracovníci v osobných službách',\n       'Kvalifikovaní robotníci v hutníctve, strojárstve a podobní robotníci',\n       'Operátori stacionárnych strojov a zariadení',\n       'Montážni robotníci', 'Pomocní pracovníci pri príprave jedla',\n       'Riadiaci pracovníci (manažéri) v hotelových, reštauračných, obchodných a v ostatných službách',\n       'Špecialisti administratívnych, podporných a obchodných činností',\n       'Špecialisti v oblasti informačných a komunikačných technológií',\n       'Technici a odborní pracovníci v oblasti vedy a techniky',\n       'Odborní pracovníci administratívnych, podporných a obchodných činností',\n       'Odborní pracovníci v oblasti práva, sociálnych vecí a kultúry a podobní pracovníci',\n       'Administratívni pracovníci v zákazníckych službách',\n       'Administratívni pracovníci na záznam číselných a skladových údajov',\n       'Ostatní pomocní administratívni pracovníci', 'Predavači',\n       'Pracovníci v oblasti osobnej starostlivosti',\n       'Kvalifikovaní stavební robotníci a remeselníci okrem elektrikárov',\n       'Upratovači a pomocníci',\n       'Pomocní pracovníci v ťažbe, stavebníctve, výrobe a doprave',\n       'Pracovníci pri likvidácii odpadu a ostatní nekvalifikovaní pracovníci',\n       'Technici v oblasti informačných a komunikačných technológií',\n       'Pracovníci verejnej ochrany a bezpečnostných služieb',\n       'Spracovatelia a výrobcovia potravinárskych výrobkov, výrobkov z dreva a odevov',\n       'Riadiaci pracovníci (manažéri) vo výrobe a v špecializovaných službách',\n       'Odborní pracovníci v zdravotníctve', 'Elektrikári a elektronici',\n       'Špecialisti v oblasti vedy a techniky',\n       'Kvalifikovaní pracovníci v poľnohospodárstve (trhovo orientovaní)',\n       'Všeobecní administratívni pracovníci a zapisovatelia',\n       'Umeleckí a ruční remeselníci a tlačiari',\n       'Ostatné ozbrojené sily',\n       'Zákonodarcovia, ústavní činitelia, vysokí štátni úradníci a najvyšší predstavitelia podnikov a organizácií',\n       'Špecialisti v oblasti práva, sociálnych vecí a kultúry',\n       'Pomocní pracovníci v poľnohospodárstve, lesníctve a rybárstve',\n       'Riadiaci pracovníci (manažéri)  administratívnych, podporných a obchodných  činností',\n       'Farmári, rybári, poľovníci a zberači úrody (samozásobovatelia)',\n       'Špecialisti v zdravotníctve',\n       'Učitelia a odborní pedagogickí pracovníci',\n       'Kvalifikovaní pracovníci v lesníctve, rybárstve a poľovníctve (trhovo orientovaní)',\n       'Pouliční predavači a pomocní pracovníci v podobných  službách',\n       'Dôstojníci ozbrojených síl', 'Poddôstojníci ozbrojených síl'],\n      dtype=object)"
     },
     "metadata": {},
     "output_type": "display_data"
    },
    {
     "data": {
      "text/plain": "'abs.'"
     },
     "metadata": {},
     "output_type": "display_data"
    },
    {
     "data": {
      "text/plain": "array([  45,    1,    2,    4,   29,    5,    8,    3,    6,   12,    7,\n         35,  314,   89,   37,   26,   19,   13,    9,   23,   16,   33,\n         18,   10,   24,   62,   28,   34,   11,   48,   38,   51,   14,\n         15,   30,   53,   43,   46,   32,  151,   49,   66,   54,  108,\n         83,   68,  143,  106,   44,   27,   77,   79,   22,   64,   96,\n        218,   52,   74,   31,   17,   21,   60,   50,   59,  623,   92,\n         20,   25,   75,   73,   42,   84,   95,   47,   90,   39,   63,\n        158,  137,  132,  225,  102,  205,  171,  173,  134,   81,  153,\n        145,   78,  113,  115,   88,   82,   72,  163,   41,  142,   70,\n        130,   76,  474,  182,  815,  820,  309,  141,  365,   69,  103,\n         58,  893,   93,  126,  127,  112,   36,   67,  135,  104,  194,\n        199,   61,  235,  241,  157,  210,  149,  178,  136,  124,  184,\n        146,  168,   65,  109,   94,  231,  280,  118,   40,  303,  484,\n        301,  789,  222,  155, 1719, 1645,  520,  291,  618,  174,  117,\n         91,  991,  100,   56,  131,  306,   97,  138,   98,  176,  270,\n        288,  226,  150,  122,  190,  119,  101,  125,  188,  107,  230,\n        480,  541,  819,  576,  843,  193, 1973, 1942,  544,  283,  680,\n         71,  238,  209,   55,  164,  203,  201,  110,  936,  212,  140,\n        180,  282,  121,  476,   57,  147,   99,  111,   87,  185,  316,\n        233,  172,  160,  114,  148,   80,  508,  752,  945,  715,  768,\n        162, 1698, 1544,  561,  277,  657,  120,  747,  215,  159,  198,\n        287,  571,  144,   85,  181,  265,  105,  175,  626,  621,  539,\n        200,  170,  904,  952,  445,  470,  128,  166,  530,  116,  156,\n        518,  220,  123,  195,  284,  459,  341,  335,  572,  491,   86,\n        403,  169,  326,  579,  251,  206,  281,  466,  300,  252,  380,\n        378,  319,  207,  223,  286,  268,  204,  395,  593,  292,  177,\n        294,  183,  699,  236,  441,  272,  217,  189,  320,  211,  359,\n        167,  340,  560,  473, 1540,  581,  863,  392,  512,  313,  250,\n        255,  755,  152,  440,  631,  765, 2939,  443,  983, 1490,  733,\n        537,  505,  224,  321,  438,  161,  139,  798,  312,  681,  679,\n        977, 3291, 1015, 1440,  793,  634,  262,  407,  404,  254,  600,\n        415,  516,  244,  549,  370,  783,  279,  354,  605, 1187, 2921,\n        331,  921,  197, 1291,  716,  547,  332,  468,  528,  237,  154,\n        328,  381,  366,  463,  264,  228,  375,  504,  261,  642, 1018,\n       1625,  191,  655,  986,  458,  337,  330,  426,  492,  348,  192,\n        311,  373,  748,  943,  133,  675,  338,  216,  431,  253,  310,\n        635,  325,  399,  260,  247,  873,  704,  336,  263,  243,  494,\n        202,  754,  424,  186,  369,  697,  234,  351,  353,  285,  462,\n        187,  232,  240,  410,  525,  297,  242,  322,  374,  557,  356,\n        221,  447,  584,  305,  214,  289,  817,  208,  213,  274,  267,\n        349,  246,  409,  689,  308,  974,  376,  307,  342,  636,  179,\n       1007,  355,  245,  129,  257,  735, 1062,  324,  976,  776,  317,\n        165,  405,  382,  510,  745,  608,  239,  271,  344,  298,  648,\n        339,  259,  422, 1004,  787,  295,  478,  249,  347,  256,  452,\n       1105,  661,  568,  275,  304,  698,  273,  419,  394,  387,  364,\n        436,  948,  363,  229,  599,  390,  345,  296,  555,  511,  368,\n        651,  219,  665,  389,  418,  293,  416,  269,  550,  367,  397,\n        540,  705,  457,  360,  565,  248,  408,  509,  266,  559,  302,\n        646,  729,  350,  299,  464,  766,  875,  334,  784,  825,  318,\n        196,  385,  429,  871,  227, 1064,  524,  362,  327,  896,  276,\n        514,  590,  724,  629,  485,  714,  758,  660,  439,  847,  678,\n        617,  278,  475,  333,  413, 1065,  598,  533,  603,  465,  500,\n        383,  421,  551,  372,  497,  386,  290,  839,  788,  861,  586,\n        501,  412,  496,  315,  543,  574,  558,  481,  258,  671,  454,\n       1023,  417,  641,  535,  785, 1376,  371,  499,  487, 1328,  935,\n       1401, 1188,  792,  855,  726,  428,  628,  384,  391,  818,  836,\n        467, 1053,  739,  684,  411,  563,  592, 1399,  640,  762, 1276,\n        388,  472,  644,  446,  880,  606,  781,  771,  414,  469,  358,\n        645,  343,  664,  448,  594,  433,  625,  868,  477,  400,  652,\n        886, 1060,  526,  804,  922,  830,  934, 1036,  423,  402,  884,\n        482,  420,  396,  790,  851,  493,  663, 1091,  917,  588, 1500,\n        805,  720,  379,  329,  674,  427, 1763,  846,  461, 1298,  708,\n        393,  567, 1096,  346,  352,  377,  821,  580,  483,  398,  434,\n        425,  451,  696,  619,  877,  911,  672, 1038,  850,  611,  430,\n        756,  690, 1049,  658, 1302,  662, 1133,  515,  361,  933,  503,\n        730,  595,  597,  401,  486,  456,  750,  450, 1045,  323,  718,\n        719, 1035, 1137, 1093,  801, 1262,  437,  837, 1366,  831,  513,\n        613, 1812,  713,  647,  453, 2025,  527,  616,  723, 1566, 1343,\n        569, 1126,  743,  507,  741,  649,  546,  959,  506,  869,  449,\n        687,  471,  585,  928,  916, 1109,  864,  562,  770,  800,  858,\n        944,  994, 1375,  931,  772,  489, 1408,  577, 1125,  432, 1027,\n        519,  604], dtype=int64)"
     },
     "metadata": {},
     "output_type": "display_data"
    },
    {
     "data": {
      "text/plain": "'RV_O_047_R_OL_SK.CSV'"
     },
     "metadata": {},
     "output_type": "display_data"
    },
    {
     "data": {
      "text/plain": "  Kód štátu Kód oblasti          Názov štátu      Názov oblasti Pohlavie  \\\n0       SK0        SK01  Slovenská republika  Bratislavský kraj      muž   \n1       SK0        SK01  Slovenská republika  Bratislavský kraj      muž   \n2       SK0        SK01  Slovenská republika  Bratislavský kraj      muž   \n3       SK0        SK01  Slovenská republika  Bratislavský kraj      muž   \n4       SK0        SK01  Slovenská republika  Bratislavský kraj      muž   \n\n  5-ročné vekové skupiny                                       Vzdelanie  \\\n0          15 - 19 rokov                                       nezistené   \n1          15 - 19 rokov                                       nezistené   \n2          15 - 19 rokov          základné vzdelanie (bližšie neuvedené)   \n3          15 - 19 rokov  základné vzdelanie - 1. stupeň základnej školy   \n4          15 - 19 rokov  základné vzdelanie - 1. stupeň základnej školy   \n\n                       Zamestnanie (ISCO - triedy)  abs.  \n0                                        nezistené    45  \n1  Vodiči a obsluha pojazdných strojných zariadení     1  \n2                                        nezistené     2  \n3                                        nezistené     4  \n4                   Pracovníci v osobných službách     2  ",
      "text/html": "<div>\n<style scoped>\n    .dataframe tbody tr th:only-of-type {\n        vertical-align: middle;\n    }\n\n    .dataframe tbody tr th {\n        vertical-align: top;\n    }\n\n    .dataframe thead th {\n        text-align: right;\n    }\n</style>\n<table border=\"1\" class=\"dataframe\">\n  <thead>\n    <tr style=\"text-align: right;\">\n      <th></th>\n      <th>Kód štátu</th>\n      <th>Kód oblasti</th>\n      <th>Názov štátu</th>\n      <th>Názov oblasti</th>\n      <th>Pohlavie</th>\n      <th>5-ročné vekové skupiny</th>\n      <th>Vzdelanie</th>\n      <th>Zamestnanie (ISCO - triedy)</th>\n      <th>abs.</th>\n    </tr>\n  </thead>\n  <tbody>\n    <tr>\n      <th>0</th>\n      <td>SK0</td>\n      <td>SK01</td>\n      <td>Slovenská republika</td>\n      <td>Bratislavský kraj</td>\n      <td>muž</td>\n      <td>15 - 19 rokov</td>\n      <td>nezistené</td>\n      <td>nezistené</td>\n      <td>45</td>\n    </tr>\n    <tr>\n      <th>1</th>\n      <td>SK0</td>\n      <td>SK01</td>\n      <td>Slovenská republika</td>\n      <td>Bratislavský kraj</td>\n      <td>muž</td>\n      <td>15 - 19 rokov</td>\n      <td>nezistené</td>\n      <td>Vodiči a obsluha pojazdných strojných zariadení</td>\n      <td>1</td>\n    </tr>\n    <tr>\n      <th>2</th>\n      <td>SK0</td>\n      <td>SK01</td>\n      <td>Slovenská republika</td>\n      <td>Bratislavský kraj</td>\n      <td>muž</td>\n      <td>15 - 19 rokov</td>\n      <td>základné vzdelanie (bližšie neuvedené)</td>\n      <td>nezistené</td>\n      <td>2</td>\n    </tr>\n    <tr>\n      <th>3</th>\n      <td>SK0</td>\n      <td>SK01</td>\n      <td>Slovenská republika</td>\n      <td>Bratislavský kraj</td>\n      <td>muž</td>\n      <td>15 - 19 rokov</td>\n      <td>základné vzdelanie - 1. stupeň základnej školy</td>\n      <td>nezistené</td>\n      <td>4</td>\n    </tr>\n    <tr>\n      <th>4</th>\n      <td>SK0</td>\n      <td>SK01</td>\n      <td>Slovenská republika</td>\n      <td>Bratislavský kraj</td>\n      <td>muž</td>\n      <td>15 - 19 rokov</td>\n      <td>základné vzdelanie - 1. stupeň základnej školy</td>\n      <td>Pracovníci v osobných službách</td>\n      <td>2</td>\n    </tr>\n  </tbody>\n</table>\n</div>"
     },
     "metadata": {},
     "output_type": "display_data"
    },
    {
     "data": {
      "text/plain": "'Kód štátu'"
     },
     "metadata": {},
     "output_type": "display_data"
    },
    {
     "data": {
      "text/plain": "array(['SK0'], dtype=object)"
     },
     "metadata": {},
     "output_type": "display_data"
    },
    {
     "data": {
      "text/plain": "'Kód oblasti'"
     },
     "metadata": {},
     "output_type": "display_data"
    },
    {
     "data": {
      "text/plain": "array(['SK01', 'SK02', 'SK03', 'SK04'], dtype=object)"
     },
     "metadata": {},
     "output_type": "display_data"
    },
    {
     "data": {
      "text/plain": "'Názov štátu'"
     },
     "metadata": {},
     "output_type": "display_data"
    },
    {
     "data": {
      "text/plain": "array(['Slovenská republika'], dtype=object)"
     },
     "metadata": {},
     "output_type": "display_data"
    },
    {
     "data": {
      "text/plain": "'Názov oblasti'"
     },
     "metadata": {},
     "output_type": "display_data"
    },
    {
     "data": {
      "text/plain": "array(['Bratislavský kraj', 'Západné Slovensko', 'Stredné Slovensko',\n       'Východné Slovensko'], dtype=object)"
     },
     "metadata": {},
     "output_type": "display_data"
    },
    {
     "data": {
      "text/plain": "'Pohlavie'"
     },
     "metadata": {},
     "output_type": "display_data"
    },
    {
     "data": {
      "text/plain": "array(['muž', 'žena'], dtype=object)"
     },
     "metadata": {},
     "output_type": "display_data"
    },
    {
     "data": {
      "text/plain": "'5-ročné vekové skupiny'"
     },
     "metadata": {},
     "output_type": "display_data"
    },
    {
     "data": {
      "text/plain": "array(['15 - 19 rokov', '20 - 24 rokov', '25 - 29 rokov', '30 - 34 rokov',\n       '35 - 39 rokov', '40 - 44 rokov', '45 - 49 rokov', '50 - 54 rokov',\n       '55 - 59 rokov', '60 - 64 rokov', '65 - 69 rokov', '70 - 74 rokov',\n       '75 - 79 rokov', '80 - 84 rokov', '85 - 89 rokov', '90 - 94 rokov',\n       '95 - 99 rokov'], dtype=object)"
     },
     "metadata": {},
     "output_type": "display_data"
    },
    {
     "data": {
      "text/plain": "'Vzdelanie'"
     },
     "metadata": {},
     "output_type": "display_data"
    },
    {
     "data": {
      "text/plain": "array(['nezistené', 'základné vzdelanie (bližšie neuvedené)',\n       'základné vzdelanie - 1. stupeň základnej školy',\n       'základné vzdelanie - 2. stupeň základnej školy',\n       'stredné odborné (učňovské) vzdelanie bez maturity (bližšie neuvedené)',\n       'stredné odborné (učňovské) vzdelanie bez maturity a bez výučného listu (zaškolenie, zaučenie)',\n       'stredné odborné (učňovské) vzdelanie bez maturity s výučným listom',\n       'stredné odborné (učňovské) vzdelanie bez maturity s vysvedčením o záverečnej skúške',\n       'úplné stredné vzdelanie s maturitou odborné (učňovské) s výučným listom',\n       'úplné stredné vzdelanie s maturitou odborné',\n       'úplné stredné vzdelanie s maturitou všeobecné',\n       'vyššie odborné vzdelanie nadstavbové (maturita absolventov učebných odborov stredných odborných škôl)',\n       'vyššie odborné vzdelanie pomaturitné (pomaturitné kvalifikačné)',\n       'vyššie odborné vzdelanie vyššie odborné (absolventská skúška, absolventský diplom)',\n       'vysokoškolské vzdelanie (bližšie neuvedené)',\n       'vysokoškolské vzdelanie - 1. stupeň (Bc.)',\n       'úplné stredné vzdelanie s maturitou (bližšie neuvedené)',\n       'vysokoškolské vzdelanie - 2. stupeň (Ing.; Mgr.; MUDr.; a i.)',\n       'bez školského vzdelania – osoby vo veku 15 rokov a viac',\n       'vysokoškolské vzdelanie - 3. stupeň (PhD.; a i.)',\n       'vyššie odborné vzdelanie (bližšie neuvedené)'], dtype=object)"
     },
     "metadata": {},
     "output_type": "display_data"
    },
    {
     "data": {
      "text/plain": "'Zamestnanie (ISCO - triedy)'"
     },
     "metadata": {},
     "output_type": "display_data"
    },
    {
     "data": {
      "text/plain": "array(['nezistené', 'Vodiči a obsluha pojazdných strojných zariadení',\n       'Pracovníci v osobných službách',\n       'Kvalifikovaní robotníci v hutníctve, strojárstve a podobní robotníci',\n       'Operátori stacionárnych strojov a zariadení',\n       'Montážni robotníci', 'Pomocní pracovníci pri príprave jedla',\n       'Riadiaci pracovníci (manažéri) v hotelových, reštauračných, obchodných a v ostatných službách',\n       'Špecialisti administratívnych, podporných a obchodných činností',\n       'Špecialisti v oblasti informačných a komunikačných technológií',\n       'Technici a odborní pracovníci v oblasti vedy a techniky',\n       'Odborní pracovníci administratívnych, podporných a obchodných činností',\n       'Odborní pracovníci v oblasti práva, sociálnych vecí a kultúry a podobní pracovníci',\n       'Administratívni pracovníci v zákazníckych službách',\n       'Administratívni pracovníci na záznam číselných a skladových údajov',\n       'Ostatní pomocní administratívni pracovníci', 'Predavači',\n       'Pracovníci v oblasti osobnej starostlivosti',\n       'Kvalifikovaní stavební robotníci a remeselníci okrem elektrikárov',\n       'Upratovači a pomocníci',\n       'Pomocní pracovníci v ťažbe, stavebníctve, výrobe a doprave',\n       'Pracovníci pri likvidácii odpadu a ostatní nekvalifikovaní pracovníci',\n       'Technici v oblasti informačných a komunikačných technológií',\n       'Pracovníci verejnej ochrany a bezpečnostných služieb',\n       'Spracovatelia a výrobcovia potravinárskych výrobkov, výrobkov z dreva a odevov',\n       'Riadiaci pracovníci (manažéri) vo výrobe a v špecializovaných službách',\n       'Odborní pracovníci v zdravotníctve', 'Elektrikári a elektronici',\n       'Špecialisti v oblasti vedy a techniky',\n       'Kvalifikovaní pracovníci v poľnohospodárstve (trhovo orientovaní)',\n       'Všeobecní administratívni pracovníci a zapisovatelia',\n       'Umeleckí a ruční remeselníci a tlačiari',\n       'Ostatné ozbrojené sily',\n       'Zákonodarcovia, ústavní činitelia, vysokí štátni úradníci a najvyšší predstavitelia podnikov a organizácií',\n       'Špecialisti v oblasti práva, sociálnych vecí a kultúry',\n       'Pomocní pracovníci v poľnohospodárstve, lesníctve a rybárstve',\n       'Riadiaci pracovníci (manažéri)  administratívnych, podporných a obchodných  činností',\n       'Farmári, rybári, poľovníci a zberači úrody (samozásobovatelia)',\n       'Špecialisti v zdravotníctve',\n       'Učitelia a odborní pedagogickí pracovníci',\n       'Kvalifikovaní pracovníci v lesníctve, rybárstve a poľovníctve (trhovo orientovaní)',\n       'Pouliční predavači a pomocní pracovníci v podobných  službách',\n       'Dôstojníci ozbrojených síl', 'Poddôstojníci ozbrojených síl'],\n      dtype=object)"
     },
     "metadata": {},
     "output_type": "display_data"
    },
    {
     "data": {
      "text/plain": "'abs.'"
     },
     "metadata": {},
     "output_type": "display_data"
    },
    {
     "data": {
      "text/plain": "array([  45,    1,    2, ..., 1271,  829, 1099], dtype=int64)"
     },
     "metadata": {},
     "output_type": "display_data"
    },
    {
     "data": {
      "text/plain": "'RV_O_047_R_SR_SK.CSV'"
     },
     "metadata": {},
     "output_type": "display_data"
    },
    {
     "data": {
      "text/plain": "  Kód štátu          Názov štátu Pohlavie 5-ročné vekové skupiny  Vzdelanie  \\\n0       SK0  Slovenská republika      muž          15 - 19 rokov  nezistené   \n1       SK0  Slovenská republika      muž          15 - 19 rokov  nezistené   \n2       SK0  Slovenská republika      muž          15 - 19 rokov  nezistené   \n3       SK0  Slovenská republika      muž          15 - 19 rokov  nezistené   \n4       SK0  Slovenská republika      muž          15 - 19 rokov  nezistené   \n\n                         Zamestnanie (ISCO - triedy)  abs.  \n0                                          nezistené   354  \n1                 Odborní pracovníci v zdravotníctve     1  \n2  Administratívni pracovníci na záznam číselných...     1  \n3                     Pracovníci v osobných službách     1  \n4                                          Predavači     1  ",
      "text/html": "<div>\n<style scoped>\n    .dataframe tbody tr th:only-of-type {\n        vertical-align: middle;\n    }\n\n    .dataframe tbody tr th {\n        vertical-align: top;\n    }\n\n    .dataframe thead th {\n        text-align: right;\n    }\n</style>\n<table border=\"1\" class=\"dataframe\">\n  <thead>\n    <tr style=\"text-align: right;\">\n      <th></th>\n      <th>Kód štátu</th>\n      <th>Názov štátu</th>\n      <th>Pohlavie</th>\n      <th>5-ročné vekové skupiny</th>\n      <th>Vzdelanie</th>\n      <th>Zamestnanie (ISCO - triedy)</th>\n      <th>abs.</th>\n    </tr>\n  </thead>\n  <tbody>\n    <tr>\n      <th>0</th>\n      <td>SK0</td>\n      <td>Slovenská republika</td>\n      <td>muž</td>\n      <td>15 - 19 rokov</td>\n      <td>nezistené</td>\n      <td>nezistené</td>\n      <td>354</td>\n    </tr>\n    <tr>\n      <th>1</th>\n      <td>SK0</td>\n      <td>Slovenská republika</td>\n      <td>muž</td>\n      <td>15 - 19 rokov</td>\n      <td>nezistené</td>\n      <td>Odborní pracovníci v zdravotníctve</td>\n      <td>1</td>\n    </tr>\n    <tr>\n      <th>2</th>\n      <td>SK0</td>\n      <td>Slovenská republika</td>\n      <td>muž</td>\n      <td>15 - 19 rokov</td>\n      <td>nezistené</td>\n      <td>Administratívni pracovníci na záznam číselných...</td>\n      <td>1</td>\n    </tr>\n    <tr>\n      <th>3</th>\n      <td>SK0</td>\n      <td>Slovenská republika</td>\n      <td>muž</td>\n      <td>15 - 19 rokov</td>\n      <td>nezistené</td>\n      <td>Pracovníci v osobných službách</td>\n      <td>1</td>\n    </tr>\n    <tr>\n      <th>4</th>\n      <td>SK0</td>\n      <td>Slovenská republika</td>\n      <td>muž</td>\n      <td>15 - 19 rokov</td>\n      <td>nezistené</td>\n      <td>Predavači</td>\n      <td>1</td>\n    </tr>\n  </tbody>\n</table>\n</div>"
     },
     "metadata": {},
     "output_type": "display_data"
    },
    {
     "data": {
      "text/plain": "'Kód štátu'"
     },
     "metadata": {},
     "output_type": "display_data"
    },
    {
     "data": {
      "text/plain": "array(['SK0'], dtype=object)"
     },
     "metadata": {},
     "output_type": "display_data"
    },
    {
     "data": {
      "text/plain": "'Názov štátu'"
     },
     "metadata": {},
     "output_type": "display_data"
    },
    {
     "data": {
      "text/plain": "array(['Slovenská republika'], dtype=object)"
     },
     "metadata": {},
     "output_type": "display_data"
    },
    {
     "data": {
      "text/plain": "'Pohlavie'"
     },
     "metadata": {},
     "output_type": "display_data"
    },
    {
     "data": {
      "text/plain": "array(['muž', 'žena'], dtype=object)"
     },
     "metadata": {},
     "output_type": "display_data"
    },
    {
     "data": {
      "text/plain": "'5-ročné vekové skupiny'"
     },
     "metadata": {},
     "output_type": "display_data"
    },
    {
     "data": {
      "text/plain": "array(['15 - 19 rokov', '20 - 24 rokov', '25 - 29 rokov', '30 - 34 rokov',\n       '35 - 39 rokov', '40 - 44 rokov', '45 - 49 rokov', '50 - 54 rokov',\n       '55 - 59 rokov', '60 - 64 rokov', '65 - 69 rokov', '70 - 74 rokov',\n       '75 - 79 rokov', '80 - 84 rokov', '85 - 89 rokov', '90 - 94 rokov',\n       '95 - 99 rokov'], dtype=object)"
     },
     "metadata": {},
     "output_type": "display_data"
    },
    {
     "data": {
      "text/plain": "'Vzdelanie'"
     },
     "metadata": {},
     "output_type": "display_data"
    },
    {
     "data": {
      "text/plain": "array(['nezistené', 'základné vzdelanie (bližšie neuvedené)',\n       'základné vzdelanie - 1. stupeň základnej školy',\n       'základné vzdelanie - 2. stupeň základnej školy',\n       'stredné odborné (učňovské) vzdelanie bez maturity (bližšie neuvedené)',\n       'stredné odborné (učňovské) vzdelanie bez maturity a bez výučného listu (zaškolenie, zaučenie)',\n       'stredné odborné (učňovské) vzdelanie bez maturity s výučným listom',\n       'stredné odborné (učňovské) vzdelanie bez maturity s vysvedčením o záverečnej skúške',\n       'úplné stredné vzdelanie s maturitou (bližšie neuvedené)',\n       'úplné stredné vzdelanie s maturitou odborné (učňovské) s výučným listom',\n       'úplné stredné vzdelanie s maturitou odborné',\n       'úplné stredné vzdelanie s maturitou všeobecné',\n       'vyššie odborné vzdelanie nadstavbové (maturita absolventov učebných odborov stredných odborných škôl)',\n       'vyššie odborné vzdelanie pomaturitné (pomaturitné kvalifikačné)',\n       'vyššie odborné vzdelanie vyššie odborné (absolventská skúška, absolventský diplom)',\n       'vysokoškolské vzdelanie (bližšie neuvedené)',\n       'vysokoškolské vzdelanie - 1. stupeň (Bc.)',\n       'bez školského vzdelania – osoby vo veku 15 rokov a viac',\n       'vysokoškolské vzdelanie - 2. stupeň (Ing.; Mgr.; MUDr.; a i.)',\n       'vysokoškolské vzdelanie - 3. stupeň (PhD.; a i.)',\n       'vyššie odborné vzdelanie (bližšie neuvedené)'], dtype=object)"
     },
     "metadata": {},
     "output_type": "display_data"
    },
    {
     "data": {
      "text/plain": "'Zamestnanie (ISCO - triedy)'"
     },
     "metadata": {},
     "output_type": "display_data"
    },
    {
     "data": {
      "text/plain": "array(['nezistené', 'Odborní pracovníci v zdravotníctve',\n       'Administratívni pracovníci na záznam číselných a skladových údajov',\n       'Pracovníci v osobných službách', 'Predavači',\n       'Kvalifikovaní robotníci v hutníctve, strojárstve a podobní robotníci',\n       'Operátori stacionárnych strojov a zariadení',\n       'Vodiči a obsluha pojazdných strojných zariadení',\n       'Špecialisti v oblasti vedy a techniky',\n       'Technici a odborní pracovníci v oblasti vedy a techniky',\n       'Odborní pracovníci administratívnych, podporných a obchodných činností',\n       'Pracovníci v oblasti osobnej starostlivosti',\n       'Pracovníci verejnej ochrany a bezpečnostných služieb',\n       'Kvalifikovaní pracovníci v poľnohospodárstve (trhovo orientovaní)',\n       'Kvalifikovaní stavební robotníci a remeselníci okrem elektrikárov',\n       'Spracovatelia a výrobcovia potravinárskych výrobkov, výrobkov z dreva a odevov',\n       'Montážni robotníci', 'Upratovači a pomocníci',\n       'Pomocní pracovníci v poľnohospodárstve, lesníctve a rybárstve',\n       'Pomocní pracovníci v ťažbe, stavebníctve, výrobe a doprave',\n       'Pomocní pracovníci pri príprave jedla',\n       'Pracovníci pri likvidácii odpadu a ostatní nekvalifikovaní pracovníci',\n       'Riadiaci pracovníci (manažéri)  administratívnych, podporných a obchodných  činností',\n       'Riadiaci pracovníci (manažéri) vo výrobe a v špecializovaných službách',\n       'Riadiaci pracovníci (manažéri) v hotelových, reštauračných, obchodných a v ostatných službách',\n       'Špecialisti administratívnych, podporných a obchodných činností',\n       'Špecialisti v oblasti informačných a komunikačných technológií',\n       'Odborní pracovníci v oblasti práva, sociálnych vecí a kultúry a podobní pracovníci',\n       'Technici v oblasti informačných a komunikačných technológií',\n       'Všeobecní administratívni pracovníci a zapisovatelia',\n       'Administratívni pracovníci v zákazníckych službách',\n       'Ostatní pomocní administratívni pracovníci',\n       'Kvalifikovaní pracovníci v lesníctve, rybárstve a poľovníctve (trhovo orientovaní)',\n       'Umeleckí a ruční remeselníci a tlačiari',\n       'Elektrikári a elektronici',\n       'Zákonodarcovia, ústavní činitelia, vysokí štátni úradníci a najvyšší predstavitelia podnikov a organizácií',\n       'Špecialisti v zdravotníctve', 'Ostatné ozbrojené sily',\n       'Učitelia a odborní pedagogickí pracovníci',\n       'Farmári, rybári, poľovníci a zberači úrody (samozásobovatelia)',\n       'Špecialisti v oblasti práva, sociálnych vecí a kultúry',\n       'Pouliční predavači a pomocní pracovníci v podobných  službách',\n       'Poddôstojníci ozbrojených síl', 'Dôstojníci ozbrojených síl'],\n      dtype=object)"
     },
     "metadata": {},
     "output_type": "display_data"
    },
    {
     "data": {
      "text/plain": "'abs.'"
     },
     "metadata": {},
     "output_type": "display_data"
    },
    {
     "data": {
      "text/plain": "array([ 354,    1,    2, ..., 2157, 1142,  378], dtype=int64)"
     },
     "metadata": {},
     "output_type": "display_data"
    },
    {
     "data": {
      "text/plain": "'RV_O_067_L_OK_SK.CSV'"
     },
     "metadata": {},
     "output_type": "display_data"
    },
    {
     "data": {
      "text/plain": "  Kód okresu        Názov okresu Súčasná ekonomická aktivita  \\\n0     SK0101  Okres Bratislava I                     dôverné   \n1     SK0101  Okres Bratislava I                     dôverné   \n2     SK0101  Okres Bratislava I                     dôverné   \n3     SK0101  Okres Bratislava I                     dôverné   \n4     SK0101  Okres Bratislava I                     dôverné   \n\n  Odvetvie ekonomickej činnosti​ (NACE - sekcie)  \\\n0                                      nezistené   \n1                                      nezistené   \n2                                      nezistené   \n3                                      nezistené   \n4                                      nezistené   \n\n                         Zamestnanie (ISCO - triedy)  \\\n0                                          nezistené   \n1  Riadiaci pracovníci (manažéri)  administratívn...   \n2                        Špecialisti v zdravotníctve   \n3  Špecialisti v oblasti práva, sociálnych vecí a...   \n4  Technici a odborní pracovníci v oblasti vedy a...   \n\n                                          Vzdelanie  abs.  \n0                                           dôverné     2  \n1         vysokoškolské vzdelanie - 1. stupeň (Bc.)     1  \n2  vysokoškolské vzdelanie - 3. stupeň (PhD.; a i.)     1  \n3  vysokoškolské vzdelanie - 3. stupeň (PhD.; a i.)     1  \n4                                           dôverné     1  ",
      "text/html": "<div>\n<style scoped>\n    .dataframe tbody tr th:only-of-type {\n        vertical-align: middle;\n    }\n\n    .dataframe tbody tr th {\n        vertical-align: top;\n    }\n\n    .dataframe thead th {\n        text-align: right;\n    }\n</style>\n<table border=\"1\" class=\"dataframe\">\n  <thead>\n    <tr style=\"text-align: right;\">\n      <th></th>\n      <th>Kód okresu</th>\n      <th>Názov okresu</th>\n      <th>Súčasná ekonomická aktivita</th>\n      <th>Odvetvie ekonomickej činnosti​ (NACE - sekcie)</th>\n      <th>Zamestnanie (ISCO - triedy)</th>\n      <th>Vzdelanie</th>\n      <th>abs.</th>\n    </tr>\n  </thead>\n  <tbody>\n    <tr>\n      <th>0</th>\n      <td>SK0101</td>\n      <td>Okres Bratislava I</td>\n      <td>dôverné</td>\n      <td>nezistené</td>\n      <td>nezistené</td>\n      <td>dôverné</td>\n      <td>2</td>\n    </tr>\n    <tr>\n      <th>1</th>\n      <td>SK0101</td>\n      <td>Okres Bratislava I</td>\n      <td>dôverné</td>\n      <td>nezistené</td>\n      <td>Riadiaci pracovníci (manažéri)  administratívn...</td>\n      <td>vysokoškolské vzdelanie - 1. stupeň (Bc.)</td>\n      <td>1</td>\n    </tr>\n    <tr>\n      <th>2</th>\n      <td>SK0101</td>\n      <td>Okres Bratislava I</td>\n      <td>dôverné</td>\n      <td>nezistené</td>\n      <td>Špecialisti v zdravotníctve</td>\n      <td>vysokoškolské vzdelanie - 3. stupeň (PhD.; a i.)</td>\n      <td>1</td>\n    </tr>\n    <tr>\n      <th>3</th>\n      <td>SK0101</td>\n      <td>Okres Bratislava I</td>\n      <td>dôverné</td>\n      <td>nezistené</td>\n      <td>Špecialisti v oblasti práva, sociálnych vecí a...</td>\n      <td>vysokoškolské vzdelanie - 3. stupeň (PhD.; a i.)</td>\n      <td>1</td>\n    </tr>\n    <tr>\n      <th>4</th>\n      <td>SK0101</td>\n      <td>Okres Bratislava I</td>\n      <td>dôverné</td>\n      <td>nezistené</td>\n      <td>Technici a odborní pracovníci v oblasti vedy a...</td>\n      <td>dôverné</td>\n      <td>1</td>\n    </tr>\n  </tbody>\n</table>\n</div>"
     },
     "metadata": {},
     "output_type": "display_data"
    },
    {
     "data": {
      "text/plain": "'Kód okresu'"
     },
     "metadata": {},
     "output_type": "display_data"
    },
    {
     "data": {
      "text/plain": "array(['SK0101', 'SK0102', 'SK0103', 'SK0104', 'SK0105', 'SK0106',\n       'SK0107', 'SK0108', 'SK0211', 'SK0212', 'SK0213', 'SK0214',\n       'SK0215', 'SK0216', 'SK0217', 'SK0221', 'SK0222', 'SK0223',\n       'SK0224', 'SK0225', 'SK0226', 'SK0227', 'SK0228', 'SK0229',\n       'SK0231', 'SK0232', 'SK0233', 'SK0234', 'SK0235', 'SK0236',\n       'SK0237', 'SK0311', 'SK0312', 'SK0313', 'SK0314', 'SK0315',\n       'SK0316', 'SK0317', 'SK0318', 'SK0319', 'SK031A', 'SK031B',\n       'SK0321', 'SK0322', 'SK0323', 'SK0324', 'SK0325', 'SK0326',\n       'SK0327', 'SK0328', 'SK0329', 'SK032A', 'SK032B', 'SK032C',\n       'SK032D', 'SK0411', 'SK0412', 'SK0413', 'SK0414', 'SK0415',\n       'SK0416', 'SK0417', 'SK0418', 'SK0419', 'SK041A', 'SK041B',\n       'SK041C', 'SK041D', 'SK0421', 'SK0422', 'SK0423', 'SK0424',\n       'SK0425', 'SK0426', 'SK0427', 'SK0428', 'SK0429', 'SK042A',\n       'SK042B'], dtype=object)"
     },
     "metadata": {},
     "output_type": "display_data"
    },
    {
     "data": {
      "text/plain": "'Názov okresu'"
     },
     "metadata": {},
     "output_type": "display_data"
    },
    {
     "data": {
      "text/plain": "array(['Okres Bratislava I', 'Okres Bratislava II',\n       'Okres Bratislava III', 'Okres Bratislava IV',\n       'Okres Bratislava V', 'Okres Malacky', 'Okres Pezinok',\n       'Okres Senec', 'Okres Dunajská Streda', 'Okres Galanta',\n       'Okres Hlohovec', 'Okres Piešťany', 'Okres Senica',\n       'Okres Skalica', 'Okres Trnava', 'Okres Bánovce nad Bebravou',\n       'Okres Ilava', 'Okres Myjava', 'Okres Nové Mesto nad Váhom',\n       'Okres Partizánske', 'Okres Považská Bystrica', 'Okres Prievidza',\n       'Okres Púchov', 'Okres Trenčín', 'Okres Komárno', 'Okres Levice',\n       'Okres Nitra', 'Okres Nové Zámky', 'Okres Šaľa', 'Okres Topoľčany',\n       'Okres Zlaté Moravce', 'Okres Bytča', 'Okres Čadca',\n       'Okres Dolný Kubín', 'Okres Kysucké Nové Mesto',\n       'Okres Liptovský Mikuláš', 'Okres Martin', 'Okres Námestovo',\n       'Okres Ružomberok', 'Okres Turčianske Teplice', 'Okres Tvrdošín',\n       'Okres Žilina', 'Okres Banská Bystrica', 'Okres Banská Štiavnica',\n       'Okres Brezno', 'Okres Detva', 'Okres Krupina', 'Okres Lučenec',\n       'Okres Poltár', 'Okres Revúca', 'Okres Rimavská Sobota',\n       'Okres Veľký Krtíš', 'Okres Zvolen', 'Okres Žarnovica',\n       'Okres Žiar nad Hronom', 'Okres Bardejov', 'Okres Humenné',\n       'Okres Kežmarok', 'Okres Levoča', 'Okres Medzilaborce',\n       'Okres Poprad', 'Okres Prešov', 'Okres Sabinov', 'Okres Snina',\n       'Okres Stará Ľubovňa', 'Okres Stropkov', 'Okres Svidník',\n       'Okres Vranov nad Topľou', 'Okres Gelnica', 'Okres Košice I',\n       'Okres Košice II', 'Okres Košice III', 'Okres Košice IV',\n       'Okres Košice - okolie', 'Okres Michalovce', 'Okres Rožňava',\n       'Okres Sobrance', 'Okres Spišská Nová Ves', 'Okres Trebišov'],\n      dtype=object)"
     },
     "metadata": {},
     "output_type": "display_data"
    },
    {
     "data": {
      "text/plain": "'Súčasná ekonomická aktivita'"
     },
     "metadata": {},
     "output_type": "display_data"
    },
    {
     "data": {
      "text/plain": "array(['dôverné', 'pracujúci (okrem dôchodcov)', 'pracujúci dôchodca',\n       'osoba na materskej dovolenke', 'osoba na rodičovskej dovolenke'],\n      dtype=object)"
     },
     "metadata": {},
     "output_type": "display_data"
    },
    {
     "data": {
      "text/plain": "'Odvetvie ekonomickej činnosti\\u200b (NACE - sekcie)'"
     },
     "metadata": {},
     "output_type": "display_data"
    },
    {
     "data": {
      "text/plain": "array(['nezistené', 'Stavebníctvo',\n       'Veľkoobchod a maloobchod; oprava motorových vozidiel a motocyklov',\n       'Doprava a skladovanie', 'Ubytovacie a stravovacie služby',\n       'Informácie a komunikácia', 'Činnosti v oblasti nehnuteľností',\n       'Odborné, vedecké a technické činnosti',\n       'Administratívne a podporné služby', 'Vzdelávanie',\n       'Umenie, zábava a rekreácia', 'Ostatné činnosti',\n       'Činnosti extrateritoriálnych organizácií a združení',\n       'Poľnohospodárstvo, lesníctvo a rybolov', 'Ťažba a dobývanie',\n       'Priemyselná výroba',\n       'Dodávka elektriny, plynu, pary a studeného vzduchu',\n       'Dodávka vody; čistenie a odvod odpadových vôd, odpady a služby odstraňovania odpadov',\n       'Finančné a poisťovacie činnosti',\n       'Verejná správa a obrana; povinné sociálne zabezpečenie',\n       'Zdravotníctvo a sociálna pomoc',\n       'Činnosti domácností ako zamestnávateľov; nediferencované činnosti v domácnostiach produkujúce tovary a služby na vlastné použitie'],\n      dtype=object)"
     },
     "metadata": {},
     "output_type": "display_data"
    },
    {
     "data": {
      "text/plain": "'Zamestnanie (ISCO - triedy)'"
     },
     "metadata": {},
     "output_type": "display_data"
    },
    {
     "data": {
      "text/plain": "array(['nezistené',\n       'Riadiaci pracovníci (manažéri)  administratívnych, podporných a obchodných  činností',\n       'Špecialisti v zdravotníctve',\n       'Špecialisti v oblasti práva, sociálnych vecí a kultúry',\n       'Technici a odborní pracovníci v oblasti vedy a techniky',\n       'neaplikovateľné',\n       'Zákonodarcovia, ústavní činitelia, vysokí štátni úradníci a najvyšší predstavitelia podnikov a organizácií',\n       'Administratívni pracovníci na záznam číselných a skladových údajov',\n       'Odborní pracovníci administratívnych, podporných a obchodných činností',\n       'Pracovníci v osobných službách',\n       'Učitelia a odborní pedagogickí pracovníci',\n       'Špecialisti administratívnych, podporných a obchodných činností',\n       'Dôstojníci ozbrojených síl',\n       'Riadiaci pracovníci (manažéri) vo výrobe a v špecializovaných službách',\n       'Riadiaci pracovníci (manažéri) v hotelových, reštauračných, obchodných a v ostatných službách',\n       'Špecialisti v oblasti vedy a techniky',\n       'Špecialisti v oblasti informačných a komunikačných technológií',\n       'Odborní pracovníci v zdravotníctve',\n       'Odborní pracovníci v oblasti práva, sociálnych vecí a kultúry a podobní pracovníci',\n       'Technici v oblasti informačných a komunikačných technológií',\n       'Všeobecní administratívni pracovníci a zapisovatelia',\n       'Administratívni pracovníci v zákazníckych službách',\n       'Ostatní pomocní administratívni pracovníci', 'Predavači',\n       'Pracovníci v oblasti osobnej starostlivosti',\n       'Pracovníci verejnej ochrany a bezpečnostných služieb',\n       'Kvalifikovaní pracovníci v poľnohospodárstve (trhovo orientovaní)',\n       'Kvalifikovaní stavební robotníci a remeselníci okrem elektrikárov',\n       'Kvalifikovaní robotníci v hutníctve, strojárstve a podobní robotníci',\n       'Umeleckí a ruční remeselníci a tlačiari',\n       'Elektrikári a elektronici',\n       'Spracovatelia a výrobcovia potravinárskych výrobkov, výrobkov z dreva a odevov',\n       'Operátori stacionárnych strojov a zariadení',\n       'Montážni robotníci',\n       'Vodiči a obsluha pojazdných strojných zariadení',\n       'Upratovači a pomocníci',\n       'Pomocní pracovníci v poľnohospodárstve, lesníctve a rybárstve',\n       'Pomocní pracovníci v ťažbe, stavebníctve, výrobe a doprave',\n       'Pomocní pracovníci pri príprave jedla',\n       'Pracovníci pri likvidácii odpadu a ostatní nekvalifikovaní pracovníci',\n       'dôverné',\n       'Pouliční predavači a pomocní pracovníci v podobných  službách',\n       'Poddôstojníci ozbrojených síl', 'Ostatné ozbrojené sily',\n       'Kvalifikovaní pracovníci v lesníctve, rybárstve a poľovníctve (trhovo orientovaní)',\n       'Farmári, rybári, poľovníci a zberači úrody (samozásobovatelia)'],\n      dtype=object)"
     },
     "metadata": {},
     "output_type": "display_data"
    },
    {
     "data": {
      "text/plain": "'Vzdelanie'"
     },
     "metadata": {},
     "output_type": "display_data"
    },
    {
     "data": {
      "text/plain": "array(['dôverné', 'vysokoškolské vzdelanie - 1. stupeň (Bc.)',\n       'vysokoškolské vzdelanie - 3. stupeň (PhD.; a i.)',\n       'vyššie odborné vzdelanie vyššie odborné (absolventská skúška, absolventský diplom)',\n       'vysokoškolské vzdelanie - 2. stupeň (Ing.; Mgr.; MUDr.; a i.)',\n       'stredné odborné (učňovské) vzdelanie bez maturity s výučným listom',\n       'úplné stredné vzdelanie s maturitou (bližšie neuvedené)',\n       'základné vzdelanie - 2. stupeň základnej školy',\n       'úplné stredné vzdelanie s maturitou odborné',\n       'úplné stredné vzdelanie s maturitou odborné (učňovské) s výučným listom',\n       'vyššie odborné vzdelanie nadstavbové (maturita absolventov učebných odborov stredných odborných škôl)',\n       'nezistené', 'základné vzdelanie - 1. stupeň základnej školy',\n       'stredné odborné (učňovské) vzdelanie bez maturity a bez výučného listu (zaškolenie, zaučenie)',\n       'stredné odborné (učňovské) vzdelanie bez maturity s vysvedčením o záverečnej skúške',\n       'úplné stredné vzdelanie s maturitou všeobecné',\n       'vyššie odborné vzdelanie pomaturitné (pomaturitné kvalifikačné)',\n       'bez školského vzdelania – osoby vo veku 15 rokov a viac',\n       'základné vzdelanie (bližšie neuvedené)',\n       'vysokoškolské vzdelanie (bližšie neuvedené)',\n       'stredné odborné (učňovské) vzdelanie bez maturity (bližšie neuvedené)',\n       'vyššie odborné vzdelanie (bližšie neuvedené)'], dtype=object)"
     },
     "metadata": {},
     "output_type": "display_data"
    },
    {
     "data": {
      "text/plain": "'abs.'"
     },
     "metadata": {},
     "output_type": "display_data"
    },
    {
     "data": {
      "text/plain": "array([   2,    1,    3,  213,    6,    5,   19,   28,   15,   76,   30,\n         12,   83,   35,    8,    4,    7,   98,   29,  113,   23,   42,\n         20,   38,  220,   24,   14,   99,   11,    9,  120,   22,   17,\n        147,   18,   63,   46,   13,   36,  318,   32,   10,   41,   33,\n         44,   69,   16,   31,   27,   73,   21,   57,  108,  100,  165,\n         25,   61,   37,  189,   40,   26,   43,   51,   67,  181,  258,\n         88,   34,  177,  198,   47,   54,   39,   53,   66,  143,   80,\n         87,  138,  141,  383,   71,  238,   59,  127,  610,   52,   77,\n        133,  160,   68,  281,  221,  251,   70,  107,  203,  332,  159,\n        136,  104,   48,  195,  122,   50,  131,   62,  148,  145,   81,\n        379,  209,  152,  199,   58,  171,  117,   85,  323,   97,  140,\n        235,   60,   89,   49,   45,   84,   56,   78,   75,  124,   55,\n         93,  272,  112,  234,   65,  452,  167,  255,  137,  297,  153,\n        316,  121,   90,  129,  102,  218,  114,  387,  109,  158,   79,\n        101,  156,  106,  492,   94,  952,   92,  317,  110,  613,   74,\n        192,  187,   72,  173,  149,  134,  282,  320,   91, 1022,  222,\n        294,  299,  125,  123,  883,  157,  105,  211,  179,  404,  346,\n        460,   86,  119,  828,  310,  481,  182,  150,  201,  337,  169,\n         64,  242,  135,  151,  170,  271,  128,  287,  178,  142,  164,\n        266,  309,  564,  274,  389,  118,  651,  576,  161,  217,   82,\n        254,  509,  224,  338,  194,  280,  111,  163,  174,  144,  325,\n        154,   96,  352,  275,  322,  359,  854,  103,  357,  544,  115,\n        284,  193,  748,  191,  239,  227,  685,  184,  378,  430,  146,\n        946,  412,  516,  180,  250,  366,  362,  232,  186,  260,  190,\n        276,  382,  212,  308,  306,  116,  427,  986,  292,  603,  155,\n        132,  253,   95,  882,  207,  289,  594,  168,  368,  304,  450,\n        741,  215,  360,  365,  459,  249,  348,  315,  204,  166,  139,\n        202,  278,  573,  245,  205,  313,  219,  377,  257,  243,  566,\n        326,  548,  399,  216,  172,  779,  244,  188,  126,  369, 1093,\n        241,  521,  248,  487,  230,  226,  286, 1076,  185,  162,  283,\n        197,  441,  370,  302,  256,  375,  200,  711,  328,  434,  263,\n        519,  247,  301,  279,  261,  543,  214,  183,  439,  371,  470,\n        130,  344,  407,  355,  176,  422,  270,  499,  210,  447,  285,\n        469,  598,  175,  453,  264,  444,  381, 1345,  295,  354,  343,\n        268,  385,  391,  372,  208,  231,  577,  262,  424,  269,  502,\n        395,  236,  552,  341,  314,  485,  273,  644,  334,  549,  361,\n        547,  787,  293,  396,  408,  333,  600,  246,  518,  240,  478,\n        305, 1128,  277,  773,  483,  402,  196,  406,  228,  388,  520,\n        321,  513,  223,  435,  529,  400,  421, 1086,  229,  300,  350,\n        457,  335,  418,  861,  376,  449,  726,  410,  468, 1010,  349,\n        288,  461,  455,  708,  394,  339,  650,  658,  363,  409,  525,\n        237,  560, 1680,  504,  291,  392,  259,  233,  296,  530,  508,\n        537,  206,  616, 1303,  252,  446,  556,  476,  358,  690,  386,\n        356,  390,  225,  290,  562,  920,  419,  431,  340,  996,  472,\n        735,  442,  327,  416,  921,  267,  619, 1603,  721,  667,  923,\n        265,  669,  373,  384,  417, 1333,  534,  646,  643,  785,  618,\n        497,  420, 1676,  565,  473,  532, 1075,  331,  691,  684,  351,\n        715,  312,  620,  823,  423,  734,  536,  526, 1162,  298,  324,\n        432,  436,  677,  342,  550,  607, 2340,  466,  647,  686,  844,\n        429,  743,  367,  411,  775,  463,  345,  572,  727,  482,  311,\n        905,  462, 1059, 1187,  380,  978], dtype=int64)"
     },
     "metadata": {},
     "output_type": "display_data"
    },
    {
     "data": {
      "text/plain": "'RV_O_067_R_KR_SK.CSV'"
     },
     "metadata": {},
     "output_type": "display_data"
    },
    {
     "data": {
      "text/plain": "  Kód štátu          Názov štátu Kód oblasti Kód kraja      Názov oblasti  \\\n0       SK0  Slovenská republika        SK01     SK010  Bratislavský kraj   \n1       SK0  Slovenská republika        SK01     SK010  Bratislavský kraj   \n2       SK0  Slovenská republika        SK01     SK010  Bratislavský kraj   \n3       SK0  Slovenská republika        SK01     SK010  Bratislavský kraj   \n4       SK0  Slovenská republika        SK01     SK010  Bratislavský kraj   \n\n         Názov kraja  Súčasná ekonomická aktivita  \\\n0  Bratislavský kraj  pracujúci (okrem dôchodcov)   \n1  Bratislavský kraj  pracujúci (okrem dôchodcov)   \n2  Bratislavský kraj  pracujúci (okrem dôchodcov)   \n3  Bratislavský kraj  pracujúci (okrem dôchodcov)   \n4  Bratislavský kraj  pracujúci (okrem dôchodcov)   \n\n  Odvetvie ekonomickej činnosti​ (NACE - sekcie) Zamestnanie (ISCO - triedy)  \\\n0                                      nezistené                   nezistené   \n1                                      nezistené                   nezistené   \n2                                      nezistené                   nezistené   \n3                                      nezistené                   nezistené   \n4                                      nezistené                   nezistené   \n\n                                           Vzdelanie  abs.  \n0                                          nezistené  1120  \n1     základné vzdelanie - 1. stupeň základnej školy    51  \n2     základné vzdelanie - 2. stupeň základnej školy   257  \n3  stredné odborné (učňovské) vzdelanie bez matur...     4  \n4  stredné odborné (učňovské) vzdelanie bez matur...    76  ",
      "text/html": "<div>\n<style scoped>\n    .dataframe tbody tr th:only-of-type {\n        vertical-align: middle;\n    }\n\n    .dataframe tbody tr th {\n        vertical-align: top;\n    }\n\n    .dataframe thead th {\n        text-align: right;\n    }\n</style>\n<table border=\"1\" class=\"dataframe\">\n  <thead>\n    <tr style=\"text-align: right;\">\n      <th></th>\n      <th>Kód štátu</th>\n      <th>Názov štátu</th>\n      <th>Kód oblasti</th>\n      <th>Kód kraja</th>\n      <th>Názov oblasti</th>\n      <th>Názov kraja</th>\n      <th>Súčasná ekonomická aktivita</th>\n      <th>Odvetvie ekonomickej činnosti​ (NACE - sekcie)</th>\n      <th>Zamestnanie (ISCO - triedy)</th>\n      <th>Vzdelanie</th>\n      <th>abs.</th>\n    </tr>\n  </thead>\n  <tbody>\n    <tr>\n      <th>0</th>\n      <td>SK0</td>\n      <td>Slovenská republika</td>\n      <td>SK01</td>\n      <td>SK010</td>\n      <td>Bratislavský kraj</td>\n      <td>Bratislavský kraj</td>\n      <td>pracujúci (okrem dôchodcov)</td>\n      <td>nezistené</td>\n      <td>nezistené</td>\n      <td>nezistené</td>\n      <td>1120</td>\n    </tr>\n    <tr>\n      <th>1</th>\n      <td>SK0</td>\n      <td>Slovenská republika</td>\n      <td>SK01</td>\n      <td>SK010</td>\n      <td>Bratislavský kraj</td>\n      <td>Bratislavský kraj</td>\n      <td>pracujúci (okrem dôchodcov)</td>\n      <td>nezistené</td>\n      <td>nezistené</td>\n      <td>základné vzdelanie - 1. stupeň základnej školy</td>\n      <td>51</td>\n    </tr>\n    <tr>\n      <th>2</th>\n      <td>SK0</td>\n      <td>Slovenská republika</td>\n      <td>SK01</td>\n      <td>SK010</td>\n      <td>Bratislavský kraj</td>\n      <td>Bratislavský kraj</td>\n      <td>pracujúci (okrem dôchodcov)</td>\n      <td>nezistené</td>\n      <td>nezistené</td>\n      <td>základné vzdelanie - 2. stupeň základnej školy</td>\n      <td>257</td>\n    </tr>\n    <tr>\n      <th>3</th>\n      <td>SK0</td>\n      <td>Slovenská republika</td>\n      <td>SK01</td>\n      <td>SK010</td>\n      <td>Bratislavský kraj</td>\n      <td>Bratislavský kraj</td>\n      <td>pracujúci (okrem dôchodcov)</td>\n      <td>nezistené</td>\n      <td>nezistené</td>\n      <td>stredné odborné (učňovské) vzdelanie bez matur...</td>\n      <td>4</td>\n    </tr>\n    <tr>\n      <th>4</th>\n      <td>SK0</td>\n      <td>Slovenská republika</td>\n      <td>SK01</td>\n      <td>SK010</td>\n      <td>Bratislavský kraj</td>\n      <td>Bratislavský kraj</td>\n      <td>pracujúci (okrem dôchodcov)</td>\n      <td>nezistené</td>\n      <td>nezistené</td>\n      <td>stredné odborné (učňovské) vzdelanie bez matur...</td>\n      <td>76</td>\n    </tr>\n  </tbody>\n</table>\n</div>"
     },
     "metadata": {},
     "output_type": "display_data"
    },
    {
     "data": {
      "text/plain": "'Kód štátu'"
     },
     "metadata": {},
     "output_type": "display_data"
    },
    {
     "data": {
      "text/plain": "array(['SK0'], dtype=object)"
     },
     "metadata": {},
     "output_type": "display_data"
    },
    {
     "data": {
      "text/plain": "'Názov štátu'"
     },
     "metadata": {},
     "output_type": "display_data"
    },
    {
     "data": {
      "text/plain": "array(['Slovenská republika'], dtype=object)"
     },
     "metadata": {},
     "output_type": "display_data"
    },
    {
     "data": {
      "text/plain": "'Kód oblasti'"
     },
     "metadata": {},
     "output_type": "display_data"
    },
    {
     "data": {
      "text/plain": "array(['SK01', 'SK02', 'SK03', 'SK04'], dtype=object)"
     },
     "metadata": {},
     "output_type": "display_data"
    },
    {
     "data": {
      "text/plain": "'Kód kraja'"
     },
     "metadata": {},
     "output_type": "display_data"
    },
    {
     "data": {
      "text/plain": "array(['SK010', 'SK021', 'SK022', 'SK023', 'SK031', 'SK032', 'SK041',\n       'SK042'], dtype=object)"
     },
     "metadata": {},
     "output_type": "display_data"
    },
    {
     "data": {
      "text/plain": "'Názov oblasti'"
     },
     "metadata": {},
     "output_type": "display_data"
    },
    {
     "data": {
      "text/plain": "array(['Bratislavský kraj', 'Západné Slovensko', 'Stredné Slovensko',\n       'Východné Slovensko'], dtype=object)"
     },
     "metadata": {},
     "output_type": "display_data"
    },
    {
     "data": {
      "text/plain": "'Názov kraja'"
     },
     "metadata": {},
     "output_type": "display_data"
    },
    {
     "data": {
      "text/plain": "array(['Bratislavský kraj', 'Trnavský kraj', 'Trenčiansky kraj',\n       'Nitriansky kraj', 'Žilinský kraj', 'Banskobystrický kraj',\n       'Prešovský kraj', 'Košický kraj'], dtype=object)"
     },
     "metadata": {},
     "output_type": "display_data"
    },
    {
     "data": {
      "text/plain": "'Súčasná ekonomická aktivita'"
     },
     "metadata": {},
     "output_type": "display_data"
    },
    {
     "data": {
      "text/plain": "array(['pracujúci (okrem dôchodcov)', 'pracujúci dôchodca',\n       'osoba na materskej dovolenke', 'osoba na rodičovskej dovolenke'],\n      dtype=object)"
     },
     "metadata": {},
     "output_type": "display_data"
    },
    {
     "data": {
      "text/plain": "'Odvetvie ekonomickej činnosti\\u200b (NACE - sekcie)'"
     },
     "metadata": {},
     "output_type": "display_data"
    },
    {
     "data": {
      "text/plain": "array(['nezistené', 'Poľnohospodárstvo, lesníctvo a rybolov',\n       'Ťažba a dobývanie', 'Priemyselná výroba',\n       'Dodávka elektriny, plynu, pary a studeného vzduchu',\n       'Dodávka vody; čistenie a odvod odpadových vôd, odpady a služby odstraňovania odpadov',\n       'Stavebníctvo',\n       'Veľkoobchod a maloobchod; oprava motorových vozidiel a motocyklov',\n       'Doprava a skladovanie', 'Ubytovacie a stravovacie služby',\n       'Informácie a komunikácia', 'Finančné a poisťovacie činnosti',\n       'Činnosti v oblasti nehnuteľností',\n       'Odborné, vedecké a technické činnosti',\n       'Administratívne a podporné služby',\n       'Verejná správa a obrana; povinné sociálne zabezpečenie',\n       'Vzdelávanie', 'Zdravotníctvo a sociálna pomoc',\n       'Umenie, zábava a rekreácia', 'Ostatné činnosti',\n       'Činnosti domácností ako zamestnávateľov; nediferencované činnosti v domácnostiach produkujúce tovary a služby na vlastné použitie',\n       'Činnosti extrateritoriálnych organizácií a združení'],\n      dtype=object)"
     },
     "metadata": {},
     "output_type": "display_data"
    },
    {
     "data": {
      "text/plain": "'Zamestnanie (ISCO - triedy)'"
     },
     "metadata": {},
     "output_type": "display_data"
    },
    {
     "data": {
      "text/plain": "array(['nezistené', 'Dôstojníci ozbrojených síl',\n       'Poddôstojníci ozbrojených síl', 'Ostatné ozbrojené sily',\n       'Zákonodarcovia, ústavní činitelia, vysokí štátni úradníci a najvyšší predstavitelia podnikov a organizácií',\n       'Riadiaci pracovníci (manažéri)  administratívnych, podporných a obchodných  činností',\n       'Riadiaci pracovníci (manažéri) vo výrobe a v špecializovaných službách',\n       'Riadiaci pracovníci (manažéri) v hotelových, reštauračných, obchodných a v ostatných službách',\n       'Špecialisti v oblasti vedy a techniky',\n       'Špecialisti v zdravotníctve',\n       'Učitelia a odborní pedagogickí pracovníci',\n       'Špecialisti administratívnych, podporných a obchodných činností',\n       'Špecialisti v oblasti informačných a komunikačných technológií',\n       'Špecialisti v oblasti práva, sociálnych vecí a kultúry',\n       'Technici a odborní pracovníci v oblasti vedy a techniky',\n       'Odborní pracovníci v zdravotníctve',\n       'Odborní pracovníci administratívnych, podporných a obchodných činností',\n       'Odborní pracovníci v oblasti práva, sociálnych vecí a kultúry a podobní pracovníci',\n       'Technici v oblasti informačných a komunikačných technológií',\n       'Všeobecní administratívni pracovníci a zapisovatelia',\n       'Administratívni pracovníci v zákazníckych službách',\n       'Administratívni pracovníci na záznam číselných a skladových údajov',\n       'Ostatní pomocní administratívni pracovníci',\n       'Pracovníci v osobných službách', 'Predavači',\n       'Pracovníci v oblasti osobnej starostlivosti',\n       'Pracovníci verejnej ochrany a bezpečnostných služieb',\n       'Kvalifikovaní pracovníci v poľnohospodárstve (trhovo orientovaní)',\n       'Kvalifikovaní pracovníci v lesníctve, rybárstve a poľovníctve (trhovo orientovaní)',\n       'Farmári, rybári, poľovníci a zberači úrody (samozásobovatelia)',\n       'Kvalifikovaní stavební robotníci a remeselníci okrem elektrikárov',\n       'Kvalifikovaní robotníci v hutníctve, strojárstve a podobní robotníci',\n       'Umeleckí a ruční remeselníci a tlačiari',\n       'Elektrikári a elektronici',\n       'Spracovatelia a výrobcovia potravinárskych výrobkov, výrobkov z dreva a odevov',\n       'Operátori stacionárnych strojov a zariadení',\n       'Montážni robotníci',\n       'Vodiči a obsluha pojazdných strojných zariadení',\n       'Upratovači a pomocníci',\n       'Pomocní pracovníci v poľnohospodárstve, lesníctve a rybárstve',\n       'Pomocní pracovníci v ťažbe, stavebníctve, výrobe a doprave',\n       'Pomocní pracovníci pri príprave jedla',\n       'Pouliční predavači a pomocní pracovníci v podobných  službách',\n       'Pracovníci pri likvidácii odpadu a ostatní nekvalifikovaní pracovníci',\n       'neaplikovateľné'], dtype=object)"
     },
     "metadata": {},
     "output_type": "display_data"
    },
    {
     "data": {
      "text/plain": "'Vzdelanie'"
     },
     "metadata": {},
     "output_type": "display_data"
    },
    {
     "data": {
      "text/plain": "array(['nezistené', 'základné vzdelanie - 1. stupeň základnej školy',\n       'základné vzdelanie - 2. stupeň základnej školy',\n       'stredné odborné (učňovské) vzdelanie bez maturity (bližšie neuvedené)',\n       'stredné odborné (učňovské) vzdelanie bez maturity a bez výučného listu (zaškolenie, zaučenie)',\n       'stredné odborné (učňovské) vzdelanie bez maturity s výučným listom',\n       'stredné odborné (učňovské) vzdelanie bez maturity s vysvedčením o záverečnej skúške',\n       'úplné stredné vzdelanie s maturitou (bližšie neuvedené)',\n       'úplné stredné vzdelanie s maturitou odborné (učňovské) s výučným listom',\n       'úplné stredné vzdelanie s maturitou odborné',\n       'úplné stredné vzdelanie s maturitou všeobecné',\n       'vyššie odborné vzdelanie nadstavbové (maturita absolventov učebných odborov stredných odborných škôl)',\n       'vyššie odborné vzdelanie pomaturitné (pomaturitné kvalifikačné)',\n       'vyššie odborné vzdelanie vyššie odborné (absolventská skúška, absolventský diplom)',\n       'vysokoškolské vzdelanie - 1. stupeň (Bc.)',\n       'vysokoškolské vzdelanie - 2. stupeň (Ing.; Mgr.; MUDr.; a i.)',\n       'vysokoškolské vzdelanie - 3. stupeň (PhD.; a i.)',\n       'bez školského vzdelania – osoby vo veku 15 rokov a viac',\n       'vysokoškolské vzdelanie (bližšie neuvedené)',\n       'základné vzdelanie (bližšie neuvedené)',\n       'vyššie odborné vzdelanie (bližšie neuvedené)'], dtype=object)"
     },
     "metadata": {},
     "output_type": "display_data"
    },
    {
     "data": {
      "text/plain": "'abs.'"
     },
     "metadata": {},
     "output_type": "display_data"
    },
    {
     "data": {
      "text/plain": "array([1120,   51,  257, ..., 1352, 1298,  678], dtype=int64)"
     },
     "metadata": {},
     "output_type": "display_data"
    },
    {
     "data": {
      "text/plain": "'RV_O_067_R_OL_SK.CSV'"
     },
     "metadata": {},
     "output_type": "display_data"
    },
    {
     "data": {
      "text/plain": "  Kód štátu Kód oblasti          Názov štátu      Názov oblasti  \\\n0       SK0        SK01  Slovenská republika  Bratislavský kraj   \n1       SK0        SK01  Slovenská republika  Bratislavský kraj   \n2       SK0        SK01  Slovenská republika  Bratislavský kraj   \n3       SK0        SK01  Slovenská republika  Bratislavský kraj   \n4       SK0        SK01  Slovenská republika  Bratislavský kraj   \n\n   Súčasná ekonomická aktivita Odvetvie ekonomickej činnosti​ (NACE - sekcie)  \\\n0  pracujúci (okrem dôchodcov)                                      nezistené   \n1  pracujúci (okrem dôchodcov)                                      nezistené   \n2  pracujúci (okrem dôchodcov)                                      nezistené   \n3  pracujúci (okrem dôchodcov)                                      nezistené   \n4  pracujúci (okrem dôchodcov)                                      nezistené   \n\n  Zamestnanie (ISCO - triedy)  \\\n0                   nezistené   \n1                   nezistené   \n2                   nezistené   \n3                   nezistené   \n4                   nezistené   \n\n                                           Vzdelanie  abs.  \n0                                          nezistené  1120  \n1     základné vzdelanie - 1. stupeň základnej školy    51  \n2     základné vzdelanie - 2. stupeň základnej školy   257  \n3  stredné odborné (učňovské) vzdelanie bez matur...     4  \n4  stredné odborné (učňovské) vzdelanie bez matur...    76  ",
      "text/html": "<div>\n<style scoped>\n    .dataframe tbody tr th:only-of-type {\n        vertical-align: middle;\n    }\n\n    .dataframe tbody tr th {\n        vertical-align: top;\n    }\n\n    .dataframe thead th {\n        text-align: right;\n    }\n</style>\n<table border=\"1\" class=\"dataframe\">\n  <thead>\n    <tr style=\"text-align: right;\">\n      <th></th>\n      <th>Kód štátu</th>\n      <th>Kód oblasti</th>\n      <th>Názov štátu</th>\n      <th>Názov oblasti</th>\n      <th>Súčasná ekonomická aktivita</th>\n      <th>Odvetvie ekonomickej činnosti​ (NACE - sekcie)</th>\n      <th>Zamestnanie (ISCO - triedy)</th>\n      <th>Vzdelanie</th>\n      <th>abs.</th>\n    </tr>\n  </thead>\n  <tbody>\n    <tr>\n      <th>0</th>\n      <td>SK0</td>\n      <td>SK01</td>\n      <td>Slovenská republika</td>\n      <td>Bratislavský kraj</td>\n      <td>pracujúci (okrem dôchodcov)</td>\n      <td>nezistené</td>\n      <td>nezistené</td>\n      <td>nezistené</td>\n      <td>1120</td>\n    </tr>\n    <tr>\n      <th>1</th>\n      <td>SK0</td>\n      <td>SK01</td>\n      <td>Slovenská republika</td>\n      <td>Bratislavský kraj</td>\n      <td>pracujúci (okrem dôchodcov)</td>\n      <td>nezistené</td>\n      <td>nezistené</td>\n      <td>základné vzdelanie - 1. stupeň základnej školy</td>\n      <td>51</td>\n    </tr>\n    <tr>\n      <th>2</th>\n      <td>SK0</td>\n      <td>SK01</td>\n      <td>Slovenská republika</td>\n      <td>Bratislavský kraj</td>\n      <td>pracujúci (okrem dôchodcov)</td>\n      <td>nezistené</td>\n      <td>nezistené</td>\n      <td>základné vzdelanie - 2. stupeň základnej školy</td>\n      <td>257</td>\n    </tr>\n    <tr>\n      <th>3</th>\n      <td>SK0</td>\n      <td>SK01</td>\n      <td>Slovenská republika</td>\n      <td>Bratislavský kraj</td>\n      <td>pracujúci (okrem dôchodcov)</td>\n      <td>nezistené</td>\n      <td>nezistené</td>\n      <td>stredné odborné (učňovské) vzdelanie bez matur...</td>\n      <td>4</td>\n    </tr>\n    <tr>\n      <th>4</th>\n      <td>SK0</td>\n      <td>SK01</td>\n      <td>Slovenská republika</td>\n      <td>Bratislavský kraj</td>\n      <td>pracujúci (okrem dôchodcov)</td>\n      <td>nezistené</td>\n      <td>nezistené</td>\n      <td>stredné odborné (učňovské) vzdelanie bez matur...</td>\n      <td>76</td>\n    </tr>\n  </tbody>\n</table>\n</div>"
     },
     "metadata": {},
     "output_type": "display_data"
    },
    {
     "data": {
      "text/plain": "'Kód štátu'"
     },
     "metadata": {},
     "output_type": "display_data"
    },
    {
     "data": {
      "text/plain": "array(['SK0'], dtype=object)"
     },
     "metadata": {},
     "output_type": "display_data"
    },
    {
     "data": {
      "text/plain": "'Kód oblasti'"
     },
     "metadata": {},
     "output_type": "display_data"
    },
    {
     "data": {
      "text/plain": "array(['SK01', 'SK02', 'SK03', 'SK04'], dtype=object)"
     },
     "metadata": {},
     "output_type": "display_data"
    },
    {
     "data": {
      "text/plain": "'Názov štátu'"
     },
     "metadata": {},
     "output_type": "display_data"
    },
    {
     "data": {
      "text/plain": "array(['Slovenská republika'], dtype=object)"
     },
     "metadata": {},
     "output_type": "display_data"
    },
    {
     "data": {
      "text/plain": "'Názov oblasti'"
     },
     "metadata": {},
     "output_type": "display_data"
    },
    {
     "data": {
      "text/plain": "array(['Bratislavský kraj', 'Západné Slovensko', 'Stredné Slovensko',\n       'Východné Slovensko'], dtype=object)"
     },
     "metadata": {},
     "output_type": "display_data"
    },
    {
     "data": {
      "text/plain": "'Súčasná ekonomická aktivita'"
     },
     "metadata": {},
     "output_type": "display_data"
    },
    {
     "data": {
      "text/plain": "array(['pracujúci (okrem dôchodcov)', 'pracujúci dôchodca',\n       'osoba na materskej dovolenke', 'osoba na rodičovskej dovolenke'],\n      dtype=object)"
     },
     "metadata": {},
     "output_type": "display_data"
    },
    {
     "data": {
      "text/plain": "'Odvetvie ekonomickej činnosti\\u200b (NACE - sekcie)'"
     },
     "metadata": {},
     "output_type": "display_data"
    },
    {
     "data": {
      "text/plain": "array(['nezistené', 'Poľnohospodárstvo, lesníctvo a rybolov',\n       'Ťažba a dobývanie', 'Priemyselná výroba',\n       'Dodávka elektriny, plynu, pary a studeného vzduchu',\n       'Dodávka vody; čistenie a odvod odpadových vôd, odpady a služby odstraňovania odpadov',\n       'Stavebníctvo',\n       'Veľkoobchod a maloobchod; oprava motorových vozidiel a motocyklov',\n       'Doprava a skladovanie', 'Ubytovacie a stravovacie služby',\n       'Informácie a komunikácia', 'Finančné a poisťovacie činnosti',\n       'Činnosti v oblasti nehnuteľností',\n       'Odborné, vedecké a technické činnosti',\n       'Administratívne a podporné služby',\n       'Verejná správa a obrana; povinné sociálne zabezpečenie',\n       'Vzdelávanie', 'Zdravotníctvo a sociálna pomoc',\n       'Umenie, zábava a rekreácia', 'Ostatné činnosti',\n       'Činnosti domácností ako zamestnávateľov; nediferencované činnosti v domácnostiach produkujúce tovary a služby na vlastné použitie',\n       'Činnosti extrateritoriálnych organizácií a združení'],\n      dtype=object)"
     },
     "metadata": {},
     "output_type": "display_data"
    },
    {
     "data": {
      "text/plain": "'Zamestnanie (ISCO - triedy)'"
     },
     "metadata": {},
     "output_type": "display_data"
    },
    {
     "data": {
      "text/plain": "array(['nezistené', 'Dôstojníci ozbrojených síl',\n       'Poddôstojníci ozbrojených síl', 'Ostatné ozbrojené sily',\n       'Zákonodarcovia, ústavní činitelia, vysokí štátni úradníci a najvyšší predstavitelia podnikov a organizácií',\n       'Riadiaci pracovníci (manažéri)  administratívnych, podporných a obchodných  činností',\n       'Riadiaci pracovníci (manažéri) vo výrobe a v špecializovaných službách',\n       'Riadiaci pracovníci (manažéri) v hotelových, reštauračných, obchodných a v ostatných službách',\n       'Špecialisti v oblasti vedy a techniky',\n       'Špecialisti v zdravotníctve',\n       'Učitelia a odborní pedagogickí pracovníci',\n       'Špecialisti administratívnych, podporných a obchodných činností',\n       'Špecialisti v oblasti informačných a komunikačných technológií',\n       'Špecialisti v oblasti práva, sociálnych vecí a kultúry',\n       'Technici a odborní pracovníci v oblasti vedy a techniky',\n       'Odborní pracovníci v zdravotníctve',\n       'Odborní pracovníci administratívnych, podporných a obchodných činností',\n       'Odborní pracovníci v oblasti práva, sociálnych vecí a kultúry a podobní pracovníci',\n       'Technici v oblasti informačných a komunikačných technológií',\n       'Všeobecní administratívni pracovníci a zapisovatelia',\n       'Administratívni pracovníci v zákazníckych službách',\n       'Administratívni pracovníci na záznam číselných a skladových údajov',\n       'Ostatní pomocní administratívni pracovníci',\n       'Pracovníci v osobných službách', 'Predavači',\n       'Pracovníci v oblasti osobnej starostlivosti',\n       'Pracovníci verejnej ochrany a bezpečnostných služieb',\n       'Kvalifikovaní pracovníci v poľnohospodárstve (trhovo orientovaní)',\n       'Kvalifikovaní pracovníci v lesníctve, rybárstve a poľovníctve (trhovo orientovaní)',\n       'Farmári, rybári, poľovníci a zberači úrody (samozásobovatelia)',\n       'Kvalifikovaní stavební robotníci a remeselníci okrem elektrikárov',\n       'Kvalifikovaní robotníci v hutníctve, strojárstve a podobní robotníci',\n       'Umeleckí a ruční remeselníci a tlačiari',\n       'Elektrikári a elektronici',\n       'Spracovatelia a výrobcovia potravinárskych výrobkov, výrobkov z dreva a odevov',\n       'Operátori stacionárnych strojov a zariadení',\n       'Montážni robotníci',\n       'Vodiči a obsluha pojazdných strojných zariadení',\n       'Upratovači a pomocníci',\n       'Pomocní pracovníci v poľnohospodárstve, lesníctve a rybárstve',\n       'Pomocní pracovníci v ťažbe, stavebníctve, výrobe a doprave',\n       'Pomocní pracovníci pri príprave jedla',\n       'Pouliční predavači a pomocní pracovníci v podobných  službách',\n       'Pracovníci pri likvidácii odpadu a ostatní nekvalifikovaní pracovníci',\n       'neaplikovateľné'], dtype=object)"
     },
     "metadata": {},
     "output_type": "display_data"
    },
    {
     "data": {
      "text/plain": "'Vzdelanie'"
     },
     "metadata": {},
     "output_type": "display_data"
    },
    {
     "data": {
      "text/plain": "array(['nezistené', 'základné vzdelanie - 1. stupeň základnej školy',\n       'základné vzdelanie - 2. stupeň základnej školy',\n       'stredné odborné (učňovské) vzdelanie bez maturity (bližšie neuvedené)',\n       'stredné odborné (učňovské) vzdelanie bez maturity a bez výučného listu (zaškolenie, zaučenie)',\n       'stredné odborné (učňovské) vzdelanie bez maturity s výučným listom',\n       'stredné odborné (učňovské) vzdelanie bez maturity s vysvedčením o záverečnej skúške',\n       'úplné stredné vzdelanie s maturitou (bližšie neuvedené)',\n       'úplné stredné vzdelanie s maturitou odborné (učňovské) s výučným listom',\n       'úplné stredné vzdelanie s maturitou odborné',\n       'úplné stredné vzdelanie s maturitou všeobecné',\n       'vyššie odborné vzdelanie nadstavbové (maturita absolventov učebných odborov stredných odborných škôl)',\n       'vyššie odborné vzdelanie pomaturitné (pomaturitné kvalifikačné)',\n       'vyššie odborné vzdelanie vyššie odborné (absolventská skúška, absolventský diplom)',\n       'vysokoškolské vzdelanie - 1. stupeň (Bc.)',\n       'vysokoškolské vzdelanie - 2. stupeň (Ing.; Mgr.; MUDr.; a i.)',\n       'vysokoškolské vzdelanie - 3. stupeň (PhD.; a i.)',\n       'bez školského vzdelania – osoby vo veku 15 rokov a viac',\n       'vysokoškolské vzdelanie (bližšie neuvedené)',\n       'základné vzdelanie (bližšie neuvedené)',\n       'vyššie odborné vzdelanie (bližšie neuvedené)'], dtype=object)"
     },
     "metadata": {},
     "output_type": "display_data"
    },
    {
     "data": {
      "text/plain": "'abs.'"
     },
     "metadata": {},
     "output_type": "display_data"
    },
    {
     "data": {
      "text/plain": "array([1120,   51,  257, ..., 1398,  537,  613], dtype=int64)"
     },
     "metadata": {},
     "output_type": "display_data"
    },
    {
     "data": {
      "text/plain": "'RV_O_067_R_SR_SK.CSV'"
     },
     "metadata": {},
     "output_type": "display_data"
    },
    {
     "data": {
      "text/plain": "  Kód štátu          Názov štátu  Súčasná ekonomická aktivita  \\\n0       SK0  Slovenská republika  pracujúci (okrem dôchodcov)   \n1       SK0  Slovenská republika  pracujúci (okrem dôchodcov)   \n2       SK0  Slovenská republika  pracujúci (okrem dôchodcov)   \n3       SK0  Slovenská republika  pracujúci (okrem dôchodcov)   \n4       SK0  Slovenská republika  pracujúci (okrem dôchodcov)   \n\n  Odvetvie ekonomickej činnosti​ (NACE - sekcie) Zamestnanie (ISCO - triedy)  \\\n0                                      nezistené                   nezistené   \n1                                      nezistené                   nezistené   \n2                                      nezistené                   nezistené   \n3                                      nezistené                   nezistené   \n4                                      nezistené                   nezistené   \n\n                                           Vzdelanie  abs.  \n0                                          nezistené  5642  \n1             základné vzdelanie (bližšie neuvedené)     7  \n2     základné vzdelanie - 1. stupeň základnej školy   702  \n3     základné vzdelanie - 2. stupeň základnej školy  3233  \n4  stredné odborné (učňovské) vzdelanie bez matur...    35  ",
      "text/html": "<div>\n<style scoped>\n    .dataframe tbody tr th:only-of-type {\n        vertical-align: middle;\n    }\n\n    .dataframe tbody tr th {\n        vertical-align: top;\n    }\n\n    .dataframe thead th {\n        text-align: right;\n    }\n</style>\n<table border=\"1\" class=\"dataframe\">\n  <thead>\n    <tr style=\"text-align: right;\">\n      <th></th>\n      <th>Kód štátu</th>\n      <th>Názov štátu</th>\n      <th>Súčasná ekonomická aktivita</th>\n      <th>Odvetvie ekonomickej činnosti​ (NACE - sekcie)</th>\n      <th>Zamestnanie (ISCO - triedy)</th>\n      <th>Vzdelanie</th>\n      <th>abs.</th>\n    </tr>\n  </thead>\n  <tbody>\n    <tr>\n      <th>0</th>\n      <td>SK0</td>\n      <td>Slovenská republika</td>\n      <td>pracujúci (okrem dôchodcov)</td>\n      <td>nezistené</td>\n      <td>nezistené</td>\n      <td>nezistené</td>\n      <td>5642</td>\n    </tr>\n    <tr>\n      <th>1</th>\n      <td>SK0</td>\n      <td>Slovenská republika</td>\n      <td>pracujúci (okrem dôchodcov)</td>\n      <td>nezistené</td>\n      <td>nezistené</td>\n      <td>základné vzdelanie (bližšie neuvedené)</td>\n      <td>7</td>\n    </tr>\n    <tr>\n      <th>2</th>\n      <td>SK0</td>\n      <td>Slovenská republika</td>\n      <td>pracujúci (okrem dôchodcov)</td>\n      <td>nezistené</td>\n      <td>nezistené</td>\n      <td>základné vzdelanie - 1. stupeň základnej školy</td>\n      <td>702</td>\n    </tr>\n    <tr>\n      <th>3</th>\n      <td>SK0</td>\n      <td>Slovenská republika</td>\n      <td>pracujúci (okrem dôchodcov)</td>\n      <td>nezistené</td>\n      <td>nezistené</td>\n      <td>základné vzdelanie - 2. stupeň základnej školy</td>\n      <td>3233</td>\n    </tr>\n    <tr>\n      <th>4</th>\n      <td>SK0</td>\n      <td>Slovenská republika</td>\n      <td>pracujúci (okrem dôchodcov)</td>\n      <td>nezistené</td>\n      <td>nezistené</td>\n      <td>stredné odborné (učňovské) vzdelanie bez matur...</td>\n      <td>35</td>\n    </tr>\n  </tbody>\n</table>\n</div>"
     },
     "metadata": {},
     "output_type": "display_data"
    },
    {
     "data": {
      "text/plain": "'Kód štátu'"
     },
     "metadata": {},
     "output_type": "display_data"
    },
    {
     "data": {
      "text/plain": "array(['SK0'], dtype=object)"
     },
     "metadata": {},
     "output_type": "display_data"
    },
    {
     "data": {
      "text/plain": "'Názov štátu'"
     },
     "metadata": {},
     "output_type": "display_data"
    },
    {
     "data": {
      "text/plain": "array(['Slovenská republika'], dtype=object)"
     },
     "metadata": {},
     "output_type": "display_data"
    },
    {
     "data": {
      "text/plain": "'Súčasná ekonomická aktivita'"
     },
     "metadata": {},
     "output_type": "display_data"
    },
    {
     "data": {
      "text/plain": "array(['pracujúci (okrem dôchodcov)', 'pracujúci dôchodca',\n       'osoba na materskej dovolenke', 'osoba na rodičovskej dovolenke'],\n      dtype=object)"
     },
     "metadata": {},
     "output_type": "display_data"
    },
    {
     "data": {
      "text/plain": "'Odvetvie ekonomickej činnosti\\u200b (NACE - sekcie)'"
     },
     "metadata": {},
     "output_type": "display_data"
    },
    {
     "data": {
      "text/plain": "array(['nezistené', 'Poľnohospodárstvo, lesníctvo a rybolov',\n       'Ťažba a dobývanie', 'Priemyselná výroba',\n       'Dodávka elektriny, plynu, pary a studeného vzduchu',\n       'Dodávka vody; čistenie a odvod odpadových vôd, odpady a služby odstraňovania odpadov',\n       'Stavebníctvo',\n       'Veľkoobchod a maloobchod; oprava motorových vozidiel a motocyklov',\n       'Doprava a skladovanie', 'Ubytovacie a stravovacie služby',\n       'Informácie a komunikácia', 'Finančné a poisťovacie činnosti',\n       'Činnosti v oblasti nehnuteľností',\n       'Odborné, vedecké a technické činnosti',\n       'Administratívne a podporné služby',\n       'Verejná správa a obrana; povinné sociálne zabezpečenie',\n       'Vzdelávanie', 'Zdravotníctvo a sociálna pomoc',\n       'Umenie, zábava a rekreácia', 'Ostatné činnosti',\n       'Činnosti domácností ako zamestnávateľov; nediferencované činnosti v domácnostiach produkujúce tovary a služby na vlastné použitie',\n       'Činnosti extrateritoriálnych organizácií a združení'],\n      dtype=object)"
     },
     "metadata": {},
     "output_type": "display_data"
    },
    {
     "data": {
      "text/plain": "'Zamestnanie (ISCO - triedy)'"
     },
     "metadata": {},
     "output_type": "display_data"
    },
    {
     "data": {
      "text/plain": "array(['nezistené', 'Dôstojníci ozbrojených síl',\n       'Poddôstojníci ozbrojených síl', 'Ostatné ozbrojené sily',\n       'Zákonodarcovia, ústavní činitelia, vysokí štátni úradníci a najvyšší predstavitelia podnikov a organizácií',\n       'Riadiaci pracovníci (manažéri)  administratívnych, podporných a obchodných  činností',\n       'Riadiaci pracovníci (manažéri) vo výrobe a v špecializovaných službách',\n       'Riadiaci pracovníci (manažéri) v hotelových, reštauračných, obchodných a v ostatných službách',\n       'Špecialisti v oblasti vedy a techniky',\n       'Špecialisti v zdravotníctve',\n       'Učitelia a odborní pedagogickí pracovníci',\n       'Špecialisti administratívnych, podporných a obchodných činností',\n       'Špecialisti v oblasti informačných a komunikačných technológií',\n       'Špecialisti v oblasti práva, sociálnych vecí a kultúry',\n       'Technici a odborní pracovníci v oblasti vedy a techniky',\n       'Odborní pracovníci v zdravotníctve',\n       'Odborní pracovníci administratívnych, podporných a obchodných činností',\n       'Odborní pracovníci v oblasti práva, sociálnych vecí a kultúry a podobní pracovníci',\n       'Technici v oblasti informačných a komunikačných technológií',\n       'Všeobecní administratívni pracovníci a zapisovatelia',\n       'Administratívni pracovníci v zákazníckych službách',\n       'Administratívni pracovníci na záznam číselných a skladových údajov',\n       'Ostatní pomocní administratívni pracovníci',\n       'Pracovníci v osobných službách', 'Predavači',\n       'Pracovníci v oblasti osobnej starostlivosti',\n       'Pracovníci verejnej ochrany a bezpečnostných služieb',\n       'Kvalifikovaní pracovníci v poľnohospodárstve (trhovo orientovaní)',\n       'Kvalifikovaní pracovníci v lesníctve, rybárstve a poľovníctve (trhovo orientovaní)',\n       'Farmári, rybári, poľovníci a zberači úrody (samozásobovatelia)',\n       'Kvalifikovaní stavební robotníci a remeselníci okrem elektrikárov',\n       'Kvalifikovaní robotníci v hutníctve, strojárstve a podobní robotníci',\n       'Umeleckí a ruční remeselníci a tlačiari',\n       'Elektrikári a elektronici',\n       'Spracovatelia a výrobcovia potravinárskych výrobkov, výrobkov z dreva a odevov',\n       'Operátori stacionárnych strojov a zariadení',\n       'Montážni robotníci',\n       'Vodiči a obsluha pojazdných strojných zariadení',\n       'Upratovači a pomocníci',\n       'Pomocní pracovníci v poľnohospodárstve, lesníctve a rybárstve',\n       'Pomocní pracovníci v ťažbe, stavebníctve, výrobe a doprave',\n       'Pomocní pracovníci pri príprave jedla',\n       'Pouliční predavači a pomocní pracovníci v podobných  službách',\n       'Pracovníci pri likvidácii odpadu a ostatní nekvalifikovaní pracovníci',\n       'neaplikovateľné'], dtype=object)"
     },
     "metadata": {},
     "output_type": "display_data"
    },
    {
     "data": {
      "text/plain": "'Vzdelanie'"
     },
     "metadata": {},
     "output_type": "display_data"
    },
    {
     "data": {
      "text/plain": "array(['nezistené', 'základné vzdelanie (bližšie neuvedené)',\n       'základné vzdelanie - 1. stupeň základnej školy',\n       'základné vzdelanie - 2. stupeň základnej školy',\n       'stredné odborné (učňovské) vzdelanie bez maturity (bližšie neuvedené)',\n       'stredné odborné (učňovské) vzdelanie bez maturity a bez výučného listu (zaškolenie, zaučenie)',\n       'stredné odborné (učňovské) vzdelanie bez maturity s výučným listom',\n       'stredné odborné (učňovské) vzdelanie bez maturity s vysvedčením o záverečnej skúške',\n       'úplné stredné vzdelanie s maturitou (bližšie neuvedené)',\n       'úplné stredné vzdelanie s maturitou odborné (učňovské) s výučným listom',\n       'úplné stredné vzdelanie s maturitou odborné',\n       'úplné stredné vzdelanie s maturitou všeobecné',\n       'vyššie odborné vzdelanie nadstavbové (maturita absolventov učebných odborov stredných odborných škôl)',\n       'vyššie odborné vzdelanie pomaturitné (pomaturitné kvalifikačné)',\n       'vyššie odborné vzdelanie vyššie odborné (absolventská skúška, absolventský diplom)',\n       'vysokoškolské vzdelanie (bližšie neuvedené)',\n       'vysokoškolské vzdelanie - 1. stupeň (Bc.)',\n       'vysokoškolské vzdelanie - 2. stupeň (Ing.; Mgr.; MUDr.; a i.)',\n       'vysokoškolské vzdelanie - 3. stupeň (PhD.; a i.)',\n       'bez školského vzdelania – osoby vo veku 15 rokov a viac',\n       'vyššie odborné vzdelanie (bližšie neuvedené)'], dtype=object)"
     },
     "metadata": {},
     "output_type": "display_data"
    },
    {
     "data": {
      "text/plain": "'abs.'"
     },
     "metadata": {},
     "output_type": "display_data"
    },
    {
     "data": {
      "text/plain": "array([5642,    7,  702, ...,  553,  303, 1716], dtype=int64)"
     },
     "metadata": {},
     "output_type": "display_data"
    }
   ],
   "source": [
    "path = 'data'\n",
    "ALL_COLUMNS = set()\n",
    "\n",
    "for filepath in os.listdir(path):\n",
    "    df = pd.read_csv(f'data/{filepath}', sep=';')\n",
    "\n",
    "    ALL_COLUMNS.update(df.columns)\n",
    "\n",
    "    display(filepath)\n",
    "    display(df.head(5))\n",
    "\n",
    "    for column in df:\n",
    "        display(column)\n",
    "        display(df[column].unique())"
   ],
   "metadata": {
    "collapsed": false,
    "ExecuteTime": {
     "end_time": "2024-04-17T12:40:20.416572600Z",
     "start_time": "2024-04-17T12:40:15.220383800Z"
    }
   },
   "id": "a7acc079c0dd3f4e"
  },
  {
   "cell_type": "code",
   "execution_count": 3,
   "outputs": [],
   "source": [
    "Slovak_040 = pd.read_csv('data/RV_O_040_R_SR_SK.CSV', sep=';')"
   ],
   "metadata": {
    "collapsed": false,
    "ExecuteTime": {
     "end_time": "2024-04-17T12:40:20.417571700Z",
     "start_time": "2024-04-17T12:40:20.307449900Z"
    }
   },
   "id": "2382acd033294e49"
  },
  {
   "cell_type": "code",
   "execution_count": 4,
   "outputs": [
    {
     "data": {
      "text/plain": "  Kód štátu          Názov štátu Pohlavie Vek  \\\n0       SK0  Slovenská republika      muž   0   \n1       SK0  Slovenská republika      muž   1   \n2       SK0  Slovenská republika      muž   2   \n3       SK0  Slovenská republika      muž   3   \n4       SK0  Slovenská republika      muž   4   \n\n                                           Vzdelanie  \\\n0  bez ukončeného vzdelania – osoby vo veku 0-14 ...   \n1  bez ukončeného vzdelania – osoby vo veku 0-14 ...   \n2  bez ukončeného vzdelania – osoby vo veku 0-14 ...   \n3  bez ukončeného vzdelania – osoby vo veku 0-14 ...   \n4  bez ukončeného vzdelania – osoby vo veku 0-14 ...   \n\n                    Súčasná ekonomická aktivita   abs.  \n0  dieťa do začatia povinnej školskej dochádzky  29036  \n1  dieťa do začatia povinnej školskej dochádzky  30033  \n2  dieťa do začatia povinnej školskej dochádzky  30808  \n3  dieťa do začatia povinnej školskej dochádzky  31100  \n4  dieťa do začatia povinnej školskej dochádzky  30873  ",
      "text/html": "<div>\n<style scoped>\n    .dataframe tbody tr th:only-of-type {\n        vertical-align: middle;\n    }\n\n    .dataframe tbody tr th {\n        vertical-align: top;\n    }\n\n    .dataframe thead th {\n        text-align: right;\n    }\n</style>\n<table border=\"1\" class=\"dataframe\">\n  <thead>\n    <tr style=\"text-align: right;\">\n      <th></th>\n      <th>Kód štátu</th>\n      <th>Názov štátu</th>\n      <th>Pohlavie</th>\n      <th>Vek</th>\n      <th>Vzdelanie</th>\n      <th>Súčasná ekonomická aktivita</th>\n      <th>abs.</th>\n    </tr>\n  </thead>\n  <tbody>\n    <tr>\n      <th>0</th>\n      <td>SK0</td>\n      <td>Slovenská republika</td>\n      <td>muž</td>\n      <td>0</td>\n      <td>bez ukončeného vzdelania – osoby vo veku 0-14 ...</td>\n      <td>dieťa do začatia povinnej školskej dochádzky</td>\n      <td>29036</td>\n    </tr>\n    <tr>\n      <th>1</th>\n      <td>SK0</td>\n      <td>Slovenská republika</td>\n      <td>muž</td>\n      <td>1</td>\n      <td>bez ukončeného vzdelania – osoby vo veku 0-14 ...</td>\n      <td>dieťa do začatia povinnej školskej dochádzky</td>\n      <td>30033</td>\n    </tr>\n    <tr>\n      <th>2</th>\n      <td>SK0</td>\n      <td>Slovenská republika</td>\n      <td>muž</td>\n      <td>2</td>\n      <td>bez ukončeného vzdelania – osoby vo veku 0-14 ...</td>\n      <td>dieťa do začatia povinnej školskej dochádzky</td>\n      <td>30808</td>\n    </tr>\n    <tr>\n      <th>3</th>\n      <td>SK0</td>\n      <td>Slovenská republika</td>\n      <td>muž</td>\n      <td>3</td>\n      <td>bez ukončeného vzdelania – osoby vo veku 0-14 ...</td>\n      <td>dieťa do začatia povinnej školskej dochádzky</td>\n      <td>31100</td>\n    </tr>\n    <tr>\n      <th>4</th>\n      <td>SK0</td>\n      <td>Slovenská republika</td>\n      <td>muž</td>\n      <td>4</td>\n      <td>bez ukončeného vzdelania – osoby vo veku 0-14 ...</td>\n      <td>dieťa do začatia povinnej školskej dochádzky</td>\n      <td>30873</td>\n    </tr>\n  </tbody>\n</table>\n</div>"
     },
     "execution_count": 4,
     "metadata": {},
     "output_type": "execute_result"
    }
   ],
   "source": [
    "Slovak_040.head()"
   ],
   "metadata": {
    "collapsed": false,
    "ExecuteTime": {
     "end_time": "2024-04-17T12:40:20.579090200Z",
     "start_time": "2024-04-17T12:40:20.340469300Z"
    }
   },
   "id": "5ccd3a113e39c9f1"
  },
  {
   "cell_type": "code",
   "execution_count": 5,
   "outputs": [
    {
     "data": {
      "text/plain": "      State code           State name Pohlavie              Vek  \\\n0            SK0  Slovenská republika      muž                0   \n1            SK0  Slovenská republika      muž                1   \n2            SK0  Slovenská republika      muž                2   \n3            SK0  Slovenská republika      muž                3   \n4            SK0  Slovenská republika      muž                4   \n...          ...                  ...      ...              ...   \n15962        SK0  Slovenská republika     žena  90 a viac rokov   \n15963        SK0  Slovenská republika     žena  90 a viac rokov   \n15964        SK0  Slovenská republika     žena  90 a viac rokov   \n15965        SK0  Slovenská republika     žena  90 a viac rokov   \n15966        SK0  Slovenská republika     žena  90 a viac rokov   \n\n                                               Vzdelanie  \\\n0      bez ukončeného vzdelania – osoby vo veku 0-14 ...   \n1      bez ukončeného vzdelania – osoby vo veku 0-14 ...   \n2      bez ukončeného vzdelania – osoby vo veku 0-14 ...   \n3      bez ukončeného vzdelania – osoby vo veku 0-14 ...   \n4      bez ukončeného vzdelania – osoby vo veku 0-14 ...   \n...                                                  ...   \n15962  vysokoškolské vzdelanie - 2. stupeň (Ing.; Mgr...   \n15963  vysokoškolské vzdelanie - 2. stupeň (Ing.; Mgr...   \n15964   vysokoškolské vzdelanie - 3. stupeň (PhD.; a i.)   \n15965   vysokoškolské vzdelanie - 3. stupeň (PhD.; a i.)   \n15966  bez školského vzdelania – osoby vo veku 15 rok...   \n\n                        Súčasná ekonomická aktivita   abs.  \n0      dieťa do začatia povinnej školskej dochádzky  29036  \n1      dieťa do začatia povinnej školskej dochádzky  30033  \n2      dieťa do začatia povinnej školskej dochádzky  30808  \n3      dieťa do začatia povinnej školskej dochádzky  31100  \n4      dieťa do začatia povinnej školskej dochádzky  30873  \n...                                             ...    ...  \n15962                                      dôchodca    434  \n15963                 príjemca kapitálových príjmov      1  \n15964                            pracujúci dôchodca      3  \n15965                                      dôchodca     68  \n15966                                      dôchodca     67  \n\n[15967 rows x 7 columns]",
      "text/html": "<div>\n<style scoped>\n    .dataframe tbody tr th:only-of-type {\n        vertical-align: middle;\n    }\n\n    .dataframe tbody tr th {\n        vertical-align: top;\n    }\n\n    .dataframe thead th {\n        text-align: right;\n    }\n</style>\n<table border=\"1\" class=\"dataframe\">\n  <thead>\n    <tr style=\"text-align: right;\">\n      <th></th>\n      <th>State code</th>\n      <th>State name</th>\n      <th>Pohlavie</th>\n      <th>Vek</th>\n      <th>Vzdelanie</th>\n      <th>Súčasná ekonomická aktivita</th>\n      <th>abs.</th>\n    </tr>\n  </thead>\n  <tbody>\n    <tr>\n      <th>0</th>\n      <td>SK0</td>\n      <td>Slovenská republika</td>\n      <td>muž</td>\n      <td>0</td>\n      <td>bez ukončeného vzdelania – osoby vo veku 0-14 ...</td>\n      <td>dieťa do začatia povinnej školskej dochádzky</td>\n      <td>29036</td>\n    </tr>\n    <tr>\n      <th>1</th>\n      <td>SK0</td>\n      <td>Slovenská republika</td>\n      <td>muž</td>\n      <td>1</td>\n      <td>bez ukončeného vzdelania – osoby vo veku 0-14 ...</td>\n      <td>dieťa do začatia povinnej školskej dochádzky</td>\n      <td>30033</td>\n    </tr>\n    <tr>\n      <th>2</th>\n      <td>SK0</td>\n      <td>Slovenská republika</td>\n      <td>muž</td>\n      <td>2</td>\n      <td>bez ukončeného vzdelania – osoby vo veku 0-14 ...</td>\n      <td>dieťa do začatia povinnej školskej dochádzky</td>\n      <td>30808</td>\n    </tr>\n    <tr>\n      <th>3</th>\n      <td>SK0</td>\n      <td>Slovenská republika</td>\n      <td>muž</td>\n      <td>3</td>\n      <td>bez ukončeného vzdelania – osoby vo veku 0-14 ...</td>\n      <td>dieťa do začatia povinnej školskej dochádzky</td>\n      <td>31100</td>\n    </tr>\n    <tr>\n      <th>4</th>\n      <td>SK0</td>\n      <td>Slovenská republika</td>\n      <td>muž</td>\n      <td>4</td>\n      <td>bez ukončeného vzdelania – osoby vo veku 0-14 ...</td>\n      <td>dieťa do začatia povinnej školskej dochádzky</td>\n      <td>30873</td>\n    </tr>\n    <tr>\n      <th>...</th>\n      <td>...</td>\n      <td>...</td>\n      <td>...</td>\n      <td>...</td>\n      <td>...</td>\n      <td>...</td>\n      <td>...</td>\n    </tr>\n    <tr>\n      <th>15962</th>\n      <td>SK0</td>\n      <td>Slovenská republika</td>\n      <td>žena</td>\n      <td>90 a viac rokov</td>\n      <td>vysokoškolské vzdelanie - 2. stupeň (Ing.; Mgr...</td>\n      <td>dôchodca</td>\n      <td>434</td>\n    </tr>\n    <tr>\n      <th>15963</th>\n      <td>SK0</td>\n      <td>Slovenská republika</td>\n      <td>žena</td>\n      <td>90 a viac rokov</td>\n      <td>vysokoškolské vzdelanie - 2. stupeň (Ing.; Mgr...</td>\n      <td>príjemca kapitálových príjmov</td>\n      <td>1</td>\n    </tr>\n    <tr>\n      <th>15964</th>\n      <td>SK0</td>\n      <td>Slovenská republika</td>\n      <td>žena</td>\n      <td>90 a viac rokov</td>\n      <td>vysokoškolské vzdelanie - 3. stupeň (PhD.; a i.)</td>\n      <td>pracujúci dôchodca</td>\n      <td>3</td>\n    </tr>\n    <tr>\n      <th>15965</th>\n      <td>SK0</td>\n      <td>Slovenská republika</td>\n      <td>žena</td>\n      <td>90 a viac rokov</td>\n      <td>vysokoškolské vzdelanie - 3. stupeň (PhD.; a i.)</td>\n      <td>dôchodca</td>\n      <td>68</td>\n    </tr>\n    <tr>\n      <th>15966</th>\n      <td>SK0</td>\n      <td>Slovenská republika</td>\n      <td>žena</td>\n      <td>90 a viac rokov</td>\n      <td>bez školského vzdelania – osoby vo veku 15 rok...</td>\n      <td>dôchodca</td>\n      <td>67</td>\n    </tr>\n  </tbody>\n</table>\n<p>15967 rows × 7 columns</p>\n</div>"
     },
     "execution_count": 5,
     "metadata": {},
     "output_type": "execute_result"
    }
   ],
   "source": [
    "Slovak_040.rename(columns={'Kód štátu': 'State code', 'Názov štátu': 'State name', '1': '2'})"
   ],
   "metadata": {
    "collapsed": false,
    "ExecuteTime": {
     "end_time": "2024-04-17T12:40:20.621265900Z",
     "start_time": "2024-04-17T12:40:20.350455300Z"
    }
   },
   "id": "5498dcc22d51bc7b"
  },
  {
   "cell_type": "code",
   "execution_count": 6,
   "outputs": [
    {
     "data": {
      "text/plain": "Vzdelanie\núplné stredné vzdelanie s maturitou odborné                                                              1086\núplné stredné vzdelanie s maturitou všeobecné                                                            1039\núplné stredné vzdelanie s maturitou odborné (učňovské) s výučným listom                                  1004\nvysokoškolské vzdelanie - 2. stupeň (Ing.; Mgr.; MUDr.; a i.)                                             995\nstredné odborné (učňovské) vzdelanie bez maturity s výučným listom                                        980\nzákladné vzdelanie - 2. stupeň základnej školy                                                            976\nvyššie odborné vzdelanie nadstavbové (maturita absolventov učebných odborov stredných odborných škôl)     956\nvysokoškolské vzdelanie - 1. stupeň (Bc.)                                                                 931\nNaN                                                                                                       909\nstredné odborné (učňovské) vzdelanie bez maturity s vysvedčením o záverečnej skúške                       870\nzákladné vzdelanie - 1. stupeň základnej školy                                                            859\nstredné odborné (učňovské) vzdelanie bez maturity a bez výučného listu (zaškolenie, zaučenie)             852\nvyššie odborné vzdelanie vyššie odborné (absolventská skúška, absolventský diplom)                        798\nvyššie odborné vzdelanie pomaturitné (pomaturitné kvalifikačné)                                           797\nvysokoškolské vzdelanie - 3. stupeň (PhD.; a i.)                                                          769\nbez školského vzdelania – osoby vo veku 15 rokov a viac                                                   633\nzákladné vzdelanie (bližšie neuvedené)                                                                    461\núplné stredné vzdelanie s maturitou (bližšie neuvedené)                                                   428\nstredné odborné (učňovské) vzdelanie bez maturity (bližšie neuvedené)                                     366\nvysokoškolské vzdelanie (bližšie neuvedené)                                                               190\nbez ukončeného vzdelania – osoby vo veku 0-14 rokov                                                        36\nvyššie odborné vzdelanie (bližšie neuvedené)                                                               32\nName: count, dtype: int64"
     },
     "execution_count": 6,
     "metadata": {},
     "output_type": "execute_result"
    }
   ],
   "source": [
    "Slovak_040.replace(['nezistené', 'dôverné'], np.NaN)['Vzdelanie'].value_counts(dropna=False)"
   ],
   "metadata": {
    "collapsed": false,
    "ExecuteTime": {
     "end_time": "2024-04-17T12:40:20.621265900Z",
     "start_time": "2024-04-17T12:40:20.362971800Z"
    }
   },
   "id": "643dc875cb1c3f11"
  },
  {
   "cell_type": "markdown",
   "source": [
    "## Basics of preprocessing"
   ],
   "metadata": {
    "collapsed": false
   },
   "id": "edec24e8b7b0c0ca"
  },
  {
   "cell_type": "code",
   "execution_count": 7,
   "outputs": [],
   "source": [
    "def age_preprocess(age_string):\n",
    "    if age_string == '90 a viac rokov':\n",
    "        return 90\n",
    "    return int(age_string)"
   ],
   "metadata": {
    "collapsed": false,
    "ExecuteTime": {
     "end_time": "2024-04-17T12:40:20.622268800Z",
     "start_time": "2024-04-17T12:40:20.380888Z"
    }
   },
   "id": "f02c9698cd0f61f1"
  },
  {
   "cell_type": "markdown",
   "source": [
    "## Basics of EDA"
   ],
   "metadata": {
    "collapsed": false
   },
   "id": "73f131ba8024f0d0"
  },
  {
   "cell_type": "markdown",
   "source": [
    "### Age"
   ],
   "metadata": {
    "collapsed": false
   },
   "id": "35c4347b610b8907"
  },
  {
   "cell_type": "code",
   "execution_count": 8,
   "outputs": [
    {
     "data": {
      "text/plain": "24629"
     },
     "execution_count": 8,
     "metadata": {},
     "output_type": "execute_result"
    }
   ],
   "source": [
    "Slovak_040[Slovak_040['Vek'] == '90 a viac rokov']['abs.'].sum()"
   ],
   "metadata": {
    "collapsed": false,
    "ExecuteTime": {
     "end_time": "2024-04-17T12:40:20.622268800Z",
     "start_time": "2024-04-17T12:40:20.384893100Z"
    }
   },
   "id": "2a5551d213f64221"
  },
  {
   "cell_type": "code",
   "execution_count": 9,
   "outputs": [
    {
     "data": {
      "text/plain": "50989"
     },
     "execution_count": 9,
     "metadata": {},
     "output_type": "execute_result"
    }
   ],
   "source": [
    "Slovak_040[Slovak_040['Vek'] == '17']['abs.'].sum()"
   ],
   "metadata": {
    "collapsed": false,
    "ExecuteTime": {
     "end_time": "2024-04-17T12:40:20.622268800Z",
     "start_time": "2024-04-17T12:40:20.400504700Z"
    }
   },
   "id": "9da48ed193fdd5be"
  },
  {
   "cell_type": "code",
   "execution_count": 10,
   "outputs": [],
   "source": [
    "Slovak_040['Vek'] = Slovak_040['Vek'].apply(age_preprocess)"
   ],
   "metadata": {
    "collapsed": false,
    "ExecuteTime": {
     "end_time": "2024-04-17T12:40:20.632377700Z",
     "start_time": "2024-04-17T12:40:20.411573500Z"
    }
   },
   "id": "9c931289a1e9aaf7"
  },
  {
   "cell_type": "code",
   "execution_count": 11,
   "outputs": [
    {
     "data": {
      "text/plain": "    Vek   abs.\n0     0  56849\n1     1  58763\n2     2  59910\n3     3  60604\n4     4  60368\n..  ...    ...\n86   86  12609\n87   87  11026\n88   88   9890\n89   89   7966\n90   90  24629\n\n[91 rows x 2 columns]",
      "text/html": "<div>\n<style scoped>\n    .dataframe tbody tr th:only-of-type {\n        vertical-align: middle;\n    }\n\n    .dataframe tbody tr th {\n        vertical-align: top;\n    }\n\n    .dataframe thead th {\n        text-align: right;\n    }\n</style>\n<table border=\"1\" class=\"dataframe\">\n  <thead>\n    <tr style=\"text-align: right;\">\n      <th></th>\n      <th>Vek</th>\n      <th>abs.</th>\n    </tr>\n  </thead>\n  <tbody>\n    <tr>\n      <th>0</th>\n      <td>0</td>\n      <td>56849</td>\n    </tr>\n    <tr>\n      <th>1</th>\n      <td>1</td>\n      <td>58763</td>\n    </tr>\n    <tr>\n      <th>2</th>\n      <td>2</td>\n      <td>59910</td>\n    </tr>\n    <tr>\n      <th>3</th>\n      <td>3</td>\n      <td>60604</td>\n    </tr>\n    <tr>\n      <th>4</th>\n      <td>4</td>\n      <td>60368</td>\n    </tr>\n    <tr>\n      <th>...</th>\n      <td>...</td>\n      <td>...</td>\n    </tr>\n    <tr>\n      <th>86</th>\n      <td>86</td>\n      <td>12609</td>\n    </tr>\n    <tr>\n      <th>87</th>\n      <td>87</td>\n      <td>11026</td>\n    </tr>\n    <tr>\n      <th>88</th>\n      <td>88</td>\n      <td>9890</td>\n    </tr>\n    <tr>\n      <th>89</th>\n      <td>89</td>\n      <td>7966</td>\n    </tr>\n    <tr>\n      <th>90</th>\n      <td>90</td>\n      <td>24629</td>\n    </tr>\n  </tbody>\n</table>\n<p>91 rows × 2 columns</p>\n</div>"
     },
     "execution_count": 11,
     "metadata": {},
     "output_type": "execute_result"
    }
   ],
   "source": [
    "age_view = Slovak_040.groupby('Vek')['abs.'].sum()\n",
    "age_view = age_view.reset_index()\n",
    "\n",
    "age_view"
   ],
   "metadata": {
    "collapsed": false,
    "ExecuteTime": {
     "end_time": "2024-04-17T12:40:20.633455100Z",
     "start_time": "2024-04-17T12:40:20.426799200Z"
    }
   },
   "id": "171020bd1fcf7417"
  },
  {
   "cell_type": "code",
   "execution_count": 12,
   "outputs": [
    {
     "name": "stderr",
     "output_type": "stream",
     "text": [
      "C:\\Users\\andru_kfgnofp\\anaconda3\\envs\\mathprofi-education\\Lib\\site-packages\\seaborn\\_oldcore.py:1119: FutureWarning: use_inf_as_na option is deprecated and will be removed in a future version. Convert inf values to NaN before operating instead.\n",
      "  with pd.option_context('mode.use_inf_as_na', True):\n"
     ]
    },
    {
     "data": {
      "text/plain": "<Figure size 640x480 with 1 Axes>",
      "image/png": "[encoded data removed]"
     },
     "metadata": {},
     "output_type": "display_data"
    }
   ],
   "source": [
    "axes = sns.histplot(data=age_view,\n",
    "                    x='Vek', weights='abs.',\n",
    "                    stat='count', binwidth=3, kde=True)\n",
    "axes.set_title(\"Distribution by age\")\n",
    "axes.set_ylabel(\"Counts\")\n",
    "axes.set_xlabel(None)\n",
    "pass"
   ],
   "metadata": {
    "collapsed": false,
    "ExecuteTime": {
     "end_time": "2024-04-17T12:40:21.027573500Z",
     "start_time": "2024-04-17T12:40:20.447254900Z"
    }
   },
   "id": "87e85c01567da2fd"
  },
  {
   "cell_type": "markdown",
   "source": [
    "### Economical activity"
   ],
   "metadata": {
    "collapsed": false
   },
   "id": "e88b9e473bcdb756"
  },
  {
   "cell_type": "code",
   "execution_count": 13,
   "outputs": [
    {
     "data": {
      "text/plain": "Text(0.5, 0, '')"
     },
     "execution_count": 13,
     "metadata": {},
     "output_type": "execute_result"
    },
    {
     "data": {
      "text/plain": "<Figure size 640x480 with 1 Axes>",
      "image/png": "[encoded data removed]"
     },
     "metadata": {},
     "output_type": "display_data"
    }
   ],
   "source": [
    "axes = sns.barplot(data=Slovak_040, x='Súčasná ekonomická aktivita', hue='Pohlavie', y='abs.')\n",
    "\n",
    "axes.set_title(\"Distribution of economical activity by sex\")\n",
    "axes.set_ylabel(\"Counts\")\n",
    "axes.set_xlabel(None)"
   ],
   "metadata": {
    "collapsed": false,
    "ExecuteTime": {
     "end_time": "2024-04-17T12:40:21.926305400Z",
     "start_time": "2024-04-17T12:40:20.909602400Z"
    }
   },
   "id": "f713bdc5782c8056"
  },
  {
   "cell_type": "code",
   "execution_count": 14,
   "outputs": [
    {
     "data": {
      "text/plain": "array(['dieťa do začatia povinnej školskej dochádzky',\n       'žiak základnej školy', 'nezistené', 'žiak strednej školy',\n       'pracujúci (okrem dôchodcov)', 'osoba v domácnosti',\n       'nezamestnaný', 'iná', 'študent vysokej školy', 'dôchodca',\n       'osoba na rodičovskej dovolenke', 'pracujúci dôchodca',\n       'príjemca kapitálových príjmov', 'osoba na materskej dovolenke'],\n      dtype=object)"
     },
     "execution_count": 14,
     "metadata": {},
     "output_type": "execute_result"
    }
   ],
   "source": [
    "Slovak_040['Súčasná ekonomická aktivita'].unique()"
   ],
   "metadata": {
    "collapsed": false,
    "ExecuteTime": {
     "end_time": "2024-04-17T12:40:21.927490Z",
     "start_time": "2024-04-17T12:40:21.917182300Z"
    }
   },
   "id": "db70ede6adafdb81"
  },
  {
   "cell_type": "markdown",
   "source": [
    "### Sex"
   ],
   "metadata": {
    "collapsed": false
   },
   "id": "59898a4c03ceaa12"
  },
  {
   "cell_type": "code",
   "execution_count": 15,
   "outputs": [],
   "source": [
    "sex_view = Slovak_040.groupby('Pohlavie')['abs.'].sum()\n",
    "sex_view = sex_view.reset_index()"
   ],
   "metadata": {
    "collapsed": false,
    "ExecuteTime": {
     "end_time": "2024-04-17T12:40:21.941606800Z",
     "start_time": "2024-04-17T12:40:21.925289600Z"
    }
   },
   "id": "a52392bd1ab08e84"
  },
  {
   "cell_type": "code",
   "execution_count": 16,
   "outputs": [
    {
     "data": {
      "text/plain": "<Figure size 640x480 with 1 Axes>",
      "image/png": "[encoded data removed]"
     },
     "metadata": {},
     "output_type": "display_data"
    }
   ],
   "source": [
    "axes = sns.barplot(data=sex_view,\n",
    "                   x='Pohlavie', y='abs.', color=\"C0\")\n",
    "axes.set_title(\"Distribution by sex\")\n",
    "axes.set_ylabel(\"Counts\")\n",
    "axes.set_xlabel(None)\n",
    "pass"
   ],
   "metadata": {
    "collapsed": false,
    "ExecuteTime": {
     "end_time": "2024-04-17T12:40:22.084614900Z",
     "start_time": "2024-04-17T12:40:21.940592200Z"
    }
   },
   "id": "3ba3f47fd67e5331"
  },
  {
   "cell_type": "code",
   "execution_count": 16,
   "outputs": [],
   "source": [],
   "metadata": {
    "collapsed": false,
    "ExecuteTime": {
     "end_time": "2024-04-17T12:40:22.084614900Z",
     "start_time": "2024-04-17T12:40:22.073816300Z"
    }
   },
   "id": "272282b8aa709ce4"
  }
 ],
 "metadata": {
  "kernelspec": {
   "display_name": "Python 3",
   "language": "python",
   "name": "python3"
  },
  "language_info": {
   "codemirror_mode": {
    "name": "ipython",
    "version": 2
   },
   "file_extension": ".py",
   "mimetype": "text/x-python",
   "name": "python",
   "nbconvert_exporter": "python",
   "pygments_lexer": "ipython2",
   "version": "2.7.6"
  }
 },
 "nbformat": 4,
 "nbformat_minor": 5
}
