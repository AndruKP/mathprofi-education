{
 "cells": [
  {
   "cell_type": "code",
   "execution_count": 102,
   "metadata": {},
   "outputs": [],
   "source": [
    "import pandas as pd\n",
    "import numpy as np\n",
    "import matplotlib.pyplot as plt\n",
    "import seaborn as sns\n",
    "import random\n",
    "import scipy.stats\n",
    "import geopandas as gpd\n",
    "%matplotlib inline\n",
    "from IPython.display import Markdown\n",
    "from functools import reduce"
   ]
  },
  {
   "cell_type": "code",
   "execution_count": 85,
   "metadata": {},
   "outputs": [
    {
     "data": {
      "text/html": [
       "<div>\n",
       "<style scoped>\n",
       "    .dataframe tbody tr th:only-of-type {\n",
       "        vertical-align: middle;\n",
       "    }\n",
       "\n",
       "    .dataframe tbody tr th {\n",
       "        vertical-align: top;\n",
       "    }\n",
       "\n",
       "    .dataframe thead th {\n",
       "        text-align: right;\n",
       "    }\n",
       "</style>\n",
       "<table border=\"1\" class=\"dataframe\">\n",
       "  <thead>\n",
       "    <tr style=\"text-align: right;\">\n",
       "      <th></th>\n",
       "      <th>Kód okresu</th>\n",
       "      <th>Názov okresu</th>\n",
       "      <th>Pohlavie</th>\n",
       "      <th>Ekonomické vekové skupiny</th>\n",
       "      <th>Vzdelanie</th>\n",
       "      <th>abs.</th>\n",
       "    </tr>\n",
       "  </thead>\n",
       "  <tbody>\n",
       "    <tr>\n",
       "      <th>0</th>\n",
       "      <td>SK0101</td>\n",
       "      <td>Okres Bratislava I</td>\n",
       "      <td>muž</td>\n",
       "      <td>predproduktívny vek (0-14 rokov)</td>\n",
       "      <td>dôverné</td>\n",
       "      <td>1</td>\n",
       "    </tr>\n",
       "    <tr>\n",
       "      <th>1</th>\n",
       "      <td>SK0101</td>\n",
       "      <td>Okres Bratislava I</td>\n",
       "      <td>muž</td>\n",
       "      <td>predproduktívny vek (0-14 rokov)</td>\n",
       "      <td>nezistené</td>\n",
       "      <td>56</td>\n",
       "    </tr>\n",
       "    <tr>\n",
       "      <th>2</th>\n",
       "      <td>SK0101</td>\n",
       "      <td>Okres Bratislava I</td>\n",
       "      <td>muž</td>\n",
       "      <td>predproduktívny vek (0-14 rokov)</td>\n",
       "      <td>základné vzdelanie - 1. stupeň základnej školy</td>\n",
       "      <td>835</td>\n",
       "    </tr>\n",
       "    <tr>\n",
       "      <th>3</th>\n",
       "      <td>SK0101</td>\n",
       "      <td>Okres Bratislava I</td>\n",
       "      <td>muž</td>\n",
       "      <td>predproduktívny vek (0-14 rokov)</td>\n",
       "      <td>základné vzdelanie - 2. stupeň základnej školy</td>\n",
       "      <td>2</td>\n",
       "    </tr>\n",
       "    <tr>\n",
       "      <th>4</th>\n",
       "      <td>SK0101</td>\n",
       "      <td>Okres Bratislava I</td>\n",
       "      <td>muž</td>\n",
       "      <td>predproduktívny vek (0-14 rokov)</td>\n",
       "      <td>bez ukončeného vzdelania – osoby vo veku 0-14 ...</td>\n",
       "      <td>2671</td>\n",
       "    </tr>\n",
       "  </tbody>\n",
       "</table>\n",
       "</div>"
      ],
      "text/plain": [
       "  Kód okresu        Názov okresu Pohlavie         Ekonomické vekové skupiny  \\\n",
       "0     SK0101  Okres Bratislava I      muž  predproduktívny vek (0-14 rokov)   \n",
       "1     SK0101  Okres Bratislava I      muž  predproduktívny vek (0-14 rokov)   \n",
       "2     SK0101  Okres Bratislava I      muž  predproduktívny vek (0-14 rokov)   \n",
       "3     SK0101  Okres Bratislava I      muž  predproduktívny vek (0-14 rokov)   \n",
       "4     SK0101  Okres Bratislava I      muž  predproduktívny vek (0-14 rokov)   \n",
       "\n",
       "                                           Vzdelanie  abs.  \n",
       "0                                            dôverné     1  \n",
       "1                                          nezistené    56  \n",
       "2     základné vzdelanie - 1. stupeň základnej školy   835  \n",
       "3     základné vzdelanie - 2. stupeň základnej školy     2  \n",
       "4  bez ukončeného vzdelania – osoby vo veku 0-14 ...  2671  "
      ]
     },
     "execution_count": 85,
     "metadata": {},
     "output_type": "execute_result"
    }
   ],
   "source": [
    "dataframe = pd.read_csv(\"data/RV_O_010_L_OK_SK.CSV\", sep=';')\n",
    "dataframe.head()"
   ]
  },
  {
   "cell_type": "code",
   "execution_count": 97,
   "metadata": {},
   "outputs": [],
   "source": [
    "url = \"https://bbrejova.github.io/viz/data/districts.json\"\n",
    "districts = gpd.read_file(url)"
   ]
  },
  {
   "cell_type": "code",
   "execution_count": 87,
   "metadata": {},
   "outputs": [
    {
     "name": "stdout",
     "output_type": "stream",
     "text": [
      "<class 'geopandas.geodataframe.GeoDataFrame'>\n",
      "RangeIndex: 7017 entries, 0 to 7016\n",
      "Data columns (total 20 columns):\n",
      " #   Column                     Non-Null Count  Dtype              \n",
      "---  ------                     --------------  -----              \n",
      " 0   LAU1                       7017 non-null   object             \n",
      " 1   DOW                        7017 non-null   datetime64[ns, UTC]\n",
      " 2   IDN3                       7017 non-null   int64              \n",
      " 3   NM3                        7017 non-null   object             \n",
      " 4   IDN2                       7017 non-null   int64              \n",
      " 5   NM2                        7017 non-null   object             \n",
      " 6   NUTS2                      7017 non-null   object             \n",
      " 7   NUTS2_CODE                 7017 non-null   object             \n",
      " 8   NUTS3                      7017 non-null   object             \n",
      " 9   NUTS3_CODE                 7017 non-null   object             \n",
      " 10  LAU1_CODE                  7017 non-null   object             \n",
      " 11  LAU2                       7017 non-null   object             \n",
      " 12  LAU2_CODE                  7017 non-null   object             \n",
      " 13  geometry                   7017 non-null   geometry           \n",
      " 14  Kód okresu                 7017 non-null   object             \n",
      " 15  Názov okresu               7017 non-null   object             \n",
      " 16  Pohlavie                   7017 non-null   object             \n",
      " 17  Ekonomické vekové skupiny  7017 non-null   object             \n",
      " 18  Vzdelanie                  7017 non-null   object             \n",
      " 19  abs.                       7017 non-null   int64              \n",
      "dtypes: datetime64[ns, UTC](1), geometry(1), int64(3), object(15)\n",
      "memory usage: 1.1+ MB\n"
     ]
    },
    {
     "data": {
      "text/plain": [
       "5449270"
      ]
     },
     "execution_count": 87,
     "metadata": {},
     "output_type": "execute_result"
    }
   ],
   "source": [
    "merged = districts.merge(dataframe, right_on='Kód okresu', left_on='LAU1_CODE')\n",
    "merged.info()\n",
    "merged['abs.'].sum()"
   ]
  },
  {
   "cell_type": "code",
   "execution_count": 111,
   "metadata": {},
   "outputs": [
    {
     "data": {
      "image/png": "[encoded data removed]",
      "text/plain": [
       "<Figure size 640x480 with 2 Axes>"
      ]
     },
     "metadata": {},
     "output_type": "display_data"
    }
   ],
   "source": [
    "picked_edu = merged['Vzdelanie'].str.startswith('vysokoškolské') | merged['Vzdelanie'].str.startswith('vyššie')\n",
    "by_education = merged[picked_edu]\n",
    "by_education = by_education.groupby('NUTS3_CODE')['abs.'].sum().reset_index().rename(columns={'abs.': 'picked_edu'})\n",
    "merged2: pd.DataFrame = merged.merge(by_education, on='NUTS3_CODE')\n",
    "ax = merged2.plot(legend=True, column='picked_edu', ax=None)\n",
    "plt.title('People with higher education by regions')\n",
    "plt.axis('off')\n",
    "plt.show()"
   ]
  }
 ],
 "metadata": {
  "kernelspec": {
   "display_name": ".venv",
   "language": "python",
   "name": "python3"
  },
  "language_info": {
   "codemirror_mode": {
    "name": "ipython",
    "version": 3
   },
   "file_extension": ".py",
   "mimetype": "text/x-python",
   "name": "python",
   "nbconvert_exporter": "python",
   "pygments_lexer": "ipython3",
   "version": "3.11.8"
  }
 },
 "nbformat": 4,
 "nbformat_minor": 2
}
