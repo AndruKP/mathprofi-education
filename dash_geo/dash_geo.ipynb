{
 "cells": [
  {
   "cell_type": "code",
   "execution_count": 1,
   "metadata": {},
   "outputs": [],
   "source": [
    "# %%script true\n",
    "import pandas as pd\n",
    "import numpy as np\n",
    "import matplotlib.pyplot as plt\n",
    "import seaborn as sns\n",
    "import random\n",
    "import scipy.stats\n",
    "import geopandas as gpd\n",
    "%matplotlib inline\n",
    "from IPython.display import Markdown\n",
    "from functools import reduce\n",
    "import plotly.express as px\n",
    "import plotly.graph_objects as go\n",
    "import plotly.io as pio\n",
    "pd.options.display.float_format = '{:,.2f}'.format"
   ]
  },
  {
   "cell_type": "code",
   "execution_count": 2,
   "metadata": {},
   "outputs": [],
   "source": [
    "if 0:\n",
    "    style = {\n",
    "        \"background-color\": \"#1b1b1b\",  # rgb(27, 27, 27)\n",
    "        \"color\": \"white\",  # font\n",
    "    }\n",
    "    pio.templates.default = \"plotly_dark\"\n",
    "else:\n",
    "    style = {}\n",
    "    pio.templates.default = \"plotly\""
   ]
  },
  {
   "cell_type": "code",
   "execution_count": 3,
   "metadata": {},
   "outputs": [],
   "source": [
    "import sys\n",
    "\n",
    "sys.path.append(\"..\")\n",
    "\n",
    "from os.path import join\n",
    "import preprocessing\n",
    "\n",
    "data_path = join('..', \"data\")\n",
    "table_names = [\n",
    "    \"RV_O_010_L_OK_SK.CSV\",\n",
    "    \"RV_O_040_L_OK_SK.CSV\",\n",
    "    \"RV_O_047_L_OK_SK.CSV\",\n",
    "    \"RV_O_067_L_OK_SK.CSV\",\n",
    "]\n",
    "tables = [\n",
    "    preprocessing.translate_sex(\n",
    "        preprocessing.rename_columns(pd.read_csv(join(data_path, table), sep=\";\"))\n",
    "    )\n",
    "    for table in table_names\n",
    "]\n",
    "table_10, table_40, table_47, table_67 = tables\n",
    "\n",
    "# https://bbrejova.github.io/viz/data/districts.json\n",
    "districts_url = join(data_path, 'districts.json')\n",
    "districts = gpd.read_file(districts_url)\n",
    "# https://raw.githubusercontent.com/drakh/slovakia-gps-data/master/GeoJSON/epsg_4326/districts_epsg_4326.geojson\n",
    "districts_geojson_url = join(data_path, \"districts.geojson\")\n",
    "districts_geojson = gpd.read_file(districts_geojson_url, crs=\"EPSG:4326\")\n",
    "\n",
    "table_40[\"age\"] = pd.to_numeric(table_40[\"age\"].replace({\"90 a viac rokov\": \"90\"}))\n",
    "\n",
    "def assert_connection():\n",
    "    assert table_10 is tables[0]\n",
    "    assert table_40 is tables[1]\n",
    "    assert table_47 is tables[2]\n",
    "    assert table_67 is tables[3]"
   ]
  },
  {
   "cell_type": "code",
   "execution_count": 4,
   "metadata": {},
   "outputs": [],
   "source": [
    "districts_geojson_indexed = districts_geojson.set_index(\"IDN3\")\n",
    "districts_indexed = districts.set_index(\"IDN3\")\n",
    "districts_indexed[[\"geometry\", \"Area\", \"AreaHA\"]] = districts_geojson_indexed[\n",
    "    [\"geometry\", \"Shape_Area\", \"VYMERA_ha\"]\n",
    "]\n",
    "geo_frame = districts_indexed"
   ]
  },
  {
   "cell_type": "code",
   "execution_count": 11,
   "metadata": {},
   "outputs": [],
   "source": [
    "from categorize_education import EDUCATION_CATEGORY_MAP\n",
    "from isco_occupation import OCCUPATION_ISCO_MAP\n",
    "from required_education import REQURED_EDUCATION_MAP\n",
    "from economic_sectors import ECONOMIC_SECTORS_MAP\n",
    "\n",
    "for table in tables:\n",
    "    if \"education\" in table.columns:\n",
    "        table[\"education_category\"] = table[\"education\"].map(EDUCATION_CATEGORY_MAP).astype('category')\n",
    "    if \"ISCO_occupation\" in table.columns:\n",
    "        table[\"ISCO_group\"] = table[\"ISCO_occupation\"].map(OCCUPATION_ISCO_MAP).astype('category')\n",
    "        table[\"required_education\"] = table[\"ISCO_occupation\"].map(REQURED_EDUCATION_MAP).astype('category')\n",
    "    if \"NACE_section\" in table:\n",
    "        table[\"NACE_group\"] = table[\"NACE_section\"].map(ECONOMIC_SECTORS_MAP)\n",
    "\n",
    "districts_indexed = districts.set_index(\"LAU1_CODE\")\n",
    "for table in tables:\n",
    "    if \"LAU1_CODE\" in table:\n",
    "        table.set_index(\"LAU1_CODE\", inplace=True)\n",
    "        table[[\"region_name\", \"NUTS3_CODE\", \"ecoregion_name\", \"NUTS2_CODE\"]] = (\n",
    "            districts_indexed[[\"NUTS3\", \"NUTS3_CODE\", \"NUTS2\", \"NUTS2_CODE\"]]\n",
    "        )\n",
    "        table.reset_index(inplace=True)"
   ]
  },
  {
   "cell_type": "code",
   "execution_count": 14,
   "metadata": {},
   "outputs": [],
   "source": [
    "for i in range(len(tables)):\n",
    "    object_columns = [column for column in tables[i].columns if tables[i][column].dtype in ['object', 'string']]\n",
    "    tables[i][object_columns] = tables[i][object_columns].astype('string')\n",
    "    tables[i][object_columns] = tables[i][object_columns].astype('category')"
   ]
  },
  {
   "cell_type": "code",
   "execution_count": 15,
   "metadata": {},
   "outputs": [
    {
     "data": {
      "text/plain": [
       "Index(['higher', 'inapplicable', 'secondary', 'vocational', 'without'], dtype='object')"
      ]
     },
     "metadata": {},
     "output_type": "display_data"
    },
    {
     "data": {
      "text/plain": [
       "'table_10'"
      ]
     },
     "metadata": {},
     "output_type": "display_data"
    },
    {
     "name": "stdout",
     "output_type": "stream",
     "text": [
      "<class 'pandas.core.frame.DataFrame'>\n",
      "RangeIndex: 7017 entries, 0 to 7016\n",
      "Data columns (total 11 columns):\n",
      " #   Column                 Non-Null Count  Dtype   \n",
      "---  ------                 --------------  -----   \n",
      " 0   LAU1_CODE              7017 non-null   category\n",
      " 1   district_name          7017 non-null   category\n",
      " 2   sex                    7017 non-null   category\n",
      " 3   economical_age_groups  7017 non-null   category\n",
      " 4   education              7017 non-null   category\n",
      " 5   count                  7017 non-null   int64   \n",
      " 6   education_category     7017 non-null   category\n",
      " 7   region_name            7017 non-null   category\n",
      " 8   NUTS3_CODE             7017 non-null   category\n",
      " 9   ecoregion_name         7017 non-null   category\n",
      " 10  NUTS2_CODE             7017 non-null   category\n",
      "dtypes: category(10), int64(1)\n",
      "memory usage: 131.1 KB\n"
     ]
    },
    {
     "data": {
      "text/plain": [
       "'table_40'"
      ]
     },
     "metadata": {},
     "output_type": "display_data"
    },
    {
     "name": "stdout",
     "output_type": "stream",
     "text": [
      "<class 'pandas.core.frame.DataFrame'>\n",
      "RangeIndex: 490152 entries, 0 to 490151\n",
      "Data columns (total 12 columns):\n",
      " #   Column                     Non-Null Count   Dtype   \n",
      "---  ------                     --------------   -----   \n",
      " 0   LAU1_CODE                  490152 non-null  category\n",
      " 1   district_name              490152 non-null  category\n",
      " 2   sex                        490152 non-null  category\n",
      " 3   age                        490152 non-null  int64   \n",
      " 4   education                  490152 non-null  category\n",
      " 5   current_economic_activity  490152 non-null  category\n",
      " 6   count                      490152 non-null  int64   \n",
      " 7   education_category         490152 non-null  category\n",
      " 8   region_name                490152 non-null  category\n",
      " 9   NUTS3_CODE                 490152 non-null  category\n",
      " 10  ecoregion_name             490152 non-null  category\n",
      " 11  NUTS2_CODE                 490152 non-null  category\n",
      "dtypes: category(10), int64(2)\n",
      "memory usage: 12.2 MB\n"
     ]
    },
    {
     "data": {
      "text/plain": [
       "'table_47'"
      ]
     },
     "metadata": {},
     "output_type": "display_data"
    },
    {
     "name": "stdout",
     "output_type": "stream",
     "text": [
      "<class 'pandas.core.frame.DataFrame'>\n",
      "RangeIndex: 346464 entries, 0 to 346463\n",
      "Data columns (total 14 columns):\n",
      " #   Column              Non-Null Count   Dtype   \n",
      "---  ------              --------------   -----   \n",
      " 0   LAU1_CODE           346464 non-null  category\n",
      " 1   district_name       346464 non-null  category\n",
      " 2   sex                 346464 non-null  category\n",
      " 3   year_5_age_groups   346464 non-null  category\n",
      " 4   education           346464 non-null  category\n",
      " 5   ISCO_occupation     346464 non-null  category\n",
      " 6   count               346464 non-null  int64   \n",
      " 7   education_category  346464 non-null  category\n",
      " 8   ISCO_group          318633 non-null  category\n",
      " 9   required_education  312334 non-null  category\n",
      " 10  region_name         346464 non-null  category\n",
      " 11  NUTS3_CODE          346464 non-null  category\n",
      " 12  ecoregion_name      346464 non-null  category\n",
      " 13  NUTS2_CODE          346464 non-null  category\n",
      "dtypes: category(13), int64(1)\n",
      "memory usage: 6.9 MB\n"
     ]
    },
    {
     "data": {
      "text/plain": [
       "'table_67'"
      ]
     },
     "metadata": {},
     "output_type": "display_data"
    },
    {
     "name": "stdout",
     "output_type": "stream",
     "text": [
      "<class 'pandas.core.frame.DataFrame'>\n",
      "RangeIndex: 386244 entries, 0 to 386243\n",
      "Data columns (total 15 columns):\n",
      " #   Column                     Non-Null Count   Dtype   \n",
      "---  ------                     --------------   -----   \n",
      " 0   LAU1_CODE                  386244 non-null  category\n",
      " 1   district_name              386244 non-null  category\n",
      " 2   current_economic_activity  386244 non-null  category\n",
      " 3   NACE_section               386244 non-null  category\n",
      " 4   ISCO_occupation            386244 non-null  category\n",
      " 5   education                  386244 non-null  category\n",
      " 6   count                      386244 non-null  int64   \n",
      " 7   education_category         386244 non-null  category\n",
      " 8   ISCO_group                 316778 non-null  category\n",
      " 9   required_education         309713 non-null  category\n",
      " 10  region_name                386244 non-null  category\n",
      " 11  NUTS3_CODE                 386244 non-null  category\n",
      " 12  ecoregion_name             386244 non-null  category\n",
      " 13  NUTS2_CODE                 386244 non-null  category\n",
      " 14  NACE_group                 386244 non-null  category\n",
      "dtypes: category(14), int64(1)\n",
      "memory usage: 8.1 MB\n"
     ]
    },
    {
     "data": {
      "text/plain": [
       "'districts'"
      ]
     },
     "metadata": {},
     "output_type": "display_data"
    },
    {
     "name": "stdout",
     "output_type": "stream",
     "text": [
      "<class 'geopandas.geodataframe.GeoDataFrame'>\n",
      "RangeIndex: 79 entries, 0 to 78\n",
      "Data columns (total 14 columns):\n",
      " #   Column      Non-Null Count  Dtype              \n",
      "---  ------      --------------  -----              \n",
      " 0   LAU1        79 non-null     object             \n",
      " 1   DOW         79 non-null     datetime64[ns, UTC]\n",
      " 2   IDN3        79 non-null     int64              \n",
      " 3   NM3         79 non-null     object             \n",
      " 4   IDN2        79 non-null     int64              \n",
      " 5   NM2         79 non-null     object             \n",
      " 6   NUTS2       79 non-null     object             \n",
      " 7   NUTS2_CODE  79 non-null     object             \n",
      " 8   NUTS3       79 non-null     object             \n",
      " 9   NUTS3_CODE  79 non-null     object             \n",
      " 10  LAU1_CODE   79 non-null     object             \n",
      " 11  LAU2        79 non-null     object             \n",
      " 12  LAU2_CODE   79 non-null     object             \n",
      " 13  geometry    79 non-null     geometry           \n",
      "dtypes: datetime64[ns, UTC](1), geometry(1), int64(2), object(10)\n",
      "memory usage: 8.8+ KB\n"
     ]
    },
    {
     "data": {
      "text/plain": [
       "'districts_geojson'"
      ]
     },
     "metadata": {},
     "output_type": "display_data"
    },
    {
     "name": "stdout",
     "output_type": "stream",
     "text": [
      "<class 'geopandas.geodataframe.GeoDataFrame'>\n",
      "RangeIndex: 79 entries, 0 to 78\n",
      "Data columns (total 6 columns):\n",
      " #   Column      Non-Null Count  Dtype   \n",
      "---  ------      --------------  -----   \n",
      " 0   IDN3        79 non-null     int64   \n",
      " 1   NM3         79 non-null     object  \n",
      " 2   Shape_Leng  79 non-null     float64 \n",
      " 3   Shape_Area  79 non-null     float64 \n",
      " 4   VYMERA_ha   79 non-null     int64   \n",
      " 5   geometry    79 non-null     geometry\n",
      "dtypes: float64(2), geometry(1), int64(2), object(1)\n",
      "memory usage: 3.8+ KB\n"
     ]
    }
   ],
   "source": [
    "display(table_47['required_education'].cat.categories)\n",
    "display('table_10')\n",
    "table_10.info()\n",
    "display('table_40')\n",
    "table_40.info()\n",
    "display('table_47')\n",
    "table_47.info()\n",
    "display('table_67')\n",
    "table_67.info()\n",
    "display('districts')\n",
    "districts.info()\n",
    "display('districts_geojson')\n",
    "districts_geojson.info()"
   ]
  },
  {
   "cell_type": "code",
   "execution_count": 8,
   "metadata": {},
   "outputs": [
    {
     "data": {
      "application/vnd.plotly.v1+json": {
       "config": {
        "plotlyServerURL": "https://plot.ly"
       },
       "data": [
        {
         "alignmentgroup": "True",
         "customdata": [
          [
           21515
          ]
         ],
         "hovertemplate": "region_name=%{y}<br>percent=%{x}<br>number=%{customdata[0]}<extra></extra>",
         "legendgroup": "Bratislavský kraj",
         "marker": {
          "color": "#636efa",
          "pattern": {
           "shape": ""
          }
         },
         "name": "Bratislavský kraj",
         "offsetgroup": "Bratislavský kraj",
         "orientation": "h",
         "showlegend": true,
         "textposition": "auto",
         "type": "bar",
         "x": [
          2.9901172559576508
         ],
         "xaxis": "x",
         "y": [
          "Bratislavský kraj"
         ],
         "yaxis": "y"
        },
        {
         "alignmentgroup": "True",
         "customdata": [
          [
           19495
          ]
         ],
         "hovertemplate": "region_name=%{y}<br>percent=%{x}<br>number=%{customdata[0]}<extra></extra>",
         "legendgroup": "Žilinský kraj",
         "marker": {
          "color": "#EF553B",
          "pattern": {
           "shape": ""
          }
         },
         "name": "Žilinský kraj",
         "offsetgroup": "Žilinský kraj",
         "orientation": "h",
         "showlegend": true,
         "textposition": "auto",
         "type": "bar",
         "x": [
          2.818772926477669
         ],
         "xaxis": "x",
         "y": [
          "Žilinský kraj"
         ],
         "yaxis": "y"
        },
        {
         "alignmentgroup": "True",
         "customdata": [
          [
           16054
          ]
         ],
         "hovertemplate": "region_name=%{y}<br>percent=%{x}<br>number=%{customdata[0]}<extra></extra>",
         "legendgroup": "Trenčiansky kraj",
         "marker": {
          "color": "#00cc96",
          "pattern": {
           "shape": ""
          }
         },
         "name": "Trenčiansky kraj",
         "offsetgroup": "Trenčiansky kraj",
         "orientation": "h",
         "showlegend": true,
         "textposition": "auto",
         "type": "bar",
         "x": [
          2.780086724020891
         ],
         "xaxis": "x",
         "y": [
          "Trenčiansky kraj"
         ],
         "yaxis": "y"
        },
        {
         "alignmentgroup": "True",
         "customdata": [
          [
           21510
          ]
         ],
         "hovertemplate": "region_name=%{y}<br>percent=%{x}<br>number=%{customdata[0]}<extra></extra>",
         "legendgroup": "Prešovský kraj",
         "marker": {
          "color": "#ab63fa",
          "pattern": {
           "shape": ""
          }
         },
         "name": "Prešovský kraj",
         "offsetgroup": "Prešovský kraj",
         "orientation": "h",
         "showlegend": true,
         "textposition": "auto",
         "type": "bar",
         "x": [
          2.659064864617625
         ],
         "xaxis": "x",
         "y": [
          "Prešovský kraj"
         ],
         "yaxis": "y"
        },
        {
         "alignmentgroup": "True",
         "customdata": [
          [
           16856
          ]
         ],
         "hovertemplate": "region_name=%{y}<br>percent=%{x}<br>number=%{customdata[0]}<extra></extra>",
         "legendgroup": "Nitriansky kraj",
         "marker": {
          "color": "#FFA15A",
          "pattern": {
           "shape": ""
          }
         },
         "name": "Nitriansky kraj",
         "offsetgroup": "Nitriansky kraj",
         "orientation": "h",
         "showlegend": true,
         "textposition": "auto",
         "type": "bar",
         "x": [
          2.4865024339873134
         ],
         "xaxis": "x",
         "y": [
          "Nitriansky kraj"
         ],
         "yaxis": "y"
        },
        {
         "alignmentgroup": "True",
         "customdata": [
          [
           14019
          ]
         ],
         "hovertemplate": "region_name=%{y}<br>percent=%{x}<br>number=%{customdata[0]}<extra></extra>",
         "legendgroup": "Trnavský kraj",
         "marker": {
          "color": "#19d3f3",
          "pattern": {
           "shape": ""
          }
         },
         "name": "Trnavský kraj",
         "offsetgroup": "Trnavský kraj",
         "orientation": "h",
         "showlegend": true,
         "textposition": "auto",
         "type": "bar",
         "x": [
          2.4768201156167406
         ],
         "xaxis": "x",
         "y": [
          "Trnavský kraj"
         ],
         "yaxis": "y"
        },
        {
         "alignmentgroup": "True",
         "customdata": [
          [
           14177
          ]
         ],
         "hovertemplate": "region_name=%{y}<br>percent=%{x}<br>number=%{customdata[0]}<extra></extra>",
         "legendgroup": "Banskobystrický kraj",
         "marker": {
          "color": "#FF6692",
          "pattern": {
           "shape": ""
          }
         },
         "name": "Banskobystrický kraj",
         "offsetgroup": "Banskobystrický kraj",
         "orientation": "h",
         "showlegend": true,
         "textposition": "auto",
         "type": "bar",
         "x": [
          2.26614087893082
         ],
         "xaxis": "x",
         "y": [
          "Banskobystrický kraj"
         ],
         "yaxis": "y"
        },
        {
         "alignmentgroup": "True",
         "customdata": [
          [
           17686
          ]
         ],
         "hovertemplate": "region_name=%{y}<br>percent=%{x}<br>number=%{customdata[0]}<extra></extra>",
         "legendgroup": "Košický kraj",
         "marker": {
          "color": "#B6E880",
          "pattern": {
           "shape": ""
          }
         },
         "name": "Košický kraj",
         "offsetgroup": "Košický kraj",
         "orientation": "h",
         "showlegend": true,
         "textposition": "auto",
         "type": "bar",
         "x": [
          2.2610123035069596
         ],
         "xaxis": "x",
         "y": [
          "Košický kraj"
         ],
         "yaxis": "y"
        }
       ],
       "layout": {
        "barmode": "relative",
        "legend": {
         "title": {
          "text": "region_name"
         },
         "tracegroupgap": 0
        },
        "margin": {
         "t": 60
        },
        "template": {
         "data": {
          "bar": [
           {
            "error_x": {
             "color": "#2a3f5f"
            },
            "error_y": {
             "color": "#2a3f5f"
            },
            "marker": {
             "line": {
              "color": "#E5ECF6",
              "width": 0.5
             },
             "pattern": {
              "fillmode": "overlay",
              "size": 10,
              "solidity": 0.2
             }
            },
            "type": "bar"
           }
          ],
          "barpolar": [
           {
            "marker": {
             "line": {
              "color": "#E5ECF6",
              "width": 0.5
             },
             "pattern": {
              "fillmode": "overlay",
              "size": 10,
              "solidity": 0.2
             }
            },
            "type": "barpolar"
           }
          ],
          "carpet": [
           {
            "aaxis": {
             "endlinecolor": "#2a3f5f",
             "gridcolor": "white",
             "linecolor": "white",
             "minorgridcolor": "white",
             "startlinecolor": "#2a3f5f"
            },
            "baxis": {
             "endlinecolor": "#2a3f5f",
             "gridcolor": "white",
             "linecolor": "white",
             "minorgridcolor": "white",
             "startlinecolor": "#2a3f5f"
            },
            "type": "carpet"
           }
          ],
          "choropleth": [
           {
            "colorbar": {
             "outlinewidth": 0,
             "ticks": ""
            },
            "type": "choropleth"
           }
          ],
          "contour": [
           {
            "colorbar": {
             "outlinewidth": 0,
             "ticks": ""
            },
            "colorscale": [
             [
              0,
              "#0d0887"
             ],
             [
              0.1111111111111111,
              "#46039f"
             ],
             [
              0.2222222222222222,
              "#7201a8"
             ],
             [
              0.3333333333333333,
              "#9c179e"
             ],
             [
              0.4444444444444444,
              "#bd3786"
             ],
             [
              0.5555555555555556,
              "#d8576b"
             ],
             [
              0.6666666666666666,
              "#ed7953"
             ],
             [
              0.7777777777777778,
              "#fb9f3a"
             ],
             [
              0.8888888888888888,
              "#fdca26"
             ],
             [
              1,
              "#f0f921"
             ]
            ],
            "type": "contour"
           }
          ],
          "contourcarpet": [
           {
            "colorbar": {
             "outlinewidth": 0,
             "ticks": ""
            },
            "type": "contourcarpet"
           }
          ],
          "heatmap": [
           {
            "colorbar": {
             "outlinewidth": 0,
             "ticks": ""
            },
            "colorscale": [
             [
              0,
              "#0d0887"
             ],
             [
              0.1111111111111111,
              "#46039f"
             ],
             [
              0.2222222222222222,
              "#7201a8"
             ],
             [
              0.3333333333333333,
              "#9c179e"
             ],
             [
              0.4444444444444444,
              "#bd3786"
             ],
             [
              0.5555555555555556,
              "#d8576b"
             ],
             [
              0.6666666666666666,
              "#ed7953"
             ],
             [
              0.7777777777777778,
              "#fb9f3a"
             ],
             [
              0.8888888888888888,
              "#fdca26"
             ],
             [
              1,
              "#f0f921"
             ]
            ],
            "type": "heatmap"
           }
          ],
          "heatmapgl": [
           {
            "colorbar": {
             "outlinewidth": 0,
             "ticks": ""
            },
            "colorscale": [
             [
              0,
              "#0d0887"
             ],
             [
              0.1111111111111111,
              "#46039f"
             ],
             [
              0.2222222222222222,
              "#7201a8"
             ],
             [
              0.3333333333333333,
              "#9c179e"
             ],
             [
              0.4444444444444444,
              "#bd3786"
             ],
             [
              0.5555555555555556,
              "#d8576b"
             ],
             [
              0.6666666666666666,
              "#ed7953"
             ],
             [
              0.7777777777777778,
              "#fb9f3a"
             ],
             [
              0.8888888888888888,
              "#fdca26"
             ],
             [
              1,
              "#f0f921"
             ]
            ],
            "type": "heatmapgl"
           }
          ],
          "histogram": [
           {
            "marker": {
             "pattern": {
              "fillmode": "overlay",
              "size": 10,
              "solidity": 0.2
             }
            },
            "type": "histogram"
           }
          ],
          "histogram2d": [
           {
            "colorbar": {
             "outlinewidth": 0,
             "ticks": ""
            },
            "colorscale": [
             [
              0,
              "#0d0887"
             ],
             [
              0.1111111111111111,
              "#46039f"
             ],
             [
              0.2222222222222222,
              "#7201a8"
             ],
             [
              0.3333333333333333,
              "#9c179e"
             ],
             [
              0.4444444444444444,
              "#bd3786"
             ],
             [
              0.5555555555555556,
              "#d8576b"
             ],
             [
              0.6666666666666666,
              "#ed7953"
             ],
             [
              0.7777777777777778,
              "#fb9f3a"
             ],
             [
              0.8888888888888888,
              "#fdca26"
             ],
             [
              1,
              "#f0f921"
             ]
            ],
            "type": "histogram2d"
           }
          ],
          "histogram2dcontour": [
           {
            "colorbar": {
             "outlinewidth": 0,
             "ticks": ""
            },
            "colorscale": [
             [
              0,
              "#0d0887"
             ],
             [
              0.1111111111111111,
              "#46039f"
             ],
             [
              0.2222222222222222,
              "#7201a8"
             ],
             [
              0.3333333333333333,
              "#9c179e"
             ],
             [
              0.4444444444444444,
              "#bd3786"
             ],
             [
              0.5555555555555556,
              "#d8576b"
             ],
             [
              0.6666666666666666,
              "#ed7953"
             ],
             [
              0.7777777777777778,
              "#fb9f3a"
             ],
             [
              0.8888888888888888,
              "#fdca26"
             ],
             [
              1,
              "#f0f921"
             ]
            ],
            "type": "histogram2dcontour"
           }
          ],
          "mesh3d": [
           {
            "colorbar": {
             "outlinewidth": 0,
             "ticks": ""
            },
            "type": "mesh3d"
           }
          ],
          "parcoords": [
           {
            "line": {
             "colorbar": {
              "outlinewidth": 0,
              "ticks": ""
             }
            },
            "type": "parcoords"
           }
          ],
          "pie": [
           {
            "automargin": true,
            "type": "pie"
           }
          ],
          "scatter": [
           {
            "fillpattern": {
             "fillmode": "overlay",
             "size": 10,
             "solidity": 0.2
            },
            "type": "scatter"
           }
          ],
          "scatter3d": [
           {
            "line": {
             "colorbar": {
              "outlinewidth": 0,
              "ticks": ""
             }
            },
            "marker": {
             "colorbar": {
              "outlinewidth": 0,
              "ticks": ""
             }
            },
            "type": "scatter3d"
           }
          ],
          "scattercarpet": [
           {
            "marker": {
             "colorbar": {
              "outlinewidth": 0,
              "ticks": ""
             }
            },
            "type": "scattercarpet"
           }
          ],
          "scattergeo": [
           {
            "marker": {
             "colorbar": {
              "outlinewidth": 0,
              "ticks": ""
             }
            },
            "type": "scattergeo"
           }
          ],
          "scattergl": [
           {
            "marker": {
             "colorbar": {
              "outlinewidth": 0,
              "ticks": ""
             }
            },
            "type": "scattergl"
           }
          ],
          "scattermapbox": [
           {
            "marker": {
             "colorbar": {
              "outlinewidth": 0,
              "ticks": ""
             }
            },
            "type": "scattermapbox"
           }
          ],
          "scatterpolar": [
           {
            "marker": {
             "colorbar": {
              "outlinewidth": 0,
              "ticks": ""
             }
            },
            "type": "scatterpolar"
           }
          ],
          "scatterpolargl": [
           {
            "marker": {
             "colorbar": {
              "outlinewidth": 0,
              "ticks": ""
             }
            },
            "type": "scatterpolargl"
           }
          ],
          "scatterternary": [
           {
            "marker": {
             "colorbar": {
              "outlinewidth": 0,
              "ticks": ""
             }
            },
            "type": "scatterternary"
           }
          ],
          "surface": [
           {
            "colorbar": {
             "outlinewidth": 0,
             "ticks": ""
            },
            "colorscale": [
             [
              0,
              "#0d0887"
             ],
             [
              0.1111111111111111,
              "#46039f"
             ],
             [
              0.2222222222222222,
              "#7201a8"
             ],
             [
              0.3333333333333333,
              "#9c179e"
             ],
             [
              0.4444444444444444,
              "#bd3786"
             ],
             [
              0.5555555555555556,
              "#d8576b"
             ],
             [
              0.6666666666666666,
              "#ed7953"
             ],
             [
              0.7777777777777778,
              "#fb9f3a"
             ],
             [
              0.8888888888888888,
              "#fdca26"
             ],
             [
              1,
              "#f0f921"
             ]
            ],
            "type": "surface"
           }
          ],
          "table": [
           {
            "cells": {
             "fill": {
              "color": "#EBF0F8"
             },
             "line": {
              "color": "white"
             }
            },
            "header": {
             "fill": {
              "color": "#C8D4E3"
             },
             "line": {
              "color": "white"
             }
            },
            "type": "table"
           }
          ]
         },
         "layout": {
          "annotationdefaults": {
           "arrowcolor": "#2a3f5f",
           "arrowhead": 0,
           "arrowwidth": 1
          },
          "autotypenumbers": "strict",
          "coloraxis": {
           "colorbar": {
            "outlinewidth": 0,
            "ticks": ""
           }
          },
          "colorscale": {
           "diverging": [
            [
             0,
             "#8e0152"
            ],
            [
             0.1,
             "#c51b7d"
            ],
            [
             0.2,
             "#de77ae"
            ],
            [
             0.3,
             "#f1b6da"
            ],
            [
             0.4,
             "#fde0ef"
            ],
            [
             0.5,
             "#f7f7f7"
            ],
            [
             0.6,
             "#e6f5d0"
            ],
            [
             0.7,
             "#b8e186"
            ],
            [
             0.8,
             "#7fbc41"
            ],
            [
             0.9,
             "#4d9221"
            ],
            [
             1,
             "#276419"
            ]
           ],
           "sequential": [
            [
             0,
             "#0d0887"
            ],
            [
             0.1111111111111111,
             "#46039f"
            ],
            [
             0.2222222222222222,
             "#7201a8"
            ],
            [
             0.3333333333333333,
             "#9c179e"
            ],
            [
             0.4444444444444444,
             "#bd3786"
            ],
            [
             0.5555555555555556,
             "#d8576b"
            ],
            [
             0.6666666666666666,
             "#ed7953"
            ],
            [
             0.7777777777777778,
             "#fb9f3a"
            ],
            [
             0.8888888888888888,
             "#fdca26"
            ],
            [
             1,
             "#f0f921"
            ]
           ],
           "sequentialminus": [
            [
             0,
             "#0d0887"
            ],
            [
             0.1111111111111111,
             "#46039f"
            ],
            [
             0.2222222222222222,
             "#7201a8"
            ],
            [
             0.3333333333333333,
             "#9c179e"
            ],
            [
             0.4444444444444444,
             "#bd3786"
            ],
            [
             0.5555555555555556,
             "#d8576b"
            ],
            [
             0.6666666666666666,
             "#ed7953"
            ],
            [
             0.7777777777777778,
             "#fb9f3a"
            ],
            [
             0.8888888888888888,
             "#fdca26"
            ],
            [
             1,
             "#f0f921"
            ]
           ]
          },
          "colorway": [
           "#636efa",
           "#EF553B",
           "#00cc96",
           "#ab63fa",
           "#FFA15A",
           "#19d3f3",
           "#FF6692",
           "#B6E880",
           "#FF97FF",
           "#FECB52"
          ],
          "font": {
           "color": "#2a3f5f"
          },
          "geo": {
           "bgcolor": "white",
           "lakecolor": "white",
           "landcolor": "#E5ECF6",
           "showlakes": true,
           "showland": true,
           "subunitcolor": "white"
          },
          "hoverlabel": {
           "align": "left"
          },
          "hovermode": "closest",
          "mapbox": {
           "style": "light"
          },
          "paper_bgcolor": "white",
          "plot_bgcolor": "#E5ECF6",
          "polar": {
           "angularaxis": {
            "gridcolor": "white",
            "linecolor": "white",
            "ticks": ""
           },
           "bgcolor": "#E5ECF6",
           "radialaxis": {
            "gridcolor": "white",
            "linecolor": "white",
            "ticks": ""
           }
          },
          "scene": {
           "xaxis": {
            "backgroundcolor": "#E5ECF6",
            "gridcolor": "white",
            "gridwidth": 2,
            "linecolor": "white",
            "showbackground": true,
            "ticks": "",
            "zerolinecolor": "white"
           },
           "yaxis": {
            "backgroundcolor": "#E5ECF6",
            "gridcolor": "white",
            "gridwidth": 2,
            "linecolor": "white",
            "showbackground": true,
            "ticks": "",
            "zerolinecolor": "white"
           },
           "zaxis": {
            "backgroundcolor": "#E5ECF6",
            "gridcolor": "white",
            "gridwidth": 2,
            "linecolor": "white",
            "showbackground": true,
            "ticks": "",
            "zerolinecolor": "white"
           }
          },
          "shapedefaults": {
           "line": {
            "color": "#2a3f5f"
           }
          },
          "ternary": {
           "aaxis": {
            "gridcolor": "white",
            "linecolor": "white",
            "ticks": ""
           },
           "baxis": {
            "gridcolor": "white",
            "linecolor": "white",
            "ticks": ""
           },
           "bgcolor": "#E5ECF6",
           "caxis": {
            "gridcolor": "white",
            "linecolor": "white",
            "ticks": ""
           }
          },
          "title": {
           "x": 0.05
          },
          "xaxis": {
           "automargin": true,
           "gridcolor": "white",
           "linecolor": "white",
           "ticks": "",
           "title": {
            "standoff": 15
           },
           "zerolinecolor": "white",
           "zerolinewidth": 2
          },
          "yaxis": {
           "automargin": true,
           "gridcolor": "white",
           "linecolor": "white",
           "ticks": "",
           "title": {
            "standoff": 15
           },
           "zerolinecolor": "white",
           "zerolinewidth": 2
          }
         }
        },
        "title": {
         "text": ""
        },
        "xaxis": {
         "anchor": "y",
         "domain": [
          0,
          1
         ],
         "title": {
          "text": "percent"
         }
        },
        "yaxis": {
         "anchor": "x",
         "categoryarray": [
          "Košický kraj",
          "Banskobystrický kraj",
          "Trnavský kraj",
          "Nitriansky kraj",
          "Prešovský kraj",
          "Trenčiansky kraj",
          "Žilinský kraj",
          "Bratislavský kraj"
         ],
         "categoryorder": "array",
         "domain": [
          0,
          1
         ],
         "title": {
          "text": "region_name"
         }
        }
       }
      }
     },
     "metadata": {},
     "output_type": "display_data"
    }
   ],
   "source": [
    "def compute_groups(data, groupby, chosen_query=\"\", filter_query=\"\"):\n",
    "    \"\"\"\n",
    "    Arguments\n",
    "        filter_query - filters data\n",
    "        chosen_query - will be used to count ratio\n",
    "    \"\"\"\n",
    "    if filter_query != \"\":\n",
    "        data = data.query(filter_query)\n",
    "    if chosen_query != \"\":\n",
    "        selected = data.query(chosen_query)\n",
    "    else:\n",
    "        selected = data\n",
    "    aggregated = selected.groupby(groupby, observed=True)[\"count\"].sum().rename(\"number\").to_frame()\n",
    "    aggregated[\"number_percent\"] = aggregated[\"number\"] / selected[\"count\"].sum() * 100\n",
    "    aggregated[\"total\"] = data.groupby(groupby, observed=True)[\"count\"].sum()\n",
    "    aggregated[\"percent\"] = aggregated[\"number\"] / aggregated[\"total\"] * 100\n",
    "    aggregated = aggregated.reset_index()\n",
    "    return aggregated\n",
    "\n",
    "\n",
    "def plot_groups(data, groupby, value, title=\"\"):\n",
    "    figure = None\n",
    "    if groupby not in [\"NUTS2_CODE\", \"NUTS3_CODE\", \"LAU1_CODE\"]:\n",
    "        # hierarchy = [['state_name', 'ecoregion_name', 'region_name', 'district_name']]\n",
    "        # h = next(filter(lambda p: groupby in p[1], enumerate(hierarchy)), [None])[0]\n",
    "        data = data.sort_values(by=value, ascending=False)\n",
    "        if value == \"percent\":\n",
    "            figure = px.bar(\n",
    "                data,\n",
    "                y=groupby,\n",
    "                color=groupby,\n",
    "                x=\"percent\",\n",
    "                orientation=\"h\",\n",
    "                hover_data=[\"number\", \"percent\"],\n",
    "            )\n",
    "        elif value == \"number\":\n",
    "            figure = px.treemap(\n",
    "                data,\n",
    "                path=[px.Constant(\"all\"), groupby],\n",
    "                values=\"number\",\n",
    "                hover_data=[\"number\", \"number_percent\"],\n",
    "            )\n",
    "    else:\n",
    "        merged = geo_frame.merge(data, on=groupby)\n",
    "        figure = px.choropleth_mapbox(\n",
    "            merged,\n",
    "            geojson=merged.geometry,\n",
    "            locations=merged.index,\n",
    "            color=value,\n",
    "            mapbox_style=\"carto-positron\",\n",
    "            center={\"lat\": 48.6737532, \"lon\": 19.696058},\n",
    "            zoom=7,\n",
    "            opacity=0.5,\n",
    "            hover_data=[\"LAU1\", \"number\", \"percent\"],\n",
    "        )\n",
    "    figure.update_layout(title=title)\n",
    "    return figure\n",
    "\n",
    "\n",
    "data = compute_groups(\n",
    "    table_40,\n",
    "    groupby=\"region_name\",\n",
    "    chosen_query=\"`education` == 'vysokoškolské vzdelanie - 1. stupeň (Bc.)'\",\n",
    ")\n",
    "fig = plot_groups(data, groupby=\"region_name\", value=\"percent\")\n",
    "fig.show()"
   ]
  },
  {
   "cell_type": "code",
   "execution_count": 9,
   "metadata": {},
   "outputs": [],
   "source": [
    "ATTR_SELECTOR_MAP = {\n",
    "    # lambda for lazyness\n",
    "    \"category\": lambda data, attr, type: dcc.Dropdown(\n",
    "        # Mark selector element with type and attr to find then\n",
    "        id={\"type\": type, \"attr\": attr},\n",
    "        # attr must be of type `category`\n",
    "        options=data[attr].cat.categories,\n",
    "        persistence=True,\n",
    "        multi=True,\n",
    "    ),\n",
    "    \"int64\": lambda data, attr, type: dcc.RangeSlider(\n",
    "        id={\"type\": type, \"attr\": attr},\n",
    "        min=data[attr].min(),\n",
    "        max=data[attr].max() + 1,\n",
    "        step=1,\n",
    "        marks={\n",
    "            i: str(i)\n",
    "            for i in range(\n",
    "                data[attr].min(),\n",
    "                data[attr].max() + 1,\n",
    "                (data[attr].max() - data[attr].min()) // 10,\n",
    "            )\n",
    "        },\n",
    "        value=[data[attr].min(), data[attr].max() + 1],\n",
    "        persistence=True,\n",
    "    ),\n",
    "}\n",
    "\n",
    "ATTR_QUERY_EXPR_MAP = {\n",
    "    # value of a Dropdown is an array of option values\n",
    "    \"category\": lambda attr, entry: (f\"`{attr}`.isin({entry})\"),\n",
    "    # value of a Range Slider is an array of two boundaries\n",
    "    \"int64\": lambda attr, entry: f\"{entry[0]} <= `{attr}` < {entry[1]}\",\n",
    "}\n",
    "\n",
    "TEST_ATTR_FILTER_MAP = {\n",
    "    \"category\": lambda entry: len(entry) > 0,\n",
    "    \"int64\": lambda entry: len(entry) == 2,\n",
    "}\n",
    "\n",
    "\n",
    "def get_selectivity(data, attributes, type):\n",
    "    return [\n",
    "        html.Div(\n",
    "            [\n",
    "                html.H4(f\"Select {data[attr].name}\"),\n",
    "                # Choose appropriate 'selector' according to attr type\n",
    "                # Cause error by calling None in case of unmatched type\n",
    "                ATTR_SELECTOR_MAP.get(str(data[attr].dtype).lower(), None)(\n",
    "                    data, attr, type\n",
    "                ),\n",
    "            ]\n",
    "        )\n",
    "        for attr in attributes\n",
    "    ]\n",
    "\n",
    "\n",
    "def form_query(data, selectors, attrs):\n",
    "    return \" and \".join(\n",
    "        [\n",
    "            ATTR_QUERY_EXPR_MAP.get(str(data[attr].dtype).lower(), None)(attr, entry)\n",
    "            for attr, entry in zip(attrs, selectors)\n",
    "            if entry is not None\n",
    "            and TEST_ATTR_FILTER_MAP.get(str(data[attr].dtype).lower(), None)(entry)\n",
    "        ]\n",
    "    )\n",
    "\n",
    "\n",
    "def big_annotation(text: str, color: str):\n",
    "    return dict(\n",
    "        name=\"draft watermark\",\n",
    "        text=text.upper(),\n",
    "        textangle=-30,\n",
    "        opacity=0.1,\n",
    "        font=dict(color=color, size=100),\n",
    "        xref=\"paper\",\n",
    "        yref=\"paper\",\n",
    "        x=0.5,\n",
    "        y=0.5,\n",
    "        showarrow=False,\n",
    "    )"
   ]
  },
  {
   "cell_type": "code",
   "execution_count": 16,
   "metadata": {},
   "outputs": [
    {
     "data": {
      "text/html": [
       "\n",
       "        <iframe\n",
       "            width=\"100%\"\n",
       "            height=\"650\"\n",
       "            src=\"http://127.0.0.1:8054/\"\n",
       "            frameborder=\"0\"\n",
       "            allowfullscreen\n",
       "            \n",
       "        ></iframe>\n",
       "        "
      ],
      "text/plain": [
       "<IPython.lib.display.IFrame at 0x7fd517bdff50>"
      ]
     },
     "metadata": {},
     "output_type": "display_data"
    },
    {
     "name": "stderr",
     "output_type": "stream",
     "text": [
      "/home/hann/Projects/mathprofi-education/.venv/lib/python3.11/site-packages/plotly/express/_core.py:1706: FutureWarning:\n",
      "\n",
      "The default of observed=False is deprecated and will be changed to True in a future version of pandas. Pass observed=False to retain current behavior or observed=True to adopt the future default and silence this warning.\n",
      "\n"
     ]
    }
   ],
   "source": [
    "# %%script true # Skip\n",
    "from dash import Dash, dcc, html, Input, Output, State, ALL, MATCH\n",
    "from dash.exceptions import PreventUpdate\n",
    "\n",
    "app = Dash(__name__)\n",
    "\n",
    "figure = go.Figure()\n",
    "figure.add_annotation(big_annotation(\"START\", \"black\"))\n",
    "\n",
    "app.layout = html.Div(\n",
    "    [\n",
    "        html.Div(\n",
    "            [\n",
    "                html.H4(\"Enter title\"),\n",
    "                dcc.Input(\n",
    "                    id=\"title\", type=\"text\", persistence=True, style={\"width\": \"100%\"}\n",
    "                ),\n",
    "                html.H4(\"Select table\"),\n",
    "                dcc.Dropdown(\n",
    "                    id=\"table-index\",\n",
    "                    options=[\n",
    "                        {\"value\": v, \"label\": l} for v, l in enumerate(table_names)\n",
    "                    ],\n",
    "                    persistence=True,\n",
    "                ),\n",
    "                html.H4(\"Select groupby\"),\n",
    "                dcc.Dropdown(\n",
    "                    id=\"groupby\",\n",
    "                    persistence=True,\n",
    "                ),\n",
    "                html.H4(\"Select display value\"),\n",
    "                dcc.Dropdown(\n",
    "                    [\"number\", \"percent\"],\n",
    "                    \"number\",\n",
    "                    id=\"display-value\",\n",
    "                    persistence=True,\n",
    "                ),\n",
    "                html.H4(\"Select chosen/percented attributes\"),\n",
    "                dcc.Dropdown(\n",
    "                    id=\"chosen-attributes\",\n",
    "                    multi=True,\n",
    "                    persistence=True,\n",
    "                ),\n",
    "                html.H4(\"Select filter attributes\"),\n",
    "                dcc.Dropdown(\n",
    "                    id=\"filter-attributes\",\n",
    "                    multi=True,\n",
    "                    persistence=True,\n",
    "                ),\n",
    "                html.H4(\"Choose zone\"),\n",
    "                html.Div(id=\"choose-zone\"),\n",
    "                html.H4(\"Filter zone\"),\n",
    "                html.Div(id=\"filter-zone\"),\n",
    "            ],\n",
    "            style={\"flex\": 1, \"minWidth\": 400, \"padding\": 10},\n",
    "        ),\n",
    "        # html.Br(),\n",
    "        html.Div(\n",
    "            [\n",
    "                dcc.Graph(\n",
    "                    id=\"line-plot\",\n",
    "                    style={\"aspect-ratio\": \"1.6\"},\n",
    "                    figure=figure,\n",
    "                ),\n",
    "                dcc.Textarea(id=\"function-call\", style={\"width\": \"100%\"}),\n",
    "            ],\n",
    "            style={\"flex\": 2, \"padding\": 10},\n",
    "        ),\n",
    "    ],\n",
    "    style=style | {\"padding\": 10, \"display\": \"flex\", \"flexDirection\": \"row\"},\n",
    ")\n",
    "\n",
    "\n",
    "@app.callback(\n",
    "    Output(\"chosen-attributes\", \"options\"),\n",
    "    Output(\"filter-attributes\", \"options\"),\n",
    "    Output(\"groupby\", \"options\"),\n",
    "    Input(\"table-index\", \"value\"),\n",
    ")\n",
    "def update_attributes(table_index):\n",
    "    if table_index is None:\n",
    "        raise PreventUpdate\n",
    "    return [\n",
    "        {\n",
    "            column: f\"{tables[table_index][column].dtype}: {column}\"\n",
    "            for column in tables[table_index].columns\n",
    "        }\n",
    "    ] * 3\n",
    "\n",
    "\n",
    "# update filters and groupby\n",
    "@app.callback(\n",
    "    Output(\"choose-zone\", \"children\"),\n",
    "    Output(\"filter-zone\", \"children\"),\n",
    "    Input(\"chosen-attributes\", \"value\"),\n",
    "    Input(\"filter-attributes\", \"value\"),\n",
    "    State(\"table-index\", \"value\"),\n",
    ")\n",
    "def update_fg(chosen_attributes, filter_attributes, table_index):\n",
    "    if chosen_attributes is None or filter_attributes is None or table_index is None:\n",
    "        raise PreventUpdate\n",
    "    return [\n",
    "        get_selectivity(tables[table_index], chosen_attributes, type=\"chosen\"),\n",
    "        get_selectivity(tables[table_index], filter_attributes, type=\"filter\"),\n",
    "    ]\n",
    "\n",
    "\n",
    "@app.callback(\n",
    "    Output(\"line-plot\", \"figure\"),\n",
    "    Output(\"function-call\", \"value\"),\n",
    "    Input(\"title\", \"value\"),\n",
    "    Input(\"display-value\", \"value\"),\n",
    "    Input(\"groupby\", \"value\"),\n",
    "    Input({\"type\": \"chosen\", \"attr\": ALL}, \"value\"),\n",
    "    State({\"type\": \"chosen\", \"attr\": ALL}, \"id\"),\n",
    "    Input({\"type\": \"filter\", \"attr\": ALL}, \"value\"),\n",
    "    State({\"type\": \"filter\", \"attr\": ALL}, \"id\"),\n",
    "    State(\"table-index\", \"value\"),\n",
    ")\n",
    "def update_figure(\n",
    "    title,\n",
    "    display_value,\n",
    "    groupby,\n",
    "    chosen,\n",
    "    chosen_id,\n",
    "    filter,\n",
    "    filter_id,\n",
    "    table_index,\n",
    "):\n",
    "    if display_value is None or groupby is None or table_index is None:\n",
    "        raise PreventUpdate\n",
    "\n",
    "    data = tables[table_index]\n",
    "    chosen_query = form_query(data, chosen, [a[\"attr\"] for a in chosen_id])\n",
    "    filter_query = form_query(data, filter, [a[\"attr\"] for a in filter_id])\n",
    "    figure = go.Figure()\n",
    "    try:\n",
    "        data = compute_groups(data, groupby, chosen_query, filter_query)\n",
    "        figure: go.Figure = plot_groups(data, groupby, display_value, title)\n",
    "    except Exception as e:\n",
    "        figure.add_annotation(big_annotation(\"ERROR\", \"red\"))\n",
    "        print(e)\n",
    "    return [\n",
    "        figure,\n",
    "        f\"data = compute_groups({table_names[table_index]!r}, {groupby=!r}, {chosen_query=!r}, {filter_query=!r})\\nfigure = plot_groups(data, {groupby=!r}, value={display_value!r}, {title=!r})\",\n",
    "    ]\n",
    "\n",
    "\n",
    "app.run_server(port=8054, debug=True, use_reloader=True)\n",
    "pass"
   ]
  }
 ],
 "metadata": {
  "kernelspec": {
   "display_name": ".venv",
   "language": "python",
   "name": "python3"
  },
  "language_info": {
   "codemirror_mode": {
    "name": "ipython",
    "version": 3
   },
   "file_extension": ".py",
   "mimetype": "text/x-python",
   "name": "python",
   "nbconvert_exporter": "python",
   "pygments_lexer": "ipython3",
   "version": "3.11.8"
  }
 },
 "nbformat": 4,
 "nbformat_minor": 2
}
